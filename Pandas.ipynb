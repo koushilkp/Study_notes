{
 "cells": [
  {
   "cell_type": "raw",
   "id": "06e77ec9",
   "metadata": {},
   "source": [
    "pandas >> Python Data Analysis\n",
    "EDA >> Exploratory Data Analysis\n",
    ">>> Check the data type of variables/columns/features/attribute ,missing values, distribution of data"
   ]
  },
  {
   "cell_type": "code",
   "execution_count": 2,
   "id": "37d90148",
   "metadata": {},
   "outputs": [],
   "source": [
    "import pandas as pd\n",
    "import numpy as np"
   ]
  },
  {
   "cell_type": "raw",
   "id": "e3d027f0",
   "metadata": {},
   "source": [
    "Data Structure >>> are the set of data elements/values that produce a well organised way of storing and organizing the data"
   ]
  },
  {
   "cell_type": "raw",
   "id": "04e0e087",
   "metadata": {},
   "source": [
    "In pandas we have three major data structure\n",
    "1) Series (1-D) >> Single column\n",
    "> Homogenous data type, Immutable ,values are mutable\n",
    "\n",
    "\n",
    "2) DataFrame (2-D) >>> Rows and Columns\n",
    "> Hetrogeneous Data ,Size mutable ,data mutable\n",
    "> table with rows and columns\n",
    "> 90% of the time we use 2-D Dataframe\n",
    "\n",
    "3.Panel (3-D) > Plane,Row,Column\n",
    "\n",
    "\n",
    "Uses>>>\n",
    "1.Used for working with dataset >> to read csv file, excel file etc\n",
    "2.EDA\n",
    "3.Data Cleaning /Noisy\n",
    "4.Data Manupulation\n",
    "5.Feature Engineering/Feature selection\n",
    " >> Encoding\n",
    " \n",
    " male  >1\n",
    " female >0\n",
    " \n",
    " Bad   0\n",
    " Medium 1\n",
    " Good  2"
   ]
  },
  {
   "cell_type": "code",
   "execution_count": null,
   "id": "4072a2fb",
   "metadata": {},
   "outputs": [],
   "source": [
    "replace({\"male\":0,\"female\":1})"
   ]
  },
  {
   "cell_type": "markdown",
   "id": "176f3875",
   "metadata": {},
   "source": [
    "## 1) DataFrame"
   ]
  },
  {
   "cell_type": "code",
   "execution_count": 3,
   "id": "3964fea6",
   "metadata": {},
   "outputs": [
    {
     "data": {
      "text/html": [
       "<div>\n",
       "<style scoped>\n",
       "    .dataframe tbody tr th:only-of-type {\n",
       "        vertical-align: middle;\n",
       "    }\n",
       "\n",
       "    .dataframe tbody tr th {\n",
       "        vertical-align: top;\n",
       "    }\n",
       "\n",
       "    .dataframe thead th {\n",
       "        text-align: right;\n",
       "    }\n",
       "</style>\n",
       "<table border=\"1\" class=\"dataframe\">\n",
       "  <thead>\n",
       "    <tr style=\"text-align: right;\">\n",
       "      <th></th>\n",
       "    </tr>\n",
       "  </thead>\n",
       "  <tbody>\n",
       "  </tbody>\n",
       "</table>\n",
       "</div>"
      ],
      "text/plain": [
       "Empty DataFrame\n",
       "Columns: []\n",
       "Index: []"
      ]
     },
     "execution_count": 3,
     "metadata": {},
     "output_type": "execute_result"
    }
   ],
   "source": [
    "df =pd.DataFrame()\n",
    "df"
   ]
  },
  {
   "cell_type": "code",
   "execution_count": 4,
   "id": "8b8f5133",
   "metadata": {},
   "outputs": [
    {
     "data": {
      "text/html": [
       "<div>\n",
       "<style scoped>\n",
       "    .dataframe tbody tr th:only-of-type {\n",
       "        vertical-align: middle;\n",
       "    }\n",
       "\n",
       "    .dataframe tbody tr th {\n",
       "        vertical-align: top;\n",
       "    }\n",
       "\n",
       "    .dataframe thead th {\n",
       "        text-align: right;\n",
       "    }\n",
       "</style>\n",
       "<table border=\"1\" class=\"dataframe\">\n",
       "  <thead>\n",
       "    <tr style=\"text-align: right;\">\n",
       "      <th></th>\n",
       "      <th>A</th>\n",
       "    </tr>\n",
       "  </thead>\n",
       "  <tbody>\n",
       "    <tr>\n",
       "      <th>0</th>\n",
       "      <td>10</td>\n",
       "    </tr>\n",
       "    <tr>\n",
       "      <th>1</th>\n",
       "      <td>20</td>\n",
       "    </tr>\n",
       "    <tr>\n",
       "      <th>2</th>\n",
       "      <td>30</td>\n",
       "    </tr>\n",
       "    <tr>\n",
       "      <th>3</th>\n",
       "      <td>40</td>\n",
       "    </tr>\n",
       "  </tbody>\n",
       "</table>\n",
       "</div>"
      ],
      "text/plain": [
       "    A\n",
       "0  10\n",
       "1  20\n",
       "2  30\n",
       "3  40"
      ]
     },
     "execution_count": 4,
     "metadata": {},
     "output_type": "execute_result"
    }
   ],
   "source": [
    "df[\"A\"] = np.array([10,20,30,40])\n",
    "df"
   ]
  },
  {
   "cell_type": "code",
   "execution_count": 6,
   "id": "451eeaa6",
   "metadata": {},
   "outputs": [
    {
     "data": {
      "text/html": [
       "<div>\n",
       "<style scoped>\n",
       "    .dataframe tbody tr th:only-of-type {\n",
       "        vertical-align: middle;\n",
       "    }\n",
       "\n",
       "    .dataframe tbody tr th {\n",
       "        vertical-align: top;\n",
       "    }\n",
       "\n",
       "    .dataframe thead th {\n",
       "        text-align: right;\n",
       "    }\n",
       "</style>\n",
       "<table border=\"1\" class=\"dataframe\">\n",
       "  <thead>\n",
       "    <tr style=\"text-align: right;\">\n",
       "      <th></th>\n",
       "      <th>A</th>\n",
       "      <th>B</th>\n",
       "    </tr>\n",
       "  </thead>\n",
       "  <tbody>\n",
       "    <tr>\n",
       "      <th>0</th>\n",
       "      <td>10</td>\n",
       "      <td>10</td>\n",
       "    </tr>\n",
       "    <tr>\n",
       "      <th>1</th>\n",
       "      <td>20</td>\n",
       "      <td>20</td>\n",
       "    </tr>\n",
       "    <tr>\n",
       "      <th>2</th>\n",
       "      <td>30</td>\n",
       "      <td>30</td>\n",
       "    </tr>\n",
       "    <tr>\n",
       "      <th>3</th>\n",
       "      <td>40</td>\n",
       "      <td>40</td>\n",
       "    </tr>\n",
       "  </tbody>\n",
       "</table>\n",
       "</div>"
      ],
      "text/plain": [
       "    A   B\n",
       "0  10  10\n",
       "1  20  20\n",
       "2  30  30\n",
       "3  40  40"
      ]
     },
     "execution_count": 6,
     "metadata": {},
     "output_type": "execute_result"
    }
   ],
   "source": [
    "df[\"B\"] = np.array([10,20,30,40])\n",
    "df"
   ]
  },
  {
   "cell_type": "markdown",
   "id": "1b65f6f2",
   "metadata": {},
   "source": [
    "## 1) Series()"
   ]
  },
  {
   "cell_type": "code",
   "execution_count": 7,
   "id": "39900250",
   "metadata": {},
   "outputs": [],
   "source": [
    "import pandas as pd"
   ]
  },
  {
   "cell_type": "code",
   "execution_count": null,
   "id": "0df99192",
   "metadata": {},
   "outputs": [],
   "source": [
    "series()>>> 1-D >>array >>> one column of DataFrame\n",
    "syntax >>\n",
    "pd.Series(data,index,dtype)\n",
    "data > we can create series using >>> np.array,dict,list,tuple"
   ]
  },
  {
   "cell_type": "code",
   "execution_count": 9,
   "id": "e2d787f8",
   "metadata": {},
   "outputs": [
    {
     "name": "stdout",
     "output_type": "stream",
     "text": [
      "<class 'pandas.core.series.Series'>\n",
      "\n",
      "Series\n",
      " 0    1\n",
      "1    2\n",
      "2    3\n",
      "3    4\n",
      "dtype: int32\n"
     ]
    }
   ],
   "source": [
    "arr  = np.array([1,2,3,4])\n",
    "series = pd.Series(arr)\n",
    "print(type(series))\n",
    "print()\n",
    "print(\"Series\\n\",series)"
   ]
  },
  {
   "cell_type": "code",
   "execution_count": 10,
   "id": "bba88eff",
   "metadata": {},
   "outputs": [
    {
     "data": {
      "text/plain": [
       "0    a\n",
       "1    b\n",
       "2    c\n",
       "3    d\n",
       "dtype: object"
      ]
     },
     "execution_count": 10,
     "metadata": {},
     "output_type": "execute_result"
    }
   ],
   "source": [
    "arr  = np.array([\"a\",\"b\",\"c\",\"d\"])\n",
    "series = pd.Series(arr)\n",
    "series"
   ]
  },
  {
   "cell_type": "code",
   "execution_count": 11,
   "id": "57a1e638",
   "metadata": {},
   "outputs": [
    {
     "data": {
      "text/plain": [
       "51    a\n",
       "52    b\n",
       "53    c\n",
       "54    d\n",
       "dtype: object"
      ]
     },
     "execution_count": 11,
     "metadata": {},
     "output_type": "execute_result"
    }
   ],
   "source": [
    "arr  = np.array([\"a\",\"b\",\"c\",\"d\"])\n",
    "series = pd.Series(arr,index = [51,52,53,54])\n",
    "series"
   ]
  },
  {
   "cell_type": "code",
   "execution_count": 12,
   "id": "9ab83603",
   "metadata": {},
   "outputs": [
    {
     "data": {
      "text/plain": [
       "a    1\n",
       "b    2\n",
       "c    3\n",
       "d    4\n",
       "dtype: int64"
      ]
     },
     "execution_count": 12,
     "metadata": {},
     "output_type": "execute_result"
    }
   ],
   "source": [
    "dict1 = {\"a\":1,\"b\":2,\"c\":3,\"d\":4}\n",
    "series = pd.Series(dict1)\n",
    "series"
   ]
  },
  {
   "cell_type": "code",
   "execution_count": 13,
   "id": "d31aa582",
   "metadata": {},
   "outputs": [
    {
     "data": {
      "text/plain": [
       "c    3\n",
       "a    1\n",
       "d    4\n",
       "b    2\n",
       "dtype: int64"
      ]
     },
     "execution_count": 13,
     "metadata": {},
     "output_type": "execute_result"
    }
   ],
   "source": [
    "dict1 = {\"a\":1,\"b\":2,\"c\":3,\"d\":4}\n",
    "series = pd.Series(dict1,index =[\"c\",\"a\",\"d\",\"b\"])\n",
    "series"
   ]
  },
  {
   "cell_type": "code",
   "execution_count": 14,
   "id": "f39b2593",
   "metadata": {},
   "outputs": [
    {
     "data": {
      "text/plain": [
       "0    1\n",
       "1    2\n",
       "2    3\n",
       "3    4\n",
       "dtype: int64"
      ]
     },
     "execution_count": 14,
     "metadata": {},
     "output_type": "execute_result"
    }
   ],
   "source": [
    "tup = (1,2,3,4)\n",
    "series = pd.Series(tup)\n",
    "series"
   ]
  },
  {
   "cell_type": "code",
   "execution_count": null,
   "id": "e7967181",
   "metadata": {},
   "outputs": [],
   "source": []
  }
 ],
 "metadata": {
  "kernelspec": {
   "display_name": "Python 3",
   "language": "python",
   "name": "python3"
  },
  "language_info": {
   "codemirror_mode": {
    "name": "ipython",
    "version": 3
   },
   "file_extension": ".py",
   "mimetype": "text/x-python",
   "name": "python",
   "nbconvert_exporter": "python",
   "pygments_lexer": "ipython3",
   "version": "3.8.8"
  }
 },
 "nbformat": 4,
 "nbformat_minor": 5
}
