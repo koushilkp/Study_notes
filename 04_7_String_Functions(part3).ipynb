{
 "cells": [
  {
   "cell_type": "code",
   "execution_count": 1,
   "id": "f006e108",
   "metadata": {},
   "outputs": [
    {
     "name": "stdout",
     "output_type": "stream",
     "text": [
      "2311309373040\n",
      "2311309372880\n"
     ]
    }
   ],
   "source": [
    "a = 257\n",
    "b = 257\n",
    "print(id(a))\n",
    "print(id(b))"
   ]
  },
  {
   "cell_type": "code",
   "execution_count": 2,
   "id": "49b857ae",
   "metadata": {},
   "outputs": [
    {
     "name": "stdout",
     "output_type": "stream",
     "text": [
      "Machine Learning\n"
     ]
    },
    {
     "data": {
      "text/plain": [
       "'Gachine Learninm'"
      ]
     },
     "execution_count": 2,
     "metadata": {},
     "output_type": "execute_result"
    }
   ],
   "source": [
    "str1 = \"Machine Learning\" # Gachine Learninm\n",
    "str1.swapcase\n",
    "print(str1)\n",
    "str1[-1].upper() + str1[1:len(str1)-1] +str1[0].lower() "
   ]
  },
  {
   "cell_type": "code",
   "execution_count": 11,
   "id": "791b1f04",
   "metadata": {},
   "outputs": [
    {
     "data": {
      "text/plain": [
       "'Gachine Learninm'"
      ]
     },
     "execution_count": 11,
     "metadata": {},
     "output_type": "execute_result"
    }
   ],
   "source": [
    "str1[-1].upper() + str1[1:15] +str1[0].lower() "
   ]
  },
  {
   "cell_type": "code",
   "execution_count": 4,
   "id": "458c44b2",
   "metadata": {},
   "outputs": [
    {
     "data": {
      "text/plain": [
       "'TU KA AAYEGA'"
      ]
     },
     "execution_count": 4,
     "metadata": {},
     "output_type": "execute_result"
    }
   ],
   "source": [
    "nana=\"tu ka aayega\"\n",
    "nana.swapcase()"
   ]
  },
  {
   "cell_type": "code",
   "execution_count": null,
   "id": "02ca3b3d",
   "metadata": {},
   "outputs": [],
   "source": []
  },
  {
   "cell_type": "code",
   "execution_count": null,
   "id": "bdadda28",
   "metadata": {},
   "outputs": [],
   "source": []
  },
  {
   "cell_type": "raw",
   "id": "d3421ab2",
   "metadata": {},
   "source": []
  },
  {
   "cell_type": "code",
   "execution_count": 10,
   "id": "7d17a48d",
   "metadata": {},
   "outputs": [
    {
     "data": {
      "text/plain": [
       "16"
      ]
     },
     "execution_count": 10,
     "metadata": {},
     "output_type": "execute_result"
    }
   ],
   "source": [
    "len(str1)"
   ]
  },
  {
   "cell_type": "code",
   "execution_count": null,
   "id": "eb2e0180",
   "metadata": {},
   "outputs": [],
   "source": [
    "str1[-1]+str1[1:]"
   ]
  },
  {
   "cell_type": "code",
   "execution_count": null,
   "id": "37a12c90",
   "metadata": {},
   "outputs": [],
   "source": [
    "str1[-1].upper() + str1[1:-1] + str1[0].upper()"
   ]
  },
  {
   "cell_type": "code",
   "execution_count": 9,
   "id": "4cdec06e",
   "metadata": {},
   "outputs": [
    {
     "data": {
      "text/plain": [
       "'achine Learnin'"
      ]
     },
     "execution_count": 9,
     "metadata": {},
     "output_type": "execute_result"
    }
   ],
   "source": [
    "str1[1:len(str1)-1]"
   ]
  },
  {
   "cell_type": "code",
   "execution_count": 12,
   "id": "f0d5c4a0",
   "metadata": {},
   "outputs": [
    {
     "name": "stdout",
     "output_type": "stream",
     "text": [
      "0 M\n",
      "1 a\n",
      "2 c\n",
      "3 h\n",
      "4 i\n",
      "5 n\n",
      "6 e\n",
      "7  \n",
      "8 L\n",
      "9 e\n",
      "10 a\n",
      "11 r\n",
      "12 n\n",
      "13 i\n",
      "14 n\n",
      "15 g\n"
     ]
    }
   ],
   "source": [
    "str1 = \"Machine Learning\"\n",
    "for index,value in enumerate(str1):\n",
    "    print(index,value)\n",
    "    "
   ]
  },
  {
   "cell_type": "raw",
   "id": "cbfc827c",
   "metadata": {},
   "source": [
    "1) Capitalize()\n",
    "2) upper()\n",
    "3) lower()\n",
    "4) title()\n",
    "5) swapcase()\n",
    "6) lstrip()\n",
    "7) rstrip()\n",
    "8) strip()\n",
    "9) replace()\n",
    "10) split()\n"
   ]
  },
  {
   "cell_type": "markdown",
   "id": "9da97dfd",
   "metadata": {},
   "source": [
    "## 11) join()"
   ]
  },
  {
   "cell_type": "code",
   "execution_count": 14,
   "id": "9b708671",
   "metadata": {},
   "outputs": [
    {
     "name": "stdout",
     "output_type": "stream",
     "text": [
      " Machine learning is a branch of artificial intelligence. \n",
      "(AI) and computer science which focuses on the use of data and algorithms to \n",
      "imitate the way that humans learn. gradually improving its accuracy.\n"
     ]
    }
   ],
   "source": [
    "str1 = \"\"\" Machine learning is a branch of artificial intelligence. \n",
    "(AI) and computer science which focuses on the use of data and algorithms to \n",
    "imitate the way that humans learn. gradually improving its accuracy.\"\"\"\n",
    "print(str1)"
   ]
  },
  {
   "cell_type": "code",
   "execution_count": 19,
   "id": "22d4337d",
   "metadata": {},
   "outputs": [
    {
     "data": {
      "text/plain": [
       "4"
      ]
     },
     "execution_count": 19,
     "metadata": {},
     "output_type": "execute_result"
    }
   ],
   "source": [
    "len(str1.split(\"\"))"
   ]
  },
  {
   "cell_type": "code",
   "execution_count": 23,
   "id": "44722647",
   "metadata": {},
   "outputs": [
    {
     "ename": "SyntaxError",
     "evalue": "invalid syntax (3892803360.py, line 5)",
     "output_type": "error",
     "traceback": [
      "\u001b[1;36m  Input \u001b[1;32mIn [23]\u001b[1;36m\u001b[0m\n\u001b[1;33m    list\"\".joint(str1)\u001b[0m\n\u001b[1;37m        ^\u001b[0m\n\u001b[1;31mSyntaxError\u001b[0m\u001b[1;31m:\u001b[0m invalid syntax\n"
     ]
    }
   ],
   "source": [
    "str1 = \"\"\" Machine learning is a branch of artificial intelligence. \n",
    "(AI) and computer science which focuses on the use of data and algorithms to \n",
    "imitate the way that humans learn. gradually improving its accuracy.\"\"\"\n",
    "list=str1.split(\".\")\n",
    "list\"\".joint(str1)\n",
    "print(list)"
   ]
  },
  {
   "cell_type": "code",
   "execution_count": 26,
   "id": "26c2834b",
   "metadata": {},
   "outputs": [
    {
     "name": "stdout",
     "output_type": "stream",
     "text": [
      "[' hiahuduihddhd   sifh niuefh']\n"
     ]
    }
   ],
   "source": [
    "a=\" hiahuduihddhd   sifh niuefh\"\n",
    "b=a.split(\" \".join(a))\n",
    "# .join(b)\n",
    "# \"  \".join(a)\n",
    "# lis=a.split()\n",
    "# print(lis)\n",
    "# print(\"*\"*100)\n",
    "# \"\".join(list)\n",
    "# print(lis)\n",
    "print(b)"
   ]
  },
  {
   "cell_type": "code",
   "execution_count": 54,
   "id": "41c120f2",
   "metadata": {},
   "outputs": [
    {
     "name": "stdout",
     "output_type": "stream",
     "text": [
      "hudaishdahduhsdiuasiduhihdiasudh\n"
     ]
    }
   ],
   "source": [
    "h =\"hudaishd ahduhsdiu     asiduhi hdiasudh\"\n",
    "list = h.split(\" \")\n",
    "list1 = \"\".join(list)\n",
    "print(list1)"
   ]
  },
  {
   "cell_type": "code",
   "execution_count": null,
   "id": "139b03d0",
   "metadata": {},
   "outputs": [],
   "source": []
  },
  {
   "cell_type": "code",
   "execution_count": null,
   "id": "4e3ffee5",
   "metadata": {},
   "outputs": [],
   "source": []
  },
  {
   "cell_type": "code",
   "execution_count": null,
   "id": "fc7b1dc5",
   "metadata": {},
   "outputs": [],
   "source": []
  },
  {
   "cell_type": "code",
   "execution_count": 6,
   "id": "709efd78",
   "metadata": {},
   "outputs": [],
   "source": [
    "lst = str1.split(KP)"
   ]
  },
  {
   "cell_type": "code",
   "execution_count": 7,
   "id": "71f361c9",
   "metadata": {},
   "outputs": [
    {
     "name": "stdout",
     "output_type": "stream",
     "text": [
      "['Machine Learning']\n"
     ]
    }
   ],
   "source": [
    "print(lst)"
   ]
  },
  {
   "cell_type": "code",
   "execution_count": 27,
   "id": "5285365e",
   "metadata": {},
   "outputs": [
    {
     "name": "stdout",
     "output_type": "stream",
     "text": [
      " Machine learning is a branch of artificial intelligence \n",
      "(AI) and computer science which focuses on the use of data and algorithms to \n",
      "imitate the way that humans learn gradually improving its accuracy\n"
     ]
    }
   ],
   "source": [
    "print(\"\".join(lst))"
   ]
  },
  {
   "cell_type": "code",
   "execution_count": 31,
   "id": "39225444",
   "metadata": {},
   "outputs": [
    {
     "data": {
      "text/plain": [
       "['MACHINE LEARNING', ' AND DATA SCIENCE']"
      ]
     },
     "execution_count": 31,
     "metadata": {},
     "output_type": "execute_result"
    }
   ],
   "source": [
    "str1 = \"MACHINE LEARNING_ AND DATA SCIENCE\"\n",
    "lst = str1.split(\"_\")\n",
    "lst"
   ]
  },
  {
   "cell_type": "code",
   "execution_count": 32,
   "id": "bb324bc7",
   "metadata": {},
   "outputs": [
    {
     "data": {
      "text/plain": [
       "'MACHINE LEARNING AND DATA SCIENCE'"
      ]
     },
     "execution_count": 32,
     "metadata": {},
     "output_type": "execute_result"
    }
   ],
   "source": [
    "\"\".join(lst)"
   ]
  },
  {
   "cell_type": "markdown",
   "id": "af12253f",
   "metadata": {},
   "source": [
    "## 12) count()"
   ]
  },
  {
   "cell_type": "code",
   "execution_count": 10,
   "id": "96cfd85f",
   "metadata": {},
   "outputs": [
    {
     "data": {
      "text/plain": [
       "1"
      ]
     },
     "execution_count": 10,
     "metadata": {},
     "output_type": "execute_result"
    }
   ],
   "source": [
    "# count(substring,start_index,end_index)\n",
    "str1 = \"MACHINE ALEARNING\"\n",
    "str1.count(\"A\")\n",
    "kp=\"jiofwef\"\n",
    "kp.count(\"i\")"
   ]
  },
  {
   "cell_type": "code",
   "execution_count": 39,
   "id": "397fb6a2",
   "metadata": {},
   "outputs": [
    {
     "data": {
      "text/plain": [
       "2"
      ]
     },
     "execution_count": 39,
     "metadata": {},
     "output_type": "execute_result"
    }
   ],
   "source": [
    "str1.count(\"A\",4,12)"
   ]
  },
  {
   "cell_type": "code",
   "execution_count": 38,
   "id": "37ba5538",
   "metadata": {},
   "outputs": [
    {
     "data": {
      "text/plain": [
       "12"
      ]
     },
     "execution_count": 38,
     "metadata": {},
     "output_type": "execute_result"
    }
   ],
   "source": [
    "str1.index(\"R\")"
   ]
  },
  {
   "cell_type": "markdown",
   "id": "daf21db7",
   "metadata": {},
   "source": [
    "## 13) index()"
   ]
  },
  {
   "cell_type": "raw",
   "id": "c1313f0b",
   "metadata": {},
   "source": [
    "string.index(substring,start_index,end_index)\n",
    "it return always first index of char/ substring/word occurence only\n",
    "if string not found then it will raise an error\n",
    "# it reads from left to right (+ve indexing only)"
   ]
  },
  {
   "cell_type": "code",
   "execution_count": 42,
   "id": "2512e544",
   "metadata": {},
   "outputs": [
    {
     "data": {
      "text/plain": [
       "15"
      ]
     },
     "execution_count": 42,
     "metadata": {},
     "output_type": "execute_result"
    }
   ],
   "source": [
    "str1 = \"Machine Learning\"\n",
    "str1.index(\"g\")"
   ]
  },
  {
   "cell_type": "code",
   "execution_count": 43,
   "id": "d27c8496",
   "metadata": {},
   "outputs": [
    {
     "ename": "ValueError",
     "evalue": "substring not found",
     "output_type": "error",
     "traceback": [
      "\u001b[1;31m---------------------------------------------------------------------------\u001b[0m",
      "\u001b[1;31mValueError\u001b[0m                                Traceback (most recent call last)",
      "\u001b[1;32m~\\AppData\\Local\\Temp/ipykernel_11548/2715629685.py\u001b[0m in \u001b[0;36m<module>\u001b[1;34m\u001b[0m\n\u001b[0;32m      1\u001b[0m \u001b[0mstr1\u001b[0m \u001b[1;33m=\u001b[0m \u001b[1;34m\"Machine Learning\"\u001b[0m\u001b[1;33m\u001b[0m\u001b[1;33m\u001b[0m\u001b[0m\n\u001b[1;32m----> 2\u001b[1;33m \u001b[0mstr1\u001b[0m\u001b[1;33m.\u001b[0m\u001b[0mindex\u001b[0m\u001b[1;33m(\u001b[0m\u001b[1;34m\"z\"\u001b[0m\u001b[1;33m)\u001b[0m\u001b[1;33m\u001b[0m\u001b[1;33m\u001b[0m\u001b[0m\n\u001b[0m",
      "\u001b[1;31mValueError\u001b[0m: substring not found"
     ]
    }
   ],
   "source": [
    "str1 = \"Machine Learning\"\n",
    "str1.index(\"z\")"
   ]
  },
  {
   "cell_type": "markdown",
   "id": "0205c0c2",
   "metadata": {},
   "source": [
    "## 14) find"
   ]
  },
  {
   "cell_type": "code",
   "execution_count": null,
   "id": "7323f1db",
   "metadata": {},
   "outputs": [],
   "source": [
    "It is same as index function\n",
    "it return -1 if substring/word not present in given string\n",
    "string.find(substr,start_index,end_index)"
   ]
  },
  {
   "cell_type": "code",
   "execution_count": 44,
   "id": "6d6b9e0d",
   "metadata": {},
   "outputs": [
    {
     "data": {
      "text/plain": [
       "-1"
      ]
     },
     "execution_count": 44,
     "metadata": {},
     "output_type": "execute_result"
    }
   ],
   "source": [
    "str1 = \"Machine Learning\"\n",
    "str1.find(\"z\")"
   ]
  },
  {
   "cell_type": "code",
   "execution_count": 55,
   "id": "dfe23cd6",
   "metadata": {},
   "outputs": [
    {
     "name": "stdout",
     "output_type": "stream",
     "text": [
      "Index >> 0\n",
      "Substring is present\n"
     ]
    }
   ],
   "source": [
    "str1 =\"Python\"\n",
    "index = str1.find(\"P\")\n",
    "print(\"Index >>\",index)\n",
    "\n",
    "if index == -1:\n",
    "    print(\"Substring is not present in given string\")\n",
    "else:\n",
    "    print(\"Substring is present\")\n",
    "    "
   ]
  },
  {
   "cell_type": "code",
   "execution_count": 48,
   "id": "cb263fe5",
   "metadata": {},
   "outputs": [
    {
     "name": "stdout",
     "output_type": "stream",
     "text": [
      "Index >> -1\n",
      "Substring is not present in given string\n"
     ]
    }
   ],
   "source": [
    "str1 =\"Python\"\n",
    "index = str1.find(\"k\")\n",
    "print(\"Index >>\",index)\n",
    "\n",
    "if index == -1:\n",
    "    print(\"Substring is not present in given string\")\n",
    "else:\n",
    "    print(\"Substring is present\")"
   ]
  },
  {
   "cell_type": "code",
   "execution_count": 49,
   "id": "232f52a7",
   "metadata": {},
   "outputs": [
    {
     "name": "stdout",
     "output_type": "stream",
     "text": [
      "Index >> -1\n",
      "Substring is not present in given string\n"
     ]
    }
   ],
   "source": [
    "str1 =\"Python\"\n",
    "index = str1.find(\"p\")\n",
    "print(\"Index >>\",index)\n",
    "\n",
    "if index == -1:\n",
    "    print(\"Substring is not present in given string\")\n",
    "else:\n",
    "    print(\"Substring is present\")"
   ]
  },
  {
   "cell_type": "markdown",
   "id": "e27380df",
   "metadata": {},
   "source": [
    "## 15) endswith()"
   ]
  },
  {
   "cell_type": "raw",
   "id": "7c3cfc0a",
   "metadata": {},
   "source": [
    "it will return True/False"
   ]
  },
  {
   "cell_type": "code",
   "execution_count": 50,
   "id": "90b6c509",
   "metadata": {},
   "outputs": [
    {
     "data": {
      "text/plain": [
       "True"
      ]
     },
     "execution_count": 50,
     "metadata": {},
     "output_type": "execute_result"
    }
   ],
   "source": [
    "str1 = \"Machine Learning\"\n",
    "str1.endswith(\"g\")"
   ]
  },
  {
   "cell_type": "code",
   "execution_count": 51,
   "id": "afb489b6",
   "metadata": {},
   "outputs": [
    {
     "data": {
      "text/plain": [
       "False"
      ]
     },
     "execution_count": 51,
     "metadata": {},
     "output_type": "execute_result"
    }
   ],
   "source": [
    "str1.endswith(\"p\")"
   ]
  },
  {
   "cell_type": "code",
   "execution_count": 52,
   "id": "faa64523",
   "metadata": {},
   "outputs": [
    {
     "data": {
      "text/plain": [
       "True"
      ]
     },
     "execution_count": 52,
     "metadata": {},
     "output_type": "execute_result"
    }
   ],
   "source": [
    "str1.endswith(\"ng\")"
   ]
  },
  {
   "cell_type": "code",
   "execution_count": 61,
   "id": "9a3383ad",
   "metadata": {},
   "outputs": [
    {
     "name": "stdout",
     "output_type": "stream",
     "text": [
      "Path of file>>> E:\\27_JUNE_2022\\4_7_String\n",
      "['.ipynb_checkpoints', '04_7_String_Functions.ipynb', 'autos_dataset.csv', 'customer_with_cid_tma_16122021.xls', 'DataType.py', 'diabetes.csv', 'Sales_data.csv']\n",
      "CSV file name autos_dataset.csv\n",
      "CSV file name diabetes.csv\n",
      "CSV file name Sales_data.csv\n"
     ]
    }
   ],
   "source": [
    "path_file = r\"E:\\27_JUNE_2022\\4_7_String\"\n",
    "print(\"Path of file>>>\",path_file)\n",
    "file_list = os.listdir(path_file)\n",
    "print(file_list)\n",
    "for file in file_list:\n",
    "    if file.endswith(\".csv\"):\n",
    "        print(\"CSV file name\",file)"
   ]
  },
  {
   "cell_type": "code",
   "execution_count": 64,
   "id": "f905bc19",
   "metadata": {},
   "outputs": [
    {
     "name": "stdout",
     "output_type": "stream",
     "text": [
      "Path of file>>> E:\\27_JUNE_2022\\4_7_String\n",
      "['.ipynb_checkpoints', '04_7_String_Functions.ipynb', 'autos_dataset.csv', 'customer_with_cid_tma_16122021.xls', 'DataType.py', 'diabetes.csv', 'Sales_data.csv']\n",
      "\n",
      "Excel file name>>>> customer_with_cid_tma_16122021.xls\n"
     ]
    }
   ],
   "source": [
    "path_file = r\"E:\\27_JUNE_2022\\4_7_String\"\n",
    "print(\"Path of file>>>\",path_file)\n",
    "file_list = os.listdir(path_file)\n",
    "print(file_list)\n",
    "print()\n",
    "for file in file_list:\n",
    "    if file.endswith(\".xls\"):\n",
    "        print(\"Excel file name>>>>\",file)"
   ]
  },
  {
   "cell_type": "code",
   "execution_count": 55,
   "id": "5e684e7c",
   "metadata": {},
   "outputs": [
    {
     "data": {
      "text/plain": [
       "'E:\\\\27_JUNE_2022\\\\4_7_String'"
      ]
     },
     "execution_count": 55,
     "metadata": {},
     "output_type": "execute_result"
    }
   ],
   "source": [
    "import os\n",
    "os.getcwd()"
   ]
  },
  {
   "cell_type": "markdown",
   "id": "2418d16a",
   "metadata": {},
   "source": [
    "## 16) startswith()"
   ]
  },
  {
   "cell_type": "code",
   "execution_count": 66,
   "id": "8872e772",
   "metadata": {},
   "outputs": [
    {
     "data": {
      "text/plain": [
       "True"
      ]
     },
     "execution_count": 66,
     "metadata": {},
     "output_type": "execute_result"
    }
   ],
   "source": [
    "str1 = \"Machine Learning\"\n",
    "str1.startswith(\"M\")"
   ]
  },
  {
   "cell_type": "code",
   "execution_count": 67,
   "id": "23af8f7c",
   "metadata": {},
   "outputs": [
    {
     "data": {
      "text/plain": [
       "True"
      ]
     },
     "execution_count": 67,
     "metadata": {},
     "output_type": "execute_result"
    }
   ],
   "source": [
    "str1.startswith(\"Ma\")"
   ]
  },
  {
   "cell_type": "code",
   "execution_count": 68,
   "id": "02145650",
   "metadata": {},
   "outputs": [
    {
     "data": {
      "text/plain": [
       "False"
      ]
     },
     "execution_count": 68,
     "metadata": {},
     "output_type": "execute_result"
    }
   ],
   "source": [
    "str1.startswith(\"aM\")"
   ]
  },
  {
   "cell_type": "code",
   "execution_count": 72,
   "id": "9c8fec79",
   "metadata": {},
   "outputs": [
    {
     "name": "stdout",
     "output_type": "stream",
     "text": [
      "Given list is >>> ['Mr.Virat', 'Mr.Suraj', 'Miss.Priya', 'Ganesh', 'Mahesh', 'Mr.Sachin', 'Miss.Jyoti']\n",
      "\n",
      "Name is>>> Mr.Virat\n",
      "Name is>>> Mr.Suraj\n",
      "Name is>>> Mr.Sachin\n"
     ]
    }
   ],
   "source": [
    "lst1 = [\"Mr.Virat\",\"Mr.Suraj\",\"Miss.Priya\",\"Ganesh\",\"Mahesh\",\"Mr.Sachin\",\"Miss.Jyoti\"]\n",
    "print(\"Given list is >>>\",lst1)\n",
    "print()\n",
    "for item in lst1:\n",
    "    if item.startswith(\"Mr.\"):\n",
    "        print(\"Name is>>>\",item)"
   ]
  },
  {
   "cell_type": "code",
   "execution_count": 74,
   "id": "d1b818a7",
   "metadata": {},
   "outputs": [
    {
     "name": "stdout",
     "output_type": "stream",
     "text": [
      "Given list is >>> ['Mr.Virat', 'Mr.Suraj', 'Miss.Priya', 'Ganesh', 'Mahesh', 'Mr.Sachin', 'Miss.Jyoti']\n",
      "\n",
      "Name is>>> Miss.Priya\n",
      "Name is>>> Miss.Jyoti\n"
     ]
    }
   ],
   "source": [
    "lst1 = [\"Mr.Virat\",\"Mr.Suraj\",\"Miss.Priya\",\"Ganesh\",\"Mahesh\",\"Mr.Sachin\",\"Miss.Jyoti\"]\n",
    "print(\"Given list is >>>\",lst1)\n",
    "print()\n",
    "for item in lst1:\n",
    "    if item.startswith(\"Miss.\"):\n",
    "        print(\"Name is>>>\",item)"
   ]
  },
  {
   "cell_type": "code",
   "execution_count": 77,
   "id": "6257e2a1",
   "metadata": {},
   "outputs": [
    {
     "name": "stdout",
     "output_type": "stream",
     "text": [
      "Given list is >>> ['Mr.Virat', 'Mr.Suraj', 'Miss.Priya', 'Ganesh', 'Mahesh', 'Mr.Sachin', 'Miss.Jyoti']\n",
      "\n",
      "Name is>>> Ganesh\n",
      "Name is>>> Mahesh\n"
     ]
    }
   ],
   "source": [
    "lst1 = [\"Mr.Virat\",\"Mr.Suraj\",\"Miss.Priya\",\"Ganesh\",\"Mahesh\",\"Mr.Sachin\",\"Miss.Jyoti\"]\n",
    "print(\"Given list is >>>\",lst1)\n",
    "print()\n",
    "for item in lst1:\n",
    "    if item.endswith(\"sh\"):\n",
    "        print(\"Name is>>>\",item)"
   ]
  },
  {
   "cell_type": "code",
   "execution_count": 73,
   "id": "baff6e6c",
   "metadata": {},
   "outputs": [
    {
     "ename": "AttributeError",
     "evalue": "'list' object has no attribute 'startswith'",
     "output_type": "error",
     "traceback": [
      "\u001b[1;31m---------------------------------------------------------------------------\u001b[0m",
      "\u001b[1;31mAttributeError\u001b[0m                            Traceback (most recent call last)",
      "\u001b[1;32m~\\AppData\\Local\\Temp/ipykernel_11548/3923886679.py\u001b[0m in \u001b[0;36m<module>\u001b[1;34m\u001b[0m\n\u001b[1;32m----> 1\u001b[1;33m \u001b[0mlst1\u001b[0m\u001b[1;33m.\u001b[0m\u001b[0mstartswith\u001b[0m\u001b[1;33m(\u001b[0m\u001b[1;34m\"Mr.\"\u001b[0m\u001b[1;33m)\u001b[0m\u001b[1;33m\u001b[0m\u001b[1;33m\u001b[0m\u001b[0m\n\u001b[0m",
      "\u001b[1;31mAttributeError\u001b[0m: 'list' object has no attribute 'startswith'"
     ]
    }
   ],
   "source": [
    "lst1.startswith(\"Mr.\")"
   ]
  },
  {
   "cell_type": "markdown",
   "id": "5c8064ca",
   "metadata": {},
   "source": [
    "## 17)isalnum()"
   ]
  },
  {
   "cell_type": "raw",
   "id": "98f7a972",
   "metadata": {},
   "source": [
    "It return True/ False\n",
    "True > is string is alphanumeric\n",
    "a-z,A-Z,0-9 but it not allow any special char, spaces and underscore"
   ]
  },
  {
   "cell_type": "code",
   "execution_count": 78,
   "id": "95eb0edc",
   "metadata": {},
   "outputs": [
    {
     "data": {
      "text/plain": [
       "True"
      ]
     },
     "execution_count": 78,
     "metadata": {},
     "output_type": "execute_result"
    }
   ],
   "source": [
    "str1 = \"Python\"\n",
    "str1.isalnum()"
   ]
  },
  {
   "cell_type": "code",
   "execution_count": 79,
   "id": "d3ced139",
   "metadata": {},
   "outputs": [
    {
     "data": {
      "text/plain": [
       "True"
      ]
     },
     "execution_count": 79,
     "metadata": {},
     "output_type": "execute_result"
    }
   ],
   "source": [
    "str1 = \"Python1\"\n",
    "str1.isalnum()"
   ]
  },
  {
   "cell_type": "code",
   "execution_count": 80,
   "id": "5447251e",
   "metadata": {},
   "outputs": [
    {
     "data": {
      "text/plain": [
       "False"
      ]
     },
     "execution_count": 80,
     "metadata": {},
     "output_type": "execute_result"
    }
   ],
   "source": [
    "str1 = \"Pyt hon1\"\n",
    "str1.isalnum()"
   ]
  },
  {
   "cell_type": "code",
   "execution_count": 81,
   "id": "78610c7e",
   "metadata": {},
   "outputs": [
    {
     "data": {
      "text/plain": [
       "False"
      ]
     },
     "execution_count": 81,
     "metadata": {},
     "output_type": "execute_result"
    }
   ],
   "source": [
    "str1 = \"Pyt_hon1\"\n",
    "str1.isalnum()"
   ]
  },
  {
   "cell_type": "code",
   "execution_count": 82,
   "id": "f4b25d42",
   "metadata": {},
   "outputs": [
    {
     "data": {
      "text/plain": [
       "False"
      ]
     },
     "execution_count": 82,
     "metadata": {},
     "output_type": "execute_result"
    }
   ],
   "source": [
    "str1 = \"Python#\"\n",
    "str1.isalnum()"
   ]
  },
  {
   "cell_type": "code",
   "execution_count": 83,
   "id": "c93a46d9",
   "metadata": {},
   "outputs": [
    {
     "data": {
      "text/plain": [
       "False"
      ]
     },
     "execution_count": 83,
     "metadata": {},
     "output_type": "execute_result"
    }
   ],
   "source": [
    "str1 = \"Python_\"\n",
    "str1.isalnum()"
   ]
  },
  {
   "cell_type": "markdown",
   "id": "3ac5ec80",
   "metadata": {},
   "source": [
    "## 18) isalpha()"
   ]
  },
  {
   "cell_type": "raw",
   "id": "8a3575f6",
   "metadata": {},
   "source": [
    "It return True / False\n",
    "True > only alphabets (A-Z,a-z)\n",
    "not allowed any special char, spaces, numbers and underscore"
   ]
  },
  {
   "cell_type": "code",
   "execution_count": 84,
   "id": "3bddad0e",
   "metadata": {},
   "outputs": [
    {
     "data": {
      "text/plain": [
       "True"
      ]
     },
     "execution_count": 84,
     "metadata": {},
     "output_type": "execute_result"
    }
   ],
   "source": [
    "str1 =\"python\"\n",
    "str1.isalpha()"
   ]
  },
  {
   "cell_type": "code",
   "execution_count": 85,
   "id": "15670637",
   "metadata": {},
   "outputs": [
    {
     "data": {
      "text/plain": [
       "True"
      ]
     },
     "execution_count": 85,
     "metadata": {},
     "output_type": "execute_result"
    }
   ],
   "source": [
    "str1 =\"PYTHON\"\n",
    "str1.isalpha()"
   ]
  },
  {
   "cell_type": "code",
   "execution_count": 86,
   "id": "9f5b5987",
   "metadata": {},
   "outputs": [
    {
     "data": {
      "text/plain": [
       "False"
      ]
     },
     "execution_count": 86,
     "metadata": {},
     "output_type": "execute_result"
    }
   ],
   "source": [
    "str1 =\"PYTHON1\"\n",
    "str1.isalpha()"
   ]
  },
  {
   "cell_type": "code",
   "execution_count": 89,
   "id": "ad2bf17d",
   "metadata": {},
   "outputs": [
    {
     "data": {
      "text/plain": [
       "False"
      ]
     },
     "execution_count": 89,
     "metadata": {},
     "output_type": "execute_result"
    }
   ],
   "source": [
    "str1 =\"PYTHON \"\n",
    "str1.isalpha()"
   ]
  },
  {
   "cell_type": "code",
   "execution_count": 90,
   "id": "7f5b0611",
   "metadata": {},
   "outputs": [
    {
     "data": {
      "text/plain": [
       "True"
      ]
     },
     "execution_count": 90,
     "metadata": {},
     "output_type": "execute_result"
    }
   ],
   "source": [
    "str1 =\"PYTHON \".strip()\n",
    "str1.isalpha()"
   ]
  },
  {
   "cell_type": "markdown",
   "id": "eedff6ec",
   "metadata": {},
   "source": [
    "## 19) isdecimal()"
   ]
  },
  {
   "cell_type": "raw",
   "id": "8a3cb5b4",
   "metadata": {},
   "source": [
    "It return True/False\n",
    "True > if string contain only numbers(0-9)"
   ]
  },
  {
   "cell_type": "code",
   "execution_count": 107,
   "id": "51393f8a",
   "metadata": {},
   "outputs": [
    {
     "data": {
      "text/plain": [
       "['Machine ', ' Learning']"
      ]
     },
     "execution_count": 107,
     "metadata": {},
     "output_type": "execute_result"
    }
   ],
   "source": [
    "str1 =\"Machine and Learning\"\n",
    "str1.split(\"and\")"
   ]
  },
  {
   "cell_type": "code",
   "execution_count": 92,
   "id": "9277d8da",
   "metadata": {},
   "outputs": [
    {
     "data": {
      "text/plain": [
       "True"
      ]
     },
     "execution_count": 92,
     "metadata": {},
     "output_type": "execute_result"
    }
   ],
   "source": [
    "str1 =\"12345\"\n",
    "str1.isdecimal()"
   ]
  },
  {
   "cell_type": "code",
   "execution_count": 93,
   "id": "8869a02f",
   "metadata": {},
   "outputs": [
    {
     "data": {
      "text/plain": [
       "False"
      ]
     },
     "execution_count": 93,
     "metadata": {},
     "output_type": "execute_result"
    }
   ],
   "source": [
    "str1 =\"1111 2222 3333 4444\"\n",
    "str1.isdecimal()"
   ]
  },
  {
   "cell_type": "code",
   "execution_count": 57,
   "id": "71ec7729",
   "metadata": {},
   "outputs": [
    {
     "name": "stdout",
     "output_type": "stream",
     "text": [
      "String>>> 1111 2222 3333 4444\n",
      "False\n",
      "****************************************************************************************************\n",
      "List is >> ['1111', '2222', '3333', '4444']\n",
      "True\n",
      "['1111', '2222', '3333', '4444']\n"
     ]
    }
   ],
   "source": [
    "str1 =\"1111 2222 3333 4444\"\n",
    "print(\"String>>>\",str1)\n",
    "print(str1.isdecimal()) \n",
    "print(\"*\"*100)\n",
    "lst = str1.split()\n",
    "print(\"List is >>\",lst)\n",
    "print(\"\".join(lst).isdecimal())\n",
    "print(lst)"
   ]
  },
  {
   "cell_type": "code",
   "execution_count": 72,
   "id": "efdff761",
   "metadata": {},
   "outputs": [
    {
     "name": "stdout",
     "output_type": "stream",
     "text": [
      "56\n",
      "String>>> 56\n"
     ]
    },
    {
     "ename": "AttributeError",
     "evalue": "'int' object has no attribute 'isdecimal'",
     "output_type": "error",
     "traceback": [
      "\u001b[1;31m---------------------------------------------------------------------------\u001b[0m",
      "\u001b[1;31mAttributeError\u001b[0m                            Traceback (most recent call last)",
      "Input \u001b[1;32mIn [72]\u001b[0m, in \u001b[0;36m<cell line: 4>\u001b[1;34m()\u001b[0m\n\u001b[0;32m      2\u001b[0m \u001b[38;5;66;03m# type(str1)\u001b[39;00m\n\u001b[0;32m      3\u001b[0m \u001b[38;5;28mprint\u001b[39m(\u001b[38;5;124m\"\u001b[39m\u001b[38;5;124mString>>>\u001b[39m\u001b[38;5;124m\"\u001b[39m,str1)\n\u001b[1;32m----> 4\u001b[0m \u001b[38;5;28mprint\u001b[39m(\u001b[43mstr1\u001b[49m\u001b[38;5;241;43m.\u001b[39;49m\u001b[43misdecimal\u001b[49m())\n",
      "\u001b[1;31mAttributeError\u001b[0m: 'int' object has no attribute 'isdecimal'"
     ]
    }
   ],
   "source": [
    "str1 =int(eval(input()))\n",
    "# type(str1)\n",
    "print(\"String>>>\",str1)\n",
    "print(str1.isdecimal())\n",
    "# str2 =int(eval(input()))\n",
    "# print(\"String>>>\",str2)\n",
    "# str2.isdecimal()"
   ]
  },
  {
   "cell_type": "code",
   "execution_count": 106,
   "id": "9553c586",
   "metadata": {},
   "outputs": [
    {
     "name": "stdout",
     "output_type": "stream",
     "text": [
      "String>>> 1111       2222      3333     4444\n",
      "String>>> 1111222233334444\n"
     ]
    },
    {
     "data": {
      "text/plain": [
       "True"
      ]
     },
     "execution_count": 106,
     "metadata": {},
     "output_type": "execute_result"
    }
   ],
   "source": [
    "str1 =\"1111       2222      3333     4444\"\n",
    "print(\"String>>>\",str1)\n",
    "str2 =str1.replace(\" \",\"\")\n",
    "print(\"String>>>\",str2)\n",
    "str2.isdecimal()"
   ]
  },
  {
   "cell_type": "code",
   "execution_count": null,
   "id": "f65e4d0f",
   "metadata": {},
   "outputs": [],
   "source": []
  },
  {
   "cell_type": "code",
   "execution_count": null,
   "id": "d368eb7b",
   "metadata": {},
   "outputs": [],
   "source": []
  },
  {
   "cell_type": "code",
   "execution_count": 74,
   "id": "57ccf0de",
   "metadata": {},
   "outputs": [
    {
     "data": {
      "text/plain": [
       "False"
      ]
     },
     "execution_count": 74,
     "metadata": {},
     "output_type": "execute_result"
    }
   ],
   "source": [
    "koushil=\"kousajiwh\"\n",
    "koushil.isdecimal()"
   ]
  },
  {
   "cell_type": "code",
   "execution_count": null,
   "id": "b79af817",
   "metadata": {},
   "outputs": [],
   "source": []
  },
  {
   "cell_type": "code",
   "execution_count": null,
   "id": "1d5d3ac7",
   "metadata": {},
   "outputs": [],
   "source": []
  }
 ],
 "metadata": {
  "kernelspec": {
   "display_name": "Python 3 (ipykernel)",
   "language": "python",
   "name": "python3"
  },
  "language_info": {
   "codemirror_mode": {
    "name": "ipython",
    "version": 3
   },
   "file_extension": ".py",
   "mimetype": "text/x-python",
   "name": "python",
   "nbconvert_exporter": "python",
   "pygments_lexer": "ipython3",
   "version": "3.10.5"
  }
 },
 "nbformat": 4,
 "nbformat_minor": 5
}
