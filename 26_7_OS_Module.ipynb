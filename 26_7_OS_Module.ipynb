{
 "cells": [
  {
   "cell_type": "code",
   "execution_count": 1,
   "id": "771250f7",
   "metadata": {},
   "outputs": [],
   "source": [
    "with open(\"Evening_batch.txt\",\"w\") as file:\n",
    "    file.write(\"Data Science\")"
   ]
  },
  {
   "cell_type": "code",
   "execution_count": 3,
   "id": "02e2815b",
   "metadata": {},
   "outputs": [],
   "source": [
    "import os\n",
    "os.mkdir(\"Machine_Learning\")"
   ]
  },
  {
   "cell_type": "markdown",
   "id": "2794f273",
   "metadata": {},
   "source": [
    "## shutil"
   ]
  },
  {
   "cell_type": "code",
   "execution_count": null,
   "id": "687a8984",
   "metadata": {},
   "outputs": [],
   "source": [
    "# copy file from one location to anather location (folder)\n",
    "syntax>\n",
    "shutil.copy(source_path,destination_path)"
   ]
  },
  {
   "cell_type": "code",
   "execution_count": 4,
   "id": "d1fe27b3",
   "metadata": {},
   "outputs": [],
   "source": [
    "import shutil"
   ]
  },
  {
   "cell_type": "code",
   "execution_count": 5,
   "id": "e823f56b",
   "metadata": {},
   "outputs": [
    {
     "data": {
      "text/plain": [
       "'Machine_Learning\\\\Evening_batch.txt'"
      ]
     },
     "execution_count": 5,
     "metadata": {},
     "output_type": "execute_result"
    }
   ],
   "source": [
    "source_path = \"Evening_batch.txt\"\n",
    "destination_path = \"Machine_Learning\"\n",
    "shutil.copy(source_path,destination_path)"
   ]
  },
  {
   "cell_type": "markdown",
   "id": "540550db",
   "metadata": {},
   "source": [
    "## os.makedir()"
   ]
  },
  {
   "cell_type": "code",
   "execution_count": null,
   "id": "daca1a6e",
   "metadata": {},
   "outputs": [],
   "source": [
    "#To create folder inside folder"
   ]
  },
  {
   "cell_type": "code",
   "execution_count": 2,
   "id": "850d4636",
   "metadata": {},
   "outputs": [],
   "source": [
    "import os\n",
    "\n",
    "os.makedirs(\"Machine_Learning\\\\Python\")"
   ]
  },
  {
   "cell_type": "code",
   "execution_count": 7,
   "id": "c9cf404d",
   "metadata": {},
   "outputs": [],
   "source": [
    "os.makedirs(\"abc\\cde\")"
   ]
  },
  {
   "cell_type": "code",
   "execution_count": 8,
   "id": "9296031a",
   "metadata": {},
   "outputs": [],
   "source": [
    "os.makedirs(\"abcdf/cdefff\")"
   ]
  },
  {
   "cell_type": "code",
   "execution_count": null,
   "id": "3275410b",
   "metadata": {},
   "outputs": [],
   "source": []
  },
  {
   "cell_type": "markdown",
   "id": "511349a5",
   "metadata": {},
   "source": [
    "# shutil"
   ]
  },
  {
   "cell_type": "code",
   "execution_count": 9,
   "id": "92dd3e1b",
   "metadata": {},
   "outputs": [
    {
     "data": {
      "text/plain": [
       "'abc\\\\cde\\\\Evening_batch.txt'"
      ]
     },
     "execution_count": 9,
     "metadata": {},
     "output_type": "execute_result"
    }
   ],
   "source": [
    "source = \"Evening_batch.txt\"\n",
    "destination = \"abc\\cde\"\n",
    "shutil.copy(source,destination)"
   ]
  },
  {
   "cell_type": "markdown",
   "id": "bc40c0fd",
   "metadata": {},
   "source": [
    "## Change current working dir with Python"
   ]
  },
  {
   "cell_type": "code",
   "execution_count": 2,
   "id": "45782bd6",
   "metadata": {},
   "outputs": [
    {
     "data": {
      "text/plain": [
       "'E:\\\\Python class'"
      ]
     },
     "execution_count": 2,
     "metadata": {},
     "output_type": "execute_result"
    }
   ],
   "source": [
    "import os\n",
    "os.getcwd()"
   ]
  },
  {
   "cell_type": "code",
   "execution_count": 3,
   "id": "e1053659",
   "metadata": {},
   "outputs": [
    {
     "name": "stdout",
     "output_type": "stream",
     "text": [
      "Old dir >>>> E:\\Python class\n"
     ]
    },
    {
     "ename": "FileNotFoundError",
     "evalue": "[WinError 2] The system cannot find the file specified: 'E:\\\\\\\\27_JUNE_2022'",
     "output_type": "error",
     "traceback": [
      "\u001b[1;31m---------------------------------------------------------------------------\u001b[0m",
      "\u001b[1;31mFileNotFoundError\u001b[0m                         Traceback (most recent call last)",
      "Input \u001b[1;32mIn [3]\u001b[0m, in \u001b[0;36m<cell line: 4>\u001b[1;34m()\u001b[0m\n\u001b[0;32m      2\u001b[0m path \u001b[38;5;241m=\u001b[39m \u001b[38;5;124mr\u001b[39m\u001b[38;5;124m\"\u001b[39m\u001b[38;5;124mE:\u001b[39m\u001b[38;5;130;01m\\\\\u001b[39;00m\u001b[38;5;124m27_JUNE_2022\u001b[39m\u001b[38;5;124m\"\u001b[39m\n\u001b[0;32m      3\u001b[0m \u001b[38;5;28mprint\u001b[39m(\u001b[38;5;124m\"\u001b[39m\u001b[38;5;124mOld dir >>>>\u001b[39m\u001b[38;5;124m\"\u001b[39m,os\u001b[38;5;241m.\u001b[39mgetcwd()) \u001b[38;5;66;03m#E:\\\\27_JUNE_2022\\\\26_7_OS_Module'\u001b[39;00m\n\u001b[1;32m----> 4\u001b[0m \u001b[43mos\u001b[49m\u001b[38;5;241;43m.\u001b[39;49m\u001b[43mchdir\u001b[49m\u001b[43m(\u001b[49m\u001b[43mpath\u001b[49m\u001b[43m)\u001b[49m \u001b[38;5;66;03m# change the cwd\u001b[39;00m\n\u001b[0;32m      5\u001b[0m \u001b[38;5;28mprint\u001b[39m(\u001b[38;5;124m\"\u001b[39m\u001b[38;5;124mNew dir >>>>\u001b[39m\u001b[38;5;124m\"\u001b[39m,os\u001b[38;5;241m.\u001b[39mgetcwd())\n",
      "\u001b[1;31mFileNotFoundError\u001b[0m: [WinError 2] The system cannot find the file specified: 'E:\\\\\\\\27_JUNE_2022'"
     ]
    }
   ],
   "source": [
    "import os\n",
    "path = r\"E:\\\\27_JUNE_2022\"\n",
    "print(\"Old dir >>>>\",os.getcwd()) #E:\\\\27_JUNE_2022\\\\26_7_OS_Module'\n",
    "os.chdir(path) # change the cwd\n",
    "print(\"New dir >>>>\",os.getcwd())\n",
    "# os.chdir(\" new path name\")"
   ]
  },
  {
   "cell_type": "code",
   "execution_count": 12,
   "id": "0bfa3ff5",
   "metadata": {},
   "outputs": [
    {
     "data": {
      "text/plain": [
       "['.ipynb_checkpoints',\n",
       " '11_7_Loops',\n",
       " '12_7_Loop',\n",
       " '13_7_While_Loop',\n",
       " '14_7_SetDataType',\n",
       " '15_7_FrozenSet',\n",
       " '18_7_Dict',\n",
       " '19_7_Dict_Functions',\n",
       " '1_7_String',\n",
       " '20_7_FunctionsRecursive_Lambda',\n",
       " '21_7_OtherFunctions_Module',\n",
       " '22_7_Module_FileHandling',\n",
       " '25_7_File_Handlin_OS_Module',\n",
       " '26_7_OS_Module',\n",
       " '27_06_Introduction',\n",
       " '28_06_Introduction_Variable',\n",
       " '29_06_DataTypes_and Type_Casting',\n",
       " '30_06_String',\n",
       " '4_7_String',\n",
       " '5_7_StringFunctions_Operator',\n",
       " '6_7_Operators_List',\n",
       " '7_7_ListFunctions',\n",
       " '8_8_Tuple',\n",
       " 'pp.py']"
      ]
     },
     "execution_count": 12,
     "metadata": {},
     "output_type": "execute_result"
    }
   ],
   "source": [
    "os.listdir(os.getcwd())"
   ]
  },
  {
   "cell_type": "code",
   "execution_count": 13,
   "id": "309d1928",
   "metadata": {},
   "outputs": [],
   "source": [
    "with open(\"sample.txt\",\"w\") as file:\n",
    "    file.write(\"dddd\")"
   ]
  },
  {
   "cell_type": "code",
   "execution_count": 14,
   "id": "06b7e900",
   "metadata": {},
   "outputs": [
    {
     "name": "stdout",
     "output_type": "stream",
     "text": [
      "Old dir >>>> E:\\27_JUNE_2022\n",
      "New dir >>>> E:\\27_JUNE_2022\\26_7_OS_Module\n"
     ]
    }
   ],
   "source": [
    "import os\n",
    "path = \"E://27_JUNE_2022//26_7_OS_Module\"\n",
    "print(\"Old dir >>>>\",os.getcwd()) #E:\\27_JUNE_2022\n",
    "os.chdir(path) # change the cwd\n",
    "print(\"New dir >>>>\",os.getcwd())  # E:\\27_JUNE_2022\\26_7_OS_Module\n"
   ]
  },
  {
   "cell_type": "code",
   "execution_count": 15,
   "id": "4250b5c9",
   "metadata": {},
   "outputs": [],
   "source": [
    "with open(\"sample.txt\",\"w\") as file:\n",
    "    file.write(\"dddd\")"
   ]
  },
  {
   "cell_type": "markdown",
   "id": "00ac24f5",
   "metadata": {},
   "source": [
    "## Datetime"
   ]
  },
  {
   "cell_type": "code",
   "execution_count": 16,
   "id": "011c4583",
   "metadata": {},
   "outputs": [],
   "source": [
    "import time\n",
    "import datetime"
   ]
  },
  {
   "cell_type": "markdown",
   "id": "d880e35c",
   "metadata": {},
   "source": [
    "## 1) time.time()"
   ]
  },
  {
   "cell_type": "code",
   "execution_count": null,
   "id": "0ccb3204",
   "metadata": {},
   "outputs": [],
   "source": [
    "# It will return the seconds from UTC epoch (1st Jan 1970)\n"
   ]
  },
  {
   "cell_type": "code",
   "execution_count": 17,
   "id": "a93297b4",
   "metadata": {},
   "outputs": [
    {
     "data": {
      "text/plain": [
       "1658849275.035714"
      ]
     },
     "execution_count": 17,
     "metadata": {},
     "output_type": "execute_result"
    }
   ],
   "source": [
    "time.time()"
   ]
  },
  {
   "cell_type": "code",
   "execution_count": 18,
   "id": "d2758655",
   "metadata": {},
   "outputs": [
    {
     "name": "stdout",
     "output_type": "stream",
     "text": [
      "Total time >> 0.0009989738464355469\n"
     ]
    }
   ],
   "source": [
    "import time\n",
    "start_time = time.time() \n",
    "for i in range(1000):\n",
    "    pass\n",
    "end_time= time.time()\n",
    "\n",
    "Total_time = end_time - start_time\n",
    "print(\"Total time >>\",Total_time)"
   ]
  },
  {
   "cell_type": "markdown",
   "id": "b843fd71",
   "metadata": {},
   "source": [
    "## 2) time.ctime()"
   ]
  },
  {
   "cell_type": "raw",
   "id": "48d054a0",
   "metadata": {},
   "source": [
    "It will return the current time \n",
    "Syntax >\n",
    "time.ctime()"
   ]
  },
  {
   "cell_type": "code",
   "execution_count": 18,
   "id": "e3db31e7",
   "metadata": {},
   "outputs": [
    {
     "name": "stdout",
     "output_type": "stream",
     "text": [
      "1659211102.3836896\n",
      "\n",
      "Sun Jul 31 01:28:22 2022\n"
     ]
    }
   ],
   "source": [
    "import time\n",
    "import datetime\n",
    "start_time = time.time()\n",
    "print(start_time)\n",
    "print()\n",
    "start_time = time.ctime()\n",
    "print(start_time)"
   ]
  },
  {
   "cell_type": "markdown",
   "id": "b1489bba",
   "metadata": {},
   "source": [
    "## 3) time.localtime()"
   ]
  },
  {
   "cell_type": "code",
   "execution_count": null,
   "id": "eb8c5267",
   "metadata": {},
   "outputs": [],
   "source": [
    "It will  return local time but format will be different\n",
    "Syntax >\n",
    "time.localtime() # It also required arg as seconds"
   ]
  },
  {
   "cell_type": "code",
   "execution_count": 1,
   "id": "cc768dc8",
   "metadata": {},
   "outputs": [
    {
     "data": {
      "text/plain": [
       "time.struct_time(tm_year=2022, tm_mon=7, tm_mday=31, tm_hour=12, tm_min=24, tm_sec=55, tm_wday=6, tm_yday=212, tm_isdst=0)"
      ]
     },
     "execution_count": 1,
     "metadata": {},
     "output_type": "execute_result"
    }
   ],
   "source": [
    "import time\n",
    "seconds = time.time()\n",
    "local_time = time.localtime(seconds)\n",
    "local_time"
   ]
  },
  {
   "cell_type": "markdown",
   "id": "551d9e06",
   "metadata": {},
   "source": [
    "## 4) time.perf_counter()"
   ]
  },
  {
   "cell_type": "code",
   "execution_count": null,
   "id": "0b7bc417",
   "metadata": {},
   "outputs": [],
   "source": [
    "relative_time > It has no relation with real world time\n",
    "> return from current time\n",
    "time.time() # 1st jan 1970"
   ]
  },
  {
   "cell_type": "code",
   "execution_count": 24,
   "id": "ca3200da",
   "metadata": {},
   "outputs": [
    {
     "name": "stdout",
     "output_type": "stream",
     "text": [
      "Start_time>> 1658850125.6325788\n",
      "End_time>>>> 1658850125.6335769\n",
      "Time taken to execute fun is >>>>> 0.0009980201721191406\n"
     ]
    }
   ],
   "source": [
    "def get_time():\n",
    "    for i in range(1000):\n",
    "        pass\n",
    "    \n",
    "start_time = time.time()\n",
    "print(\"Start_time>>\",start_time)\n",
    "get_time() # CALLING FUN\n",
    "\n",
    "end_time = time.time()\n",
    "print(\"End_time>>>>\",end_time)\n",
    "\n",
    "print(\"Time taken to execute fun is >>>>>\",end_time - start_time)\n"
   ]
  },
  {
   "cell_type": "code",
   "execution_count": 16,
   "id": "829f90d0",
   "metadata": {},
   "outputs": [
    {
     "name": "stdout",
     "output_type": "stream",
     "text": [
      "Start_time>> 797267.0553347\n"
     ]
    }
   ],
   "source": [
    "import time\n",
    "# def get_time():\n",
    "#     for i in range(1000):\n",
    "#         pass\n",
    "    \n",
    "start_time = time.perf_counter()\n",
    "print(\"Start_time>>\",start_time)\n",
    "# get_time() # CALLING FUN\n",
    "\n",
    "# end_time = time.perf_counter()\n",
    "# print(\"End_time>>>>\",end_time)\n",
    "\n",
    "# print(\"Time taken to execute fun is >>>>>\",end_time - start_time)\n"
   ]
  },
  {
   "cell_type": "markdown",
   "id": "0128d32f",
   "metadata": {},
   "source": [
    "## 6) time.sleep()"
   ]
  },
  {
   "cell_type": "code",
   "execution_count": null,
   "id": "c8cbe84d",
   "metadata": {},
   "outputs": [],
   "source": [
    "It will suspend operation for the time we giving to function\n",
    "we pass seconds as arg\n"
   ]
  },
  {
   "cell_type": "code",
   "execution_count": 26,
   "id": "7b2a47ad",
   "metadata": {},
   "outputs": [
    {
     "name": "stdout",
     "output_type": "stream",
     "text": [
      "Data science\n",
      "Python\n"
     ]
    }
   ],
   "source": [
    "print(\"Data science\")\n",
    "print(\"Python\")"
   ]
  },
  {
   "cell_type": "code",
   "execution_count": 27,
   "id": "06533693",
   "metadata": {},
   "outputs": [
    {
     "name": "stdout",
     "output_type": "stream",
     "text": [
      "Data science\n",
      "Python\n"
     ]
    }
   ],
   "source": [
    "print(\"Data science\")\n",
    "time.sleep(5)\n",
    "print(\"Python\")"
   ]
  },
  {
   "cell_type": "markdown",
   "id": "c64dc929",
   "metadata": {},
   "source": [
    "## 1.Current Datetime()"
   ]
  },
  {
   "cell_type": "code",
   "execution_count": 28,
   "id": "77cf2196",
   "metadata": {},
   "outputs": [],
   "source": [
    "import datetime"
   ]
  },
  {
   "cell_type": "code",
   "execution_count": 29,
   "id": "f1477147",
   "metadata": {},
   "outputs": [
    {
     "name": "stdout",
     "output_type": "stream",
     "text": [
      "2022-07-26 21:17:53.223764\n"
     ]
    }
   ],
   "source": [
    "current_date = datetime.datetime.now()\n",
    "print(current_date)"
   ]
  },
  {
   "cell_type": "code",
   "execution_count": 30,
   "id": "ea1bbefe",
   "metadata": {},
   "outputs": [
    {
     "name": "stdout",
     "output_type": "stream",
     "text": [
      "2022-07-26 21:17:54.177680\n"
     ]
    }
   ],
   "source": [
    "current_date = datetime.datetime.today()\n",
    "print(current_date)"
   ]
  },
  {
   "cell_type": "code",
   "execution_count": 31,
   "id": "c553c9b7",
   "metadata": {},
   "outputs": [
    {
     "data": {
      "text/plain": [
       "2022"
      ]
     },
     "execution_count": 31,
     "metadata": {},
     "output_type": "execute_result"
    }
   ],
   "source": [
    "current_date.year"
   ]
  },
  {
   "cell_type": "code",
   "execution_count": 32,
   "id": "1ef23b2f",
   "metadata": {},
   "outputs": [
    {
     "data": {
      "text/plain": [
       "7"
      ]
     },
     "execution_count": 32,
     "metadata": {},
     "output_type": "execute_result"
    }
   ],
   "source": [
    "current_date.month"
   ]
  },
  {
   "cell_type": "code",
   "execution_count": 33,
   "id": "9e5605e9",
   "metadata": {},
   "outputs": [
    {
     "data": {
      "text/plain": [
       "26"
      ]
     },
     "execution_count": 33,
     "metadata": {},
     "output_type": "execute_result"
    }
   ],
   "source": [
    "current_date.day"
   ]
  },
  {
   "cell_type": "code",
   "execution_count": 34,
   "id": "2b4097d8",
   "metadata": {},
   "outputs": [
    {
     "data": {
      "text/plain": [
       "21"
      ]
     },
     "execution_count": 34,
     "metadata": {},
     "output_type": "execute_result"
    }
   ],
   "source": [
    "current_date.hour"
   ]
  },
  {
   "cell_type": "code",
   "execution_count": 35,
   "id": "31993afb",
   "metadata": {},
   "outputs": [
    {
     "data": {
      "text/plain": [
       "54"
      ]
     },
     "execution_count": 35,
     "metadata": {},
     "output_type": "execute_result"
    }
   ],
   "source": [
    "current_date.second"
   ]
  },
  {
   "cell_type": "code",
   "execution_count": 36,
   "id": "16219c9a",
   "metadata": {},
   "outputs": [
    {
     "data": {
      "text/plain": [
       "177680"
      ]
     },
     "execution_count": 36,
     "metadata": {},
     "output_type": "execute_result"
    }
   ],
   "source": [
    "current_date.microsecond"
   ]
  },
  {
   "cell_type": "code",
   "execution_count": 39,
   "id": "61d79588",
   "metadata": {},
   "outputs": [
    {
     "name": "stdout",
     "output_type": "stream",
     "text": [
      "2022-07-26\n"
     ]
    }
   ],
   "source": [
    "print(current_date.date())"
   ]
  },
  {
   "cell_type": "markdown",
   "id": "978ddcb9",
   "metadata": {},
   "source": [
    "## timedelta"
   ]
  },
  {
   "cell_type": "code",
   "execution_count": null,
   "id": "28692bf3",
   "metadata": {},
   "outputs": [],
   "source": [
    "> when we want to use>>> to get future datetime or past datetime \n",
    "syntax> \n",
    "datetime.timedelta(arg)\n",
    "arg > days = 0 ,seconds = 0,microseconds=0,minute=0,hours=0,weeks=0\n",
    "# date,months and year"
   ]
  },
  {
   "cell_type": "code",
   "execution_count": 40,
   "id": "23e0ed6c",
   "metadata": {},
   "outputs": [],
   "source": [
    "import datetime"
   ]
  },
  {
   "cell_type": "code",
   "execution_count": 41,
   "id": "3fe083f1",
   "metadata": {},
   "outputs": [
    {
     "name": "stdout",
     "output_type": "stream",
     "text": [
      "2022-07-26\n"
     ]
    }
   ],
   "source": [
    "current_date = datetime.datetime.today().date()\n",
    "print(current_date)\n"
   ]
  },
  {
   "cell_type": "code",
   "execution_count": 42,
   "id": "fea9ffd8",
   "metadata": {},
   "outputs": [
    {
     "name": "stdout",
     "output_type": "stream",
     "text": [
      "2022-08-05\n"
     ]
    }
   ],
   "source": [
    "new_Date = current_date + datetime.timedelta(days=10)\n",
    "print(new_Date)"
   ]
  },
  {
   "cell_type": "code",
   "execution_count": 43,
   "id": "e15ad89b",
   "metadata": {},
   "outputs": [
    {
     "name": "stdout",
     "output_type": "stream",
     "text": [
      "2022-07-16\n"
     ]
    }
   ],
   "source": [
    "new_Date = current_date + datetime.timedelta(days=-10)\n",
    "print(new_Date)"
   ]
  },
  {
   "cell_type": "code",
   "execution_count": 44,
   "id": "fdf5525e",
   "metadata": {},
   "outputs": [
    {
     "name": "stdout",
     "output_type": "stream",
     "text": [
      "2022-08-09\n"
     ]
    }
   ],
   "source": [
    "new_Date = current_date + datetime.timedelta(weeks=2)\n",
    "print(new_Date)"
   ]
  },
  {
   "cell_type": "code",
   "execution_count": 45,
   "id": "413251de",
   "metadata": {},
   "outputs": [
    {
     "name": "stdout",
     "output_type": "stream",
     "text": [
      "2022-07-12\n"
     ]
    }
   ],
   "source": [
    "new_Date = current_date + datetime.timedelta(weeks=-2)\n",
    "print(new_Date)"
   ]
  },
  {
   "cell_type": "code",
   "execution_count": 19,
   "id": "1da3d5b4",
   "metadata": {},
   "outputs": [
    {
     "name": "stdout",
     "output_type": "stream",
     "text": [
      "next date >>> 2022-07-27\n",
      "next date >>> 2022-07-28\n",
      "next date >>> 2022-07-29\n",
      "next date >>> 2022-07-30\n",
      "next date >>> 2022-07-31\n",
      "next date >>> 2022-08-01\n"
     ]
    }
   ],
   "source": [
    "import datetime\n",
    "n = 5\n",
    "for i in range(n+1): # 0,1,2,3,4,5\n",
    "    current_date = datetime.datetime.today().date()\n",
    "    next_Date =current_date+ datetime.timedelta(days=+i)\n",
    "    print(\"next date >>>\",next_Date)"
   ]
  },
  {
   "cell_type": "code",
   "execution_count": 20,
   "id": "8298d777",
   "metadata": {},
   "outputs": [
    {
     "name": "stdout",
     "output_type": "stream",
     "text": [
      "next date >>> 2022-07-27\n",
      "next date >>> 2022-07-26\n",
      "next date >>> 2022-07-25\n",
      "next date >>> 2022-07-24\n",
      "next date >>> 2022-07-23\n",
      "next date >>> 2022-07-22\n"
     ]
    }
   ],
   "source": [
    "n = 5\n",
    "for i in range(n+1): # 0,1,2,3,4,5\n",
    "    current_date = datetime.datetime.now().date()\n",
    "    next_Date = current_date + datetime.timedelta(days = -i)\n",
    "    print(\"next date >>>\",next_Date)"
   ]
  },
  {
   "cell_type": "markdown",
   "id": "ba4981ae",
   "metadata": {},
   "source": [
    "## strftime()"
   ]
  },
  {
   "cell_type": "code",
   "execution_count": null,
   "id": "1a774edd",
   "metadata": {},
   "outputs": [],
   "source": [
    "strftime ()> str > string\n",
    "             f > formatter\n",
    "    \n",
    "strftime > string from time object\n",
    "time to string"
   ]
  },
  {
   "cell_type": "code",
   "execution_count": 5,
   "id": "4711dcd3",
   "metadata": {},
   "outputs": [
    {
     "name": "stdout",
     "output_type": "stream",
     "text": [
      "2022-07-31 12:32:10.371552\n"
     ]
    },
    {
     "data": {
      "text/plain": [
       "'31 07 2022'"
      ]
     },
     "execution_count": 5,
     "metadata": {},
     "output_type": "execute_result"
    }
   ],
   "source": [
    "import datetime\n",
    "new_Date = datetime.datetime.now()\n",
    "print(new_Date)\n",
    "new_Date.strftime(\"%d %m %Y\")"
   ]
  },
  {
   "cell_type": "code",
   "execution_count": 10,
   "id": "6db766b0",
   "metadata": {},
   "outputs": [
    {
     "name": "stdout",
     "output_type": "stream",
     "text": [
      "Day >  28\n",
      "day number>>  209\n",
      "AM/PM>>>>>>>  PM\n",
      "Hours>>>>>>>  07\n",
      "Hours>>>>>>>  19\n",
      "Minutes>>>>>>>  41\n",
      "Seconds>>>>>>>  12\n",
      "MOCROSECONDS>>>>>>>  252210\n"
     ]
    }
   ],
   "source": [
    "# # Year \n",
    "import datetime\n",
    "# print(\"Year > \",new_Date.strftime(\"%Y\")) # 2022\n",
    "# print(\"Year > \",new_Date.strftime(\"%y\")) # 22\n",
    "# mONTH \n",
    "# print(\"Month > \",new_Date.strftime(\"%m\")) #  07\n",
    "# print(\"Month > \",new_Date.strftime(\"%B\")) # July\n",
    "# print(\"Month > \",new_Date.strftime(\"%b\")) # Jul\n",
    "\n",
    "# MONTH \n",
    "# print(\"Month > \",new_Date.strftime(\"%m\")) # month 07\n",
    "# print(\"Month > \",new_Date.strftime(\"%B\")) # July\n",
    "# print(\"Month > \",new_Date.strftime(\"%b\")) # Jul\n",
    "# DAY\n",
    "print(\"Day > \",new_Date.strftime(\"%d\")) # Day 26\n",
    "# Full date\n",
    "# print(\"Date>> \",new_Date.strftime(\"%D\")) # 07/26/22\n",
    "# Weekdays\n",
    "# print(\"Weekdays>> \",new_Date.strftime(\"%A\")) # Tuesday\n",
    "# print(\"Weekdays>> \",new_Date.strftime(\"%a\")) # Tue\n",
    "# print(\"Weekdays>> \",new_Date.strftime(\"%w\")) # week num  sun = 0,mon =1,sat = 6\n",
    "\n",
    "# day number\n",
    "print(\"day number>> \",new_Date.strftime(\"%j\")) # Day number in year 207\n",
    "# AM/PM\n",
    "print(\"AM/PM>>>>>>> \",new_Date.strftime(\"%p\")) # PM\n",
    "print(\"Hours>>>>>>> \",new_Date.strftime(\"%I\")) # Hours in 12\n",
    "print(\"Hours>>>>>>> \",new_Date.strftime(\"%H\")) # in 24\n",
    "print(\"Minutes>>>>>>> \",new_Date.strftime(\"%M\")) # \n",
    "print(\"Seconds>>>>>>> \",new_Date.strftime(\"%S\")) #\n",
    "print(\"MOCROSECONDS>>>>>>> \",new_Date.strftime(\"%f\")) #"
   ]
  },
  {
   "cell_type": "markdown",
   "id": "c1fe9b4f",
   "metadata": {},
   "source": [
    "## strptime()"
   ]
  },
  {
   "cell_type": "code",
   "execution_count": null,
   "id": "2c729a8f",
   "metadata": {},
   "outputs": [],
   "source": [
    "strptime()>  str > string \n",
    "             p > parser\n",
    "    > string format to datetime"
   ]
  },
  {
   "cell_type": "code",
   "execution_count": 12,
   "id": "0982a7c3",
   "metadata": {},
   "outputs": [
    {
     "name": "stdout",
     "output_type": "stream",
     "text": [
      "2022-07-26\n"
     ]
    }
   ],
   "source": [
    "import datetime\n",
    "date = \"26 07 2022\" # %d %m %Y\n",
    "new_Date = datetime.datetime.strptime(date,\"%d %m %Y\")\n",
    "print(new_Date.date())"
   ]
  },
  {
   "cell_type": "code",
   "execution_count": 66,
   "id": "cdc95431",
   "metadata": {},
   "outputs": [
    {
     "name": "stdout",
     "output_type": "stream",
     "text": [
      "2022-07-20\n"
     ]
    }
   ],
   "source": [
    "date = \"20 Jul 2022\" # %d %b %Y\n",
    "new_Date = datetime.datetime.strptime(date,\"%d %b %Y\")\n",
    "print(new_Date.date())"
   ]
  },
  {
   "cell_type": "code",
   "execution_count": 21,
   "id": "2bd8dda7",
   "metadata": {},
   "outputs": [
    {
     "name": "stdout",
     "output_type": "stream",
     "text": [
      "2022-07-20 00:00:00\n"
     ]
    }
   ],
   "source": [
    "import datetime\n",
    "date = \"20 July 2022\"\n",
    "apna=datetime.datetime.strptime(date,\"%d %B %Y\")   # my file\n",
    "print(apna)"
   ]
  },
  {
   "cell_type": "code",
   "execution_count": 4,
   "id": "596ef1e5",
   "metadata": {},
   "outputs": [
    {
     "name": "stdout",
     "output_type": "stream",
     "text": [
      "20/July/22\n",
      "2022-07-20\n"
     ]
    }
   ],
   "source": [
    "import datetime\n",
    "date = \"20/July/22\" # %d/%B/%y\n",
    "print(date)\n",
    "new_Date = datetime.datetime.strptime(date,\"%d/%B/%y\")\n",
    "print(new_Date.date())"
   ]
  },
  {
   "cell_type": "code",
   "execution_count": 6,
   "id": "102cbeaf",
   "metadata": {},
   "outputs": [
    {
     "name": "stdout",
     "output_type": "stream",
     "text": [
      "2022-07-26\n"
     ]
    },
    {
     "ename": "ValueError",
     "evalue": "time data '26-07-2022' does not match format '%d-%b-%y'",
     "output_type": "error",
     "traceback": [
      "\u001b[1;31m---------------------------------------------------------------------------\u001b[0m",
      "\u001b[1;31mValueError\u001b[0m                                Traceback (most recent call last)",
      "Input \u001b[1;32mIn [6]\u001b[0m, in \u001b[0;36m<cell line: 5>\u001b[1;34m()\u001b[0m\n\u001b[0;32m      5\u001b[0m \u001b[38;5;28;01mfor\u001b[39;00m date \u001b[38;5;129;01min\u001b[39;00m date_list:\n\u001b[0;32m      6\u001b[0m     \u001b[38;5;28;01mfor\u001b[39;00m date_format \u001b[38;5;129;01min\u001b[39;00m date_format_list: \u001b[38;5;66;03m# date \"26-07-2022\" ,\"%d-%m-%Y\" 2)\"26/07/2022\"\u001b[39;00m\n\u001b[1;32m----> 7\u001b[0m         date_new \u001b[38;5;241m=\u001b[39m \u001b[43mdatetime\u001b[49m\u001b[38;5;241;43m.\u001b[39;49m\u001b[43mdatetime\u001b[49m\u001b[38;5;241;43m.\u001b[39;49m\u001b[43mstrptime\u001b[49m\u001b[43m(\u001b[49m\u001b[43mdate\u001b[49m\u001b[43m,\u001b[49m\u001b[43mdate_format\u001b[49m\u001b[43m)\u001b[49m\n\u001b[0;32m      8\u001b[0m         \u001b[38;5;28mprint\u001b[39m(date_new\u001b[38;5;241m.\u001b[39mdate())\n",
      "File \u001b[1;32m~\\AppData\\Local\\Programs\\Python\\Python310\\lib\\_strptime.py:568\u001b[0m, in \u001b[0;36m_strptime_datetime\u001b[1;34m(cls, data_string, format)\u001b[0m\n\u001b[0;32m    565\u001b[0m \u001b[38;5;28;01mdef\u001b[39;00m \u001b[38;5;21m_strptime_datetime\u001b[39m(\u001b[38;5;28mcls\u001b[39m, data_string, \u001b[38;5;28mformat\u001b[39m\u001b[38;5;241m=\u001b[39m\u001b[38;5;124m\"\u001b[39m\u001b[38;5;132;01m%a\u001b[39;00m\u001b[38;5;124m \u001b[39m\u001b[38;5;124m%\u001b[39m\u001b[38;5;124mb \u001b[39m\u001b[38;5;132;01m%d\u001b[39;00m\u001b[38;5;124m \u001b[39m\u001b[38;5;124m%\u001b[39m\u001b[38;5;124mH:\u001b[39m\u001b[38;5;124m%\u001b[39m\u001b[38;5;124mM:\u001b[39m\u001b[38;5;124m%\u001b[39m\u001b[38;5;124mS \u001b[39m\u001b[38;5;124m%\u001b[39m\u001b[38;5;124mY\u001b[39m\u001b[38;5;124m\"\u001b[39m):\n\u001b[0;32m    566\u001b[0m     \u001b[38;5;124;03m\"\"\"Return a class cls instance based on the input string and the\u001b[39;00m\n\u001b[0;32m    567\u001b[0m \u001b[38;5;124;03m    format string.\"\"\"\u001b[39;00m\n\u001b[1;32m--> 568\u001b[0m     tt, fraction, gmtoff_fraction \u001b[38;5;241m=\u001b[39m \u001b[43m_strptime\u001b[49m\u001b[43m(\u001b[49m\u001b[43mdata_string\u001b[49m\u001b[43m,\u001b[49m\u001b[43m \u001b[49m\u001b[38;5;28;43mformat\u001b[39;49m\u001b[43m)\u001b[49m\n\u001b[0;32m    569\u001b[0m     tzname, gmtoff \u001b[38;5;241m=\u001b[39m tt[\u001b[38;5;241m-\u001b[39m\u001b[38;5;241m2\u001b[39m:]\n\u001b[0;32m    570\u001b[0m     args \u001b[38;5;241m=\u001b[39m tt[:\u001b[38;5;241m6\u001b[39m] \u001b[38;5;241m+\u001b[39m (fraction,)\n",
      "File \u001b[1;32m~\\AppData\\Local\\Programs\\Python\\Python310\\lib\\_strptime.py:349\u001b[0m, in \u001b[0;36m_strptime\u001b[1;34m(data_string, format)\u001b[0m\n\u001b[0;32m    347\u001b[0m found \u001b[38;5;241m=\u001b[39m format_regex\u001b[38;5;241m.\u001b[39mmatch(data_string)\n\u001b[0;32m    348\u001b[0m \u001b[38;5;28;01mif\u001b[39;00m \u001b[38;5;129;01mnot\u001b[39;00m found:\n\u001b[1;32m--> 349\u001b[0m     \u001b[38;5;28;01mraise\u001b[39;00m \u001b[38;5;167;01mValueError\u001b[39;00m(\u001b[38;5;124m\"\u001b[39m\u001b[38;5;124mtime data \u001b[39m\u001b[38;5;132;01m%r\u001b[39;00m\u001b[38;5;124m does not match format \u001b[39m\u001b[38;5;132;01m%r\u001b[39;00m\u001b[38;5;124m\"\u001b[39m \u001b[38;5;241m%\u001b[39m\n\u001b[0;32m    350\u001b[0m                      (data_string, \u001b[38;5;28mformat\u001b[39m))\n\u001b[0;32m    351\u001b[0m \u001b[38;5;28;01mif\u001b[39;00m \u001b[38;5;28mlen\u001b[39m(data_string) \u001b[38;5;241m!=\u001b[39m found\u001b[38;5;241m.\u001b[39mend():\n\u001b[0;32m    352\u001b[0m     \u001b[38;5;28;01mraise\u001b[39;00m \u001b[38;5;167;01mValueError\u001b[39;00m(\u001b[38;5;124m\"\u001b[39m\u001b[38;5;124munconverted data remains: \u001b[39m\u001b[38;5;132;01m%s\u001b[39;00m\u001b[38;5;124m\"\u001b[39m \u001b[38;5;241m%\u001b[39m\n\u001b[0;32m    353\u001b[0m                       data_string[found\u001b[38;5;241m.\u001b[39mend():])\n",
      "\u001b[1;31mValueError\u001b[0m: time data '26-07-2022' does not match format '%d-%b-%y'"
     ]
    }
   ],
   "source": [
    "import datetime\n",
    "\n",
    "date_list  = [\"26-07-2022\",\"26/07/2022\",\"26 07 2022\",\"26-Jul-2022\"]\n",
    "date_format_list = [\"%d-%m-%Y\",\"%d-%b-%y\",\"%d %m %Y\",\"%d-%b-%Y\",\"%d/%m/%Y\"]\n",
    "for date in date_list:\n",
    "    for date_format in date_format_list: # date \"26-07-2022\" ,\"%d-%m-%Y\" 2)\"26/07/2022\"\n",
    "        date_new = datetime.datetime.strptime(date,date_format)\n",
    "        print(date_new.date())\n",
    "        \n",
    "    "
   ]
  },
  {
   "cell_type": "code",
   "execution_count": 72,
   "id": "087734c1",
   "metadata": {},
   "outputs": [
    {
     "name": "stdout",
     "output_type": "stream",
     "text": [
      "2022-07-26\n",
      "2022-07-26\n",
      "2022-07-26\n",
      "2022-07-26\n"
     ]
    }
   ],
   "source": [
    "date_list  = [\"26-07-2022\",\"26/07/2022\",\"26 07 2022\",\"26-Jul-2022\"]\n",
    "date_format_list = [\"%d-%m-%Y\",\"%d-%b-%y\",\"%d %m %Y\",\"%d-%b-%Y\",\"%d/%m/%Y\"]\n",
    "for date in date_list:\n",
    "    for date_format in date_format_list: # date \"26-07-2022\" ,\"%d-%m-%Y\" 2)\"26/07/2022\"\n",
    "        try:\n",
    "            date_new = datetime.datetime.strptime(date,date_format)\n",
    "            print(date_new.date())\n",
    "        except:\n",
    "            pass\n",
    "        "
   ]
  },
  {
   "cell_type": "code",
   "execution_count": null,
   "id": "47dd186e",
   "metadata": {},
   "outputs": [],
   "source": []
  },
  {
   "cell_type": "code",
   "execution_count": 62,
   "id": "59db636b",
   "metadata": {},
   "outputs": [
    {
     "data": {
      "text/plain": [
       "'2022-07-26'"
      ]
     },
     "execution_count": 62,
     "metadata": {},
     "output_type": "execute_result"
    }
   ],
   "source": [
    "\"2022-07-26\""
   ]
  },
  {
   "cell_type": "code",
   "execution_count": null,
   "id": "3fde9e34",
   "metadata": {},
   "outputs": [],
   "source": []
  },
  {
   "cell_type": "code",
   "execution_count": null,
   "id": "02b9b9ca",
   "metadata": {},
   "outputs": [],
   "source": []
  }
 ],
 "metadata": {
  "kernelspec": {
   "display_name": "Python 3 (ipykernel)",
   "language": "python",
   "name": "python3"
  },
  "language_info": {
   "codemirror_mode": {
    "name": "ipython",
    "version": 3
   },
   "file_extension": ".py",
   "mimetype": "text/x-python",
   "name": "python",
   "nbconvert_exporter": "python",
   "pygments_lexer": "ipython3",
   "version": "3.10.5"
  }
 },
 "nbformat": 4,
 "nbformat_minor": 5
}
