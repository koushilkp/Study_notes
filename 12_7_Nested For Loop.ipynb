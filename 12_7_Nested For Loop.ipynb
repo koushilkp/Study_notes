{
 "cells": [
  {
   "cell_type": "markdown",
   "id": "adcec238",
   "metadata": {},
   "source": [
    "## For Loop inside For Loop"
   ]
  },
  {
   "cell_type": "code",
   "execution_count": null,
   "id": "7e77bdd7",
   "metadata": {},
   "outputs": [],
   "source": [
    "for var1 in sequence-1:\n",
    "    statement-1\n",
    "    \n",
    "    for var2 in  sequence-2:\n",
    "        statement -1\n",
    "\n",
    "    "
   ]
  },
  {
   "cell_type": "code",
   "execution_count": 3,
   "id": "ac3bfe46",
   "metadata": {},
   "outputs": [
    {
     "name": "stdout",
     "output_type": "stream",
     "text": [
      "i == 0\n",
      "Welcome 0\n",
      "Welcome 1\n",
      "Welcome 2\n",
      "Welcome 3\n",
      "Welcome 4\n",
      "i == 1\n",
      "Welcome 0\n",
      "Welcome 1\n",
      "Welcome 2\n",
      "Welcome 3\n",
      "Welcome 4\n",
      "i == 2\n",
      "Welcome 0\n",
      "Welcome 1\n",
      "Welcome 2\n",
      "Welcome 3\n",
      "Welcome 4\n"
     ]
    }
   ],
   "source": [
    "# k=[51,84,94,]\n",
    "for i in range(3):123\n",
    "    print(\"i ==\",i)\n",
    "    for j in range(5): # 0,1,2,3,4\n",
    "        print(\"Welcome\",j)\n",
    "    \n",
    "#   i == 0\n",
    "# Welcome 0\n",
    "# Welcome 1\n",
    "# Welcome 2\n",
    "# Welcome 3\n",
    "# Welcome 4\n",
    "# i == 1\n",
    "# Welcome 0\n",
    "# Welcome 1\n",
    "# Welcome 2\n",
    "# Welcome 3\n",
    "# Welcome 4\n",
    "# i == 2\n",
    "# Welcome 0\n",
    "# Welcome 1\n",
    "# Welcome 2\n",
    "# Welcome 3\n",
    "# Welcome 4\n",
    "\n"
   ]
  },
  {
   "cell_type": "code",
   "execution_count": 4,
   "id": "fe8324df",
   "metadata": {},
   "outputs": [
    {
     "name": "stdout",
     "output_type": "stream",
     "text": [
      "i == 0\n",
      "Welcome 0\n",
      "Welcome 1\n",
      "Welcome 2\n",
      "Welcome 3\n",
      "Welcome 4\n",
      "****************************************************************************************************\n",
      "i == 1\n",
      "Welcome 0\n",
      "Welcome 1\n",
      "Welcome 2\n",
      "Welcome 3\n",
      "Welcome 4\n",
      "****************************************************************************************************\n",
      "i == 2\n",
      "Welcome 0\n",
      "Welcome 1\n",
      "Welcome 2\n",
      "Welcome 3\n",
      "Welcome 4\n",
      "****************************************************************************************************\n"
     ]
    }
   ],
   "source": [
    "for i in range(3):\n",
    "    print(\"i ==\",i)\n",
    "    for j in range(5): # 0,1,2,3,4\n",
    "        print(\"Welcome\",j)\n",
    "    print(\"*\"*100)\n",
    "#   i == 0\n",
    "# Welcome 0\n",
    "# Welcome 1\n",
    "# Welcome 2\n",
    "# Welcome 3\n",
    "# Welcome 4\n",
    "# 100*  \"*\"\n",
    "# i == 1\n",
    "# Welcome 0\n",
    "# Welcome 1\n",
    "# Welcome 2\n",
    "# Welcome 3\n",
    "# Welcome 4\n",
    "# 100*  \"*\"\n",
    "# i == 2\n",
    "# Welcome 0\n",
    "# Welcome 1\n",
    "# Welcome 2\n",
    "# Welcome 3\n",
    "# Welcome 4\n",
    "# 100*  \"*\"\n"
   ]
  },
  {
   "cell_type": "code",
   "execution_count": 5,
   "id": "24525a6b",
   "metadata": {},
   "outputs": [
    {
     "name": "stdout",
     "output_type": "stream",
     "text": [
      "i == 0\n",
      "We are in second for loop, j== 0\n",
      "We are in Third for loop, k== 0\n",
      "We are in Third for loop, k== 1\n",
      "We are in Third for loop, k== 2\n",
      "We are in second for loop, j== 1\n",
      "We are in Third for loop, k== 0\n",
      "We are in Third for loop, k== 1\n",
      "We are in Third for loop, k== 2\n"
     ]
    }
   ],
   "source": [
    "for i in range(3):# 0,1,2\n",
    "    print(\"i ==\",i)\n",
    "    for j in range(2): # 0,1\n",
    "        print(\"We are in second for loop, j==\",j)\n",
    "        for k in range(3): #0,1,2\n",
    "            print(\"We are in Third for loop, k==\",k)\n",
    "    break\n",
    "\n",
    "#   i == 0\n",
    "# We are in second for loop, j==0\n",
    "# We are in Third for loop, k==0\n",
    "# We are in Third for loop, k==1\n",
    "# # We are in Third for loop, k==2\n",
    "# We are in second for loop, j==1\n",
    "# We are in Third for loop, k==0\n",
    "# We are in Third for loop, k==1\n",
    "# # We are in Third for loop, k==2"
   ]
  },
  {
   "cell_type": "code",
   "execution_count": 6,
   "id": "61d61525",
   "metadata": {},
   "outputs": [
    {
     "name": "stdout",
     "output_type": "stream",
     "text": [
      "i == 0\n",
      "We are in second for loop, j== 0\n",
      "We are in Third for loop, k== 0\n",
      "We are in Third for loop, k== 1\n",
      "We are in Third for loop, k== 2\n",
      "We are in second for loop, j== 1\n",
      "We are in Third for loop, k== 0\n",
      "We are in Third for loop, k== 1\n",
      "We are in Third for loop, k== 2\n",
      "****************************************************************************************************\n",
      "i == 1\n",
      "We are in second for loop, j== 0\n",
      "We are in Third for loop, k== 0\n",
      "We are in Third for loop, k== 1\n",
      "We are in Third for loop, k== 2\n",
      "We are in second for loop, j== 1\n",
      "We are in Third for loop, k== 0\n",
      "We are in Third for loop, k== 1\n",
      "We are in Third for loop, k== 2\n",
      "****************************************************************************************************\n",
      "i == 2\n",
      "We are in second for loop, j== 0\n",
      "We are in Third for loop, k== 0\n",
      "We are in Third for loop, k== 1\n",
      "We are in Third for loop, k== 2\n",
      "We are in second for loop, j== 1\n",
      "We are in Third for loop, k== 0\n",
      "We are in Third for loop, k== 1\n",
      "We are in Third for loop, k== 2\n",
      "****************************************************************************************************\n"
     ]
    }
   ],
   "source": [
    "for i in range(3):# 0,1,2\n",
    "    print(\"i ==\",i)\n",
    "    for j in range(2): # 0,1\n",
    "        print(\"We are in second for loop, j==\",j)\n",
    "        for k in range(3): #0,1,2\n",
    "            print(\"We are in Third for loop, k==\",k)\n",
    "    print(\"*\"*100)\n",
    "    \n",
    "\n",
    "#   i == 0\n",
    "# We are in second for loop, j==0\n",
    "# We are in Third for loop, k==0\n",
    "# We are in Third for loop, k==1\n",
    "# # We are in Third for loop, k==2\n",
    "# We are in second for loop, j==1\n",
    "# We are in Third for loop, k==0\n",
    "# We are in Third for loop, k==1\n",
    "# # We are in Third for loop, k==2\n",
    "#*********************************************************\n",
    "#   i == 1\n",
    "# We are in second for loop, j==0\n",
    "# We are in Third for loop, k==0\n",
    "# We are in Third for loop, k==1\n",
    "# # We are in Third for loop, k==2\n",
    "# We are in second for loop, j==1\n",
    "# We are in Third for loop, k==0\n",
    "# We are in Third for loop, k==1\n",
    "# # We are in Third for loop, k==2\n",
    "#*********************************************************\n",
    "#   i == 2\n",
    "# We are in second for loop, j==0\n",
    "# We are in Third for loop, k==0\n",
    "# We are in Third for loop, k==1\n",
    "# # We are in Third for loop, k==2\n",
    "# We are in second for loop, j==1\n",
    "# We are in Third for loop, k==0\n",
    "# We are in Third for loop, k==1\n",
    "# # We are in Third for loop, k==2\n",
    "#*********************************************************\n",
    "\n",
    "\n"
   ]
  },
  {
   "cell_type": "markdown",
   "id": "ebcc2736",
   "metadata": {},
   "source": [
    "## Star Program"
   ]
  },
  {
   "cell_type": "code",
   "execution_count": 7,
   "id": "86cbc469",
   "metadata": {},
   "outputs": [
    {
     "name": "stdout",
     "output_type": "stream",
     "text": [
      " i === 0\n",
      "\n",
      "*\n",
      "*\n",
      "*\n",
      "*\n",
      " i === 1\n",
      "\n",
      "*\n",
      "*\n",
      "*\n",
      "*\n",
      " i === 2\n",
      "\n",
      "*\n",
      "*\n",
      "*\n",
      "*\n",
      " i === 3\n",
      "\n",
      "*\n",
      "*\n",
      "*\n",
      "*\n"
     ]
    }
   ],
   "source": [
    "for i in range(4):\n",
    "    print(f\" i === {i}\")\n",
    "    print()\n",
    "    for j in range(4):\n",
    "        print(\"*\")"
   ]
  },
  {
   "cell_type": "code",
   "execution_count": 8,
   "id": "6cce9d6b",
   "metadata": {},
   "outputs": [
    {
     "name": "stdout",
     "output_type": "stream",
     "text": [
      " i === 0\n",
      "\n",
      "* * * *  i === 1\n",
      "\n",
      "* * * *  i === 2\n",
      "\n",
      "* * * *  i === 3\n",
      "\n",
      "* * * * "
     ]
    }
   ],
   "source": [
    "for i in range(4):\n",
    "    print(f\" i === {i}\")\n",
    "    print()\n",
    "    for j in range(4):\n",
    "        print(\"*\",end = \" \")\n"
   ]
  },
  {
   "cell_type": "code",
   "execution_count": 9,
   "id": "b4a7ba44",
   "metadata": {},
   "outputs": [
    {
     "name": "stdout",
     "output_type": "stream",
     "text": [
      " i === 0\n",
      "\n",
      "* * * * \n",
      " i === 1\n",
      "\n",
      "* * * * \n",
      " i === 2\n",
      "\n",
      "* * * * \n",
      " i === 3\n",
      "\n",
      "* * * * \n"
     ]
    }
   ],
   "source": [
    "for i in range(4):\n",
    "    print(f\" i === {i}\")\n",
    "    print()\n",
    "    for j in range(4):\n",
    "        print(\"*\",end = \" \")\n",
    "    print()"
   ]
  },
  {
   "cell_type": "code",
   "execution_count": 4,
   "id": "b85ae123",
   "metadata": {},
   "outputs": [
    {
     "name": "stdout",
     "output_type": "stream",
     "text": [
      "Enter the no.   4\n",
      "*\n",
      "*\n",
      "*\n",
      "*\n"
     ]
    }
   ],
   "source": [
    "n=int(eval(input(\"Enter the no.   \")))\n",
    "for i in range(1,n+1): # 0,1,2,3,4\n",
    "    print(\"*\")\n",
    "# *****\n",
    "# *****"
   ]
  },
  {
   "cell_type": "code",
   "execution_count": 15,
   "id": "8de2a23f",
   "metadata": {},
   "outputs": [
    {
     "name": "stdout",
     "output_type": "stream",
     "text": [
      "*****\n",
      "*****\n",
      "*****\n",
      "*****\n",
      "*****\n"
     ]
    }
   ],
   "source": [
    "for i in range(5): # 0,1,2,3,4\n",
    "#     print(\"*\")\n",
    "    for j in range(5):\n",
    "        print(\"*\",end=\"\")\n",
    "    print()\n",
    "# *****\n",
    "# *****"
   ]
  },
  {
   "cell_type": "code",
   "execution_count": 3,
   "id": "7d1fcc50",
   "metadata": {},
   "outputs": [
    {
     "name": "stdout",
     "output_type": "stream",
     "text": [
      "* \n",
      "* * \n",
      "* * * \n",
      "* * * * \n",
      "* * * * * \n",
      "* * * * * * \n"
     ]
    }
   ],
   "source": [
    "for i in range(5): # 0,1,2,3,4\n",
    "    print(\"*\")\n",
    "    j in range \n",
    "# *\n",
    "# * *\n",
    "# * * *\n",
    "# * * * *\n",
    "# * * * * *"
   ]
  },
  {
   "cell_type": "code",
   "execution_count": 11,
   "id": "959702bb",
   "metadata": {},
   "outputs": [
    {
     "name": "stdout",
     "output_type": "stream",
     "text": [
      "**\n",
      "**\n",
      "**\n",
      "**\n",
      "**\n",
      "**\n",
      "**\n",
      "**\n"
     ]
    }
   ],
   "source": [
    "\n",
    "for i in range(8):\n",
    "    for j in range(2):\n",
    "        print(\"*\",end=\"\")\n",
    "    print(\"\")\n",
    "        \n",
    "        \n",
    "# * * * * *\n",
    "# * * * * *\n",
    "# * * * * *\n",
    "# * * * * *\n",
    "# * * * * *"
   ]
  },
  {
   "cell_type": "code",
   "execution_count": 21,
   "id": "2ea0ef2f",
   "metadata": {},
   "outputs": [
    {
     "name": "stdout",
     "output_type": "stream",
     "text": [
      "*\n",
      "*\n",
      "*\n",
      "*\n",
      "*\n",
      "&&&&&&&&&&&\n",
      "*\n",
      "*\n",
      "*\n",
      "*\n",
      "*\n",
      "&&&&&&&&&&&\n",
      "*\n",
      "*\n",
      "*\n",
      "*\n",
      "*\n",
      "&&&&&&&&&&&\n",
      "*\n",
      "*\n",
      "*\n",
      "*\n",
      "*\n",
      "&&&&&&&&&&&\n",
      "*\n",
      "*\n",
      "*\n",
      "*\n",
      "*\n",
      "&&&&&&&&&&&\n"
     ]
    }
   ],
   "source": [
    "for i in range(5):\n",
    "    for j in range(5):\n",
    "        print(\"*\")\n",
    "    print(\"&&&&&&&&&&&\")"
   ]
  },
  {
   "cell_type": "code",
   "execution_count": 22,
   "id": "d3c22a44",
   "metadata": {},
   "outputs": [
    {
     "name": "stdout",
     "output_type": "stream",
     "text": [
      "* * * * * \n",
      "* * * * * \n",
      "* * * * * \n",
      "* * * * * \n",
      "* * * * * \n"
     ]
    }
   ],
   "source": [
    "# n =5\n",
    "# for i in range(1,n+1):\n",
    "#     for j in range(1,n+1):\n",
    "#         print(\"*\",end=\" \")\n",
    "#     print()"
   ]
  },
  {
   "cell_type": "code",
   "execution_count": 31,
   "id": "4e03a0a3",
   "metadata": {},
   "outputs": [
    {
     "name": "stdout",
     "output_type": "stream",
     "text": [
      "*\n",
      "**\n",
      "***\n",
      "****\n"
     ]
    }
   ],
   "source": [
    "# n=5\n",
    "for i in range(1,5):\n",
    "    for j in range(i):\n",
    "        print(\"*\",end=\"\")\n",
    "    print(\"\")\n",
    "# n=5\n",
    "# for i in range(1,n+1):\n",
    "#     for j in "
   ]
  },
  {
   "cell_type": "code",
   "execution_count": 3,
   "id": "9961dd5f",
   "metadata": {},
   "outputs": [
    {
     "name": "stdout",
     "output_type": "stream",
     "text": [
      "$$$$$\n",
      "$$$$\n",
      "$$$\n",
      "$$\n",
      "$\n"
     ]
    }
   ],
   "source": [
    "n=5\n",
    "for i in range(5,0,-1):\n",
    "    for j in range(i):#1,12\n",
    "        print(\"$\",end=\"\")\n",
    "    print(\"\")"
   ]
  },
  {
   "cell_type": "code",
   "execution_count": 5,
   "id": "c23e0ecd",
   "metadata": {},
   "outputs": [
    {
     "name": "stdout",
     "output_type": "stream",
     "text": [
      "9 9 9 9 9 9 \n",
      "9 9 9 9 9 \n",
      "9 9 9 9 \n",
      "9 9 9 \n",
      "9 9 \n",
      "9 \n",
      "\n"
     ]
    }
   ],
   "source": [
    "n=5\n",
    "for i in range(n+1,-1,-1):\n",
    "    for j in range(i):\n",
    "        print(\"9\",end=\" \")\n",
    "    print(\"\")\n",
    "    "
   ]
  },
  {
   "cell_type": "code",
   "execution_count": 38,
   "id": "daba8c3d",
   "metadata": {},
   "outputs": [
    {
     "name": "stdout",
     "output_type": "stream",
     "text": [
      "$ \n",
      "$ $ \n",
      "$ $ $ \n",
      "$ $ $ $ \n",
      "$ $ $ $ $ \n",
      "9 9 9 9 9 \n",
      "9 9 9 9 \n",
      "9 9 9 \n",
      "9 9 \n",
      "9 \n"
     ]
    }
   ],
   "source": [
    "n=5\n",
    "# type(n)\n",
    "for i in range(1,n+1):\n",
    "    for j in range(i):\n",
    "        print(\"$\",end=\" \")\n",
    "    print(\"\")\n",
    "for i in range(n,0,-1):\n",
    "    for j in range(i):\n",
    "        print(\"9\",end=\" \")\n",
    "    print(\"\")\n",
    "    "
   ]
  },
  {
   "cell_type": "code",
   "execution_count": null,
   "id": "73073d07",
   "metadata": {},
   "outputs": [],
   "source": []
  },
  {
   "cell_type": "code",
   "execution_count": null,
   "id": "6865fcd1",
   "metadata": {},
   "outputs": [],
   "source": [
    "# *\n",
    "# * *\n",
    "# * * *\n",
    "# * * * *\n",
    "# * * * * *\n",
    "\n",
    "\n",
    "# * * * * *\n",
    "# * * * *\n",
    "# * * *\n",
    "# * *\n",
    "# *"
   ]
  },
  {
   "cell_type": "code",
   "execution_count": 25,
   "id": "bffe1b0d",
   "metadata": {},
   "outputs": [
    {
     "name": "stdout",
     "output_type": "stream",
     "text": [
      "* * * * * \n",
      "* * * * \n",
      "* * * \n",
      "* * \n",
      "* \n"
     ]
    }
   ],
   "source": [
    "for i in range(5,0,-1): # 0,1,2,3,4\n",
    "    print(\"* \"*i)"
   ]
  },
  {
   "cell_type": "code",
   "execution_count": null,
   "id": "e48542c9",
   "metadata": {},
   "outputs": [],
   "source": [
    "0\n",
    "0 1\n",
    "0 1 2 \n",
    "0 1 2 3\n",
    "0 1 2 3 4"
   ]
  },
  {
   "cell_type": "code",
   "execution_count": 56,
   "id": "359b8036",
   "metadata": {},
   "outputs": [
    {
     "name": "stdout",
     "output_type": "stream",
     "text": [
      "0 \n",
      "0 1 \n",
      "0 1 2 \n",
      "0 1 2 3 \n",
      "0 1 2 3 4 \n"
     ]
    }
   ],
   "source": [
    "n=5\n",
    "for i in range(1,n+1):\n",
    "    x=0\n",
    "    for j in range(i):\n",
    "        print(x,end=\" \")\n",
    "        x=x+1\n",
    "    print(\"\")"
   ]
  },
  {
   "cell_type": "code",
   "execution_count": null,
   "id": "264a4536",
   "metadata": {},
   "outputs": [],
   "source": []
  },
  {
   "cell_type": "code",
   "execution_count": 8,
   "id": "d03ff683",
   "metadata": {},
   "outputs": [
    {
     "name": "stdout",
     "output_type": "stream",
     "text": [
      "1 \n",
      "1 1 \n",
      "1 1 1 \n",
      "1 1 1 1 \n",
      "1 1 1 1 1 \n"
     ]
    }
   ],
   "source": [
    "n=5\n",
    "x=1\n",
    "for i in range(1,n+1):\n",
    "    \n",
    "    for j in range(i):\n",
    "        print(x,end=\" \")\n",
    "    \n",
    "    print(\"\")"
   ]
  },
  {
   "cell_type": "code",
   "execution_count": null,
   "id": "c6ff80fa",
   "metadata": {},
   "outputs": [],
   "source": []
  },
  {
   "cell_type": "code",
   "execution_count": 20,
   "id": "3ac6bce1",
   "metadata": {},
   "outputs": [
    {
     "name": "stdout",
     "output_type": "stream",
     "text": [
      "0\n",
      "01\n",
      "012\n",
      "0123\n"
     ]
    }
   ],
   "source": [
    "n = 5 \n",
    "for i in range(1,5): # 1 > 2   > 3\n",
    "    for j in range(i): # 0 > 0,1 > 0,1,2     #0=0\n",
    "        print(j,end=\"\")\n",
    "    print()"
   ]
  },
  {
   "cell_type": "code",
   "execution_count": null,
   "id": "a03e58d6",
   "metadata": {},
   "outputs": [],
   "source": [
    "n = 3 \n",
    "for i in range(1,n+1): # i =0 ,i =1,i=2,i=3\n",
    "    for j in range(i): # i =0 \n",
    "        print(j,end=\" \")\n",
    "    break"
   ]
  },
  {
   "cell_type": "code",
   "execution_count": 28,
   "id": "e81392ae",
   "metadata": {},
   "outputs": [],
   "source": [
    "for j in range(0):\n",
    "    print(j)"
   ]
  },
  {
   "cell_type": "code",
   "execution_count": 29,
   "id": "82f57c90",
   "metadata": {},
   "outputs": [
    {
     "name": "stdout",
     "output_type": "stream",
     "text": [
      "0\n"
     ]
    }
   ],
   "source": [
    "for j in range(1):\n",
    "    print(j)"
   ]
  },
  {
   "cell_type": "code",
   "execution_count": null,
   "id": "ebc2928b",
   "metadata": {},
   "outputs": [],
   "source": [
    "A\n",
    "A A\n",
    "A A A\n",
    "A A A A\n",
    "A A A A A"
   ]
  },
  {
   "cell_type": "code",
   "execution_count": 57,
   "id": "53f9ab60",
   "metadata": {},
   "outputs": [
    {
     "name": "stdout",
     "output_type": "stream",
     "text": [
      "^ \n",
      "^ ^ \n",
      "^ ^ ^ \n",
      "^ ^ ^ ^ \n",
      "^ ^ ^ ^ ^ \n"
     ]
    }
   ],
   "source": [
    "n = 5 \n",
    "for i in range(1,n+1): # i =0 ,i =1,i=2,i=3\n",
    "    for j in range(i): # i =0 \n",
    "        print(\"^\",end=\" \")\n",
    "    print()"
   ]
  },
  {
   "cell_type": "code",
   "execution_count": 31,
   "id": "037e49b5",
   "metadata": {},
   "outputs": [
    {
     "name": "stdout",
     "output_type": "stream",
     "text": [
      "B \n",
      "B B \n",
      "B B B \n",
      "B B B B \n",
      "B B B B B \n"
     ]
    }
   ],
   "source": [
    "n = 5 \n",
    "for i in range(1,n+1): # i =0 ,i =1,i=2,i=3\n",
    "    for j in range(i): # i =0 \n",
    "        print(\"B\",end=\" \")\n",
    "    print()"
   ]
  },
  {
   "cell_type": "code",
   "execution_count": 32,
   "id": "82df25b0",
   "metadata": {},
   "outputs": [
    {
     "name": "stdout",
     "output_type": "stream",
     "text": [
      "+ \n",
      "+ + \n",
      "+ + + \n",
      "+ + + + \n",
      "+ + + + + \n"
     ]
    }
   ],
   "source": [
    "n = 5 \n",
    "for i in range(1,n+1): # i =0 ,i =1,i=2,i=3\n",
    "    for j in range(i): # i =0 \n",
    "        print(\"+\",end=\" \")\n",
    "    print()"
   ]
  },
  {
   "cell_type": "code",
   "execution_count": null,
   "id": "a305eb55",
   "metadata": {},
   "outputs": [],
   "source": []
  },
  {
   "cell_type": "code",
   "execution_count": 33,
   "id": "5741a422",
   "metadata": {},
   "outputs": [
    {
     "name": "stdout",
     "output_type": "stream",
     "text": [
      "1 \n",
      "1 1 \n",
      "1 1 1 \n",
      "1 1 1 1 \n",
      "1 1 1 1 1 \n"
     ]
    }
   ],
   "source": [
    "n = 5 \n",
    "for i in range(1,n+1): # i =0 ,i =1,i=2,i=3\n",
    "    for j in range(i): # i =0 \n",
    "        print(\"1\",end=\" \")\n",
    "    print()"
   ]
  },
  {
   "cell_type": "code",
   "execution_count": 37,
   "id": "ae1f586c",
   "metadata": {},
   "outputs": [
    {
     "data": {
      "text/plain": [
       "'z'"
      ]
     },
     "execution_count": 37,
     "metadata": {},
     "output_type": "execute_result"
    }
   ],
   "source": [
    "chr(65) # A\n",
    "\n",
    "chr(90) # Z\n",
    "chr(97) # a\n",
    "chr(122)# z"
   ]
  },
  {
   "cell_type": "code",
   "execution_count": 38,
   "id": "2c018c39",
   "metadata": {},
   "outputs": [
    {
     "name": "stdout",
     "output_type": "stream",
     "text": [
      "Z \n",
      "Z Z \n",
      "Z Z Z \n",
      "Z Z Z Z \n",
      "Z Z Z Z Z \n"
     ]
    }
   ],
   "source": [
    "n = 5 \n",
    "x = 90\n",
    "for i in range(1,n+1): # i =0 ,i =1,i=2,i=3\n",
    "    for j in range(i): # i =0 \n",
    "        print(chr(x),end=\" \")\n",
    "    print()"
   ]
  },
  {
   "cell_type": "code",
   "execution_count": 39,
   "id": "19a4f8ce",
   "metadata": {},
   "outputs": [
    {
     "name": "stdout",
     "output_type": "stream",
     "text": [
      "z \n",
      "z z \n",
      "z z z \n",
      "z z z z \n",
      "z z z z z \n"
     ]
    }
   ],
   "source": [
    "n = 5 \n",
    "x = 122\n",
    "for i in range(1,n+1): # i =0 ,i =1,i=2,i=3\n",
    "    for j in range(i): # i =0 \n",
    "        print(chr(x),end=\" \")\n",
    "    print()"
   ]
  },
  {
   "cell_type": "code",
   "execution_count": null,
   "id": "d1cf3991",
   "metadata": {},
   "outputs": [],
   "source": [
    "1\n",
    "2 2\n",
    "3 3 3\n",
    "4 4 4 4\n",
    "5 5 5 5 5"
   ]
  },
  {
   "cell_type": "code",
   "execution_count": 22,
   "id": "4e478ed6",
   "metadata": {},
   "outputs": [
    {
     "name": "stdout",
     "output_type": "stream",
     "text": [
      "1 \n",
      "2 2 \n",
      "3 3 3 \n",
      "4 4 4 4 \n",
      "5 5 5 5 5 \n"
     ]
    }
   ],
   "source": [
    "\n",
    "# Bhairavi Bendre\n",
    "for i in range(1,6):\n",
    "    for j in range(i):\n",
    "        print(i,end=\" \")\n",
    "    print()"
   ]
  },
  {
   "cell_type": "code",
   "execution_count": 41,
   "id": "5babbfee",
   "metadata": {},
   "outputs": [
    {
     "name": "stdout",
     "output_type": "stream",
     "text": [
      "1 \n",
      "2 2 \n",
      "3 3 3 \n",
      "4 4 4 4 \n",
      "5 5 5 5 5 \n"
     ]
    }
   ],
   "source": [
    "n=5 \n",
    "for i in range(1,n+1): # 1,2,3,4,5\n",
    "    for j in range(i):# 0\n",
    "        print(i,end=\" \") \n",
    "    print()\n",
    "    \n",
    "# Pradeep Bagal21:13\n",
    "# for i in range(1,6):\n",
    "#     for j in range(i):\n",
    "#         print(i,end=\" \")\n",
    "#     print()\n",
    "# Sandip Lengare21:13\n",
    "# n = 5\n",
    "# for i in range(1,n+1):\n",
    "#     for j in range(i):\n",
    "#         print(i,end = \" \")\n",
    "        \n",
    "#     print()"
   ]
  },
  {
   "cell_type": "code",
   "execution_count": null,
   "id": "48d0ccc9",
   "metadata": {},
   "outputs": [],
   "source": [
    "1\n",
    "1 2\n",
    "1 2 3\n",
    "1 2 3 4"
   ]
  },
  {
   "cell_type": "code",
   "execution_count": 42,
   "id": "3193a4a3",
   "metadata": {},
   "outputs": [
    {
     "name": "stdout",
     "output_type": "stream",
     "text": [
      "1 2 3 4 \n",
      "1 2 3 4 \n",
      "1 2 3 4 \n",
      "1 2 3 4 \n"
     ]
    }
   ],
   "source": [
    "n = 4\n",
    "for i in range(1,n+1):# (1) 4 times\n",
    "    for j in range(1,n+1):#(1) 4times\n",
    "        print(j,end=\" \")\n",
    "    print()"
   ]
  },
  {
   "cell_type": "code",
   "execution_count": 45,
   "id": "58e3eedc",
   "metadata": {},
   "outputs": [
    {
     "name": "stdout",
     "output_type": "stream",
     "text": [
      "1 \n",
      "1 2 \n",
      "1 2 3 \n",
      "1 2 3 4 \n"
     ]
    }
   ],
   "source": [
    "n = 4\n",
    "for i in range(1,n+1):# (1) (2) (3),(4)\n",
    "    for j in range(1,i+1):#range(1,2),range(1,3),range(1,4)\n",
    "        print(j,end=\" \")\n",
    "    print()\n",
    "# 1\n",
    "# 1 2\n",
    "# 1 2 3 \n",
    "# 1 2 3 4"
   ]
  },
  {
   "cell_type": "code",
   "execution_count": 43,
   "id": "2ad7c53d",
   "metadata": {},
   "outputs": [
    {
     "name": "stdout",
     "output_type": "stream",
     "text": [
      "1\n"
     ]
    }
   ],
   "source": [
    "for j in range(1,2):\n",
    "    print(j)"
   ]
  },
  {
   "cell_type": "code",
   "execution_count": 44,
   "id": "f6a69e3d",
   "metadata": {},
   "outputs": [
    {
     "name": "stdout",
     "output_type": "stream",
     "text": [
      "1\n",
      "2\n"
     ]
    }
   ],
   "source": [
    "for j in range(1,3):# 1,2\n",
    "    print(j)"
   ]
  },
  {
   "cell_type": "code",
   "execution_count": null,
   "id": "30a16a0f",
   "metadata": {},
   "outputs": [],
   "source": [
    "5\n",
    "6  7\n",
    "8  9  10\n",
    "11 12 13 14\n",
    "15 16 17 18 19"
   ]
  },
  {
   "cell_type": "code",
   "execution_count": 29,
   "id": "b8bb960a",
   "metadata": {},
   "outputs": [
    {
     "name": "stdout",
     "output_type": "stream",
     "text": [
      "10 \n",
      "11 12 \n",
      "13 14 15 \n",
      "16 17 18 19 \n",
      "20 21 22 23 24 \n"
     ]
    }
   ],
   "source": [
    "n = 5\n",
    "x=10\n",
    "for i in range(1,n+1):# i=1,i=2\n",
    "    for j in range(1,i+1): #range(1,1),range(1,2)\n",
    "        print(x,end= \" \")\n",
    "        x=x+1\n",
    "    print()"
   ]
  },
  {
   "cell_type": "code",
   "execution_count": 49,
   "id": "85669e65",
   "metadata": {},
   "outputs": [
    {
     "name": "stdout",
     "output_type": "stream",
     "text": [
      "1\n"
     ]
    }
   ],
   "source": [
    "for j in range(1,2):\n",
    "    print(j)"
   ]
  },
  {
   "cell_type": "code",
   "execution_count": 50,
   "id": "b49eef1a",
   "metadata": {},
   "outputs": [
    {
     "name": "stdout",
     "output_type": "stream",
     "text": [
      "5 \n",
      "6 7 \n",
      "8 9 10 \n",
      "11 12 13 14 \n",
      "15 16 17 18 19 \n"
     ]
    }
   ],
   "source": [
    "n = 5\n",
    "for i in range(2,n+2):# i=2,i=3,i=4,i=5,i=6\n",
    "    for j in range(1,i): #range(1,2)> 1 time,range(1,3)>2 times,range(1,4) > 3 times,range(1,5),range(1,6)\n",
    "        print(n,end= \" \")\n",
    "        n+=1\n",
    "    print()\n",
    "# 5\n",
    "# 6 7\n",
    "# 8 9 10\n",
    "# "
   ]
  },
  {
   "cell_type": "code",
   "execution_count": 31,
   "id": "5128e595",
   "metadata": {},
   "outputs": [
    {
     "name": "stdout",
     "output_type": "stream",
     "text": [
      "5 \n",
      "6 7 \n",
      "8 9 10 \n",
      "11 12 13 14 \n",
      "15 16 17 18 19 \n",
      "20 21 22 23 24 25 \n"
     ]
    }
   ],
   "source": [
    "n = 5\n",
    "x = 5\n",
    "for i in range(1,n+2):# i=2,i=3,i=4,i=5,i=6\n",
    "    for j in range(1,i+1): #range(1,2)> 1 time,range(1,3)>2 times,range(1,4) > 3 times,range(1,5),range(1,6)\n",
    "        print(x,end= \" \")\n",
    "        x+=1\n",
    "    print()\n",
    "# 5\n",
    "# 6 7\n",
    "# 8 9 10\n",
    "# \n"
   ]
  },
  {
   "cell_type": "code",
   "execution_count": null,
   "id": "bdc51214",
   "metadata": {},
   "outputs": [],
   "source": [
    "1\n",
    "2  3\n",
    "4  5  6\n",
    "7  8  9  10\n",
    "11 12 13 14 15"
   ]
  },
  {
   "cell_type": "code",
   "execution_count": 51,
   "id": "2918a58d",
   "metadata": {},
   "outputs": [
    {
     "name": "stdout",
     "output_type": "stream",
     "text": [
      "1 \n",
      "2 3 \n",
      "4 5 6 \n",
      "7 8 9 10 \n",
      "11 12 13 14 15 \n"
     ]
    }
   ],
   "source": [
    "n = 5\n",
    "x = 1\n",
    "for i in range(2,n+2):# i=2,i=3,i=4,i=5,i=6\n",
    "    for j in range(1,i): #range(1,2)> 1 time,range(1,3)>2 times,range(1,4) > 3 times,range(1,5),range(1,6)\n",
    "        print(x,end= \" \")\n",
    "        x+=1 # x =x+1\n",
    "    print()\n",
    "# 5\n",
    "# 6 7\n",
    "# 8 9 10\n",
    "# "
   ]
  },
  {
   "cell_type": "code",
   "execution_count": null,
   "id": "6687388e",
   "metadata": {},
   "outputs": [],
   "source": [
    "n = 1\n",
    "\n",
    "for i in range(2,n+2):# i=2,i=3,i=4,i=5,i=6\n",
    "    for j in range(1,i): #range(1,2)> 1 time,range(1,3)>2 times,range(1,4) > 3 times,range(1,5),range(1,6)\n",
    "        print(n,end= \" \")\n",
    "        n+=1\n",
    "    print()\n",
    "# 5\n",
    "# 6 7\n",
    "# 8 9 10"
   ]
  },
  {
   "cell_type": "code",
   "execution_count": 33,
   "id": "58dc1571",
   "metadata": {},
   "outputs": [
    {
     "name": "stdout",
     "output_type": "stream",
     "text": [
      "1 \n",
      "1 2 \n",
      "1 2 3 \n",
      "1 2 3 4 \n",
      "1 2 3 4 5 \n"
     ]
    }
   ],
   "source": [
    "n = 5\n",
    "\n",
    "for i in range(2,n+2):# i=2,i=3,i=4,i=5,i=6\n",
    "    x = 1\n",
    "    for j in range(1,i): #range(1,2)> 1 time,range(1,3)>2 times,range(1,4) > 3 times,range(1,5),range(1,6)\n",
    "        print(x,end= \" \")\n",
    "        x+=1 # x =x+1\n",
    "    print()\n"
   ]
  },
  {
   "cell_type": "code",
   "execution_count": null,
   "id": "efdd664d",
   "metadata": {},
   "outputs": [],
   "source": [
    "1 \n",
    "2 3 \n",
    "4 5 6 \n",
    "7 8 9 10 \n",
    "11 12 13 14 15 "
   ]
  },
  {
   "cell_type": "code",
   "execution_count": null,
   "id": "e977033d",
   "metadata": {},
   "outputs": [],
   "source": [
    "A A A A A\n",
    "A A A A\n",
    "A A A\n",
    "A A \n",
    "A"
   ]
  },
  {
   "cell_type": "code",
   "execution_count": null,
   "id": "2f803c16",
   "metadata": {},
   "outputs": [],
   "source": [
    "n= 9\n",
    "\n",
    "for i in range(n+1, 0, -1):\n",
    "    for j in range(i, 0, -1):\n",
    "        print(\"A\",end = \"\")\n",
    "    print()"
   ]
  },
  {
   "cell_type": "code",
   "execution_count": 36,
   "id": "1ce19252",
   "metadata": {},
   "outputs": [
    {
     "name": "stdout",
     "output_type": "stream",
     "text": [
      "AAAAA\n",
      "BBBB\n",
      "CCC\n",
      "DD\n",
      "E\n"
     ]
    }
   ],
   "source": [
    "X=65\n",
    "for i in range(5,0,-1):# 5,4,3,2,1\n",
    "#     print(chr(65)+1,chr)\n",
    "    for j in range(i): #5>0,1,2,3,4\n",
    "        print(chr(X),end=\"\")\n",
    "    X+=1\n",
    "    print()"
   ]
  },
  {
   "cell_type": "code",
   "execution_count": null,
   "id": "f9e5a38c",
   "metadata": {},
   "outputs": [],
   "source": [
    "A A A A A\n",
    "B B B B\n",
    "C C C\n",
    "D D\n",
    "E\n"
   ]
  },
  {
   "cell_type": "code",
   "execution_count": 16,
   "id": "92bf1c2a",
   "metadata": {},
   "outputs": [
    {
     "name": "stdout",
     "output_type": "stream",
     "text": [
      "1 2 3 4 5 \n",
      "1 2 3 4 \n",
      "1 2 3 \n",
      "1 2 \n",
      "1 \n"
     ]
    }
   ],
   "source": [
    "x = 1\n",
    "for i in range(5,0,-1):\n",
    "    x=1# 5,4,3,2,1\n",
    "    for j in range(i): #5>0,1,2,3,4\n",
    "        print(x,end=\" \")\n",
    "        x+=1\n",
    "    print()"
   ]
  },
  {
   "cell_type": "code",
   "execution_count": null,
   "id": "a49a1aa2",
   "metadata": {},
   "outputs": [],
   "source": [
    "A B C D E\n",
    "F G H I\n",
    "J K L\n",
    "M N\n",
    "O"
   ]
  },
  {
   "cell_type": "code",
   "execution_count": 10,
   "id": "3b96dc02",
   "metadata": {},
   "outputs": [
    {
     "name": "stdout",
     "output_type": "stream",
     "text": [
      "A B C D E \n",
      "F G H I \n",
      "J K L \n",
      "M N \n",
      "O \n"
     ]
    }
   ],
   "source": [
    "x = 65\n",
    "for i in range(5,0,-1):# 5,4,3,2,1\n",
    "    for j in range(i): #5>0,1,2,3,4\n",
    "        print(chr(x),end=\" \")\n",
    "        x+=1\n",
    "    print()"
   ]
  },
  {
   "cell_type": "code",
   "execution_count": null,
   "id": "ef53cb5f",
   "metadata": {},
   "outputs": [],
   "source": [
    "              * # spaces (4) and 1 star\n",
    "          *   * #spaces (3) and 2 star\n",
    "       *  *   * #spaces (2) and 3 star\n",
    "    *  *  *   * ##spaces (1) and 4 star\n",
    "*  *  *   *   * ##spaces (0) and 5 star"
   ]
  },
  {
   "cell_type": "code",
   "execution_count": 64,
   "id": "472f9940",
   "metadata": {},
   "outputs": [
    {
     "name": "stdout",
     "output_type": "stream",
     "text": [
      "    *\n",
      "   **\n",
      "  ***\n",
      " ****\n",
      "*****\n"
     ]
    }
   ],
   "source": [
    "n = 5\n",
    "for j in range(1,n+1): # j =1,j=2,j=3,j=4\n",
    "    print(\" \"*(n-j) +\"*\"*j)"
   ]
  },
  {
   "cell_type": "code",
   "execution_count": 65,
   "id": "1f1b59ca",
   "metadata": {},
   "outputs": [
    {
     "name": "stdout",
     "output_type": "stream",
     "text": [
      "    * \n",
      "   * * \n",
      "  * * * \n",
      " * * * * \n",
      "* * * * * \n"
     ]
    }
   ],
   "source": [
    "n = 5\n",
    "for j in range(1,n+1): # j =1,j=2,j=3,j=4\n",
    "    print(\" \"*(n-j) +\"* \"*j)"
   ]
  },
  {
   "cell_type": "code",
   "execution_count": null,
   "id": "994504ee",
   "metadata": {},
   "outputs": [],
   "source": [
    "    * # spaces (4)\n",
    "   * * # spaces(3)\n",
    "  * * * # spaces(2)\n",
    " * * * * # spaces(1)\n",
    "* * * * *\n",
    "    \n",
    "    "
   ]
  },
  {
   "cell_type": "markdown",
   "id": "5653c29f",
   "metadata": {},
   "source": [
    "# practise"
   ]
  },
  {
   "cell_type": "code",
   "execution_count": 6,
   "id": "561f2884",
   "metadata": {},
   "outputs": [
    {
     "name": "stdout",
     "output_type": "stream",
     "text": [
      "1\n",
      "22\n",
      "111\n",
      "2222\n",
      "11111\n"
     ]
    }
   ],
   "source": [
    "n=5\n",
    "for i in range(n):\n",
    "    for j in range(i+1):\n",
    "        if i%2==0:print('1',end='')\n",
    "        else:print('2',end='')\n",
    "    print()\n",
    "        "
   ]
  },
  {
   "cell_type": "code",
   "execution_count": 62,
   "id": "c98c62e3",
   "metadata": {},
   "outputs": [
    {
     "name": "stdout",
     "output_type": "stream",
     "text": [
      "     *\n",
      "    ***\n",
      "   *****\n",
      "  *******\n",
      " *********\n"
     ]
    }
   ],
   "source": [
    "n=5\n",
    "for i in range(n):\n",
    "    for j in range(i,n):\n",
    "        print(' ',end='')\n",
    "    for j in range(i):\n",
    "        print('*',end='')\n",
    "    for j in range(i+1):\n",
    "        print('*',end='')\n",
    "    print()\n",
    "        "
   ]
  },
  {
   "cell_type": "code",
   "execution_count": null,
   "id": "7b26e29e",
   "metadata": {},
   "outputs": [],
   "source": []
  },
  {
   "cell_type": "code",
   "execution_count": 66,
   "id": "dfce5d63",
   "metadata": {},
   "outputs": [
    {
     "name": "stdout",
     "output_type": "stream",
     "text": [
      "     \n",
      "    \n",
      "   \n",
      "  \n",
      " \n"
     ]
    }
   ],
   "source": [
    "n=5\n",
    "for i in range(n):\n",
    "    for j in range(i,n):\n",
    "        print(' ',end='')\n",
    "    print()\n",
    "   \n",
    "        "
   ]
  },
  {
   "cell_type": "code",
   "execution_count": null,
   "id": "5a9d6161",
   "metadata": {},
   "outputs": [],
   "source": []
  },
  {
   "cell_type": "code",
   "execution_count": 67,
   "id": "106bb7bf",
   "metadata": {},
   "outputs": [
    {
     "name": "stdout",
     "output_type": "stream",
     "text": [
      "     \n",
      "    *\n",
      "   **\n",
      "  ***\n",
      " ****\n"
     ]
    }
   ],
   "source": [
    "n=5\n",
    "for i in range(n):\n",
    "    for j in range(i,n):\n",
    "        print(' ',end='')\n",
    "    for j in range(i):\n",
    "        print('*',end='')\n",
    "    print()\n",
    "  "
   ]
  },
  {
   "cell_type": "code",
   "execution_count": null,
   "id": "aaa0db1f",
   "metadata": {},
   "outputs": [],
   "source": []
  },
  {
   "cell_type": "code",
   "execution_count": 69,
   "id": "f62a22e3",
   "metadata": {},
   "outputs": [
    {
     "name": "stdout",
     "output_type": "stream",
     "text": [
      "     *\n",
      "    ***\n",
      "   *****\n",
      "  *******\n",
      " *********\n"
     ]
    }
   ],
   "source": [
    "n=5\n",
    "for i in range(n):\n",
    "    for j in range(i,n):\n",
    "        print(' ',end='')\n",
    "    for j in range(i):\n",
    "        print('*',end='')\n",
    "    for j in range(i+1):\n",
    "        print('*',end='')\n",
    "    print()\n",
    "        "
   ]
  },
  {
   "cell_type": "code",
   "execution_count": null,
   "id": "6a4f9a70",
   "metadata": {},
   "outputs": [],
   "source": []
  },
  {
   "cell_type": "code",
   "execution_count": 78,
   "id": "cd8cb7ea",
   "metadata": {},
   "outputs": [
    {
     "name": "stdout",
     "output_type": "stream",
     "text": [
      "     *\n",
      "    ***\n",
      "   *****\n",
      "  *******\n",
      " *********\n"
     ]
    }
   ],
   "source": [
    "n=5\n",
    "for i in range(n):\n",
    "    for j in range(i,n):\n",
    "        print(' ',end='')\n",
    "    for j in range(i):\n",
    "        print('*',end='')\n",
    "    for j in range(i+1):\n",
    "        print('*',end='')\n",
    "    print()\n",
    "# for i in range(n-1,i):\n",
    "#     for j in range(i,n):\n",
    "#         print(' ',end='')\n",
    "#     for j in range(i):\n",
    "#         print('*',end='')\n",
    "#     for j in range(i+1):\n",
    "#         print('*',end='')\n",
    "#     print()"
   ]
  },
  {
   "cell_type": "code",
   "execution_count": null,
   "id": "0dabff6c",
   "metadata": {},
   "outputs": [],
   "source": []
  },
  {
   "cell_type": "code",
   "execution_count": null,
   "id": "cb5ef021",
   "metadata": {},
   "outputs": [],
   "source": []
  }
 ],
 "metadata": {
  "kernelspec": {
   "display_name": "Python 3 (ipykernel)",
   "language": "python",
   "name": "python3"
  },
  "language_info": {
   "codemirror_mode": {
    "name": "ipython",
    "version": 3
   },
   "file_extension": ".py",
   "mimetype": "text/x-python",
   "name": "python",
   "nbconvert_exporter": "python",
   "pygments_lexer": "ipython3",
   "version": "3.10.5"
  }
 },
 "nbformat": 4,
 "nbformat_minor": 5
}
