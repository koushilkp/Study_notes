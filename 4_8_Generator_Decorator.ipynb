{
 "cells": [
  {
   "cell_type": "markdown",
   "id": "b23c5963",
   "metadata": {},
   "source": [
    "## Generator"
   ]
  },
  {
   "cell_type": "code",
   "execution_count": null,
   "id": "81a61776",
   "metadata": {},
   "outputs": [],
   "source": [
    "if we are using one or more yield statement > then it is called as gernerator"
   ]
  },
  {
   "cell_type": "code",
   "execution_count": 1,
   "id": "7bca63ee",
   "metadata": {},
   "outputs": [
    {
     "name": "stdout",
     "output_type": "stream",
     "text": [
      "This is fun\n"
     ]
    },
    {
     "data": {
      "text/plain": [
       "'Welcome'"
      ]
     },
     "execution_count": 1,
     "metadata": {},
     "output_type": "execute_result"
    }
   ],
   "source": [
    "def get_fun():\n",
    "    print(\"This is fun\")\n",
    "    return \"Welcome\"\n",
    "get_fun()"
   ]
  },
  {
   "cell_type": "code",
   "execution_count": 6,
   "id": "bdd5f7a4",
   "metadata": {},
   "outputs": [
    {
     "name": "stdout",
     "output_type": "stream",
     "text": [
      "This is fun\n"
     ]
    },
    {
     "data": {
      "text/plain": [
       "'Welcome__1'"
      ]
     },
     "execution_count": 6,
     "metadata": {},
     "output_type": "execute_result"
    }
   ],
   "source": [
    "def get_fun():\n",
    "    print(\"This is fun\")\n",
    "    return \"Welcome__1\"\n",
    "    return \"Welcome__2\"\n",
    "    return \"Welcome__3\"\n",
    "get_fun()"
   ]
  },
  {
   "cell_type": "code",
   "execution_count": 3,
   "id": "91ad1eb6",
   "metadata": {},
   "outputs": [
    {
     "name": "stdout",
     "output_type": "stream",
     "text": [
      "This is fun\n"
     ]
    },
    {
     "data": {
      "text/plain": [
       "('Welcome__1', 'Welcome__2')"
      ]
     },
     "execution_count": 3,
     "metadata": {},
     "output_type": "execute_result"
    }
   ],
   "source": [
    "def get_fun():\n",
    "    print(\"This is fun\")\n",
    "    return \"Welcome__1\",\"Welcome__2\"\n",
    "\n",
    "get_fun()"
   ]
  },
  {
   "cell_type": "code",
   "execution_count": 7,
   "id": "0451e6d2",
   "metadata": {},
   "outputs": [
    {
     "name": "stdout",
     "output_type": "stream",
     "text": [
      " Value = 2 and its cube is 8\n"
     ]
    },
    {
     "data": {
      "text/plain": [
       "8"
      ]
     },
     "execution_count": 7,
     "metadata": {},
     "output_type": "execute_result"
    }
   ],
   "source": [
    "list1 = [2,3,4,5]\n",
    "def get_cube():\n",
    "    for i in list1:\n",
    "        cube = i ** 3\n",
    "        print(f\" Value = {i} and its cube is {cube}\")\n",
    "        return cube\n",
    "get_cube()\n",
    "        "
   ]
  },
  {
   "cell_type": "code",
   "execution_count": 15,
   "id": "5ff27b89",
   "metadata": {},
   "outputs": [
    {
     "name": "stdout",
     "output_type": "stream",
     "text": [
      "k\n",
      "o\n",
      "u\n",
      "s\n",
      "h\n",
      "i\n"
     ]
    }
   ],
   "source": [
    "num=\"koushil\"\n",
    "iter_obj=iter(num)\n",
    "print(next(iter_obj))\n",
    "print(next(iter_obj))\n",
    "print(next(iter_obj))\n",
    "print(next(iter_obj))\n",
    "print(next(iter_obj))\n",
    "print(next(iter_obj))\n"
   ]
  },
  {
   "cell_type": "code",
   "execution_count": 4,
   "id": "226b7ef1",
   "metadata": {},
   "outputs": [
    {
     "name": "stdout",
     "output_type": "stream",
     "text": [
      "<generator object get_cube at 0x0000018BF3C82F10>\n",
      " Value = 2 and its cube is 8\n",
      "8\n",
      " Value = 3 and its cube is 27\n",
      "27\n"
     ]
    }
   ],
   "source": [
    "list1 = [2,3,4,5]\n",
    "def get_cube():\n",
    "    for i in list1:\n",
    "        cube = i ** 3\n",
    "        print(f\" Value = {i} and its cube is {cube}\")\n",
    "        yield cube # generator\n",
    "var=get_cube()\n",
    "print(var)\n",
    "print(next(var))# 8\n",
    "print(next(var))# 27"
   ]
  },
  {
   "cell_type": "code",
   "execution_count": 4,
   "id": "3f20d114",
   "metadata": {},
   "outputs": [
    {
     "name": "stdout",
     "output_type": "stream",
     "text": [
      "This is fun\n",
      "Welcome__1\n",
      "Welcome__2\n",
      "Welcome__3\n"
     ]
    }
   ],
   "source": [
    "def get_fun():\n",
    "    print(\"This is fun\")\n",
    "    yield \"Welcome__1\"\n",
    "    yield \"Welcome__2\"\n",
    "    yield \"Welcome__3\"\n",
    "var = get_fun()\n",
    "print(next(var)) # \n",
    "print(next(var)) # \n",
    "print(next(var)) # "
   ]
  },
  {
   "cell_type": "code",
   "execution_count": null,
   "id": "f06bb8a3",
   "metadata": {},
   "outputs": [],
   "source": [
    "1) Iter > class is used to implement an iterator\n",
    "1) Generator > Generator are implemented using function\n",
    "\n",
    "2) Iterator uses > iter() and next methdo\n",
    "2) Generator  uses yield keyword\n",
    "\n",
    "3) Iterator are mostly use to iterate or to convert other objects to an iterator uisng iter() fun\n",
    "3) Gernerator atre mostly used in loops to generate an iterator\n",
    "\n",
    "4) Every iterator is not generator\n",
    "4) Every gererator is an iterator                                                                               "
   ]
  },
  {
   "cell_type": "code",
   "execution_count": 14,
   "id": "cf6c037c",
   "metadata": {},
   "outputs": [
    {
     "name": "stdout",
     "output_type": "stream",
     "text": [
      "2\n"
     ]
    }
   ],
   "source": [
    "list1 = [2,3,4,5,6,6,7]\n",
    "iter_obj = iter(list1) # object\n",
    "print(next(iter_obj))\n"
   ]
  },
  {
   "cell_type": "markdown",
   "id": "64d46a20",
   "metadata": {},
   "source": [
    "## Decorator"
   ]
  },
  {
   "cell_type": "raw",
   "id": "c5c3bd0d",
   "metadata": {},
   "source": [
    "@abstractmethod   # decorator\n",
    "def get_method(): # abstract method\n",
    "\n",
    "Function that takes another function as it argument (Higher order function) and return another function (Object of function)\n",
    "\n",
    "basically a decorator takes in a function, adds some functionality and then it return it as function"
   ]
  },
  {
   "cell_type": "code",
   "execution_count": 15,
   "id": "fca51e73",
   "metadata": {},
   "outputs": [
    {
     "name": "stdout",
     "output_type": "stream",
     "text": [
      "This is normal method\n"
     ]
    }
   ],
   "source": [
    "def get_Outer_method():\n",
    "    print(\"This is normal method\")\n",
    "    return \n",
    "get_Outer_method()"
   ]
  },
  {
   "cell_type": "code",
   "execution_count": 16,
   "id": "90401851",
   "metadata": {},
   "outputs": [
    {
     "name": "stdout",
     "output_type": "stream",
     "text": [
      "This is outer method\n"
     ]
    }
   ],
   "source": [
    "def get_Outer_method():\n",
    "    print(\"This is outer method\")\n",
    "    def get_inner_method():\n",
    "        print(\"This is inner method\")\n",
    "get_Outer_method()"
   ]
  },
  {
   "cell_type": "code",
   "execution_count": 17,
   "id": "8bc85e1e",
   "metadata": {},
   "outputs": [
    {
     "name": "stdout",
     "output_type": "stream",
     "text": [
      "This is outer method\n"
     ]
    },
    {
     "data": {
      "text/plain": [
       "'Evening batch'"
      ]
     },
     "execution_count": 17,
     "metadata": {},
     "output_type": "execute_result"
    }
   ],
   "source": [
    "def get_Outer_method():\n",
    "    print(\"This is outer method\")\n",
    "    def get_inner_method():\n",
    "        print(\"This is inner method\")\n",
    "    return \"Evening batch\"\n",
    "get_Outer_method()"
   ]
  },
  {
   "cell_type": "code",
   "execution_count": 1,
   "id": "85ee579e",
   "metadata": {},
   "outputs": [
    {
     "name": "stdout",
     "output_type": "stream",
     "text": [
      "This is outer method\n",
      "This is inner method\n"
     ]
    },
    {
     "data": {
      "text/plain": [
       "'Evening batch'"
      ]
     },
     "execution_count": 1,
     "metadata": {},
     "output_type": "execute_result"
    }
   ],
   "source": [
    "def get_Outer_method():\n",
    "    print(\"This is outer method\")\n",
    "    def get_inner_method():\n",
    "        print(\"This is inner method\")\n",
    "    get_inner_method()\n",
    "    return \"Evening batch\"\n",
    "get_Outer_method()"
   ]
  },
  {
   "cell_type": "code",
   "execution_count": 19,
   "id": "42fbe47d",
   "metadata": {},
   "outputs": [
    {
     "name": "stdout",
     "output_type": "stream",
     "text": [
      "This is outer method\n",
      "This is inner method\n"
     ]
    }
   ],
   "source": [
    "def get_Outer_method():\n",
    "    print(\"This is outer method\")\n",
    "    def get_inner_method():\n",
    "        print(\"This is inner method\")\n",
    "    \n",
    "    return get_inner_method()\n",
    "get_Outer_method()\n",
    "\n",
    "# Function that takes another function as it argument (Higher order function) \n",
    "# and return another function (Object of function)"
   ]
  },
  {
   "cell_type": "code",
   "execution_count": 20,
   "id": "7a77f2ce",
   "metadata": {},
   "outputs": [
    {
     "name": "stdout",
     "output_type": "stream",
     "text": [
      "This is outer method\n",
      "<function get_Outer_method.<locals>.get_inner_method at 0x000001D191EEDDC0>\n"
     ]
    }
   ],
   "source": [
    "def get_Outer_method():\n",
    "    print(\"This is outer method\")\n",
    "    def get_inner_method():\n",
    "        print(\"This is inner method\")\n",
    "    \n",
    "    return get_inner_method\n",
    "var = get_Outer_method()\n",
    "print(var)\n",
    "# Function that takes another function as it argument (Higher order function) \n",
    "# and return another function (Object of function)"
   ]
  },
  {
   "cell_type": "code",
   "execution_count": 22,
   "id": "e87d8893",
   "metadata": {},
   "outputs": [
    {
     "name": "stdout",
     "output_type": "stream",
     "text": [
      "This is outer method\n",
      "This is inner method\n",
      "Welcome\n"
     ]
    }
   ],
   "source": [
    "def get_Outer_method():\n",
    "    print(\"This is outer method\")\n",
    "    def get_inner_method():\n",
    "        print(\"This is inner method\")\n",
    "        return \"Welcome\"\n",
    "    \n",
    "    return get_inner_method\n",
    "var = get_Outer_method()\n",
    "print(var())\n",
    "# Function that takes another function as it argument (Higher order function) \n",
    "# and return another function (Object of function)"
   ]
  },
  {
   "cell_type": "code",
   "execution_count": 25,
   "id": "3dd4be78",
   "metadata": {},
   "outputs": [
    {
     "name": "stdout",
     "output_type": "stream",
     "text": [
      "This is outer method\n",
      "We are testing decorator\n",
      "<function get_Outer_method.<locals>.get_inner_method at 0x000001D191F6C280>\n"
     ]
    }
   ],
   "source": [
    "def get_Outer_method(fun):\n",
    "    print(\"This is outer method\")\n",
    "    fun()\n",
    "    def get_inner_method():\n",
    "        print(\"This is inner method\")\n",
    "        return \"Welcome\"\n",
    "    \n",
    "    return get_inner_method\n",
    "def get_my_fun():\n",
    "    print(\"We are testing decorator\")\n",
    "var = get_Outer_method(get_my_fun)#(Higher order function) \n",
    "print(var)\n",
    "# Function that takes another function as it argument (Higher order function) \n",
    "# and return another function (Object of function)"
   ]
  },
  {
   "cell_type": "code",
   "execution_count": 28,
   "id": "b687c412",
   "metadata": {},
   "outputs": [
    {
     "name": "stdout",
     "output_type": "stream",
     "text": [
      "This is outer method\n",
      "This is inner method\n",
      "We are testing decorator\n",
      "Welcome\n"
     ]
    }
   ],
   "source": [
    "def get_Outer_method(fun):\n",
    "    print(\"This is outer method\") # 1\n",
    "\n",
    "    def get_inner_method():\n",
    "        print(\"This is inner method\") # 2\n",
    "        fun()                #3\n",
    "        return \"Welcome\"  #4\n",
    "    \n",
    "    return get_inner_method\n",
    "def get_my_fun():\n",
    "    print(\"We are testing decorator\")\n",
    "var = get_Outer_method(get_my_fun)#(Higher order function) \n",
    "print(var())\n",
    "# Function that takes another function as it argument (Higher order function) \n",
    "# and return another function (Object of function)"
   ]
  },
  {
   "cell_type": "code",
   "execution_count": 1,
   "id": "c64d2a40",
   "metadata": {},
   "outputs": [
    {
     "name": "stdout",
     "output_type": "stream",
     "text": [
      "This is outer method\n",
      "This is inner method\n",
      "ha testing time pass chai raha \n",
      "Welcome\n"
     ]
    }
   ],
   "source": [
    "def get_Outer_method(koushil):\n",
    "    print(\"This is outer method\") # 1\n",
    "\n",
    "    def get_inner_method():\n",
    "        print(\"This is inner method\") # 2\n",
    "        koushil()                #3\n",
    "        return \"Welcome\"  #4\n",
    "    \n",
    "    return get_inner_method\n",
    "@get_Outer_method   # internally >>>> get_Outer_method(get_my_fun)\n",
    "def get_my_fun():\n",
    "    print(\"ha testing time pass chai raha \")\n",
    "print(get_my_fun())\n",
    "\n",
    "# var = get_Outer_method(get_my_fun)#(Higher order function) \n",
    "\n",
    "# Function that takes another function as it argument (Higher order function) \n",
    "# and return another function (Object of function)"
   ]
  },
  {
   "cell_type": "code",
   "execution_count": null,
   "id": "b3bb4282",
   "metadata": {},
   "outputs": [],
   "source": [
    "Def Decorator >\n",
    "Differnce between Iterator and Generator"
   ]
  },
  {
   "cell_type": "markdown",
   "id": "4557f7b1",
   "metadata": {},
   "source": [
    "## Regular Expression"
   ]
  },
  {
   "cell_type": "raw",
   "id": "1d594fc8",
   "metadata": {},
   "source": [
    "it is the sequence of character used to check whether the pattern is in given string or text"
   ]
  },
  {
   "cell_type": "code",
   "execution_count": 30,
   "id": "68398ced",
   "metadata": {},
   "outputs": [
    {
     "data": {
      "text/plain": [
       "True"
      ]
     },
     "execution_count": 30,
     "metadata": {},
     "output_type": "execute_result"
    }
   ],
   "source": [
    "a = \"Evening\"\n",
    "\"Evening\" in a"
   ]
  },
  {
   "cell_type": "code",
   "execution_count": 31,
   "id": "7ccafd90",
   "metadata": {},
   "outputs": [],
   "source": [
    "import re"
   ]
  },
  {
   "cell_type": "code",
   "execution_count": null,
   "id": "74e95617",
   "metadata": {},
   "outputs": [],
   "source": [
    "Text Preprocessing\n",
    "NLP\n",
    "Web Scraping > Data Cleaning\n",
    "OCR > Optical character Recognition to convert image to text\n",
    "Pytersseract >  \n",
    "Google Vision > Internet availability needed\n",
    "Amazon Textract > Internet availability needed"
   ]
  },
  {
   "cell_type": "markdown",
   "id": "fee69234",
   "metadata": {},
   "source": [
    "## Regular Expression"
   ]
  },
  {
   "cell_type": "code",
   "execution_count": null,
   "id": "57db3fe0",
   "metadata": {},
   "outputs": [],
   "source": [
    "import re\n",
    "1) re.findall() # regular use\n",
    "2) re.sub() # regular use\n",
    "\n",
    "3) re.match()\n",
    "4) re.search()\n",
    "5) re.compile()"
   ]
  },
  {
   "cell_type": "code",
   "execution_count": null,
   "id": "f1ab3d90",
   "metadata": {},
   "outputs": [],
   "source": []
  }
 ],
 "metadata": {
  "kernelspec": {
   "display_name": "Python 3 (ipykernel)",
   "language": "python",
   "name": "python3"
  },
  "language_info": {
   "codemirror_mode": {
    "name": "ipython",
    "version": 3
   },
   "file_extension": ".py",
   "mimetype": "text/x-python",
   "name": "python",
   "nbconvert_exporter": "python",
   "pygments_lexer": "ipython3",
   "version": "3.10.5"
  }
 },
 "nbformat": 4,
 "nbformat_minor": 5
}
