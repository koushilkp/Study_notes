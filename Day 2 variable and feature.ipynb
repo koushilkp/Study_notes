{
 "cells": [
  {
   "cell_type": "markdown",
   "id": "3c3f76a4",
   "metadata": {},
   "source": [
    "# structure form"
   ]
  },
  {
   "cell_type": "markdown",
   "id": "e740cf53",
   "metadata": {},
   "source": [
    "# semi structure  form >"
   ]
  },
  {
   "cell_type": "markdown",
   "id": "d4a360c4",
   "metadata": {},
   "source": [
    "# unstructure form >"
   ]
  },
  {
   "cell_type": "code",
   "execution_count": 30,
   "id": "0035ab63",
   "metadata": {},
   "outputs": [
    {
     "name": "stdout",
     "output_type": "stream",
     "text": [
      "true\n"
     ]
    }
   ],
   "source": [
    "nana=78\n",
    "if nana>= 100:\n",
    "    print(\"false\")   #: coral dala hai *imp hai\n",
    "else: \n",
    "    print(\"true\")\n",
    "    "
   ]
  },
  {
   "cell_type": "markdown",
   "id": "d4867e27",
   "metadata": {},
   "source": [
    "# INDENTATION\n"
   ]
  },
  {
   "cell_type": "code",
   "execution_count": 10,
   "id": "13e315f0",
   "metadata": {},
   "outputs": [
    {
     "name": "stdout",
     "output_type": "stream",
     "text": [
      "false\n"
     ]
    }
   ],
   "source": [
    "koushil=26\n",
    "if koushil >=26:\n",
    "    print(\"false\")\n",
    "\n",
    "else:\n",
    "    print(\"true\")"
   ]
  },
  {
   "cell_type": "code",
   "execution_count": 21,
   "id": "e25f233e",
   "metadata": {},
   "outputs": [
    {
     "data": {
      "text/plain": [
       "float"
      ]
     },
     "execution_count": 21,
     "metadata": {},
     "output_type": "execute_result"
    }
   ],
   "source": [
    "koushil=52.89\n",
    "type(koushil)"
   ]
  },
  {
   "cell_type": "code",
   "execution_count": 22,
   "id": "ee7a9b40",
   "metadata": {},
   "outputs": [
    {
     "data": {
      "text/plain": [
       "int"
      ]
     },
     "execution_count": 22,
     "metadata": {},
     "output_type": "execute_result"
    }
   ],
   "source": [
    "sushil=30\n",
    "type(sushil)"
   ]
  },
  {
   "cell_type": "code",
   "execution_count": 29,
   "id": "f52472d8",
   "metadata": {},
   "outputs": [
    {
     "data": {
      "text/plain": [
       "str"
      ]
     },
     "execution_count": 29,
     "metadata": {},
     "output_type": "execute_result"
    }
   ],
   "source": [
    "Mummy=\"kal aayega\"\n",
    "type(\"Mummay\")"
   ]
  },
  {
   "cell_type": "code",
   "execution_count": 26,
   "id": "454c6e1d",
   "metadata": {},
   "outputs": [
    {
     "name": "stdout",
     "output_type": "stream",
     "text": [
      "\n",
      "Here is a list of the Python keywords.  Enter any keyword to get more help.\n",
      "\n",
      "False               class               from                or\n",
      "None                continue            global              pass\n",
      "True                def                 if                  raise\n",
      "and                 del                 import              return\n",
      "as                  elif                in                  try\n",
      "assert              else                is                  while\n",
      "async               except              lambda              with\n",
      "await               finally             nonlocal            yield\n",
      "break               for                 not                 \n",
      "\n"
     ]
    }
   ],
   "source": [
    "# help(\"keywords\")\n"
   ]
  },
  {
   "cell_type": "code",
   "execution_count": 31,
   "id": "3ccd643e",
   "metadata": {},
   "outputs": [
    {
     "data": {
      "text/plain": [
       "int"
      ]
     },
     "execution_count": 31,
     "metadata": {},
     "output_type": "execute_result"
    }
   ],
   "source": [
    "a=10\n",
    "type(a)"
   ]
  },
  {
   "cell_type": "code",
   "execution_count": 32,
   "id": "e6b578d5",
   "metadata": {},
   "outputs": [
    {
     "data": {
      "text/plain": [
       "float"
      ]
     },
     "execution_count": 32,
     "metadata": {},
     "output_type": "execute_result"
    }
   ],
   "source": [
    "b=12.56\n",
    "type(b)"
   ]
  },
  {
   "cell_type": "code",
   "execution_count": 34,
   "id": "5c3bf309",
   "metadata": {},
   "outputs": [
    {
     "data": {
      "text/plain": [
       "str"
      ]
     },
     "execution_count": 34,
     "metadata": {},
     "output_type": "execute_result"
    }
   ],
   "source": [
    "c=(\"ha mein hu pagal\")\n",
    "type(c)"
   ]
  },
  {
   "cell_type": "code",
   "execution_count": null,
   "id": "9bb74f4a",
   "metadata": {},
   "outputs": [],
   "source": []
  },
  {
   "cell_type": "code",
   "execution_count": null,
   "id": "f0d5dfca",
   "metadata": {},
   "outputs": [],
   "source": []
  },
  {
   "cell_type": "code",
   "execution_count": 35,
   "id": "6fbf2248",
   "metadata": {},
   "outputs": [
    {
     "name": "stdout",
     "output_type": "stream",
     "text": [
      "56\n"
     ]
    }
   ],
   "source": [
    "_a=56\n",
    "print(_a)"
   ]
  },
  {
   "cell_type": "code",
   "execution_count": 42,
   "id": "98d5ef8a",
   "metadata": {},
   "outputs": [
    {
     "ename": "IndentationError",
     "evalue": "expected an indented block after function definition on line 2 (4136729943.py, line 5)",
     "output_type": "error",
     "traceback": [
      "\u001b[1;36m  Input \u001b[1;32mIn [42]\u001b[1;36m\u001b[0m\n\u001b[1;33m    kp()\u001b[0m\n\u001b[1;37m    ^\u001b[0m\n\u001b[1;31mIndentationError\u001b[0m\u001b[1;31m:\u001b[0m expected an indented block after function definition on line 2\n"
     ]
    }
   ],
   "source": [
    "vicky=46\n",
    "def kp():\n",
    "#     mama=58\n",
    "#     print(mama)\n",
    "kp()\n",
    "print(vicky)"
   ]
  },
  {
   "cell_type": "markdown",
   "id": "0971e599",
   "metadata": {},
   "source": [
    "# Types of Print"
   ]
  },
  {
   "cell_type": "markdown",
   "id": "251a21ce",
   "metadata": {},
   "source": [
    "## .format"
   ]
  },
  {
   "cell_type": "markdown",
   "id": "ed079e1b",
   "metadata": {},
   "source": [
    "## fstring"
   ]
  },
  {
   "cell_type": "markdown",
   "id": "9734e9ff",
   "metadata": {},
   "source": [
    "## %module"
   ]
  },
  {
   "cell_type": "code",
   "execution_count": 48,
   "id": "1c7e8670",
   "metadata": {},
   "outputs": [
    {
     "name": "stdout",
     "output_type": "stream",
     "text": [
      "Additional of a=98and b56.65 is 154.65\n",
      "Multiply of a=98and b56.65 is 5551.7\n",
      "Subtraction of a=98and b56.65 is 41.35\n",
      "Divide of a=98and b56.65 is 1.7299205648720213\n"
     ]
    }
   ],
   "source": [
    "a=98\n",
    "b=56.65\n",
    "add=a+b\n",
    "multi=a*b\n",
    "sub=a-b\n",
    "divide=a/b\n",
    "print(\"Additional of a={}and b{} is {}\".format(a,b,add))\n",
    "print(\"Multiply of a={}and b{} is {}\".format(a,b,multi))\n",
    "print(\"Subtraction of a={}and b{} is {}\".format(a,b,sub))\n",
    "print(\"Divide of a={}and b{} is {}\".format(a,b,divide))"
   ]
  },
  {
   "cell_type": "code",
   "execution_count": null,
   "id": "20adae57",
   "metadata": {},
   "outputs": [],
   "source": []
  },
  {
   "cell_type": "code",
   "execution_count": 7,
   "id": "94ca8d30",
   "metadata": {},
   "outputs": [
    {
     "name": "stdout",
     "output_type": "stream",
     "text": [
      "Additional of a=98and b=56.65 is 154.65\n"
     ]
    }
   ],
   "source": [
    "a=98\n",
    "b=56.65   #String\n",
    "add=a+b\n",
    "multi=a*b\n",
    "sub=a-b\n",
    "divide=a/b\n",
    "print(f\"Additional of a={a}and b={b} is {add}\")"
   ]
  },
  {
   "cell_type": "code",
   "execution_count": 9,
   "id": "4f468c41",
   "metadata": {},
   "outputs": [
    {
     "name": "stdout",
     "output_type": "stream",
     "text": [
      "add of 98 and 56.650000 is 154.650000\n"
     ]
    }
   ],
   "source": [
    "print(\"add of %d and %f is %3f\" %(a,b,a+b))"
   ]
  },
  {
   "cell_type": "code",
   "execution_count": 12,
   "id": "6cf6b87d",
   "metadata": {},
   "outputs": [
    {
     "data": {
      "text/plain": [
       "'gachine LearningM'"
      ]
     },
     "execution_count": 12,
     "metadata": {},
     "output_type": "execute_result"
    }
   ],
   "source": [
    "str=\"Machine Learning\"\n",
    "str[-1]+str[1:len(str)]+str[0]"
   ]
  },
  {
   "cell_type": "code",
   "execution_count": null,
   "id": "504186db",
   "metadata": {},
   "outputs": [],
   "source": []
  },
  {
   "cell_type": "code",
   "execution_count": null,
   "id": "e0c2c3ba",
   "metadata": {},
   "outputs": [],
   "source": []
  }
 ],
 "metadata": {
  "kernelspec": {
   "display_name": "Python 3 (ipykernel)",
   "language": "python",
   "name": "python3"
  },
  "language_info": {
   "codemirror_mode": {
    "name": "ipython",
    "version": 3
   },
   "file_extension": ".py",
   "mimetype": "text/x-python",
   "name": "python",
   "nbconvert_exporter": "python",
   "pygments_lexer": "ipython3",
   "version": "3.10.5"
  }
 },
 "nbformat": 4,
 "nbformat_minor": 5
}
