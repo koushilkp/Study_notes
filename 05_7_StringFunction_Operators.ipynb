{
 "cells": [
  {
   "cell_type": "markdown",
   "id": "6b70fea8",
   "metadata": {},
   "source": [
    "# 19)isdecimal()"
   ]
  },
  {
   "cell_type": "raw",
   "id": "4774e5aa",
   "metadata": {},
   "source": [
    "It return True/False\n",
    "0-9 Numbers only"
   ]
  },
  {
   "cell_type": "code",
   "execution_count": 1,
   "id": "8263f466",
   "metadata": {},
   "outputs": [
    {
     "data": {
      "text/plain": [
       "False"
      ]
     },
     "execution_count": 1,
     "metadata": {},
     "output_type": "execute_result"
    }
   ],
   "source": [
    "str1 =\"1222 4444\"\n",
    "str1.isdecimal()"
   ]
  },
  {
   "cell_type": "code",
   "execution_count": 2,
   "id": "89dbb9ba",
   "metadata": {},
   "outputs": [
    {
     "data": {
      "text/plain": [
       "True"
      ]
     },
     "execution_count": 2,
     "metadata": {},
     "output_type": "execute_result"
    }
   ],
   "source": [
    "str1 = \"\\u0030\"  # 0\n",
    "str1.isdecimal()"
   ]
  },
  {
   "cell_type": "code",
   "execution_count": 3,
   "id": "ff682e12",
   "metadata": {},
   "outputs": [
    {
     "name": "stdout",
     "output_type": "stream",
     "text": [
      "0\n"
     ]
    },
    {
     "data": {
      "text/plain": [
       "True"
      ]
     },
     "execution_count": 3,
     "metadata": {},
     "output_type": "execute_result"
    }
   ],
   "source": [
    "str1 = \"\\u0030\"  # 0\n",
    "print(str1)\n",
    "str1.isdecimal()"
   ]
  },
  {
   "cell_type": "code",
   "execution_count": 4,
   "id": "ec9e8722",
   "metadata": {},
   "outputs": [
    {
     "name": "stdout",
     "output_type": "stream",
     "text": [
      "9\n"
     ]
    },
    {
     "data": {
      "text/plain": [
       "True"
      ]
     },
     "execution_count": 4,
     "metadata": {},
     "output_type": "execute_result"
    }
   ],
   "source": [
    "str1 = \"\\u0039\"  # 9\n",
    "print(str1)\n",
    "str1.isdecimal()"
   ]
  },
  {
   "cell_type": "markdown",
   "id": "ed853126",
   "metadata": {},
   "source": [
    "## 20) isdigit()"
   ]
  },
  {
   "cell_type": "raw",
   "id": "a636cfe2",
   "metadata": {},
   "source": [
    "It return True/False\n",
    "True > For digit,subscript (H2O),Superscript (x**2)"
   ]
  },
  {
   "cell_type": "code",
   "execution_count": 9,
   "id": "d85560e2",
   "metadata": {},
   "outputs": [
    {
     "name": "stdout",
     "output_type": "stream",
     "text": [
      "0\n"
     ]
    },
    {
     "data": {
      "text/plain": [
       "True"
      ]
     },
     "execution_count": 9,
     "metadata": {},
     "output_type": "execute_result"
    }
   ],
   "source": [
    "str1 = \"\\u0030\"\n",
    "print(str1)\n",
    "str1.isdigit()"
   ]
  },
  {
   "cell_type": "code",
   "execution_count": 6,
   "id": "a11f54df",
   "metadata": {},
   "outputs": [
    {
     "data": {
      "text/plain": [
       "False"
      ]
     },
     "execution_count": 6,
     "metadata": {},
     "output_type": "execute_result"
    }
   ],
   "source": [
    "str1 = \"123  444\"\n",
    "str1.isdigit()"
   ]
  },
  {
   "cell_type": "code",
   "execution_count": 7,
   "id": "370cc144",
   "metadata": {},
   "outputs": [
    {
     "data": {
      "text/plain": [
       "True"
      ]
     },
     "execution_count": 7,
     "metadata": {},
     "output_type": "execute_result"
    }
   ],
   "source": [
    "str1 = \"123444\"\n",
    "str1.isdigit()"
   ]
  },
  {
   "cell_type": "code",
   "execution_count": 8,
   "id": "88f8ac8d",
   "metadata": {},
   "outputs": [
    {
     "data": {
      "text/plain": [
       "False"
      ]
     },
     "execution_count": 8,
     "metadata": {},
     "output_type": "execute_result"
    }
   ],
   "source": [
    "str1 = \"123444a\"\n",
    "str1.isdigit()"
   ]
  },
  {
   "cell_type": "markdown",
   "id": "3636c49b",
   "metadata": {},
   "source": [
    "## 21) isnumeric()"
   ]
  },
  {
   "cell_type": "code",
   "execution_count": null,
   "id": "8686a7ba",
   "metadata": {},
   "outputs": [],
   "source": [
    "It return True/False\n",
    "True > if all char are digit / subscript / superscript /vulger fraction (1/2,3/4)"
   ]
  },
  {
   "cell_type": "code",
   "execution_count": 10,
   "id": "3ebc0a48",
   "metadata": {},
   "outputs": [
    {
     "data": {
      "text/plain": [
       "True"
      ]
     },
     "execution_count": 10,
     "metadata": {},
     "output_type": "execute_result"
    }
   ],
   "source": [
    "str1 = \"1234\"\n",
    "str1.isnumeric()"
   ]
  },
  {
   "cell_type": "code",
   "execution_count": 11,
   "id": "66384fe1",
   "metadata": {},
   "outputs": [
    {
     "data": {
      "text/plain": [
       "True"
      ]
     },
     "execution_count": 11,
     "metadata": {},
     "output_type": "execute_result"
    }
   ],
   "source": [
    "str1 = \"\\u0030\"\n",
    "str1.isnumeric()"
   ]
  },
  {
   "cell_type": "code",
   "execution_count": 12,
   "id": "64ed4832",
   "metadata": {},
   "outputs": [
    {
     "name": "stdout",
     "output_type": "stream",
     "text": [
      "¾\n"
     ]
    },
    {
     "data": {
      "text/plain": [
       "True"
      ]
     },
     "execution_count": 12,
     "metadata": {},
     "output_type": "execute_result"
    }
   ],
   "source": [
    "str1 = \"\\u00BE\"\n",
    "print(str1)\n",
    "str1.isnumeric()"
   ]
  },
  {
   "cell_type": "code",
   "execution_count": 13,
   "id": "21583153",
   "metadata": {},
   "outputs": [
    {
     "data": {
      "text/plain": [
       "False"
      ]
     },
     "execution_count": 13,
     "metadata": {},
     "output_type": "execute_result"
    }
   ],
   "source": [
    "str1 =\"123 258\"\n",
    "str1.isnumeric()"
   ]
  },
  {
   "cell_type": "code",
   "execution_count": 14,
   "id": "04fc543f",
   "metadata": {},
   "outputs": [
    {
     "data": {
      "text/plain": [
       "False"
      ]
     },
     "execution_count": 14,
     "metadata": {},
     "output_type": "execute_result"
    }
   ],
   "source": [
    "str1 =\"123258@\"\n",
    "str1.isnumeric()"
   ]
  },
  {
   "cell_type": "code",
   "execution_count": 15,
   "id": "85f9d6fe",
   "metadata": {},
   "outputs": [
    {
     "name": "stdout",
     "output_type": "stream",
     "text": [
      "½\n"
     ]
    },
    {
     "data": {
      "text/plain": [
       "True"
      ]
     },
     "execution_count": 15,
     "metadata": {},
     "output_type": "execute_result"
    }
   ],
   "source": [
    "str1 = \"\\u00BD\"\n",
    "print(str1)\n",
    "str1.isnumeric()"
   ]
  },
  {
   "cell_type": "markdown",
   "id": "fb98e755",
   "metadata": {},
   "source": [
    "## 22) islower()"
   ]
  },
  {
   "cell_type": "code",
   "execution_count": null,
   "id": "47f9f5be",
   "metadata": {},
   "outputs": [],
   "source": [
    "True> if all alphabets are in lower case \n",
    "also it allow spaces, special char ,number"
   ]
  },
  {
   "cell_type": "code",
   "execution_count": 16,
   "id": "4c78d1af",
   "metadata": {},
   "outputs": [
    {
     "data": {
      "text/plain": [
       "False"
      ]
     },
     "execution_count": 16,
     "metadata": {},
     "output_type": "execute_result"
    }
   ],
   "source": [
    "str1 = \"12235\"\n",
    "str1.islower()"
   ]
  },
  {
   "cell_type": "code",
   "execution_count": 19,
   "id": "01553620",
   "metadata": {},
   "outputs": [
    {
     "data": {
      "text/plain": [
       "True"
      ]
     },
     "execution_count": 19,
     "metadata": {},
     "output_type": "execute_result"
    }
   ],
   "source": [
    "str1 = \"a12235\"\n",
    "str1.islower()"
   ]
  },
  {
   "cell_type": "code",
   "execution_count": 20,
   "id": "37eba5d3",
   "metadata": {},
   "outputs": [
    {
     "data": {
      "text/plain": [
       "True"
      ]
     },
     "execution_count": 20,
     "metadata": {},
     "output_type": "execute_result"
    }
   ],
   "source": [
    "str1 = \"abcd@\"\n",
    "str1.islower()"
   ]
  },
  {
   "cell_type": "code",
   "execution_count": 21,
   "id": "94be1b87",
   "metadata": {},
   "outputs": [
    {
     "data": {
      "text/plain": [
       "False"
      ]
     },
     "execution_count": 21,
     "metadata": {},
     "output_type": "execute_result"
    }
   ],
   "source": [
    "str1 = \"@\"\n",
    "str1.islower()"
   ]
  },
  {
   "cell_type": "code",
   "execution_count": 17,
   "id": "c3f29c1f",
   "metadata": {},
   "outputs": [
    {
     "data": {
      "text/plain": [
       "True"
      ]
     },
     "execution_count": 17,
     "metadata": {},
     "output_type": "execute_result"
    }
   ],
   "source": [
    "str1 = \"data science\"\n",
    "str1.islower()"
   ]
  },
  {
   "cell_type": "code",
   "execution_count": 18,
   "id": "5bc2c0a7",
   "metadata": {},
   "outputs": [
    {
     "data": {
      "text/plain": [
       "False"
      ]
     },
     "execution_count": 18,
     "metadata": {},
     "output_type": "execute_result"
    }
   ],
   "source": [
    "str1 = \"datA science\"\n",
    "str1.islower()"
   ]
  },
  {
   "cell_type": "markdown",
   "id": "e2c0090f",
   "metadata": {},
   "source": [
    "## 23) isupper()"
   ]
  },
  {
   "cell_type": "code",
   "execution_count": 22,
   "id": "bebc3f37",
   "metadata": {},
   "outputs": [
    {
     "data": {
      "text/plain": [
       "True"
      ]
     },
     "execution_count": 22,
     "metadata": {},
     "output_type": "execute_result"
    }
   ],
   "source": [
    "str1 =\"ABCD\"\n",
    "str1.isupper()"
   ]
  },
  {
   "cell_type": "code",
   "execution_count": 23,
   "id": "c8ab487e",
   "metadata": {},
   "outputs": [
    {
     "data": {
      "text/plain": [
       "False"
      ]
     },
     "execution_count": 23,
     "metadata": {},
     "output_type": "execute_result"
    }
   ],
   "source": [
    "str1 =\"AbCD\"\n",
    "str1.isupper()"
   ]
  },
  {
   "cell_type": "code",
   "execution_count": 24,
   "id": "ff513610",
   "metadata": {},
   "outputs": [
    {
     "data": {
      "text/plain": [
       "True"
      ]
     },
     "execution_count": 24,
     "metadata": {},
     "output_type": "execute_result"
    }
   ],
   "source": [
    "str1 =\"ABCD123\"\n",
    "str1.isupper()"
   ]
  },
  {
   "cell_type": "code",
   "execution_count": 25,
   "id": "21961104",
   "metadata": {},
   "outputs": [
    {
     "data": {
      "text/plain": [
       "True"
      ]
     },
     "execution_count": 25,
     "metadata": {},
     "output_type": "execute_result"
    }
   ],
   "source": [
    "str1 =\"ABCD#\"\n",
    "str1.isupper()"
   ]
  },
  {
   "cell_type": "code",
   "execution_count": 27,
   "id": "2c82abf9",
   "metadata": {},
   "outputs": [
    {
     "data": {
      "text/plain": [
       "True"
      ]
     },
     "execution_count": 27,
     "metadata": {},
     "output_type": "execute_result"
    }
   ],
   "source": [
    "str1 =\"A1B CD#\"\n",
    "str1.isupper()"
   ]
  },
  {
   "cell_type": "code",
   "execution_count": 28,
   "id": "936b8a35",
   "metadata": {},
   "outputs": [
    {
     "data": {
      "text/plain": [
       "False"
      ]
     },
     "execution_count": 28,
     "metadata": {},
     "output_type": "execute_result"
    }
   ],
   "source": [
    "str1 =\"a1B CD#\"\n",
    "str1.isupper()"
   ]
  },
  {
   "cell_type": "code",
   "execution_count": 29,
   "id": "42a29ce7",
   "metadata": {},
   "outputs": [
    {
     "data": {
      "text/plain": [
       "True"
      ]
     },
     "execution_count": 29,
     "metadata": {},
     "output_type": "execute_result"
    }
   ],
   "source": [
    "str1 =\"a1B CD#\".upper()\n",
    "str1.isupper()"
   ]
  },
  {
   "cell_type": "code",
   "execution_count": 30,
   "id": "a9376b4e",
   "metadata": {},
   "outputs": [
    {
     "data": {
      "text/plain": [
       "False"
      ]
     },
     "execution_count": 30,
     "metadata": {},
     "output_type": "execute_result"
    }
   ],
   "source": [
    "str1 =\"$@#%\"\n",
    "str1.isupper()"
   ]
  },
  {
   "cell_type": "code",
   "execution_count": 31,
   "id": "55819d8e",
   "metadata": {},
   "outputs": [
    {
     "data": {
      "text/plain": [
       "True"
      ]
     },
     "execution_count": 31,
     "metadata": {},
     "output_type": "execute_result"
    }
   ],
   "source": [
    "str1 = \"     ACBD\"\n",
    "str1.isupper()"
   ]
  },
  {
   "cell_type": "markdown",
   "id": "e24828b9",
   "metadata": {},
   "source": [
    "## 24) istitle()"
   ]
  },
  {
   "cell_type": "code",
   "execution_count": 32,
   "id": "9037885f",
   "metadata": {},
   "outputs": [
    {
     "data": {
      "text/plain": [
       "True"
      ]
     },
     "execution_count": 32,
     "metadata": {},
     "output_type": "execute_result"
    }
   ],
   "source": [
    "str1 = \"Data Science\"\n",
    "str1.istitle()"
   ]
  },
  {
   "cell_type": "code",
   "execution_count": 33,
   "id": "9e8bc7d3",
   "metadata": {},
   "outputs": [
    {
     "data": {
      "text/plain": [
       "False"
      ]
     },
     "execution_count": 33,
     "metadata": {},
     "output_type": "execute_result"
    }
   ],
   "source": [
    "str1 = \"Data science\"\n",
    "str1.istitle()"
   ]
  },
  {
   "cell_type": "code",
   "execution_count": 34,
   "id": "d0366a18",
   "metadata": {},
   "outputs": [
    {
     "data": {
      "text/plain": [
       "True"
      ]
     },
     "execution_count": 34,
     "metadata": {},
     "output_type": "execute_result"
    }
   ],
   "source": [
    "str1 = \"Data Science123\"\n",
    "str1.istitle()"
   ]
  },
  {
   "cell_type": "code",
   "execution_count": 35,
   "id": "4e691e0b",
   "metadata": {},
   "outputs": [
    {
     "data": {
      "text/plain": [
       "True"
      ]
     },
     "execution_count": 35,
     "metadata": {},
     "output_type": "execute_result"
    }
   ],
   "source": [
    "str1 = \"Data Science@\"\n",
    "str1.istitle()"
   ]
  },
  {
   "cell_type": "code",
   "execution_count": 36,
   "id": "14ae5c06",
   "metadata": {},
   "outputs": [
    {
     "data": {
      "text/plain": [
       "False"
      ]
     },
     "execution_count": 36,
     "metadata": {},
     "output_type": "execute_result"
    }
   ],
   "source": [
    "str1 = \"Data Science@\"\n",
    "str1.isalpha()"
   ]
  },
  {
   "cell_type": "markdown",
   "id": "0c1ddeb5",
   "metadata": {},
   "source": [
    "## 25) isspaces()"
   ]
  },
  {
   "cell_type": "raw",
   "id": "63e1ef98",
   "metadata": {},
   "source": [
    "True > if string contain only spaces"
   ]
  },
  {
   "cell_type": "code",
   "execution_count": 39,
   "id": "f58ba26a",
   "metadata": {},
   "outputs": [
    {
     "data": {
      "text/plain": [
       "True"
      ]
     },
     "execution_count": 39,
     "metadata": {},
     "output_type": "execute_result"
    }
   ],
   "source": [
    "str1 = \"  \"\n",
    "str1.isspace()"
   ]
  },
  {
   "cell_type": "code",
   "execution_count": 40,
   "id": "cb5c9823",
   "metadata": {},
   "outputs": [
    {
     "data": {
      "text/plain": [
       "False"
      ]
     },
     "execution_count": 40,
     "metadata": {},
     "output_type": "execute_result"
    }
   ],
   "source": [
    "str1 = \"\"\n",
    "str1.isspace()"
   ]
  },
  {
   "cell_type": "code",
   "execution_count": 41,
   "id": "4e68f890",
   "metadata": {},
   "outputs": [
    {
     "data": {
      "text/plain": [
       "False"
      ]
     },
     "execution_count": 41,
     "metadata": {},
     "output_type": "execute_result"
    }
   ],
   "source": [
    "str1 = \"  1   \"\n",
    "str1.isspace()"
   ]
  },
  {
   "cell_type": "code",
   "execution_count": 42,
   "id": "b27da07c",
   "metadata": {},
   "outputs": [
    {
     "data": {
      "text/plain": [
       "False"
      ]
     },
     "execution_count": 42,
     "metadata": {},
     "output_type": "execute_result"
    }
   ],
   "source": [
    "str1 = \"  abcd   \"\n",
    "str1.isspace()"
   ]
  },
  {
   "cell_type": "markdown",
   "id": "5c60e849",
   "metadata": {},
   "source": [
    "## How to remove blank lines "
   ]
  },
  {
   "cell_type": "code",
   "execution_count": 56,
   "id": "146c53eb",
   "metadata": {},
   "outputs": [
    {
     "name": "stdout",
     "output_type": "stream",
     "text": [
      " Machine learning (ML) is a type of artificial \n",
      "\n",
      "intelligence (AI) that allows software applications to \n",
      "\n",
      "\n",
      "become more accurate at \n",
      "predicting outcomes without being explicitly programmed to do so. Machine learning algorithms use historical \n",
      "data as input to predict new output values\n"
     ]
    }
   ],
   "source": [
    "str1 = \"\"\" Machine learning (ML) is a type of artificial \n",
    "\n",
    "intelligence (AI) that allows software applications to \n",
    "\n",
    "\n",
    "become more accurate at \\npredicting outcomes without being explicitly programmed to do so. Machine learning algorithms use historical \\ndata as input to predict new output values\"\"\"\n",
    "print(str1)"
   ]
  },
  {
   "cell_type": "code",
   "execution_count": 48,
   "id": "86897cdb",
   "metadata": {},
   "outputs": [
    {
     "data": {
      "text/plain": [
       "'Machine learning (ML) is a type of artificial intelligence (AI) that allows software applications to become more accurate at predicting outcomes without being explicitly programmed to do so. Machine learning algorithms use historical data as input to predict new output values'"
      ]
     },
     "execution_count": 48,
     "metadata": {},
     "output_type": "execute_result"
    }
   ],
   "source": [
    "lst = str1.split()   # replce\n",
    "\" \".join(lst)"
   ]
  },
  {
   "cell_type": "code",
   "execution_count": 50,
   "id": "3e83c391",
   "metadata": {},
   "outputs": [
    {
     "data": {
      "text/plain": [
       "' Machine learning (ML) is a type of artificial intelligence (AI) that allows software applications to become more accurate at predicting outcomes without being explicitly programmed to do so. Machine learning algorithms use historical data as input to predict new output values'"
      ]
     },
     "execution_count": 50,
     "metadata": {},
     "output_type": "execute_result"
    }
   ],
   "source": [
    "str1.replace(\"\\n\",\"\")"
   ]
  },
  {
   "cell_type": "code",
   "execution_count": 60,
   "id": "251f1e19",
   "metadata": {},
   "outputs": [
    {
     "name": "stdout",
     "output_type": "stream",
     "text": [
      "[' Machine learning (ML) is a type of artificial ', '', 'intelligence (AI) that allows software applications to ', '', '', 'become more accurate at ', 'predicting outcomes without being explicitly programmed to do so. Machine learning algorithms use historical ', 'data as input to predict new output values']\n",
      "8\n",
      "\n",
      "Line is  Machine learning (ML) is a type of artificial \n",
      "Line is \n",
      "Line is intelligence (AI) that allows software applications to \n",
      "Line is \n",
      "Line is \n",
      "Line is become more accurate at \n",
      "Line is predicting outcomes without being explicitly programmed to do so. Machine learning algorithms use historical \n",
      "Line is data as input to predict new output values\n"
     ]
    }
   ],
   "source": [
    "lst = str1.split(\"\\n\")\n",
    "print(lst)\n",
    "print(len(lst))\n",
    "print()\n",
    "for line in lst:\n",
    "    if not line.isspace():\n",
    "        print(\"Line is\",line)"
   ]
  },
  {
   "cell_type": "code",
   "execution_count": 53,
   "id": "d91cd851",
   "metadata": {},
   "outputs": [
    {
     "data": {
      "text/plain": [
       "True"
      ]
     },
     "execution_count": 53,
     "metadata": {},
     "output_type": "execute_result"
    }
   ],
   "source": [
    "str1 = \" \\t \"\n",
    "str1.isspace()"
   ]
  },
  {
   "cell_type": "markdown",
   "id": "f9905d2a",
   "metadata": {},
   "source": [
    "## 26) zfill()"
   ]
  },
  {
   "cell_type": "code",
   "execution_count": null,
   "id": "d2663719",
   "metadata": {},
   "outputs": [],
   "source": [
    "it adds zeros at leading of string"
   ]
  },
  {
   "cell_type": "code",
   "execution_count": 61,
   "id": "41b36a55",
   "metadata": {},
   "outputs": [
    {
     "data": {
      "text/plain": [
       "'0000Python'"
      ]
     },
     "execution_count": 61,
     "metadata": {},
     "output_type": "execute_result"
    }
   ],
   "source": [
    "str1 = \"Python\"  # len > 6  > 10-6 =4\n",
    "str1.zfill(10)"
   ]
  },
  {
   "cell_type": "code",
   "execution_count": 62,
   "id": "2532db3c",
   "metadata": {},
   "outputs": [
    {
     "data": {
      "text/plain": [
       "'0000000000000000000000000000000000Python'"
      ]
     },
     "execution_count": 62,
     "metadata": {},
     "output_type": "execute_result"
    }
   ],
   "source": [
    "str1 = \"Python\"  # len > 6  > 40-6 =36\n",
    "str1.zfill(40)"
   ]
  },
  {
   "cell_type": "markdown",
   "id": "8516cb28",
   "metadata": {},
   "source": [
    "## 27) center()"
   ]
  },
  {
   "cell_type": "code",
   "execution_count": 63,
   "id": "fe65ca6d",
   "metadata": {},
   "outputs": [
    {
     "data": {
      "text/plain": [
       "'  Python  '"
      ]
     },
     "execution_count": 63,
     "metadata": {},
     "output_type": "execute_result"
    }
   ],
   "source": [
    "str1 = \"Python\" # len >6  = 10-6 = 4\n",
    "str1.center(10)"
   ]
  },
  {
   "cell_type": "code",
   "execution_count": 64,
   "id": "ae86975e",
   "metadata": {},
   "outputs": [
    {
     "data": {
      "text/plain": [
       "'   Python  '"
      ]
     },
     "execution_count": 64,
     "metadata": {},
     "output_type": "execute_result"
    }
   ],
   "source": [
    "str1 = \"Python\" # len >6  = 11-6 = 5 > 3 ,2\n",
    "str1.center(11)"
   ]
  },
  {
   "cell_type": "code",
   "execution_count": 68,
   "id": "74ed6855",
   "metadata": {},
   "outputs": [
    {
     "data": {
      "text/plain": [
       "'#######################END########################'"
      ]
     },
     "execution_count": 68,
     "metadata": {},
     "output_type": "execute_result"
    }
   ],
   "source": [
    "str1 = \"END\" # len >6  = 11-6 = 5 > 3 ,2\n",
    "str1.center(50,\"#\")"
   ]
  },
  {
   "cell_type": "code",
   "execution_count": 70,
   "id": "72c02439",
   "metadata": {},
   "outputs": [
    {
     "data": {
      "text/plain": [
       "'____________________________END_____________________________'"
      ]
     },
     "execution_count": 70,
     "metadata": {},
     "output_type": "execute_result"
    }
   ],
   "source": [
    "str1 = \"END\" # len >6  = 11-6 = 5 > 3 ,2\n",
    "str1.center(60,\"_\")"
   ]
  },
  {
   "cell_type": "markdown",
   "id": "87c106bc",
   "metadata": {},
   "source": [
    "## IF else Statment"
   ]
  },
  {
   "cell_type": "code",
   "execution_count": null,
   "id": "29cbfdb6",
   "metadata": {},
   "outputs": [],
   "source": [
    "Syntax>   \n",
    "if condition :# True\n",
    "    Block code\n",
    "    statment -1\n",
    "    \n",
    "else:\n",
    "    Statment -1\n",
    "    \n",
    "syntax >\n",
    "if condition -1 :\n",
    "    block of code\n",
    "    statement -1\n",
    "elif condition-2:\n",
    "    block of code\n",
    "    statement -1\n",
    "else:\n",
    "    statement"
   ]
  },
  {
   "cell_type": "raw",
   "id": "867f8b33",
   "metadata": {},
   "source": [
    "if\n",
    "if > elif\n",
    "if  > elif > elif > elif .....\n",
    "if > elif > elif > else\n",
    "if  >else"
   ]
  },
  {
   "cell_type": "code",
   "execution_count": 71,
   "id": "1b10b5f9",
   "metadata": {},
   "outputs": [
    {
     "name": "stdout",
     "output_type": "stream",
     "text": [
      "A is less than 100\n"
     ]
    }
   ],
   "source": [
    "a = 20\n",
    "if a <100: # True\n",
    "    print(\"A is less than 100\")"
   ]
  },
  {
   "cell_type": "code",
   "execution_count": 72,
   "id": "ac7a5a6a",
   "metadata": {},
   "outputs": [],
   "source": [
    "a = 200\n",
    "if a <100: # True\n",
    "    print(\"A is less than 100\")"
   ]
  },
  {
   "cell_type": "code",
   "execution_count": 73,
   "id": "9b31f970",
   "metadata": {},
   "outputs": [],
   "source": [
    "a = 200\n",
    "if a <100: # False\n",
    "    print(\"A is less than 100\")\n",
    "elif a <=100: # False\n",
    "    print(\"A is less than and equal to 100\")"
   ]
  },
  {
   "cell_type": "code",
   "execution_count": 74,
   "id": "b9efc7d3",
   "metadata": {},
   "outputs": [
    {
     "name": "stdout",
     "output_type": "stream",
     "text": [
      "A is less than 100\n"
     ]
    }
   ],
   "source": [
    "a = 200\n",
    "if a >100: # True\n",
    "    print(\"A is less than 100\")\n",
    "elif a <=100: # False\n",
    "    print(\"A is less than and equal to 100\")"
   ]
  },
  {
   "cell_type": "code",
   "execution_count": 75,
   "id": "0833fbae",
   "metadata": {},
   "outputs": [
    {
     "name": "stdout",
     "output_type": "stream",
     "text": [
      "False statement\n"
     ]
    }
   ],
   "source": [
    "a = 1000\n",
    "if a <100: # False\n",
    "    print(\"A is less than 100\")\n",
    "elif a <=100: # False\n",
    "    print(\"A is less than and equal to 100\")\n",
    "else: # True\n",
    "    print(\"False statement\")"
   ]
  },
  {
   "cell_type": "code",
   "execution_count": 76,
   "id": "2b42b145",
   "metadata": {},
   "outputs": [
    {
     "name": "stdout",
     "output_type": "stream",
     "text": [
      "a less than b&c\n"
     ]
    }
   ],
   "source": [
    "a = -100\n",
    "b = 200\n",
    "c = 300\n",
    "if a<b<c: # True\n",
    "    print(\"a less than b&c\")\n",
    "elif a>b>c: # False\n",
    "    print(\"a is greater than b&c\")\n",
    "else: # False\n",
    "    print(\"False statement\")"
   ]
  },
  {
   "cell_type": "code",
   "execution_count": 78,
   "id": "292e1fca",
   "metadata": {},
   "outputs": [
    {
     "name": "stdout",
     "output_type": "stream",
     "text": [
      "Max number>> 400\n",
      "Minimum number is>> -100\n"
     ]
    }
   ],
   "source": [
    "a = -100\n",
    "b = 200\n",
    "c = 300\n",
    "d = 400\n",
    "# max  and min\n",
    "max1 = a if a>b and a>c and a>d else b if b>c and b>d else c if c>d else d\n",
    "min1 = a if a<b and a<c and a<d else b if b<c and b<d else c if c<d else d\n",
    "print(\"Max number>>\",max1)\n",
    "print(\"Minimum number is>>\",min1)"
   ]
  },
  {
   "cell_type": "markdown",
   "id": "ef0f4ade",
   "metadata": {},
   "source": [
    "## Operators"
   ]
  },
  {
   "cell_type": "markdown",
   "id": "401e27bf",
   "metadata": {},
   "source": [
    "## 1) comparison operators"
   ]
  },
  {
   "cell_type": "code",
   "execution_count": null,
   "id": "5d626b12",
   "metadata": {},
   "outputs": [],
   "source": [
    "==\n",
    "!=\n",
    "a>b >---> Greater than\n",
    "a>=b  -->> Greater than equal\n",
    "a<=b"
   ]
  },
  {
   "cell_type": "code",
   "execution_count": null,
   "id": "73fcc53e",
   "metadata": {},
   "outputs": [],
   "source": [
    "a%2 ==0 , a%2!=0 "
   ]
  },
  {
   "cell_type": "code",
   "execution_count": 79,
   "id": "2fc3123a",
   "metadata": {},
   "outputs": [
    {
     "name": "stdout",
     "output_type": "stream",
     "text": [
      "2\n"
     ]
    }
   ],
   "source": [
    "lst = [1,2,3,45]\n",
    "for i in lst:\n",
    "    if i%2 == 0: # Even number condition\n",
    "        print(i)"
   ]
  },
  {
   "cell_type": "code",
   "execution_count": 80,
   "id": "7ba45539",
   "metadata": {},
   "outputs": [
    {
     "name": "stdout",
     "output_type": "stream",
     "text": [
      "1\n",
      "3\n",
      "45\n"
     ]
    }
   ],
   "source": [
    "lst = [1,2,3,45]\n",
    "for i in lst:\n",
    "    if i%2 != 0: # od number condition\n",
    "        print(i)"
   ]
  },
  {
   "cell_type": "code",
   "execution_count": 81,
   "id": "300096e7",
   "metadata": {},
   "outputs": [
    {
     "data": {
      "text/plain": [
       "True"
      ]
     },
     "execution_count": 81,
     "metadata": {},
     "output_type": "execute_result"
    }
   ],
   "source": [
    "2 == 2"
   ]
  },
  {
   "cell_type": "code",
   "execution_count": null,
   "id": "f9fae9b4",
   "metadata": {},
   "outputs": [],
   "source": []
  },
  {
   "cell_type": "code",
   "execution_count": 2,
   "id": "c8e75867",
   "metadata": {},
   "outputs": [],
   "source": [
    "a=2"
   ]
  },
  {
   "cell_type": "code",
   "execution_count": 82,
   "id": "96fa5749",
   "metadata": {},
   "outputs": [],
   "source": [
    "a =2"
   ]
  },
  {
   "cell_type": "code",
   "execution_count": 88,
   "id": "2982362b",
   "metadata": {},
   "outputs": [
    {
     "data": {
      "text/plain": [
       "False"
      ]
     },
     "execution_count": 88,
     "metadata": {},
     "output_type": "execute_result"
    }
   ],
   "source": [
    "\"z\" == \"2\""
   ]
  },
  {
   "cell_type": "code",
   "execution_count": 89,
   "id": "3681a88b",
   "metadata": {},
   "outputs": [
    {
     "ename": "NameError",
     "evalue": "name 'z' is not defined",
     "output_type": "error",
     "traceback": [
      "\u001b[1;31m---------------------------------------------------------------------------\u001b[0m",
      "\u001b[1;31mNameError\u001b[0m                                 Traceback (most recent call last)",
      "\u001b[1;32m~\\AppData\\Local\\Temp/ipykernel_3760/468603240.py\u001b[0m in \u001b[0;36m<module>\u001b[1;34m\u001b[0m\n\u001b[1;32m----> 1\u001b[1;33m \u001b[0mz\u001b[0m \u001b[1;33m==\u001b[0m \u001b[1;34m\"2\"\u001b[0m\u001b[1;33m\u001b[0m\u001b[1;33m\u001b[0m\u001b[0m\n\u001b[0m",
      "\u001b[1;31mNameError\u001b[0m: name 'z' is not defined"
     ]
    }
   ],
   "source": [
    "z == \"2\""
   ]
  },
  {
   "cell_type": "code",
   "execution_count": 90,
   "id": "30070f2d",
   "metadata": {},
   "outputs": [
    {
     "data": {
      "text/plain": [
       "True"
      ]
     },
     "execution_count": 90,
     "metadata": {},
     "output_type": "execute_result"
    }
   ],
   "source": [
    "\"z\" != \"2\""
   ]
  },
  {
   "cell_type": "markdown",
   "id": "87e735a1",
   "metadata": {},
   "source": [
    "## 2) Logical operator"
   ]
  },
  {
   "cell_type": "code",
   "execution_count": null,
   "id": "79745329",
   "metadata": {},
   "outputs": [],
   "source": [
    "1) and\n",
    "2) or\n",
    "3) not"
   ]
  },
  {
   "cell_type": "code",
   "execution_count": 91,
   "id": "186962e5",
   "metadata": {},
   "outputs": [
    {
     "data": {
      "text/plain": [
       "False"
      ]
     },
     "execution_count": 91,
     "metadata": {},
     "output_type": "execute_result"
    }
   ],
   "source": [
    "a = 1\n",
    "b =20\n",
    "c= 30\n",
    "a > b or a>c #  False or  False >> False"
   ]
  },
  {
   "cell_type": "code",
   "execution_count": 92,
   "id": "d77b8d9e",
   "metadata": {},
   "outputs": [
    {
     "data": {
      "text/plain": [
       "True"
      ]
     },
     "execution_count": 92,
     "metadata": {},
     "output_type": "execute_result"
    }
   ],
   "source": [
    "a < b or a>c  # "
   ]
  },
  {
   "cell_type": "markdown",
   "id": "03315593",
   "metadata": {},
   "source": [
    "## 3) Assignment Operator"
   ]
  },
  {
   "cell_type": "raw",
   "id": "5cb8f27a",
   "metadata": {},
   "source": [
    "=  > a =10\n",
    "+= >  a+=1 >a =a +1\n",
    "-= >  a-=1 a =a-1\n",
    "*= >  a*=1 a =a*1\n",
    "/= > a/=2 > a =a/2\n",
    "//=  a//=2 > a =a//2\n",
    "%=  > a%=2 > a =a%2\n",
    "**= > a**=2 > a =a**2"
   ]
  },
  {
   "cell_type": "code",
   "execution_count": 93,
   "id": "17f622c7",
   "metadata": {},
   "outputs": [
    {
     "data": {
      "text/plain": [
       "6"
      ]
     },
     "execution_count": 93,
     "metadata": {},
     "output_type": "execute_result"
    }
   ],
   "source": [
    "a =5\n",
    "a+=1\n",
    "a"
   ]
  },
  {
   "cell_type": "code",
   "execution_count": 94,
   "id": "46cfe338",
   "metadata": {},
   "outputs": [
    {
     "data": {
      "text/plain": [
       "4"
      ]
     },
     "execution_count": 94,
     "metadata": {},
     "output_type": "execute_result"
    }
   ],
   "source": [
    "a =5\n",
    "a-=1\n",
    "a"
   ]
  },
  {
   "cell_type": "code",
   "execution_count": 95,
   "id": "33471d64",
   "metadata": {},
   "outputs": [
    {
     "data": {
      "text/plain": [
       "15"
      ]
     },
     "execution_count": 95,
     "metadata": {},
     "output_type": "execute_result"
    }
   ],
   "source": [
    "a =5\n",
    "a*=3\n",
    "a"
   ]
  },
  {
   "cell_type": "code",
   "execution_count": 96,
   "id": "fdb05f6f",
   "metadata": {},
   "outputs": [
    {
     "data": {
      "text/plain": [
       "125"
      ]
     },
     "execution_count": 96,
     "metadata": {},
     "output_type": "execute_result"
    }
   ],
   "source": [
    "a =5\n",
    "a**=3\n",
    "a"
   ]
  },
  {
   "cell_type": "code",
   "execution_count": 97,
   "id": "90b26931",
   "metadata": {},
   "outputs": [
    {
     "data": {
      "text/plain": [
       "10.0"
      ]
     },
     "execution_count": 97,
     "metadata": {},
     "output_type": "execute_result"
    }
   ],
   "source": [
    "a =20\n",
    "a/=2   #  \n",
    "a"
   ]
  },
  {
   "cell_type": "code",
   "execution_count": 98,
   "id": "d477d419",
   "metadata": {},
   "outputs": [
    {
     "data": {
      "text/plain": [
       "10"
      ]
     },
     "execution_count": 98,
     "metadata": {},
     "output_type": "execute_result"
    }
   ],
   "source": [
    "a =20\n",
    "a//=2 #\n",
    "a"
   ]
  },
  {
   "cell_type": "code",
   "execution_count": 99,
   "id": "42ead0e2",
   "metadata": {},
   "outputs": [
    {
     "data": {
      "text/plain": [
       "6"
      ]
     },
     "execution_count": 99,
     "metadata": {},
     "output_type": "execute_result"
    }
   ],
   "source": [
    "a =20\n",
    "a//=3 #\n",
    "a"
   ]
  },
  {
   "cell_type": "code",
   "execution_count": 100,
   "id": "351482dc",
   "metadata": {},
   "outputs": [
    {
     "data": {
      "text/plain": [
       "6.666666666666667"
      ]
     },
     "execution_count": 100,
     "metadata": {},
     "output_type": "execute_result"
    }
   ],
   "source": [
    "a =20\n",
    "a/=3 #\n",
    "a"
   ]
  },
  {
   "cell_type": "markdown",
   "id": "ee8e6ade",
   "metadata": {},
   "source": [
    "## 4) Arithmatic Operators"
   ]
  },
  {
   "cell_type": "code",
   "execution_count": null,
   "id": "246ee7b1",
   "metadata": {},
   "outputs": [],
   "source": [
    "+ > \n",
    "- >\n",
    "* > Multiplication\n",
    "/ > Division (Always return float value)\n",
    "// > Floor (Always return int)\n",
    "% > Modulus (Remainder)\n",
    "** >Exponent or Power"
   ]
  },
  {
   "cell_type": "code",
   "execution_count": 101,
   "id": "4d385ec9",
   "metadata": {},
   "outputs": [
    {
     "data": {
      "text/plain": [
       "0"
      ]
     },
     "execution_count": 101,
     "metadata": {},
     "output_type": "execute_result"
    }
   ],
   "source": [
    "20%5"
   ]
  },
  {
   "cell_type": "code",
   "execution_count": 102,
   "id": "ca4d4967",
   "metadata": {},
   "outputs": [
    {
     "data": {
      "text/plain": [
       "4"
      ]
     },
     "execution_count": 102,
     "metadata": {},
     "output_type": "execute_result"
    }
   ],
   "source": [
    "14%5"
   ]
  },
  {
   "cell_type": "code",
   "execution_count": 103,
   "id": "bd027084",
   "metadata": {},
   "outputs": [
    {
     "data": {
      "text/plain": [
       "7.0"
      ]
     },
     "execution_count": 103,
     "metadata": {},
     "output_type": "execute_result"
    }
   ],
   "source": [
    "14/2"
   ]
  },
  {
   "cell_type": "code",
   "execution_count": 104,
   "id": "d49a7d61",
   "metadata": {},
   "outputs": [
    {
     "data": {
      "text/plain": [
       "7"
      ]
     },
     "execution_count": 104,
     "metadata": {},
     "output_type": "execute_result"
    }
   ],
   "source": [
    "14//2"
   ]
  },
  {
   "cell_type": "markdown",
   "id": "7bad6c98",
   "metadata": {},
   "source": [
    "## 5) Membership Operator"
   ]
  },
  {
   "cell_type": "raw",
   "id": "1bfd80de",
   "metadata": {},
   "source": [
    "in \n",
    "not in"
   ]
  },
  {
   "cell_type": "code",
   "execution_count": 105,
   "id": "f65313da",
   "metadata": {},
   "outputs": [
    {
     "data": {
      "text/plain": [
       "True"
      ]
     },
     "execution_count": 105,
     "metadata": {},
     "output_type": "execute_result"
    }
   ],
   "source": [
    "str1 = \"Python and Data Science\"\n",
    "\"P\" in str1"
   ]
  },
  {
   "cell_type": "code",
   "execution_count": 106,
   "id": "5423500f",
   "metadata": {},
   "outputs": [
    {
     "data": {
      "text/plain": [
       "False"
      ]
     },
     "execution_count": 106,
     "metadata": {},
     "output_type": "execute_result"
    }
   ],
   "source": [
    "\"p\" in str1"
   ]
  },
  {
   "cell_type": "code",
   "execution_count": null,
   "id": "3142450c",
   "metadata": {},
   "outputs": [],
   "source": [
    "\"P\" in str1 or "
   ]
  },
  {
   "cell_type": "code",
   "execution_count": 107,
   "id": "40114281",
   "metadata": {},
   "outputs": [
    {
     "name": "stdout",
     "output_type": "stream",
     "text": [
      "String Python and Data Science\n"
     ]
    }
   ],
   "source": [
    "if \"P\" in str1:\n",
    "    print(\"String\",str1)"
   ]
  },
  {
   "cell_type": "code",
   "execution_count": 108,
   "id": "e0b3e8a1",
   "metadata": {},
   "outputs": [],
   "source": [
    "if \"p\" in str1:\n",
    "    print(\"String\",str1)"
   ]
  },
  {
   "cell_type": "code",
   "execution_count": 109,
   "id": "b39fb703",
   "metadata": {},
   "outputs": [
    {
     "name": "stdout",
     "output_type": "stream",
     "text": [
      "String Python and Data Science\n"
     ]
    }
   ],
   "source": [
    "if \"p\" not in str1:\n",
    "    print(\"String\",str1)"
   ]
  },
  {
   "cell_type": "code",
   "execution_count": null,
   "id": "dc229bc7",
   "metadata": {},
   "outputs": [],
   "source": []
  }
 ],
 "metadata": {
  "kernelspec": {
   "display_name": "Python 3 (ipykernel)",
   "language": "python",
   "name": "python3"
  },
  "language_info": {
   "codemirror_mode": {
    "name": "ipython",
    "version": 3
   },
   "file_extension": ".py",
   "mimetype": "text/x-python",
   "name": "python",
   "nbconvert_exporter": "python",
   "pygments_lexer": "ipython3",
   "version": "3.10.5"
  }
 },
 "nbformat": 4,
 "nbformat_minor": 5
}
