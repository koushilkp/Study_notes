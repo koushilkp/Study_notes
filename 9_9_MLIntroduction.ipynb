{
 "cells": [
  {
   "cell_type": "markdown",
   "id": "03cefc45",
   "metadata": {},
   "source": [
    "## Data Science"
   ]
  },
  {
   "cell_type": "raw",
   "id": "ee4067ed",
   "metadata": {},
   "source": [
    "It is process of extracting insights /meaningful information/ knowledge from data by using scientific methods"
   ]
  },
  {
   "cell_type": "markdown",
   "id": "43a4b5c3",
   "metadata": {},
   "source": [
    "## Scientific Methods"
   ]
  },
  {
   "cell_type": "raw",
   "id": "b79e58b9",
   "metadata": {},
   "source": [
    "1) Machine Learning (CSV,EXCEL,ETC,Sql)\n",
    "2) Deep Learning (images)\n",
    "3) Natural Language processing (Text,HTMl)\n",
    "4) Statistics(mean, mode, median)\n",
    "5) Data Visualization (Seaborn,Matplotlib,Pandas,Plotly) for grahic represent.."
   ]
  },
  {
   "cell_type": "markdown",
   "id": "0cfa54fd",
   "metadata": {},
   "source": [
    "## Data"
   ]
  },
  {
   "cell_type": "raw",
   "id": "374d0f37",
   "metadata": {},
   "source": [
    "can be available\n",
    "1) Structured Data (CSV,Excel)                                   intablet format rows and column\n",
    "2) Unstructured Data (Images,Vidos,Texts,Audios,PDF)             \n",
    "3) Semi-Structured Data (JSON,HTML)                              dict "
   ]
  },
  {
   "cell_type": "markdown",
   "id": "d7266e10",
   "metadata": {},
   "source": [
    "## Real World Applications"
   ]
  },
  {
   "cell_type": "raw",
   "id": "5e779842",
   "metadata": {},
   "source": [
    "1. Medical Field (Cancer,Covid,Diabetes etc)   above 95%\n",
    "2. House price prediction\n",
    "3. Car price prediction\n",
    "4. Stock Price Prediction\n",
    "5. Finance Domain \n",
    "6. Speech Recognition\n",
    "7. Face recognition \n",
    "8. Self driving car\n",
    "9. Sentiment analysis (Positive or Negative)  eg.tesla car \n",
    "10. ChatBot    \n",
    "11. Document Classification\n",
    "12. Handwriting Character Recognition\n",
    "13. Image Classification"
   ]
  },
  {
   "cell_type": "markdown",
   "id": "e1e0d4f1",
   "metadata": {},
   "source": [
    "## Machine Learning"
   ]
  },
  {
   "cell_type": "markdown",
   "id": "73a5caab",
   "metadata": {},
   "source": [
    "ML is a subset of AI / branch of computer science \n",
    "which deals with system programming in order to automate machines to\n",
    "learn from their past experiences and improve its perfoemance and make predictions"
   ]
  },
  {
   "cell_type": "markdown",
   "id": "aa15cf4b",
   "metadata": {},
   "source": [
    "## Types of Machine Learning"
   ]
  },
  {
   "cell_type": "code",
   "execution_count": null,
   "id": "ffaaa863",
   "metadata": {},
   "outputs": [],
   "source": [
    "1. Supervised ML >> Labelled Data  target column ,  ismei input and output  is give!!!!\n",
    "2. Unsupervised ML >> Unlabelled Data             ismei input se output ???\n",
    "3. Reinforcement ML                                automate the data"
   ]
  },
  {
   "cell_type": "code",
   "execution_count": null,
   "id": "784a91ca",
   "metadata": {},
   "outputs": [],
   "source": [
    "Two types of Variables in ML:\n",
    "    1. Input Variable >>Independent Variable >>Predictors>> x >> One or More\n",
    "    2. Output variable >>> Dependent Variable >>Target column >> Y >> Only One   F/M  contin values"
   ]
  },
  {
   "cell_type": "markdown",
   "id": "820ef050",
   "metadata": {},
   "source": [
    "## 1. Supervised ML"
   ]
  },
  {
   "cell_type": "raw",
   "id": "14324739",
   "metadata": {},
   "source": [
    "if the data is labelled >>  we use Supervised ML\n",
    "Two types of Supervised ML\n",
    "\n",
    "1. Classification :(Categorical data in target column)\n",
    "    a) Binary classification ( Two categories in tarhet column)\n",
    "     >> Approved /Declined , 1/0,True/False, Positive/Negative, Good/Bad,Spam/Not-spam\n",
    "    b) Multiclass Classification (More than 2 categories in target column)\n",
    "    > High risk/Medium risk/low risk, Petrol/Diesel/CNG\n",
    "    \n",
    "\n",
    "2.Regression (Continuous Data in target column)\n",
    "  loan, car price, salary, Marks, age ,cibil score ,Stock price, Temperatue etc\n",
    "  "
   ]
  },
  {
   "cell_type": "markdown",
   "id": "b981c468",
   "metadata": {},
   "source": [
    "## Supervised Algorithms"
   ]
  },
  {
   "cell_type": "code",
   "execution_count": null,
   "id": "2d1cf205",
   "metadata": {},
   "outputs": [],
   "source": [
    "1. Linear Regression  >>> Regression\n",
    "2. Logistic Regression >>> Classification\n",
    "3. K-Nearest Neighbour >> classification and Regression\n",
    "4.Decision Tree  >> classification and Regression\n",
    "5. Random Forest >> classification and Regression\n",
    "6. Adaboost  >> classification and Regression\n",
    "7.Gradient Boost >> classification and Regression\n",
    "8.XGBoost >> classification and Regression\n",
    "9. Support Vector Machine (SVM) >> classification and Regression\n",
    "10.Naive Bayes Classfier  > Classification"
   ]
  },
  {
   "cell_type": "markdown",
   "id": "e2f31c37",
   "metadata": {},
   "source": [
    "## Unsupervised ML"
   ]
  },
  {
   "cell_type": "code",
   "execution_count": null,
   "id": "a757020b",
   "metadata": {},
   "outputs": [],
   "source": [
    "If data is unlabelled/ no target column >> Only independent variables\n",
    "\n",
    "Example cricket \n",
    "\n",
    "            Matches   Innings    Runs    Wickets    Strike rate \n",
    "player1      100        90       10000     1            100\n",
    "player2       90         80       1000     50            90\n",
    "player3       80         70       12000    100            95\n",
    "\n",
    "\n",
    "\n",
    "Fruits :\n",
    "    shape,  size  color taste >>\n"
   ]
  },
  {
   "cell_type": "markdown",
   "id": "7d40db1a",
   "metadata": {},
   "source": [
    "## UnSupervised ML```"
   ]
  },
  {
   "cell_type": "raw",
   "id": "6373bc73",
   "metadata": {},
   "source": [
    "1. KMeans Clustering\n",
    "2. Hierachical Clustering\n",
    "3. Principal Component Analysis (PCA) > Dimensionality Reduction"
   ]
  },
  {
   "cell_type": "markdown",
   "id": "2908e538",
   "metadata": {},
   "source": [
    "## Reinforcement Learning"
   ]
  },
  {
   "cell_type": "code",
   "execution_count": null,
   "id": "eefff6c9",
   "metadata": {},
   "outputs": [],
   "source": [
    "Reward based learning\n",
    "Feedback based learning\n",
    "punishment or Appreciation                          DEEP learning uses\n",
    "\n",
    "Example Self driving car (Tesla car)\n",
    "It has four terminology ()\n",
    "a) Enviroment >>> Obstacles , cars, signal\n",
    "b) Agent >>>> system of car\n",
    "c) Reward >> if car is not moving in green signal then it will get negative reward\n",
    "           if car is moiving in green signal then it will get positive reward\n",
    "d) Action\n",
    "\n",
    "Kids >>"
   ]
  },
  {
   "cell_type": "markdown",
   "id": "4d59d7da",
   "metadata": {},
   "source": [
    "## Data Science Projects Steps"
   ]
  },
  {
   "cell_type": "code",
   "execution_count": null,
   "id": "40956fe6",
   "metadata": {},
   "outputs": [],
   "source": [
    "1. Problem Statment   \n",
    "2. Data Gathering \n",
    "3. Exploratory Data Analysis (EDA) > Numpy,Pandas , Seaborn,Matplotlib\n",
    "4. Feature Engineering   remove outlier\n",
    "5. Feature Selection \n",
    " 1. Filter method\n",
    " 2. Wrapper Method\n",
    "\n",
    "6. Model Training\n",
    "   1. Linear regression\n",
    "   2. DT Regression\n",
    "7. Model Evaluation\n",
    "   Regression \n",
    "    1.MSE\n",
    "    2.RMSE\n",
    "    3.MAE\n",
    "    4. R-squared Value\n",
    "8.Deployment\n",
    "   1. AWS\n",
    "   2. Microsoft Azure\n",
    "   3. GCP"
   ]
  }
 ],
 "metadata": {
  "kernelspec": {
   "display_name": "Python 3 (ipykernel)",
   "language": "python",
   "name": "python3"
  },
  "language_info": {
   "codemirror_mode": {
    "name": "ipython",
    "version": 3
   },
   "file_extension": ".py",
   "mimetype": "text/x-python",
   "name": "python",
   "nbconvert_exporter": "python",
   "pygments_lexer": "ipython3",
   "version": "3.10.5"
  }
 },
 "nbformat": 4,
 "nbformat_minor": 5
}
