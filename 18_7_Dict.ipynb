{
 "cells": [
  {
   "cell_type": "markdown",
   "id": "76e754ab",
   "metadata": {},
   "source": [
    "### Dict"
   ]
  },
  {
   "cell_type": "code",
   "execution_count": null,
   "id": "cc3b6c14",
   "metadata": {},
   "outputs": [],
   "source": [
    "dict = {\"key\":val}\n",
    "1) It is collection of key and value pairs\n",
    "2) Duplicates keys are not allowed\n",
    "3) Duplicates values are allowed\n",
    "4)Comma seperated\n",
    "5) dict is enclosed by {}\n",
    "6) We can not use indexing \n",
    "7) Mutable \n",
    "Note:\n",
    "    keys : Immutable Data type > int,str,float,tuple,frozenset()\n",
    "    values :any data type can be use"
   ]
  },
  {
   "cell_type": "code",
   "execution_count": 3,
   "id": "1c4fc495",
   "metadata": {},
   "outputs": [
    {
     "data": {
      "text/plain": [
       "dict"
      ]
     },
     "execution_count": 3,
     "metadata": {},
     "output_type": "execute_result"
    }
   ],
   "source": [
    "d = {} # {}\n",
    "# type(d)\n",
    "ABC={}\n",
    "\n",
    "type(ABC)"
   ]
  },
  {
   "cell_type": "code",
   "execution_count": 2,
   "id": "848a4d55",
   "metadata": {},
   "outputs": [
    {
     "data": {
      "text/plain": [
       "set"
      ]
     },
     "execution_count": 2,
     "metadata": {},
     "output_type": "execute_result"
    }
   ],
   "source": [
    "d = {2,} # {}\n",
    "type(d)"
   ]
  },
  {
   "cell_type": "code",
   "execution_count": 9,
   "id": "501ea584",
   "metadata": {},
   "outputs": [
    {
     "name": "stdout",
     "output_type": "stream",
     "text": [
      "{'Student_name': 'Virat', 'Mobile number': 902155555}\n",
      "{'student': [46, 15, 10]}\n"
     ]
    }
   ],
   "source": [
    "d = {\"Student_name\": \"Virat\",\"Mobile number\":902155555}\n",
    "print(d)\n",
    "num={\"student\":[46,15,10]}\n",
    "print(num)"
   ]
  },
  {
   "cell_type": "code",
   "execution_count": 4,
   "id": "b40d4d67",
   "metadata": {},
   "outputs": [
    {
     "name": "stdout",
     "output_type": "stream",
     "text": [
      "{'Student_name': ['Virat', 'Sachin', 'Suresh'], 'Mobile number': 902155555}\n"
     ]
    }
   ],
   "source": [
    "d = {\"Student_name\":[ \"Virat\",\"Sachin\",\"Suresh\"],\"Mobile number\":902155555}\n",
    "print(d)"
   ]
  },
  {
   "cell_type": "code",
   "execution_count": 2,
   "id": "c4615f07",
   "metadata": {},
   "outputs": [
    {
     "data": {
      "text/plain": [
       "['Virat', 'Sachin', 'Suresh']"
      ]
     },
     "execution_count": 2,
     "metadata": {},
     "output_type": "execute_result"
    }
   ],
   "source": [
    "d = {\"Student_name\":[ \"Virat\",\"Sachin\",\"Suresh\"],\"Mobile number\":902155555}\n",
    "d.get(\"Student_name\")"
   ]
  },
  {
   "cell_type": "code",
   "execution_count": 4,
   "id": "603fe6cd",
   "metadata": {},
   "outputs": [
    {
     "data": {
      "text/plain": [
       "dict_items([('Student_name', ['Virat', 'Sachin', 'Suresh']), ('Mobile number', 902155555)])"
      ]
     },
     "execution_count": 4,
     "metadata": {},
     "output_type": "execute_result"
    }
   ],
   "source": [
    "d = {\"Student_name\":[ \"Virat\",\"Sachin\",\"Suresh\"],\"Mobile number\":902155555}\n",
    "d.items()"
   ]
  },
  {
   "cell_type": "code",
   "execution_count": 17,
   "id": "77e79311",
   "metadata": {},
   "outputs": [],
   "source": [
    "d = {\"Student_name\":[ \"Virat\",\"Sachin\",\"Suresh\"],\"Mobile number\":902155555}\n"
   ]
  },
  {
   "cell_type": "code",
   "execution_count": 5,
   "id": "e7107585",
   "metadata": {},
   "outputs": [
    {
     "name": "stdout",
     "output_type": "stream",
     "text": [
      "{'Student_name': ['Virat', 'Sachin', 'Suresh'], 'Mobile number': (902155555, 985124456, 6544888)}\n"
     ]
    }
   ],
   "source": [
    "d = {\"Student_name\":[ \"Virat\",\"Sachin\",\"Suresh\"],\"Mobile number\":(902155555,985124456,6544888)}\n",
    "print(d)"
   ]
  },
  {
   "cell_type": "code",
   "execution_count": 7,
   "id": "f9a67fcb",
   "metadata": {},
   "outputs": [
    {
     "ename": "TypeError",
     "evalue": "unhashable type: 'list'",
     "output_type": "error",
     "traceback": [
      "\u001b[1;31m---------------------------------------------------------------------------\u001b[0m",
      "\u001b[1;31mTypeError\u001b[0m                                 Traceback (most recent call last)",
      "\u001b[1;32m~\\AppData\\Local\\Temp/ipykernel_4068/2205075148.py\u001b[0m in \u001b[0;36m<module>\u001b[1;34m\u001b[0m\n\u001b[1;32m----> 1\u001b[1;33m \u001b[0md\u001b[0m \u001b[1;33m=\u001b[0m \u001b[1;33m{\u001b[0m\u001b[1;33m[\u001b[0m\u001b[1;34m\"Student_name\"\u001b[0m\u001b[1;33m]\u001b[0m\u001b[1;33m:\u001b[0m\u001b[1;33m[\u001b[0m \u001b[1;34m\"Virat\"\u001b[0m\u001b[1;33m,\u001b[0m\u001b[1;34m\"Sachin\"\u001b[0m\u001b[1;33m,\u001b[0m\u001b[1;34m\"Suresh\"\u001b[0m\u001b[1;33m]\u001b[0m\u001b[1;33m,\u001b[0m\u001b[1;34m\"Mobile number\"\u001b[0m\u001b[1;33m:\u001b[0m\u001b[1;33m(\u001b[0m\u001b[1;36m902155555\u001b[0m\u001b[1;33m,\u001b[0m\u001b[1;36m985124456\u001b[0m\u001b[1;33m,\u001b[0m\u001b[1;36m6544888\u001b[0m\u001b[1;33m)\u001b[0m\u001b[1;33m}\u001b[0m\u001b[1;33m\u001b[0m\u001b[1;33m\u001b[0m\u001b[0m\n\u001b[0m\u001b[0;32m      2\u001b[0m \u001b[0mprint\u001b[0m\u001b[1;33m(\u001b[0m\u001b[0md\u001b[0m\u001b[1;33m)\u001b[0m\u001b[1;33m\u001b[0m\u001b[1;33m\u001b[0m\u001b[0m\n",
      "\u001b[1;31mTypeError\u001b[0m: unhashable type: 'list'"
     ]
    }
   ],
   "source": [
    "d = {[\"Student_name\"]:[ \"Virat\",\"Sachin\",\"Suresh\"],\"Mobile number\":(902155555,985124456,6544888)}\n",
    "print(d)"
   ]
  },
  {
   "cell_type": "code",
   "execution_count": 6,
   "id": "5a509941",
   "metadata": {},
   "outputs": [
    {
     "data": {
      "text/plain": [
       "list"
      ]
     },
     "execution_count": 6,
     "metadata": {},
     "output_type": "execute_result"
    }
   ],
   "source": [
    "type([\"Student_name\"])"
   ]
  },
  {
   "cell_type": "code",
   "execution_count": 8,
   "id": "a4ab4c34",
   "metadata": {},
   "outputs": [
    {
     "ename": "TypeError",
     "evalue": "unhashable type: 'set'",
     "output_type": "error",
     "traceback": [
      "\u001b[1;31m---------------------------------------------------------------------------\u001b[0m",
      "\u001b[1;31mTypeError\u001b[0m                                 Traceback (most recent call last)",
      "\u001b[1;32m~\\AppData\\Local\\Temp/ipykernel_4068/3418468230.py\u001b[0m in \u001b[0;36m<module>\u001b[1;34m\u001b[0m\n\u001b[1;32m----> 1\u001b[1;33m \u001b[0md\u001b[0m \u001b[1;33m=\u001b[0m \u001b[1;33m{\u001b[0m\u001b[1;33m{\u001b[0m\u001b[1;34m\"Student_name\"\u001b[0m\u001b[1;33m}\u001b[0m\u001b[1;33m:\u001b[0m\u001b[1;33m[\u001b[0m \u001b[1;34m\"Virat\"\u001b[0m\u001b[1;33m,\u001b[0m\u001b[1;34m\"Sachin\"\u001b[0m\u001b[1;33m,\u001b[0m\u001b[1;34m\"Suresh\"\u001b[0m\u001b[1;33m]\u001b[0m\u001b[1;33m,\u001b[0m\u001b[1;34m\"Mobile number\"\u001b[0m\u001b[1;33m:\u001b[0m\u001b[1;33m(\u001b[0m\u001b[1;36m902155555\u001b[0m\u001b[1;33m,\u001b[0m\u001b[1;36m985124456\u001b[0m\u001b[1;33m,\u001b[0m\u001b[1;36m6544888\u001b[0m\u001b[1;33m)\u001b[0m\u001b[1;33m}\u001b[0m\u001b[1;33m\u001b[0m\u001b[1;33m\u001b[0m\u001b[0m\n\u001b[0m\u001b[0;32m      2\u001b[0m \u001b[0mprint\u001b[0m\u001b[1;33m(\u001b[0m\u001b[0md\u001b[0m\u001b[1;33m)\u001b[0m\u001b[1;33m\u001b[0m\u001b[1;33m\u001b[0m\u001b[0m\n",
      "\u001b[1;31mTypeError\u001b[0m: unhashable type: 'set'"
     ]
    }
   ],
   "source": [
    "d = {{\"Student_name\"}:[ \"Virat\",\"Sachin\",\"Suresh\"],\"Mobile number\":(902155555,985124456,6544888)}\n",
    "print(d)"
   ]
  },
  {
   "cell_type": "code",
   "execution_count": 9,
   "id": "22cbb0e8",
   "metadata": {},
   "outputs": [
    {
     "name": "stdout",
     "output_type": "stream",
     "text": [
      "{'Student_name': ['Virat', 'Sachin', 'Suresh'], 'Mobile number': (902155555, 985124456, 6544888)}\n"
     ]
    }
   ],
   "source": [
    "d = {(\"Student_name\"):[ \"Virat\",\"Sachin\",\"Suresh\"],\"Mobile number\":(902155555,985124456,6544888)}\n",
    "print(d)"
   ]
  },
  {
   "cell_type": "code",
   "execution_count": null,
   "id": "54f89895",
   "metadata": {},
   "outputs": [],
   "source": []
  },
  {
   "cell_type": "code",
   "execution_count": null,
   "id": "13fcf538",
   "metadata": {},
   "outputs": [],
   "source": []
  },
  {
   "cell_type": "code",
   "execution_count": null,
   "id": "35e55ec9",
   "metadata": {},
   "outputs": [],
   "source": []
  },
  {
   "cell_type": "code",
   "execution_count": null,
   "id": "0feed5c0",
   "metadata": {},
   "outputs": [],
   "source": []
  },
  {
   "cell_type": "markdown",
   "id": "fec791e0",
   "metadata": {},
   "source": [
    "## How to access"
   ]
  },
  {
   "cell_type": "code",
   "execution_count": 10,
   "id": "af59bfac",
   "metadata": {},
   "outputs": [
    {
     "data": {
      "text/plain": [
       "{'Name': ['Virat', 'Sachin', 'Ganesh'],\n",
       " 'subject_name': ['Phy', 'Maths', 'Science']}"
      ]
     },
     "execution_count": 10,
     "metadata": {},
     "output_type": "execute_result"
    }
   ],
   "source": [
    "dict1 = {\"Name\":[\"Virat\",\"Sachin\",\"Ganesh\"],\"subject_name\":[\"Phy\",\"Maths\",\"Science\"]}\n",
    "dict1"
   ]
  },
  {
   "cell_type": "code",
   "execution_count": 3,
   "id": "7e5e232e",
   "metadata": {},
   "outputs": [
    {
     "data": {
      "text/plain": [
       "{'Name': 'kp', 'subject_name': 8989}"
      ]
     },
     "execution_count": 3,
     "metadata": {},
     "output_type": "execute_result"
    }
   ],
   "source": [
    "dict1 = {\"Name\":[\"Virat\",\"Sachin\",\"Ganesh\"],\"subject_name\":[\"Phy\",\"Maths\",\"Science\"]}\n",
    "dict1[\"subject_name\"]=8989\n",
    "dict1\n",
    "dict1['Name']='kp'\n",
    "dict1"
   ]
  },
  {
   "cell_type": "code",
   "execution_count": 11,
   "id": "67275b8d",
   "metadata": {},
   "outputs": [
    {
     "data": {
      "text/plain": [
       "2"
      ]
     },
     "execution_count": 11,
     "metadata": {},
     "output_type": "execute_result"
    }
   ],
   "source": [
    "len(dict1)"
   ]
  },
  {
   "cell_type": "code",
   "execution_count": 12,
   "id": "8855b7cb",
   "metadata": {},
   "outputs": [
    {
     "data": {
      "text/plain": [
       "['Virat', 'Sachin', 'Ganesh']"
      ]
     },
     "execution_count": 12,
     "metadata": {},
     "output_type": "execute_result"
    }
   ],
   "source": [
    "dict1[\"Name\"]  # keys to values"
   ]
  },
  {
   "cell_type": "code",
   "execution_count": 14,
   "id": "bdb4b9e8",
   "metadata": {},
   "outputs": [
    {
     "data": {
      "text/plain": [
       "['Phy', 'Maths', 'Science']"
      ]
     },
     "execution_count": 14,
     "metadata": {},
     "output_type": "execute_result"
    }
   ],
   "source": [
    "dict1[\"subject_name\"]"
   ]
  },
  {
   "cell_type": "markdown",
   "id": "f1345d82",
   "metadata": {},
   "source": [
    "## 1) get()"
   ]
  },
  {
   "cell_type": "code",
   "execution_count": 14,
   "id": "097a88ba",
   "metadata": {},
   "outputs": [
    {
     "name": "stdout",
     "output_type": "stream",
     "text": [
      "{'Name': ['Virat', 'Sachin', 'Ganesh'], 'subject_name': ['Phy', 'Maths', 'Science']}\n"
     ]
    },
    {
     "data": {
      "text/plain": [
       "['Phy', 'Maths', 'Science']"
      ]
     },
     "execution_count": 14,
     "metadata": {},
     "output_type": "execute_result"
    }
   ],
   "source": [
    "dict1  ={'Name': ['Virat', 'Sachin', 'Ganesh'],'subject_name': ['Phy', 'Maths', 'Science']}\n",
    "print(dict1)\n",
    "dict1.get(\"subject_name\")"
   ]
  },
  {
   "cell_type": "code",
   "execution_count": 17,
   "id": "4af38134",
   "metadata": {},
   "outputs": [
    {
     "data": {
      "text/plain": [
       "['Virat', 'Sachin', 'Ganesh']"
      ]
     },
     "execution_count": 17,
     "metadata": {},
     "output_type": "execute_result"
    }
   ],
   "source": [
    "dict1.get(\"Name\")"
   ]
  },
  {
   "cell_type": "code",
   "execution_count": 18,
   "id": "132690ad",
   "metadata": {},
   "outputs": [
    {
     "data": {
      "text/plain": [
       "['Phy', 'Maths', 'Science']"
      ]
     },
     "execution_count": 18,
     "metadata": {},
     "output_type": "execute_result"
    }
   ],
   "source": [
    "dict1.get(\"subject_name\") # to access values using key"
   ]
  },
  {
   "cell_type": "code",
   "execution_count": 19,
   "id": "3970a97d",
   "metadata": {},
   "outputs": [],
   "source": [
    "dict1.get(\"name\")# no error"
   ]
  },
  {
   "cell_type": "markdown",
   "id": "17b7a27a",
   "metadata": {},
   "source": [
    "## 2) keys()"
   ]
  },
  {
   "cell_type": "code",
   "execution_count": 5,
   "id": "00ac30cc",
   "metadata": {},
   "outputs": [
    {
     "name": "stdout",
     "output_type": "stream",
     "text": [
      "{'Name': ['Virat', 'Sachin', 'Ganesh'], 'subject_name': ['Phy', 'Maths', 'Science']}\n"
     ]
    },
    {
     "data": {
      "text/plain": [
       "dict_keys(['Name', 'subject_name'])"
      ]
     },
     "execution_count": 5,
     "metadata": {},
     "output_type": "execute_result"
    }
   ],
   "source": [
    "dict1  ={'Name': ['Virat', 'Sachin', 'Ganesh'],'subject_name': ['Phy', 'Maths', 'Science']}\n",
    "print(dict1)\n",
    "dict1.keys()"
   ]
  },
  {
   "cell_type": "code",
   "execution_count": 11,
   "id": "04f89bdb",
   "metadata": {},
   "outputs": [
    {
     "data": {
      "text/plain": [
       "['Virat', 'Sachin', 'Ganesh']"
      ]
     },
     "execution_count": 11,
     "metadata": {},
     "output_type": "execute_result"
    }
   ],
   "source": [
    "\n",
    "dict1.keys()\n",
    "dict1.get('Name')"
   ]
  },
  {
   "cell_type": "code",
   "execution_count": null,
   "id": "ee96fc56",
   "metadata": {},
   "outputs": [],
   "source": []
  },
  {
   "cell_type": "code",
   "execution_count": null,
   "id": "5f203e2f",
   "metadata": {},
   "outputs": [],
   "source": []
  },
  {
   "cell_type": "code",
   "execution_count": 21,
   "id": "a9f1b643",
   "metadata": {},
   "outputs": [
    {
     "data": {
      "text/plain": [
       "dict_keys(['Name', 'subject_name'])"
      ]
     },
     "execution_count": 21,
     "metadata": {},
     "output_type": "execute_result"
    }
   ],
   "source": [
    "dict1.keys() # "
   ]
  },
  {
   "cell_type": "code",
   "execution_count": 22,
   "id": "75773c37",
   "metadata": {},
   "outputs": [
    {
     "name": "stdout",
     "output_type": "stream",
     "text": [
      "Name\n",
      "subject_name\n"
     ]
    }
   ],
   "source": [
    "for i in dict1.keys():\n",
    "    print(i)"
   ]
  },
  {
   "cell_type": "markdown",
   "id": "96f5a1cc",
   "metadata": {},
   "source": [
    "## 3)values()"
   ]
  },
  {
   "cell_type": "code",
   "execution_count": 23,
   "id": "bb608b78",
   "metadata": {},
   "outputs": [
    {
     "name": "stdout",
     "output_type": "stream",
     "text": [
      "{'Name': ['Virat', 'Sachin', 'Ganesh'], 'subject_name': ['Phy', 'Maths', 'Science']}\n"
     ]
    }
   ],
   "source": [
    "dict1  ={'Name': ['Virat', 'Sachin', 'Ganesh'],'subject_name': ['Phy', 'Maths', 'Science']}\n",
    "print(dict1)"
   ]
  },
  {
   "cell_type": "code",
   "execution_count": 6,
   "id": "7260b3cb",
   "metadata": {},
   "outputs": [
    {
     "data": {
      "text/plain": [
       "dict_values([['Virat', 'Sachin', 'Ganesh'], ['Phy', 'Maths', 'Science']])"
      ]
     },
     "execution_count": 6,
     "metadata": {},
     "output_type": "execute_result"
    }
   ],
   "source": [
    "dict1.values()"
   ]
  },
  {
   "cell_type": "code",
   "execution_count": 25,
   "id": "f677e5a1",
   "metadata": {},
   "outputs": [
    {
     "name": "stdout",
     "output_type": "stream",
     "text": [
      "['Virat', 'Sachin', 'Ganesh']\n",
      "['Phy', 'Maths', 'Science']\n"
     ]
    }
   ],
   "source": [
    "for i in dict1.values():\n",
    "    print(i)"
   ]
  },
  {
   "cell_type": "markdown",
   "id": "56a8f02f",
   "metadata": {},
   "source": [
    "## 4) items()"
   ]
  },
  {
   "cell_type": "code",
   "execution_count": null,
   "id": "0419e280",
   "metadata": {},
   "outputs": [],
   "source": [
    "# it return both keys and values"
   ]
  },
  {
   "cell_type": "code",
   "execution_count": null,
   "id": "232a2f99",
   "metadata": {},
   "outputs": [],
   "source": [
    ".keys()  # only keys\n",
    ".values # onlye values\n",
    ".items()# both"
   ]
  },
  {
   "cell_type": "code",
   "execution_count": 26,
   "id": "34bac9fb",
   "metadata": {},
   "outputs": [
    {
     "name": "stdout",
     "output_type": "stream",
     "text": [
      "{'Name': ['Virat', 'Sachin', 'Ganesh'], 'subject_name': ['Phy', 'Maths', 'Science']}\n"
     ]
    }
   ],
   "source": [
    "dict1  ={'Name': ['Virat', 'Sachin', 'Ganesh'],'subject_name': ['Phy', 'Maths', 'Science']}\n",
    "print(dict1)"
   ]
  },
  {
   "cell_type": "code",
   "execution_count": 27,
   "id": "f7f12a3a",
   "metadata": {},
   "outputs": [
    {
     "data": {
      "text/plain": [
       "dict_items([('Name', ['Virat', 'Sachin', 'Ganesh']), ('subject_name', ['Phy', 'Maths', 'Science'])])"
      ]
     },
     "execution_count": 27,
     "metadata": {},
     "output_type": "execute_result"
    }
   ],
   "source": [
    "dict1.items()"
   ]
  },
  {
   "cell_type": "code",
   "execution_count": 29,
   "id": "87a71cd6",
   "metadata": {},
   "outputs": [
    {
     "name": "stdout",
     "output_type": "stream",
     "text": [
      "Name >>>>>>> ['Virat', 'Sachin', 'Ganesh']\n",
      "subject_name >>>>>>> ['Phy', 'Maths', 'Science']\n"
     ]
    }
   ],
   "source": [
    "for key, value in dict1.items():\n",
    "    print(key,\">>>>>>>\",value)"
   ]
  },
  {
   "cell_type": "markdown",
   "id": "9ea5d6df",
   "metadata": {},
   "source": [
    "## change items"
   ]
  },
  {
   "cell_type": "code",
   "execution_count": 31,
   "id": "e6fa7f9a",
   "metadata": {},
   "outputs": [
    {
     "name": "stdout",
     "output_type": "stream",
     "text": [
      "{'Name': 'Pratik', 'Age': 22, 'Salary': 80000, 'Company_Name': 'EY', 'Location': 'Mumbai'}\n"
     ]
    }
   ],
   "source": [
    "dict1  ={'Name': \"Pratik\",\"Age\":22,\"Salary\":80000,\"Company_Name\":\"EY\",\"Location\":\"Mumbai\"}\n",
    "print(dict1)"
   ]
  },
  {
   "cell_type": "code",
   "execution_count": 32,
   "id": "14fc6010",
   "metadata": {},
   "outputs": [
    {
     "data": {
      "text/plain": [
       "22"
      ]
     },
     "execution_count": 32,
     "metadata": {},
     "output_type": "execute_result"
    }
   ],
   "source": [
    "dict1[\"Age\"] "
   ]
  },
  {
   "cell_type": "code",
   "execution_count": 33,
   "id": "0657d3a5",
   "metadata": {},
   "outputs": [],
   "source": [
    "dict1[\"Age\"] = 20"
   ]
  },
  {
   "cell_type": "code",
   "execution_count": 34,
   "id": "81110ed3",
   "metadata": {},
   "outputs": [
    {
     "data": {
      "text/plain": [
       "{'Name': 'Pratik',\n",
       " 'Age': 20,\n",
       " 'Salary': 80000,\n",
       " 'Company_Name': 'EY',\n",
       " 'Location': 'Mumbai'}"
      ]
     },
     "execution_count": 34,
     "metadata": {},
     "output_type": "execute_result"
    }
   ],
   "source": [
    "dict1"
   ]
  },
  {
   "cell_type": "code",
   "execution_count": 4,
   "id": "cc8ec131",
   "metadata": {},
   "outputs": [
    {
     "ename": "NameError",
     "evalue": "name 'dict1' is not defined",
     "output_type": "error",
     "traceback": [
      "\u001b[1;31m---------------------------------------------------------------------------\u001b[0m",
      "\u001b[1;31mNameError\u001b[0m                                 Traceback (most recent call last)",
      "Input \u001b[1;32mIn [4]\u001b[0m, in \u001b[0;36m<cell line: 2>\u001b[1;34m()\u001b[0m\n\u001b[0;32m      1\u001b[0m \u001b[38;5;66;03m# dict1[\"Salary\"] = 90000\u001b[39;00m\n\u001b[1;32m----> 2\u001b[0m \u001b[43mdict1\u001b[49m[\u001b[38;5;124m\"\u001b[39m\u001b[38;5;124mAge\u001b[39m\u001b[38;5;124m\"\u001b[39m] \u001b[38;5;241m=\u001b[39m \u001b[38;5;241m56\u001b[39m\n",
      "\u001b[1;31mNameError\u001b[0m: name 'dict1' is not defined"
     ]
    }
   ],
   "source": [
    "\n",
    "dict1[\"Salary\"] = 90000\n",
    "dict1[\"Age\"] = 56"
   ]
  },
  {
   "cell_type": "code",
   "execution_count": 8,
   "id": "0b0ce222",
   "metadata": {},
   "outputs": [
    {
     "name": "stdout",
     "output_type": "stream",
     "text": [
      "{'Name': 'Pratik', 'Age': 22, 'Salary': 80000, 'Company_Name': 'EY', 'Location': 'Mumbai'}\n"
     ]
    },
    {
     "data": {
      "text/plain": [
       "{'Name': 'Pratik',\n",
       " 'Age': 56,\n",
       " 'Salary': 80000,\n",
       " 'Company_Name': 'EY',\n",
       " 'Location': 'Mumbai'}"
      ]
     },
     "execution_count": 8,
     "metadata": {},
     "output_type": "execute_result"
    }
   ],
   "source": [
    "dict1  ={'Name': \"Pratik\",\"Age\":22,\"Salary\":80000,\"Company_Name\":\"EY\",\"Location\":\"Mumbai\"}\n",
    "print(dict1)\n",
    "# dict1[\"Salary\"] = 90000\n",
    "dict1[\"Age\"] = 56\n",
    "dict1"
   ]
  },
  {
   "cell_type": "code",
   "execution_count": 36,
   "id": "5e7e7c91",
   "metadata": {},
   "outputs": [
    {
     "data": {
      "text/plain": [
       "{'Name': 'Pratik',\n",
       " 'Age': 20,\n",
       " 'Salary': 90000,\n",
       " 'Company_Name': 'EY',\n",
       " 'Location': 'Mumbai'}"
      ]
     },
     "execution_count": 36,
     "metadata": {},
     "output_type": "execute_result"
    }
   ],
   "source": [
    "dict1 "
   ]
  },
  {
   "cell_type": "code",
   "execution_count": 38,
   "id": "fe60e828",
   "metadata": {},
   "outputs": [],
   "source": [
    "dict1[\"Gender\"] = \"Male\""
   ]
  },
  {
   "cell_type": "code",
   "execution_count": 39,
   "id": "1a973827",
   "metadata": {},
   "outputs": [
    {
     "data": {
      "text/plain": [
       "{'Name': 'Pratik',\n",
       " 'Age': 20,\n",
       " 'Salary': 90000,\n",
       " 'Company_Name': 'EY',\n",
       " 'Location': 'Mumbai',\n",
       " 'Gender': 'Male'}"
      ]
     },
     "execution_count": 39,
     "metadata": {},
     "output_type": "execute_result"
    }
   ],
   "source": [
    "dict1"
   ]
  },
  {
   "cell_type": "markdown",
   "id": "bc3e6546",
   "metadata": {},
   "source": [
    "## 1) update()"
   ]
  },
  {
   "cell_type": "code",
   "execution_count": 12,
   "id": "4b2f6707",
   "metadata": {},
   "outputs": [
    {
     "name": "stdout",
     "output_type": "stream",
     "text": [
      "{'Name': 'Pratik', 'Age': 22, 'Salary': 80000, 'Company_Name': 'EY', 'Location': 'Mumbai'}\n",
      "None\n"
     ]
    }
   ],
   "source": [
    "dict1  ={'Name': \"Pratik\",\"Age\":22,\"Salary\":80000,\"Company_Name\":\"EY\",\"Location\":\"Mumbai\"}\n",
    "print(dict1)\n",
    "kp=dict1.update({\"scode\":\"Koushil\"})\n",
    "print(kp)"
   ]
  },
  {
   "cell_type": "code",
   "execution_count": 41,
   "id": "533d9838",
   "metadata": {},
   "outputs": [],
   "source": [
    "dict1.update({\"Designation\":\"ML Engineer\",\"Mobile\":98557214545,\"Name\":\"Kapil\"})"
   ]
  },
  {
   "cell_type": "code",
   "execution_count": 42,
   "id": "a2bbf818",
   "metadata": {},
   "outputs": [
    {
     "data": {
      "text/plain": [
       "{'Name': 'Kapil',\n",
       " 'Age': 22,\n",
       " 'Salary': 80000,\n",
       " 'Company_Name': 'EY',\n",
       " 'Location': 'Mumbai',\n",
       " 'Designation': 'ML Engineer',\n",
       " 'Mobile': 98557214545}"
      ]
     },
     "execution_count": 42,
     "metadata": {},
     "output_type": "execute_result"
    }
   ],
   "source": [
    "dict1"
   ]
  },
  {
   "cell_type": "markdown",
   "id": "677aba7e",
   "metadata": {},
   "source": [
    "## Delete items from dict"
   ]
  },
  {
   "cell_type": "raw",
   "id": "7aec37bd",
   "metadata": {},
   "source": [
    "1.pop()\n",
    "2.popitem()\n",
    "3.clear\n",
    "del"
   ]
  },
  {
   "cell_type": "markdown",
   "id": "040466fc",
   "metadata": {},
   "source": [
    "## 1pop()"
   ]
  },
  {
   "cell_type": "code",
   "execution_count": 28,
   "id": "49bc26cb",
   "metadata": {},
   "outputs": [
    {
     "name": "stdout",
     "output_type": "stream",
     "text": [
      "{'Name': 'Pratik', 'Age': 22, 'Company_Name': 'EY', 'Location': 'Mumbai'}\n"
     ]
    }
   ],
   "source": [
    "dict1  ={'Name': \"Pratik\",\"Age\":22,\"Salary\":80000,\"Company_Name\":\"EY\",\"Location\":\"Mumbai\"}\n",
    "dict1.pop(\"Salary\")\n",
    "print(dict1)"
   ]
  },
  {
   "cell_type": "code",
   "execution_count": 44,
   "id": "f4beab80",
   "metadata": {},
   "outputs": [
    {
     "name": "stdout",
     "output_type": "stream",
     "text": [
      "{'Name': 'Pratik', 'Salary': 80000, 'Company_Name': 'EY', 'Location': 'Mumbai'}\n"
     ]
    }
   ],
   "source": [
    "dict1.pop(\"Age\") # here we need to pass key as argument\n",
    "print(dict1)"
   ]
  },
  {
   "cell_type": "code",
   "execution_count": 45,
   "id": "860b20d4",
   "metadata": {},
   "outputs": [
    {
     "ename": "KeyError",
     "evalue": "'Mumbai'",
     "output_type": "error",
     "traceback": [
      "\u001b[1;31m---------------------------------------------------------------------------\u001b[0m",
      "\u001b[1;31mKeyError\u001b[0m                                  Traceback (most recent call last)",
      "\u001b[1;32m~\\AppData\\Local\\Temp/ipykernel_4068/3195375551.py\u001b[0m in \u001b[0;36m<module>\u001b[1;34m\u001b[0m\n\u001b[1;32m----> 1\u001b[1;33m \u001b[0mdict1\u001b[0m\u001b[1;33m.\u001b[0m\u001b[0mpop\u001b[0m\u001b[1;33m(\u001b[0m\u001b[1;34m\"Mumbai\"\u001b[0m\u001b[1;33m)\u001b[0m \u001b[1;31m# here we need to pass key as argument\u001b[0m\u001b[1;33m\u001b[0m\u001b[1;33m\u001b[0m\u001b[0m\n\u001b[0m\u001b[0;32m      2\u001b[0m \u001b[0mprint\u001b[0m\u001b[1;33m(\u001b[0m\u001b[0mdict1\u001b[0m\u001b[1;33m)\u001b[0m\u001b[1;33m\u001b[0m\u001b[1;33m\u001b[0m\u001b[0m\n",
      "\u001b[1;31mKeyError\u001b[0m: 'Mumbai'"
     ]
    }
   ],
   "source": [
    "dict1.pop(\"Mumbai\") # here we need to pass key as argument\n",
    "print(dict1)"
   ]
  },
  {
   "cell_type": "code",
   "execution_count": 46,
   "id": "26f89862",
   "metadata": {},
   "outputs": [
    {
     "ename": "TypeError",
     "evalue": "pop expected at least 1 argument, got 0",
     "output_type": "error",
     "traceback": [
      "\u001b[1;31m---------------------------------------------------------------------------\u001b[0m",
      "\u001b[1;31mTypeError\u001b[0m                                 Traceback (most recent call last)",
      "\u001b[1;32m~\\AppData\\Local\\Temp/ipykernel_4068/1205197430.py\u001b[0m in \u001b[0;36m<module>\u001b[1;34m\u001b[0m\n\u001b[1;32m----> 1\u001b[1;33m \u001b[0mdict1\u001b[0m\u001b[1;33m.\u001b[0m\u001b[0mpop\u001b[0m\u001b[1;33m(\u001b[0m\u001b[1;33m)\u001b[0m \u001b[1;31m# here we need to pass key as argument\u001b[0m\u001b[1;33m\u001b[0m\u001b[1;33m\u001b[0m\u001b[0m\n\u001b[0m\u001b[0;32m      2\u001b[0m \u001b[0mprint\u001b[0m\u001b[1;33m(\u001b[0m\u001b[0mdict1\u001b[0m\u001b[1;33m)\u001b[0m\u001b[1;33m\u001b[0m\u001b[1;33m\u001b[0m\u001b[0m\n",
      "\u001b[1;31mTypeError\u001b[0m: pop expected at least 1 argument, got 0"
     ]
    }
   ],
   "source": [
    "dict1.pop() # here we need to pass key as argument\n",
    "print(dict1)"
   ]
  },
  {
   "cell_type": "markdown",
   "id": "e89b1d52",
   "metadata": {},
   "source": [
    "## 2.popitem()"
   ]
  },
  {
   "cell_type": "code",
   "execution_count": null,
   "id": "02e5f477",
   "metadata": {},
   "outputs": [],
   "source": [
    "# it will remove last inserted item\n",
    "# we cannot use popitem to null dict else will get an error"
   ]
  },
  {
   "cell_type": "code",
   "execution_count": 57,
   "id": "538e8587",
   "metadata": {},
   "outputs": [
    {
     "name": "stdout",
     "output_type": "stream",
     "text": [
      "{'Name': 'Pratik', 'State': 'Delhi', 'Salary': 80000, 'Company_Name': 'EY', 'Location': 'Mumbai'}\n"
     ]
    }
   ],
   "source": [
    "dict1  ={'Name': 'Pratik',\"State\":\"Delhi\",'Salary': 80000, 'Company_Name': 'EY','Location': 'Mumbai'}\n",
    "print(dict1)"
   ]
  },
  {
   "cell_type": "code",
   "execution_count": 52,
   "id": "02efd2c1",
   "metadata": {},
   "outputs": [
    {
     "name": "stdout",
     "output_type": "stream",
     "text": [
      "{'Name': 'Pratik', 'Salary': 80000, 'Company_Name': 'EY'}\n"
     ]
    }
   ],
   "source": [
    "dict1.popitem() # last inserted item remove\n",
    "print(dict1)"
   ]
  },
  {
   "cell_type": "code",
   "execution_count": 53,
   "id": "adad7d74",
   "metadata": {},
   "outputs": [
    {
     "name": "stdout",
     "output_type": "stream",
     "text": [
      "{'Name': 'Pratik', 'Salary': 80000}\n"
     ]
    }
   ],
   "source": [
    "dict1.popitem() # last inserted item remove\n",
    "print(dict1)"
   ]
  },
  {
   "cell_type": "code",
   "execution_count": 54,
   "id": "3ab1af6c",
   "metadata": {},
   "outputs": [
    {
     "name": "stdout",
     "output_type": "stream",
     "text": [
      "{'Name': 'Pratik'}\n"
     ]
    }
   ],
   "source": [
    "dict1.popitem() # last inserted item remove\n",
    "print(dict1)"
   ]
  },
  {
   "cell_type": "code",
   "execution_count": 55,
   "id": "cb267082",
   "metadata": {},
   "outputs": [
    {
     "name": "stdout",
     "output_type": "stream",
     "text": [
      "{}\n"
     ]
    }
   ],
   "source": [
    "dict1.popitem() # last inserted item remove\n",
    "print(dict1)"
   ]
  },
  {
   "cell_type": "code",
   "execution_count": 56,
   "id": "de083a34",
   "metadata": {},
   "outputs": [
    {
     "ename": "KeyError",
     "evalue": "'popitem(): dictionary is empty'",
     "output_type": "error",
     "traceback": [
      "\u001b[1;31m---------------------------------------------------------------------------\u001b[0m",
      "\u001b[1;31mKeyError\u001b[0m                                  Traceback (most recent call last)",
      "\u001b[1;32m~\\AppData\\Local\\Temp/ipykernel_4068/2392073163.py\u001b[0m in \u001b[0;36m<module>\u001b[1;34m\u001b[0m\n\u001b[1;32m----> 1\u001b[1;33m \u001b[0mdict1\u001b[0m\u001b[1;33m.\u001b[0m\u001b[0mpopitem\u001b[0m\u001b[1;33m(\u001b[0m\u001b[1;33m)\u001b[0m \u001b[1;31m# last inserted item remove\u001b[0m\u001b[1;33m\u001b[0m\u001b[1;33m\u001b[0m\u001b[0m\n\u001b[0m\u001b[0;32m      2\u001b[0m \u001b[0mprint\u001b[0m\u001b[1;33m(\u001b[0m\u001b[0mdict1\u001b[0m\u001b[1;33m)\u001b[0m\u001b[1;33m\u001b[0m\u001b[1;33m\u001b[0m\u001b[0m\n",
      "\u001b[1;31mKeyError\u001b[0m: 'popitem(): dictionary is empty'"
     ]
    }
   ],
   "source": [
    "dict1.popitem() # last inserted item remove\n",
    "print(dict1)"
   ]
  },
  {
   "cell_type": "code",
   "execution_count": null,
   "id": "cb37fb54",
   "metadata": {},
   "outputs": [],
   "source": []
  },
  {
   "cell_type": "code",
   "execution_count": 50,
   "id": "0b0e2a24",
   "metadata": {},
   "outputs": [
    {
     "ename": "KeyError",
     "evalue": "'popitem(): dictionary is empty'",
     "output_type": "error",
     "traceback": [
      "\u001b[1;31m---------------------------------------------------------------------------\u001b[0m",
      "\u001b[1;31mKeyError\u001b[0m                                  Traceback (most recent call last)",
      "\u001b[1;32m~\\AppData\\Local\\Temp/ipykernel_4068/3567043080.py\u001b[0m in \u001b[0;36m<module>\u001b[1;34m\u001b[0m\n\u001b[0;32m      1\u001b[0m \u001b[0mdict2\u001b[0m \u001b[1;33m=\u001b[0m \u001b[1;33m{\u001b[0m\u001b[1;33m}\u001b[0m\u001b[1;33m\u001b[0m\u001b[1;33m\u001b[0m\u001b[0m\n\u001b[1;32m----> 2\u001b[1;33m \u001b[0mdict2\u001b[0m\u001b[1;33m.\u001b[0m\u001b[0mpopitem\u001b[0m\u001b[1;33m(\u001b[0m\u001b[1;33m)\u001b[0m\u001b[1;33m\u001b[0m\u001b[1;33m\u001b[0m\u001b[0m\n\u001b[0m",
      "\u001b[1;31mKeyError\u001b[0m: 'popitem(): dictionary is empty'"
     ]
    }
   ],
   "source": [
    "dict2 = {}\n",
    "dict2.popitem()"
   ]
  },
  {
   "cell_type": "code",
   "execution_count": 58,
   "id": "72efe9dd",
   "metadata": {},
   "outputs": [
    {
     "name": "stdout",
     "output_type": "stream",
     "text": [
      "{'Name': 'Pratik', 'State': 'Delhi', 'Salary': 80000, 'Company_Name': 'EY'}\n"
     ]
    }
   ],
   "source": [
    "dict1.popitem() # last inserted item remove\n",
    "print(dict1)"
   ]
  },
  {
   "cell_type": "code",
   "execution_count": 60,
   "id": "765480a5",
   "metadata": {},
   "outputs": [
    {
     "name": "stdout",
     "output_type": "stream",
     "text": [
      "{'Company_Name': 'EY', 'Name': 'Pratik', 'State': 'Delhi', 'Salary': 80000}\n"
     ]
    }
   ],
   "source": [
    "dict1  ={'Company_Name': 'EY','Name': 'Pratik',\"State\":\"Delhi\",'Salary': 80000, 'Location': 'Mumbai'}\n",
    "dict1.popitem()\n",
    "print(dict1)"
   ]
  },
  {
   "cell_type": "code",
   "execution_count": 62,
   "id": "f0ac8b4d",
   "metadata": {},
   "outputs": [
    {
     "name": "stdout",
     "output_type": "stream",
     "text": [
      "{'Company_Name': 'EY', 'Name': 'Pratik', 'State': 'Delhi', 'Salary': 80000, 'Mobile': 9852222}\n",
      "{'Company_Name': 'EY', 'Name': 'Pratik', 'State': 'Delhi', 'Salary': 80000, 'Mobile': 9852222, 'Mobile_new': 100000}\n",
      "{'Company_Name': 'EY', 'Name': 'Pratik', 'State': 'Delhi', 'Salary': 80000, 'Mobile': 9852222}\n"
     ]
    }
   ],
   "source": [
    "dict1[\"Mobile\"] = 9852222\n",
    "print(dict1) # Mobile-1\n",
    "dict1[\"Mobile_new\"] = 100000\n",
    "print(dict1) # Mobile -2\n",
    "dict1.popitem()\n",
    "print(dict1) # remove"
   ]
  },
  {
   "cell_type": "code",
   "execution_count": null,
   "id": "b9c88321",
   "metadata": {},
   "outputs": [],
   "source": []
  },
  {
   "cell_type": "markdown",
   "id": "6fff3d66",
   "metadata": {},
   "source": [
    "## 3.clear()"
   ]
  },
  {
   "cell_type": "code",
   "execution_count": null,
   "id": "0eca4b67",
   "metadata": {},
   "outputs": [],
   "source": []
  },
  {
   "cell_type": "code",
   "execution_count": 30,
   "id": "c5b0c725",
   "metadata": {},
   "outputs": [
    {
     "name": "stdout",
     "output_type": "stream",
     "text": [
      "{'Name': 'Pratik', 'Salary': 80000, 'Company_Name': 'EY', 'Location': 'Mumbai'}\n"
     ]
    }
   ],
   "source": [
    "dict1  ={'Name': 'Pratik', 'Salary': 80000, 'Company_Name': 'EY', 'Location': 'Mumbai'}\n",
    "# dict1.clear()\n",
    "print(dict1)"
   ]
  },
  {
   "cell_type": "code",
   "execution_count": 64,
   "id": "33f2576c",
   "metadata": {},
   "outputs": [
    {
     "name": "stdout",
     "output_type": "stream",
     "text": [
      "{}\n"
     ]
    }
   ],
   "source": [
    "dict1.clear() # it remove all items\n",
    "print(dict1) # empty"
   ]
  },
  {
   "cell_type": "markdown",
   "id": "ba96ff26",
   "metadata": {},
   "source": [
    "## 4.del"
   ]
  },
  {
   "cell_type": "code",
   "execution_count": 33,
   "id": "6e651b98",
   "metadata": {},
   "outputs": [
    {
     "name": "stdout",
     "output_type": "stream",
     "text": [
      "{'Name': 'Pratik', 'Salary': 80000, 'Company_Name': 'EY', 'Location': 'Mumbai'}\n"
     ]
    }
   ],
   "source": [
    "dict1  ={'Name': 'Pratik', 'Salary': 80000, 'Company_Name': 'EY', 'Location': 'Mumbai'}\n",
    "# del dict1\n",
    "print(dict1)\n",
    "# print(\"*\"*1000)\n",
    "# del dict1\n",
    "# print(dict1)"
   ]
  },
  {
   "cell_type": "code",
   "execution_count": 70,
   "id": "46aca4c1",
   "metadata": {},
   "outputs": [
    {
     "name": "stdout",
     "output_type": "stream",
     "text": [
      "{'Name': 'Pratik', 'Salary': 80000, 'Company_Name': 'EY', 'Location': 'Mumbai'}\n",
      "****************************************************************************************************\n",
      "{'Name': 'Pratik', 'Salary': 80000, 'Company_Name': 'EY'}\n"
     ]
    }
   ],
   "source": [
    "dict1  ={'Name': 'Pratik', 'Salary': 80000, 'Company_Name': 'EY', 'Location': 'Mumbai'}\n",
    "print(dict1)\n",
    "print(\"*\"*100)\n",
    "del dict1[\"Location\"]\n",
    "print(dict1)"
   ]
  },
  {
   "cell_type": "code",
   "execution_count": 69,
   "id": "674d7b26",
   "metadata": {},
   "outputs": [
    {
     "data": {
      "text/plain": [
       "'Mumbai'"
      ]
     },
     "execution_count": 69,
     "metadata": {},
     "output_type": "execute_result"
    }
   ],
   "source": [
    "dict1[\"Location\"]"
   ]
  },
  {
   "cell_type": "code",
   "execution_count": 71,
   "id": "d8da6ac8",
   "metadata": {},
   "outputs": [
    {
     "name": "stdout",
     "output_type": "stream",
     "text": [
      "{'Name': 'Pratik', 'Salary': 80000, 'Company_Name': 'EY', 'Location': 'Mumbai'}\n",
      "****************************************************************************************************\n",
      "{'Name': 'Pratik', 'Company_Name': 'EY', 'Location': 'Mumbai'}\n"
     ]
    }
   ],
   "source": [
    "dict1  ={'Name': 'Pratik', 'Salary': 80000, 'Company_Name': 'EY', 'Location': 'Mumbai'}\n",
    "print(dict1)\n",
    "print(\"*\"*100)\n",
    "del dict1[\"Salary\"]\n",
    "print(dict1)"
   ]
  },
  {
   "cell_type": "markdown",
   "id": "e3dc5a6e",
   "metadata": {},
   "source": [
    "## Sort dict Using keys"
   ]
  },
  {
   "cell_type": "code",
   "execution_count": 21,
   "id": "918290aa",
   "metadata": {},
   "outputs": [
    {
     "name": "stdout",
     "output_type": "stream",
     "text": [
      "{'Name': 'Pratik', 'Salary': 80000, 'Company_Name': 'EY', 'Location': 'Mumbai'}\n",
      "New dict>>>>>> {'Company_Name': 'EY', 'Location': 'Mumbai', 'Name': 'Pratik', 'Salary': 80000}\n"
     ]
    }
   ],
   "source": [
    "dict1  ={'Name': 'Pratik', 'Salary': 80000, 'Company_Name': 'EY', 'Location': 'Mumbai'}\n",
    "print(dict1)\n",
    "new_dict1 = {} # \n",
    "sorted_key=sorted(dict1.keys())\n",
    "# print(new_sorted)\n",
    "# print(\"*\"*100)\n",
    "\n",
    "for key in sorted_key:\n",
    "    new_dict1[key] = dict1[key]\n",
    "    \n",
    "\n",
    "print(\"New dict>>>>>>\",new_dict1)"
   ]
  },
  {
   "cell_type": "code",
   "execution_count": 13,
   "id": "d078bfe6",
   "metadata": {},
   "outputs": [
    {
     "data": {
      "text/plain": [
       "[('Company_Name', 'EY'),\n",
       " ('Location', 'Mumbai'),\n",
       " ('Name', 'Pratik'),\n",
       " ('Salary', 80000)]"
      ]
     },
     "execution_count": 13,
     "metadata": {},
     "output_type": "execute_result"
    }
   ],
   "source": [
    "dict1  ={'Name': 'Pratik', 'Salary': 80000, 'Company_Name': 'EY', 'Location': 'Mumbai'}\n",
    "kp1=sorted(dict1.items())\n",
    "kp1"
   ]
  },
  {
   "cell_type": "code",
   "execution_count": 78,
   "id": "cb9d9f0c",
   "metadata": {},
   "outputs": [
    {
     "data": {
      "text/plain": [
       "'EY'"
      ]
     },
     "execution_count": 78,
     "metadata": {},
     "output_type": "execute_result"
    }
   ],
   "source": [
    "dict1[\"Company_Name\"]"
   ]
  },
  {
   "cell_type": "code",
   "execution_count": 79,
   "id": "20f296da",
   "metadata": {},
   "outputs": [
    {
     "ename": "KeyError",
     "evalue": "'Company_Name'",
     "output_type": "error",
     "traceback": [
      "\u001b[1;31m---------------------------------------------------------------------------\u001b[0m",
      "\u001b[1;31mKeyError\u001b[0m                                  Traceback (most recent call last)",
      "\u001b[1;32m~\\AppData\\Local\\Temp/ipykernel_4068/4035250753.py\u001b[0m in \u001b[0;36m<module>\u001b[1;34m\u001b[0m\n\u001b[1;32m----> 1\u001b[1;33m \u001b[0mnew_dict1\u001b[0m\u001b[1;33m[\u001b[0m\u001b[1;34m\"Company_Name\"\u001b[0m\u001b[1;33m]\u001b[0m\u001b[1;33m\u001b[0m\u001b[1;33m\u001b[0m\u001b[0m\n\u001b[0m",
      "\u001b[1;31mKeyError\u001b[0m: 'Company_Name'"
     ]
    }
   ],
   "source": [
    "new_dict1[\"Company_Name\"]"
   ]
  },
  {
   "cell_type": "code",
   "execution_count": 73,
   "id": "cae90c3a",
   "metadata": {},
   "outputs": [
    {
     "data": {
      "text/plain": [
       "dict_keys(['Name', 'Salary', 'Company_Name', 'Location'])"
      ]
     },
     "execution_count": 73,
     "metadata": {},
     "output_type": "execute_result"
    }
   ],
   "source": [
    "dict1.keys()"
   ]
  },
  {
   "cell_type": "code",
   "execution_count": 74,
   "id": "a17215e3",
   "metadata": {},
   "outputs": [
    {
     "data": {
      "text/plain": [
       "['Company_Name', 'Location', 'Name', 'Salary']"
      ]
     },
     "execution_count": 74,
     "metadata": {},
     "output_type": "execute_result"
    }
   ],
   "source": [
    "sorted(dict1.keys())"
   ]
  },
  {
   "cell_type": "code",
   "execution_count": null,
   "id": "1f5d05f8",
   "metadata": {},
   "outputs": [],
   "source": []
  },
  {
   "cell_type": "code",
   "execution_count": null,
   "id": "840cf2fa",
   "metadata": {},
   "outputs": [],
   "source": []
  },
  {
   "cell_type": "code",
   "execution_count": null,
   "id": "97921886",
   "metadata": {},
   "outputs": [],
   "source": []
  },
  {
   "cell_type": "markdown",
   "id": "8f8eebe5",
   "metadata": {},
   "source": [
    "## Sort dict using values"
   ]
  },
  {
   "cell_type": "code",
   "execution_count": 43,
   "id": "878e7654",
   "metadata": {},
   "outputs": [
    {
     "name": "stdout",
     "output_type": "stream",
     "text": [
      "dict_values(['Pratik', 'TCS', 'Delhi', 'Data Scientist'])\n",
      "****************************************************************************************************\n",
      "['Data Scientist', 'Delhi', 'Pratik', 'TCS']\n",
      "****************************************************************************************************\n",
      "{'Designation': 'Data Scientist', 'Location': 'Delhi', 'Name': 'Pratik', 'Company_name': 'TCS'}\n"
     ]
    }
   ],
   "source": [
    "dict1  ={\"Name\":\"Pratik\",\"Company_name\":\"TCS\",\"Location\":\"Delhi\",\"Designation\":\"Data Scientist\"}\n",
    "print(dict1.values())\n",
    "print(\"*\"*100)\n",
    "\n",
    "\n",
    "sorted_values = sorted(dict1.values())\n",
    "print(sorted_values)\n",
    "print(\"*\"*100)\n",
    "new_dict1 = {}\n",
    "\n",
    "for value in sorted_values: # values [\"Data Scientist\"]\n",
    "    for key in dict1: # keys\n",
    "        \n",
    "        if dict1[key] == value:# Pratik == Pratik\n",
    "            new_dict1[key] =value\n",
    "print(new_dict1)"
   ]
  },
  {
   "cell_type": "code",
   "execution_count": 89,
   "id": "2dd8764f",
   "metadata": {},
   "outputs": [
    {
     "data": {
      "text/plain": [
       "'Pratik'"
      ]
     },
     "execution_count": 89,
     "metadata": {},
     "output_type": "execute_result"
    }
   ],
   "source": [
    "dict1[\"Name\"]"
   ]
  },
  {
   "cell_type": "code",
   "execution_count": 4,
   "id": "8bc69ffd",
   "metadata": {},
   "outputs": [
    {
     "name": "stdout",
     "output_type": "stream",
     "text": [
      "{'Name': 'Pratik', 'Company_name': 'TCS', 'Location': 'Delhi', 'Designation': 'Data Scientist'}\n",
      "****************************************************************************************************\n",
      "Name\n",
      "Name\n",
      "Name\n",
      "Name\n"
     ]
    }
   ],
   "source": [
    "dict1  ={\"Name\":\"Pratik\",\"Company_name\":\"TCS\",\"Location\":\"Delhi\",\"Designation\":\"Data Scientist\"}\n",
    "print(dict1)\n",
    "new_dict1 = {}\n",
    "sorted_values = sorted(dict1.values())\n",
    "print(\"*\"*100)\n",
    "\n",
    "for value in sorted_values: # values [\"Data Scientist\"]\n",
    "    for key in dict1: # keys\n",
    "        print(key)\n",
    "        break\n",
    "# new_dict1"
   ]
  },
  {
   "cell_type": "code",
   "execution_count": 83,
   "id": "1ad87a2a",
   "metadata": {},
   "outputs": [
    {
     "data": {
      "text/plain": [
       "['Data Scientist', 'Delhi', 'Pratik', 'TCS']"
      ]
     },
     "execution_count": 83,
     "metadata": {},
     "output_type": "execute_result"
    }
   ],
   "source": [
    "sorted(dict1.values())"
   ]
  },
  {
   "cell_type": "code",
   "execution_count": null,
   "id": "50462d04",
   "metadata": {},
   "outputs": [],
   "source": []
  },
  {
   "cell_type": "code",
   "execution_count": 2,
   "id": "60a4dfbb",
   "metadata": {},
   "outputs": [
    {
     "name": "stdout",
     "output_type": "stream",
     "text": [
      "{'Name': 'Pratik', 'Company_name': 'TCS', 'Location': 'Delhi', 'Designation': 'Data Scientist'}\n"
     ]
    },
    {
     "data": {
      "text/plain": [
       "['Company_name', 'Designation', 'Location', 'Name']"
      ]
     },
     "execution_count": 2,
     "metadata": {},
     "output_type": "execute_result"
    }
   ],
   "source": [
    "dict1  ={\"Name\":\"Pratik\",\"Company_name\":\"TCS\",\"Location\":\"Delhi\",\"Designation\":\"Data Scientist\"}\n",
    "print(dict1)\n",
    "new_dict1 = {} # \n",
    "sorted_key = sorted(dict1.keys())\n",
    "sorted_key\n",
    "print(\"*\"*100)\n",
    "\n",
    "for key in sorted_key:\n",
    "    new_dict1[key] = dict1[key]\n",
    "    \n",
    "\n",
    "print(\"New dict>>>>>>\",new_dict1)"
   ]
  },
  {
   "cell_type": "markdown",
   "id": "ce98ca51",
   "metadata": {},
   "source": [
    "## convert list to dict"
   ]
  },
  {
   "cell_type": "code",
   "execution_count": 15,
   "id": "d2b62f36",
   "metadata": {},
   "outputs": [
    {
     "name": "stdout",
     "output_type": "stream",
     "text": [
      "{'Phy': 20, 'Math': 18, 'Sci': 19, 'ML': 17}\n"
     ]
    }
   ],
   "source": [
    "sub_name = [\"Phy\",\"Math\",\"Sci\",\"ML\"]\n",
    "marks = [20,18,19,17]\n",
    "\n",
    "dict1= {}\n",
    "for index,key in enumerate(sub_name):\n",
    "    dict1[key] = marks[index]\n",
    "print(dict1)\n"
   ]
  },
  {
   "cell_type": "code",
   "execution_count": 93,
   "id": "03ea2b43",
   "metadata": {},
   "outputs": [
    {
     "data": {
      "text/plain": [
       "20"
      ]
     },
     "execution_count": 93,
     "metadata": {},
     "output_type": "execute_result"
    }
   ],
   "source": [
    "marks[0]"
   ]
  },
  {
   "cell_type": "code",
   "execution_count": 97,
   "id": "3e02c4e8",
   "metadata": {},
   "outputs": [
    {
     "ename": "IndexError",
     "evalue": "list index out of range",
     "output_type": "error",
     "traceback": [
      "\u001b[1;31m---------------------------------------------------------------------------\u001b[0m",
      "\u001b[1;31mIndexError\u001b[0m                                Traceback (most recent call last)",
      "\u001b[1;32m~\\AppData\\Local\\Temp/ipykernel_4068/315217935.py\u001b[0m in \u001b[0;36m<module>\u001b[1;34m\u001b[0m\n\u001b[0;32m      5\u001b[0m \u001b[1;32mfor\u001b[0m \u001b[0mindex\u001b[0m\u001b[1;33m,\u001b[0m\u001b[0mkey\u001b[0m \u001b[1;32min\u001b[0m \u001b[0menumerate\u001b[0m\u001b[1;33m(\u001b[0m\u001b[0msub_name\u001b[0m\u001b[1;33m)\u001b[0m\u001b[1;33m:\u001b[0m\u001b[1;33m\u001b[0m\u001b[1;33m\u001b[0m\u001b[0m\n\u001b[0;32m      6\u001b[0m \u001b[1;33m\u001b[0m\u001b[0m\n\u001b[1;32m----> 7\u001b[1;33m     \u001b[0mdict1\u001b[0m\u001b[1;33m[\u001b[0m\u001b[0mkey\u001b[0m\u001b[1;33m]\u001b[0m \u001b[1;33m=\u001b[0m \u001b[0mmarks\u001b[0m\u001b[1;33m[\u001b[0m\u001b[0mindex\u001b[0m\u001b[1;33m]\u001b[0m\u001b[1;33m\u001b[0m\u001b[1;33m\u001b[0m\u001b[0m\n\u001b[0m\u001b[0;32m      8\u001b[0m \u001b[1;33m\u001b[0m\u001b[0m\n\u001b[0;32m      9\u001b[0m \u001b[0mprint\u001b[0m\u001b[1;33m(\u001b[0m\u001b[0mdict1\u001b[0m\u001b[1;33m)\u001b[0m\u001b[1;33m\u001b[0m\u001b[1;33m\u001b[0m\u001b[0m\n",
      "\u001b[1;31mIndexError\u001b[0m: list index out of range"
     ]
    }
   ],
   "source": [
    "sub_name = [\"Phy\",\"Math\",\"Sci\",\"ML\",\"Data Science\"]\n",
    "marks = [20,18,19,17]\n",
    "\n",
    "dict1= {}\n",
    "for index,key in enumerate(sub_name):\n",
    "    \n",
    "    dict1[key] = marks[index]\n",
    "    \n",
    "print(dict1)\n"
   ]
  },
  {
   "cell_type": "code",
   "execution_count": 17,
   "id": "90c8452d",
   "metadata": {},
   "outputs": [
    {
     "name": "stdout",
     "output_type": "stream",
     "text": [
      "{'Phy': 20, 'Math': 18, 'Sci': 19, 'ML': 17, 'Data Science': 21}\n"
     ]
    }
   ],
   "source": [
    "sub_name = [\"Phy\",\"Math\",\"Sci\",\"ML\",\"Data Science\"]\n",
    "marks = [20,18,19,17,21]\n",
    "\n",
    "dict1= {}\n",
    "for index,key in enumerate(sub_name): # method-1\n",
    "    \n",
    "    dict1[key] = marks[index]\n",
    "    \n",
    "print(dict1)\n"
   ]
  },
  {
   "cell_type": "code",
   "execution_count": 99,
   "id": "026bcd2d",
   "metadata": {},
   "outputs": [
    {
     "name": "stdout",
     "output_type": "stream",
     "text": [
      "{'Phy': 20, 'Math': 18, 'Sci': 19, 'ML': 17, 'Data Science': 21}\n"
     ]
    }
   ],
   "source": [
    "sub_name = [\"Phy\",\"Math\",\"Sci\",\"ML\",\"Data Science\"]\n",
    "marks = [20,18,19,17,21]\n",
    "\n",
    "dict1= {}\n",
    "count = 0\n",
    "for key in  sub_name: # method-2\n",
    "    dict1[key] = marks[count]\n",
    "    count+=1\n",
    "    \n",
    "print(dict1)\n"
   ]
  },
  {
   "cell_type": "code",
   "execution_count": 103,
   "id": "91b74efd",
   "metadata": {},
   "outputs": [
    {
     "name": "stdout",
     "output_type": "stream",
     "text": [
      "{'Phy': 20, 'Math': 18, 'Sci': 19, 'ML': 17, 'Data Science': 21}\n"
     ]
    }
   ],
   "source": [
    "sub_name = [\"Phy\",\"Math\",\"Sci\",\"ML\",\"Data Science\"]\n",
    "marks = [20,18,19,17,21]\n",
    "\n",
    "dict1= {}\n",
    "\n",
    "for key in  range(len(sub_name)): # method-3\n",
    "    dict1[sub_name[key]] = marks[key]\n",
    "print(dict1)\n",
    "   \n"
   ]
  },
  {
   "cell_type": "code",
   "execution_count": 18,
   "id": "269e1aa3",
   "metadata": {},
   "outputs": [
    {
     "name": "stdout",
     "output_type": "stream",
     "text": [
      "{'Phy': 20, 'Math': 18, 'Sci': 19, 'ML': 17, 'Data Science': 21}\n"
     ]
    }
   ],
   "source": [
    "sub_name = [\"Phy\",\"Math\",\"Sci\",\"ML\",\"Data Science\"]\n",
    "marks = [20,18,19,17,21]\n",
    "DDD=dict(zip(sub_name,marks))\n",
    "print(DDD)\n"
   ]
  },
  {
   "cell_type": "code",
   "execution_count": 104,
   "id": "08389c35",
   "metadata": {},
   "outputs": [
    {
     "data": {
      "text/plain": [
       "{'Phy': 20, 'Math': 18, 'Sci': 19, 'ML': 17, 'Data Science': 21}"
      ]
     },
     "execution_count": 104,
     "metadata": {},
     "output_type": "execute_result"
    }
   ],
   "source": [
    "dict(zip(sub_name,marks)) # method-4"
   ]
  },
  {
   "cell_type": "code",
   "execution_count": 102,
   "id": "6e590027",
   "metadata": {},
   "outputs": [
    {
     "data": {
      "text/plain": [
       "('Phy', 20)"
      ]
     },
     "execution_count": 102,
     "metadata": {},
     "output_type": "execute_result"
    }
   ],
   "source": [
    "sub_name[0],marks[0]"
   ]
  },
  {
   "cell_type": "code",
   "execution_count": 100,
   "id": "efe26b08",
   "metadata": {},
   "outputs": [
    {
     "data": {
      "text/plain": [
       "5"
      ]
     },
     "execution_count": 100,
     "metadata": {},
     "output_type": "execute_result"
    }
   ],
   "source": [
    "len(sub_name)"
   ]
  },
  {
   "cell_type": "code",
   "execution_count": null,
   "id": "db6bb6a7",
   "metadata": {},
   "outputs": [],
   "source": []
  }
 ],
 "metadata": {
  "kernelspec": {
   "display_name": "Python 3",
   "language": "python",
   "name": "python3"
  },
  "language_info": {
   "codemirror_mode": {
    "name": "ipython",
    "version": 3
   },
   "file_extension": ".py",
   "mimetype": "text/x-python",
   "name": "python",
   "nbconvert_exporter": "python",
   "pygments_lexer": "ipython3",
   "version": "3.8.8"
  }
 },
 "nbformat": 4,
 "nbformat_minor": 5
}
