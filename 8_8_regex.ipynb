{
 "cells": [
  {
   "cell_type": "markdown",
   "id": "5a6a5f02",
   "metadata": {},
   "source": [
    "# 1) re.findall()"
   ]
  },
  {
   "cell_type": "code",
   "execution_count": null,
   "id": "aac4ac55",
   "metadata": {},
   "outputs": [],
   "source": [
    "> it return a list of all matches in given string\n",
    "re.findall(pattern,text)"
   ]
  },
  {
   "cell_type": "code",
   "execution_count": 4,
   "id": "1e43320e",
   "metadata": {},
   "outputs": [
    {
     "name": "stdout",
     "output_type": "stream",
     "text": [
      "['9855512365', '9632587410']\n"
     ]
    }
   ],
   "source": [
    "import re\n",
    "text = \"\"\"My mobile number is: 9855512365\n",
    "        email id : velocity.mumbai@gmail.com\n",
    "        date : 8-08-2022\n",
    "        alternate mobile number: 9632587410\"\"\"\n",
    "mobile=re.findall(\"\\d{10}\",text)\n",
    "print(mobile)"
   ]
  },
  {
   "cell_type": "code",
   "execution_count": 2,
   "id": "ecbc4107",
   "metadata": {},
   "outputs": [
    {
     "name": "stdout",
     "output_type": "stream",
     "text": [
      "['9855512365']\n"
     ]
    }
   ],
   "source": [
    "import re\n",
    "text = \"\"\"My mobile number is: 9855512365\n",
    "        email id : velocity.mumbai@gmail.com\n",
    "        date : 8-08-2022\n",
    "        alternate mobile number: 963258741\"\"\"\n",
    "mobile_num = re.findall(\"[0-9]{10}\",text)\n",
    "print(mobile_num)"
   ]
  },
  {
   "cell_type": "code",
   "execution_count": 3,
   "id": "47060b95",
   "metadata": {},
   "outputs": [
    {
     "name": "stdout",
     "output_type": "stream",
     "text": [
      "['98', '55', '51', '23', '65', '08', '20', '22', '96', '32', '58', '74']\n"
     ]
    }
   ],
   "source": [
    "import re\n",
    "text = \"\"\"My mobile number is: 9855512365\n",
    "        email id : velocity.mumbai@gmail.com\n",
    "        date : 8-08-2022\n",
    "        alternate mobile number: 963258741\"\"\"\n",
    "mobile_num = re.findall(\"[0-9]{2}\",text)\n",
    "print(mobile_num)"
   ]
  },
  {
   "cell_type": "code",
   "execution_count": null,
   "id": "c1075c7a",
   "metadata": {},
   "outputs": [],
   "source": [
    "[abc] > a or b or c\n",
    "[a-z] > any lower case char from a -z\n",
    "[A-Z] > any upper case char from A-Z\n",
    "[a-zA-Z] > Any alphabet (_)\n",
    "[A-z] > Any alphabet\n",
    "[0-9] > 0-9 digit\n",
    "[09] > 0 or 9\n",
    "[0-9a-zA-Z] >Alphanumeric\n",
    "[A-z0-9]>Alphanumeric"
   ]
  },
  {
   "cell_type": "code",
   "execution_count": 4,
   "id": "f55d77ad",
   "metadata": {},
   "outputs": [
    {
     "name": "stdout",
     "output_type": "stream",
     "text": [
      "['8-08-2022']\n"
     ]
    }
   ],
   "source": [
    "import re\n",
    "text = \"\"\"My mobile number is: 9855512365\n",
    "        email id : velocity.mumbai@gmail.com\n",
    "        date : 8-08-2022\n",
    "        alternate mobile number: 963258741\"\"\"\n",
    "date = re.findall(\"[0-9]{1}[-][0-9]{2}[-][0-9]{4}\",text)\n",
    "print(date)"
   ]
  },
  {
   "cell_type": "code",
   "execution_count": 6,
   "id": "43cadebf",
   "metadata": {},
   "outputs": [
    {
     "name": "stdout",
     "output_type": "stream",
     "text": [
      "['8-08-2022', '10-05-2021', '15-5-2022']\n"
     ]
    }
   ],
   "source": [
    "import re\n",
    "text = \"\"\"My mobile number is: 9855512365\n",
    "        email id : velocity.mumbai@gmail.com\n",
    "        date : 8-08-2022\n",
    "        date1 = 10-05-2021\n",
    "        date2 = 15-5-2022\n",
    "        alternate mobile number: 963258741\"\"\"\n",
    "date = re.findall(\"[0-9]{1,2}[-][0-9]{1,2}[-][0-9]{4}\",text)\n",
    "print(date)"
   ]
  },
  {
   "cell_type": "code",
   "execution_count": 7,
   "id": "542f5106",
   "metadata": {},
   "outputs": [
    {
     "name": "stdout",
     "output_type": "stream",
     "text": [
      "['ABHYP1454M']\n"
     ]
    }
   ],
   "source": [
    "import re\n",
    "text = \"\"\"My mobile number is: 9855512365\n",
    "        email id : velocity.mumbai@gmail.com\n",
    "        date : 8-08-2022\n",
    "        date1 = 10-05-2021\n",
    "        date2 = 15-5-2022\n",
    "        pancard = ABHYP1454M\n",
    "        alternate mobile number: 963258741\n",
    "        pancard = AeHRP1450Z\"\"\"\n",
    "pancard = re.findall(\"[A-Z]{5}[0-9]{4}[A-Z]{1}\",text)\n",
    "print(pancard) # WRONG OUTPUT"
   ]
  },
  {
   "cell_type": "code",
   "execution_count": 9,
   "id": "9332eb9d",
   "metadata": {},
   "outputs": [
    {
     "name": "stdout",
     "output_type": "stream",
     "text": [
      "['ABHYP1454M', 'AEHRP1450Z']\n"
     ]
    }
   ],
   "source": [
    "import re\n",
    "text = \"\"\"My mobile number is: 9855512365\n",
    "        email id : velocity.mumbai@gmail.com\n",
    "        date : 8-08-2022\n",
    "        date1 = 10-05-2021\n",
    "        date2 = 15-5-2022\n",
    "        pancard = ABHYP1454M\n",
    "        alternate mobile number: 963258741\n",
    "        pancard = AeHRP1450Z\"\"\"\n",
    "pancard = re.findall(\"[A-Z]{5}[0-9]{4}[A-Z]{1}\",text.upper())\n",
    "print(pancard)"
   ]
  },
  {
   "cell_type": "code",
   "execution_count": 10,
   "id": "e1dbde6c",
   "metadata": {},
   "outputs": [
    {
     "name": "stdout",
     "output_type": "stream",
     "text": [
      "['ABHYP1454M', 'AeHRP1450Z']\n"
     ]
    }
   ],
   "source": [
    "import re\n",
    "text = \"\"\"My mobile number is: 9855512365\n",
    "        email id : velocity.mumbai@gmail.com\n",
    "        date : 8-08-2022\n",
    "        date1 = 10-05-2021\n",
    "        date2 = 15-5-2022\n",
    "        pancard = ABHYP1454M\n",
    "        alternate mobile number: 963258741\n",
    "        pancard = AeHRP1450Z\"\"\"\n",
    "pancard = re.findall(\"[A-Za-z]{5}[0-9]{4}[A-Z]{1}\",text)\n",
    "print(pancard)"
   ]
  },
  {
   "cell_type": "code",
   "execution_count": 1,
   "id": "c20ba76d",
   "metadata": {},
   "outputs": [
    {
     "name": "stdout",
     "output_type": "stream",
     "text": [
      "['velocity.mumbai@gmail.com']\n"
     ]
    }
   ],
   "source": [
    "import re\n",
    "text = \"\"\"My mobile number is: 9855512365\n",
    "        email id : velocity.mumbai@gmail.com\n",
    "        date : 8-08-2022\n",
    "        date1 = 10-05-2021\n",
    "        date2 = 15-5-2022\n",
    "        pancard = ABHYP1454M\n",
    "        alternate mobile number: 963258741\n",
    "        pancard = AeHRP1450Z\"\"\"\n",
    "email = re.findall(\"[a-zA-Z0-9._-]{2,20}[@][a-z]{5}[.][a-z]{3}\",text)\n",
    "print(email)"
   ]
  },
  {
   "cell_type": "code",
   "execution_count": 15,
   "id": "40419ef9",
   "metadata": {},
   "outputs": [
    {
     "name": "stdout",
     "output_type": "stream",
     "text": [
      "['velocity.mumbai@gmail.com', 'viratkohli@gmail.com']\n"
     ]
    }
   ],
   "source": [
    "import re\n",
    "text = \"\"\"My mobile number is: 9855512365\n",
    "        email id : velocity.mumbai@gmail.com\n",
    "        date : 8-08-2022\n",
    "        date1 = 10-05-2021\n",
    "        date2 = 15-5-2022\n",
    "        pancard = ABHYP1454M\n",
    "        alternate mobile number: 963258741\n",
    "        pancard = AeHRP1450Z\n",
    "        emailid= VIRATKOHLI@GMAIL.COM\"\"\"\n",
    "email = re.findall(\"[a-zA-Z0-9._-]{2,20}[@][a-z]{5}[.][a-z]{3}\",text.lower())\n",
    "print(email)"
   ]
  },
  {
   "cell_type": "code",
   "execution_count": 16,
   "id": "76259bc7",
   "metadata": {},
   "outputs": [
    {
     "name": "stdout",
     "output_type": "stream",
     "text": [
      "['velocity.mumbai@gmail.com', 'VIRATKOHLI@GMAIL.COM']\n"
     ]
    }
   ],
   "source": [
    "import re\n",
    "text = \"\"\"My mobile number is: 9855512365\n",
    "        email id : velocity.mumbai@gmail.com\n",
    "        date : 8-08-2022\n",
    "        date1 = 10-05-2021\n",
    "        date2 = 15-5-2022\n",
    "        pancard = ABHYP1454M\n",
    "        alternate mobile number: 963258741\n",
    "        pancard = AeHRP1450Z\n",
    "        emailid= VIRATKOHLI@GMAIL.COM\"\"\"\n",
    "email = re.findall(\"[a-zA-Z0-9._-]{2,20}[@][A-Za-z]{5}[.][A-Za-z]{3}\",text)\n",
    "print(email)"
   ]
  },
  {
   "cell_type": "code",
   "execution_count": 17,
   "id": "b57c0650",
   "metadata": {},
   "outputs": [
    {
     "name": "stdout",
     "output_type": "stream",
     "text": [
      "['velocity.mumbai@gmail.com', 'VIRATKOHLI@GMAIL.COM', 'AKSHAYKUMAR@outlook.com']\n"
     ]
    }
   ],
   "source": [
    "import re\n",
    "text = \"\"\"My mobile number is: 9855512365\n",
    "        email id : velocity.mumbai@gmail.com\n",
    "        date : 8-08-2022\n",
    "        date1 = 10-05-2021\n",
    "        date2 = 15-5-2022\n",
    "        pancard = ABHYP1454M\n",
    "        alternate mobile number: 963258741\n",
    "        pancard = AeHRP1450Z\n",
    "        emailid= VIRATKOHLI@GMAIL.COM\n",
    "        EMI1 = AKSHAYKUMAR@outlook.com\n",
    "        \"\"\"\n",
    "email = re.findall(\"[a-zA-Z0-9._-]{2,20}[@][A-Za-z]{5,10}[.][A-Za-z]{3}\",text)\n",
    "print(email)"
   ]
  },
  {
   "cell_type": "code",
   "execution_count": 18,
   "id": "dd945d2c",
   "metadata": {},
   "outputs": [
    {
     "name": "stdout",
     "output_type": "stream",
     "text": [
      "['8-08-2022', '10-05-2021', '15/5-2022']\n"
     ]
    }
   ],
   "source": [
    "import re\n",
    "text = \"\"\"My mobile number is: 9855512365\n",
    "        email id : velocity.mumbai@gmail.com\n",
    "        date : 8-08-2022\n",
    "        date1 = 10-05-2021\n",
    "        date2 = 15/5-2022\n",
    "        pancard = ABHYP1454M\n",
    "        alternate mobile number: 963258741\n",
    "        pancard = AeHRP1450Z\n",
    "        emailid= VIRATKOHLI@GMAIL.COM\n",
    "        EMI1 = AKSHAYKUMAR@outlook.com\n",
    "        \"\"\"\n",
    "email = re.findall(\"[0-9]{1,2}[-/][0-9]{1,2}[-/][0-9]{2,4}\",text)\n",
    "print(email)"
   ]
  },
  {
   "cell_type": "code",
   "execution_count": 21,
   "id": "78cf9009",
   "metadata": {},
   "outputs": [
    {
     "name": "stdout",
     "output_type": "stream",
     "text": [
      "['smpeters@outlook.com', 'dmouse@comcast.net', 'mcmillan@aol.com', 'plover@optonline.net', 'jsnover@att.net', 'darin@yahoo.ca', 'andersbr@aol.com', 'pplinux@yahoo.com', 'gilmoure@hotmail.com', 'jbearp@verizon.net', 'drjlaw@comcast.net']\n"
     ]
    }
   ],
   "source": [
    "import re\n",
    "text = \"\"\"smpeters@outlook.com\n",
    "        dmouse@comcast.net\n",
    "        mcmillan@aol.com\n",
    "        plover@optonline.net\n",
    "        jsnover@att.net\n",
    "        darin@yahoo.ca\n",
    "        andersbr@aol.com\n",
    "        pplinux@yahoo.com\n",
    "        suresh@me.com\n",
    "        gilmoure@hotmail.com\n",
    "        jbearp@verizon.net\n",
    "        drjlaw@comcast.net\"\"\"\n",
    "email = re.findall(\"[A-z0-9]{2,20}[@][A-z]{3,10}[.][A-z]{2,10}\",text)\n",
    "print(email)"
   ]
  },
  {
   "cell_type": "code",
   "execution_count": 25,
   "id": "bed4d55c",
   "metadata": {},
   "outputs": [
    {
     "data": {
      "text/plain": [
       "(['Rahul Kumar'],\n",
       " ['mumbai@gmail.com', 'VIRATKOHLI@GMAIL.COM', 'AKSHAYKUMAR@outlook.com'],\n",
       " ['8-08-2022', '10-05-2021', '15/5-2022'],\n",
       " ['ABHYP1454M', 'AeHRP1450Z'])"
      ]
     },
     "execution_count": 25,
     "metadata": {},
     "output_type": "execute_result"
    }
   ],
   "source": [
    "import re\n",
    "text = \"\"\" my name is : Rahul Kumar\n",
    "        My mobile number is: 9855512365\n",
    "        email id : velocity.mumbai@gmail.com\n",
    "        date : 8-08-2022\n",
    "        date1 = 10-05-2021\n",
    "        date2 = 15/5-2022\n",
    "        pancard = ABHYP1454M\n",
    "        alternate mobile number: 963258741\n",
    "        pancard = AeHRP1450Z\n",
    "        emailid= VIRATKOHLI@GMAIL.COM\n",
    "        EMI1 = AKSHAYKUMAR@outlook.com\n",
    "        \"\"\"\n",
    "def get_details(data):\n",
    "    name  = re.findall(r\"\\b[A-z]{5}[ ][A-z]{5}\",data)\n",
    "    email = re.findall(\"[A-z0-9]{2,20}[@][A-z]{3,10}[.][A-z]{2,10}\",data)\n",
    "    date  = re.findall(\"[0-9]{1,2}[-/][0-9]{1,2}[-/][0-9]{2,4}\",data)\n",
    "    pan   = re.findall(\"[A-Za-z]{5}[0-9]{4}[A-Z]{1}\",data)\n",
    "    return name,email,date,pan\n",
    "get_details(text)"
   ]
  },
  {
   "cell_type": "code",
   "execution_count": 26,
   "id": "ea2c1cbe",
   "metadata": {},
   "outputs": [
    {
     "data": {
      "text/plain": [
       "(['Rahul Kumar'],\n",
       " ['mumbai@gmail.com', 'VIRATKOHLI@GMAIL.COM', 'AKSHAYKUMAR@outlook.com'],\n",
       " ['8-08-2022', '10-05-2021', '15/5-2022'],\n",
       " ['ABHYP1454M', 'AeHRP1450Z'])"
      ]
     },
     "execution_count": 26,
     "metadata": {},
     "output_type": "execute_result"
    }
   ],
   "source": [
    "import re\n",
    "text = \"\"\" my name is : Rahul Kumar\n",
    "        My mobile number is: 9855512365\n",
    "        email id : velocity.mumbai@gmail.com\n",
    "        date : 8-08-2022\n",
    "        date1 = 10-05-2021\n",
    "        date2 = 15/5-2022\n",
    "        pancard = ABHYP1454M\n",
    "        alternate mobile number: 963258741\n",
    "        pancard = AeHRP1450Z\n",
    "        emailid= VIRATKOHLI@GMAIL.COM\n",
    "        EMI1 = AKSHAYKUMAR@outlook.com\n",
    "        \"\"\"\n",
    "def get_details(data):\n",
    "    name  = re.findall(r\"\\b[A-z]{5}\\s[A-z]{5}\",data)\n",
    "    email = re.findall(\"[A-z0-9]{2,20}[@][A-z]{3,10}[.][A-z]{2,10}\",data)\n",
    "    date  = re.findall(\"[0-9]{1,2}[-/][0-9]{1,2}[-/][0-9]{2,4}\",data)\n",
    "    pan   = re.findall(\"[A-Za-z]{5}[0-9]{4}[A-Z]{1}\",data)\n",
    "    return name,email,date,pan\n",
    "get_details(text)"
   ]
  },
  {
   "cell_type": "markdown",
   "id": "ee89bd97",
   "metadata": {},
   "source": [
    "## Special sequences"
   ]
  },
  {
   "cell_type": "markdown",
   "id": "99a10c8d",
   "metadata": {},
   "source": [
    "## 1)\\d"
   ]
  },
  {
   "cell_type": "code",
   "execution_count": null,
   "id": "24bd0422",
   "metadata": {},
   "outputs": [],
   "source": [
    "\\d >> [0-9]  any digit"
   ]
  },
  {
   "cell_type": "code",
   "execution_count": 29,
   "id": "3771a620",
   "metadata": {},
   "outputs": [
    {
     "name": "stdout",
     "output_type": "stream",
     "text": [
      "['9855512365']\n",
      "\n",
      "['9855512365']\n",
      "\n",
      "['4578 4568 9632']\n",
      "\n",
      "['4578 4568 9632']\n"
     ]
    }
   ],
   "source": [
    "import re\n",
    "text = \"\"\" my name is : Rahul Kumar\n",
    "        My mobile number is: 9855512365\n",
    "        email id : velocity.mumbai@gmail.com\n",
    "        date : 8-08-2022\n",
    "        date1 = 10-05-2021\n",
    "        date2 = 15/5-2022\n",
    "        pancard = ABHYP1454M\n",
    "        alternate mobile number: 963258741\n",
    "        pancard = AeHRP1450Z\n",
    "        emailid= VIRATKOHLI@GMAIL.COM\n",
    "        EMI1 = AKSHAYKUMAR@outlook.com\n",
    "        adhar = 4578 4568 9632\n",
    "        \"\"\"\n",
    "mobile = re.findall(\"[0-9]{10}\",text)\n",
    "mobil1 = re.findall(\"\\d{10}\",text)\n",
    "adhar = re.findall(\"\\d{4}[ ]\\d{4}[ ]\\d{4}\",text)\n",
    "adhar1 = re.findall(\"\\d{4}\\s\\d{4}\\s\\d{4}\",text)\n",
    "print(mobile)\n",
    "print()\n",
    "print(mobil1)\n",
    "print()\n",
    "print(adhar)\n",
    "print()\n",
    "print(adhar1)"
   ]
  },
  {
   "cell_type": "code",
   "execution_count": 30,
   "id": "389602ea",
   "metadata": {},
   "outputs": [
    {
     "data": {
      "text/plain": [
       "(['Rahul Kumar'],\n",
       " ['mumbai@gmail.com', 'VIRATKOHLI@GMAIL.COM', 'AKSHAYKUMAR@outlook.com'],\n",
       " ['8-08-2022', '10-05-2021', '15/5-2022'],\n",
       " ['ABHYP1454M', 'AeHRP1450Z'])"
      ]
     },
     "execution_count": 30,
     "metadata": {},
     "output_type": "execute_result"
    }
   ],
   "source": [
    "import re\n",
    "text = \"\"\" my name is : Rahul Kumar\n",
    "        My mobile number is: 9855512365\n",
    "        email id : velocity.mumbai@gmail.com\n",
    "        date : 8-08-2022\n",
    "        date1 = 10-05-2021\n",
    "        date2 = 15/5-2022\n",
    "        pancard = ABHYP1454M\n",
    "        alternate mobile number: 963258741\n",
    "        pancard = AeHRP1450Z\n",
    "        emailid= VIRATKOHLI@GMAIL.COM\n",
    "        EMI1 = AKSHAYKUMAR@outlook.com\n",
    "        \"\"\"\n",
    "def get_details(data):\n",
    "    name  = re.findall(r\"\\b[A-z]{5}[ ][A-z]{5}\",data)\n",
    "    email = re.findall(\"[A-z0-9]{2,20}[@][A-z]{3,10}[.][A-z]{2,10}\",data)\n",
    "    date  = re.findall(\"\\d{1,2}[-/]\\d{1,2}[-/]\\d{2,4}\",data)\n",
    "    pan   = re.findall(\"[A-Za-z]{5}\\d{4}[A-Z]{1}\",data)\n",
    "    return name,email,date,pan\n",
    "get_details(text)"
   ]
  },
  {
   "cell_type": "markdown",
   "id": "122b3116",
   "metadata": {},
   "source": [
    "## 2) \\D"
   ]
  },
  {
   "cell_type": "raw",
   "id": "90282d86",
   "metadata": {},
   "source": [
    "\\D > except [0-9] > [^0-9] > any char except digit"
   ]
  },
  {
   "cell_type": "code",
   "execution_count": 31,
   "id": "53254fd1",
   "metadata": {},
   "outputs": [
    {
     "name": "stdout",
     "output_type": "stream",
     "text": [
      "[' ', 'm', 'y', ' ', 'n', 'a', 'm', 'e', ' ', 'i', 's', ' ', ':', ' ', 'R', 'a', 'h', 'u', 'l', ' ', 'K', 'u', 'm', 'a', 'r', '\\n', ' ', ' ', ' ', ' ', ' ', ' ', ' ', ' ', 'M', 'y', ' ', 'm', 'o', 'b', 'i', 'l', 'e', ' ', 'n', 'u', 'm', 'b', 'e', 'r', ' ', 'i', 's', ':', ' ', '\\n', ' ', ' ', ' ', ' ', ' ', ' ', ' ', ' ', 'e', 'm', 'a', 'i', 'l', ' ', 'i', 'd', ' ', ':', ' ', 'v', 'e', 'l', 'o', 'c', 'i', 't', 'y', '.', 'm', 'u', 'm', 'b', 'a', 'i', '@', 'g', 'm', 'a', 'i', 'l', '.', 'c', 'o', 'm', '\\n', ' ', ' ', ' ', ' ', ' ', ' ', ' ', ' ', 'd', 'a', 't', 'e', ' ', ':', ' ', '-', '-', '\\n', ' ', ' ', ' ', ' ', ' ', ' ', ' ', ' ', 'd', 'a', 't', 'e', ' ', '=', ' ', '-', '-', '\\n', ' ', ' ', ' ', ' ', ' ', ' ', ' ', ' ', 'd', 'a', 't', 'e', ' ', '=', ' ', '/', '-', '\\n', ' ', ' ', ' ', ' ', ' ', ' ', ' ', ' ', 'p', 'a', 'n', 'c', 'a', 'r', 'd', ' ', '=', ' ', 'A', 'B', 'H', 'Y', 'P', 'M', '\\n', ' ', ' ', ' ', ' ', ' ', ' ', ' ', ' ', 'a', 'l', 't', 'e', 'r', 'n', 'a', 't', 'e', ' ', 'm', 'o', 'b', 'i', 'l', 'e', ' ', 'n', 'u', 'm', 'b', 'e', 'r', ':', ' ', '\\n', ' ', ' ', ' ', ' ', ' ', ' ', ' ', ' ', 'p', 'a', 'n', 'c', 'a', 'r', 'd', ' ', '=', ' ', 'A', 'e', 'H', 'R', 'P', 'Z', '\\n', ' ', ' ', ' ', ' ', ' ', ' ', ' ', ' ', 'e', 'm', 'a', 'i', 'l', 'i', 'd', '=', ' ', 'V', 'I', 'R', 'A', 'T', 'K', 'O', 'H', 'L', 'I', '@', 'G', 'M', 'A', 'I', 'L', '.', 'C', 'O', 'M', '\\n', ' ', ' ', ' ', ' ', ' ', ' ', ' ', ' ', 'E', 'M', 'I', ' ', '=', ' ', 'A', 'K', 'S', 'H', 'A', 'Y', 'K', 'U', 'M', 'A', 'R', '@', 'o', 'u', 't', 'l', 'o', 'o', 'k', '.', 'c', 'o', 'm', '\\n', ' ', ' ', ' ', ' ', ' ', ' ', ' ', ' ']\n"
     ]
    }
   ],
   "source": [
    "import re\n",
    "text = \"\"\" my name is : Rahul Kumar\n",
    "        My mobile number is: 9855512365\n",
    "        email id : velocity.mumbai@gmail.com\n",
    "        date : 8-08-2022\n",
    "        date1 = 10-05-2021\n",
    "        date2 = 15/5-2022\n",
    "        pancard = ABHYP1454M\n",
    "        alternate mobile number: 963258741\n",
    "        pancard = AeHRP1450Z\n",
    "        emailid= VIRATKOHLI@GMAIL.COM\n",
    "        EMI1 = AKSHAYKUMAR@outlook.com\n",
    "        \"\"\"\n",
    "data = re.findall(\"\\D\",text)\n",
    "print(data)"
   ]
  },
  {
   "cell_type": "code",
   "execution_count": 32,
   "id": "fe4faa86",
   "metadata": {},
   "outputs": [
    {
     "name": "stdout",
     "output_type": "stream",
     "text": [
      "[' ', 'm', 'y', ' ', 'n', 'a', 'm', 'e', ' ', 'i', 's', ' ', ':', ' ', 'R', 'a', 'h', 'u', 'l', ' ', 'K', 'u', 'm', 'a', 'r', '\\n', ' ', ' ', ' ', ' ', ' ', ' ', ' ', ' ', 'M', 'y', ' ', 'm', 'o', 'b', 'i', 'l', 'e', ' ', 'n', 'u', 'm', 'b', 'e', 'r', ' ', 'i', 's', ':', ' ', '\\n', ' ', ' ', ' ', ' ', ' ', ' ', ' ', ' ', 'e', 'm', 'a', 'i', 'l', ' ', 'i', 'd', ' ', ':', ' ', 'v', 'e', 'l', 'o', 'c', 'i', 't', 'y', '.', 'm', 'u', 'm', 'b', 'a', 'i', '@', 'g', 'm', 'a', 'i', 'l', '.', 'c', 'o', 'm', '\\n', ' ', ' ', ' ', ' ', ' ', ' ', ' ', ' ', 'd', 'a', 't', 'e', ' ', ':', ' ', '-', '-', '\\n', ' ', ' ', ' ', ' ', ' ', ' ', ' ', ' ', 'd', 'a', 't', 'e', ' ', '=', ' ', '-', '-', '\\n', ' ', ' ', ' ', ' ', ' ', ' ', ' ', ' ', 'd', 'a', 't', 'e', ' ', '=', ' ', '/', '-', '\\n', ' ', ' ', ' ', ' ', ' ', ' ', ' ', ' ', 'p', 'a', 'n', 'c', 'a', 'r', 'd', ' ', '=', ' ', 'A', 'B', 'H', 'Y', 'P', 'M', '\\n', ' ', ' ', ' ', ' ', ' ', ' ', ' ', ' ', 'a', 'l', 't', 'e', 'r', 'n', 'a', 't', 'e', ' ', 'm', 'o', 'b', 'i', 'l', 'e', ' ', 'n', 'u', 'm', 'b', 'e', 'r', ':', ' ', '\\n', ' ', ' ', ' ', ' ', ' ', ' ', ' ', ' ', 'p', 'a', 'n', 'c', 'a', 'r', 'd', ' ', '=', ' ', 'A', 'e', 'H', 'R', 'P', 'Z', '\\n', ' ', ' ', ' ', ' ', ' ', ' ', ' ', ' ', 'e', 'm', 'a', 'i', 'l', 'i', 'd', '=', ' ', 'V', 'I', 'R', 'A', 'T', 'K', 'O', 'H', 'L', 'I', '@', 'G', 'M', 'A', 'I', 'L', '.', 'C', 'O', 'M', '\\n', ' ', ' ', ' ', ' ', ' ', ' ', ' ', ' ', 'E', 'M', 'I', ' ', '=', ' ', 'A', 'K', 'S', 'H', 'A', 'Y', 'K', 'U', 'M', 'A', 'R', '@', 'o', 'u', 't', 'l', 'o', 'o', 'k', '.', 'c', 'o', 'm', '\\n', ' ', ' ', ' ', ' ', ' ', ' ', ' ', ' ']\n"
     ]
    }
   ],
   "source": [
    "import re\n",
    "text = \"\"\" my name is : Rahul Kumar\n",
    "        My mobile number is: 9855512365\n",
    "        email id : velocity.mumbai@gmail.com\n",
    "        date : 8-08-2022\n",
    "        date1 = 10-05-2021\n",
    "        date2 = 15/5-2022\n",
    "        pancard = ABHYP1454M\n",
    "        alternate mobile number: 963258741\n",
    "        pancard = AeHRP1450Z\n",
    "        emailid= VIRATKOHLI@GMAIL.COM\n",
    "        EMI1 = AKSHAYKUMAR@outlook.com\n",
    "        \"\"\"\n",
    "data = re.findall(\"[^0-9]\",text)\n",
    "print(data)"
   ]
  },
  {
   "cell_type": "code",
   "execution_count": 33,
   "id": "0e3739bb",
   "metadata": {},
   "outputs": [
    {
     "name": "stdout",
     "output_type": "stream",
     "text": [
      "[' ', ' ', ' ', ' ', ':', ' ', 'R', ' ', 'K', '\\n', ' ', ' ', ' ', ' ', ' ', ' ', ' ', ' ', 'M', ' ', ' ', ' ', ':', ' ', '9', '8', '5', '5', '5', '1', '2', '3', '6', '5', '\\n', ' ', ' ', ' ', ' ', ' ', ' ', ' ', ' ', ' ', ' ', ':', ' ', '.', '@', '.', '\\n', ' ', ' ', ' ', ' ', ' ', ' ', ' ', ' ', ' ', ':', ' ', '8', '-', '0', '8', '-', '2', '0', '2', '2', '\\n', ' ', ' ', ' ', ' ', ' ', ' ', ' ', ' ', '1', ' ', '=', ' ', '1', '0', '-', '0', '5', '-', '2', '0', '2', '1', '\\n', ' ', ' ', ' ', ' ', ' ', ' ', ' ', ' ', '2', ' ', '=', ' ', '1', '5', '/', '5', '-', '2', '0', '2', '2', '\\n', ' ', ' ', ' ', ' ', ' ', ' ', ' ', ' ', ' ', '=', ' ', 'A', 'B', 'H', 'Y', 'P', '1', '4', '5', '4', 'M', '\\n', ' ', ' ', ' ', ' ', ' ', ' ', ' ', ' ', ' ', ' ', ':', ' ', '9', '6', '3', '2', '5', '8', '7', '4', '1', '\\n', ' ', ' ', ' ', ' ', ' ', ' ', ' ', ' ', ' ', '=', ' ', 'A', 'H', 'R', 'P', '1', '4', '5', '0', 'Z', '\\n', ' ', ' ', ' ', ' ', ' ', ' ', ' ', ' ', '=', ' ', 'V', 'I', 'R', 'A', 'T', 'K', 'O', 'H', 'L', 'I', '@', 'G', 'M', 'A', 'I', 'L', '.', 'C', 'O', 'M', '\\n', ' ', ' ', ' ', ' ', ' ', ' ', ' ', ' ', 'E', 'M', 'I', '1', ' ', '=', ' ', 'A', 'K', 'S', 'H', 'A', 'Y', 'K', 'U', 'M', 'A', 'R', '@', '.', '\\n', ' ', ' ', ' ', ' ', ' ', ' ', ' ', ' ']\n"
     ]
    }
   ],
   "source": [
    "import re\n",
    "text = \"\"\" my name is : Rahul Kumar\n",
    "        My mobile number is: 9855512365\n",
    "        email id : velocity.mumbai@gmail.com\n",
    "        date : 8-08-2022\n",
    "        date1 = 10-05-2021\n",
    "        date2 = 15/5-2022\n",
    "        pancard = ABHYP1454M\n",
    "        alternate mobile number: 963258741\n",
    "        pancard = AeHRP1450Z\n",
    "        emailid= VIRATKOHLI@GMAIL.COM\n",
    "        EMI1 = AKSHAYKUMAR@outlook.com\n",
    "        \"\"\"\n",
    "data = re.findall(\"[^a-z]\",text)\n",
    "print(data)"
   ]
  },
  {
   "cell_type": "markdown",
   "id": "4d4b9d62",
   "metadata": {},
   "source": [
    "## 3) \\w"
   ]
  },
  {
   "cell_type": "code",
   "execution_count": null,
   "id": "0464f52c",
   "metadata": {},
   "outputs": [],
   "source": [
    "[0-9a-zA-Z_] > alphanumeric with underscore"
   ]
  },
  {
   "cell_type": "code",
   "execution_count": 34,
   "id": "79925694",
   "metadata": {},
   "outputs": [
    {
     "name": "stdout",
     "output_type": "stream",
     "text": [
      "['M', 'y', ' ', 'n', 'a', 'm', 'e', ' ', 'i', 's', ' ']\n"
     ]
    }
   ],
   "source": [
    "import re\n",
    "text = \"My name is 1235\"\n",
    "data= re.findall(\"\\D\",text)\n",
    "print(data)"
   ]
  },
  {
   "cell_type": "code",
   "execution_count": 35,
   "id": "4ad165e9",
   "metadata": {},
   "outputs": [
    {
     "name": "stdout",
     "output_type": "stream",
     "text": [
      "['M', 'y', 'n', 'a', 'm', 'e', 'i', 's', '1', '2', '3', '5']\n"
     ]
    }
   ],
   "source": [
    "import re\n",
    "text = \"My name is 1235\"\n",
    "data= re.findall(\"\\w\",text)\n",
    "print(data)"
   ]
  },
  {
   "cell_type": "code",
   "execution_count": 36,
   "id": "de590390",
   "metadata": {},
   "outputs": [
    {
     "name": "stdout",
     "output_type": "stream",
     "text": [
      "['My', 'na', 'me', 'is', '12', '35']\n"
     ]
    }
   ],
   "source": [
    "import re\n",
    "text = \"My name is 1235\"\n",
    "data= re.findall(\"\\w{2}\",text)\n",
    "print(data)"
   ]
  },
  {
   "cell_type": "code",
   "execution_count": 37,
   "id": "f2412eb5",
   "metadata": {},
   "outputs": [
    {
     "data": {
      "text/plain": [
       "(['Rahul Kumar'],\n",
       " ['mumbai@gmail.com', 'VIRATKOHLI@GMAIL.COM', 'AKSHAYKUMAR@outlook.com'],\n",
       " ['8-08-2022', '10-05-2021', '15/5-2022'],\n",
       " ['ABHYP1454M', 'AeHRP1450Z'])"
      ]
     },
     "execution_count": 37,
     "metadata": {},
     "output_type": "execute_result"
    }
   ],
   "source": [
    "import re\n",
    "text = \"\"\" my name is : Rahul Kumar\n",
    "        My mobile number is: 9855512365\n",
    "        email id : velocity.mumbai@gmail.com\n",
    "        date : 8-08-2022\n",
    "        date1 = 10-05-2021\n",
    "        date2 = 15/5-2022\n",
    "        pancard = ABHYP1454M\n",
    "        alternate mobile number: 963258741\n",
    "        pancard = AeHRP1450Z\n",
    "        emailid= VIRATKOHLI@GMAIL.COM\n",
    "        EMI1 = AKSHAYKUMAR@outlook.com\n",
    "        \"\"\"\n",
    "def get_details(data):\n",
    "    name  = re.findall(r\"\\b[A-z]{5}[ ][A-z]{5}\",data)\n",
    "    email = re.findall(\"[\\w]{2,20}[@][A-z]{3,10}[.][A-z]{2,10}\",data)\n",
    "    date  = re.findall(\"\\d{1,2}[-/]\\d{1,2}[-/]\\d{2,4}\",data)\n",
    "    pan   = re.findall(\"[A-Za-z]{5}\\d{4}[A-Z]{1}\",data)\n",
    "    return name,email,date,pan\n",
    "get_details(text)"
   ]
  },
  {
   "cell_type": "markdown",
   "id": "cac03b07",
   "metadata": {},
   "source": [
    "## 4) \\W"
   ]
  },
  {
   "cell_type": "code",
   "execution_count": null,
   "id": "1173119d",
   "metadata": {},
   "outputs": [],
   "source": [
    "\\W > except [0-9a-zA-Z_] > Return spaces, special char"
   ]
  },
  {
   "cell_type": "code",
   "execution_count": 38,
   "id": "8fd95730",
   "metadata": {},
   "outputs": [
    {
     "name": "stdout",
     "output_type": "stream",
     "text": [
      "[' ', ' ', ' ', ' ', ':', ' ', ' ', '\\n', ' ', ' ', ' ', ' ', ' ', ' ', ' ', ' ', ' ', ' ', ' ', ':', ' ', '\\n', ' ', ' ', ' ', ' ', ' ', ' ', ' ', ' ', ' ', ' ', ':', ' ', '.', '@', '.', '\\n', ' ', ' ', ' ', ' ', ' ', ' ', ' ', ' ', ' ', ':', ' ', '-', '-', '\\n', ' ', ' ', ' ', ' ', ' ', ' ', ' ', ' ', ' ', '=', ' ', '-', '-', '\\n', ' ', ' ', ' ', ' ', ' ', ' ', ' ', ' ', ' ', '=', ' ', '/', '-', '\\n', ' ', ' ', ' ', ' ', ' ', ' ', ' ', ' ', ' ', '=', ' ', '\\n', ' ', ' ', ' ', ' ', ' ', ' ', ' ', ' ', ' ', ' ', ':', ' ', '\\n', ' ', ' ', ' ', ' ', ' ', ' ', ' ', ' ', ' ', '=', ' ', '\\n', ' ', ' ', ' ', ' ', ' ', ' ', ' ', ' ', '=', ' ', '@', '.', '\\n', ' ', ' ', ' ', ' ', ' ', ' ', ' ', ' ', ' ', '=', ' ', '@', '.', '\\n', ' ', ' ', ' ', ' ', ' ', ' ', ' ', ' ']\n"
     ]
    }
   ],
   "source": [
    "import re\n",
    "text = \"\"\" my name is : Rahul Kumar\n",
    "        My mobile number is: 9855512365\n",
    "        email id : velocity.mumbai@gmail.com\n",
    "        date : 8-08-2022\n",
    "        date1 = 10-05-2021\n",
    "        date2 = 15/5-2022\n",
    "        pancard = ABHYP1454M\n",
    "        alternate mobile number: 963258741\n",
    "        pancard = AeHRP1450Z\n",
    "        emailid= VIRATKOHLI@GMAIL.COM\n",
    "        EMI1 = AKSHAYKUMAR@outlook.com\n",
    "        \"\"\"\n",
    "result =re.findall(\"\\W\",text)\n",
    "print(result)"
   ]
  },
  {
   "cell_type": "markdown",
   "id": "1cbf2141",
   "metadata": {},
   "source": [
    "## 5) \\s"
   ]
  },
  {
   "cell_type": "raw",
   "id": "8078f80f",
   "metadata": {},
   "source": [
    "\\s > white spaces"
   ]
  },
  {
   "cell_type": "code",
   "execution_count": 39,
   "id": "edc9ad8e",
   "metadata": {},
   "outputs": [
    {
     "name": "stdout",
     "output_type": "stream",
     "text": [
      "[' ', ' ', ' ', ' '] >>>>> 4\n"
     ]
    }
   ],
   "source": [
    "text = \"Machine learning $%%^&W%#$^ is 3546846846\"\n",
    "result = re.findall(\"\\s\",text)\n",
    "print(result,\">>>>>\",len(result))"
   ]
  },
  {
   "cell_type": "markdown",
   "id": "fd09b52a",
   "metadata": {},
   "source": [
    "## 6) \\S"
   ]
  },
  {
   "cell_type": "raw",
   "id": "6fdf6021",
   "metadata": {},
   "source": [
    "\\S > except white spaces"
   ]
  },
  {
   "cell_type": "code",
   "execution_count": 40,
   "id": "c7bffc3a",
   "metadata": {},
   "outputs": [
    {
     "name": "stdout",
     "output_type": "stream",
     "text": [
      "['M', 'a', 'c', 'h', 'i', 'n', 'e', 'l', 'e', 'a', 'r', 'n', 'i', 'n', 'g', '$', '%', '%', '^', '&', 'W', '%', '#', '$', '^', 'i', 's', '3', '5', '4', '6', '8', '4', '6', '8', '4', '6'] >>>>> 37\n"
     ]
    }
   ],
   "source": [
    "text = \"Machine learning $%%^&W%#$^ is 3546846846\"\n",
    "result = re.findall(\"\\S\",text)\n",
    "print(result,\">>>>>\",len(result))"
   ]
  },
  {
   "cell_type": "markdown",
   "id": "7713c512",
   "metadata": {},
   "source": [
    "## 7) \\b"
   ]
  },
  {
   "cell_type": "code",
   "execution_count": null,
   "id": "af122826",
   "metadata": {},
   "outputs": [],
   "source": [
    "\\b > checks for characters at beginning or at the end of the word or text"
   ]
  },
  {
   "cell_type": "code",
   "execution_count": 41,
   "id": "095ad58f",
   "metadata": {},
   "outputs": [
    {
     "name": "stdout",
     "output_type": "stream",
     "text": [
      "['SBIN0007782', 'HDFC0004526', 'KTKB0007845', 'ICICI0001223']\n"
     ]
    }
   ],
   "source": [
    "text = \"\"\" ifcecode:SBIN0007782\n",
    "           IFSCODE: HDFC0004526\n",
    "           KOTAKBANK :KTKB0007845\n",
    "           ICICI000122334\"\"\"\n",
    "result = re.findall(\"[A-Z]{4,5}\\d{7}\",text)\n",
    "print(result) # wrong output"
   ]
  },
  {
   "cell_type": "code",
   "execution_count": 6,
   "id": "6661cf32",
   "metadata": {},
   "outputs": [
    {
     "name": "stdout",
     "output_type": "stream",
     "text": [
      "['SBIN0007782', 'HDFC0004526', 'KTKB0007845']\n"
     ]
    }
   ],
   "source": [
    "text = \"\"\" ifcecode:SBIN0007782\n",
    "           IFSCODE: HDFC0004526\n",
    "           KOTAKBANK :KTKB0007845\n",
    "           ICICI000122334\"\"\"\n",
    "# result = re.findall(r\"\\b[A-Z]{4,5}\\d{7}\\b\",text)\n",
    "result = re.findall(r\"\\b\\w{4}\\d{7}\\b\",text)\n",
    "print(result)"
   ]
  },
  {
   "cell_type": "code",
   "execution_count": 45,
   "id": "aa26e9c7",
   "metadata": {},
   "outputs": [
    {
     "name": "stdout",
     "output_type": "stream",
     "text": [
      "['Python', 'Python', 'mumbai']\n"
     ]
    }
   ],
   "source": [
    "text = \"Python class and Machine learning Pythosssss Python or mumbai\"\n",
    "data = re.findall(r\"\\b\\w{6}\\b\",text) # Python\n",
    "print(data)"
   ]
  },
  {
   "cell_type": "code",
   "execution_count": 47,
   "id": "033e2896",
   "metadata": {},
   "outputs": [
    {
     "name": "stdout",
     "output_type": "stream",
     "text": [
      "['Python', 'Python', 'Python']\n"
     ]
    }
   ],
   "source": [
    "text = \"Python class and Machine learning Pythonsssss Python or mumbai\"\n",
    "data = re.findall(r\"\\bPython\",text) # Python\n",
    "print(data)"
   ]
  },
  {
   "cell_type": "code",
   "execution_count": 48,
   "id": "6b917adb",
   "metadata": {},
   "outputs": [
    {
     "name": "stdout",
     "output_type": "stream",
     "text": [
      "['Python', 'Python']\n"
     ]
    }
   ],
   "source": [
    "text = \"Python class and Machine learning Pythonsssss Python or mumbai\"\n",
    "data = re.findall(r\"\\bPython\\b\",text) # Python\n",
    "print(data)"
   ]
  },
  {
   "cell_type": "code",
   "execution_count": null,
   "id": "c185041f",
   "metadata": {},
   "outputs": [],
   "source": []
  }
 ],
 "metadata": {
  "kernelspec": {
   "display_name": "Python 3",
   "language": "python",
   "name": "python3"
  },
  "language_info": {
   "codemirror_mode": {
    "name": "ipython",
    "version": 3
   },
   "file_extension": ".py",
   "mimetype": "text/x-python",
   "name": "python",
   "nbconvert_exporter": "python",
   "pygments_lexer": "ipython3",
   "version": "3.8.8"
  }
 },
 "nbformat": 4,
 "nbformat_minor": 5
}
