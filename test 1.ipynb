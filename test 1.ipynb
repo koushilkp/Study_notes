{
 "cells": [
  {
   "cell_type": "code",
   "execution_count": null,
   "id": "96e14308",
   "metadata": {},
   "outputs": [],
   "source": []
  },
  {
   "cell_type": "code",
   "execution_count": 11,
   "id": "f16a761f",
   "metadata": {},
   "outputs": [
    {
     "data": {
      "text/plain": [
       "['2233445566', '2233445567', '2233445568', '2233445569']"
      ]
     },
     "execution_count": 11,
     "metadata": {},
     "output_type": "execute_result"
    }
   ],
   "source": [
    "# solve1 \n",
    "lst=[\"+912233445566\",\"+912233445567\",\"+912233445568\",\"+912233445569\"]\n",
    "lst1=[]\n",
    "for i in lst:\n",
    "    lst1.append(i[3:])\n",
    "    \n",
    "lst1\n",
    "    "
   ]
  },
  {
   "cell_type": "code",
   "execution_count": 11,
   "id": "16273de4",
   "metadata": {},
   "outputs": [
    {
     "data": {
      "text/plain": [
       "['2233445566', '2233445567', '2233445568', '2233445569']"
      ]
     },
     "execution_count": 11,
     "metadata": {},
     "output_type": "execute_result"
    }
   ],
   "source": [
    "# solve2\n",
    "lst=[\"+912233445566\",\"+912233445567\",\"+912233445568\",\"+912233445569\"]\n",
    "lst1=[]\n",
    "for i in lst:\n",
    "    lst1.append(i.replace(\"+91\",\"\"))    \n",
    "lst1\n",
    "    "
   ]
  },
  {
   "cell_type": "markdown",
   "id": "169efe05",
   "metadata": {},
   "source": [
    "# using lamda function"
   ]
  },
  {
   "cell_type": "code",
   "execution_count": 14,
   "id": "b915587f",
   "metadata": {},
   "outputs": [
    {
     "name": "stdout",
     "output_type": "stream",
     "text": [
      "['2233445566', '2233445567', '2233445568', '2233445569']\n"
     ]
    }
   ],
   "source": [
    "lst=[\"+912233445566\",\"+912233445567\",\"+912233445568\",\"+912233445569\"]\n",
    "lst2=list(map(lambda i: i[3:],lst))\n",
    "print(lst2)"
   ]
  },
  {
   "cell_type": "code",
   "execution_count": 10,
   "id": "3eb807ed",
   "metadata": {},
   "outputs": [
    {
     "ename": "TypeError",
     "evalue": "'list' object is not callable",
     "output_type": "error",
     "traceback": [
      "\u001b[1;31m---------------------------------------------------------------------------\u001b[0m",
      "\u001b[1;31mTypeError\u001b[0m                                 Traceback (most recent call last)",
      "Input \u001b[1;32mIn [10]\u001b[0m, in \u001b[0;36m<cell line: 4>\u001b[1;34m()\u001b[0m\n\u001b[0;32m      2\u001b[0m lst1\u001b[38;5;241m=\u001b[39m[]\n\u001b[0;32m      3\u001b[0m b1\u001b[38;5;241m=\u001b[39m[\u001b[38;5;28;01mlambda\u001b[39;00m i : lst1\u001b[38;5;241m.\u001b[39mappend(i[\u001b[38;5;241m3\u001b[39m:]) \u001b[38;5;129;01min\u001b[39;00m lst]\n\u001b[1;32m----> 4\u001b[0m \u001b[38;5;28mprint\u001b[39m(\u001b[43mb1\u001b[49m\u001b[43m(\u001b[49m\u001b[43mlst\u001b[49m\u001b[43m)\u001b[49m)\n\u001b[0;32m      5\u001b[0m \u001b[38;5;28mprint\u001b[39m(lst1)\n",
      "\u001b[1;31mTypeError\u001b[0m: 'list' object is not callable"
     ]
    }
   ],
   "source": [
    "lst=[\"+912233445566\",\"+912233445567\",\"+912233445568\",\"+912233445569\"]\n",
    "lst1=[]\n",
    "b1=[lambda i : lst1.append(i[3:]) in lst]\n",
    "print(b1(lst))\n",
    "print(lst1)"
   ]
  },
  {
   "cell_type": "code",
   "execution_count": null,
   "id": "fe491647",
   "metadata": {},
   "outputs": [],
   "source": []
  },
  {
   "cell_type": "code",
   "execution_count": null,
   "id": "71c7efa5",
   "metadata": {},
   "outputs": [],
   "source": []
  },
  {
   "cell_type": "code",
   "execution_count": null,
   "id": "3f796f4b",
   "metadata": {},
   "outputs": [],
   "source": []
  }
 ],
 "metadata": {
  "kernelspec": {
   "display_name": "Python 3 (ipykernel)",
   "language": "python",
   "name": "python3"
  },
  "language_info": {
   "codemirror_mode": {
    "name": "ipython",
    "version": 3
   },
   "file_extension": ".py",
   "mimetype": "text/x-python",
   "name": "python",
   "nbconvert_exporter": "python",
   "pygments_lexer": "ipython3",
   "version": "3.10.5"
  }
 },
 "nbformat": 4,
 "nbformat_minor": 5
}
