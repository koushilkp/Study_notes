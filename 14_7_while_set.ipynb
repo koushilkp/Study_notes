{
 "cells": [
  {
   "cell_type": "code",
   "execution_count": 36,
   "id": "5945c720",
   "metadata": {},
   "outputs": [
    {
     "name": "stdout",
     "output_type": "stream",
     "text": [
      "Enter the No. of Star's to print in pyramid a>>>>>4\n",
      "        * \n",
      "      * * * \n",
      "    * * * * * \n",
      "  * * * * * * * \n",
      "* * * * * * * * * \n",
      "  * * * * * * * \n",
      "    * * * * * \n",
      "      * * * \n"
     ]
    }
   ],
   "source": [
    "n=int(input(\"Enter the No. of Star's to print in pyramid a>>>>>\"))\n",
    "for i in range(n):\n",
    "    for j in range(i,n):\n",
    "        print(\" \",end=\" \")\n",
    "    for j in range(i):\n",
    "        print(\"*\",end=\" \")\n",
    "    for j in range(i+1):\n",
    "        print(\"*\",end=\" \")\n",
    "    print()\n",
    "for i in range(n):\n",
    "    for j in range(i):\n",
    "        print(\" \",end=\" \")\n",
    "    for j in range(n-i\n",
    "                  ):\n",
    "        print(\"*\",end=\" \")\n",
    "    for j in range(n+1-i):\n",
    "        print(\"*\",end=\" \")\n",
    "    print()\n",
    "                "
   ]
  },
  {
   "cell_type": "code",
   "execution_count": null,
   "id": "e24dc73a",
   "metadata": {},
   "outputs": [],
   "source": []
  },
  {
   "cell_type": "code",
   "execution_count": null,
   "id": "1de9ec42",
   "metadata": {},
   "outputs": [],
   "source": []
  },
  {
   "cell_type": "code",
   "execution_count": null,
   "id": "313ece94",
   "metadata": {},
   "outputs": [],
   "source": [
    "*\n",
    "* *\n",
    "* * * \n",
    "* * * *\n",
    "* * * * *"
   ]
  },
  {
   "cell_type": "code",
   "execution_count": 2,
   "id": "5e32a438",
   "metadata": {},
   "outputs": [
    {
     "name": "stdout",
     "output_type": "stream",
     "text": [
      "* \n",
      "* * \n",
      "* * * \n",
      "* * * * \n"
     ]
    }
   ],
   "source": [
    "i = 1\n",
    "while i<5: # i=1 (T)\n",
    "    j = 0\n",
    "    while j<i:# J=0<1(T)\n",
    "        print(\"*\",end=\" \")\n",
    "        \n",
    "        j+=1\n",
    "    i+=1\n",
    "    print()\n",
    "        "
   ]
  },
  {
   "cell_type": "code",
   "execution_count": 3,
   "id": "50f7d93c",
   "metadata": {},
   "outputs": [
    {
     "name": "stdout",
     "output_type": "stream",
     "text": [
      "A \n",
      "A A \n",
      "A A A \n",
      "A A A A \n"
     ]
    }
   ],
   "source": [
    "i = 1\n",
    "x = 65\n",
    "while i<5: # i=1 (T)\n",
    "    j = 0\n",
    "    while j<i:# J=0<1(T)\n",
    "        print(chr(x),end=\" \")\n",
    "        \n",
    "        j+=1\n",
    "    i+=1\n",
    "    print()\n",
    "        "
   ]
  },
  {
   "cell_type": "code",
   "execution_count": 4,
   "id": "65102826",
   "metadata": {},
   "outputs": [
    {
     "name": "stdout",
     "output_type": "stream",
     "text": [
      "A \n",
      "B C \n",
      "D E F \n",
      "G H I J \n"
     ]
    }
   ],
   "source": [
    "i = 1\n",
    "x = 65\n",
    "while i<5: # i=1 (T)\n",
    "    j = 0\n",
    "    while j<i:# J=0<1(T)\n",
    "        print(chr(x),end=\" \")\n",
    "        x+=1\n",
    "        j+=1\n",
    "    i+=1\n",
    "    print()"
   ]
  },
  {
   "cell_type": "code",
   "execution_count": null,
   "id": "1233463c",
   "metadata": {},
   "outputs": [],
   "source": []
  },
  {
   "cell_type": "markdown",
   "id": "f61052d3",
   "metadata": {},
   "source": [
    "## SET DATA TYPE()"
   ]
  },
  {
   "cell_type": "code",
   "execution_count": null,
   "id": "10ab8b41",
   "metadata": {},
   "outputs": [],
   "source": [
    "str   > Ordered,Immutable data type, duplicates are allowed , \" \",' ',\"\"\" \"\"\",''' '''\n",
    "list  > Ordered, mutable, Duplicates are allowed ,[]\n",
    "\n",
    "tuple > Ordered, Immutable,Duplicates are allowed ,()\n",
    "\n",
    "set   > Unordered, mutable, Duplicates are not allowed, set(),{}\n",
    "   > we can add only immutable data type (int,float)"
   ]
  },
  {
   "cell_type": "code",
   "execution_count": 11,
   "id": "505325e5",
   "metadata": {},
   "outputs": [
    {
     "data": {
      "text/plain": [
       "[[1, 2]]"
      ]
     },
     "execution_count": 11,
     "metadata": {},
     "output_type": "execute_result"
    }
   ],
   "source": [
    "lst = [[1,2]]\n",
    "lst"
   ]
  },
  {
   "cell_type": "code",
   "execution_count": null,
   "id": "35f73b61",
   "metadata": {},
   "outputs": [],
   "source": []
  },
  {
   "cell_type": "code",
   "execution_count": 5,
   "id": "3b7e36df",
   "metadata": {},
   "outputs": [
    {
     "data": {
      "text/plain": [
       "dict"
      ]
     },
     "execution_count": 5,
     "metadata": {},
     "output_type": "execute_result"
    }
   ],
   "source": [
    "s1 = {}\n",
    "type(s1)"
   ]
  },
  {
   "cell_type": "code",
   "execution_count": 6,
   "id": "1c4e0878",
   "metadata": {},
   "outputs": [
    {
     "data": {
      "text/plain": [
       "set"
      ]
     },
     "execution_count": 6,
     "metadata": {},
     "output_type": "execute_result"
    }
   ],
   "source": [
    "s1 = {1}\n",
    "type(s1)"
   ]
  },
  {
   "cell_type": "code",
   "execution_count": 7,
   "id": "ffc0e160",
   "metadata": {},
   "outputs": [
    {
     "data": {
      "text/plain": [
       "set"
      ]
     },
     "execution_count": 7,
     "metadata": {},
     "output_type": "execute_result"
    }
   ],
   "source": [
    "s1 =set()\n",
    "type(s1)"
   ]
  },
  {
   "cell_type": "code",
   "execution_count": 8,
   "id": "2da069ab",
   "metadata": {},
   "outputs": [
    {
     "data": {
      "text/plain": [
       "{(11, 22, 33, 44), 1, 2, 3, 3.3, 'Python'}"
      ]
     },
     "execution_count": 8,
     "metadata": {},
     "output_type": "execute_result"
    }
   ],
   "source": [
    "s1 = {1,2,3,3.3,(11,22,33,44),\"Python\"}\n",
    "s1"
   ]
  },
  {
   "cell_type": "code",
   "execution_count": 1,
   "id": "4c695ef1",
   "metadata": {},
   "outputs": [
    {
     "ename": "TypeError",
     "evalue": "unhashable type: 'list'",
     "output_type": "error",
     "traceback": [
      "\u001b[1;31m---------------------------------------------------------------------------\u001b[0m",
      "\u001b[1;31mTypeError\u001b[0m                                 Traceback (most recent call last)",
      "\u001b[1;32m<ipython-input-1-881165f13741>\u001b[0m in \u001b[0;36m<module>\u001b[1;34m\u001b[0m\n\u001b[1;32m----> 1\u001b[1;33m \u001b[0mdh\u001b[0m\u001b[1;33m=\u001b[0m\u001b[1;33m{\u001b[0m\u001b[1;36m4\u001b[0m\u001b[1;33m,\u001b[0m\u001b[1;36m5\u001b[0m\u001b[1;33m,\u001b[0m\u001b[1;36m9\u001b[0m\u001b[1;33m,\u001b[0m\u001b[1;36m6\u001b[0m\u001b[1;33m,\u001b[0m\u001b[1;33m[\u001b[0m\u001b[1;36m5\u001b[0m\u001b[1;33m,\u001b[0m\u001b[1;36m7\u001b[0m\u001b[1;33m,\u001b[0m\u001b[1;36m8\u001b[0m\u001b[1;33m]\u001b[0m\u001b[1;33m,\u001b[0m\u001b[1;36m3\u001b[0m\u001b[1;33m}\u001b[0m\u001b[1;33m\u001b[0m\u001b[1;33m\u001b[0m\u001b[0m\n\u001b[0m\u001b[0;32m      2\u001b[0m \u001b[1;33m\u001b[0m\u001b[0m\n\u001b[0;32m      3\u001b[0m \u001b[0mtype\u001b[0m\u001b[1;33m(\u001b[0m\u001b[0mdh\u001b[0m\u001b[1;33m)\u001b[0m\u001b[1;33m\u001b[0m\u001b[1;33m\u001b[0m\u001b[0m\n",
      "\u001b[1;31mTypeError\u001b[0m: unhashable type: 'list'"
     ]
    }
   ],
   "source": [
    "dh={4,5,9,6,[5,7,8],3}\n",
    "\n",
    "type(dh)"
   ]
  },
  {
   "cell_type": "code",
   "execution_count": 9,
   "id": "208b346a",
   "metadata": {},
   "outputs": [
    {
     "ename": "TypeError",
     "evalue": "unhashable type: 'list'",
     "output_type": "error",
     "traceback": [
      "\u001b[1;31m---------------------------------------------------------------------------\u001b[0m",
      "\u001b[1;31mTypeError\u001b[0m                                 Traceback (most recent call last)",
      "\u001b[1;32m~\\AppData\\Local\\Temp/ipykernel_12048/1910106716.py\u001b[0m in \u001b[0;36m<module>\u001b[1;34m\u001b[0m\n\u001b[1;32m----> 1\u001b[1;33m \u001b[0ms1\u001b[0m \u001b[1;33m=\u001b[0m \u001b[1;33m{\u001b[0m\u001b[1;36m1\u001b[0m\u001b[1;33m,\u001b[0m\u001b[1;36m2\u001b[0m\u001b[1;33m,\u001b[0m\u001b[1;36m3\u001b[0m\u001b[1;33m,\u001b[0m\u001b[1;36m3.3\u001b[0m\u001b[1;33m,\u001b[0m\u001b[1;33m[\u001b[0m\u001b[1;36m11\u001b[0m\u001b[1;33m,\u001b[0m\u001b[1;36m22\u001b[0m\u001b[1;33m,\u001b[0m\u001b[1;36m33\u001b[0m\u001b[1;33m,\u001b[0m\u001b[1;36m44\u001b[0m\u001b[1;33m]\u001b[0m\u001b[1;33m,\u001b[0m\u001b[1;34m\"Python\"\u001b[0m\u001b[1;33m}\u001b[0m\u001b[1;33m\u001b[0m\u001b[1;33m\u001b[0m\u001b[0m\n\u001b[0m\u001b[0;32m      2\u001b[0m \u001b[0ms1\u001b[0m\u001b[1;33m\u001b[0m\u001b[1;33m\u001b[0m\u001b[0m\n",
      "\u001b[1;31mTypeError\u001b[0m: unhashable type: 'list'"
     ]
    }
   ],
   "source": [
    "s1 = {1,2,3,3.3,[11,22,33,44],\"Python\"}\n",
    "s1"
   ]
  },
  {
   "cell_type": "code",
   "execution_count": 10,
   "id": "82cf3733",
   "metadata": {},
   "outputs": [
    {
     "ename": "TypeError",
     "evalue": "unhashable type: 'set'",
     "output_type": "error",
     "traceback": [
      "\u001b[1;31m---------------------------------------------------------------------------\u001b[0m",
      "\u001b[1;31mTypeError\u001b[0m                                 Traceback (most recent call last)",
      "\u001b[1;32m~\\AppData\\Local\\Temp/ipykernel_12048/2032749228.py\u001b[0m in \u001b[0;36m<module>\u001b[1;34m\u001b[0m\n\u001b[1;32m----> 1\u001b[1;33m \u001b[0ms1\u001b[0m \u001b[1;33m=\u001b[0m \u001b[1;33m{\u001b[0m\u001b[1;36m1\u001b[0m\u001b[1;33m,\u001b[0m\u001b[1;36m2\u001b[0m\u001b[1;33m,\u001b[0m\u001b[1;36m3\u001b[0m\u001b[1;33m,\u001b[0m\u001b[1;36m3.3\u001b[0m\u001b[1;33m,\u001b[0m\u001b[1;33m{\u001b[0m\u001b[1;36m11\u001b[0m\u001b[1;33m,\u001b[0m\u001b[1;36m22\u001b[0m\u001b[1;33m,\u001b[0m\u001b[1;36m33\u001b[0m\u001b[1;33m,\u001b[0m\u001b[1;36m44\u001b[0m\u001b[1;33m}\u001b[0m\u001b[1;33m,\u001b[0m\u001b[1;34m\"Python\"\u001b[0m\u001b[1;33m}\u001b[0m\u001b[1;33m\u001b[0m\u001b[1;33m\u001b[0m\u001b[0m\n\u001b[0m\u001b[0;32m      2\u001b[0m \u001b[0ms1\u001b[0m\u001b[1;33m\u001b[0m\u001b[1;33m\u001b[0m\u001b[0m\n",
      "\u001b[1;31mTypeError\u001b[0m: unhashable type: 'set'"
     ]
    }
   ],
   "source": [
    "s1 = {1,2,3,3.3,{11,22,33,44},\"Python\"}\n",
    "s1"
   ]
  },
  {
   "cell_type": "markdown",
   "id": "1c7a1500",
   "metadata": {},
   "source": [
    "## set function"
   ]
  },
  {
   "cell_type": "markdown",
   "id": "667ca3c0",
   "metadata": {},
   "source": [
    "# 1.add()"
   ]
  },
  {
   "cell_type": "code",
   "execution_count": null,
   "id": "91b98409",
   "metadata": {},
   "outputs": [],
   "source": [
    "used to add one item in set\n",
    "Item will get added at random index"
   ]
  },
  {
   "cell_type": "code",
   "execution_count": null,
   "id": "68ffbc9e",
   "metadata": {},
   "outputs": [],
   "source": [
    "append() last index"
   ]
  },
  {
   "cell_type": "code",
   "execution_count": 11,
   "id": "08ff36e5",
   "metadata": {},
   "outputs": [
    {
     "data": {
      "text/plain": [
       "{10, 12, 1222, 13, 14, 15, 'Python', 'Pythons'}"
      ]
     },
     "execution_count": 11,
     "metadata": {},
     "output_type": "execute_result"
    }
   ],
   "source": [
    "s1 = {10,12,13,14,15}\n",
    "s1.add(1222)\n",
    "s1.add(\"Python\")\n",
    "s1.add(\"Pythons\")\n",
    "\n",
    "s1"
   ]
  },
  {
   "cell_type": "code",
   "execution_count": 15,
   "id": "e8427ddc",
   "metadata": {},
   "outputs": [
    {
     "ename": "AttributeError",
     "evalue": "'set' object has no attribute 'append'",
     "output_type": "error",
     "traceback": [
      "\u001b[1;31m---------------------------------------------------------------------------\u001b[0m",
      "\u001b[1;31mAttributeError\u001b[0m                            Traceback (most recent call last)",
      "\u001b[1;32m~\\AppData\\Local\\Temp/ipykernel_12048/1944999278.py\u001b[0m in \u001b[0;36m<module>\u001b[1;34m\u001b[0m\n\u001b[0;32m      1\u001b[0m \u001b[0ms1\u001b[0m \u001b[1;33m=\u001b[0m \u001b[1;33m{\u001b[0m\u001b[1;36m10\u001b[0m\u001b[1;33m,\u001b[0m\u001b[1;36m12\u001b[0m\u001b[1;33m,\u001b[0m\u001b[1;36m13\u001b[0m\u001b[1;33m,\u001b[0m\u001b[1;36m14\u001b[0m\u001b[1;33m,\u001b[0m\u001b[1;36m15\u001b[0m\u001b[1;33m}\u001b[0m\u001b[1;33m\u001b[0m\u001b[1;33m\u001b[0m\u001b[0m\n\u001b[0;32m      2\u001b[0m \u001b[0ms1\u001b[0m\u001b[1;33m.\u001b[0m\u001b[0madd\u001b[0m\u001b[1;33m(\u001b[0m\u001b[1;36m1222\u001b[0m\u001b[1;33m)\u001b[0m\u001b[1;33m\u001b[0m\u001b[1;33m\u001b[0m\u001b[0m\n\u001b[1;32m----> 3\u001b[1;33m \u001b[0ms1\u001b[0m\u001b[1;33m.\u001b[0m\u001b[0mappend\u001b[0m\u001b[1;33m(\u001b[0m\u001b[1;34m\"Python\"\u001b[0m\u001b[1;33m)\u001b[0m\u001b[1;33m\u001b[0m\u001b[1;33m\u001b[0m\u001b[0m\n\u001b[0m\u001b[0;32m      4\u001b[0m \u001b[0ms1\u001b[0m\u001b[1;33m\u001b[0m\u001b[1;33m\u001b[0m\u001b[0m\n",
      "\u001b[1;31mAttributeError\u001b[0m: 'set' object has no attribute 'append'"
     ]
    }
   ],
   "source": [
    "s1 = {10,12,13,14,15}\n",
    "s1.add(1222)\n",
    "s1.append(\"Python\")\n",
    "s1"
   ]
  },
  {
   "cell_type": "markdown",
   "id": "579ec3ed",
   "metadata": {},
   "source": [
    "## 2.update()"
   ]
  },
  {
   "cell_type": "raw",
   "id": "4740d4c4",
   "metadata": {},
   "source": [
    "## used to join two sets"
   ]
  },
  {
   "cell_type": "code",
   "execution_count": 16,
   "id": "3b6a5a59",
   "metadata": {},
   "outputs": [
    {
     "ename": "TypeError",
     "evalue": "'int' object is not iterable",
     "output_type": "error",
     "traceback": [
      "\u001b[1;31m---------------------------------------------------------------------------\u001b[0m",
      "\u001b[1;31mTypeError\u001b[0m                                 Traceback (most recent call last)",
      "\u001b[1;32m~\\AppData\\Local\\Temp/ipykernel_12048/1349269276.py\u001b[0m in \u001b[0;36m<module>\u001b[1;34m\u001b[0m\n\u001b[0;32m      1\u001b[0m \u001b[0mlst\u001b[0m \u001b[1;33m=\u001b[0m \u001b[1;33m[\u001b[0m\u001b[1;36m1\u001b[0m\u001b[1;33m,\u001b[0m\u001b[1;36m2\u001b[0m\u001b[1;33m,\u001b[0m\u001b[1;36m3\u001b[0m\u001b[1;33m,\u001b[0m\u001b[1;36m4\u001b[0m\u001b[1;33m]\u001b[0m\u001b[1;33m\u001b[0m\u001b[1;33m\u001b[0m\u001b[0m\n\u001b[1;32m----> 2\u001b[1;33m \u001b[0mlst\u001b[0m\u001b[1;33m.\u001b[0m\u001b[0mextend\u001b[0m\u001b[1;33m(\u001b[0m\u001b[1;36m1\u001b[0m\u001b[1;33m)\u001b[0m\u001b[1;33m\u001b[0m\u001b[1;33m\u001b[0m\u001b[0m\n\u001b[0m\u001b[0;32m      3\u001b[0m \u001b[0mlst\u001b[0m\u001b[1;33m\u001b[0m\u001b[1;33m\u001b[0m\u001b[0m\n",
      "\u001b[1;31mTypeError\u001b[0m: 'int' object is not iterable"
     ]
    }
   ],
   "source": [
    "lst = [1,2,3,4]\n",
    "lst.extend([1])\n",
    "lst"
   ]
  },
  {
   "cell_type": "code",
   "execution_count": 17,
   "id": "aed33db5",
   "metadata": {},
   "outputs": [
    {
     "data": {
      "text/plain": [
       "[1, 2, 3, 4, 1]"
      ]
     },
     "execution_count": 17,
     "metadata": {},
     "output_type": "execute_result"
    }
   ],
   "source": [
    "lst = [1,2,3,4]\n",
    "lst.append(1)\n",
    "lst"
   ]
  },
  {
   "cell_type": "code",
   "execution_count": 27,
   "id": "bf49fbff",
   "metadata": {},
   "outputs": [
    {
     "data": {
      "text/plain": [
       "{1, 2, 3, 4, 5, 544, 56, 6, 7, 78, 'grer'}"
      ]
     },
     "execution_count": 27,
     "metadata": {},
     "output_type": "execute_result"
    }
   ],
   "source": [
    "s1 = {1,2,3,4}\n",
    "s2 = {3,4,5,6,7,544}\n",
    "fr={56,\"grer\",78}\n",
    "s1.update(s2) or s1.update(fr)\n",
    "s1 # 1,2,3,4,5,6,7"
   ]
  },
  {
   "cell_type": "code",
   "execution_count": null,
   "id": "d527efd4",
   "metadata": {},
   "outputs": [],
   "source": [
    "s1 = {1,2,3,4}\n",
    "s2 = {3,4,5,6,7}\n",
    "s1.update(s2)\n",
    "s1 # 1,2,3,4,5,6,7"
   ]
  },
  {
   "cell_type": "code",
   "execution_count": 19,
   "id": "b6cb3723",
   "metadata": {},
   "outputs": [
    {
     "ename": "TypeError",
     "evalue": "unhashable type: 'list'",
     "output_type": "error",
     "traceback": [
      "\u001b[1;31m---------------------------------------------------------------------------\u001b[0m",
      "\u001b[1;31mTypeError\u001b[0m                                 Traceback (most recent call last)",
      "\u001b[1;32m~\\AppData\\Local\\Temp/ipykernel_12048/2074560371.py\u001b[0m in \u001b[0;36m<module>\u001b[1;34m\u001b[0m\n\u001b[0;32m      1\u001b[0m \u001b[0ms1\u001b[0m \u001b[1;33m=\u001b[0m \u001b[1;33m{\u001b[0m\u001b[1;36m1\u001b[0m\u001b[1;33m,\u001b[0m\u001b[1;36m2\u001b[0m\u001b[1;33m,\u001b[0m\u001b[1;36m3\u001b[0m\u001b[1;33m,\u001b[0m\u001b[1;36m4\u001b[0m\u001b[1;33m}\u001b[0m\u001b[1;33m\u001b[0m\u001b[1;33m\u001b[0m\u001b[0m\n\u001b[1;32m----> 2\u001b[1;33m \u001b[0ms2\u001b[0m \u001b[1;33m=\u001b[0m \u001b[1;33m{\u001b[0m\u001b[1;33m[\u001b[0m\u001b[1;36m3\u001b[0m\u001b[1;33m,\u001b[0m\u001b[1;36m4\u001b[0m\u001b[1;33m,\u001b[0m\u001b[1;36m5\u001b[0m\u001b[1;33m,\u001b[0m\u001b[1;36m6\u001b[0m\u001b[1;33m,\u001b[0m\u001b[1;36m7\u001b[0m\u001b[1;33m]\u001b[0m\u001b[1;33m}\u001b[0m\u001b[1;33m\u001b[0m\u001b[1;33m\u001b[0m\u001b[0m\n\u001b[0m\u001b[0;32m      3\u001b[0m \u001b[0ms1\u001b[0m\u001b[1;33m.\u001b[0m\u001b[0mupdate\u001b[0m\u001b[1;33m(\u001b[0m\u001b[0ms2\u001b[0m\u001b[1;33m)\u001b[0m\u001b[1;33m\u001b[0m\u001b[1;33m\u001b[0m\u001b[0m\n\u001b[0;32m      4\u001b[0m \u001b[0ms1\u001b[0m \u001b[1;31m# 1,2,3,4,5,6,7\u001b[0m\u001b[1;33m\u001b[0m\u001b[1;33m\u001b[0m\u001b[0m\n",
      "\u001b[1;31mTypeError\u001b[0m: unhashable type: 'list'"
     ]
    }
   ],
   "source": [
    "s1 = {1,2,3,4}\n",
    "s2 = {[3,4,5,6,7]}\n",
    "s1.update(s2)\n",
    "s1 # 1,2,3,4,5,6,7"
   ]
  },
  {
   "cell_type": "code",
   "execution_count": 20,
   "id": "50384f77",
   "metadata": {},
   "outputs": [
    {
     "data": {
      "text/plain": [
       "{1, 2, 3, 4, 5, 6, 7}"
      ]
     },
     "execution_count": 20,
     "metadata": {},
     "output_type": "execute_result"
    }
   ],
   "source": [
    "s1 = {1,2,3,4}  # set\n",
    "s2 = [3,4,5,6,7] # list,tuple,set\n",
    "s1.update(s2)\n",
    "s1 # 1,2,3,4,5,6,7"
   ]
  },
  {
   "cell_type": "code",
   "execution_count": 21,
   "id": "02d4d964",
   "metadata": {},
   "outputs": [
    {
     "ename": "AttributeError",
     "evalue": "'list' object has no attribute 'update'",
     "output_type": "error",
     "traceback": [
      "\u001b[1;31m---------------------------------------------------------------------------\u001b[0m",
      "\u001b[1;31mAttributeError\u001b[0m                            Traceback (most recent call last)",
      "\u001b[1;32m~\\AppData\\Local\\Temp/ipykernel_12048/1161156825.py\u001b[0m in \u001b[0;36m<module>\u001b[1;34m\u001b[0m\n\u001b[0;32m      1\u001b[0m \u001b[0ms1\u001b[0m \u001b[1;33m=\u001b[0m \u001b[1;33m{\u001b[0m\u001b[1;36m1\u001b[0m\u001b[1;33m,\u001b[0m\u001b[1;36m2\u001b[0m\u001b[1;33m,\u001b[0m\u001b[1;36m3\u001b[0m\u001b[1;33m,\u001b[0m\u001b[1;36m4\u001b[0m\u001b[1;33m}\u001b[0m  \u001b[1;31m# set\u001b[0m\u001b[1;33m\u001b[0m\u001b[1;33m\u001b[0m\u001b[0m\n\u001b[0;32m      2\u001b[0m \u001b[0ms2\u001b[0m \u001b[1;33m=\u001b[0m \u001b[1;33m[\u001b[0m\u001b[1;36m3\u001b[0m\u001b[1;33m,\u001b[0m\u001b[1;36m4\u001b[0m\u001b[1;33m,\u001b[0m\u001b[1;36m5\u001b[0m\u001b[1;33m,\u001b[0m\u001b[1;36m6\u001b[0m\u001b[1;33m,\u001b[0m\u001b[1;36m7\u001b[0m\u001b[1;33m]\u001b[0m \u001b[1;31m# list,tuple,set\u001b[0m\u001b[1;33m\u001b[0m\u001b[1;33m\u001b[0m\u001b[0m\n\u001b[1;32m----> 3\u001b[1;33m \u001b[0ms2\u001b[0m\u001b[1;33m.\u001b[0m\u001b[0mupdate\u001b[0m\u001b[1;33m(\u001b[0m\u001b[0ms1\u001b[0m\u001b[1;33m)\u001b[0m\u001b[1;33m\u001b[0m\u001b[1;33m\u001b[0m\u001b[0m\n\u001b[0m\u001b[0;32m      4\u001b[0m \u001b[0ms2\u001b[0m \u001b[1;31m# 1,2,3,4,5,6,7\u001b[0m\u001b[1;33m\u001b[0m\u001b[1;33m\u001b[0m\u001b[0m\n",
      "\u001b[1;31mAttributeError\u001b[0m: 'list' object has no attribute 'update'"
     ]
    }
   ],
   "source": [
    "s1 = {1,2,3,4}  # set\n",
    "s2 = [3,4,5,6,7] # list,tuple,set\n",
    "s2.update(s1)\n",
    "s2 # 1,2,3,4,5,6,7"
   ]
  },
  {
   "cell_type": "code",
   "execution_count": 22,
   "id": "3fabeeae",
   "metadata": {},
   "outputs": [
    {
     "data": {
      "text/plain": [
       "{1, 2, 3, 4, 5, 6, 7}"
      ]
     },
     "execution_count": 22,
     "metadata": {},
     "output_type": "execute_result"
    }
   ],
   "source": [
    "s1 = {1,2,3,4}  # set\n",
    "s2 = (3,4,5,6,7) # list,tuple,set\n",
    "s1.update(s2)\n",
    "s1 # 1,2,3,4,5,6,7"
   ]
  },
  {
   "cell_type": "markdown",
   "id": "ca1112ba",
   "metadata": {},
   "source": [
    "## 3) union()"
   ]
  },
  {
   "cell_type": "code",
   "execution_count": null,
   "id": "0a8f0218",
   "metadata": {},
   "outputs": [],
   "source": [
    "# will  get unique value/elements\n",
    "# The union() method returns a new set with elements from set and all other stes, so we required new variable"
   ]
  },
  {
   "cell_type": "code",
   "execution_count": 23,
   "id": "359bc64c",
   "metadata": {},
   "outputs": [
    {
     "data": {
      "text/plain": [
       "{2, 3, 4, 5, 6, 7, 8, 9}"
      ]
     },
     "execution_count": 23,
     "metadata": {},
     "output_type": "execute_result"
    }
   ],
   "source": [
    "s1 = {2,3,4,5,6}  \n",
    "s2 = {4,5,6,7,8,9} \n",
    "s1.union(s2) # 2,3,4,5,6,7,8,9"
   ]
  },
  {
   "cell_type": "code",
   "execution_count": 24,
   "id": "fa3685ce",
   "metadata": {},
   "outputs": [
    {
     "data": {
      "text/plain": [
       "{2, 3, 4, 5, 6, 7, 8, 9}"
      ]
     },
     "execution_count": 24,
     "metadata": {},
     "output_type": "execute_result"
    }
   ],
   "source": [
    "s1 = {2,3,4,5,6}  \n",
    "s2 = {4,5,6,7,8,9} \n",
    "s2.union(s1) "
   ]
  },
  {
   "cell_type": "code",
   "execution_count": 25,
   "id": "e0600488",
   "metadata": {},
   "outputs": [
    {
     "data": {
      "text/plain": [
       "{2, 3, 4, 5, 6, 7, 8, 9}"
      ]
     },
     "execution_count": 25,
     "metadata": {},
     "output_type": "execute_result"
    }
   ],
   "source": [
    "s1 = {2,3,4,5,6}  # set\n",
    "s2 = [4,5,6,7,8,9]  # list/tuple/set\n",
    "s1.union(s2) "
   ]
  },
  {
   "cell_type": "code",
   "execution_count": 26,
   "id": "f7d6225c",
   "metadata": {},
   "outputs": [
    {
     "data": {
      "text/plain": [
       "{2, 3, 4, 5, 6, 7, 8, 9}"
      ]
     },
     "execution_count": 26,
     "metadata": {},
     "output_type": "execute_result"
    }
   ],
   "source": [
    "s1 = {2,3,4,5,6}  # set\n",
    "s2 = (4,5,6,7,8,9)  # list/tuple/set\n",
    "s1.union(s2) "
   ]
  },
  {
   "cell_type": "code",
   "execution_count": 27,
   "id": "962e5453",
   "metadata": {},
   "outputs": [
    {
     "ename": "AttributeError",
     "evalue": "'tuple' object has no attribute 'union'",
     "output_type": "error",
     "traceback": [
      "\u001b[1;31m---------------------------------------------------------------------------\u001b[0m",
      "\u001b[1;31mAttributeError\u001b[0m                            Traceback (most recent call last)",
      "\u001b[1;32m~\\AppData\\Local\\Temp/ipykernel_12048/2376087702.py\u001b[0m in \u001b[0;36m<module>\u001b[1;34m\u001b[0m\n\u001b[0;32m      1\u001b[0m \u001b[0ms1\u001b[0m \u001b[1;33m=\u001b[0m \u001b[1;33m{\u001b[0m\u001b[1;36m2\u001b[0m\u001b[1;33m,\u001b[0m\u001b[1;36m3\u001b[0m\u001b[1;33m,\u001b[0m\u001b[1;36m4\u001b[0m\u001b[1;33m,\u001b[0m\u001b[1;36m5\u001b[0m\u001b[1;33m,\u001b[0m\u001b[1;36m6\u001b[0m\u001b[1;33m}\u001b[0m  \u001b[1;31m# set\u001b[0m\u001b[1;33m\u001b[0m\u001b[1;33m\u001b[0m\u001b[0m\n\u001b[0;32m      2\u001b[0m \u001b[0ms2\u001b[0m \u001b[1;33m=\u001b[0m \u001b[1;33m(\u001b[0m\u001b[1;36m4\u001b[0m\u001b[1;33m,\u001b[0m\u001b[1;36m5\u001b[0m\u001b[1;33m,\u001b[0m\u001b[1;36m6\u001b[0m\u001b[1;33m,\u001b[0m\u001b[1;36m7\u001b[0m\u001b[1;33m,\u001b[0m\u001b[1;36m8\u001b[0m\u001b[1;33m,\u001b[0m\u001b[1;36m9\u001b[0m\u001b[1;33m)\u001b[0m  \u001b[1;31m# list/tuple/set\u001b[0m\u001b[1;33m\u001b[0m\u001b[1;33m\u001b[0m\u001b[0m\n\u001b[1;32m----> 3\u001b[1;33m \u001b[0ms2\u001b[0m\u001b[1;33m.\u001b[0m\u001b[0munion\u001b[0m\u001b[1;33m(\u001b[0m\u001b[0ms1\u001b[0m\u001b[1;33m)\u001b[0m\u001b[1;33m\u001b[0m\u001b[1;33m\u001b[0m\u001b[0m\n\u001b[0m",
      "\u001b[1;31mAttributeError\u001b[0m: 'tuple' object has no attribute 'union'"
     ]
    }
   ],
   "source": [
    "s1 = {2,3,4,5,6}  # set\n",
    "s2 = (4,5,6,7,8,9)  # list/tuple/set\n",
    "s2.union(s1)"
   ]
  },
  {
   "cell_type": "markdown",
   "id": "b94ffeec",
   "metadata": {},
   "source": [
    "## Delete items from set"
   ]
  },
  {
   "cell_type": "raw",
   "id": "563ae1c9",
   "metadata": {},
   "source": [
    "1) remove\n",
    "2) pop()\n",
    "3) clear()\n",
    "4) discard()"
   ]
  },
  {
   "cell_type": "markdown",
   "id": "94dd273f",
   "metadata": {},
   "source": [
    "## 1) remove()"
   ]
  },
  {
   "cell_type": "code",
   "execution_count": 31,
   "id": "3ac92a0b",
   "metadata": {},
   "outputs": [
    {
     "data": {
      "text/plain": [
       "{2, 3, 5, 6}"
      ]
     },
     "execution_count": 31,
     "metadata": {},
     "output_type": "execute_result"
    }
   ],
   "source": [
    "s1 = {2,3,4,5,6}  # set\n",
    "s2 = (4,5,6,7,8,9)  # list/tuple/set\n",
    "s1.remove(4)   # set.remove(item) \n",
    "s1"
   ]
  },
  {
   "cell_type": "markdown",
   "id": "67513d43",
   "metadata": {},
   "source": [
    "## 2) discard()"
   ]
  },
  {
   "cell_type": "code",
   "execution_count": null,
   "id": "fcec717f",
   "metadata": {},
   "outputs": [],
   "source": [
    "no error , if item is not present in set"
   ]
  },
  {
   "cell_type": "code",
   "execution_count": 36,
   "id": "6c44abf9",
   "metadata": {},
   "outputs": [
    {
     "data": {
      "text/plain": [
       "{2, 3, 4, 5, 6, 44}"
      ]
     },
     "execution_count": 36,
     "metadata": {},
     "output_type": "execute_result"
    }
   ],
   "source": [
    "s1 = {2,3,4,5,6,44}  \n",
    "s1.discard(444)    # NO ERROR  WILL BE FOUND\n",
    "s1"
   ]
  },
  {
   "cell_type": "code",
   "execution_count": 32,
   "id": "1e11006f",
   "metadata": {},
   "outputs": [
    {
     "data": {
      "text/plain": [
       "{2, 3, 4, 5, 6}"
      ]
     },
     "execution_count": 32,
     "metadata": {},
     "output_type": "execute_result"
    }
   ],
   "source": [
    "s1 = {2,3,4,5,6,44}  # set\n",
    "s2 = (4,5,6,7,8,9)  # list/tuple/set\n",
    "s1.discard(4444)   # set.remove(item) \n",
    "s1.discard(44)\n",
    "s1"
   ]
  },
  {
   "cell_type": "markdown",
   "id": "96947a73",
   "metadata": {},
   "source": [
    "## 3) pop()"
   ]
  },
  {
   "cell_type": "code",
   "execution_count": null,
   "id": "21f8007a",
   "metadata": {},
   "outputs": [],
   "source": [
    "it will delete random item from set\n",
    "> note we can not pass index number becoz unordered"
   ]
  },
  {
   "cell_type": "code",
   "execution_count": 33,
   "id": "861373a8",
   "metadata": {},
   "outputs": [
    {
     "ename": "TypeError",
     "evalue": "set.pop() takes no arguments (1 given)",
     "output_type": "error",
     "traceback": [
      "\u001b[1;31m---------------------------------------------------------------------------\u001b[0m",
      "\u001b[1;31mTypeError\u001b[0m                                 Traceback (most recent call last)",
      "\u001b[1;32m~\\AppData\\Local\\Temp/ipykernel_12048/1473975355.py\u001b[0m in \u001b[0;36m<module>\u001b[1;34m\u001b[0m\n\u001b[0;32m      1\u001b[0m \u001b[0ms1\u001b[0m \u001b[1;33m=\u001b[0m \u001b[1;33m{\u001b[0m\u001b[1;36m2\u001b[0m\u001b[1;33m,\u001b[0m\u001b[1;36m3\u001b[0m\u001b[1;33m,\u001b[0m\u001b[1;36m4\u001b[0m\u001b[1;33m,\u001b[0m\u001b[1;36m5\u001b[0m\u001b[1;33m,\u001b[0m\u001b[1;36m6\u001b[0m\u001b[1;33m,\u001b[0m\u001b[1;36m44\u001b[0m\u001b[1;33m}\u001b[0m\u001b[1;33m\u001b[0m\u001b[1;33m\u001b[0m\u001b[0m\n\u001b[1;32m----> 2\u001b[1;33m \u001b[0ms1\u001b[0m\u001b[1;33m.\u001b[0m\u001b[0mpop\u001b[0m\u001b[1;33m(\u001b[0m\u001b[1;36m1\u001b[0m\u001b[1;33m)\u001b[0m\u001b[1;33m\u001b[0m\u001b[1;33m\u001b[0m\u001b[0m\n\u001b[0m\u001b[0;32m      3\u001b[0m \u001b[0ms1\u001b[0m\u001b[1;33m\u001b[0m\u001b[1;33m\u001b[0m\u001b[0m\n",
      "\u001b[1;31mTypeError\u001b[0m: set.pop() takes no arguments (1 given)"
     ]
    }
   ],
   "source": [
    "s1 = {2,3,4,5,6,44}\n",
    "s1.pop(1)\n",
    "s1"
   ]
  },
  {
   "cell_type": "code",
   "execution_count": 38,
   "id": "86134054",
   "metadata": {},
   "outputs": [
    {
     "data": {
      "text/plain": [
       "2"
      ]
     },
     "execution_count": 38,
     "metadata": {},
     "output_type": "execute_result"
    }
   ],
   "source": [
    "s1 = {2,3,4,5,6,44}\n",
    "s1.pop()\n"
   ]
  },
  {
   "cell_type": "markdown",
   "id": "3448061f",
   "metadata": {},
   "source": [
    "## 4) clear()"
   ]
  },
  {
   "cell_type": "code",
   "execution_count": 46,
   "id": "db94f461",
   "metadata": {},
   "outputs": [],
   "source": [
    "s1 ={3, 4, 5, 6, 44}\n",
    "s1.clear()"
   ]
  },
  {
   "cell_type": "code",
   "execution_count": 47,
   "id": "f544583b",
   "metadata": {},
   "outputs": [
    {
     "data": {
      "text/plain": [
       "set()"
      ]
     },
     "execution_count": 47,
     "metadata": {},
     "output_type": "execute_result"
    }
   ],
   "source": [
    "s1"
   ]
  },
  {
   "cell_type": "code",
   "execution_count": 48,
   "id": "29a5c146",
   "metadata": {},
   "outputs": [
    {
     "ename": "NameError",
     "evalue": "name 's1' is not defined",
     "output_type": "error",
     "traceback": [
      "\u001b[1;31m---------------------------------------------------------------------------\u001b[0m",
      "\u001b[1;31mNameError\u001b[0m                                 Traceback (most recent call last)",
      "\u001b[1;32m~\\AppData\\Local\\Temp/ipykernel_12048/2770446275.py\u001b[0m in \u001b[0;36m<module>\u001b[1;34m\u001b[0m\n\u001b[0;32m      1\u001b[0m \u001b[0ms1\u001b[0m \u001b[1;33m=\u001b[0m\u001b[1;33m{\u001b[0m\u001b[1;36m3\u001b[0m\u001b[1;33m,\u001b[0m \u001b[1;36m4\u001b[0m\u001b[1;33m,\u001b[0m \u001b[1;36m5\u001b[0m\u001b[1;33m,\u001b[0m \u001b[1;36m6\u001b[0m\u001b[1;33m,\u001b[0m \u001b[1;36m44\u001b[0m\u001b[1;33m}\u001b[0m\u001b[1;33m\u001b[0m\u001b[1;33m\u001b[0m\u001b[0m\n\u001b[0;32m      2\u001b[0m \u001b[1;32mdel\u001b[0m \u001b[0ms1\u001b[0m\u001b[1;33m\u001b[0m\u001b[1;33m\u001b[0m\u001b[0m\n\u001b[1;32m----> 3\u001b[1;33m \u001b[0ms1\u001b[0m\u001b[1;33m\u001b[0m\u001b[1;33m\u001b[0m\u001b[0m\n\u001b[0m",
      "\u001b[1;31mNameError\u001b[0m: name 's1' is not defined"
     ]
    }
   ],
   "source": [
    "s1 ={3, 4, 5, 6, 44}\n",
    "del s1\n",
    "s1"
   ]
  },
  {
   "cell_type": "code",
   "execution_count": 49,
   "id": "5a77d65c",
   "metadata": {},
   "outputs": [
    {
     "data": {
      "text/plain": [
       "[1, 3, 4]"
      ]
     },
     "execution_count": 49,
     "metadata": {},
     "output_type": "execute_result"
    }
   ],
   "source": [
    "lst = [1,2,3,4]\n",
    "del lst[1]  # 1,3,4\n",
    "lst"
   ]
  },
  {
   "cell_type": "code",
   "execution_count": 50,
   "id": "9353b8b0",
   "metadata": {},
   "outputs": [
    {
     "ename": "TypeError",
     "evalue": "'set' object doesn't support item deletion",
     "output_type": "error",
     "traceback": [
      "\u001b[1;31m---------------------------------------------------------------------------\u001b[0m",
      "\u001b[1;31mTypeError\u001b[0m                                 Traceback (most recent call last)",
      "\u001b[1;32m~\\AppData\\Local\\Temp/ipykernel_12048/1226149416.py\u001b[0m in \u001b[0;36m<module>\u001b[1;34m\u001b[0m\n\u001b[0;32m      1\u001b[0m \u001b[0ms1\u001b[0m \u001b[1;33m=\u001b[0m\u001b[1;33m{\u001b[0m\u001b[1;36m3\u001b[0m\u001b[1;33m,\u001b[0m \u001b[1;36m4\u001b[0m\u001b[1;33m,\u001b[0m \u001b[1;36m5\u001b[0m\u001b[1;33m,\u001b[0m \u001b[1;36m6\u001b[0m\u001b[1;33m,\u001b[0m \u001b[1;36m44\u001b[0m\u001b[1;33m}\u001b[0m\u001b[1;33m\u001b[0m\u001b[1;33m\u001b[0m\u001b[0m\n\u001b[1;32m----> 2\u001b[1;33m \u001b[1;32mdel\u001b[0m \u001b[0ms1\u001b[0m\u001b[1;33m[\u001b[0m\u001b[1;36m1\u001b[0m\u001b[1;33m]\u001b[0m\u001b[1;33m\u001b[0m\u001b[1;33m\u001b[0m\u001b[0m\n\u001b[0m\u001b[0;32m      3\u001b[0m \u001b[0ms1\u001b[0m\u001b[1;33m\u001b[0m\u001b[1;33m\u001b[0m\u001b[0m\n",
      "\u001b[1;31mTypeError\u001b[0m: 'set' object doesn't support item deletion"
     ]
    }
   ],
   "source": [
    "s1 ={3, 4, 5, 6, 44}\n",
    "del s1[1]\n",
    "s1"
   ]
  },
  {
   "cell_type": "markdown",
   "id": "bc968717",
   "metadata": {},
   "source": [
    "## other set functions"
   ]
  },
  {
   "cell_type": "markdown",
   "id": "4f742547",
   "metadata": {},
   "source": [
    "## 1.intersection()"
   ]
  },
  {
   "cell_type": "raw",
   "id": "834fa459",
   "metadata": {},
   "source": [
    "get common elements"
   ]
  },
  {
   "cell_type": "code",
   "execution_count": 51,
   "id": "3e939f35",
   "metadata": {},
   "outputs": [
    {
     "data": {
      "text/plain": [
       "{5, 6}"
      ]
     },
     "execution_count": 51,
     "metadata": {},
     "output_type": "execute_result"
    }
   ],
   "source": [
    "s1 = {2,3,4,5,6}\n",
    "s2 = {5,6,7,8,9}\n",
    "s1.intersection(s2) #{5, 6}"
   ]
  },
  {
   "cell_type": "code",
   "execution_count": 52,
   "id": "0f0db301",
   "metadata": {},
   "outputs": [
    {
     "name": "stdout",
     "output_type": "stream",
     "text": [
      "{2, 3, 4, 5, 6}\n",
      "{5, 6, 7, 8, 9}\n"
     ]
    }
   ],
   "source": [
    "print(s1)\n",
    "print(s2)"
   ]
  },
  {
   "cell_type": "code",
   "execution_count": 53,
   "id": "8c62ff8b",
   "metadata": {},
   "outputs": [
    {
     "data": {
      "text/plain": [
       "{5, 6}"
      ]
     },
     "execution_count": 53,
     "metadata": {},
     "output_type": "execute_result"
    }
   ],
   "source": [
    "s1 = {2,3,4,5,6}\n",
    "s2 = {5,6,7,8,9}\n",
    "s3 =s1.intersection(s2) #{5, 6}\n",
    "s3"
   ]
  },
  {
   "cell_type": "markdown",
   "id": "bbe6dc35",
   "metadata": {},
   "source": [
    "## 2.intersection_update()"
   ]
  },
  {
   "cell_type": "code",
   "execution_count": 54,
   "id": "1515206f",
   "metadata": {},
   "outputs": [
    {
     "name": "stdout",
     "output_type": "stream",
     "text": [
      "{5, 6}\n",
      "{5, 6, 7, 8, 9}\n"
     ]
    }
   ],
   "source": [
    "s1 = {2,3,4,5,6}\n",
    "s2 = {5,6,7,8,9}\n",
    "s1.intersection_update(s2) \n",
    "print(s1) # {5,6}\n",
    "print(s2) #{5,6,7,8,9}"
   ]
  },
  {
   "cell_type": "code",
   "execution_count": 55,
   "id": "fcefd3a7",
   "metadata": {},
   "outputs": [
    {
     "name": "stdout",
     "output_type": "stream",
     "text": [
      "set()\n",
      "{81, 51, 71, 91, 61}\n"
     ]
    }
   ],
   "source": [
    "s1 = {2,3,4,5,6}\n",
    "s2 = {51,61,71,81,91}\n",
    "s1.intersection_update(s2) \n",
    "print(s1) # {5,6}\n",
    "print(s2) #{5,6,7,8,9}"
   ]
  },
  {
   "cell_type": "markdown",
   "id": "244013c9",
   "metadata": {},
   "source": [
    "## 3) differnce()"
   ]
  },
  {
   "cell_type": "code",
   "execution_count": null,
   "id": "a1a04538",
   "metadata": {},
   "outputs": [],
   "source": [
    "Unique value from set"
   ]
  },
  {
   "cell_type": "code",
   "execution_count": 56,
   "id": "a4017768",
   "metadata": {},
   "outputs": [
    {
     "data": {
      "text/plain": [
       "{2, 3, 4}"
      ]
     },
     "execution_count": 56,
     "metadata": {},
     "output_type": "execute_result"
    }
   ],
   "source": [
    "s1 = {2,3,4,5,6} # set1 unique values\n",
    "s2 = {5,6,7,8,9}\n",
    "s1.difference(s2)"
   ]
  },
  {
   "cell_type": "code",
   "execution_count": 57,
   "id": "8b725917",
   "metadata": {},
   "outputs": [
    {
     "data": {
      "text/plain": [
       "{2, 3, 4, 5, 6, 7, 8, 9}"
      ]
     },
     "execution_count": 57,
     "metadata": {},
     "output_type": "execute_result"
    }
   ],
   "source": [
    "s1.union(s2) # both sets unique values"
   ]
  },
  {
   "cell_type": "markdown",
   "id": "99f92bdd",
   "metadata": {},
   "source": [
    "## 4) differnce_update()"
   ]
  },
  {
   "cell_type": "code",
   "execution_count": 58,
   "id": "b2bcc92c",
   "metadata": {},
   "outputs": [
    {
     "name": "stdout",
     "output_type": "stream",
     "text": [
      "{2, 3, 4}\n",
      "{5, 6, 7, 8, 9}\n"
     ]
    }
   ],
   "source": [
    "s1 = {2,3,4,5,6} # set1 unique values\n",
    "s2 = {5,6,7,8,9}\n",
    "s1.difference_update(s2)\n",
    "print(s1) #2,3,4\n",
    "print(s2)"
   ]
  },
  {
   "cell_type": "markdown",
   "id": "56f26efe",
   "metadata": {},
   "source": [
    "## 5) symmetric_diffrence()"
   ]
  },
  {
   "cell_type": "code",
   "execution_count": 60,
   "id": "4ab2b0c9",
   "metadata": {},
   "outputs": [
    {
     "data": {
      "text/plain": [
       "{2, 3, 4}"
      ]
     },
     "execution_count": 60,
     "metadata": {},
     "output_type": "execute_result"
    }
   ],
   "source": [
    "s1 = {2,3,4,5,6}\n",
    "s2 = {5,6,7,8,9}\n",
    "s1.difference(s2)  # unique items from set1"
   ]
  },
  {
   "cell_type": "code",
   "execution_count": 61,
   "id": "53ad6446",
   "metadata": {},
   "outputs": [
    {
     "data": {
      "text/plain": [
       "{2, 3, 4, 7, 8, 9}"
      ]
     },
     "execution_count": 61,
     "metadata": {},
     "output_type": "execute_result"
    }
   ],
   "source": [
    "s1 = {2,3,4,5,6} \n",
    "s2 = {5,6,7,8,9}\n",
    "s1.symmetric_difference(s2) # {2,3,4,7,8,9}"
   ]
  },
  {
   "cell_type": "code",
   "execution_count": 62,
   "id": "8e8c9cec",
   "metadata": {},
   "outputs": [
    {
     "data": {
      "text/plain": [
       "{2, 3, 4, 5, 6, 7, 8, 9}"
      ]
     },
     "execution_count": 62,
     "metadata": {},
     "output_type": "execute_result"
    }
   ],
   "source": [
    "s1 = {2,3,4,5,6}\n",
    "s2 = {5,6,7,8,9}\n",
    "s1.union(s2) # {}\n"
   ]
  },
  {
   "cell_type": "markdown",
   "id": "11d867d3",
   "metadata": {},
   "source": [
    "## 6)symmetric_differnce_update()"
   ]
  },
  {
   "cell_type": "code",
   "execution_count": 63,
   "id": "5aa79791",
   "metadata": {},
   "outputs": [
    {
     "name": "stdout",
     "output_type": "stream",
     "text": [
      "{2, 3, 4, 7, 8, 9}\n",
      "{5, 6, 7, 8, 9}\n"
     ]
    }
   ],
   "source": [
    "s1 = {2,3,4,5,6} \n",
    "s2 = {5,6,7,8,9}\n",
    "s1.symmetric_difference_update(s2) # {2,3,4,7,8,9}\n",
    "print(s1)\n",
    "print(s2)"
   ]
  },
  {
   "cell_type": "markdown",
   "id": "568aa38a",
   "metadata": {},
   "source": [
    "# 7) issubset()"
   ]
  },
  {
   "cell_type": "code",
   "execution_count": 65,
   "id": "4fa270dd",
   "metadata": {},
   "outputs": [
    {
     "data": {
      "text/plain": [
       "True"
      ]
     },
     "execution_count": 65,
     "metadata": {},
     "output_type": "execute_result"
    }
   ],
   "source": [
    "s1 = {1,2,3,4,5,6} # True/False\n",
    "s2 = {3,4,5}\n",
    "s2.issubset(s1) # all set2 items present in set1 then it will return True\n",
    "\n",
    "\n",
    "https://www.programiz.com/python-programming/methods/set/issuperset#:~:text=Python%20Sets-,Python%20Set%20issuperset(),of%20Y%20are%20in%20X%20"
   ]
  },
  {
   "attachments": {
    "image.png": {
     "image/png": "[encoded data removed]"
    }
   },
   "cell_type": "markdown",
   "id": "dce9fd4b",
   "metadata": {},
   "source": [
    "![image.png](attachment:image.png)"
   ]
  },
  {
   "cell_type": "markdown",
   "id": "b70d68be",
   "metadata": {},
   "source": [
    "# 8) issuperset()"
   ]
  },
  {
   "cell_type": "code",
   "execution_count": 66,
   "id": "75efa962",
   "metadata": {},
   "outputs": [
    {
     "data": {
      "text/plain": [
       "True"
      ]
     },
     "execution_count": 66,
     "metadata": {},
     "output_type": "execute_result"
    }
   ],
   "source": [
    "s1 = {1,2,3,4,5,6} # True/False\n",
    "s2 = {3,4,5}\n",
    "s1.issuperset(s2)"
   ]
  },
  {
   "cell_type": "code",
   "execution_count": 67,
   "id": "3aba2718",
   "metadata": {},
   "outputs": [
    {
     "data": {
      "text/plain": [
       "False"
      ]
     },
     "execution_count": 67,
     "metadata": {},
     "output_type": "execute_result"
    }
   ],
   "source": [
    "s1 = {1,2,3,4,5,6} # True/False\n",
    "s2 = {3,4,5}\n",
    "s2.issuperset(s1)"
   ]
  },
  {
   "cell_type": "code",
   "execution_count": null,
   "id": "22a81800",
   "metadata": {},
   "outputs": [],
   "source": []
  },
  {
   "cell_type": "raw",
   "id": "b646a660",
   "metadata": {},
   "source": [
    "1.add() # single element add\n",
    "2.update() # join two sets\n",
    "3.union() # unique values from both sets\n",
    "4.remove # it remove item but randomly\n",
    "5.pop() # random item deletion here we can not pass index number\n",
    "6.clear() # clear all values > empty set\n",
    "7.discard() # no error if item is not present\n",
    "8.intersections # To common values both set\n",
    "9.intersection_update() # update\n",
    "10.differnce() # unique from set1 \n",
    "11.differnce_update() # update\n",
    "12.symmetric_differnce() # unique values from both sets\n",
    "13.symmetric_differnce_update() # update\n",
    "14.issubset() # True/False\n",
    "15.issuperset() # True/False"
   ]
  },
  {
   "cell_type": "markdown",
   "id": "7e3f8cad",
   "metadata": {},
   "source": [
    "## List comprehesion "
   ]
  },
  {
   "cell_type": "code",
   "execution_count": null,
   "id": "1dc64d15",
   "metadata": {},
   "outputs": [],
   "source": [
    "lst = [Expression for i in sequence ]\n",
    "lst = [Expression for i in sequence if condition]\n",
    "\n",
    "lst = [Expression if condition else expression for in sequence]"
   ]
  },
  {
   "cell_type": "code",
   "execution_count": 68,
   "id": "cb0f9f78",
   "metadata": {},
   "outputs": [
    {
     "data": {
      "text/plain": [
       "[1, 4, 9, 16]"
      ]
     },
     "execution_count": 68,
     "metadata": {},
     "output_type": "execute_result"
    }
   ],
   "source": [
    "lst = [1,2,3,4]\n",
    "lst1 = [i**2 for i in lst]\n",
    "lst1"
   ]
  },
  {
   "cell_type": "code",
   "execution_count": 69,
   "id": "e71f7f22",
   "metadata": {},
   "outputs": [
    {
     "data": {
      "text/plain": [
       "[4, 16]"
      ]
     },
     "execution_count": 69,
     "metadata": {},
     "output_type": "execute_result"
    }
   ],
   "source": [
    "lst = [1,2,3,4]\n",
    "lst1 = [i**2 for i in lst if i%2 == 0]\n",
    "lst1"
   ]
  },
  {
   "cell_type": "code",
   "execution_count": 70,
   "id": "af1b2e4a",
   "metadata": {},
   "outputs": [
    {
     "data": {
      "text/plain": [
       "['odd', 'Even', 'odd', 'Even']"
      ]
     },
     "execution_count": 70,
     "metadata": {},
     "output_type": "execute_result"
    }
   ],
   "source": [
    "lst = [1,2,3,4] # odd,Even,odd,Even\n",
    "lst1 = [\"Even\" if i%2 == 0 else \"odd\" for i in lst]\n",
    "lst1"
   ]
  },
  {
   "cell_type": "code",
   "execution_count": 44,
   "id": "4ddbf32b",
   "metadata": {},
   "outputs": [
    {
     "name": "stdout",
     "output_type": "stream",
     "text": [
      "[2, 4]\n",
      "[1, 3]\n"
     ]
    }
   ],
   "source": [
    "lst = [1,2,3,4]\n",
    "lst1 = []\n",
    "lst2 = []\n",
    "for i in lst:\n",
    "    if i%2== 0:\n",
    "        lst1.append(i)\n",
    "    else:\n",
    "        lst2.append(i)\n",
    "print(lst1)\n",
    "print(lst2)\n",
    "        "
   ]
  },
  {
   "cell_type": "markdown",
   "id": "b0f3b7da",
   "metadata": {},
   "source": [
    "### 16.isdisjoint()"
   ]
  },
  {
   "cell_type": "code",
   "execution_count": null,
   "id": "845d4595",
   "metadata": {},
   "outputs": [],
   "source": [
    "if there is nothing is common in both sets then it return >>> True"
   ]
  },
  {
   "cell_type": "code",
   "execution_count": 72,
   "id": "57828f63",
   "metadata": {},
   "outputs": [
    {
     "data": {
      "text/plain": [
       "True"
      ]
     },
     "execution_count": 72,
     "metadata": {},
     "output_type": "execute_result"
    }
   ],
   "source": [
    "s1 = {12,3}\n",
    "s2 = {5,6}\n",
    "s1.isdisjoint(s2)"
   ]
  },
  {
   "cell_type": "code",
   "execution_count": 73,
   "id": "b23d2f82",
   "metadata": {},
   "outputs": [
    {
     "data": {
      "text/plain": [
       "False"
      ]
     },
     "execution_count": 73,
     "metadata": {},
     "output_type": "execute_result"
    }
   ],
   "source": [
    "s1 = {12,3}\n",
    "s2 = {5,6,3}\n",
    "s1.isdisjoint(s2)"
   ]
  },
  {
   "cell_type": "markdown",
   "id": "f71a3742",
   "metadata": {},
   "source": [
    "## copy()"
   ]
  },
  {
   "cell_type": "code",
   "execution_count": 74,
   "id": "d92a24f3",
   "metadata": {},
   "outputs": [
    {
     "ename": "TypeError",
     "evalue": "unhashable type: 'set'",
     "output_type": "error",
     "traceback": [
      "\u001b[1;31m---------------------------------------------------------------------------\u001b[0m",
      "\u001b[1;31mTypeError\u001b[0m                                 Traceback (most recent call last)",
      "\u001b[1;32m~\\AppData\\Local\\Temp/ipykernel_12048/34434085.py\u001b[0m in \u001b[0;36m<module>\u001b[1;34m\u001b[0m\n\u001b[1;32m----> 1\u001b[1;33m \u001b[0ms1\u001b[0m \u001b[1;33m=\u001b[0m \u001b[1;33m{\u001b[0m\u001b[1;36m1\u001b[0m\u001b[1;33m,\u001b[0m\u001b[1;36m2\u001b[0m\u001b[1;33m,\u001b[0m\u001b[1;36m3\u001b[0m\u001b[1;33m,\u001b[0m\u001b[1;36m4\u001b[0m\u001b[1;33m,\u001b[0m\u001b[1;33m{\u001b[0m\u001b[1;36m3\u001b[0m\u001b[1;33m,\u001b[0m\u001b[1;36m4\u001b[0m\u001b[1;33m,\u001b[0m\u001b[1;36m5\u001b[0m\u001b[1;33m,\u001b[0m\u001b[1;36m6\u001b[0m\u001b[1;33m}\u001b[0m\u001b[1;33m}\u001b[0m \u001b[1;31m# it will allow only immutable data type\u001b[0m\u001b[1;33m\u001b[0m\u001b[1;33m\u001b[0m\u001b[0m\n\u001b[0m\u001b[0;32m      2\u001b[0m \u001b[0mprint\u001b[0m\u001b[1;33m(\u001b[0m\u001b[0ms1\u001b[0m\u001b[1;33m)\u001b[0m\u001b[1;33m\u001b[0m\u001b[1;33m\u001b[0m\u001b[0m\n",
      "\u001b[1;31mTypeError\u001b[0m: unhashable type: 'set'"
     ]
    }
   ],
   "source": [
    "s1 = {1,2,3,4,{3,4,5,6}} # it will allow only immutable data type\n",
    "print(s1)"
   ]
  },
  {
   "cell_type": "code",
   "execution_count": 75,
   "id": "80737c7a",
   "metadata": {},
   "outputs": [
    {
     "name": "stdout",
     "output_type": "stream",
     "text": [
      "{1, 2, 3, 4, 5, 6}\n"
     ]
    }
   ],
   "source": [
    "s1 = {1,2,3,4,3,4,5,6}# it will allow only immutable data type\n",
    "print(s1)"
   ]
  },
  {
   "cell_type": "code",
   "execution_count": 76,
   "id": "82b1d7fe",
   "metadata": {},
   "outputs": [
    {
     "name": "stdout",
     "output_type": "stream",
     "text": [
      "{1, 2, 3, 4, 5, 6}\n",
      "{1, 2, 3, 4, 5, 6}\n"
     ]
    }
   ],
   "source": [
    "s1 = {1,2,3,4,3,4,5,6}# it will allow only immutable data type\n",
    "s2 =s1\n",
    "print(s1)\n",
    "print(s2)"
   ]
  },
  {
   "cell_type": "code",
   "execution_count": 77,
   "id": "1039368a",
   "metadata": {},
   "outputs": [
    {
     "name": "stdout",
     "output_type": "stream",
     "text": [
      "{1, 2, 3, 4, 5, 6, 1111}\n",
      "{1, 2, 3, 4, 5, 6, 1111}\n"
     ]
    }
   ],
   "source": [
    "s1 = {1,2,3,4,3,4,5,6}# it will allow only immutable data type\n",
    "s2 =s1\n",
    "s1.add(1111)\n",
    "print(s1)\n",
    "print(s2)"
   ]
  },
  {
   "cell_type": "code",
   "execution_count": 78,
   "id": "eb2fbce3",
   "metadata": {},
   "outputs": [
    {
     "name": "stdout",
     "output_type": "stream",
     "text": [
      "{1, 2, 3, 4, 5, 6, 1111}\n",
      "{1, 2, 3, 4, 5, 6}\n"
     ]
    }
   ],
   "source": [
    "s1 = {1,2,3,4,3,4,5,6}# it will allow only immutable data type\n",
    "s2 =s1.copy()\n",
    "s1.add(1111)\n",
    "print(s1)\n",
    "print(s2)"
   ]
  },
  {
   "cell_type": "code",
   "execution_count": 45,
   "id": "ec131fbb",
   "metadata": {},
   "outputs": [
    {
     "name": "stdout",
     "output_type": "stream",
     "text": [
      "{1, 2, 3, 4, 5, 6, 1111}\n",
      "{1, 2, 3, 4, 5, 6}\n"
     ]
    }
   ],
   "source": [
    "s1 = {1,2,3,4,3,4,5,6}# it will allow only immutable data type\n",
    "s2 =s1.copy()\n",
    "s1.add(1111)\n",
    "print(s1)\n",
    "print(s2)"
   ]
  },
  {
   "cell_type": "code",
   "execution_count": null,
   "id": "452e9056",
   "metadata": {},
   "outputs": [],
   "source": [
    "########################################"
   ]
  }
 ],
 "metadata": {
  "kernelspec": {
   "display_name": "Python 3",
   "language": "python",
   "name": "python3"
  },
  "language_info": {
   "codemirror_mode": {
    "name": "ipython",
    "version": 3
   },
   "file_extension": ".py",
   "mimetype": "text/x-python",
   "name": "python",
   "nbconvert_exporter": "python",
   "pygments_lexer": "ipython3",
   "version": "3.8.8"
  }
 },
 "nbformat": 4,
 "nbformat_minor": 5
}
