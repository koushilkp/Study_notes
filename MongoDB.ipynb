{
 "cells": [
  {
   "cell_type": "raw",
   "id": "c8b58052",
   "metadata": {},
   "source": [
    "mysql:\n",
    "workbench\n",
    "relational database\n",
    "structured data\n",
    "Tables \n",
    "rows and columns"
   ]
  },
  {
   "cell_type": "raw",
   "id": "c93ed364",
   "metadata": {},
   "source": [
    "mongoDB:\n",
    "mongoDB compass\n",
    "non relational database\n",
    "unstructured data\n",
    "JSON : dictionary >> key : value"
   ]
  },
  {
   "cell_type": "code",
   "execution_count": null,
   "id": "b284e342",
   "metadata": {},
   "outputs": [],
   "source": [
    "emp : \n",
    "    empid, fname, salary,loc   CONTACT \n",
    "    1001.  rahul. 80000. pune  NULL  >> mysql\n",
    "    1002.  rohit. 70000  pune  9867564567\n",
    "    1003   virat. 90000. pune  no field >> mongoDB\n",
    "    1004   ashish 40000. pune. mob/email\n",
    "    "
   ]
  },
  {
   "cell_type": "code",
   "execution_count": null,
   "id": "169d0ddc",
   "metadata": {},
   "outputs": [],
   "source": [
    "{contact :{mob:,email:}}"
   ]
  },
  {
   "cell_type": "code",
   "execution_count": null,
   "id": "b548fbab",
   "metadata": {},
   "outputs": [],
   "source": [
    "mysql    == mongoDB\n",
    "database == database\n",
    "tables.  == collections\n",
    "rows     == documents\n",
    "columns  == keys"
   ]
  },
  {
   "cell_type": "markdown",
   "id": "9b6f75da",
   "metadata": {},
   "source": [
    "### libraries required"
   ]
  },
  {
   "cell_type": "code",
   "execution_count": 2,
   "id": "54fdffbd",
   "metadata": {},
   "outputs": [
    {
     "name": "stdout",
     "output_type": "stream",
     "text": [
      "Collecting pymongo\n",
      "  Downloading pymongo-4.2.0-cp310-cp310-win_amd64.whl (374 kB)\n",
      "     -------------------------------------- 374.2/374.2 kB 1.9 MB/s eta 0:00:00\n",
      "Installing collected packages: pymongo\n",
      "Successfully installed pymongo-4.2.0\n",
      "Note: you may need to restart the kernel to use updated packages.\n"
     ]
    }
   ],
   "source": [
    "pip install pymongo"
   ]
  },
  {
   "cell_type": "code",
   "execution_count": null,
   "id": "c6412697",
   "metadata": {},
   "outputs": [],
   "source": []
  },
  {
   "cell_type": "code",
   "execution_count": 4,
   "id": "0cc5c466",
   "metadata": {},
   "outputs": [],
   "source": [
    "import pymongo\n",
    "import pandas as pd"
   ]
  },
  {
   "cell_type": "code",
   "execution_count": null,
   "id": "4f44191f",
   "metadata": {},
   "outputs": [],
   "source": []
  },
  {
   "cell_type": "code",
   "execution_count": null,
   "id": "2eb00ec2",
   "metadata": {},
   "outputs": [],
   "source": []
  },
  {
   "cell_type": "code",
   "execution_count": null,
   "id": "ccb0886e",
   "metadata": {},
   "outputs": [],
   "source": []
  },
  {
   "cell_type": "markdown",
   "id": "b504c5d6",
   "metadata": {},
   "source": [
    "### create connection"
   ]
  },
  {
   "cell_type": "code",
   "execution_count": 5,
   "id": "92be82f8",
   "metadata": {},
   "outputs": [
    {
     "data": {
      "text/plain": [
       "MongoClient(host=['localhost:27017'], document_class=dict, tz_aware=False, connect=True)"
      ]
     },
     "execution_count": 5,
     "metadata": {},
     "output_type": "execute_result"
    }
   ],
   "source": [
    "engine=pymongo.MongoClient('mongodb://localhost:27017')\n",
    "engine"
   ]
  },
  {
   "cell_type": "code",
   "execution_count": null,
   "id": "abb35a04",
   "metadata": {},
   "outputs": [],
   "source": [
    "connection > database > collection > documents > key: value"
   ]
  },
  {
   "cell_type": "markdown",
   "id": "43420798",
   "metadata": {},
   "source": [
    "### operations"
   ]
  },
  {
   "cell_type": "code",
   "execution_count": null,
   "id": "ad03e959",
   "metadata": {},
   "outputs": [],
   "source": [
    "1. create database\n",
    "2. create collection\n",
    "3. insert data\n",
    "4. read data\n",
    "5. update data\n",
    "6. delete data"
   ]
  },
  {
   "cell_type": "markdown",
   "id": "aeb9cc83",
   "metadata": {},
   "source": [
    "### create database/use database"
   ]
  },
  {
   "cell_type": "code",
   "execution_count": 6,
   "id": "a5677a97",
   "metadata": {},
   "outputs": [
    {
     "data": {
      "text/plain": [
       "Database(MongoClient(host=['localhost:27017'], document_class=dict, tz_aware=False, connect=True), 'db_test')"
      ]
     },
     "execution_count": 6,
     "metadata": {},
     "output_type": "execute_result"
    }
   ],
   "source": [
    "db=engine['db_test']\n",
    "db"
   ]
  },
  {
   "cell_type": "code",
   "execution_count": 7,
   "id": "7f5ad6a9",
   "metadata": {},
   "outputs": [
    {
     "data": {
      "text/plain": [
       "['admin', 'config', 'local']"
      ]
     },
     "execution_count": 7,
     "metadata": {},
     "output_type": "execute_result"
    }
   ],
   "source": [
    "engine.list_database_names()"
   ]
  },
  {
   "cell_type": "markdown",
   "id": "7f1fcd46",
   "metadata": {},
   "source": [
    "### create collection"
   ]
  },
  {
   "cell_type": "code",
   "execution_count": 8,
   "id": "594a7e6f",
   "metadata": {},
   "outputs": [
    {
     "data": {
      "text/plain": [
       "Collection(Database(MongoClient(host=['localhost:27017'], document_class=dict, tz_aware=False, connect=True), 'db_test'), 'emp_data')"
      ]
     },
     "execution_count": 8,
     "metadata": {},
     "output_type": "execute_result"
    }
   ],
   "source": [
    "mycoll=db['emp_data']\n",
    "mycoll"
   ]
  },
  {
   "cell_type": "code",
   "execution_count": 9,
   "id": "a3716391",
   "metadata": {},
   "outputs": [
    {
     "data": {
      "text/plain": [
       "[]"
      ]
     },
     "execution_count": 9,
     "metadata": {},
     "output_type": "execute_result"
    }
   ],
   "source": [
    "db.list_collection_names()"
   ]
  },
  {
   "cell_type": "markdown",
   "id": "4eae2250",
   "metadata": {},
   "source": [
    "### insert data"
   ]
  },
  {
   "cell_type": "raw",
   "id": "72e59f4b",
   "metadata": {},
   "source": [
    "insert_one() : insert a single document \n",
    "insert_many(): insert multiple documents "
   ]
  },
  {
   "cell_type": "markdown",
   "id": "c2a457ae",
   "metadata": {},
   "source": [
    "#### 1. insert_one()"
   ]
  },
  {
   "cell_type": "raw",
   "id": "51125359",
   "metadata": {},
   "source": [
    "collection_name.insert_one({key:values})"
   ]
  },
  {
   "cell_type": "code",
   "execution_count": 9,
   "id": "b067f182",
   "metadata": {},
   "outputs": [
    {
     "data": {
      "text/plain": [
       "<pymongo.results.InsertOneResult at 0x127713250>"
      ]
     },
     "execution_count": 9,
     "metadata": {},
     "output_type": "execute_result"
    }
   ],
   "source": [
    "mycoll.insert_one({'name':'rahul','salary':70000,'loc':'pune'})"
   ]
  },
  {
   "cell_type": "code",
   "execution_count": 10,
   "id": "aaeb2136",
   "metadata": {},
   "outputs": [
    {
     "data": {
      "text/plain": [
       "<pymongo.results.InsertOneResult at 0x12754d390>"
      ]
     },
     "execution_count": 10,
     "metadata": {},
     "output_type": "execute_result"
    }
   ],
   "source": [
    "mycoll.insert_one({'name':'rahul','salary':70000,'loc':'pune','contact':9867567867})"
   ]
  },
  {
   "cell_type": "code",
   "execution_count": 11,
   "id": "723062ab",
   "metadata": {},
   "outputs": [
    {
     "data": {
      "text/plain": [
       "<pymongo.results.InsertOneResult at 0x107a71d50>"
      ]
     },
     "execution_count": 11,
     "metadata": {},
     "output_type": "execute_result"
    }
   ],
   "source": [
    "mycoll.insert_one({'name':'rahul','salary':70000,'loc':'pune','contact':{'mob':9867567867,'email':'rahul@gmail.com'}})"
   ]
  },
  {
   "cell_type": "markdown",
   "id": "6d788429",
   "metadata": {},
   "source": [
    "#### insert_many()"
   ]
  },
  {
   "cell_type": "code",
   "execution_count": null,
   "id": "b2572d39",
   "metadata": {},
   "outputs": [],
   "source": [
    "collection_name.insert_many([{},{}])"
   ]
  },
  {
   "cell_type": "code",
   "execution_count": 12,
   "id": "b772aa08",
   "metadata": {},
   "outputs": [
    {
     "data": {
      "text/plain": [
       "<pymongo.results.InsertManyResult at 0x1276d0cd0>"
      ]
     },
     "execution_count": 12,
     "metadata": {},
     "output_type": "execute_result"
    }
   ],
   "source": [
    "mycoll.insert_many([{'name':'gaurav','salary':60000,'loc':'mumbai'},\n",
    "                 {'name':'rohit','salary':40000,'loc':'pune','contact':7276133569}])"
   ]
  },
  {
   "cell_type": "markdown",
   "id": "6e94e174",
   "metadata": {},
   "source": [
    "### read data"
   ]
  },
  {
   "cell_type": "raw",
   "id": "33fa87b2",
   "metadata": {},
   "source": [
    "find_one(): return/read a single document\n",
    "find():     return multiple documents"
   ]
  },
  {
   "cell_type": "markdown",
   "id": "234b4b1d",
   "metadata": {},
   "source": [
    "#### 1. find_one()"
   ]
  },
  {
   "cell_type": "code",
   "execution_count": null,
   "id": "63bc9ae3",
   "metadata": {},
   "outputs": [],
   "source": [
    "collection_name.find_one({where condition},{select})\n",
    "without filter condition : return the first document of the collection\n",
    "with filter condition    : returns the first matched document"
   ]
  },
  {
   "cell_type": "code",
   "execution_count": 13,
   "id": "f773acf9",
   "metadata": {},
   "outputs": [
    {
     "data": {
      "text/plain": [
       "{'_id': ObjectId('631a089f4ffa3d3cc270baab'),\n",
       " 'name': 'rahul',\n",
       " 'salary': 70000,\n",
       " 'loc': 'pune'}"
      ]
     },
     "execution_count": 13,
     "metadata": {},
     "output_type": "execute_result"
    }
   ],
   "source": [
    "mycoll.find_one({})"
   ]
  },
  {
   "cell_type": "code",
   "execution_count": 14,
   "id": "d638bb35",
   "metadata": {},
   "outputs": [
    {
     "data": {
      "text/plain": [
       "{'_id': ObjectId('631a089f4ffa3d3cc270baab'),\n",
       " 'name': 'rahul',\n",
       " 'salary': 70000,\n",
       " 'loc': 'pune'}"
      ]
     },
     "execution_count": 14,
     "metadata": {},
     "output_type": "execute_result"
    }
   ],
   "source": [
    "mycoll.find_one({'name':'rahul'})"
   ]
  },
  {
   "cell_type": "code",
   "execution_count": 16,
   "id": "86110551",
   "metadata": {},
   "outputs": [
    {
     "data": {
      "text/plain": [
       "{'_id': ObjectId('631a09ee4ffa3d3cc270baae'),\n",
       " 'name': 'gaurav',\n",
       " 'salary': 60000,\n",
       " 'loc': 'mumbai'}"
      ]
     },
     "execution_count": 16,
     "metadata": {},
     "output_type": "execute_result"
    }
   ],
   "source": [
    "mycoll.find_one({'loc':'mumbai'})"
   ]
  },
  {
   "cell_type": "code",
   "execution_count": 17,
   "id": "9a4d3150",
   "metadata": {},
   "outputs": [
    {
     "data": {
      "text/plain": [
       "{'name': 'rahul', 'salary': 70000, 'loc': 'pune'}"
      ]
     },
     "execution_count": 17,
     "metadata": {},
     "output_type": "execute_result"
    }
   ],
   "source": [
    "mycoll.find_one({'name':'rahul'},{'_id':0})"
   ]
  },
  {
   "cell_type": "code",
   "execution_count": 18,
   "id": "e48f0399",
   "metadata": {},
   "outputs": [
    {
     "data": {
      "text/plain": [
       "{'salary': 70000, 'loc': 'pune'}"
      ]
     },
     "execution_count": 18,
     "metadata": {},
     "output_type": "execute_result"
    }
   ],
   "source": [
    "mycoll.find_one({'name':'rahul'},{'_id':0,'name':0})"
   ]
  },
  {
   "cell_type": "code",
   "execution_count": 20,
   "id": "b8c37090",
   "metadata": {},
   "outputs": [
    {
     "data": {
      "text/plain": [
       "{'_id': ObjectId('631a089f4ffa3d3cc270baab'), 'name': 'rahul'}"
      ]
     },
     "execution_count": 20,
     "metadata": {},
     "output_type": "execute_result"
    }
   ],
   "source": [
    "mycoll.find_one({'name':'rahul'},{'name':1})"
   ]
  },
  {
   "cell_type": "code",
   "execution_count": 22,
   "id": "1e33bf6d",
   "metadata": {},
   "outputs": [
    {
     "ename": "OperationFailure",
     "evalue": "Cannot do exclusion on field loc in inclusion projection, full error: {'ok': 0.0, 'errmsg': 'Cannot do exclusion on field loc in inclusion projection', 'code': 31254, 'codeName': 'Location31254'}",
     "output_type": "error",
     "traceback": [
      "\u001b[0;31m---------------------------------------------------------------------------\u001b[0m",
      "\u001b[0;31mOperationFailure\u001b[0m                          Traceback (most recent call last)",
      "Input \u001b[0;32mIn [22]\u001b[0m, in \u001b[0;36m<cell line: 1>\u001b[0;34m()\u001b[0m\n\u001b[0;32m----> 1\u001b[0m \u001b[43mmycoll\u001b[49m\u001b[38;5;241;43m.\u001b[39;49m\u001b[43mfind_one\u001b[49m\u001b[43m(\u001b[49m\u001b[43m{\u001b[49m\u001b[38;5;124;43m'\u001b[39;49m\u001b[38;5;124;43mname\u001b[39;49m\u001b[38;5;124;43m'\u001b[39;49m\u001b[43m:\u001b[49m\u001b[38;5;124;43m'\u001b[39;49m\u001b[38;5;124;43mrahul\u001b[39;49m\u001b[38;5;124;43m'\u001b[39;49m\u001b[43m}\u001b[49m\u001b[43m,\u001b[49m\u001b[43m{\u001b[49m\u001b[38;5;124;43m'\u001b[39;49m\u001b[38;5;124;43m_id\u001b[39;49m\u001b[38;5;124;43m'\u001b[39;49m\u001b[43m:\u001b[49m\u001b[38;5;241;43m0\u001b[39;49m\u001b[43m,\u001b[49m\u001b[38;5;124;43m'\u001b[39;49m\u001b[38;5;124;43mname\u001b[39;49m\u001b[38;5;124;43m'\u001b[39;49m\u001b[43m:\u001b[49m\u001b[38;5;241;43m1\u001b[39;49m\u001b[43m,\u001b[49m\u001b[38;5;124;43m'\u001b[39;49m\u001b[38;5;124;43mloc\u001b[39;49m\u001b[38;5;124;43m'\u001b[39;49m\u001b[43m:\u001b[49m\u001b[38;5;241;43m0\u001b[39;49m\u001b[43m}\u001b[49m\u001b[43m)\u001b[49m\n",
      "File \u001b[0;32m/Library/Frameworks/Python.framework/Versions/3.10/lib/python3.10/site-packages/pymongo/collection.py:1419\u001b[0m, in \u001b[0;36mCollection.find_one\u001b[0;34m(self, filter, *args, **kwargs)\u001b[0m\n\u001b[1;32m   1417\u001b[0m     \u001b[38;5;28mfilter\u001b[39m \u001b[38;5;241m=\u001b[39m {\u001b[38;5;124m\"\u001b[39m\u001b[38;5;124m_id\u001b[39m\u001b[38;5;124m\"\u001b[39m: \u001b[38;5;28mfilter\u001b[39m}\n\u001b[1;32m   1418\u001b[0m cursor \u001b[38;5;241m=\u001b[39m \u001b[38;5;28mself\u001b[39m\u001b[38;5;241m.\u001b[39mfind(\u001b[38;5;28mfilter\u001b[39m, \u001b[38;5;241m*\u001b[39margs, \u001b[38;5;241m*\u001b[39m\u001b[38;5;241m*\u001b[39mkwargs)\n\u001b[0;32m-> 1419\u001b[0m \u001b[38;5;28;01mfor\u001b[39;00m result \u001b[38;5;129;01min\u001b[39;00m cursor\u001b[38;5;241m.\u001b[39mlimit(\u001b[38;5;241m-\u001b[39m\u001b[38;5;241m1\u001b[39m):\n\u001b[1;32m   1420\u001b[0m     \u001b[38;5;28;01mreturn\u001b[39;00m result\n\u001b[1;32m   1421\u001b[0m \u001b[38;5;28;01mreturn\u001b[39;00m \u001b[38;5;28;01mNone\u001b[39;00m\n",
      "File \u001b[0;32m/Library/Frameworks/Python.framework/Versions/3.10/lib/python3.10/site-packages/pymongo/cursor.py:1248\u001b[0m, in \u001b[0;36mCursor.next\u001b[0;34m(self)\u001b[0m\n\u001b[1;32m   1246\u001b[0m \u001b[38;5;28;01mif\u001b[39;00m \u001b[38;5;28mself\u001b[39m\u001b[38;5;241m.\u001b[39m__empty:\n\u001b[1;32m   1247\u001b[0m     \u001b[38;5;28;01mraise\u001b[39;00m \u001b[38;5;167;01mStopIteration\u001b[39;00m\n\u001b[0;32m-> 1248\u001b[0m \u001b[38;5;28;01mif\u001b[39;00m \u001b[38;5;28mlen\u001b[39m(\u001b[38;5;28mself\u001b[39m\u001b[38;5;241m.\u001b[39m__data) \u001b[38;5;129;01mor\u001b[39;00m \u001b[38;5;28;43mself\u001b[39;49m\u001b[38;5;241;43m.\u001b[39;49m\u001b[43m_refresh\u001b[49m\u001b[43m(\u001b[49m\u001b[43m)\u001b[49m:\n\u001b[1;32m   1249\u001b[0m     \u001b[38;5;28;01mreturn\u001b[39;00m \u001b[38;5;28mself\u001b[39m\u001b[38;5;241m.\u001b[39m__data\u001b[38;5;241m.\u001b[39mpopleft()\n\u001b[1;32m   1250\u001b[0m \u001b[38;5;28;01melse\u001b[39;00m:\n",
      "File \u001b[0;32m/Library/Frameworks/Python.framework/Versions/3.10/lib/python3.10/site-packages/pymongo/cursor.py:1165\u001b[0m, in \u001b[0;36mCursor._refresh\u001b[0;34m(self)\u001b[0m\n\u001b[1;32m   1143\u001b[0m         \u001b[38;5;28;01mraise\u001b[39;00m InvalidOperation(\n\u001b[1;32m   1144\u001b[0m             \u001b[38;5;124m\"\u001b[39m\u001b[38;5;124mPassing a \u001b[39m\u001b[38;5;124m'\u001b[39m\u001b[38;5;124mhint\u001b[39m\u001b[38;5;124m'\u001b[39m\u001b[38;5;124m is required when using the min/max query\u001b[39m\u001b[38;5;124m\"\u001b[39m\n\u001b[1;32m   1145\u001b[0m             \u001b[38;5;124m\"\u001b[39m\u001b[38;5;124m option to ensure the query utilizes the correct index\u001b[39m\u001b[38;5;124m\"\u001b[39m\n\u001b[1;32m   1146\u001b[0m         )\n\u001b[1;32m   1147\u001b[0m     q \u001b[38;5;241m=\u001b[39m \u001b[38;5;28mself\u001b[39m\u001b[38;5;241m.\u001b[39m_query_class(\n\u001b[1;32m   1148\u001b[0m         \u001b[38;5;28mself\u001b[39m\u001b[38;5;241m.\u001b[39m__query_flags,\n\u001b[1;32m   1149\u001b[0m         \u001b[38;5;28mself\u001b[39m\u001b[38;5;241m.\u001b[39m__collection\u001b[38;5;241m.\u001b[39mdatabase\u001b[38;5;241m.\u001b[39mname,\n\u001b[0;32m   (...)\u001b[0m\n\u001b[1;32m   1163\u001b[0m         \u001b[38;5;28mself\u001b[39m\u001b[38;5;241m.\u001b[39m__exhaust,\n\u001b[1;32m   1164\u001b[0m     )\n\u001b[0;32m-> 1165\u001b[0m     \u001b[38;5;28;43mself\u001b[39;49m\u001b[38;5;241;43m.\u001b[39;49m\u001b[43m__send_message\u001b[49m\u001b[43m(\u001b[49m\u001b[43mq\u001b[49m\u001b[43m)\u001b[49m\n\u001b[1;32m   1166\u001b[0m \u001b[38;5;28;01melif\u001b[39;00m \u001b[38;5;28mself\u001b[39m\u001b[38;5;241m.\u001b[39m__id:  \u001b[38;5;66;03m# Get More\u001b[39;00m\n\u001b[1;32m   1167\u001b[0m     \u001b[38;5;28;01mif\u001b[39;00m \u001b[38;5;28mself\u001b[39m\u001b[38;5;241m.\u001b[39m__limit:\n",
      "File \u001b[0;32m/Library/Frameworks/Python.framework/Versions/3.10/lib/python3.10/site-packages/pymongo/cursor.py:1052\u001b[0m, in \u001b[0;36mCursor.__send_message\u001b[0;34m(self, operation)\u001b[0m\n\u001b[1;32m   1049\u001b[0m     \u001b[38;5;28;01mraise\u001b[39;00m InvalidOperation(\u001b[38;5;124m\"\u001b[39m\u001b[38;5;124mexhaust cursors do not support auto encryption\u001b[39m\u001b[38;5;124m\"\u001b[39m)\n\u001b[1;32m   1051\u001b[0m \u001b[38;5;28;01mtry\u001b[39;00m:\n\u001b[0;32m-> 1052\u001b[0m     response \u001b[38;5;241m=\u001b[39m \u001b[43mclient\u001b[49m\u001b[38;5;241;43m.\u001b[39;49m\u001b[43m_run_operation\u001b[49m\u001b[43m(\u001b[49m\n\u001b[1;32m   1053\u001b[0m \u001b[43m        \u001b[49m\u001b[43moperation\u001b[49m\u001b[43m,\u001b[49m\u001b[43m \u001b[49m\u001b[38;5;28;43mself\u001b[39;49m\u001b[38;5;241;43m.\u001b[39;49m\u001b[43m_unpack_response\u001b[49m\u001b[43m,\u001b[49m\u001b[43m \u001b[49m\u001b[43maddress\u001b[49m\u001b[38;5;241;43m=\u001b[39;49m\u001b[38;5;28;43mself\u001b[39;49m\u001b[38;5;241;43m.\u001b[39;49m\u001b[43m__address\u001b[49m\n\u001b[1;32m   1054\u001b[0m \u001b[43m    \u001b[49m\u001b[43m)\u001b[49m\n\u001b[1;32m   1055\u001b[0m \u001b[38;5;28;01mexcept\u001b[39;00m OperationFailure \u001b[38;5;28;01mas\u001b[39;00m exc:\n\u001b[1;32m   1056\u001b[0m     \u001b[38;5;28;01mif\u001b[39;00m exc\u001b[38;5;241m.\u001b[39mcode \u001b[38;5;129;01min\u001b[39;00m _CURSOR_CLOSED_ERRORS \u001b[38;5;129;01mor\u001b[39;00m \u001b[38;5;28mself\u001b[39m\u001b[38;5;241m.\u001b[39m__exhaust:\n\u001b[1;32m   1057\u001b[0m         \u001b[38;5;66;03m# Don't send killCursors because the cursor is already closed.\u001b[39;00m\n",
      "File \u001b[0;32m/Library/Frameworks/Python.framework/Versions/3.10/lib/python3.10/site-packages/pymongo/mongo_client.py:1267\u001b[0m, in \u001b[0;36mMongoClient._run_operation\u001b[0;34m(self, operation, unpack_res, address)\u001b[0m\n\u001b[1;32m   1262\u001b[0m \u001b[38;5;28;01mdef\u001b[39;00m \u001b[38;5;21m_cmd\u001b[39m(session, server, sock_info, read_preference):\n\u001b[1;32m   1263\u001b[0m     \u001b[38;5;28;01mreturn\u001b[39;00m server\u001b[38;5;241m.\u001b[39mrun_operation(\n\u001b[1;32m   1264\u001b[0m         sock_info, operation, read_preference, \u001b[38;5;28mself\u001b[39m\u001b[38;5;241m.\u001b[39m_event_listeners, unpack_res\n\u001b[1;32m   1265\u001b[0m     )\n\u001b[0;32m-> 1267\u001b[0m \u001b[38;5;28;01mreturn\u001b[39;00m \u001b[38;5;28;43mself\u001b[39;49m\u001b[38;5;241;43m.\u001b[39;49m\u001b[43m_retryable_read\u001b[49m\u001b[43m(\u001b[49m\n\u001b[1;32m   1268\u001b[0m \u001b[43m    \u001b[49m\u001b[43m_cmd\u001b[49m\u001b[43m,\u001b[49m\n\u001b[1;32m   1269\u001b[0m \u001b[43m    \u001b[49m\u001b[43moperation\u001b[49m\u001b[38;5;241;43m.\u001b[39;49m\u001b[43mread_preference\u001b[49m\u001b[43m,\u001b[49m\n\u001b[1;32m   1270\u001b[0m \u001b[43m    \u001b[49m\u001b[43moperation\u001b[49m\u001b[38;5;241;43m.\u001b[39;49m\u001b[43msession\u001b[49m\u001b[43m,\u001b[49m\n\u001b[1;32m   1271\u001b[0m \u001b[43m    \u001b[49m\u001b[43maddress\u001b[49m\u001b[38;5;241;43m=\u001b[39;49m\u001b[43maddress\u001b[49m\u001b[43m,\u001b[49m\n\u001b[1;32m   1272\u001b[0m \u001b[43m    \u001b[49m\u001b[43mretryable\u001b[49m\u001b[38;5;241;43m=\u001b[39;49m\u001b[38;5;28;43misinstance\u001b[39;49m\u001b[43m(\u001b[49m\u001b[43moperation\u001b[49m\u001b[43m,\u001b[49m\u001b[43m \u001b[49m\u001b[43mmessage\u001b[49m\u001b[38;5;241;43m.\u001b[39;49m\u001b[43m_Query\u001b[49m\u001b[43m)\u001b[49m\u001b[43m,\u001b[49m\n\u001b[1;32m   1273\u001b[0m \u001b[43m\u001b[49m\u001b[43m)\u001b[49m\n",
      "File \u001b[0;32m/Library/Frameworks/Python.framework/Versions/3.10/lib/python3.10/site-packages/pymongo/mongo_client.py:1371\u001b[0m, in \u001b[0;36mMongoClient._retryable_read\u001b[0;34m(self, func, read_pref, session, address, retryable)\u001b[0m\n\u001b[1;32m   1369\u001b[0m             \u001b[38;5;28;01massert\u001b[39;00m last_error \u001b[38;5;129;01mis\u001b[39;00m \u001b[38;5;129;01mnot\u001b[39;00m \u001b[38;5;28;01mNone\u001b[39;00m\n\u001b[1;32m   1370\u001b[0m             \u001b[38;5;28;01mraise\u001b[39;00m last_error\n\u001b[0;32m-> 1371\u001b[0m         \u001b[38;5;28;01mreturn\u001b[39;00m \u001b[43mfunc\u001b[49m\u001b[43m(\u001b[49m\u001b[43msession\u001b[49m\u001b[43m,\u001b[49m\u001b[43m \u001b[49m\u001b[43mserver\u001b[49m\u001b[43m,\u001b[49m\u001b[43m \u001b[49m\u001b[43msock_info\u001b[49m\u001b[43m,\u001b[49m\u001b[43m \u001b[49m\u001b[43mread_pref\u001b[49m\u001b[43m)\u001b[49m\n\u001b[1;32m   1372\u001b[0m \u001b[38;5;28;01mexcept\u001b[39;00m ServerSelectionTimeoutError:\n\u001b[1;32m   1373\u001b[0m     \u001b[38;5;28;01mif\u001b[39;00m retrying:\n\u001b[1;32m   1374\u001b[0m         \u001b[38;5;66;03m# The application may think the write was never attempted\u001b[39;00m\n\u001b[1;32m   1375\u001b[0m         \u001b[38;5;66;03m# if we raise ServerSelectionTimeoutError on the retry\u001b[39;00m\n\u001b[1;32m   1376\u001b[0m         \u001b[38;5;66;03m# attempt. Raise the original exception instead.\u001b[39;00m\n",
      "File \u001b[0;32m/Library/Frameworks/Python.framework/Versions/3.10/lib/python3.10/site-packages/pymongo/mongo_client.py:1263\u001b[0m, in \u001b[0;36mMongoClient._run_operation.<locals>._cmd\u001b[0;34m(session, server, sock_info, read_preference)\u001b[0m\n\u001b[1;32m   1262\u001b[0m \u001b[38;5;28;01mdef\u001b[39;00m \u001b[38;5;21m_cmd\u001b[39m(session, server, sock_info, read_preference):\n\u001b[0;32m-> 1263\u001b[0m     \u001b[38;5;28;01mreturn\u001b[39;00m \u001b[43mserver\u001b[49m\u001b[38;5;241;43m.\u001b[39;49m\u001b[43mrun_operation\u001b[49m\u001b[43m(\u001b[49m\n\u001b[1;32m   1264\u001b[0m \u001b[43m        \u001b[49m\u001b[43msock_info\u001b[49m\u001b[43m,\u001b[49m\u001b[43m \u001b[49m\u001b[43moperation\u001b[49m\u001b[43m,\u001b[49m\u001b[43m \u001b[49m\u001b[43mread_preference\u001b[49m\u001b[43m,\u001b[49m\u001b[43m \u001b[49m\u001b[38;5;28;43mself\u001b[39;49m\u001b[38;5;241;43m.\u001b[39;49m\u001b[43m_event_listeners\u001b[49m\u001b[43m,\u001b[49m\u001b[43m \u001b[49m\u001b[43munpack_res\u001b[49m\n\u001b[1;32m   1265\u001b[0m \u001b[43m    \u001b[49m\u001b[43m)\u001b[49m\n",
      "File \u001b[0;32m/Library/Frameworks/Python.framework/Versions/3.10/lib/python3.10/site-packages/pymongo/server.py:134\u001b[0m, in \u001b[0;36mServer.run_operation\u001b[0;34m(self, sock_info, operation, read_preference, listeners, unpack_res)\u001b[0m\n\u001b[1;32m    132\u001b[0m         first \u001b[38;5;241m=\u001b[39m docs[\u001b[38;5;241m0\u001b[39m]\n\u001b[1;32m    133\u001b[0m         operation\u001b[38;5;241m.\u001b[39mclient\u001b[38;5;241m.\u001b[39m_process_response(first, operation\u001b[38;5;241m.\u001b[39msession)\n\u001b[0;32m--> 134\u001b[0m         \u001b[43m_check_command_response\u001b[49m\u001b[43m(\u001b[49m\u001b[43mfirst\u001b[49m\u001b[43m,\u001b[49m\u001b[43m \u001b[49m\u001b[43msock_info\u001b[49m\u001b[38;5;241;43m.\u001b[39;49m\u001b[43mmax_wire_version\u001b[49m\u001b[43m)\u001b[49m\n\u001b[1;32m    135\u001b[0m \u001b[38;5;28;01mexcept\u001b[39;00m \u001b[38;5;167;01mException\u001b[39;00m \u001b[38;5;28;01mas\u001b[39;00m exc:\n\u001b[1;32m    136\u001b[0m     \u001b[38;5;28;01mif\u001b[39;00m publish:\n",
      "File \u001b[0;32m/Library/Frameworks/Python.framework/Versions/3.10/lib/python3.10/site-packages/pymongo/helpers.py:180\u001b[0m, in \u001b[0;36m_check_command_response\u001b[0;34m(response, max_wire_version, allowable_errors, parse_write_concern_error)\u001b[0m\n\u001b[1;32m    177\u001b[0m \u001b[38;5;28;01melif\u001b[39;00m code \u001b[38;5;241m==\u001b[39m \u001b[38;5;241m43\u001b[39m:\n\u001b[1;32m    178\u001b[0m     \u001b[38;5;28;01mraise\u001b[39;00m CursorNotFound(errmsg, code, response, max_wire_version)\n\u001b[0;32m--> 180\u001b[0m \u001b[38;5;28;01mraise\u001b[39;00m OperationFailure(errmsg, code, response, max_wire_version)\n",
      "\u001b[0;31mOperationFailure\u001b[0m: Cannot do exclusion on field loc in inclusion projection, full error: {'ok': 0.0, 'errmsg': 'Cannot do exclusion on field loc in inclusion projection', 'code': 31254, 'codeName': 'Location31254'}"
     ]
    }
   ],
   "source": [
    "mycoll.find_one({'name':'rahul'},{'_id':0,'name':1,'loc':0})"
   ]
  },
  {
   "cell_type": "raw",
   "id": "03e99bf2",
   "metadata": {},
   "source": [
    "20 keys : read 4 keys : specify 1 for these 4 keys\n",
    "20 keys : skip 4 keys : specify 0 for these 4 keys "
   ]
  },
  {
   "cell_type": "markdown",
   "id": "f0642bc1",
   "metadata": {},
   "source": [
    "#### 2. find()"
   ]
  },
  {
   "cell_type": "code",
   "execution_count": null,
   "id": "6b3bd036",
   "metadata": {},
   "outputs": [],
   "source": [
    "collection_name.find({where condition},{select})\n",
    "without filter condition : return all documents of the collection\n",
    "with filter condition    : returns all matched document"
   ]
  },
  {
   "cell_type": "code",
   "execution_count": 24,
   "id": "f8627246",
   "metadata": {},
   "outputs": [
    {
     "data": {
      "text/plain": [
       "[{'name': 'rahul', 'salary': 70000, 'loc': 'pune'},\n",
       " {'name': 'rahul', 'salary': 70000, 'loc': 'pune', 'contact': 9867567867},\n",
       " {'name': 'rahul',\n",
       "  'salary': 70000,\n",
       "  'loc': 'pune',\n",
       "  'contact': {'mob': 9867567867, 'email': 'rahul@gmail.com'}},\n",
       " {'name': 'gaurav', 'salary': 60000, 'loc': 'mumbai'},\n",
       " {'name': 'rohit', 'salary': 40000, 'loc': 'pune', 'contact': 7276133569}]"
      ]
     },
     "execution_count": 24,
     "metadata": {},
     "output_type": "execute_result"
    }
   ],
   "source": [
    "data=mycoll.find({},{'_id':0})\n",
    "list(data)"
   ]
  },
  {
   "cell_type": "code",
   "execution_count": 25,
   "id": "51e69216",
   "metadata": {},
   "outputs": [
    {
     "data": {
      "text/plain": [
       "[{'name': 'rahul', 'salary': 70000, 'loc': 'pune'},\n",
       " {'name': 'rahul', 'salary': 70000, 'loc': 'pune', 'contact': 9867567867},\n",
       " {'name': 'rahul',\n",
       "  'salary': 70000,\n",
       "  'loc': 'pune',\n",
       "  'contact': {'mob': 9867567867, 'email': 'rahul@gmail.com'}}]"
      ]
     },
     "execution_count": 25,
     "metadata": {},
     "output_type": "execute_result"
    }
   ],
   "source": [
    "data=mycoll.find({'name':'rahul'},{'_id':0})\n",
    "list(data)"
   ]
  },
  {
   "cell_type": "code",
   "execution_count": 26,
   "id": "7bcf9eb9",
   "metadata": {},
   "outputs": [
    {
     "data": {
      "text/plain": [
       "[{'name': 'rahul', 'salary': 70000, 'loc': 'pune'},\n",
       " {'name': 'rahul', 'salary': 70000, 'loc': 'pune', 'contact': 9867567867},\n",
       " {'name': 'rahul',\n",
       "  'salary': 70000,\n",
       "  'loc': 'pune',\n",
       "  'contact': {'mob': 9867567867, 'email': 'rahul@gmail.com'}},\n",
       " {'name': 'rohit', 'salary': 40000, 'loc': 'pune', 'contact': 7276133569}]"
      ]
     },
     "execution_count": 26,
     "metadata": {},
     "output_type": "execute_result"
    }
   ],
   "source": [
    "data=mycoll.find({'loc':'pune'},{'_id':0})\n",
    "list(data)"
   ]
  },
  {
   "cell_type": "markdown",
   "id": "caa1b899",
   "metadata": {},
   "source": [
    "### update data"
   ]
  },
  {
   "cell_type": "raw",
   "id": "6e71ceaf",
   "metadata": {},
   "source": [
    "update_one(): will update a single document\n",
    "update_many() : will update multiple documents"
   ]
  },
  {
   "cell_type": "markdown",
   "id": "3f8862b8",
   "metadata": {},
   "source": [
    "#### update_one()"
   ]
  },
  {
   "cell_type": "code",
   "execution_count": null,
   "id": "28143801",
   "metadata": {},
   "outputs": [],
   "source": [
    "collection_name.update_one({filter condtion},{'$set'}:{key:value})\n",
    "without filter condition : update the first document of the collection\n",
    "with filter condition    : update the first matched document"
   ]
  },
  {
   "cell_type": "code",
   "execution_count": 27,
   "id": "dceb705c",
   "metadata": {},
   "outputs": [
    {
     "data": {
      "text/plain": [
       "<pymongo.results.UpdateResult at 0x127726230>"
      ]
     },
     "execution_count": 27,
     "metadata": {},
     "output_type": "execute_result"
    }
   ],
   "source": [
    "mycoll.update_one({},{'$set':{'salary':90000}})"
   ]
  },
  {
   "cell_type": "code",
   "execution_count": 28,
   "id": "ca65bbcc",
   "metadata": {},
   "outputs": [
    {
     "data": {
      "text/plain": [
       "<pymongo.results.UpdateResult at 0x107d21a20>"
      ]
     },
     "execution_count": 28,
     "metadata": {},
     "output_type": "execute_result"
    }
   ],
   "source": [
    "mycoll.update_one({'name':'rahul'},{'$set':{'loc':'chennai'}})"
   ]
  },
  {
   "cell_type": "code",
   "execution_count": 29,
   "id": "26180edd",
   "metadata": {},
   "outputs": [
    {
     "data": {
      "text/plain": [
       "<pymongo.results.UpdateResult at 0x1277a2d40>"
      ]
     },
     "execution_count": 29,
     "metadata": {},
     "output_type": "execute_result"
    }
   ],
   "source": [
    "mycoll.update_one({'name':'rahul'},{'$set':{'contact':9067563456}})"
   ]
  },
  {
   "cell_type": "markdown",
   "id": "4362932f",
   "metadata": {},
   "source": [
    "#### update_many()"
   ]
  },
  {
   "cell_type": "code",
   "execution_count": null,
   "id": "c0cf2daa",
   "metadata": {},
   "outputs": [],
   "source": [
    "collection_name.update_many({filter condition},{'$set':{'key':value}})\n",
    "without filter condition : updates all documents of the collection\n",
    "with filter condition    : update all matched document"
   ]
  },
  {
   "cell_type": "code",
   "execution_count": 30,
   "id": "e9354ccb",
   "metadata": {},
   "outputs": [
    {
     "data": {
      "text/plain": [
       "<pymongo.results.UpdateResult at 0x127758bb0>"
      ]
     },
     "execution_count": 30,
     "metadata": {},
     "output_type": "execute_result"
    }
   ],
   "source": [
    "mycoll.update_many({'name':'rahul'},{'$set':{'loc':'blr'}})"
   ]
  },
  {
   "cell_type": "code",
   "execution_count": 31,
   "id": "2ea84912",
   "metadata": {},
   "outputs": [
    {
     "data": {
      "text/plain": [
       "<pymongo.results.UpdateResult at 0x1276fa080>"
      ]
     },
     "execution_count": 31,
     "metadata": {},
     "output_type": "execute_result"
    }
   ],
   "source": [
    "mycoll.update_many({},{'$set':{'loc':'chennai'}})"
   ]
  },
  {
   "cell_type": "markdown",
   "id": "19059d0b",
   "metadata": {},
   "source": [
    "#### sort"
   ]
  },
  {
   "cell_type": "code",
   "execution_count": 33,
   "id": "3c9f1c31",
   "metadata": {},
   "outputs": [
    {
     "data": {
      "text/plain": [
       "[{'name': 'rohit', 'salary': 40000, 'loc': 'chennai', 'contact': 7276133569},\n",
       " {'name': 'gaurav', 'salary': 60000, 'loc': 'chennai'},\n",
       " {'name': 'rahul', 'salary': 70000, 'loc': 'chennai', 'contact': 9867567867},\n",
       " {'name': 'rahul',\n",
       "  'salary': 70000,\n",
       "  'loc': 'chennai',\n",
       "  'contact': {'mob': 9867567867, 'email': 'rahul@gmail.com'}},\n",
       " {'name': 'rahul', 'salary': 90000, 'loc': 'chennai', 'contact': 9067563456}]"
      ]
     },
     "execution_count": 33,
     "metadata": {},
     "output_type": "execute_result"
    }
   ],
   "source": [
    "data=mycoll.find({},{'_id':0}).sort('salary')\n",
    "list(data)"
   ]
  },
  {
   "cell_type": "code",
   "execution_count": 34,
   "id": "fe9d1654",
   "metadata": {},
   "outputs": [
    {
     "data": {
      "text/plain": [
       "[{'name': 'rahul', 'salary': 90000, 'loc': 'chennai', 'contact': 9067563456},\n",
       " {'name': 'rahul', 'salary': 70000, 'loc': 'chennai', 'contact': 9867567867},\n",
       " {'name': 'rahul',\n",
       "  'salary': 70000,\n",
       "  'loc': 'chennai',\n",
       "  'contact': {'mob': 9867567867, 'email': 'rahul@gmail.com'}},\n",
       " {'name': 'gaurav', 'salary': 60000, 'loc': 'chennai'},\n",
       " {'name': 'rohit', 'salary': 40000, 'loc': 'chennai', 'contact': 7276133569}]"
      ]
     },
     "execution_count": 34,
     "metadata": {},
     "output_type": "execute_result"
    }
   ],
   "source": [
    "data=mycoll.find({},{'_id':0}).sort('salary',-1)\n",
    "list(data)"
   ]
  },
  {
   "cell_type": "markdown",
   "id": "8e3f8fb1",
   "metadata": {},
   "source": [
    "### limit()"
   ]
  },
  {
   "cell_type": "code",
   "execution_count": 35,
   "id": "42fc7bdf",
   "metadata": {},
   "outputs": [
    {
     "data": {
      "text/plain": [
       "[{'_id': ObjectId('631a089f4ffa3d3cc270baab'),\n",
       "  'name': 'rahul',\n",
       "  'salary': 90000,\n",
       "  'loc': 'chennai',\n",
       "  'contact': 9067563456},\n",
       " {'_id': ObjectId('631a08f34ffa3d3cc270baac'),\n",
       "  'name': 'rahul',\n",
       "  'salary': 70000,\n",
       "  'loc': 'chennai',\n",
       "  'contact': 9867567867}]"
      ]
     },
     "execution_count": 35,
     "metadata": {},
     "output_type": "execute_result"
    }
   ],
   "source": [
    "data=mycoll.find({}).limit(2)\n",
    "list(data)"
   ]
  },
  {
   "cell_type": "markdown",
   "id": "cdc6a24f",
   "metadata": {},
   "source": [
    "### skip()"
   ]
  },
  {
   "cell_type": "code",
   "execution_count": 36,
   "id": "04160af0",
   "metadata": {},
   "outputs": [
    {
     "data": {
      "text/plain": [
       "[{'_id': ObjectId('631a09314ffa3d3cc270baad'),\n",
       "  'name': 'rahul',\n",
       "  'salary': 70000,\n",
       "  'loc': 'chennai',\n",
       "  'contact': {'mob': 9867567867, 'email': 'rahul@gmail.com'}},\n",
       " {'_id': ObjectId('631a09ee4ffa3d3cc270baae'),\n",
       "  'name': 'gaurav',\n",
       "  'salary': 60000,\n",
       "  'loc': 'chennai'}]"
      ]
     },
     "execution_count": 36,
     "metadata": {},
     "output_type": "execute_result"
    }
   ],
   "source": [
    "data=mycoll.find({}).limit(2).skip(2)\n",
    "list(data)"
   ]
  },
  {
   "cell_type": "markdown",
   "id": "8d1d7c0a",
   "metadata": {},
   "source": [
    "### delete data"
   ]
  },
  {
   "cell_type": "raw",
   "id": "16af1834",
   "metadata": {},
   "source": [
    "delete_one(): deletes a single document\n",
    "delete_many():delete multiple documents"
   ]
  },
  {
   "cell_type": "markdown",
   "id": "98ba1190",
   "metadata": {},
   "source": [
    "#### 1. delete_one()"
   ]
  },
  {
   "cell_type": "code",
   "execution_count": null,
   "id": "abb6ac9c",
   "metadata": {},
   "outputs": [],
   "source": [
    "collection_name.delete_one({filter condtion})\n",
    "without filter condition : delete the first document of the collection\n",
    "with filter condition    : delete the first matched document"
   ]
  },
  {
   "cell_type": "code",
   "execution_count": 37,
   "id": "eb1b2a75",
   "metadata": {},
   "outputs": [
    {
     "data": {
      "text/plain": [
       "<pymongo.results.DeleteResult at 0x12773c040>"
      ]
     },
     "execution_count": 37,
     "metadata": {},
     "output_type": "execute_result"
    }
   ],
   "source": [
    "mycoll.delete_one({})"
   ]
  },
  {
   "cell_type": "code",
   "execution_count": 38,
   "id": "f05c62bb",
   "metadata": {},
   "outputs": [
    {
     "data": {
      "text/plain": [
       "<pymongo.results.DeleteResult at 0x1277b5690>"
      ]
     },
     "execution_count": 38,
     "metadata": {},
     "output_type": "execute_result"
    }
   ],
   "source": [
    "mycoll.delete_one({'loc':'chennai'})"
   ]
  },
  {
   "cell_type": "markdown",
   "id": "5894e84f",
   "metadata": {},
   "source": [
    "#### 2. delete_many()"
   ]
  },
  {
   "cell_type": "code",
   "execution_count": null,
   "id": "0a49f591",
   "metadata": {},
   "outputs": [],
   "source": [
    "collection_name.delete_many({filter condition})\n",
    "without filter condition : delete all documents of the collection\n",
    "with filter condition    : delete all matched document"
   ]
  },
  {
   "cell_type": "code",
   "execution_count": 40,
   "id": "901514b1",
   "metadata": {},
   "outputs": [
    {
     "data": {
      "text/plain": [
       "<pymongo.results.DeleteResult at 0x127712b00>"
      ]
     },
     "execution_count": 40,
     "metadata": {},
     "output_type": "execute_result"
    }
   ],
   "source": [
    "mycoll.delete_many({'name':'rahul'})"
   ]
  },
  {
   "cell_type": "code",
   "execution_count": null,
   "id": "8a72d186",
   "metadata": {},
   "outputs": [],
   "source": [
    "mycoll.delete_many({})"
   ]
  },
  {
   "cell_type": "markdown",
   "id": "faed156d",
   "metadata": {},
   "source": [
    "### delete a collection"
   ]
  },
  {
   "cell_type": "code",
   "execution_count": 41,
   "id": "77a74493",
   "metadata": {},
   "outputs": [],
   "source": [
    "mycoll.drop()"
   ]
  },
  {
   "cell_type": "markdown",
   "id": "5aafd987",
   "metadata": {},
   "source": [
    "### delete database"
   ]
  },
  {
   "cell_type": "code",
   "execution_count": null,
   "id": "10f0ff77",
   "metadata": {},
   "outputs": [],
   "source": [
    "engine.drop_database('db_name')"
   ]
  },
  {
   "cell_type": "markdown",
   "id": "74cee7f4",
   "metadata": {},
   "source": [
    "#### rename collection"
   ]
  },
  {
   "cell_type": "code",
   "execution_count": null,
   "id": "e5e238ad",
   "metadata": {},
   "outputs": [],
   "source": [
    "db.collection.renamecollection('new name')"
   ]
  },
  {
   "cell_type": "markdown",
   "id": "7b134bb3",
   "metadata": {},
   "source": [
    "#### import csv file into a mongodb collection"
   ]
  },
  {
   "cell_type": "code",
   "execution_count": 44,
   "id": "daa1bdb1",
   "metadata": {},
   "outputs": [
    {
     "data": {
      "text/plain": [
       "<pymongo.results.InsertManyResult at 0x14454fa30>"
      ]
     },
     "execution_count": 44,
     "metadata": {},
     "output_type": "execute_result"
    }
   ],
   "source": [
    "df=pd.read_csv('dept.csv')\n",
    "data=df.to_dict(orient='records')\n",
    "db=engine['dept_data']\n",
    "db.dept.insert_many(data)"
   ]
  },
  {
   "cell_type": "markdown",
   "id": "4ec19c70",
   "metadata": {},
   "source": [
    "### import json file into mongo collection"
   ]
  },
  {
   "cell_type": "code",
   "execution_count": 45,
   "id": "0abb137c",
   "metadata": {},
   "outputs": [],
   "source": [
    "import json"
   ]
  },
  {
   "cell_type": "code",
   "execution_count": 47,
   "id": "53e207b7",
   "metadata": {},
   "outputs": [
    {
     "data": {
      "text/plain": [
       "<pymongo.results.InsertManyResult at 0x1276d2da0>"
      ]
     },
     "execution_count": 47,
     "metadata": {},
     "output_type": "execute_result"
    }
   ],
   "source": [
    "f=open('iris.json')\n",
    "data=json.load(f)\n",
    "db.iris.insert_many(data)\n"
   ]
  },
  {
   "cell_type": "markdown",
   "id": "ff0f6d3a",
   "metadata": {},
   "source": [
    "#### convert collection into dataframe"
   ]
  },
  {
   "cell_type": "code",
   "execution_count": 50,
   "id": "4134d104",
   "metadata": {},
   "outputs": [
    {
     "data": {
      "text/html": [
       "<div>\n",
       "<style scoped>\n",
       "    .dataframe tbody tr th:only-of-type {\n",
       "        vertical-align: middle;\n",
       "    }\n",
       "\n",
       "    .dataframe tbody tr th {\n",
       "        vertical-align: top;\n",
       "    }\n",
       "\n",
       "    .dataframe thead th {\n",
       "        text-align: right;\n",
       "    }\n",
       "</style>\n",
       "<table border=\"1\" class=\"dataframe\">\n",
       "  <thead>\n",
       "    <tr style=\"text-align: right;\">\n",
       "      <th></th>\n",
       "      <th>_id</th>\n",
       "      <th>EmpID</th>\n",
       "      <th>EMP_NAME</th>\n",
       "      <th>DEPT_ID</th>\n",
       "      <th>Dept_name</th>\n",
       "      <th>location</th>\n",
       "      <th>travel_required</th>\n",
       "    </tr>\n",
       "  </thead>\n",
       "  <tbody>\n",
       "    <tr>\n",
       "      <th>0</th>\n",
       "      <td>631a153d4ffa3d3cc270bab0</td>\n",
       "      <td>677509</td>\n",
       "      <td>Lois</td>\n",
       "      <td>10</td>\n",
       "      <td>Finance</td>\n",
       "      <td>CHICAGO</td>\n",
       "      <td>no</td>\n",
       "    </tr>\n",
       "    <tr>\n",
       "      <th>1</th>\n",
       "      <td>631a153d4ffa3d3cc270bab1</td>\n",
       "      <td>940761</td>\n",
       "      <td>Brenda</td>\n",
       "      <td>10</td>\n",
       "      <td>Finance</td>\n",
       "      <td>CHICAGO</td>\n",
       "      <td>no</td>\n",
       "    </tr>\n",
       "    <tr>\n",
       "      <th>2</th>\n",
       "      <td>631a153d4ffa3d3cc270bab2</td>\n",
       "      <td>428945</td>\n",
       "      <td>Joe</td>\n",
       "      <td>10</td>\n",
       "      <td>Finance</td>\n",
       "      <td>NEW YORK</td>\n",
       "      <td>no</td>\n",
       "    </tr>\n",
       "    <tr>\n",
       "      <th>3</th>\n",
       "      <td>631a153d4ffa3d3cc270bab3</td>\n",
       "      <td>408351</td>\n",
       "      <td>Diane</td>\n",
       "      <td>20</td>\n",
       "      <td>Tech</td>\n",
       "      <td>DALLAS</td>\n",
       "      <td>no</td>\n",
       "    </tr>\n",
       "    <tr>\n",
       "      <th>4</th>\n",
       "      <td>631a153d4ffa3d3cc270bab4</td>\n",
       "      <td>193819</td>\n",
       "      <td>Benjamin</td>\n",
       "      <td>20</td>\n",
       "      <td>Tech</td>\n",
       "      <td>CHICAGO</td>\n",
       "      <td>no</td>\n",
       "    </tr>\n",
       "    <tr>\n",
       "      <th>5</th>\n",
       "      <td>631a153d4ffa3d3cc270bab5</td>\n",
       "      <td>499687</td>\n",
       "      <td>Patrick</td>\n",
       "      <td>20</td>\n",
       "      <td>Tech</td>\n",
       "      <td>DALLAS</td>\n",
       "      <td>yes</td>\n",
       "    </tr>\n",
       "    <tr>\n",
       "      <th>6</th>\n",
       "      <td>631a153d4ffa3d3cc270bab6</td>\n",
       "      <td>539712</td>\n",
       "      <td>Nancy</td>\n",
       "      <td>30</td>\n",
       "      <td>HR</td>\n",
       "      <td>NEW YORK</td>\n",
       "      <td>no</td>\n",
       "    </tr>\n",
       "    <tr>\n",
       "      <th>7</th>\n",
       "      <td>631a153d4ffa3d3cc270bab7</td>\n",
       "      <td>380086</td>\n",
       "      <td>Carol</td>\n",
       "      <td>30</td>\n",
       "      <td>HR</td>\n",
       "      <td>CHICAGO</td>\n",
       "      <td>no</td>\n",
       "    </tr>\n",
       "    <tr>\n",
       "      <th>8</th>\n",
       "      <td>631a153d4ffa3d3cc270bab8</td>\n",
       "      <td>477616</td>\n",
       "      <td>Frances</td>\n",
       "      <td>30</td>\n",
       "      <td>HR</td>\n",
       "      <td>NEW YORK</td>\n",
       "      <td>no</td>\n",
       "    </tr>\n",
       "    <tr>\n",
       "      <th>9</th>\n",
       "      <td>631a153d4ffa3d3cc270bab9</td>\n",
       "      <td>162402</td>\n",
       "      <td>Diana</td>\n",
       "      <td>30</td>\n",
       "      <td>HR</td>\n",
       "      <td>DALLAS</td>\n",
       "      <td>no</td>\n",
       "    </tr>\n",
       "    <tr>\n",
       "      <th>10</th>\n",
       "      <td>631a153d4ffa3d3cc270baba</td>\n",
       "      <td>231469</td>\n",
       "      <td>Ralph</td>\n",
       "      <td>30</td>\n",
       "      <td>HR</td>\n",
       "      <td>DALLAS</td>\n",
       "      <td>yes</td>\n",
       "    </tr>\n",
       "    <tr>\n",
       "      <th>11</th>\n",
       "      <td>631a153d4ffa3d3cc270babb</td>\n",
       "      <td>153989</td>\n",
       "      <td>Jack</td>\n",
       "      <td>10</td>\n",
       "      <td>Finance</td>\n",
       "      <td>CHICAGO</td>\n",
       "      <td>yes</td>\n",
       "    </tr>\n",
       "    <tr>\n",
       "      <th>12</th>\n",
       "      <td>631a153d4ffa3d3cc270babc</td>\n",
       "      <td>386158</td>\n",
       "      <td>Melissa</td>\n",
       "      <td>20</td>\n",
       "      <td>Tech</td>\n",
       "      <td>CHICAGO</td>\n",
       "      <td>yes</td>\n",
       "    </tr>\n",
       "    <tr>\n",
       "      <th>13</th>\n",
       "      <td>631a153d4ffa3d3cc270babd</td>\n",
       "      <td>301576</td>\n",
       "      <td>Wayne</td>\n",
       "      <td>20</td>\n",
       "      <td>Tech</td>\n",
       "      <td>DALLAS</td>\n",
       "      <td>yes</td>\n",
       "    </tr>\n",
       "    <tr>\n",
       "      <th>14</th>\n",
       "      <td>631a153d4ffa3d3cc270babe</td>\n",
       "      <td>441771</td>\n",
       "      <td>Cheryl</td>\n",
       "      <td>20</td>\n",
       "      <td>Tech</td>\n",
       "      <td>CHICAGO</td>\n",
       "      <td>yes</td>\n",
       "    </tr>\n",
       "    <tr>\n",
       "      <th>15</th>\n",
       "      <td>631a153d4ffa3d3cc270babf</td>\n",
       "      <td>528509</td>\n",
       "      <td>Paula</td>\n",
       "      <td>20</td>\n",
       "      <td>Tech</td>\n",
       "      <td>CHICAGO</td>\n",
       "      <td>no</td>\n",
       "    </tr>\n",
       "    <tr>\n",
       "      <th>16</th>\n",
       "      <td>631a153d4ffa3d3cc270bac0</td>\n",
       "      <td>912990</td>\n",
       "      <td>Joshua</td>\n",
       "      <td>10</td>\n",
       "      <td>Finance</td>\n",
       "      <td>NEW YORK</td>\n",
       "      <td>no</td>\n",
       "    </tr>\n",
       "    <tr>\n",
       "      <th>17</th>\n",
       "      <td>631a153d4ffa3d3cc270bac1</td>\n",
       "      <td>214352</td>\n",
       "      <td>Theresa</td>\n",
       "      <td>30</td>\n",
       "      <td>HR</td>\n",
       "      <td>DALLAS</td>\n",
       "      <td>no</td>\n",
       "    </tr>\n",
       "    <tr>\n",
       "      <th>18</th>\n",
       "      <td>631a153d4ffa3d3cc270bac2</td>\n",
       "      <td>890290</td>\n",
       "      <td>Julia</td>\n",
       "      <td>10</td>\n",
       "      <td>Finance</td>\n",
       "      <td>CHICAGO</td>\n",
       "      <td>no</td>\n",
       "    </tr>\n",
       "    <tr>\n",
       "      <th>19</th>\n",
       "      <td>631a153d4ffa3d3cc270bac3</td>\n",
       "      <td>622406</td>\n",
       "      <td>Thomas</td>\n",
       "      <td>20</td>\n",
       "      <td>Tech</td>\n",
       "      <td>DALLAS</td>\n",
       "      <td>no</td>\n",
       "    </tr>\n",
       "    <tr>\n",
       "      <th>20</th>\n",
       "      <td>631a153d4ffa3d3cc270bac4</td>\n",
       "      <td>979607</td>\n",
       "      <td>Carol</td>\n",
       "      <td>20</td>\n",
       "      <td>Tech</td>\n",
       "      <td>DALLAS</td>\n",
       "      <td>yes</td>\n",
       "    </tr>\n",
       "    <tr>\n",
       "      <th>21</th>\n",
       "      <td>631a153d4ffa3d3cc270bac5</td>\n",
       "      <td>969580</td>\n",
       "      <td>Matthew</td>\n",
       "      <td>20</td>\n",
       "      <td>Tech</td>\n",
       "      <td>CHICAGO</td>\n",
       "      <td>no</td>\n",
       "    </tr>\n",
       "    <tr>\n",
       "      <th>22</th>\n",
       "      <td>631a153d4ffa3d3cc270bac6</td>\n",
       "      <td>426038</td>\n",
       "      <td>Joan</td>\n",
       "      <td>20</td>\n",
       "      <td>Tech</td>\n",
       "      <td>CHICAGO</td>\n",
       "      <td>yes</td>\n",
       "    </tr>\n",
       "    <tr>\n",
       "      <th>23</th>\n",
       "      <td>631a153d4ffa3d3cc270bac7</td>\n",
       "      <td>388642</td>\n",
       "      <td>Ruby</td>\n",
       "      <td>10</td>\n",
       "      <td>Finance</td>\n",
       "      <td>NEW YORK</td>\n",
       "      <td>yes</td>\n",
       "    </tr>\n",
       "    <tr>\n",
       "      <th>24</th>\n",
       "      <td>631a153d4ffa3d3cc270bac8</td>\n",
       "      <td>560455</td>\n",
       "      <td>Carolyn</td>\n",
       "      <td>30</td>\n",
       "      <td>HR</td>\n",
       "      <td>DALLAS</td>\n",
       "      <td>no</td>\n",
       "    </tr>\n",
       "    <tr>\n",
       "      <th>25</th>\n",
       "      <td>631a153d4ffa3d3cc270bac9</td>\n",
       "      <td>477253</td>\n",
       "      <td>Anne</td>\n",
       "      <td>30</td>\n",
       "      <td>HR</td>\n",
       "      <td>CHICAGO</td>\n",
       "      <td>no</td>\n",
       "    </tr>\n",
       "    <tr>\n",
       "      <th>26</th>\n",
       "      <td>631a153d4ffa3d3cc270baca</td>\n",
       "      <td>263480</td>\n",
       "      <td>Daniel</td>\n",
       "      <td>30</td>\n",
       "      <td>HR</td>\n",
       "      <td>DALLAS</td>\n",
       "      <td>no</td>\n",
       "    </tr>\n",
       "    <tr>\n",
       "      <th>27</th>\n",
       "      <td>631a153d4ffa3d3cc270bacb</td>\n",
       "      <td>683826</td>\n",
       "      <td>Roger</td>\n",
       "      <td>10</td>\n",
       "      <td>Finance</td>\n",
       "      <td>DALLAS</td>\n",
       "      <td>no</td>\n",
       "    </tr>\n",
       "    <tr>\n",
       "      <th>28</th>\n",
       "      <td>631a153d4ffa3d3cc270bacc</td>\n",
       "      <td>474599</td>\n",
       "      <td>Maria</td>\n",
       "      <td>10</td>\n",
       "      <td>Finance</td>\n",
       "      <td>DALLAS</td>\n",
       "      <td>no</td>\n",
       "    </tr>\n",
       "    <tr>\n",
       "      <th>29</th>\n",
       "      <td>631a153d4ffa3d3cc270bacd</td>\n",
       "      <td>335732</td>\n",
       "      <td>Brenda</td>\n",
       "      <td>20</td>\n",
       "      <td>Tech</td>\n",
       "      <td>CHICAGO</td>\n",
       "      <td>no</td>\n",
       "    </tr>\n",
       "    <tr>\n",
       "      <th>30</th>\n",
       "      <td>631a153d4ffa3d3cc270bace</td>\n",
       "      <td>329752</td>\n",
       "      <td>Lillian</td>\n",
       "      <td>20</td>\n",
       "      <td>Tech</td>\n",
       "      <td>CHICAGO</td>\n",
       "      <td>yes</td>\n",
       "    </tr>\n",
       "    <tr>\n",
       "      <th>31</th>\n",
       "      <td>631a153d4ffa3d3cc270bacf</td>\n",
       "      <td>893212</td>\n",
       "      <td>Amy</td>\n",
       "      <td>30</td>\n",
       "      <td>HR</td>\n",
       "      <td>DALLAS</td>\n",
       "      <td>yes</td>\n",
       "    </tr>\n",
       "    <tr>\n",
       "      <th>32</th>\n",
       "      <td>631a153d4ffa3d3cc270bad0</td>\n",
       "      <td>621833</td>\n",
       "      <td>Gregory</td>\n",
       "      <td>30</td>\n",
       "      <td>HR</td>\n",
       "      <td>CHICAGO</td>\n",
       "      <td>yes</td>\n",
       "    </tr>\n",
       "    <tr>\n",
       "      <th>33</th>\n",
       "      <td>631a153d4ffa3d3cc270bad1</td>\n",
       "      <td>456747</td>\n",
       "      <td>Roy</td>\n",
       "      <td>20</td>\n",
       "      <td>Tech</td>\n",
       "      <td>NEW YORK</td>\n",
       "      <td>no</td>\n",
       "    </tr>\n",
       "    <tr>\n",
       "      <th>34</th>\n",
       "      <td>631a153d4ffa3d3cc270bad2</td>\n",
       "      <td>100</td>\n",
       "      <td>Ajay</td>\n",
       "      <td>10</td>\n",
       "      <td>Finance</td>\n",
       "      <td>Pune</td>\n",
       "      <td>yes</td>\n",
       "    </tr>\n",
       "    <tr>\n",
       "      <th>35</th>\n",
       "      <td>631a153d4ffa3d3cc270bad3</td>\n",
       "      <td>101</td>\n",
       "      <td>Sumit</td>\n",
       "      <td>20</td>\n",
       "      <td>Tech</td>\n",
       "      <td>Mumbai</td>\n",
       "      <td>yes</td>\n",
       "    </tr>\n",
       "    <tr>\n",
       "      <th>36</th>\n",
       "      <td>631a153d4ffa3d3cc270bad4</td>\n",
       "      <td>102</td>\n",
       "      <td>Rekha</td>\n",
       "      <td>30</td>\n",
       "      <td>HR</td>\n",
       "      <td>Hyderabad</td>\n",
       "      <td>no</td>\n",
       "    </tr>\n",
       "  </tbody>\n",
       "</table>\n",
       "</div>"
      ],
      "text/plain": [
       "                         _id   EmpID  EMP_NAME  DEPT_ID Dept_name   location  \\\n",
       "0   631a153d4ffa3d3cc270bab0  677509      Lois       10   Finance    CHICAGO   \n",
       "1   631a153d4ffa3d3cc270bab1  940761    Brenda       10   Finance    CHICAGO   \n",
       "2   631a153d4ffa3d3cc270bab2  428945       Joe       10   Finance   NEW YORK   \n",
       "3   631a153d4ffa3d3cc270bab3  408351     Diane       20      Tech     DALLAS   \n",
       "4   631a153d4ffa3d3cc270bab4  193819  Benjamin       20      Tech    CHICAGO   \n",
       "5   631a153d4ffa3d3cc270bab5  499687   Patrick       20      Tech     DALLAS   \n",
       "6   631a153d4ffa3d3cc270bab6  539712     Nancy       30        HR   NEW YORK   \n",
       "7   631a153d4ffa3d3cc270bab7  380086     Carol       30        HR    CHICAGO   \n",
       "8   631a153d4ffa3d3cc270bab8  477616   Frances       30        HR   NEW YORK   \n",
       "9   631a153d4ffa3d3cc270bab9  162402     Diana       30        HR     DALLAS   \n",
       "10  631a153d4ffa3d3cc270baba  231469     Ralph       30        HR     DALLAS   \n",
       "11  631a153d4ffa3d3cc270babb  153989      Jack       10   Finance    CHICAGO   \n",
       "12  631a153d4ffa3d3cc270babc  386158   Melissa       20      Tech    CHICAGO   \n",
       "13  631a153d4ffa3d3cc270babd  301576     Wayne       20      Tech     DALLAS   \n",
       "14  631a153d4ffa3d3cc270babe  441771    Cheryl       20      Tech    CHICAGO   \n",
       "15  631a153d4ffa3d3cc270babf  528509     Paula       20      Tech    CHICAGO   \n",
       "16  631a153d4ffa3d3cc270bac0  912990    Joshua       10   Finance   NEW YORK   \n",
       "17  631a153d4ffa3d3cc270bac1  214352   Theresa       30        HR     DALLAS   \n",
       "18  631a153d4ffa3d3cc270bac2  890290     Julia       10   Finance    CHICAGO   \n",
       "19  631a153d4ffa3d3cc270bac3  622406    Thomas       20      Tech     DALLAS   \n",
       "20  631a153d4ffa3d3cc270bac4  979607     Carol       20      Tech     DALLAS   \n",
       "21  631a153d4ffa3d3cc270bac5  969580   Matthew       20      Tech    CHICAGO   \n",
       "22  631a153d4ffa3d3cc270bac6  426038      Joan       20      Tech    CHICAGO   \n",
       "23  631a153d4ffa3d3cc270bac7  388642      Ruby       10   Finance   NEW YORK   \n",
       "24  631a153d4ffa3d3cc270bac8  560455   Carolyn       30        HR     DALLAS   \n",
       "25  631a153d4ffa3d3cc270bac9  477253      Anne       30        HR    CHICAGO   \n",
       "26  631a153d4ffa3d3cc270baca  263480    Daniel       30        HR     DALLAS   \n",
       "27  631a153d4ffa3d3cc270bacb  683826     Roger       10   Finance     DALLAS   \n",
       "28  631a153d4ffa3d3cc270bacc  474599     Maria       10   Finance     DALLAS   \n",
       "29  631a153d4ffa3d3cc270bacd  335732    Brenda       20      Tech    CHICAGO   \n",
       "30  631a153d4ffa3d3cc270bace  329752   Lillian       20      Tech    CHICAGO   \n",
       "31  631a153d4ffa3d3cc270bacf  893212       Amy       30        HR     DALLAS   \n",
       "32  631a153d4ffa3d3cc270bad0  621833   Gregory       30        HR    CHICAGO   \n",
       "33  631a153d4ffa3d3cc270bad1  456747       Roy       20      Tech   NEW YORK   \n",
       "34  631a153d4ffa3d3cc270bad2     100      Ajay       10   Finance       Pune   \n",
       "35  631a153d4ffa3d3cc270bad3     101     Sumit       20      Tech     Mumbai   \n",
       "36  631a153d4ffa3d3cc270bad4     102     Rekha       30        HR  Hyderabad   \n",
       "\n",
       "   travel_required  \n",
       "0               no  \n",
       "1               no  \n",
       "2               no  \n",
       "3               no  \n",
       "4               no  \n",
       "5              yes  \n",
       "6               no  \n",
       "7               no  \n",
       "8               no  \n",
       "9               no  \n",
       "10             yes  \n",
       "11             yes  \n",
       "12             yes  \n",
       "13             yes  \n",
       "14             yes  \n",
       "15              no  \n",
       "16              no  \n",
       "17              no  \n",
       "18              no  \n",
       "19              no  \n",
       "20             yes  \n",
       "21              no  \n",
       "22             yes  \n",
       "23             yes  \n",
       "24              no  \n",
       "25              no  \n",
       "26              no  \n",
       "27              no  \n",
       "28              no  \n",
       "29              no  \n",
       "30             yes  \n",
       "31             yes  \n",
       "32             yes  \n",
       "33              no  \n",
       "34             yes  \n",
       "35             yes  \n",
       "36              no  "
      ]
     },
     "execution_count": 50,
     "metadata": {},
     "output_type": "execute_result"
    }
   ],
   "source": [
    "data=db.dept.find({})\n",
    "df=pd.DataFrame(list(data))\n",
    "df"
   ]
  },
  {
   "cell_type": "code",
   "execution_count": null,
   "id": "c653c925",
   "metadata": {},
   "outputs": [],
   "source": []
  }
 ],
 "metadata": {
  "kernelspec": {
   "display_name": "Python 3 (ipykernel)",
   "language": "python",
   "name": "python3"
  },
  "language_info": {
   "codemirror_mode": {
    "name": "ipython",
    "version": 3
   },
   "file_extension": ".py",
   "mimetype": "text/x-python",
   "name": "python",
   "nbconvert_exporter": "python",
   "pygments_lexer": "ipython3",
   "version": "3.10.5"
  }
 },
 "nbformat": 4,
 "nbformat_minor": 5
}
