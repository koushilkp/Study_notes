{
 "cells": [
  {
   "cell_type": "code",
   "execution_count": 2,
   "id": "978f2c99",
   "metadata": {},
   "outputs": [
    {
     "data": {
      "text/plain": [
       "'Virat'"
      ]
     },
     "execution_count": 2,
     "metadata": {},
     "output_type": "execute_result"
    }
   ],
   "source": [
    "class EmployeeDetails():\n",
    "    name = \"Virat\" # class variable\n",
    "    def __init__(self,company_name,emp_salary):\n",
    "        self.company_name =company_name # Instance variable\n",
    "        self.emp_salary = emp_salary # Instance variable\n",
    "        \n",
    "    def get_employee_salary(self): # Method\n",
    "        print(\"Employee salary>>\",self.emp_salary)\n",
    "    def get_employee_Details(self):\n",
    "        print(\"Employee  name is \",self.__name)\n",
    "        print(\"Company name is\",self.company_name)\n",
    "obj = EmployeeDetails(\"TCS\",140000)\n",
    "obj.name      "
   ]
  },
  {
   "cell_type": "code",
   "execution_count": 3,
   "id": "1f74edc6",
   "metadata": {},
   "outputs": [
    {
     "ename": "AttributeError",
     "evalue": "'EmployeeDetails' object has no attribute '__name'",
     "output_type": "error",
     "traceback": [
      "\u001b[1;31m---------------------------------------------------------------------------\u001b[0m",
      "\u001b[1;31mAttributeError\u001b[0m                            Traceback (most recent call last)",
      "\u001b[1;32m~\\AppData\\Local\\Temp/ipykernel_10056/4203705147.py\u001b[0m in \u001b[0;36m<module>\u001b[1;34m\u001b[0m\n\u001b[0;32m     11\u001b[0m         \u001b[0mprint\u001b[0m\u001b[1;33m(\u001b[0m\u001b[1;34m\"Company name is\"\u001b[0m\u001b[1;33m,\u001b[0m\u001b[0mself\u001b[0m\u001b[1;33m.\u001b[0m\u001b[0mcompany_name\u001b[0m\u001b[1;33m)\u001b[0m\u001b[1;33m\u001b[0m\u001b[1;33m\u001b[0m\u001b[0m\n\u001b[0;32m     12\u001b[0m \u001b[0mobj\u001b[0m \u001b[1;33m=\u001b[0m \u001b[0mEmployeeDetails\u001b[0m\u001b[1;33m(\u001b[0m\u001b[1;34m\"TCS\"\u001b[0m\u001b[1;33m,\u001b[0m\u001b[1;36m140000\u001b[0m\u001b[1;33m)\u001b[0m\u001b[1;33m\u001b[0m\u001b[1;33m\u001b[0m\u001b[0m\n\u001b[1;32m---> 13\u001b[1;33m \u001b[0mobj\u001b[0m\u001b[1;33m.\u001b[0m\u001b[0m__name\u001b[0m\u001b[1;33m\u001b[0m\u001b[1;33m\u001b[0m\u001b[0m\n\u001b[0m",
      "\u001b[1;31mAttributeError\u001b[0m: 'EmployeeDetails' object has no attribute '__name'"
     ]
    }
   ],
   "source": [
    "class EmployeeDetails():\n",
    "    __name = \"Virat\" # Private class variable\n",
    "    def __init__(self,company_name,emp_salary):\n",
    "        self.company_name =company_name # Instance variable\n",
    "        self.emp_salary = emp_salary # Instance variable\n",
    "        \n",
    "    def get_employee_salary(self): # Method\n",
    "        print(\"Employee salary>>\",self.emp_salary)\n",
    "    def get_employee_Details(self):\n",
    "        print(\"Employee  name is \",self.__name)\n",
    "        print(\"Company name is\",self.company_name)\n",
    "obj = EmployeeDetails(\"TCS\",140000)\n",
    "obj.__name    "
   ]
  },
  {
   "cell_type": "code",
   "execution_count": 4,
   "id": "1b4b043c",
   "metadata": {},
   "outputs": [
    {
     "name": "stdout",
     "output_type": "stream",
     "text": [
      "Employee salary>> 140000\n"
     ]
    }
   ],
   "source": [
    "class EmployeeDetails():\n",
    "    __name = \"Virat\" # Private class variable\n",
    "    def __init__(self,company_name,emp_salary):\n",
    "        self.company_name =company_name # Instance variable\n",
    "        self.emp_salary = emp_salary # Instance variable\n",
    "        \n",
    "    def get_employee_salary(self): # Method\n",
    "        print(\"Employee salary>>\",self.emp_salary)\n",
    "    def get_employee_Details(self):\n",
    "        print(\"Employee  name is \",self.__name)\n",
    "        print(\"Company name is\",self.company_name)\n",
    "obj = EmployeeDetails(\"TCS\",140000)\n",
    "obj.get_employee_salary()"
   ]
  },
  {
   "cell_type": "code",
   "execution_count": 5,
   "id": "3e87499b",
   "metadata": {},
   "outputs": [
    {
     "ename": "AttributeError",
     "evalue": "'EmployeeDetails' object has no attribute 'get_employee_salary'",
     "output_type": "error",
     "traceback": [
      "\u001b[1;31m---------------------------------------------------------------------------\u001b[0m",
      "\u001b[1;31mAttributeError\u001b[0m                            Traceback (most recent call last)",
      "\u001b[1;32m~\\AppData\\Local\\Temp/ipykernel_10056/53785343.py\u001b[0m in \u001b[0;36m<module>\u001b[1;34m\u001b[0m\n\u001b[0;32m     11\u001b[0m         \u001b[0mprint\u001b[0m\u001b[1;33m(\u001b[0m\u001b[1;34m\"Company name is\"\u001b[0m\u001b[1;33m,\u001b[0m\u001b[0mself\u001b[0m\u001b[1;33m.\u001b[0m\u001b[0mcompany_name\u001b[0m\u001b[1;33m)\u001b[0m\u001b[1;33m\u001b[0m\u001b[1;33m\u001b[0m\u001b[0m\n\u001b[0;32m     12\u001b[0m \u001b[0mobj\u001b[0m \u001b[1;33m=\u001b[0m \u001b[0mEmployeeDetails\u001b[0m\u001b[1;33m(\u001b[0m\u001b[1;34m\"TCS\"\u001b[0m\u001b[1;33m,\u001b[0m\u001b[1;36m140000\u001b[0m\u001b[1;33m)\u001b[0m\u001b[1;33m\u001b[0m\u001b[1;33m\u001b[0m\u001b[0m\n\u001b[1;32m---> 13\u001b[1;33m \u001b[0mobj\u001b[0m\u001b[1;33m.\u001b[0m\u001b[0mget_employee_salary\u001b[0m\u001b[1;33m(\u001b[0m\u001b[1;33m)\u001b[0m\u001b[1;33m\u001b[0m\u001b[1;33m\u001b[0m\u001b[0m\n\u001b[0m",
      "\u001b[1;31mAttributeError\u001b[0m: 'EmployeeDetails' object has no attribute 'get_employee_salary'"
     ]
    }
   ],
   "source": [
    "class EmployeeDetails():\n",
    "    __name = \"Virat\" # Private class variable\n",
    "    def __init__(self,company_name,emp_salary):\n",
    "        self.company_name =company_name # Instance variable\n",
    "        self.emp_salary = emp_salary # Instance variable\n",
    "        \n",
    "    def __get_employee_salary(self): # private Method\n",
    "        print(\"Employee salary>>\",self.emp_salary)\n",
    "    def get_employee_Details(self):\n",
    "        print(\"Employee  name is \",self.__name)\n",
    "        print(\"Company name is\",self.company_name)\n",
    "obj = EmployeeDetails(\"TCS\",140000)\n",
    "obj.get_employee_salary()"
   ]
  },
  {
   "cell_type": "code",
   "execution_count": 6,
   "id": "d1d5f749",
   "metadata": {},
   "outputs": [
    {
     "ename": "AttributeError",
     "evalue": "'EmployeeDetails' object has no attribute '__get_employee_salary'",
     "output_type": "error",
     "traceback": [
      "\u001b[1;31m---------------------------------------------------------------------------\u001b[0m",
      "\u001b[1;31mAttributeError\u001b[0m                            Traceback (most recent call last)",
      "\u001b[1;32m~\\AppData\\Local\\Temp/ipykernel_10056/453308116.py\u001b[0m in \u001b[0;36m<module>\u001b[1;34m\u001b[0m\n\u001b[0;32m     11\u001b[0m         \u001b[0mprint\u001b[0m\u001b[1;33m(\u001b[0m\u001b[1;34m\"Company name is\"\u001b[0m\u001b[1;33m,\u001b[0m\u001b[0mself\u001b[0m\u001b[1;33m.\u001b[0m\u001b[0mcompany_name\u001b[0m\u001b[1;33m)\u001b[0m\u001b[1;33m\u001b[0m\u001b[1;33m\u001b[0m\u001b[0m\n\u001b[0;32m     12\u001b[0m \u001b[0mobj\u001b[0m \u001b[1;33m=\u001b[0m \u001b[0mEmployeeDetails\u001b[0m\u001b[1;33m(\u001b[0m\u001b[1;34m\"TCS\"\u001b[0m\u001b[1;33m,\u001b[0m\u001b[1;36m140000\u001b[0m\u001b[1;33m)\u001b[0m\u001b[1;33m\u001b[0m\u001b[1;33m\u001b[0m\u001b[0m\n\u001b[1;32m---> 13\u001b[1;33m \u001b[0mobj\u001b[0m\u001b[1;33m.\u001b[0m\u001b[0m__get_employee_salary\u001b[0m\u001b[1;33m(\u001b[0m\u001b[1;33m)\u001b[0m\u001b[1;33m\u001b[0m\u001b[1;33m\u001b[0m\u001b[0m\n\u001b[0m",
      "\u001b[1;31mAttributeError\u001b[0m: 'EmployeeDetails' object has no attribute '__get_employee_salary'"
     ]
    }
   ],
   "source": [
    "class EmployeeDetails():\n",
    "    __name = \"Virat\" # Private class variable\n",
    "    def __init__(self,company_name,emp_salary):\n",
    "        self.company_name =company_name # Instance variable\n",
    "        self.emp_salary = emp_salary # Instance variable\n",
    "        \n",
    "    def __get_employee_salary(self): # private Method\n",
    "        print(\"Employee salary>>\",self.emp_salary)\n",
    "    def get_employee_Details(self):\n",
    "        print(\"Employee  name is \",self.__name)\n",
    "        print(\"Company name is\",self.company_name)\n",
    "obj = EmployeeDetails(\"TCS\",140000)\n",
    "obj.__get_employee_salary()"
   ]
  },
  {
   "cell_type": "markdown",
   "id": "f45ad001",
   "metadata": {},
   "source": [
    "## Name Mangling"
   ]
  },
  {
   "cell_type": "code",
   "execution_count": null,
   "id": "5b754747",
   "metadata": {},
   "outputs": [],
   "source": [
    "# To access / modify private class variables and methods from outside of the class\n",
    "# syntax >\n",
    "# obj._ClassName__privatemethodname\n",
    "#obj._ClassName__privateVariabelName"
   ]
  },
  {
   "cell_type": "code",
   "execution_count": 4,
   "id": "c977245d",
   "metadata": {},
   "outputs": [
    {
     "name": "stdout",
     "output_type": "stream",
     "text": [
      "Employee  name is  Virat\n",
      "Company name is TCS\n"
     ]
    }
   ],
   "source": [
    "class EmployeeDetails():\n",
    "    __name = \"Virat\" # Private class variable\n",
    "    def __init__(self,company_name,emp_salary):\n",
    "        self.company_name =company_name # Instance variable\n",
    "        self.emp_salary = emp_salary # Instance variable\n",
    "        \n",
    "    def __get_employee_salary(self): # private Method\n",
    "        print(\"Employee salary>>\",self.emp_salary)\n",
    "    def get_employee_Details(self):\n",
    "        print(\"Employee  name is \",self.__name)\n",
    "        print(\"Company name is\",self.company_name)\n",
    "obj = EmployeeDetails(\"TCS\",140000)\n",
    "obj.get_employee_Details()\n",
    "# obj.get_employee_salary()    # we can not get bcz of its private @error"
   ]
  },
  {
   "cell_type": "code",
   "execution_count": 5,
   "id": "f6f7a35f",
   "metadata": {},
   "outputs": [
    {
     "name": "stdout",
     "output_type": "stream",
     "text": [
      "Employee salary>> 140000\n",
      "Employee  name is  Mahesh\n",
      "Company name is TCS\n"
     ]
    }
   ],
   "source": [
    "class EmployeeDetails():\n",
    "    __var = \"Virat\" # Private class variable\n",
    "    def __init__(self,company_name,emp_salary):\n",
    "        self.company_name =company_name # Instance variable\n",
    "        self.emp_salary = emp_salary # Instance variable\n",
    "        \n",
    "    def get_employee_salary(self): # private Method\n",
    "        print(\"Employee salary>>\",self.emp_salary)\n",
    "    def get_employee_Details(self):\n",
    "        print(\"Employee  name is \",self.__var)\n",
    "        print(\"Company name is\",self.company_name)\n",
    "obj = EmployeeDetails(\"TCS\",140000)\n",
    "obj._EmployeeDetails__var = \"Mahesh\"\n",
    "obj.get_employee_salary()\n",
    "obj.get_employee_Details()"
   ]
  },
  {
   "cell_type": "code",
   "execution_count": 12,
   "id": "b964d933",
   "metadata": {},
   "outputs": [
    {
     "name": "stdout",
     "output_type": "stream",
     "text": [
      "Employee salary>> 140000\n"
     ]
    }
   ],
   "source": [
    "class EmployeeDetails():\n",
    "    __var = \"Virat\" # Private class variable\n",
    "    def __init__(self,company_name,emp_salary):\n",
    "        self.company_name =company_name # Instance variable\n",
    "        self.emp_salary = emp_salary # Instance variable\n",
    "        \n",
    "    def __get_employee_salary(self): # private Method\n",
    "        print(\"Employee salary>>\",self.emp_salary)\n",
    "    def get_employee_Details(self):\n",
    "        print(\"Employee  name is \",self.__var)\n",
    "        print(\"Company name is\",self.company_name)\n",
    "obj = EmployeeDetails(\"TCS\",140000)\n",
    "# obj._EmployeeDetails__var = \"Mahesh\"\n",
    "obj._EmployeeDetails__get_employee_salary()"
   ]
  },
  {
   "cell_type": "code",
   "execution_count": 15,
   "id": "93ef4b84",
   "metadata": {},
   "outputs": [],
   "source": [
    "import os\n",
    "import shutil\n",
    "# os.makedirs(\"Machine_Learning\\\\Data_Science\")\n",
    "# with open(\"Sample.txt\",\"w\") as file:\n",
    "#     file.write(\"Data Science\")\n",
    "# shutil.move(os.getcwd()+\"\\\\\"+\"Sample.txt\",os.getcwd()+\"\\\\\"+\"\\\\Machine_Learning\\\\Data_Science\")\n",
    "path = os.getcwd()+\"\\\\\"+\"\\\\Machine_Learning\\\\Data_Science\"\n",
    "shutil.rmtree(path)"
   ]
  },
  {
   "cell_type": "code",
   "execution_count": 20,
   "id": "d601f41a",
   "metadata": {},
   "outputs": [
    {
     "ename": "OSError",
     "evalue": "[WinError 145] The directory is not empty: 'E:\\\\27_JUNE_2022\\\\2_8_Encapsulation\\\\\\\\ML\\\\Python'",
     "output_type": "error",
     "traceback": [
      "\u001b[1;31m---------------------------------------------------------------------------\u001b[0m",
      "\u001b[1;31mOSError\u001b[0m                                   Traceback (most recent call last)",
      "\u001b[1;32m~\\AppData\\Local\\Temp/ipykernel_10056/3785737285.py\u001b[0m in \u001b[0;36m<module>\u001b[1;34m\u001b[0m\n\u001b[0;32m      6\u001b[0m \u001b[1;31m# shutil.copy(os.getcwd()+\"\\\\\"+\"result.txt\",os.getcwd()+\"\\\\\"+\"\\\\ML\\\\Python\")\u001b[0m\u001b[1;33m\u001b[0m\u001b[1;33m\u001b[0m\u001b[0m\n\u001b[0;32m      7\u001b[0m \u001b[0mpath\u001b[0m \u001b[1;33m=\u001b[0m \u001b[0mos\u001b[0m\u001b[1;33m.\u001b[0m\u001b[0mgetcwd\u001b[0m\u001b[1;33m(\u001b[0m\u001b[1;33m)\u001b[0m\u001b[1;33m+\u001b[0m\u001b[1;34m\"\\\\\"\u001b[0m\u001b[1;33m+\u001b[0m\u001b[1;34m\"\\\\ML\\\\Python\"\u001b[0m\u001b[1;33m\u001b[0m\u001b[1;33m\u001b[0m\u001b[0m\n\u001b[1;32m----> 8\u001b[1;33m \u001b[0mos\u001b[0m\u001b[1;33m.\u001b[0m\u001b[0mrmdir\u001b[0m\u001b[1;33m(\u001b[0m\u001b[0mpath\u001b[0m\u001b[1;33m)\u001b[0m\u001b[1;33m\u001b[0m\u001b[1;33m\u001b[0m\u001b[0m\n\u001b[0m",
      "\u001b[1;31mOSError\u001b[0m: [WinError 145] The directory is not empty: 'E:\\\\27_JUNE_2022\\\\2_8_Encapsulation\\\\\\\\ML\\\\Python'"
     ]
    }
   ],
   "source": [
    "import os\n",
    "import shutil\n",
    "# os.makedirs(\"ML\\\\Python\")\n",
    "# with open(\"result.txt\",\"w\") as file:\n",
    "#     file.write(\"Data Science\")\n",
    "# shutil.copy(os.getcwd()+\"\\\\\"+\"result.txt\",os.getcwd()+\"\\\\\"+\"\\\\ML\\\\Python\")\n",
    "path = os.getcwd()+\"\\\\\"+\"\\\\ML\\\\Python\"\n",
    "os.rmdir(path)"
   ]
  },
  {
   "cell_type": "code",
   "execution_count": null,
   "id": "1651c3fe",
   "metadata": {},
   "outputs": [],
   "source": []
  }
 ],
 "metadata": {
  "kernelspec": {
   "display_name": "Python 3 (ipykernel)",
   "language": "python",
   "name": "python3"
  },
  "language_info": {
   "codemirror_mode": {
    "name": "ipython",
    "version": 3
   },
   "file_extension": ".py",
   "mimetype": "text/x-python",
   "name": "python",
   "nbconvert_exporter": "python",
   "pygments_lexer": "ipython3",
   "version": "3.10.5"
  }
 },
 "nbformat": 4,
 "nbformat_minor": 5
}
