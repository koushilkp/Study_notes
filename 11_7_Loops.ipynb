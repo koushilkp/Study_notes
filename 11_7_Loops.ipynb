{
 "cells": [
  {
   "cell_type": "code",
   "execution_count": 2,
   "id": "cd1eff9d",
   "metadata": {},
   "outputs": [
    {
     "name": "stdout",
     "output_type": "stream",
     "text": [
      "Int list is >>> [56, 2]\n",
      "Int list is >>> [3.4]\n",
      "Int list is >>> ['Python']\n",
      "Int list is >>> [[1, 2, 3, 40]]\n",
      "Int list is >>> [(33, 44)]\n"
     ]
    }
   ],
   "source": [
    "lst = [2,3.4,\"Python\",[1,2,3,40],(33,44)]\n",
    "lst_int   = [56,\n",
    "lst_float = []\n",
    "lst_str   = []\n",
    "lst_list  = []\n",
    "lst_tuple = []\n",
    "for i in lst:\n",
    "    if type(i) == int: # 2 =int\n",
    "        lst_int.append(i)\n",
    "    elif type(i) == float:\n",
    "        lst_float.append(i)\n",
    "    elif type(i) == str:\n",
    "        lst_str.append(i)\n",
    "    elif type(i) == list:\n",
    "        lst_list.append(i)\n",
    "    else:\n",
    "        lst_tuple.append(i)\n",
    "print(\"Int list is >>>\",lst_int)\n",
    "print(\"Int list is >>>\",lst_float)\n",
    "print(\"Int list is >>>\",lst_str) \n",
    "print(\"Int list is >>>\",lst_list)\n",
    "print(\"Int list is >>>\",lst_tuple)    "
   ]
  },
  {
   "cell_type": "code",
   "execution_count": 5,
   "id": "23310909",
   "metadata": {},
   "outputs": [
    {
     "name": "stdout",
     "output_type": "stream",
     "text": [
      "0\n",
      "1\n",
      "2\n",
      "3\n",
      "4\n"
     ]
    }
   ],
   "source": [
    "for i in range(5):\n",
    "    print(i)"
   ]
  },
  {
   "cell_type": "markdown",
   "id": "335677bd",
   "metadata": {},
   "source": [
    "## Loop Control Statement"
   ]
  },
  {
   "cell_type": "raw",
   "id": "b95ce323",
   "metadata": {},
   "source": [
    "1) break\n",
    "2) continue\n",
    "3) pass"
   ]
  },
  {
   "cell_type": "markdown",
   "id": "10893205",
   "metadata": {},
   "source": [
    "## 1) break "
   ]
  },
  {
   "cell_type": "raw",
   "id": "9608eb06",
   "metadata": {},
   "source": [
    "To exit for loop,it will stop further iteration"
   ]
  },
  {
   "cell_type": "code",
   "execution_count": 7,
   "id": "2d457651",
   "metadata": {},
   "outputs": [
    {
     "name": "stdout",
     "output_type": "stream",
     "text": [
      "Int list is >>> [2]\n",
      "float list is >>> []\n",
      "string list is >>> []\n",
      " list is >>> []\n",
      "Tuple list is >>> []\n"
     ]
    }
   ],
   "source": [
    "lst = [2,3.4,\"Python\",[1,2,3,40],(33,44)]\n",
    "lst_int   = [] # 2\n",
    "lst_float = [] # empty\n",
    "lst_str   = [] # empty\n",
    "lst_list  = [] # empty\n",
    "lst_tuple = [] # empty\n",
    "for i in lst:  # i =2\n",
    "    if type(i) == int: #  True\n",
    "        lst_int.append(i)\n",
    "        break\n",
    "    elif type(i) == float:\n",
    "        lst_float.append(i)\n",
    "    elif type(i) == str:\n",
    "        lst_str.append(i)\n",
    "    elif type(i) == list:\n",
    "        lst_list.append(i)\n",
    "    else:\n",
    "        lst_tuple.append(i)\n",
    "print(\"Int list is >>>\",lst_int)\n",
    "print(\"float list is >>>\",lst_float)\n",
    "print(\"string list is >>>\",lst_str) \n",
    "print(\" list is >>>\",lst_list)\n",
    "print(\"Tuple list is >>>\",lst_tuple)    "
   ]
  },
  {
   "cell_type": "code",
   "execution_count": 9,
   "id": "894e222c",
   "metadata": {},
   "outputs": [
    {
     "name": "stdout",
     "output_type": "stream",
     "text": [
      "Int list is >>> [2]\n",
      "float list is >>> [3.4]\n",
      "string list is >>> []\n",
      " list is >>> []\n",
      "Tuple list is >>> []\n"
     ]
    }
   ],
   "source": [
    "lst = [2,3.4,\"Python\",[1,2,3,40],(33,44)]\n",
    "lst_int   = [] # 2\n",
    "lst_float = [] # 3.4\n",
    "lst_str   = [] # empty\n",
    "lst_list  = [] # empty\n",
    "lst_tuple = [] # empty\n",
    "for i in lst:  # i =2,i=3.4\n",
    "    if type(i) == int: #  True,False\n",
    "        lst_int.append(i)\n",
    "       \n",
    "    elif type(i) == float: # True\n",
    "        lst_float.append(i)\n",
    "        break\n",
    "    elif type(i) == str:\n",
    "        lst_str.append(i)\n",
    "    elif type(i) == list:\n",
    "        lst_list.append(i)\n",
    "    else:\n",
    "        lst_tuple.append(i)\n",
    "print(\"Int list is >>>\",lst_int)\n",
    "print(\"float list is >>>\",lst_float)\n",
    "print(\"string list is >>>\",lst_str) \n",
    "print(\" list is >>>\",lst_list)\n",
    "print(\"Tuple list is >>>\",lst_tuple)    "
   ]
  },
  {
   "cell_type": "code",
   "execution_count": 10,
   "id": "b5224ce5",
   "metadata": {},
   "outputs": [
    {
     "name": "stdout",
     "output_type": "stream",
     "text": [
      "Int list is >>> [2]\n",
      "float list is >>> [3.4]\n",
      "string list is >>> ['Python']\n",
      " list is >>> [[1, 2, 3, 40]]\n",
      "Tuple list is >>> []\n"
     ]
    }
   ],
   "source": [
    "lst = [2,3.4,\"Python\",[1,2,3,40],(33,44)]\n",
    "lst_int   = [] # 2\n",
    "lst_float = [] # 3.4\n",
    "lst_str   = [] # Python\n",
    "lst_list  = [] # [1,2,3,40]\n",
    "lst_tuple = [] # empty\n",
    "for i in lst:  # i =2,i=3.4\n",
    "    if type(i) == int: #  True,False,False,False\n",
    "        lst_int.append(i)\n",
    "       \n",
    "    elif type(i) == float: # True,False,False\n",
    "        lst_float.append(i)\n",
    "        \n",
    "    elif type(i) == str: # True,False\n",
    "        lst_str.append(i)\n",
    "    elif type(i) == list:# True\n",
    "        lst_list.append(i)\n",
    "        break\n",
    "    else:\n",
    "        lst_tuple.append(i)\n",
    "print(\"Int list is >>>\",lst_int)\n",
    "print(\"float list is >>>\",lst_float)\n",
    "print(\"string list is >>>\",lst_str) \n",
    "print(\" list is >>>\",lst_list)\n",
    "print(\"Tuple list is >>>\",lst_tuple)    "
   ]
  },
  {
   "cell_type": "code",
   "execution_count": 11,
   "id": "0d7c8ec7",
   "metadata": {},
   "outputs": [
    {
     "name": "stdout",
     "output_type": "stream",
     "text": [
      "Int list is >>> [2]\n",
      "float list is >>> [3.4]\n",
      "string list is >>> ['Python']\n",
      " list is >>> [[1, 2, 3, 40]]\n",
      "Tuple list is >>> [(33, 44)]\n"
     ]
    }
   ],
   "source": [
    "lst = [2,3.4,\"Python\",[1,2,3,40],(33,44)]\n",
    "lst_int   = [] # 2\n",
    "lst_float = [] # 3.4\n",
    "lst_str   = [] # Python\n",
    "lst_list  = [] # [1,2,3,40]\n",
    "lst_tuple = [] # empty\n",
    "for i in lst:  # i =2,i=3.4\n",
    "    if type(i) == int: #  True,False,False,False\n",
    "        lst_int.append(i)\n",
    "       \n",
    "    elif type(i) == float: # True,False,False\n",
    "        lst_float.append(i)\n",
    "        \n",
    "    elif type(i) == str: # True,False\n",
    "        lst_str.append(i)\n",
    "    elif type(i) == list:# True\n",
    "        lst_list.append(i)\n",
    "        \n",
    "    else:\n",
    "        lst_tuple.append(i)\n",
    "        break\n",
    "print(\"Int list is >>>\",lst_int)\n",
    "print(\"float list is >>>\",lst_float)\n",
    "print(\"string list is >>>\",lst_str) \n",
    "print(\" list is >>>\",lst_list)\n",
    "print(\"Tuple list is >>>\",lst_tuple)    "
   ]
  },
  {
   "cell_type": "markdown",
   "id": "6611a335",
   "metadata": {},
   "source": [
    "## 2) continue"
   ]
  },
  {
   "cell_type": "raw",
   "id": "b084846f",
   "metadata": {},
   "source": [
    "used to skip/stop current iteration only and continue with next iteration"
   ]
  },
  {
   "cell_type": "code",
   "execution_count": 13,
   "id": "9ab71154",
   "metadata": {},
   "outputs": [
    {
     "name": "stdout",
     "output_type": "stream",
     "text": [
      "5\n",
      "6\n",
      "7\n",
      "8\n",
      "9\n",
      "Data Science\n",
      "10\n"
     ]
    }
   ],
   "source": [
    "for i in range(5,11):\n",
    "    print(i)\n",
    "    if i == 9:\n",
    "        print(\"Data Science\")\n",
    "# 5\n",
    "# 6\n",
    "#7\n",
    "#8\n",
    "# 9\n",
    "# Data Science\n",
    "#10"
   ]
  },
  {
   "cell_type": "code",
   "execution_count": 14,
   "id": "46bc1ffa",
   "metadata": {},
   "outputs": [
    {
     "name": "stdout",
     "output_type": "stream",
     "text": [
      "5\n",
      "6\n",
      "7\n",
      "8\n",
      "9\n",
      "Data Science\n"
     ]
    }
   ],
   "source": [
    "for i in range(5,11):\n",
    "    print(i)\n",
    "    if i == 9:\n",
    "        print(\"Data Science\")\n",
    "        break\n",
    "        print(\"Welcome\")\n",
    "# 5\n",
    "# 6\n",
    "#7\n",
    "#8\n",
    "# 9\n",
    "# Data Science\n"
   ]
  },
  {
   "cell_type": "code",
   "execution_count": 15,
   "id": "d8276469",
   "metadata": {},
   "outputs": [
    {
     "name": "stdout",
     "output_type": "stream",
     "text": [
      "5\n",
      "6\n",
      "7\n",
      "8\n",
      "9\n",
      "Data Science\n",
      "10\n"
     ]
    }
   ],
   "source": [
    "for i in range(5,11):\n",
    "    print(i)\n",
    "    if i == 9:\n",
    "        print(\"Data Science\")\n",
    "        continue\n",
    "        print(\"Welcome\")\n",
    "# 5\n",
    "# 6\n",
    "#7\n",
    "#8\n",
    "# 9\n",
    "# Data Science\n",
    "#10"
   ]
  },
  {
   "cell_type": "markdown",
   "id": "d8f0b0d0",
   "metadata": {},
   "source": [
    "### 3) pass"
   ]
  },
  {
   "cell_type": "code",
   "execution_count": null,
   "id": "46da3d53",
   "metadata": {},
   "outputs": [],
   "source": [
    "#It is like null operation"
   ]
  },
  {
   "cell_type": "code",
   "execution_count": 16,
   "id": "e815371e",
   "metadata": {},
   "outputs": [
    {
     "name": "stdout",
     "output_type": "stream",
     "text": [
      "5\n",
      "6\n",
      "7\n",
      "8\n",
      "9\n",
      "Data Science\n",
      "Welcome\n",
      "10\n"
     ]
    }
   ],
   "source": [
    "for i in range(5,11):\n",
    "    print(i)\n",
    "    if i == 9:\n",
    "        print(\"Data Science\")\n",
    "        pass\n",
    "        print(\"Welcome\")\n",
    "# 5\n",
    "# 6\n",
    "#7\n",
    "#8\n",
    "# 9\n",
    "# Data Science\n",
    "# Welcome\n",
    "# 10\n"
   ]
  },
  {
   "cell_type": "code",
   "execution_count": 17,
   "id": "aacdd2c5",
   "metadata": {},
   "outputs": [
    {
     "name": "stdout",
     "output_type": "stream",
     "text": [
      "i is less than 20\n"
     ]
    }
   ],
   "source": [
    "i = 10\n",
    "if i<20:\n",
    "    print(\"i is less than 20\")\n",
    "else:\n",
    "    pass"
   ]
  },
  {
   "cell_type": "code",
   "execution_count": 19,
   "id": "df58e030",
   "metadata": {},
   "outputs": [],
   "source": [
    "i = 100\n",
    "if i<20:\n",
    "    print(\"i is less than 20\")\n",
    "else:\n",
    "    pass\n",
    "    "
   ]
  },
  {
   "cell_type": "code",
   "execution_count": 20,
   "id": "43e24153",
   "metadata": {},
   "outputs": [
    {
     "name": "stdout",
     "output_type": "stream",
     "text": [
      "i is greater than 20\n"
     ]
    }
   ],
   "source": [
    "i = 100\n",
    "if i<20:\n",
    "    print(\"i is less than 20\")\n",
    "else:\n",
    "    print(\"i is greater than 20\")"
   ]
  },
  {
   "cell_type": "markdown",
   "id": "83342c9c",
   "metadata": {},
   "source": [
    "## For else"
   ]
  },
  {
   "cell_type": "raw",
   "id": "1e4c4bd2",
   "metadata": {},
   "source": [
    "else:\n",
    "    >> block will execute only when the loop complete its all iteration"
   ]
  },
  {
   "cell_type": "code",
   "execution_count": 21,
   "id": "122e2aae",
   "metadata": {},
   "outputs": [
    {
     "name": "stdout",
     "output_type": "stream",
     "text": [
      "1\n",
      "2\n",
      "3\n",
      "4\n",
      "Loop executed\n"
     ]
    }
   ],
   "source": [
    "for i in range(1,5): #1,2,3,4\n",
    "    print(i)\n",
    "else:\n",
    "    print(\"Loop executed\")"
   ]
  },
  {
   "cell_type": "code",
   "execution_count": 22,
   "id": "c6f7a1a2",
   "metadata": {},
   "outputs": [
    {
     "name": "stdout",
     "output_type": "stream",
     "text": [
      "1\n"
     ]
    }
   ],
   "source": [
    "for i in range(1,5): #1\n",
    "    print(i)\n",
    "    break\n",
    "else:\n",
    "    print(\"Loop executed\")"
   ]
  },
  {
   "cell_type": "code",
   "execution_count": 23,
   "id": "b207ec2a",
   "metadata": {},
   "outputs": [
    {
     "name": "stdout",
     "output_type": "stream",
     "text": [
      "1\n",
      "2\n",
      "3\n",
      "4\n",
      "Loop executed\n"
     ]
    }
   ],
   "source": [
    "for i in range(1,5): #1\n",
    "    print(i)\n",
    "    pass\n",
    "else:\n",
    "    print(\"Loop executed\")"
   ]
  },
  {
   "cell_type": "code",
   "execution_count": 24,
   "id": "1029e602",
   "metadata": {},
   "outputs": [
    {
     "name": "stdout",
     "output_type": "stream",
     "text": [
      "1\n",
      "2\n",
      "3\n",
      "4\n",
      "Loop executed\n"
     ]
    }
   ],
   "source": [
    "for i in range(1,5): #1,2,3,4\n",
    "    print(i)\n",
    "    continue\n",
    "else:\n",
    "    print(\"Loop executed\")"
   ]
  },
  {
   "cell_type": "markdown",
   "id": "e913ada7",
   "metadata": {},
   "source": [
    "## Factorial"
   ]
  },
  {
   "cell_type": "markdown",
   "id": "647ebdad",
   "metadata": {},
   "source": [
    " 5! =5*4*3*2*1 "
   ]
  },
  {
   "cell_type": "code",
   "execution_count": 25,
   "id": "be1868e9",
   "metadata": {},
   "outputs": [
    {
     "data": {
      "text/plain": [
       "120"
      ]
     },
     "execution_count": 25,
     "metadata": {},
     "output_type": "execute_result"
    }
   ],
   "source": [
    "n = 5 #120\n",
    "fact = 1\n",
    "for i in range(1,n+1): # (i =1),(2),(3),(4),(5),\n",
    "    fact*=i  # fact =fact*i > (1 updated),(2*1=2),(2*3=6),(6*4=24),(24*5=120)\n",
    "fact"
   ]
  },
  {
   "cell_type": "code",
   "execution_count": 26,
   "id": "746dd44d",
   "metadata": {},
   "outputs": [
    {
     "data": {
      "text/plain": [
       "1"
      ]
     },
     "execution_count": 26,
     "metadata": {},
     "output_type": "execute_result"
    }
   ],
   "source": [
    "n = 0 \n",
    "fact = 1\n",
    "for i in range(1,n+1): \n",
    "    fact*=i  \n",
    "fact"
   ]
  },
  {
   "cell_type": "code",
   "execution_count": 28,
   "id": "a47d10ab",
   "metadata": {},
   "outputs": [
    {
     "name": "stdout",
     "output_type": "stream",
     "text": [
      "Enter positive value only\n"
     ]
    }
   ],
   "source": [
    "n = -1 \n",
    "fact = 1\n",
    "if n<0:\n",
    "    print(\"Enter positive value only\")\n",
    "else:\n",
    "    \n",
    "    for i in range(1,n+1): \n",
    "        fact*=i  \n",
    "    fact"
   ]
  },
  {
   "cell_type": "markdown",
   "id": "07b7ad19",
   "metadata": {},
   "source": [
    "### Prime number"
   ]
  },
  {
   "cell_type": "code",
   "execution_count": null,
   "id": "1de4024a",
   "metadata": {},
   "outputs": [],
   "source": [
    "Prime number > if number is divisible by 1 and itself\n",
    "Example > 2,3,5,7,11,13,17,19,23,29,"
   ]
  },
  {
   "cell_type": "raw",
   "id": "77964452",
   "metadata": {},
   "source": [
    "6>1,2,3,6 > This is not prime number"
   ]
  },
  {
   "cell_type": "code",
   "execution_count": 30,
   "id": "29e24087",
   "metadata": {},
   "outputs": [
    {
     "name": "stdout",
     "output_type": "stream",
     "text": [
      "10 is not prime number\n",
      "10 is not prime number\n",
      "10 is prime number\n"
     ]
    }
   ],
   "source": [
    "n = 10\n",
    "for i in range(2,n): # 2,3,4,5,6,7,8,9\n",
    "    if n%i == 0:\n",
    "        print(f\"{n} is not prime number\") # wrong\n",
    "        \n",
    "else:\n",
    "    print(f\"{n} is prime number\")"
   ]
  },
  {
   "cell_type": "code",
   "execution_count": 31,
   "id": "c7252eb8",
   "metadata": {},
   "outputs": [
    {
     "name": "stdout",
     "output_type": "stream",
     "text": [
      "10 is not prime number\n"
     ]
    }
   ],
   "source": [
    "n = 10\n",
    "for i in range(2,n): # 2,3,4,5,6,7,8,9\n",
    "    if n%i == 0:\n",
    "        print(f\"{n} is not prime number\")\n",
    "        break\n",
    "else:\n",
    "    print(f\"{n} is prime number\")"
   ]
  },
  {
   "cell_type": "code",
   "execution_count": 32,
   "id": "7a696494",
   "metadata": {},
   "outputs": [
    {
     "name": "stdout",
     "output_type": "stream",
     "text": [
      "3 is prime number\n"
     ]
    }
   ],
   "source": [
    "n = 3\n",
    "for i in range(2,n): # 2\n",
    "    if n%i == 0:\n",
    "        print(f\"{n} is not prime number\")\n",
    "        break\n",
    "else:\n",
    "    print(f\"{n} is prime number\")"
   ]
  },
  {
   "cell_type": "code",
   "execution_count": 34,
   "id": "4f62db6d",
   "metadata": {},
   "outputs": [
    {
     "name": "stdout",
     "output_type": "stream",
     "text": [
      "Given number is not prime number\n"
     ]
    }
   ],
   "source": [
    "n = 1\n",
    "if n<2: # True\n",
    "    print(\"Given number is not prime number\")\n",
    "else:\n",
    "    for i in range(2,n): # 2\n",
    "        if n%i == 0:\n",
    "            print(f\"{n} is not prime number\")\n",
    "            break\n",
    "    else:\n",
    "        print(f\"{n} is prime number\")"
   ]
  },
  {
   "cell_type": "code",
   "execution_count": 35,
   "id": "04a2a014",
   "metadata": {},
   "outputs": [
    {
     "name": "stdout",
     "output_type": "stream",
     "text": [
      "115 is not prime number\n"
     ]
    }
   ],
   "source": [
    "n = 115\n",
    "if n<2: # True\n",
    "    print(\"Given number is not prime number\")\n",
    "else:\n",
    "    for i in range(2,n): # 2\n",
    "        if n%i == 0:\n",
    "            print(f\"{n} is not prime number\")\n",
    "            break\n",
    "    else:\n",
    "        print(f\"{n} is prime number\")"
   ]
  },
  {
   "cell_type": "markdown",
   "id": "a447d112",
   "metadata": {},
   "source": [
    "## Fibonacci Series"
   ]
  },
  {
   "cell_type": "code",
   "execution_count": null,
   "id": "df06650c",
   "metadata": {},
   "outputs": [],
   "source": [
    "0 1 1 2 3 5 8 13 21 34 55 89"
   ]
  },
  {
   "cell_type": "code",
   "execution_count": 36,
   "id": "4d2d21e3",
   "metadata": {},
   "outputs": [
    {
     "name": "stdout",
     "output_type": "stream",
     "text": [
      "Fibonacci series for 4 is::>>>> 0 1 "
     ]
    }
   ],
   "source": [
    "n = 4  # 0 1 1 2\n",
    "first  = 0\n",
    "second = 1\n",
    "print(f\"Fibonacci series for {n} is::>>>>\", first,second ,end=\" \")"
   ]
  },
  {
   "cell_type": "code",
   "execution_count": null,
   "id": "6045bf30",
   "metadata": {},
   "outputs": [],
   "source": [
    " 0 1 \n",
    "  0       1        1     > first iteration\n",
    " first  second     new\n",
    "    \n",
    "    \n",
    " 0       1        1         2  \n",
    "         first  second     new\n",
    "    \n",
    "    \n",
    " 0       1        1         2      3\n",
    "                 first  second     new\n",
    " 0       1        1         2      3       5\n",
    "                         first  second     new    "
   ]
  },
  {
   "cell_type": "code",
   "execution_count": 37,
   "id": "514c2b71",
   "metadata": {},
   "outputs": [
    {
     "name": "stdout",
     "output_type": "stream",
     "text": [
      "Fibonacci series for 4 is::>>>> 0 1 1 2 "
     ]
    }
   ],
   "source": [
    "n = 4  # 0 1 1 2\n",
    "first  = 0\n",
    "second = 1\n",
    "print(f\"Fibonacci series for {n} is::>>>>\", first,second ,end=\" \")\n",
    "for i in range(0,n-2):\n",
    "    new = first + second\n",
    "    second = new\n",
    "    first = second \n",
    "    print(new,end= \" \")\n",
    "    "
   ]
  },
  {
   "cell_type": "code",
   "execution_count": 39,
   "id": "b8726e3a",
   "metadata": {},
   "outputs": [
    {
     "name": "stdout",
     "output_type": "stream",
     "text": [
      "Fibonacci series for 4 is::>>>> 0 1 1 2 "
     ]
    }
   ],
   "source": [
    "n = 4  # 0 1 1 2\n",
    "first  = 0\n",
    "second = 1\n",
    "print(f\"Fibonacci series for {n} is::>>>>\", first,second ,end=\" \")\n",
    "for i in range(0,n-2):\n",
    "    first,second = second ,first+second\n",
    "    print(second,end= \" \")"
   ]
  },
  {
   "cell_type": "code",
   "execution_count": null,
   "id": "b72a7896",
   "metadata": {},
   "outputs": [],
   "source": []
  },
  {
   "cell_type": "code",
   "execution_count": null,
   "id": "9e6f4510",
   "metadata": {},
   "outputs": [],
   "source": [
    "https://pythontutor.com/render.html#mode=display"
   ]
  },
  {
   "cell_type": "code",
   "execution_count": 40,
   "id": "1adbec66",
   "metadata": {},
   "outputs": [],
   "source": [
    "lst = [\"Phy\",\"Mihir\",\"Chem\",\"MATH\",\"mUMBAI\",\"Delhi\"]\n",
    "# lst1 = [\"Mihir\",\"Mumbai\",\"Math\"]"
   ]
  },
  {
   "cell_type": "code",
   "execution_count": 44,
   "id": "39faad45",
   "metadata": {},
   "outputs": [
    {
     "data": {
      "text/plain": [
       "['mumbai']"
      ]
     },
     "execution_count": 44,
     "metadata": {},
     "output_type": "execute_result"
    }
   ],
   "source": [
    "lst1 = [i.lower() for i in lst if i.startswith(\"m\") ]\n",
    "lst1"
   ]
  },
  {
   "cell_type": "code",
   "execution_count": null,
   "id": "0c3852f2",
   "metadata": {},
   "outputs": [],
   "source": [
    "if lst[i].startswith(\"m\").lower==True:\n",
    "Shweta Bhalerao21:51\n",
    "lst1 = [i.lower() for i in lst if i.startswith(m)]\n",
    "Mahesh Swami21:51\n",
    "lst1.append(i)\n",
    "snehal kokate21:52\n",
    "lst1=[i .lower for i in lst if i.startswith('m')]\n",
    "Bhairavi Bendre21:52\n",
    "[i if i.startswith(\"M\") for i in lst]"
   ]
  },
  {
   "cell_type": "code",
   "execution_count": 45,
   "id": "2c905c3b",
   "metadata": {},
   "outputs": [
    {
     "data": {
      "text/plain": [
       "['Mihir', 'Math', 'Mumbai']"
      ]
     },
     "execution_count": 45,
     "metadata": {},
     "output_type": "execute_result"
    }
   ],
   "source": [
    "lst1=[i.title() for i in lst if i.lower().startswith(\"m\")]\n",
    "lst1"
   ]
  },
  {
   "cell_type": "code",
   "execution_count": 47,
   "id": "141b64bb",
   "metadata": {},
   "outputs": [],
   "source": [
    "del lst1"
   ]
  },
  {
   "cell_type": "code",
   "execution_count": 49,
   "id": "31b3b2a0",
   "metadata": {},
   "outputs": [
    {
     "name": "stdout",
     "output_type": "stream",
     "text": [
      "['Mihir', 'MATH', 'mUMBAI']\n"
     ]
    }
   ],
   "source": [
    "lst1 = []\n",
    "for i in lst:\n",
    "    if i.startswith(\"M\") == True or i.startswith(\"m\") == True:\n",
    "        lst1.append(i)\n",
    "print(lst1)"
   ]
  },
  {
   "cell_type": "raw",
   "id": "8cf59ef7",
   "metadata": {},
   "source": [
    "lst = [ i.title() for i in list i.startswith(\"m\") ]\n",
    "Aditi Shalu21:57\n",
    "i.title() for i  in lst if i.lower().startswith(\"m\")\n",
    "Shubham Barkate21:57\n",
    "lst1=[i.title() for i in lst if i.title().startswith(\"M\")]"
   ]
  }
 ],
 "metadata": {
  "kernelspec": {
   "display_name": "Python 3 (ipykernel)",
   "language": "python",
   "name": "python3"
  },
  "language_info": {
   "codemirror_mode": {
    "name": "ipython",
    "version": 3
   },
   "file_extension": ".py",
   "mimetype": "text/x-python",
   "name": "python",
   "nbconvert_exporter": "python",
   "pygments_lexer": "ipython3",
   "version": "3.10.5"
  }
 },
 "nbformat": 4,
 "nbformat_minor": 5
}
