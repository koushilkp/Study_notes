{
 "cells": [
  {
   "cell_type": "code",
   "execution_count": 9,
   "id": "49b769cb",
   "metadata": {},
   "outputs": [],
   "source": [
    "import numpy as np"
   ]
  },
  {
   "cell_type": "code",
   "execution_count": null,
   "id": "56cf8122",
   "metadata": {},
   "outputs": [],
   "source": [
    "What is pandas?\n",
    "Data structures in pandas\n",
    "What is numpy array\n",
    "Difference between array and list\n",
    "Difference between series and dataframe\n",
    "Can we join multiple arrays\n",
    "Create a dataframe using array\n",
    "Transpose\n",
    "Random.randint         done"
   ]
  },
  {
   "cell_type": "markdown",
   "id": "86f92c0f",
   "metadata": {},
   "source": [
    "\n",
    "\n",
    "**Pandas** is an open-source library that is made mainly for working with relational \n",
    "or labeled data both easily and intuitively. It provides various data structures and operations for manipulating\n",
    "**numerical data and time series**. This library is built on top of the NumPy library.\n",
    "Pandas is fast and it has high performance & productivity for users."
   ]
  },
  {
   "cell_type": "raw",
   "id": "05ba93de",
   "metadata": {},
   "source": [
    "**Advantages** \n",
    "Fast and efficient for manipulating and analyzing data.\n",
    "Data from different file objects can be loaded.\n",
    "Easy handling of missing data (represented as NaN) in floating point as well as non-floating point data\n",
    "Size mutability: columns can be inserted and deleted from DataFrame and higher dimensional objects\n",
    "Data set merging and joining.(data frame ka no. of  rows shoulds be same of old data frame)\n",
    "Flexible reshaping and pivoting of data sets\n",
    "Provides time-series functionality.\n",
    "Powerful group by functionality for performing split-apply-combine operation on data sets"
   ]
  },
  {
   "cell_type": "markdown",
   "id": "99d4f98e",
   "metadata": {},
   "source": [
    "series , data frame , panel"
   ]
  },
  {
   "cell_type": "markdown",
   "id": "cd553e32",
   "metadata": {},
   "source": [
    "**series**is a one-dimensional labeled array and capable of holding data of any type (integer, string, float, python objects, etc.)"
   ]
  },
  {
   "cell_type": "markdown",
   "id": "c069dd3d",
   "metadata": {},
   "source": [
    "**data frame**Pandas DataFrame is a two-dimensional size-mutable, potentially heterogeneous tabular data structure with labeled axes (rows and columns). A Data frame is a two-dimensional data structure, i.e., data is aligned in a tabular fashion in rows and columns like a spreadsheet or SQL table, or a dict of Series objects. . **Pandas DataFrame consists of three principal components, the data, rows, and columns.\n",
    "\n",
    "Creating a Pandas DataFrame\n",
    "In the real world, a Pandas DataFrame will be created by loading the"
   ]
  },
  {
   "cell_type": "markdown",
   "id": "5429f58a",
   "metadata": {},
   "source": [
    "![aee1ae10-2d57-456a-833b-c09aced5f3e3.jpg](attachment:aee1ae10-2d57-456a-833b-c09aced5f3e3.jpg)"
   ]
  },
  {
   "cell_type": "markdown",
   "id": "14250ef4",
   "metadata": {},
   "source": [
    "**NumPy** is a library for the Python programming language, \n",
    "adding support for large, multi-dimensional arrays and matrices, \n",
    "along with a large collection of high-level mathematical functions to operate on these arrays"
   ]
  },
  {
   "cell_type": "markdown",
   "id": "3e751dc0",
   "metadata": {},
   "source": [
    "S.No.\tList\tArray\n",
    "1\tList is used to collect items that usually consist of elements of multiple data types.\n",
    "    An array is also a vital component that collects several items of the same data type.\n",
    "\n",
    "2\tList cannot manage arithmetic operations.\n",
    "Array can manage arithmetic operations.\n",
    "\n",
    "3\tIt consists of elements that belong to the different data types.\n",
    "    It consists of elements that belong to the same data type.\n",
    "\n",
    "4\tWhen it comes to flexibility, the list is perfect as it allows easy modification of data.\n",
    "    When it comes to flexibility, the array is not suitable as it does not allow easy modification of data.\n",
    "\n",
    "5\tIt consumes a larger memory.\n",
    "    It consumes less memory than a list.\n",
    "\n",
    "6\tIn a list, the complete list can be accessed without any specific looping.\n",
    "In an array, a loop is mandatory to access the components of the array.\n",
    "\n",
    "7\tIt favors a shorter sequence of data.\n",
    "    It favors a longer sequence of data."
   ]
  },
  {
   "cell_type": "code",
   "execution_count": null,
   "id": "27333fbc",
   "metadata": {},
   "outputs": [],
   "source": []
  },
  {
   "cell_type": "code",
   "execution_count": null,
   "id": "f00cb7a6",
   "metadata": {},
   "outputs": [],
   "source": []
  },
  {
   "cell_type": "code",
   "execution_count": null,
   "id": "ed79631e",
   "metadata": {},
   "outputs": [],
   "source": []
  },
  {
   "cell_type": "code",
   "execution_count": null,
   "id": "229930e2",
   "metadata": {},
   "outputs": [],
   "source": []
  },
  {
   "cell_type": "code",
   "execution_count": null,
   "id": "460a37cf",
   "metadata": {},
   "outputs": [],
   "source": []
  },
  {
   "cell_type": "code",
   "execution_count": null,
   "id": "712e7a05",
   "metadata": {},
   "outputs": [],
   "source": [
    "sin >> Opp/Hyp\n",
    "cos = Adj/Hyp\n",
    "sec= 1/cos\n",
    "cot = 1/tan > cos/sin\n",
    "tan = sin/cos\n",
    "cosec = Hyp/Opp >> 1/sin"
   ]
  },
  {
   "cell_type": "markdown",
   "id": "a5235a5b",
   "metadata": {},
   "source": [
    "## radian to degree"
   ]
  },
  {
   "cell_type": "code",
   "execution_count": 2,
   "id": "c9bf6080",
   "metadata": {},
   "outputs": [
    {
     "data": {
      "text/plain": [
       "3.141592653589793"
      ]
     },
     "execution_count": 2,
     "metadata": {},
     "output_type": "execute_result"
    }
   ],
   "source": [
    "np.pi  # radian >> 180 degree\n",
    "# sin(30) >>1/2 =0.5"
   ]
  },
  {
   "cell_type": "code",
   "execution_count": null,
   "id": "ab8fe1e4",
   "metadata": {},
   "outputs": [],
   "source": [
    "np.pi >> it return pi value in radian"
   ]
  },
  {
   "cell_type": "code",
   "execution_count": 3,
   "id": "f7a7d466",
   "metadata": {},
   "outputs": [
    {
     "data": {
      "text/plain": [
       "180.0"
      ]
     },
     "execution_count": 3,
     "metadata": {},
     "output_type": "execute_result"
    }
   ],
   "source": [
    "np.rad2deg(np.pi)  # rad to degree"
   ]
  },
  {
   "cell_type": "code",
   "execution_count": 3,
   "id": "50482648",
   "metadata": {},
   "outputs": [
    {
     "data": {
      "text/plain": [
       "0.49999999999999994"
      ]
     },
     "execution_count": 3,
     "metadata": {},
     "output_type": "execute_result"
    }
   ],
   "source": [
    "np.sin(np.pi/6)  #180/6 =30       "
   ]
  },
  {
   "cell_type": "code",
   "execution_count": 5,
   "id": "be7e25f7",
   "metadata": {},
   "outputs": [
    {
     "data": {
      "text/plain": [
       "0.7071067811865476"
      ]
     },
     "execution_count": 5,
     "metadata": {},
     "output_type": "execute_result"
    }
   ],
   "source": [
    "np.cos(np.pi/4) # 45"
   ]
  },
  {
   "cell_type": "code",
   "execution_count": null,
   "id": "89459119",
   "metadata": {},
   "outputs": [],
   "source": []
  },
  {
   "cell_type": "code",
   "execution_count": 8,
   "id": "1330dd25",
   "metadata": {},
   "outputs": [
    {
     "data": {
      "text/plain": [
       "0"
      ]
     },
     "execution_count": 8,
     "metadata": {},
     "output_type": "execute_result"
    }
   ],
   "source": [
    "round(np.cos(np.pi/2)) # 90"
   ]
  },
  {
   "cell_type": "markdown",
   "id": "fdc68285",
   "metadata": {},
   "source": [
    "## degree to radian"
   ]
  },
  {
   "cell_type": "code",
   "execution_count": 5,
   "id": "fa89fb03",
   "metadata": {},
   "outputs": [
    {
     "data": {
      "text/plain": [
       "array([0.        , 0.52359878, 0.78539816, 1.04719755, 1.57079633])"
      ]
     },
     "execution_count": 5,
     "metadata": {},
     "output_type": "execute_result"
    }
   ],
   "source": [
    "arr = np.array([0,30,45,60,90])# degree\n",
    "ar1_rad = np.deg2rad(arr)\n",
    "ar1_rad"
   ]
  },
  {
   "cell_type": "code",
   "execution_count": 10,
   "id": "3ce9c408",
   "metadata": {},
   "outputs": [
    {
     "data": {
      "text/plain": [
       "array([ 0.        , 30.00000025, 44.99999981, 59.99999993, 90.00000018])"
      ]
     },
     "execution_count": 10,
     "metadata": {},
     "output_type": "execute_result"
    }
   ],
   "source": [
    "# radian to degree\n",
    "arr2 = np.array([0.        , 0.52359878, 0.78539816, 1.04719755, 1.57079633])\n",
    "degree = np.rad2deg(arr2)\n",
    "degree"
   ]
  },
  {
   "cell_type": "markdown",
   "id": "6000389e",
   "metadata": {},
   "source": [
    "## linear"
   ]
  },
  {
   "cell_type": "code",
   "execution_count": null,
   "id": "b5793854",
   "metadata": {},
   "outputs": [],
   "source": [
    "2x + 4y = 20 >>>>> eq 1 *3\n",
    "3x + 5y = 15 >>>>>>eq 2 *2\n",
    "x & y\n",
    "6x + 12y = 60\n",
    "6x + 10y = 30\n",
    "y  > 15 ans\n",
    "x > -20 ans"
   ]
  },
  {
   "cell_type": "code",
   "execution_count": 12,
   "id": "ccbc9ea7",
   "metadata": {},
   "outputs": [
    {
     "data": {
      "text/plain": [
       "[20, 15]"
      ]
     },
     "execution_count": 12,
     "metadata": {},
     "output_type": "execute_result"
    }
   ],
   "source": [
    "# 2.8x + 4y = 20 \n",
    "# 3x + 5y = 15\n",
    "[[2.8,4],[3.85,5]]\n",
    "[20,15]"
   ]
  },
  {
   "cell_type": "code",
   "execution_count": 13,
   "id": "fab79b81",
   "metadata": {},
   "outputs": [
    {
     "data": {
      "text/plain": [
       "array([-33.33333333,  28.33333333])"
      ]
     },
     "execution_count": 13,
     "metadata": {},
     "output_type": "execute_result"
    }
   ],
   "source": [
    "A = np.array([[2.8,4],[3.8,5]])\n",
    "B = np.array([20,15])\n",
    "result = np.linalg.solve(A,B)\n",
    "result"
   ]
  },
  {
   "cell_type": "markdown",
   "id": "b30e7679",
   "metadata": {},
   "source": [
    "## interview Question"
   ]
  },
  {
   "cell_type": "markdown",
   "id": "d612c662",
   "metadata": {},
   "source": [
    "## inverse of matrix"
   ]
  },
  {
   "cell_type": "code",
   "execution_count": 12,
   "id": "bc362691",
   "metadata": {},
   "outputs": [
    {
     "data": {
      "text/plain": [
       "array([[2, 5],\n",
       "       [3, 4]])"
      ]
     },
     "execution_count": 12,
     "metadata": {},
     "output_type": "execute_result"
    }
   ],
   "source": [
    "arrA = np.array([[2,5],[3,4]])\n",
    "arrA"
   ]
  },
  {
   "cell_type": "code",
   "execution_count": 13,
   "id": "65f41fdc",
   "metadata": {},
   "outputs": [
    {
     "data": {
      "text/plain": [
       "array([[-0.57142857,  0.71428571],\n",
       "       [ 0.42857143, -0.28571429]])"
      ]
     },
     "execution_count": 13,
     "metadata": {},
     "output_type": "execute_result"
    }
   ],
   "source": [
    "np.linalg.inv(arrA)"
   ]
  },
  {
   "cell_type": "markdown",
   "id": "9b37defd",
   "metadata": {},
   "source": [
    "## index"
   ]
  },
  {
   "cell_type": "code",
   "execution_count": 16,
   "id": "f3667af2",
   "metadata": {},
   "outputs": [
    {
     "data": {
      "text/plain": [
       "2"
      ]
     },
     "execution_count": 16,
     "metadata": {},
     "output_type": "execute_result"
    }
   ],
   "source": [
    "list1 = [3,4,5,6,5,7,5,6,5]\n",
    "list1.index(5)"
   ]
  },
  {
   "cell_type": "code",
   "execution_count": 17,
   "id": "9ccb0763",
   "metadata": {},
   "outputs": [
    {
     "data": {
      "text/plain": [
       "(array([2, 4, 6, 8], dtype=int64),)"
      ]
     },
     "execution_count": 17,
     "metadata": {},
     "output_type": "execute_result"
    }
   ],
   "source": [
    "arr = np.array(list1)\n",
    "np.where(arr == 5)"
   ]
  },
  {
   "cell_type": "markdown",
   "id": "eae81bec",
   "metadata": {},
   "source": [
    "## sqrt"
   ]
  },
  {
   "cell_type": "code",
   "execution_count": 16,
   "id": "feb1cab7",
   "metadata": {},
   "outputs": [
    {
     "data": {
      "text/plain": [
       "5.0"
      ]
     },
     "execution_count": 16,
     "metadata": {},
     "output_type": "execute_result"
    }
   ],
   "source": [
    "lst1 = [25,64,100,4]\n",
    "import math\n",
    "math.sqrt(25)"
   ]
  },
  {
   "cell_type": "code",
   "execution_count": 20,
   "id": "2a71ed85",
   "metadata": {},
   "outputs": [
    {
     "ename": "TypeError",
     "evalue": "must be real number, not list",
     "output_type": "error",
     "traceback": [
      "\u001b[1;31m---------------------------------------------------------------------------\u001b[0m",
      "\u001b[1;31mTypeError\u001b[0m                                 Traceback (most recent call last)",
      "\u001b[1;32m~\\AppData\\Local\\Temp/ipykernel_7304/1778088214.py\u001b[0m in \u001b[0;36m<module>\u001b[1;34m\u001b[0m\n\u001b[1;32m----> 1\u001b[1;33m \u001b[0mmath\u001b[0m\u001b[1;33m.\u001b[0m\u001b[0msqrt\u001b[0m\u001b[1;33m(\u001b[0m\u001b[0mlst1\u001b[0m\u001b[1;33m)\u001b[0m\u001b[1;33m\u001b[0m\u001b[1;33m\u001b[0m\u001b[0m\n\u001b[0m",
      "\u001b[1;31mTypeError\u001b[0m: must be real number, not list"
     ]
    }
   ],
   "source": [
    "math.sqrt(lst1)"
   ]
  },
  {
   "cell_type": "code",
   "execution_count": 22,
   "id": "c9b42b80",
   "metadata": {},
   "outputs": [
    {
     "data": {
      "text/plain": [
       "array([ 5.,  8., 10.,  2.])"
      ]
     },
     "execution_count": 22,
     "metadata": {},
     "output_type": "execute_result"
    }
   ],
   "source": [
    "arr1 = np.array(lst1)\n",
    "np.sqrt(arr1)"
   ]
  },
  {
   "cell_type": "markdown",
   "id": "ccf8efb3",
   "metadata": {},
   "source": [
    "## cube root"
   ]
  },
  {
   "cell_type": "code",
   "execution_count": 24,
   "id": "5bfef715",
   "metadata": {},
   "outputs": [
    {
     "data": {
      "text/plain": [
       "array([2., 3., 5., 4.])"
      ]
     },
     "execution_count": 24,
     "metadata": {},
     "output_type": "execute_result"
    }
   ],
   "source": [
    "arr1 = np.array([8,27,125,64])\n",
    "np.cbrt(arr1)"
   ]
  },
  {
   "cell_type": "code",
   "execution_count": 18,
   "id": "7fe5b614",
   "metadata": {},
   "outputs": [
    {
     "data": {
      "text/plain": [
       "array([1, 1, 1, 1, 1, 1, 1, 1, 1, 1])"
      ]
     },
     "execution_count": 18,
     "metadata": {},
     "output_type": "execute_result"
    }
   ],
   "source": [
    "arr = np.ones(10,int)\n",
    "arr"
   ]
  },
  {
   "cell_type": "code",
   "execution_count": null,
   "id": "4ed8631a",
   "metadata": {},
   "outputs": [],
   "source": [
    "[5,5,5,5,5,5]"
   ]
  },
  {
   "cell_type": "code",
   "execution_count": 29,
   "id": "a9050fa9",
   "metadata": {},
   "outputs": [
    {
     "data": {
      "text/plain": [
       "array([5, 5, 5, 5, 5, 5, 5, 5, 5, 5])"
      ]
     },
     "execution_count": 29,
     "metadata": {},
     "output_type": "execute_result"
    }
   ],
   "source": [
    "arr = np.ones(10,int)\n",
    "arr*5"
   ]
  },
  {
   "cell_type": "code",
   "execution_count": 27,
   "id": "2bba6047",
   "metadata": {},
   "outputs": [
    {
     "data": {
      "text/plain": [
       "array([5, 5, 5, 5, 5, 5, 5, 5, 5, 5])"
      ]
     },
     "execution_count": 27,
     "metadata": {},
     "output_type": "execute_result"
    }
   ],
   "source": [
    "arr = np.ones(10,int)\n",
    "arr+4"
   ]
  },
  {
   "cell_type": "code",
   "execution_count": 19,
   "id": "4c84c8fb",
   "metadata": {},
   "outputs": [
    {
     "data": {
      "text/plain": [
       "array([7, 7, 7, 7, 7, 7, 7, 7, 7, 7])"
      ]
     },
     "execution_count": 19,
     "metadata": {},
     "output_type": "execute_result"
    }
   ],
   "source": [
    "arr = np.full(10,7)  # shape & filled value\n",
    "arr\n"
   ]
  },
  {
   "cell_type": "markdown",
   "id": "dc344d5f",
   "metadata": {},
   "source": [
    "## copy()"
   ]
  },
  {
   "cell_type": "code",
   "execution_count": 32,
   "id": "24d650d3",
   "metadata": {},
   "outputs": [
    {
     "data": {
      "text/plain": [
       "array([  5, 100,   5,   5,   5,   5,   5,   5,   5,   5])"
      ]
     },
     "execution_count": 32,
     "metadata": {},
     "output_type": "execute_result"
    }
   ],
   "source": [
    "arr = np.full(10,5)  # shape & filled value\n",
    "arr[1] = 100\n",
    "arr"
   ]
  },
  {
   "cell_type": "code",
   "execution_count": 34,
   "id": "a1954886",
   "metadata": {},
   "outputs": [
    {
     "name": "stdout",
     "output_type": "stream",
     "text": [
      "[  5 100   5   5   5   5   5   5   5   5]\n",
      "[  5 100   5   5   5   5   5   5   5   5]\n"
     ]
    }
   ],
   "source": [
    "arr = np.full(10,5)  # shape & filled value\n",
    "arr1 = arr\n",
    "arr[1] = 100\n",
    "print(arr)\n",
    "print(arr1)"
   ]
  },
  {
   "cell_type": "code",
   "execution_count": 35,
   "id": "7075caa5",
   "metadata": {},
   "outputs": [
    {
     "name": "stdout",
     "output_type": "stream",
     "text": [
      "[  5 100   5   5   5   5   5   5   5   5]\n",
      "[5 5 5 5 5 5 5 5 5 5]\n"
     ]
    }
   ],
   "source": [
    "arr = np.full(10,5)  # shape & filled value\n",
    "arr1 = arr.copy() # deep copy\n",
    "arr[1] = 100\n",
    "print(arr)\n",
    "print(arr1)"
   ]
  },
  {
   "cell_type": "code",
   "execution_count": 36,
   "id": "23ce3046",
   "metadata": {},
   "outputs": [
    {
     "data": {
      "text/plain": [
       "array([[3, 4],\n",
       "       [4, 5]])"
      ]
     },
     "execution_count": 36,
     "metadata": {},
     "output_type": "execute_result"
    }
   ],
   "source": [
    "arr = np.array([[3,4],[4,5]])\n",
    "arr"
   ]
  },
  {
   "cell_type": "code",
   "execution_count": 38,
   "id": "dc572c5f",
   "metadata": {},
   "outputs": [],
   "source": [
    "arr[1,0] = 100"
   ]
  },
  {
   "cell_type": "code",
   "execution_count": 39,
   "id": "ff8268c3",
   "metadata": {},
   "outputs": [
    {
     "data": {
      "text/plain": [
       "array([[  3,   4],\n",
       "       [100,   5]])"
      ]
     },
     "execution_count": 39,
     "metadata": {},
     "output_type": "execute_result"
    }
   ],
   "source": [
    "arr"
   ]
  },
  {
   "cell_type": "code",
   "execution_count": 40,
   "id": "a26a3a69",
   "metadata": {},
   "outputs": [
    {
     "name": "stdout",
     "output_type": "stream",
     "text": [
      "[[  3   4]\n",
      " [100   5]]\n",
      "[[  3   4]\n",
      " [100   5]]\n"
     ]
    }
   ],
   "source": [
    "arr = np.array([[3,4],[4,5]])\n",
    "arr1 = arr\n",
    "arr[1,0] = 100\n",
    "print(arr)\n",
    "print(arr1)"
   ]
  },
  {
   "cell_type": "code",
   "execution_count": 41,
   "id": "435cc5b2",
   "metadata": {},
   "outputs": [
    {
     "name": "stdout",
     "output_type": "stream",
     "text": [
      "[[  3   4]\n",
      " [100   5]]\n",
      "[[3 4]\n",
      " [4 5]]\n"
     ]
    }
   ],
   "source": [
    "arr = np.array([[3,4],[4,5]])\n",
    "arr1 = arr.copy()\n",
    "arr[1,0] = 100\n",
    "print(arr)\n",
    "print(arr1)"
   ]
  },
  {
   "cell_type": "markdown",
   "id": "d2c2ccb5",
   "metadata": {},
   "source": [
    "## Traspose"
   ]
  },
  {
   "cell_type": "code",
   "execution_count": 26,
   "id": "17caf52e",
   "metadata": {},
   "outputs": [
    {
     "name": "stdout",
     "output_type": "stream",
     "text": [
      "[[ 3 41]\n",
      " [ 4  5]]\n"
     ]
    },
    {
     "data": {
      "text/plain": [
       "array([[ 3,  4],\n",
       "       [41,  5]])"
      ]
     },
     "execution_count": 26,
     "metadata": {},
     "output_type": "execute_result"
    }
   ],
   "source": [
    "arr = np.array([[3,41],[4,5]])\n",
    "print(arr)\n",
    "arr.T  # Transpose"
   ]
  },
  {
   "cell_type": "markdown",
   "id": "6beb6ab2",
   "metadata": {},
   "source": [
    "## size"
   ]
  },
  {
   "cell_type": "code",
   "execution_count": 10,
   "id": "ba580f5b",
   "metadata": {},
   "outputs": [
    {
     "data": {
      "text/plain": [
       "(2, 2)"
      ]
     },
     "execution_count": 10,
     "metadata": {},
     "output_type": "execute_result"
    }
   ],
   "source": [
    "import numpy as np \n",
    "arr = np.array([[3,41],[4,5]])\n",
    "# np.shape(arr)\n",
    "np.shape(arr)\n",
    "# array1=np.shape(arr)\n",
    "# print(array1)\n",
    "# arr.size"
   ]
  },
  {
   "cell_type": "code",
   "execution_count": 27,
   "id": "69333ece",
   "metadata": {},
   "outputs": [
    {
     "data": {
      "text/plain": [
       "4"
      ]
     },
     "execution_count": 27,
     "metadata": {},
     "output_type": "execute_result"
    }
   ],
   "source": [
    "arr = np.array([3,41,4,5])\n",
    "arr.size"
   ]
  },
  {
   "cell_type": "code",
   "execution_count": 48,
   "id": "747b532c",
   "metadata": {},
   "outputs": [],
   "source": [
    "arr = np.array([3,41,4,5])"
   ]
  },
  {
   "cell_type": "code",
   "execution_count": 49,
   "id": "80443bf3",
   "metadata": {},
   "outputs": [
    {
     "data": {
      "text/plain": [
       "4"
      ]
     },
     "execution_count": 49,
     "metadata": {},
     "output_type": "execute_result"
    }
   ],
   "source": [
    "len(arr)"
   ]
  },
  {
   "cell_type": "markdown",
   "id": "1d25378d",
   "metadata": {},
   "source": [
    "## To know index of max & min element"
   ]
  },
  {
   "cell_type": "code",
   "execution_count": 8,
   "id": "d4c88cd4",
   "metadata": {},
   "outputs": [
    {
     "data": {
      "text/plain": [
       "(array([3], dtype=int64),)"
      ]
     },
     "execution_count": 8,
     "metadata": {},
     "output_type": "execute_result"
    }
   ],
   "source": [
    "arr = np.array([66,55,17,88,19,2,3,4])\n",
    "N1=np.where(arr==arr.max())\n",
    "N1[0].tolist()\n",
    "N1"
   ]
  },
  {
   "cell_type": "code",
   "execution_count": 16,
   "id": "f413790f",
   "metadata": {},
   "outputs": [
    {
     "name": "stdout",
     "output_type": "stream",
     "text": [
      "The maximun value is=88 at index=3\n"
     ]
    }
   ],
   "source": [
    "arr = np.array([66,55,17,88,19,2,3,4])\n",
    "# arr.argmax()\n",
    "# arr.argmin()\n",
    "# arr.argsort()\n",
    "print(f\"The maximun value is={arr.max()} at index={arr.argmax()}\")"
   ]
  },
  {
   "cell_type": "code",
   "execution_count": 57,
   "id": "ef34352e",
   "metadata": {},
   "outputs": [
    {
     "data": {
      "text/plain": [
       "5"
      ]
     },
     "execution_count": 57,
     "metadata": {},
     "output_type": "execute_result"
    }
   ],
   "source": [
    "arr = np.array([66,55,17,88,19,2,3,4])\n",
    "arr.argmin()"
   ]
  },
  {
   "cell_type": "markdown",
   "id": "792e1877",
   "metadata": {},
   "source": [
    "## Sort index wise"
   ]
  },
  {
   "cell_type": "code",
   "execution_count": 58,
   "id": "b15f9ff6",
   "metadata": {},
   "outputs": [
    {
     "data": {
      "text/plain": [
       "array([5, 6, 7, 2, 4, 1, 0, 3], dtype=int64)"
      ]
     },
     "execution_count": 58,
     "metadata": {},
     "output_type": "execute_result"
    }
   ],
   "source": [
    "arr = np.array([66,55,17,88,19,2,3,4])\n",
    "arr.argsort()"
   ]
  },
  {
   "cell_type": "markdown",
   "id": "61703b8e",
   "metadata": {},
   "source": [
    "## np.tile"
   ]
  },
  {
   "cell_type": "code",
   "execution_count": 44,
   "id": "dc788bd5",
   "metadata": {},
   "outputs": [
    {
     "data": {
      "text/plain": [
       "[1, 2, 3, 4, 1, 2, 3, 4]"
      ]
     },
     "execution_count": 44,
     "metadata": {},
     "output_type": "execute_result"
    }
   ],
   "source": [
    "# [1,2,3,4]  # o/p >> [1,2,3,4,1,2,3,4]\n",
    "l =  [1,2,3,4] \n",
    "l*2"
   ]
  },
  {
   "cell_type": "code",
   "execution_count": 64,
   "id": "1aa049c0",
   "metadata": {},
   "outputs": [
    {
     "data": {
      "text/plain": [
       "array([1, 2, 3, 4, 1, 2, 3, 4])"
      ]
     },
     "execution_count": 64,
     "metadata": {},
     "output_type": "execute_result"
    }
   ],
   "source": [
    "arr1 = np.array(l)\n",
    "arr2 = np.array(l)\n",
    "np.concatenate([arr1,arr2])"
   ]
  },
  {
   "cell_type": "code",
   "execution_count": null,
   "id": "7831425e",
   "metadata": {},
   "outputs": [],
   "source": [
    "np.concatenate(arr1,arr1)\n",
    "Aditi Shalu21:08\n",
    "lst1 = [1,2,3,4]\n",
    "lst1.extend(lst1)\n",
    "lst1\n",
    "sagar Sonawane21:08\n",
    "arr1*2\n",
    "AMAR SHRINATH21:09\n",
    "np.append(arr1, arr1)"
   ]
  },
  {
   "cell_type": "code",
   "execution_count": null,
   "id": "9ced7c9a",
   "metadata": {},
   "outputs": [],
   "source": []
  },
  {
   "cell_type": "code",
   "execution_count": null,
   "id": "3c7dedb5",
   "metadata": {},
   "outputs": [],
   "source": [
    "np.append(arr1, arr1)"
   ]
  },
  {
   "cell_type": "code",
   "execution_count": 65,
   "id": "de624965",
   "metadata": {},
   "outputs": [
    {
     "data": {
      "text/plain": [
       "array([1, 2, 3, 4, 1, 2, 3, 4])"
      ]
     },
     "execution_count": 65,
     "metadata": {},
     "output_type": "execute_result"
    }
   ],
   "source": [
    "np.tile(l,2)"
   ]
  },
  {
   "cell_type": "markdown",
   "id": "2b6dc643",
   "metadata": {},
   "source": [
    "## repeat"
   ]
  },
  {
   "cell_type": "code",
   "execution_count": null,
   "id": "7752ca65",
   "metadata": {},
   "outputs": [],
   "source": [
    "l = [1,2,3,4] >>o/p [1,1,2,2,3,3,4,4]"
   ]
  },
  {
   "cell_type": "code",
   "execution_count": 67,
   "id": "0db7bdaa",
   "metadata": {},
   "outputs": [
    {
     "data": {
      "text/plain": [
       "array([1, 1, 2, 2, 3, 3, 4, 4])"
      ]
     },
     "execution_count": 67,
     "metadata": {},
     "output_type": "execute_result"
    }
   ],
   "source": [
    "np.sort(np.tile(l,2))"
   ]
  },
  {
   "cell_type": "code",
   "execution_count": 68,
   "id": "f865a378",
   "metadata": {},
   "outputs": [
    {
     "data": {
      "text/plain": [
       "array([1, 1, 2, 2, 3, 3, 4, 4])"
      ]
     },
     "execution_count": 68,
     "metadata": {},
     "output_type": "execute_result"
    }
   ],
   "source": [
    "np.repeat(l,2)"
   ]
  },
  {
   "cell_type": "raw",
   "id": "1179f307",
   "metadata": {},
   "source": [
    "np.append(arr1, arr1)\n",
    "np.sort(np.append(arr1, arr1))\n",
    "SHUBHAM AWARE PATIL21:13\n",
    "arr=np.array([1,2,3,4])\n",
    "arr2=np.append(arr,arr)\n",
    "arr3=np.sort(arr2)\n",
    "arr3\n",
    "Saurabh Birhade21:13\n",
    "sorted(l*2)\n",
    "\n",
    "Sharad Phuse21:14\n",
    "l = [1,2,3,4]\n",
    "l2 = [1,2,3,4]\n",
    "a = l+l2\n",
    "sorted(a)\n",
    "Tabish Qazi21:14\n",
    "a.extend(a)\n",
    "print(a)\n",
    "a.sort()\n",
    "print(a)\n",
    "ganesh dhage21:15\n",
    "l = [1,2,3,4]\n",
    "l2 =[]\n",
    "for i in l:\n",
    "    l2.append(i)\n",
    "    l2.append(i)\n",
    "arr = np.array(l2)\n",
    "arr"
   ]
  }
 ],
 "metadata": {
  "kernelspec": {
   "display_name": "Python 3",
   "language": "python",
   "name": "python3"
  },
  "language_info": {
   "codemirror_mode": {
    "name": "ipython",
    "version": 3
   },
   "file_extension": ".py",
   "mimetype": "text/x-python",
   "name": "python",
   "nbconvert_exporter": "python",
   "pygments_lexer": "ipython3",
   "version": "3.8.8"
  }
 },
 "nbformat": 4,
 "nbformat_minor": 5
}
