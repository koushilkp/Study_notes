{
 "cells": [
  {
   "cell_type": "markdown",
   "id": "9d2bb84c",
   "metadata": {},
   "source": [
    "## Frozenset()"
   ]
  },
  {
   "cell_type": "raw",
   "id": "90e3c6d4",
   "metadata": {},
   "source": [
    "1.Unordered\n",
    "2.Duplicates are not allowed\n",
    "3.Immutable > We can not allow to modify\n",
    "4.frozenset()"
   ]
  },
  {
   "cell_type": "code",
   "execution_count": 1,
   "id": "a1140db5",
   "metadata": {},
   "outputs": [
    {
     "data": {
      "text/plain": [
       "set"
      ]
     },
     "execution_count": 1,
     "metadata": {},
     "output_type": "execute_result"
    }
   ],
   "source": [
    "s1 = {1,2,3,4}\n",
    "type(s1)"
   ]
  },
  {
   "cell_type": "code",
   "execution_count": 2,
   "id": "90df3543",
   "metadata": {},
   "outputs": [
    {
     "ename": "TypeError",
     "evalue": "frozenset expected at most 1 argument, got 4",
     "output_type": "error",
     "traceback": [
      "\u001b[1;31m---------------------------------------------------------------------------\u001b[0m",
      "\u001b[1;31mTypeError\u001b[0m                                 Traceback (most recent call last)",
      "\u001b[1;32m~\\AppData\\Local\\Temp/ipykernel_7824/2777548641.py\u001b[0m in \u001b[0;36m<module>\u001b[1;34m\u001b[0m\n\u001b[1;32m----> 1\u001b[1;33m \u001b[0ms1\u001b[0m \u001b[1;33m=\u001b[0m \u001b[0mfrozenset\u001b[0m\u001b[1;33m(\u001b[0m\u001b[1;36m1\u001b[0m\u001b[1;33m,\u001b[0m\u001b[1;36m2\u001b[0m\u001b[1;33m,\u001b[0m\u001b[1;36m3\u001b[0m\u001b[1;33m,\u001b[0m\u001b[1;36m4\u001b[0m\u001b[1;33m)\u001b[0m\u001b[1;33m\u001b[0m\u001b[1;33m\u001b[0m\u001b[0m\n\u001b[0m\u001b[0;32m      2\u001b[0m \u001b[0mtype\u001b[0m\u001b[1;33m(\u001b[0m\u001b[0ms1\u001b[0m\u001b[1;33m)\u001b[0m\u001b[1;33m\u001b[0m\u001b[1;33m\u001b[0m\u001b[0m\n",
      "\u001b[1;31mTypeError\u001b[0m: frozenset expected at most 1 argument, got 4"
     ]
    }
   ],
   "source": [
    "s1 = frozenset(1,2,3,4)\n",
    "type(s1)"
   ]
  },
  {
   "cell_type": "code",
   "execution_count": 3,
   "id": "8799a68f",
   "metadata": {},
   "outputs": [
    {
     "data": {
      "text/plain": [
       "frozenset"
      ]
     },
     "execution_count": 3,
     "metadata": {},
     "output_type": "execute_result"
    }
   ],
   "source": [
    "s1 = frozenset((1,2,3,4))\n",
    "type(s1)"
   ]
  },
  {
   "cell_type": "code",
   "execution_count": 4,
   "id": "9fe04d2f",
   "metadata": {},
   "outputs": [
    {
     "name": "stdout",
     "output_type": "stream",
     "text": [
      "1\n",
      "4\n",
      "9\n",
      "16\n"
     ]
    }
   ],
   "source": [
    "for i in s1:\n",
    "    print(i**2)"
   ]
  },
  {
   "cell_type": "code",
   "execution_count": 6,
   "id": "74dd5dd3",
   "metadata": {},
   "outputs": [
    {
     "name": "stdout",
     "output_type": "stream",
     "text": [
      "frozenset({1, 2, 3, 4})\n",
      "frozenset({1, 2, 3, 4})\n"
     ]
    }
   ],
   "source": [
    "s1  =frozenset({1, 2, 3, 4})\n",
    "s2 =s1\n",
    "print(s1)\n",
    "print(s2)"
   ]
  },
  {
   "cell_type": "code",
   "execution_count": 7,
   "id": "237c02c1",
   "metadata": {},
   "outputs": [
    {
     "ename": "AttributeError",
     "evalue": "'frozenset' object has no attribute 'add'",
     "output_type": "error",
     "traceback": [
      "\u001b[1;31m---------------------------------------------------------------------------\u001b[0m",
      "\u001b[1;31mAttributeError\u001b[0m                            Traceback (most recent call last)",
      "\u001b[1;32m~\\AppData\\Local\\Temp/ipykernel_7824/784183400.py\u001b[0m in \u001b[0;36m<module>\u001b[1;34m\u001b[0m\n\u001b[0;32m      1\u001b[0m \u001b[0ms1\u001b[0m  \u001b[1;33m=\u001b[0m\u001b[0mfrozenset\u001b[0m\u001b[1;33m(\u001b[0m\u001b[1;33m{\u001b[0m\u001b[1;36m1\u001b[0m\u001b[1;33m,\u001b[0m \u001b[1;36m2\u001b[0m\u001b[1;33m,\u001b[0m \u001b[1;36m3\u001b[0m\u001b[1;33m,\u001b[0m \u001b[1;36m4\u001b[0m\u001b[1;33m}\u001b[0m\u001b[1;33m)\u001b[0m\u001b[1;33m\u001b[0m\u001b[1;33m\u001b[0m\u001b[0m\n\u001b[0;32m      2\u001b[0m \u001b[0ms2\u001b[0m \u001b[1;33m=\u001b[0m\u001b[0ms1\u001b[0m\u001b[1;33m\u001b[0m\u001b[1;33m\u001b[0m\u001b[0m\n\u001b[1;32m----> 3\u001b[1;33m \u001b[0ms1\u001b[0m\u001b[1;33m.\u001b[0m\u001b[0madd\u001b[0m\u001b[1;33m(\u001b[0m\u001b[1;36m20\u001b[0m\u001b[1;33m)\u001b[0m\u001b[1;31m#\u001b[0m\u001b[1;33m\u001b[0m\u001b[1;33m\u001b[0m\u001b[0m\n\u001b[0m\u001b[0;32m      4\u001b[0m \u001b[0mprint\u001b[0m\u001b[1;33m(\u001b[0m\u001b[0ms1\u001b[0m\u001b[1;33m)\u001b[0m\u001b[1;33m\u001b[0m\u001b[1;33m\u001b[0m\u001b[0m\n\u001b[0;32m      5\u001b[0m \u001b[0mprint\u001b[0m\u001b[1;33m(\u001b[0m\u001b[0ms2\u001b[0m\u001b[1;33m)\u001b[0m\u001b[1;33m\u001b[0m\u001b[1;33m\u001b[0m\u001b[0m\n",
      "\u001b[1;31mAttributeError\u001b[0m: 'frozenset' object has no attribute 'add'"
     ]
    }
   ],
   "source": [
    "s1  =frozenset({1, 2, 3, 4})\n",
    "s2 =s1\n",
    "s1.add(20)# \n",
    "print(s1)\n",
    "print(s2)"
   ]
  },
  {
   "cell_type": "code",
   "execution_count": 8,
   "id": "948b8f80",
   "metadata": {},
   "outputs": [
    {
     "ename": "AttributeError",
     "evalue": "'frozenset' object has no attribute 'add'",
     "output_type": "error",
     "traceback": [
      "\u001b[1;31m---------------------------------------------------------------------------\u001b[0m",
      "\u001b[1;31mAttributeError\u001b[0m                            Traceback (most recent call last)",
      "\u001b[1;32m~\\AppData\\Local\\Temp/ipykernel_7824/3965607842.py\u001b[0m in \u001b[0;36m<module>\u001b[1;34m\u001b[0m\n\u001b[0;32m      1\u001b[0m \u001b[0ms1\u001b[0m  \u001b[1;33m=\u001b[0m\u001b[0mfrozenset\u001b[0m\u001b[1;33m(\u001b[0m\u001b[1;33m{\u001b[0m\u001b[1;36m1\u001b[0m\u001b[1;33m,\u001b[0m \u001b[1;36m2\u001b[0m\u001b[1;33m,\u001b[0m \u001b[1;36m3\u001b[0m\u001b[1;33m,\u001b[0m \u001b[1;36m4\u001b[0m\u001b[1;33m}\u001b[0m\u001b[1;33m)\u001b[0m\u001b[1;33m\u001b[0m\u001b[1;33m\u001b[0m\u001b[0m\n\u001b[0;32m      2\u001b[0m \u001b[0ms2\u001b[0m \u001b[1;33m=\u001b[0m \u001b[0mset\u001b[0m\u001b[1;33m(\u001b[0m\u001b[0ms1\u001b[0m\u001b[1;33m)\u001b[0m \u001b[1;31m# type casting >we are converting frozenset to set\u001b[0m\u001b[1;33m\u001b[0m\u001b[1;33m\u001b[0m\u001b[0m\n\u001b[1;32m----> 3\u001b[1;33m \u001b[0ms1\u001b[0m\u001b[1;33m.\u001b[0m\u001b[0madd\u001b[0m\u001b[1;33m(\u001b[0m\u001b[1;36m20\u001b[0m\u001b[1;33m)\u001b[0m\u001b[1;31m#\u001b[0m\u001b[1;33m\u001b[0m\u001b[1;33m\u001b[0m\u001b[0m\n\u001b[0m\u001b[0;32m      4\u001b[0m \u001b[0mprint\u001b[0m\u001b[1;33m(\u001b[0m\u001b[0ms1\u001b[0m\u001b[1;33m)\u001b[0m\u001b[1;33m\u001b[0m\u001b[1;33m\u001b[0m\u001b[0m\n\u001b[0;32m      5\u001b[0m \u001b[0mprint\u001b[0m\u001b[1;33m(\u001b[0m\u001b[0ms2\u001b[0m\u001b[1;33m)\u001b[0m\u001b[1;33m\u001b[0m\u001b[1;33m\u001b[0m\u001b[0m\n",
      "\u001b[1;31mAttributeError\u001b[0m: 'frozenset' object has no attribute 'add'"
     ]
    }
   ],
   "source": [
    "s1  =frozenset({1, 2, 3, 4})\n",
    "s2 = set(s1) # type casting >we are converting frozenset to set\n",
    "s1.add(20)# \n",
    "print(s1)\n",
    "print(s2)"
   ]
  },
  {
   "cell_type": "code",
   "execution_count": 12,
   "id": "17aaa010",
   "metadata": {},
   "outputs": [
    {
     "name": "stdout",
     "output_type": "stream",
     "text": [
      "s1 <class 'frozenset'>\n",
      "\n",
      "s2 <class 'set'>\n",
      "\n",
      "frozenset({1, 2, 3, 4})\n",
      "\n",
      "{1, 2, 3, 4, 20}\n"
     ]
    }
   ],
   "source": [
    "s1  =frozenset({1, 2, 3, 4})\n",
    "s2 = set(s1) # type casting >we are converting frozenset to set\n",
    "s2.add(20)# \n",
    "print(\"s1\",type(s1))\n",
    "print()\n",
    "print(\"s2\",type(s2))\n",
    "print()\n",
    "print(s1) # {1,2,3,4}\n",
    "print()\n",
    "print(s2)# {1,2,3,4,20}"
   ]
  },
  {
   "cell_type": "code",
   "execution_count": 13,
   "id": "0b2242f3",
   "metadata": {},
   "outputs": [
    {
     "name": "stdout",
     "output_type": "stream",
     "text": [
      "s1 <class 'set'>\n",
      "\n",
      "s2 <class 'set'>\n",
      "\n",
      "{1, 2, 3, 4, 20}\n",
      "\n",
      "{1, 2, 3, 4, 20}\n"
     ]
    }
   ],
   "source": [
    "s1  =set(frozenset({1, 2, 3, 4})) # type casting >we are converting frozenset to set\n",
    "s2 = s1 \n",
    "s2.add(20)# \n",
    "print(\"s1\",type(s1))\n",
    "print()\n",
    "print(\"s2\",type(s2))\n",
    "print()\n",
    "print(s1) # {1,2,3,4}\n",
    "print()\n",
    "print(s2)# {1,2,3,4,20}"
   ]
  },
  {
   "cell_type": "code",
   "execution_count": 14,
   "id": "836f0433",
   "metadata": {},
   "outputs": [
    {
     "name": "stdout",
     "output_type": "stream",
     "text": [
      "s1 <class 'set'>\n",
      "\n",
      "s2 <class 'set'>\n",
      "\n",
      "{1, 2, 3, 4, 20}\n",
      "\n",
      "{1, 2, 3, 4}\n"
     ]
    }
   ],
   "source": [
    "s1  =set(frozenset({1, 2, 3, 4})) # type casting >we are converting frozenset to set\n",
    "s2 = s1.copy()\n",
    "s1.add(20)# \n",
    "print(\"s1\",type(s1))\n",
    "print()\n",
    "print(\"s2\",type(s2))\n",
    "print()\n",
    "print(s1) # {1,2,3,4,20}\n",
    "print()\n",
    "print(s2)# {1,2,3,4}"
   ]
  },
  {
   "cell_type": "markdown",
   "id": "a55abe24",
   "metadata": {},
   "source": [
    "1.union\n",
    "2.intersection\n",
    "3.differnce\n",
    "4.symmetric_differnce\n",
    "5.issubset() # True/False\n",
    "6.issuperset()# True/False\n",
    "7.isdisjoint()# True/False"
   ]
  },
  {
   "cell_type": "markdown",
   "id": "2b3db447",
   "metadata": {},
   "source": [
    "## 1.union()"
   ]
  },
  {
   "cell_type": "code",
   "execution_count": 15,
   "id": "da5dbd97",
   "metadata": {},
   "outputs": [
    {
     "data": {
      "text/plain": [
       "frozenset({1, 2, 3, 4, 5})"
      ]
     },
     "execution_count": 15,
     "metadata": {},
     "output_type": "execute_result"
    }
   ],
   "source": [
    "fs1 = frozenset((1,2,3,4)) # it return unique value from both frozensets\n",
    "fs2 = frozenset((3,4,5))\n",
    "fs1.union(fs2) # {1,2,3,4,5}"
   ]
  },
  {
   "cell_type": "markdown",
   "id": "f56d8349",
   "metadata": {},
   "source": [
    "## 2.intersection"
   ]
  },
  {
   "cell_type": "code",
   "execution_count": 16,
   "id": "d3fa0dd0",
   "metadata": {},
   "outputs": [
    {
     "data": {
      "text/plain": [
       "frozenset({3, 4})"
      ]
     },
     "execution_count": 16,
     "metadata": {},
     "output_type": "execute_result"
    }
   ],
   "source": [
    "fs1 = frozenset((1,2,3,4)) # it return common values from set1\n",
    "fs2 = frozenset((3,4,5))\n",
    "fs1.intersection(fs2) # {3,4}"
   ]
  },
  {
   "cell_type": "code",
   "execution_count": 17,
   "id": "b12f69a4",
   "metadata": {},
   "outputs": [
    {
     "data": {
      "text/plain": [
       "frozenset()"
      ]
     },
     "execution_count": 17,
     "metadata": {},
     "output_type": "execute_result"
    }
   ],
   "source": [
    "fs1 = frozenset((1,2,3,4)) # it return common values from set1\n",
    "fs2 = frozenset((30,40,50))\n",
    "fs1.intersection(fs2) # {}"
   ]
  },
  {
   "cell_type": "markdown",
   "id": "1e6a6135",
   "metadata": {},
   "source": [
    "## 3.difference()"
   ]
  },
  {
   "cell_type": "code",
   "execution_count": 18,
   "id": "a9f684ea",
   "metadata": {},
   "outputs": [
    {
     "data": {
      "text/plain": [
       "frozenset({1, 2})"
      ]
     },
     "execution_count": 18,
     "metadata": {},
     "output_type": "execute_result"
    }
   ],
   "source": [
    "fs1 = frozenset((1,2,3,4)) # it return unique values from frozenset1\n",
    "fs2 = frozenset((3,4,5))\n",
    "fs1.difference(fs2) # {1,2}"
   ]
  },
  {
   "cell_type": "code",
   "execution_count": 19,
   "id": "3a9997f7",
   "metadata": {},
   "outputs": [
    {
     "data": {
      "text/plain": [
       "frozenset({5})"
      ]
     },
     "execution_count": 19,
     "metadata": {},
     "output_type": "execute_result"
    }
   ],
   "source": [
    "fs1 = frozenset((1,2,3,4)) # it return unique values from frozenset2\n",
    "fs2 = frozenset((3,4,5))\n",
    "fs2.difference(fs1) # {5}"
   ]
  },
  {
   "cell_type": "code",
   "execution_count": 20,
   "id": "7d00a594",
   "metadata": {},
   "outputs": [
    {
     "data": {
      "text/plain": [
       "frozenset()"
      ]
     },
     "execution_count": 20,
     "metadata": {},
     "output_type": "execute_result"
    }
   ],
   "source": [
    "fs1 = frozenset((1,2,3,4,5)) # it return unique values from frozenset2\n",
    "fs2 = frozenset((3,4,5))\n",
    "fs2.difference(fs1) # {}"
   ]
  },
  {
   "cell_type": "markdown",
   "id": "bc45b2ce",
   "metadata": {},
   "source": [
    "## 4)symmetric_differnce"
   ]
  },
  {
   "cell_type": "code",
   "execution_count": 21,
   "id": "9ff0872e",
   "metadata": {},
   "outputs": [
    {
     "data": {
      "text/plain": [
       "frozenset({1, 2, 5})"
      ]
     },
     "execution_count": 21,
     "metadata": {},
     "output_type": "execute_result"
    }
   ],
   "source": [
    "fs1 = frozenset((1,2,3,4)) # it return unique values from both frozensets\n",
    "fs2 = frozenset((3,4,5))\n",
    "fs1.symmetric_difference(fs2) # {1,2,5}"
   ]
  },
  {
   "cell_type": "code",
   "execution_count": 22,
   "id": "8df113af",
   "metadata": {},
   "outputs": [
    {
     "data": {
      "text/plain": [
       "frozenset({1, 2, 5})"
      ]
     },
     "execution_count": 22,
     "metadata": {},
     "output_type": "execute_result"
    }
   ],
   "source": [
    "fs1 = frozenset((1,2,3,4)) # it return unique values from both frozensets\n",
    "fs2 = frozenset((3,4,5))\n",
    "fs2.symmetric_difference(fs1) # {1,2,5}"
   ]
  },
  {
   "cell_type": "markdown",
   "id": "c06c3a68",
   "metadata": {},
   "source": [
    "## 5) issubset()"
   ]
  },
  {
   "cell_type": "code",
   "execution_count": 24,
   "id": "1530996a",
   "metadata": {},
   "outputs": [
    {
     "data": {
      "text/plain": [
       "False"
      ]
     },
     "execution_count": 24,
     "metadata": {},
     "output_type": "execute_result"
    }
   ],
   "source": [
    "fs1 = frozenset((1,2,3,4)) # True /False\n",
    "fs2 = frozenset((3,4))\n",
    "fs1.issubset(fs2) # False"
   ]
  },
  {
   "cell_type": "code",
   "execution_count": 23,
   "id": "69ee9269",
   "metadata": {},
   "outputs": [
    {
     "data": {
      "text/plain": [
       "True"
      ]
     },
     "execution_count": 23,
     "metadata": {},
     "output_type": "execute_result"
    }
   ],
   "source": [
    "fs1 = frozenset((1,2,3,4)) # True /False\n",
    "fs2 = frozenset((3,4))\n",
    "fs2.issubset(fs1) # True"
   ]
  },
  {
   "cell_type": "markdown",
   "id": "48ffd607",
   "metadata": {},
   "source": [
    "## 6)issuperset()"
   ]
  },
  {
   "cell_type": "code",
   "execution_count": 25,
   "id": "900de30d",
   "metadata": {},
   "outputs": [
    {
     "data": {
      "text/plain": [
       "True"
      ]
     },
     "execution_count": 25,
     "metadata": {},
     "output_type": "execute_result"
    }
   ],
   "source": [
    "fs1 = frozenset((1,2,3,4)) # True /False\n",
    "fs2 = frozenset((3,4))\n",
    "fs1.issuperset(fs2) # True"
   ]
  },
  {
   "cell_type": "code",
   "execution_count": 26,
   "id": "15164517",
   "metadata": {},
   "outputs": [
    {
     "data": {
      "text/plain": [
       "False"
      ]
     },
     "execution_count": 26,
     "metadata": {},
     "output_type": "execute_result"
    }
   ],
   "source": [
    "fs1 = frozenset((1,2,3,4)) # True /False\n",
    "fs2 = frozenset((3,4))\n",
    "fs2.issuperset(fs1) # False"
   ]
  },
  {
   "cell_type": "code",
   "execution_count": 27,
   "id": "0c9e7626",
   "metadata": {},
   "outputs": [
    {
     "data": {
      "text/plain": [
       "True"
      ]
     },
     "execution_count": 27,
     "metadata": {},
     "output_type": "execute_result"
    }
   ],
   "source": [
    "fs1 = frozenset((1,2,3,4)) # True /False\n",
    "fs2 = frozenset((3,4,1,2,5))\n",
    "fs2.issuperset(fs1) # True"
   ]
  },
  {
   "cell_type": "markdown",
   "id": "483004e1",
   "metadata": {},
   "source": [
    "## 7)isdisjoint()"
   ]
  },
  {
   "cell_type": "code",
   "execution_count": 28,
   "id": "274fd239",
   "metadata": {},
   "outputs": [
    {
     "data": {
      "text/plain": [
       "True"
      ]
     },
     "execution_count": 28,
     "metadata": {},
     "output_type": "execute_result"
    }
   ],
   "source": [
    "fs1 = frozenset((1,2,30,40)) # True /False\n",
    "fs2 = frozenset((3,4,5))\n",
    "fs2.isdisjoint(fs1) # True"
   ]
  },
  {
   "cell_type": "code",
   "execution_count": 29,
   "id": "8f2e5440",
   "metadata": {},
   "outputs": [
    {
     "data": {
      "text/plain": [
       "False"
      ]
     },
     "execution_count": 29,
     "metadata": {},
     "output_type": "execute_result"
    }
   ],
   "source": [
    "fs1 = frozenset((1,2,30,40)) # True /False\n",
    "fs2 = frozenset((3,40,5))\n",
    "fs2.isdisjoint(fs1) # False"
   ]
  },
  {
   "cell_type": "code",
   "execution_count": 30,
   "id": "476aa944",
   "metadata": {},
   "outputs": [
    {
     "name": "stdout",
     "output_type": "stream",
     "text": [
      "[10, 11, 14, 18, 33, 90]\n",
      "['B', 'b', 'c']\n"
     ]
    }
   ],
   "source": [
    "lst = [18,10,11,\"B\",90,14,\"b\",\"c\",33]# isinstance(object,type)\n",
    "lst_int = sorted([i for i in lst if isinstance(i,int)])\n",
    "lst_str = sorted([i for i in lst if isinstance(i,str)])\n",
    "print(lst_int)\n",
    "print(lst_str)"
   ]
  },
  {
   "cell_type": "code",
   "execution_count": 32,
   "id": "7d42d1ac",
   "metadata": {},
   "outputs": [
    {
     "data": {
      "text/plain": [
       "66"
      ]
     },
     "execution_count": 32,
     "metadata": {},
     "output_type": "execute_result"
    }
   ],
   "source": [
    "ord(\"B\")"
   ]
  },
  {
   "cell_type": "code",
   "execution_count": 33,
   "id": "0d9f8622",
   "metadata": {},
   "outputs": [
    {
     "data": {
      "text/plain": [
       "98"
      ]
     },
     "execution_count": 33,
     "metadata": {},
     "output_type": "execute_result"
    }
   ],
   "source": [
    "ord(\"b\")"
   ]
  },
  {
   "cell_type": "code",
   "execution_count": null,
   "id": "1fd71acd",
   "metadata": {},
   "outputs": [],
   "source": []
  },
  {
   "cell_type": "code",
   "execution_count": null,
   "id": "8aa0e9e8",
   "metadata": {},
   "outputs": [],
   "source": []
  },
  {
   "cell_type": "code",
   "execution_count": null,
   "id": "b9c1580c",
   "metadata": {},
   "outputs": [],
   "source": []
  },
  {
   "cell_type": "code",
   "execution_count": null,
   "id": "9ed2a90a",
   "metadata": {},
   "outputs": [],
   "source": []
  },
  {
   "cell_type": "code",
   "execution_count": null,
   "id": "e8ff73a9",
   "metadata": {},
   "outputs": [],
   "source": []
  },
  {
   "cell_type": "code",
   "execution_count": null,
   "id": "1f821647",
   "metadata": {},
   "outputs": [],
   "source": []
  },
  {
   "cell_type": "code",
   "execution_count": null,
   "id": "bc17a796",
   "metadata": {},
   "outputs": [],
   "source": []
  },
  {
   "cell_type": "code",
   "execution_count": null,
   "id": "185bbecc",
   "metadata": {},
   "outputs": [],
   "source": []
  },
  {
   "cell_type": "code",
   "execution_count": null,
   "id": "47bb0c5f",
   "metadata": {},
   "outputs": [],
   "source": []
  },
  {
   "cell_type": "code",
   "execution_count": null,
   "id": "bbeaedb4",
   "metadata": {},
   "outputs": [],
   "source": []
  },
  {
   "cell_type": "code",
   "execution_count": null,
   "id": "ffd6e3ed",
   "metadata": {},
   "outputs": [],
   "source": []
  }
 ],
 "metadata": {
  "kernelspec": {
   "display_name": "Python 3",
   "language": "python",
   "name": "python3"
  },
  "language_info": {
   "codemirror_mode": {
    "name": "ipython",
    "version": 3
   },
   "file_extension": ".py",
   "mimetype": "text/x-python",
   "name": "python",
   "nbconvert_exporter": "python",
   "pygments_lexer": "ipython3",
   "version": "3.8.8"
  }
 },
 "nbformat": 4,
 "nbformat_minor": 5
}
