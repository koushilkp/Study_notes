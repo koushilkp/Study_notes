{
 "cells": [
  {
   "cell_type": "code",
   "execution_count": 4,
   "id": "bc9d49b0",
   "metadata": {},
   "outputs": [],
   "source": [
    "from sklearn.linear_model import LinearRegression\n",
    "import pickle"
   ]
  },
  {
   "cell_type": "code",
   "execution_count": 16,
   "id": "b43d2b5d",
   "metadata": {},
   "outputs": [
    {
     "data": {
      "text/plain": [
       "LinearRegression()"
      ]
     },
     "execution_count": 16,
     "metadata": {},
     "output_type": "execute_result"
    }
   ],
   "source": [
    "linear_reg = LinearRegression()\n",
    "linear_reg"
   ]
  },
  {
   "cell_type": "code",
   "execution_count": 14,
   "id": "800cdd35",
   "metadata": {},
   "outputs": [],
   "source": [
    "with open(\"Linear_regression.pkl\",\"wb\") as file : #The file is opened for writing in binary mode\n",
    "    pickle.dump(linear_reg,file)"
   ]
  },
  {
   "cell_type": "code",
   "execution_count": 17,
   "id": "db5e11ab",
   "metadata": {},
   "outputs": [],
   "source": [
    "with open(\"Linear_regression.pkl\",\"rb\") as file:\n",
    "    model = pickle.load(file)"
   ]
  },
  {
   "cell_type": "code",
   "execution_count": 18,
   "id": "45fe8f66",
   "metadata": {},
   "outputs": [
    {
     "data": {
      "text/plain": [
       "LinearRegression()"
      ]
     },
     "execution_count": 18,
     "metadata": {},
     "output_type": "execute_result"
    }
   ],
   "source": [
    "model.predict()"
   ]
  },
  {
   "cell_type": "markdown",
   "id": "28917017",
   "metadata": {},
   "source": [
    "## OS MODULE"
   ]
  },
  {
   "cell_type": "code",
   "execution_count": null,
   "id": "981895e0",
   "metadata": {},
   "outputs": [],
   "source": [
    "OS> Operating system"
   ]
  },
  {
   "cell_type": "code",
   "execution_count": null,
   "id": "262d975e",
   "metadata": {},
   "outputs": [],
   "source": [
    " we can perform following operation\n",
    "    1) Rename\n",
    "    2) Create folder\n",
    "    3) delete folder\n",
    "    4) move\n",
    "    5) copy\n",
    "    6) getcwd() > current working dir \n",
    "    7) list of files in folder > listdir()\n",
    "    8) os.path.exists() >> check file/ folder is exists or not > It return True/ False\n",
    "    "
   ]
  },
  {
   "cell_type": "markdown",
   "id": "ba893650",
   "metadata": {},
   "source": [
    "## 1) Rename"
   ]
  },
  {
   "cell_type": "code",
   "execution_count": 3,
   "id": "30d8cd7e",
   "metadata": {},
   "outputs": [],
   "source": [
    "import os\n",
    "syntax > \n",
    "os.rename(source_file_name,destination_file_name)\n"
   ]
  },
  {
   "cell_type": "code",
   "execution_count": 4,
   "id": "67759768",
   "metadata": {},
   "outputs": [],
   "source": [
    "import os\n",
    "with open(\"mechanical_class.txt\",\"w\") as kp:\n",
    "    kp.write(\" I M vERY MUCHG HAPPY\")"
   ]
  },
  {
   "cell_type": "code",
   "execution_count": 5,
   "id": "cc888a1d",
   "metadata": {},
   "outputs": [],
   "source": [
    "import os\n",
    "os.rename(\"mechanical_class.txt\",\"kp_newFiles.txt\")"
   ]
  },
  {
   "cell_type": "code",
   "execution_count": 1,
   "id": "7ae3e00e",
   "metadata": {},
   "outputs": [],
   "source": [
    "import os\n",
    "file = open(\"Evening_batch.txt\",\"w\") \n",
    "file.write(\"Machine learning\")\n",
    "file.close()"
   ]
  },
  {
   "cell_type": "code",
   "execution_count": 7,
   "id": "2fc3cc3f",
   "metadata": {},
   "outputs": [],
   "source": [
    "with open(\"Python_batch.txt\",\"w\") as file:\n",
    "    file.write(\"Machine learning\")"
   ]
  },
  {
   "cell_type": "code",
   "execution_count": null,
   "id": "d2fa12c6",
   "metadata": {},
   "outputs": [],
   "source": [
    "with open(\"Python_batch.txt\",\"r\") as file:\n",
    "    text = file.read()\n",
    "    print(text)"
   ]
  },
  {
   "cell_type": "code",
   "execution_count": 9,
   "id": "c2b6e952",
   "metadata": {},
   "outputs": [],
   "source": [
    "os.rename(\"Evening_batch.txt\",\"new_batch\")"
   ]
  },
  {
   "cell_type": "markdown",
   "id": "7e4b067f",
   "metadata": {},
   "source": [
    "## 2) remove"
   ]
  },
  {
   "cell_type": "code",
   "execution_count": null,
   "id": "0f090e9b",
   "metadata": {},
   "outputs": [],
   "source": [
    "os.remove(file_name) # pass only file name\n",
    "# if file not exits then it will raise an error"
   ]
  },
  {
   "cell_type": "code",
   "execution_count": 10,
   "id": "6a0599ac",
   "metadata": {},
   "outputs": [],
   "source": [
    "file_name = \"Python_batch.txt\"\n",
    "os.remove(file_name)"
   ]
  },
  {
   "cell_type": "markdown",
   "id": "72aa8644",
   "metadata": {},
   "source": [
    "## 3) Check file whether it is exists or not"
   ]
  },
  {
   "cell_type": "code",
   "execution_count": null,
   "id": "5116dff7",
   "metadata": {},
   "outputs": [],
   "source": [
    "os.path.exists(file_name)\n",
    "# True >>  If file exists\n",
    "# False > If file does not exists"
   ]
  },
  {
   "cell_type": "code",
   "execution_count": 11,
   "id": "60d65ca3",
   "metadata": {},
   "outputs": [],
   "source": [
    "with open(\"Sample.txt\",\"w\") as f:\n",
    "    f.write(\"Python\")"
   ]
  },
  {
   "cell_type": "code",
   "execution_count": 12,
   "id": "4bb7359b",
   "metadata": {},
   "outputs": [
    {
     "data": {
      "text/plain": [
       "True"
      ]
     },
     "execution_count": 12,
     "metadata": {},
     "output_type": "execute_result"
    }
   ],
   "source": [
    "file_name = \"Sample.txt\"\n",
    "os.path.exists(file_name)"
   ]
  },
  {
   "cell_type": "code",
   "execution_count": 13,
   "id": "3b0cd1d4",
   "metadata": {},
   "outputs": [
    {
     "data": {
      "text/plain": [
       "False"
      ]
     },
     "execution_count": 13,
     "metadata": {},
     "output_type": "execute_result"
    }
   ],
   "source": [
    "file_name = \"Sample1111.txt\"\n",
    "os.path.exists(file_name)"
   ]
  },
  {
   "cell_type": "code",
   "execution_count": 14,
   "id": "771a740e",
   "metadata": {},
   "outputs": [
    {
     "ename": "FileNotFoundError",
     "evalue": "[WinError 2] The system cannot find the file specified: 'Python_batch.txt'",
     "output_type": "error",
     "traceback": [
      "\u001b[1;31m---------------------------------------------------------------------------\u001b[0m",
      "\u001b[1;31mFileNotFoundError\u001b[0m                         Traceback (most recent call last)",
      "\u001b[1;32m~\\AppData\\Local\\Temp/ipykernel_2036/4026223889.py\u001b[0m in \u001b[0;36m<module>\u001b[1;34m\u001b[0m\n\u001b[0;32m      1\u001b[0m \u001b[0mfile_name\u001b[0m \u001b[1;33m=\u001b[0m \u001b[1;34m\"Python_batch.txt\"\u001b[0m\u001b[1;33m\u001b[0m\u001b[1;33m\u001b[0m\u001b[0m\n\u001b[1;32m----> 2\u001b[1;33m \u001b[0mos\u001b[0m\u001b[1;33m.\u001b[0m\u001b[0mremove\u001b[0m\u001b[1;33m(\u001b[0m\u001b[0mfile_name\u001b[0m\u001b[1;33m)\u001b[0m\u001b[1;33m\u001b[0m\u001b[1;33m\u001b[0m\u001b[0m\n\u001b[0m",
      "\u001b[1;31mFileNotFoundError\u001b[0m: [WinError 2] The system cannot find the file specified: 'Python_batch.txt'"
     ]
    }
   ],
   "source": [
    "file_name = \"Python_batch.txt\"\n",
    "os.remove(file_name)"
   ]
  },
  {
   "cell_type": "code",
   "execution_count": 15,
   "id": "bd3204cb",
   "metadata": {},
   "outputs": [
    {
     "name": "stdout",
     "output_type": "stream",
     "text": [
      "File does not exists\n"
     ]
    }
   ],
   "source": [
    "file_name = \"Python_batch.txt\"\n",
    "if os.path.exists(file_name): # False\n",
    "    os.remove(file_name)\n",
    "    print(\"File deleted\")\n",
    "else:\n",
    "    print(\"File does not exists\")\n",
    "    "
   ]
  },
  {
   "cell_type": "code",
   "execution_count": 17,
   "id": "55e1163a",
   "metadata": {},
   "outputs": [
    {
     "name": "stdout",
     "output_type": "stream",
     "text": [
      "File deleted\n"
     ]
    }
   ],
   "source": [
    "file_name = \"Sample.txt\"\n",
    "if os.path.exists(file_name): # True\n",
    "    os.remove(file_name)\n",
    "    print(\"File deleted\")\n",
    "else:\n",
    "    print(\"File does not exists\")\n",
    "    "
   ]
  },
  {
   "cell_type": "code",
   "execution_count": 18,
   "id": "12e482df",
   "metadata": {},
   "outputs": [
    {
     "name": "stdout",
     "output_type": "stream",
     "text": [
      "File does not exists\n"
     ]
    }
   ],
   "source": [
    "file_name = \"Sample.txt\"\n",
    "if os.path.exists(file_name): # True\n",
    "    os.remove(file_name)\n",
    "    print(\"File deleted\")\n",
    "else:\n",
    "    print(\"File does not exists\")\n",
    "    "
   ]
  },
  {
   "cell_type": "code",
   "execution_count": 19,
   "id": "1ddf6a9f",
   "metadata": {},
   "outputs": [
    {
     "data": {
      "text/plain": [
       "'E:\\\\27_JUNE_2022\\\\25_7_File_Handlin_OS_Module'"
      ]
     },
     "execution_count": 19,
     "metadata": {},
     "output_type": "execute_result"
    }
   ],
   "source": [
    "os.getcwd()"
   ]
  },
  {
   "cell_type": "code",
   "execution_count": 20,
   "id": "a077094c",
   "metadata": {},
   "outputs": [
    {
     "data": {
      "text/plain": [
       "'E:\\\\27_JUNE_2022\\\\25_7_File_Handlin_OS_Module\\\\Sample.txt'"
      ]
     },
     "execution_count": 20,
     "metadata": {},
     "output_type": "execute_result"
    }
   ],
   "source": [
    "'E:\\\\27_JUNE_2022\\\\25_7_File_Handlin_OS_Module\\\\' + 'Sample.txt'"
   ]
  },
  {
   "cell_type": "markdown",
   "id": "e3947e6b",
   "metadata": {},
   "source": [
    "## 4) Create dir"
   ]
  },
  {
   "cell_type": "code",
   "execution_count": null,
   "id": "e3e8c7f5",
   "metadata": {},
   "outputs": [],
   "source": [
    "# os.mkdir(folder_path)\n",
    "# To create folder / To create own dir\n",
    "# if already exists then we will get an file exists error"
   ]
  },
  {
   "cell_type": "code",
   "execution_count": 22,
   "id": "30fd51c5",
   "metadata": {},
   "outputs": [],
   "source": [
    "os.mkdir(\"Data_Science\")"
   ]
  },
  {
   "cell_type": "code",
   "execution_count": 23,
   "id": "947880e9",
   "metadata": {},
   "outputs": [
    {
     "ename": "FileExistsError",
     "evalue": "[WinError 183] Cannot create a file when that file already exists: 'Data_Science'",
     "output_type": "error",
     "traceback": [
      "\u001b[1;31m---------------------------------------------------------------------------\u001b[0m",
      "\u001b[1;31mFileExistsError\u001b[0m                           Traceback (most recent call last)",
      "\u001b[1;32m~\\AppData\\Local\\Temp/ipykernel_2036/2043099688.py\u001b[0m in \u001b[0;36m<module>\u001b[1;34m\u001b[0m\n\u001b[1;32m----> 1\u001b[1;33m \u001b[0mos\u001b[0m\u001b[1;33m.\u001b[0m\u001b[0mmkdir\u001b[0m\u001b[1;33m(\u001b[0m\u001b[1;34m\"Data_Science\"\u001b[0m\u001b[1;33m)\u001b[0m\u001b[1;33m\u001b[0m\u001b[1;33m\u001b[0m\u001b[0m\n\u001b[0m",
      "\u001b[1;31mFileExistsError\u001b[0m: [WinError 183] Cannot create a file when that file already exists: 'Data_Science'"
     ]
    }
   ],
   "source": [
    "os.mkdir(\"Data_Science\")"
   ]
  },
  {
   "cell_type": "code",
   "execution_count": 24,
   "id": "60d637e3",
   "metadata": {},
   "outputs": [
    {
     "name": "stdout",
     "output_type": "stream",
     "text": [
      "Folder already exists\n"
     ]
    }
   ],
   "source": [
    "file_name = \"Data_Science\"\n",
    "if os.path.exists(file_name): # True\n",
    "    print(\"Folder already exists\")\n",
    "else:\n",
    "    print(\"File does not exists\")"
   ]
  },
  {
   "cell_type": "code",
   "execution_count": 25,
   "id": "557aa365",
   "metadata": {},
   "outputs": [
    {
     "name": "stdout",
     "output_type": "stream",
     "text": [
      "Folder Created\n"
     ]
    }
   ],
   "source": [
    "file_name = \"Machine_learning\"\n",
    "if os.path.exists(file_name): # False\n",
    "    print(\"Folder already exists\")\n",
    "else:\n",
    "    os.mkdir(\"Machine_lerning\")\n",
    "    print(\"Folder Created\")"
   ]
  },
  {
   "cell_type": "markdown",
   "id": "a4d58953",
   "metadata": {},
   "source": [
    "## 5) Delete dir / Remove dir"
   ]
  },
  {
   "cell_type": "code",
   "execution_count": null,
   "id": "6068cf33",
   "metadata": {},
   "outputs": [],
   "source": [
    "os.rmdir(folder_path) > # If dir/ folder if not present then it will raise an filenot found erro"
   ]
  },
  {
   "cell_type": "code",
   "execution_count": null,
   "id": "d5b57d21",
   "metadata": {},
   "outputs": [],
   "source": [
    "# os.make"
   ]
  },
  {
   "cell_type": "code",
   "execution_count": null,
   "id": "c5578133",
   "metadata": {},
   "outputs": [],
   "source": []
  },
  {
   "cell_type": "code",
   "execution_count": 26,
   "id": "25116858",
   "metadata": {},
   "outputs": [
    {
     "name": "stdout",
     "output_type": "stream",
     "text": [
      "Folder deleted\n"
     ]
    }
   ],
   "source": [
    "folder_name =\"Machine_lerning\"\n",
    "if os.path.exists(folder_name): # True\n",
    "    os.rmdir(folder_name)\n",
    "    print(\"Folder deleted\")\n",
    "else:\n",
    "    print(\"Folder does not exists\")"
   ]
  },
  {
   "cell_type": "markdown",
   "id": "47b545a2",
   "metadata": {},
   "source": [
    "folder_name =\"Machine_lerning\"\n",
    "if os.path.exists(folder_name): # True\n",
    "    os.rmdir(folder_name)\n",
    "    print(\"Folder deleted\")\n",
    "else:\n",
    "    print(\"Folder does not exists\")"
   ]
  },
  {
   "cell_type": "markdown",
   "id": "0d0af750",
   "metadata": {},
   "source": [
    "## 6) check file from folder"
   ]
  },
  {
   "cell_type": "code",
   "execution_count": null,
   "id": "2fe2455b",
   "metadata": {},
   "outputs": [],
   "source": [
    "os.listdir(folder_path)"
   ]
  },
  {
   "cell_type": "raw",
   "id": "0c71096b",
   "metadata": {},
   "source": [
    "folder_path = \"Data_Science/\"\n"
   ]
  },
  {
   "cell_type": "code",
   "execution_count": 28,
   "id": "789ca833",
   "metadata": {},
   "outputs": [
    {
     "data": {
      "text/plain": [
       "'E:\\\\27_JUNE_2022\\\\25_7_File_Handlin_OS_Module'"
      ]
     },
     "execution_count": 28,
     "metadata": {},
     "output_type": "execute_result"
    }
   ],
   "source": [
    "os.getcwd()"
   ]
  },
  {
   "cell_type": "code",
   "execution_count": 29,
   "id": "b2cb818c",
   "metadata": {},
   "outputs": [
    {
     "data": {
      "text/plain": [
       "['.ipynb_checkpoints', '25_7_File_Handling_OS_Module.ipynb', 'Data_Science']"
      ]
     },
     "execution_count": 29,
     "metadata": {},
     "output_type": "execute_result"
    }
   ],
   "source": [
    "files = os.listdir(os.getcwd())\n",
    "files"
   ]
  },
  {
   "cell_type": "code",
   "execution_count": 30,
   "id": "a931bea0",
   "metadata": {},
   "outputs": [
    {
     "data": {
      "text/plain": [
       "['autos_dataset.csv',\n",
       " 'customer_with_cid_tma_16122021.xls',\n",
       " 'diabetes.csv',\n",
       " 'Linear_regression.pkl',\n",
       " 'Sales_data.csv']"
      ]
     },
     "execution_count": 30,
     "metadata": {},
     "output_type": "execute_result"
    }
   ],
   "source": [
    "folder_path = \"Data_Science/\"\n",
    "files = os.listdir(folder_path) \n",
    "files"
   ]
  },
  {
   "cell_type": "code",
   "execution_count": 53,
   "id": "9d8db463",
   "metadata": {},
   "outputs": [
    {
     "name": "stdout",
     "output_type": "stream",
     "text": [
      "csv ['autos_dataset.csv', 'diabetes.csv', 'Sales_data.csv']\n",
      "****************************************************************************************************\n",
      "pkl ['Linear_regression.pkl']\n",
      "****************************************************************************************************\n",
      "excel ['customer_with_cid_tma_16122021.xls']\n",
      "Wall time: 1.01 ms\n"
     ]
    }
   ],
   "source": [
    "%%time\n",
    "file_csv = []\n",
    "file_xlsx = []\n",
    "file_pkl = []\n",
    "for file in files:\n",
    "    if file.endswith(\".csv\"):\n",
    "        file_csv.append(file)\n",
    "    elif file.endswith(\".pkl\"):\n",
    "        file_pkl.append(file)\n",
    "    else:\n",
    "        file_xlsx.append(file)\n",
    "\n",
    "print(\"csv\",file_csv)\n",
    "print(\"*\"*100)\n",
    "print(\"pkl\",file_pkl)\n",
    "print(\"*\"*100)\n",
    "print(\"excel\",file_xlsx)"
   ]
  },
  {
   "cell_type": "code",
   "execution_count": 34,
   "id": "507e6db9",
   "metadata": {},
   "outputs": [
    {
     "data": {
      "text/plain": [
       "'E:\\\\27_JUNE_2022\\\\25_7_File_Handlin_OS_Module'"
      ]
     },
     "execution_count": 34,
     "metadata": {},
     "output_type": "execute_result"
    }
   ],
   "source": [
    "os.getcwd()"
   ]
  },
  {
   "cell_type": "code",
   "execution_count": 45,
   "id": "a4552356",
   "metadata": {},
   "outputs": [
    {
     "ename": "FileNotFoundError",
     "evalue": "[Errno 2] No such file or directory: 'autos_dataset.csv'",
     "output_type": "error",
     "traceback": [
      "\u001b[1;31m---------------------------------------------------------------------------\u001b[0m",
      "\u001b[1;31mFileNotFoundError\u001b[0m                         Traceback (most recent call last)",
      "\u001b[1;32m~\\AppData\\Local\\Temp/ipykernel_2036/2995460727.py\u001b[0m in \u001b[0;36m<module>\u001b[1;34m\u001b[0m\n\u001b[0;32m      1\u001b[0m \u001b[1;32mimport\u001b[0m \u001b[0mpandas\u001b[0m \u001b[1;32mas\u001b[0m \u001b[0mpd\u001b[0m\u001b[1;33m\u001b[0m\u001b[1;33m\u001b[0m\u001b[0m\n\u001b[1;32m----> 2\u001b[1;33m \u001b[0mpd\u001b[0m\u001b[1;33m.\u001b[0m\u001b[0mread_csv\u001b[0m\u001b[1;33m(\u001b[0m\u001b[1;34m\"autos_dataset.csv\"\u001b[0m\u001b[1;33m)\u001b[0m\u001b[1;33m\u001b[0m\u001b[1;33m\u001b[0m\u001b[0m\n\u001b[0m",
      "\u001b[1;32m~\\anaconda3\\lib\\site-packages\\pandas\\util\\_decorators.py\u001b[0m in \u001b[0;36mwrapper\u001b[1;34m(*args, **kwargs)\u001b[0m\n\u001b[0;32m    309\u001b[0m                     \u001b[0mstacklevel\u001b[0m\u001b[1;33m=\u001b[0m\u001b[0mstacklevel\u001b[0m\u001b[1;33m,\u001b[0m\u001b[1;33m\u001b[0m\u001b[1;33m\u001b[0m\u001b[0m\n\u001b[0;32m    310\u001b[0m                 )\n\u001b[1;32m--> 311\u001b[1;33m             \u001b[1;32mreturn\u001b[0m \u001b[0mfunc\u001b[0m\u001b[1;33m(\u001b[0m\u001b[1;33m*\u001b[0m\u001b[0margs\u001b[0m\u001b[1;33m,\u001b[0m \u001b[1;33m**\u001b[0m\u001b[0mkwargs\u001b[0m\u001b[1;33m)\u001b[0m\u001b[1;33m\u001b[0m\u001b[1;33m\u001b[0m\u001b[0m\n\u001b[0m\u001b[0;32m    312\u001b[0m \u001b[1;33m\u001b[0m\u001b[0m\n\u001b[0;32m    313\u001b[0m         \u001b[1;32mreturn\u001b[0m \u001b[0mwrapper\u001b[0m\u001b[1;33m\u001b[0m\u001b[1;33m\u001b[0m\u001b[0m\n",
      "\u001b[1;32m~\\anaconda3\\lib\\site-packages\\pandas\\io\\parsers\\readers.py\u001b[0m in \u001b[0;36mread_csv\u001b[1;34m(filepath_or_buffer, sep, delimiter, header, names, index_col, usecols, squeeze, prefix, mangle_dupe_cols, dtype, engine, converters, true_values, false_values, skipinitialspace, skiprows, skipfooter, nrows, na_values, keep_default_na, na_filter, verbose, skip_blank_lines, parse_dates, infer_datetime_format, keep_date_col, date_parser, dayfirst, cache_dates, iterator, chunksize, compression, thousands, decimal, lineterminator, quotechar, quoting, doublequote, escapechar, comment, encoding, encoding_errors, dialect, error_bad_lines, warn_bad_lines, on_bad_lines, delim_whitespace, low_memory, memory_map, float_precision, storage_options)\u001b[0m\n\u001b[0;32m    584\u001b[0m     \u001b[0mkwds\u001b[0m\u001b[1;33m.\u001b[0m\u001b[0mupdate\u001b[0m\u001b[1;33m(\u001b[0m\u001b[0mkwds_defaults\u001b[0m\u001b[1;33m)\u001b[0m\u001b[1;33m\u001b[0m\u001b[1;33m\u001b[0m\u001b[0m\n\u001b[0;32m    585\u001b[0m \u001b[1;33m\u001b[0m\u001b[0m\n\u001b[1;32m--> 586\u001b[1;33m     \u001b[1;32mreturn\u001b[0m \u001b[0m_read\u001b[0m\u001b[1;33m(\u001b[0m\u001b[0mfilepath_or_buffer\u001b[0m\u001b[1;33m,\u001b[0m \u001b[0mkwds\u001b[0m\u001b[1;33m)\u001b[0m\u001b[1;33m\u001b[0m\u001b[1;33m\u001b[0m\u001b[0m\n\u001b[0m\u001b[0;32m    587\u001b[0m \u001b[1;33m\u001b[0m\u001b[0m\n\u001b[0;32m    588\u001b[0m \u001b[1;33m\u001b[0m\u001b[0m\n",
      "\u001b[1;32m~\\anaconda3\\lib\\site-packages\\pandas\\io\\parsers\\readers.py\u001b[0m in \u001b[0;36m_read\u001b[1;34m(filepath_or_buffer, kwds)\u001b[0m\n\u001b[0;32m    480\u001b[0m \u001b[1;33m\u001b[0m\u001b[0m\n\u001b[0;32m    481\u001b[0m     \u001b[1;31m# Create the parser.\u001b[0m\u001b[1;33m\u001b[0m\u001b[1;33m\u001b[0m\u001b[0m\n\u001b[1;32m--> 482\u001b[1;33m     \u001b[0mparser\u001b[0m \u001b[1;33m=\u001b[0m \u001b[0mTextFileReader\u001b[0m\u001b[1;33m(\u001b[0m\u001b[0mfilepath_or_buffer\u001b[0m\u001b[1;33m,\u001b[0m \u001b[1;33m**\u001b[0m\u001b[0mkwds\u001b[0m\u001b[1;33m)\u001b[0m\u001b[1;33m\u001b[0m\u001b[1;33m\u001b[0m\u001b[0m\n\u001b[0m\u001b[0;32m    483\u001b[0m \u001b[1;33m\u001b[0m\u001b[0m\n\u001b[0;32m    484\u001b[0m     \u001b[1;32mif\u001b[0m \u001b[0mchunksize\u001b[0m \u001b[1;32mor\u001b[0m \u001b[0miterator\u001b[0m\u001b[1;33m:\u001b[0m\u001b[1;33m\u001b[0m\u001b[1;33m\u001b[0m\u001b[0m\n",
      "\u001b[1;32m~\\anaconda3\\lib\\site-packages\\pandas\\io\\parsers\\readers.py\u001b[0m in \u001b[0;36m__init__\u001b[1;34m(self, f, engine, **kwds)\u001b[0m\n\u001b[0;32m    809\u001b[0m             \u001b[0mself\u001b[0m\u001b[1;33m.\u001b[0m\u001b[0moptions\u001b[0m\u001b[1;33m[\u001b[0m\u001b[1;34m\"has_index_names\"\u001b[0m\u001b[1;33m]\u001b[0m \u001b[1;33m=\u001b[0m \u001b[0mkwds\u001b[0m\u001b[1;33m[\u001b[0m\u001b[1;34m\"has_index_names\"\u001b[0m\u001b[1;33m]\u001b[0m\u001b[1;33m\u001b[0m\u001b[1;33m\u001b[0m\u001b[0m\n\u001b[0;32m    810\u001b[0m \u001b[1;33m\u001b[0m\u001b[0m\n\u001b[1;32m--> 811\u001b[1;33m         \u001b[0mself\u001b[0m\u001b[1;33m.\u001b[0m\u001b[0m_engine\u001b[0m \u001b[1;33m=\u001b[0m \u001b[0mself\u001b[0m\u001b[1;33m.\u001b[0m\u001b[0m_make_engine\u001b[0m\u001b[1;33m(\u001b[0m\u001b[0mself\u001b[0m\u001b[1;33m.\u001b[0m\u001b[0mengine\u001b[0m\u001b[1;33m)\u001b[0m\u001b[1;33m\u001b[0m\u001b[1;33m\u001b[0m\u001b[0m\n\u001b[0m\u001b[0;32m    812\u001b[0m \u001b[1;33m\u001b[0m\u001b[0m\n\u001b[0;32m    813\u001b[0m     \u001b[1;32mdef\u001b[0m \u001b[0mclose\u001b[0m\u001b[1;33m(\u001b[0m\u001b[0mself\u001b[0m\u001b[1;33m)\u001b[0m\u001b[1;33m:\u001b[0m\u001b[1;33m\u001b[0m\u001b[1;33m\u001b[0m\u001b[0m\n",
      "\u001b[1;32m~\\anaconda3\\lib\\site-packages\\pandas\\io\\parsers\\readers.py\u001b[0m in \u001b[0;36m_make_engine\u001b[1;34m(self, engine)\u001b[0m\n\u001b[0;32m   1038\u001b[0m             )\n\u001b[0;32m   1039\u001b[0m         \u001b[1;31m# error: Too many arguments for \"ParserBase\"\u001b[0m\u001b[1;33m\u001b[0m\u001b[1;33m\u001b[0m\u001b[0m\n\u001b[1;32m-> 1040\u001b[1;33m         \u001b[1;32mreturn\u001b[0m \u001b[0mmapping\u001b[0m\u001b[1;33m[\u001b[0m\u001b[0mengine\u001b[0m\u001b[1;33m]\u001b[0m\u001b[1;33m(\u001b[0m\u001b[0mself\u001b[0m\u001b[1;33m.\u001b[0m\u001b[0mf\u001b[0m\u001b[1;33m,\u001b[0m \u001b[1;33m**\u001b[0m\u001b[0mself\u001b[0m\u001b[1;33m.\u001b[0m\u001b[0moptions\u001b[0m\u001b[1;33m)\u001b[0m  \u001b[1;31m# type: ignore[call-arg]\u001b[0m\u001b[1;33m\u001b[0m\u001b[1;33m\u001b[0m\u001b[0m\n\u001b[0m\u001b[0;32m   1041\u001b[0m \u001b[1;33m\u001b[0m\u001b[0m\n\u001b[0;32m   1042\u001b[0m     \u001b[1;32mdef\u001b[0m \u001b[0m_failover_to_python\u001b[0m\u001b[1;33m(\u001b[0m\u001b[0mself\u001b[0m\u001b[1;33m)\u001b[0m\u001b[1;33m:\u001b[0m\u001b[1;33m\u001b[0m\u001b[1;33m\u001b[0m\u001b[0m\n",
      "\u001b[1;32m~\\anaconda3\\lib\\site-packages\\pandas\\io\\parsers\\c_parser_wrapper.py\u001b[0m in \u001b[0;36m__init__\u001b[1;34m(self, src, **kwds)\u001b[0m\n\u001b[0;32m     49\u001b[0m \u001b[1;33m\u001b[0m\u001b[0m\n\u001b[0;32m     50\u001b[0m         \u001b[1;31m# open handles\u001b[0m\u001b[1;33m\u001b[0m\u001b[1;33m\u001b[0m\u001b[0m\n\u001b[1;32m---> 51\u001b[1;33m         \u001b[0mself\u001b[0m\u001b[1;33m.\u001b[0m\u001b[0m_open_handles\u001b[0m\u001b[1;33m(\u001b[0m\u001b[0msrc\u001b[0m\u001b[1;33m,\u001b[0m \u001b[0mkwds\u001b[0m\u001b[1;33m)\u001b[0m\u001b[1;33m\u001b[0m\u001b[1;33m\u001b[0m\u001b[0m\n\u001b[0m\u001b[0;32m     52\u001b[0m         \u001b[1;32massert\u001b[0m \u001b[0mself\u001b[0m\u001b[1;33m.\u001b[0m\u001b[0mhandles\u001b[0m \u001b[1;32mis\u001b[0m \u001b[1;32mnot\u001b[0m \u001b[1;32mNone\u001b[0m\u001b[1;33m\u001b[0m\u001b[1;33m\u001b[0m\u001b[0m\n\u001b[0;32m     53\u001b[0m \u001b[1;33m\u001b[0m\u001b[0m\n",
      "\u001b[1;32m~\\anaconda3\\lib\\site-packages\\pandas\\io\\parsers\\base_parser.py\u001b[0m in \u001b[0;36m_open_handles\u001b[1;34m(self, src, kwds)\u001b[0m\n\u001b[0;32m    220\u001b[0m         \u001b[0mLet\u001b[0m \u001b[0mthe\u001b[0m \u001b[0mreaders\u001b[0m \u001b[0mopen\u001b[0m \u001b[0mIOHandles\u001b[0m \u001b[0mafter\u001b[0m \u001b[0mthey\u001b[0m \u001b[0mare\u001b[0m \u001b[0mdone\u001b[0m \u001b[1;32mwith\u001b[0m \u001b[0mtheir\u001b[0m \u001b[0mpotential\u001b[0m \u001b[0mraises\u001b[0m\u001b[1;33m.\u001b[0m\u001b[1;33m\u001b[0m\u001b[1;33m\u001b[0m\u001b[0m\n\u001b[0;32m    221\u001b[0m         \"\"\"\n\u001b[1;32m--> 222\u001b[1;33m         self.handles = get_handle(\n\u001b[0m\u001b[0;32m    223\u001b[0m             \u001b[0msrc\u001b[0m\u001b[1;33m,\u001b[0m\u001b[1;33m\u001b[0m\u001b[1;33m\u001b[0m\u001b[0m\n\u001b[0;32m    224\u001b[0m             \u001b[1;34m\"r\"\u001b[0m\u001b[1;33m,\u001b[0m\u001b[1;33m\u001b[0m\u001b[1;33m\u001b[0m\u001b[0m\n",
      "\u001b[1;32m~\\anaconda3\\lib\\site-packages\\pandas\\io\\common.py\u001b[0m in \u001b[0;36mget_handle\u001b[1;34m(path_or_buf, mode, encoding, compression, memory_map, is_text, errors, storage_options)\u001b[0m\n\u001b[0;32m    700\u001b[0m         \u001b[1;32mif\u001b[0m \u001b[0mioargs\u001b[0m\u001b[1;33m.\u001b[0m\u001b[0mencoding\u001b[0m \u001b[1;32mand\u001b[0m \u001b[1;34m\"b\"\u001b[0m \u001b[1;32mnot\u001b[0m \u001b[1;32min\u001b[0m \u001b[0mioargs\u001b[0m\u001b[1;33m.\u001b[0m\u001b[0mmode\u001b[0m\u001b[1;33m:\u001b[0m\u001b[1;33m\u001b[0m\u001b[1;33m\u001b[0m\u001b[0m\n\u001b[0;32m    701\u001b[0m             \u001b[1;31m# Encoding\u001b[0m\u001b[1;33m\u001b[0m\u001b[1;33m\u001b[0m\u001b[0m\n\u001b[1;32m--> 702\u001b[1;33m             handle = open(\n\u001b[0m\u001b[0;32m    703\u001b[0m                 \u001b[0mhandle\u001b[0m\u001b[1;33m,\u001b[0m\u001b[1;33m\u001b[0m\u001b[1;33m\u001b[0m\u001b[0m\n\u001b[0;32m    704\u001b[0m                 \u001b[0mioargs\u001b[0m\u001b[1;33m.\u001b[0m\u001b[0mmode\u001b[0m\u001b[1;33m,\u001b[0m\u001b[1;33m\u001b[0m\u001b[1;33m\u001b[0m\u001b[0m\n",
      "\u001b[1;31mFileNotFoundError\u001b[0m: [Errno 2] No such file or directory: 'autos_dataset.csv'"
     ]
    }
   ],
   "source": [
    "import pandas as pd\n",
    "pd.read_csv(\"autos_dataset.csv\")"
   ]
  },
  {
   "cell_type": "code",
   "execution_count": 6,
   "id": "7604d1b5",
   "metadata": {},
   "outputs": [
    {
     "ename": "ModuleNotFoundError",
     "evalue": "No module named 'pandas'",
     "output_type": "error",
     "traceback": [
      "\u001b[1;31m---------------------------------------------------------------------------\u001b[0m",
      "\u001b[1;31mModuleNotFoundError\u001b[0m                       Traceback (most recent call last)",
      "Input \u001b[1;32mIn [6]\u001b[0m, in \u001b[0;36m<cell line: 1>\u001b[1;34m()\u001b[0m\n\u001b[1;32m----> 1\u001b[0m \u001b[38;5;28;01mimport\u001b[39;00m \u001b[38;5;21;01mpandas\u001b[39;00m \u001b[38;5;28;01mas\u001b[39;00m \u001b[38;5;21;01mpd\u001b[39;00m\n\u001b[0;32m      2\u001b[0m path \u001b[38;5;241m=\u001b[39m \u001b[38;5;124mr\u001b[39m\u001b[38;5;124m'\u001b[39m\u001b[38;5;124mE:\u001b[39m\u001b[38;5;130;01m\\\\\u001b[39;00m\u001b[38;5;124m27_JUNE_2022\u001b[39m\u001b[38;5;130;01m\\\\\u001b[39;00m\u001b[38;5;124m25_7_File_Handlin_OS_Module\u001b[39m\u001b[38;5;130;01m\\\\\u001b[39;00m\u001b[38;5;124mData_Science\u001b[39m\u001b[38;5;130;01m\\\\\u001b[39;00m\u001b[38;5;124m'\u001b[39m\n\u001b[0;32m      3\u001b[0m pd\u001b[38;5;241m.\u001b[39mread_csv(path \u001b[38;5;241m+\u001b[39m \u001b[38;5;124m\"\u001b[39m\u001b[38;5;124mautos_dataset.csv\u001b[39m\u001b[38;5;124m\"\u001b[39m)\u001b[38;5;241m.\u001b[39msample(\u001b[38;5;241m5\u001b[39m)\n",
      "\u001b[1;31mModuleNotFoundError\u001b[0m: No module named 'pandas'"
     ]
    }
   ],
   "source": [
    "import pandas as pd\n",
    "path = r'E:\\\\27_JUNE_2022\\\\25_7_File_Handlin_OS_Module\\\\Data_Science\\\\'\n",
    "pd.read_csv(path + \"autos_dataset.csv\").sample(5) # sir k file mei show  kArt raha hai bur mein file import nghi kiya hai"
   ]
  },
  {
   "cell_type": "code",
   "execution_count": 50,
   "id": "8927f92e",
   "metadata": {},
   "outputs": [],
   "source": [
    "file_path = os.getcwd() + \"\\\\Data_Science\" + \"\\\\Sales_data.csv\"\n",
    "df = pd.read_csv(file_path)"
   ]
  },
  {
   "cell_type": "code",
   "execution_count": 52,
   "id": "2b97004d",
   "metadata": {},
   "outputs": [
    {
     "data": {
      "text/html": [
       "<div>\n",
       "<style scoped>\n",
       "    .dataframe tbody tr th:only-of-type {\n",
       "        vertical-align: middle;\n",
       "    }\n",
       "\n",
       "    .dataframe tbody tr th {\n",
       "        vertical-align: top;\n",
       "    }\n",
       "\n",
       "    .dataframe thead th {\n",
       "        text-align: right;\n",
       "    }\n",
       "</style>\n",
       "<table border=\"1\" class=\"dataframe\">\n",
       "  <thead>\n",
       "    <tr style=\"text-align: right;\">\n",
       "      <th></th>\n",
       "      <th>Item_Identifier</th>\n",
       "      <th>Item_Weight</th>\n",
       "      <th>Item_Fat_Content</th>\n",
       "      <th>Item_Visibility</th>\n",
       "      <th>Item_Type</th>\n",
       "      <th>Item_MRP</th>\n",
       "      <th>Outlet_Identifier</th>\n",
       "      <th>Outlet_Establishment_Year</th>\n",
       "      <th>Outlet_Size</th>\n",
       "      <th>Outlet_Location_Type</th>\n",
       "      <th>Outlet_Type</th>\n",
       "      <th>Item_Outlet_Sales</th>\n",
       "    </tr>\n",
       "  </thead>\n",
       "  <tbody>\n",
       "    <tr>\n",
       "      <th>4292</th>\n",
       "      <td>DRG13</td>\n",
       "      <td>17.25</td>\n",
       "      <td>Low Fat</td>\n",
       "      <td>0.037155</td>\n",
       "      <td>Soft Drinks</td>\n",
       "      <td>166.4526</td>\n",
       "      <td>OUT013</td>\n",
       "      <td>1987</td>\n",
       "      <td>High</td>\n",
       "      <td>Tier 3</td>\n",
       "      <td>Supermarket Type1</td>\n",
       "      <td>3782.4098</td>\n",
       "    </tr>\n",
       "    <tr>\n",
       "      <th>7223</th>\n",
       "      <td>DRD60</td>\n",
       "      <td>15.70</td>\n",
       "      <td>Low Fat</td>\n",
       "      <td>0.037201</td>\n",
       "      <td>Soft Drinks</td>\n",
       "      <td>181.7634</td>\n",
       "      <td>OUT013</td>\n",
       "      <td>1987</td>\n",
       "      <td>High</td>\n",
       "      <td>Tier 3</td>\n",
       "      <td>Supermarket Type1</td>\n",
       "      <td>2544.6876</td>\n",
       "    </tr>\n",
       "  </tbody>\n",
       "</table>\n",
       "</div>"
      ],
      "text/plain": [
       "     Item_Identifier  Item_Weight Item_Fat_Content  Item_Visibility  \\\n",
       "4292           DRG13        17.25          Low Fat         0.037155   \n",
       "7223           DRD60        15.70          Low Fat         0.037201   \n",
       "\n",
       "        Item_Type  Item_MRP Outlet_Identifier  Outlet_Establishment_Year  \\\n",
       "4292  Soft Drinks  166.4526            OUT013                       1987   \n",
       "7223  Soft Drinks  181.7634            OUT013                       1987   \n",
       "\n",
       "     Outlet_Size Outlet_Location_Type        Outlet_Type  Item_Outlet_Sales  \n",
       "4292        High               Tier 3  Supermarket Type1          3782.4098  \n",
       "7223        High               Tier 3  Supermarket Type1          2544.6876  "
      ]
     },
     "execution_count": 52,
     "metadata": {},
     "output_type": "execute_result"
    }
   ],
   "source": [
    "df.sample(2)"
   ]
  },
  {
   "cell_type": "markdown",
   "id": "7fa8b915",
   "metadata": {},
   "source": [
    "## glob"
   ]
  },
  {
   "cell_type": "code",
   "execution_count": null,
   "id": "29c43ad7",
   "metadata": {},
   "outputs": [],
   "source": [
    "# To extract file with file extension"
   ]
  },
  {
   "cell_type": "code",
   "execution_count": 54,
   "id": "0e834224",
   "metadata": {},
   "outputs": [],
   "source": [
    "import glob"
   ]
  },
  {
   "cell_type": "code",
   "execution_count": 55,
   "id": "c08e3c0e",
   "metadata": {},
   "outputs": [
    {
     "data": {
      "text/plain": [
       "['autos_dataset.csv',\n",
       " 'customer_with_cid_tma_16122021.xls',\n",
       " 'diabetes.csv',\n",
       " 'Linear_regression.pkl',\n",
       " 'Sales_data.csv']"
      ]
     },
     "execution_count": 55,
     "metadata": {},
     "output_type": "execute_result"
    }
   ],
   "source": [
    "path = \"Data_Science/\"\n",
    "os.listdir(path)"
   ]
  },
  {
   "cell_type": "code",
   "execution_count": 57,
   "id": "98f2832f",
   "metadata": {},
   "outputs": [
    {
     "name": "stdout",
     "output_type": "stream",
     "text": [
      "Wall time: 2 ms\n"
     ]
    },
    {
     "data": {
      "text/plain": [
       "['Data_Science\\\\autos_dataset.csv',\n",
       " 'Data_Science\\\\diabetes.csv',\n",
       " 'Data_Science\\\\Sales_data.csv']"
      ]
     },
     "execution_count": 57,
     "metadata": {},
     "output_type": "execute_result"
    }
   ],
   "source": [
    "%%time\n",
    "files = glob.glob(path + \"*.csv\")\n",
    "files"
   ]
  },
  {
   "cell_type": "code",
   "execution_count": 58,
   "id": "7130f72f",
   "metadata": {},
   "outputs": [
    {
     "data": {
      "text/plain": [
       "['Data_Science\\\\Linear_regression.pkl']"
      ]
     },
     "execution_count": 58,
     "metadata": {},
     "output_type": "execute_result"
    }
   ],
   "source": [
    "files = glob.glob(path + \"*.pkl\")\n",
    "files"
   ]
  },
  {
   "cell_type": "markdown",
   "id": "a621fda4",
   "metadata": {},
   "source": [
    "## 7) Join two paths"
   ]
  },
  {
   "cell_type": "code",
   "execution_count": null,
   "id": "519ee459",
   "metadata": {
    "collapsed": true
   },
   "outputs": [],
   "source": [
    "os.path.join(folder_name_1, folder_name_2) # To join two path folder"
   ]
  },
  {
   "cell_type": "code",
   "execution_count": 59,
   "id": "cd560442",
   "metadata": {},
   "outputs": [
    {
     "data": {
      "text/plain": [
       "'E:\\\\27_JUNE_2022\\\\25_7_File_Handlin_OS_Module'"
      ]
     },
     "execution_count": 59,
     "metadata": {},
     "output_type": "execute_result"
    }
   ],
   "source": [
    "os.getcwd()"
   ]
  },
  {
   "cell_type": "code",
   "execution_count": 60,
   "id": "a249fc7f",
   "metadata": {},
   "outputs": [
    {
     "data": {
      "text/plain": [
       "'E:\\\\27_JUNE_2022\\\\25_7_File_Handlin_OS_Module\\\\Machine_learning'"
      ]
     },
     "execution_count": 60,
     "metadata": {},
     "output_type": "execute_result"
    }
   ],
   "source": [
    "path_1 = 'E:\\\\27_JUNE_2022\\\\25_7_File_Handlin_OS_Module'\n",
    "path_2 = \"\\\\Machine_learning\"\n",
    "path_1 + path_2 # adding"
   ]
  },
  {
   "cell_type": "code",
   "execution_count": 6,
   "id": "2ee28130",
   "metadata": {},
   "outputs": [
    {
     "data": {
      "text/plain": [
       "'E:\\\\\\\\27_JUNE_2022\\\\\\\\25_7_File_Handlin_OS_Module\\\\\\\\Data_Science'"
      ]
     },
     "execution_count": 6,
     "metadata": {},
     "output_type": "execute_result"
    }
   ],
   "source": [
    "import os\n",
    "path_1 = r'E:\\\\27_JUNE_2022\\\\25_7_File_Handlin_OS_Module\\\\'\n",
    "path_2 = \"Data_Science\"\n",
    "new_path = os.path.join(path_1,path_2)\n",
    "new_path"
   ]
  },
  {
   "cell_type": "code",
   "execution_count": null,
   "id": "8e341191",
   "metadata": {},
   "outputs": [],
   "source": [
    "import pandas as p\n",
    "p.read_csv()"
   ]
  },
  {
   "cell_type": "code",
   "execution_count": null,
   "id": "e6d4135f",
   "metadata": {},
   "outputs": [],
   "source": []
  }
 ],
 "metadata": {
  "kernelspec": {
   "display_name": "Python 3 (ipykernel)",
   "language": "python",
   "name": "python3"
  },
  "language_info": {
   "codemirror_mode": {
    "name": "ipython",
    "version": 3
   },
   "file_extension": ".py",
   "mimetype": "text/x-python",
   "name": "python",
   "nbconvert_exporter": "python",
   "pygments_lexer": "ipython3",
   "version": "3.10.5"
  }
 },
 "nbformat": 4,
 "nbformat_minor": 5
}
