{
 "cells": [
  {
   "cell_type": "raw",
   "id": "86759888",
   "metadata": {},
   "source": [
    "https://www.geeksforgeeks.org/\n",
    "https://www.w3resource.com\n",
    "https://protechstack.com/"
   ]
  },
  {
   "cell_type": "markdown",
   "id": "dff9f75a",
   "metadata": {},
   "source": [
    "## Types of arguments"
   ]
  },
  {
   "cell_type": "raw",
   "id": "a1ec7938",
   "metadata": {},
   "source": [
    "1) Positional arg\n",
    "2) Default arg\n",
    "3) Arbitary arg\n",
    "4) Arbitary keyword arg"
   ]
  },
  {
   "cell_type": "markdown",
   "id": "143ae7f9",
   "metadata": {},
   "source": [
    "## 4) Arbitary keyword arg"
   ]
  },
  {
   "cell_type": "code",
   "execution_count": null,
   "id": "7da5e7c5",
   "metadata": {},
   "outputs": [],
   "source": [
    "> **kwargs >> **keywordarguments\n",
    "> *args > Arbitary args\n",
    "if we dont know the number of keyword args to be passe to the function then we use **kwargs\n",
    "\n",
    "> Daty type >> dict"
   ]
  },
  {
   "cell_type": "code",
   "execution_count": 7,
   "id": "2d4babbe",
   "metadata": {},
   "outputs": [
    {
     "name": "stdout",
     "output_type": "stream",
     "text": [
      "n1=20 , n2=30 and n3=40\n"
     ]
    }
   ],
   "source": [
    "def get_kwarg(n1=20,n2=30,n3=40):\n",
    "    print(f\"{n1=} , {n2=} and {n3=}\")\n",
    "get_kwarg()"
   ]
  },
  {
   "cell_type": "code",
   "execution_count": 3,
   "id": "168b5c46",
   "metadata": {},
   "outputs": [
    {
     "ename": "TypeError",
     "evalue": "get_kwarg() takes from 0 to 3 positional arguments but 4 were given",
     "output_type": "error",
     "traceback": [
      "\u001b[1;31m---------------------------------------------------------------------------\u001b[0m",
      "\u001b[1;31mTypeError\u001b[0m                                 Traceback (most recent call last)",
      "\u001b[1;32m~\\AppData\\Local\\Temp/ipykernel_2728/1372465228.py\u001b[0m in \u001b[0;36m<module>\u001b[1;34m\u001b[0m\n\u001b[0;32m      1\u001b[0m \u001b[1;32mdef\u001b[0m \u001b[0mget_kwarg\u001b[0m\u001b[1;33m(\u001b[0m\u001b[0mn1\u001b[0m\u001b[1;33m=\u001b[0m\u001b[1;36m20\u001b[0m\u001b[1;33m,\u001b[0m\u001b[0mn2\u001b[0m\u001b[1;33m=\u001b[0m\u001b[1;36m30\u001b[0m\u001b[1;33m,\u001b[0m\u001b[0mn3\u001b[0m\u001b[1;33m=\u001b[0m\u001b[1;36m40\u001b[0m\u001b[1;33m)\u001b[0m\u001b[1;33m:\u001b[0m\u001b[1;33m\u001b[0m\u001b[1;33m\u001b[0m\u001b[0m\n\u001b[0;32m      2\u001b[0m     \u001b[0mprint\u001b[0m\u001b[1;33m(\u001b[0m\u001b[1;34mf\"{n1=} , {n2=} and {n3=}\"\u001b[0m\u001b[1;33m)\u001b[0m\u001b[1;33m\u001b[0m\u001b[1;33m\u001b[0m\u001b[0m\n\u001b[1;32m----> 3\u001b[1;33m \u001b[0mget_kwarg\u001b[0m\u001b[1;33m(\u001b[0m\u001b[1;36m14\u001b[0m\u001b[1;33m,\u001b[0m\u001b[1;36m15\u001b[0m\u001b[1;33m,\u001b[0m\u001b[1;36m16\u001b[0m\u001b[1;33m,\u001b[0m\u001b[1;36m17\u001b[0m\u001b[1;33m)\u001b[0m\u001b[1;33m\u001b[0m\u001b[1;33m\u001b[0m\u001b[0m\n\u001b[0m",
      "\u001b[1;31mTypeError\u001b[0m: get_kwarg() takes from 0 to 3 positional arguments but 4 were given"
     ]
    }
   ],
   "source": [
    "def get_kwarg(n1=20,n2=30,n3=40):\n",
    "    print(f\"{n1=} , {n2=} and {n3=}\")\n",
    "get_kwarg(14,15,16,17)                                 # eXTRA vALUE  Added\n"
   ]
  },
  {
   "cell_type": "code",
   "execution_count": 4,
   "id": "a836e5f8",
   "metadata": {},
   "outputs": [
    {
     "ename": "TypeError",
     "evalue": "get_kwarg() takes 0 positional arguments but 5 were given",
     "output_type": "error",
     "traceback": [
      "\u001b[1;31m---------------------------------------------------------------------------\u001b[0m",
      "\u001b[1;31mTypeError\u001b[0m                                 Traceback (most recent call last)",
      "\u001b[1;32m~\\AppData\\Local\\Temp/ipykernel_2728/3336747500.py\u001b[0m in \u001b[0;36m<module>\u001b[1;34m\u001b[0m\n\u001b[0;32m      3\u001b[0m     \u001b[0mprint\u001b[0m\u001b[1;33m(\u001b[0m\u001b[1;34mf\"Kwargs >>>\"\u001b[0m\u001b[1;33m,\u001b[0m\u001b[0mkwargs\u001b[0m\u001b[1;33m)\u001b[0m\u001b[1;33m\u001b[0m\u001b[1;33m\u001b[0m\u001b[0m\n\u001b[0;32m      4\u001b[0m \u001b[1;33m\u001b[0m\u001b[0m\n\u001b[1;32m----> 5\u001b[1;33m \u001b[0mget_kwarg\u001b[0m\u001b[1;33m(\u001b[0m\u001b[1;36m10\u001b[0m\u001b[1;33m,\u001b[0m\u001b[1;36m15\u001b[0m\u001b[1;33m,\u001b[0m\u001b[1;36m16\u001b[0m\u001b[1;33m,\u001b[0m\u001b[1;36m18\u001b[0m\u001b[1;33m,\u001b[0m\u001b[1;36m19\u001b[0m\u001b[1;33m)\u001b[0m\u001b[1;33m\u001b[0m\u001b[1;33m\u001b[0m\u001b[0m\n\u001b[0m",
      "\u001b[1;31mTypeError\u001b[0m: get_kwarg() takes 0 positional arguments but 5 were given"
     ]
    }
   ],
   "source": [
    "def get_kwarg(**kwargs):\n",
    "    \n",
    "    print(f\"Kwargs >>>\",kwargs)\n",
    "    \n",
    "get_kwarg(10,15,16,18,19)\n"
   ]
  },
  {
   "cell_type": "code",
   "execution_count": 2,
   "id": "ae7e81ea",
   "metadata": {},
   "outputs": [
    {
     "name": "stdout",
     "output_type": "stream",
     "text": [
      "Kwargs >>> {'a': 10, 'b': 15, 'c': 16, 'd': 18, 'e': 19}\n"
     ]
    }
   ],
   "source": [
    "def get_kwarg(**kwargs):\n",
    "    \n",
    "    print(f\"Kwargs >>>\",kwargs)\n",
    "    \n",
    "get_kwarg(a=10,b=15,c=16,d=18,e=19)\n"
   ]
  },
  {
   "cell_type": "code",
   "execution_count": 5,
   "id": "1509455d",
   "metadata": {},
   "outputs": [
    {
     "name": "stdout",
     "output_type": "stream",
     "text": [
      "marks >>>> {'phy': 95, 'che': 94, 'math': 98, 'science': 96}\n",
      "Percentage>>> 95.75\n"
     ]
    }
   ],
   "source": [
    "def get_per(**marks):\n",
    "    print(f\"marks >>>> {marks}\")\n",
    "    percentage = sum(marks.values())/len(marks)\n",
    "    return percentage\n",
    "\n",
    "percentage = get_per(phy = 95, che = 94 , math = 98, science = 96)\n",
    "print(\"Percentage>>>\",percentage)"
   ]
  },
  {
   "cell_type": "code",
   "execution_count": null,
   "id": "1ad1bf2a",
   "metadata": {},
   "outputs": [],
   "source": [
    "phy = 95, che = 94 , math = 98, science = 96"
   ]
  },
  {
   "cell_type": "code",
   "execution_count": 4,
   "id": "344a0041",
   "metadata": {},
   "outputs": [
    {
     "ename": "SyntaxError",
     "evalue": "expression cannot contain assignment, perhaps you meant \"==\"? (1031846934.py, line 7)",
     "output_type": "error",
     "traceback": [
      "\u001b[1;36m  Input \u001b[1;32mIn [4]\u001b[1;36m\u001b[0m\n\u001b[1;33m    get_testing(10,12,14,15,17,18,\"s\"=12)\u001b[0m\n\u001b[1;37m                                  ^\u001b[0m\n\u001b[1;31mSyntaxError\u001b[0m\u001b[1;31m:\u001b[0m expression cannot contain assignment, perhaps you meant \"==\"?\n"
     ]
    }
   ],
   "source": [
    "def get_testing(a,b,*args,x=10,y=20,**kwargs):\n",
    "    print(f\"a={a}, b={b}\")    # Positional arg >10,12\n",
    "    print(f\"Args>>>{args}\")   # arg pos arg  > 14,15,17,18\n",
    "    print(f\"x={x} and y={y}\") # Default arg > 10,20,\n",
    "    print(f\"kwargs >> {kwargs}\") # Arb keyword arg  {}\n",
    "    \n",
    "get_testing(10,12,14,15,17,18,s=12)"
   ]
  },
  {
   "cell_type": "code",
   "execution_count": 11,
   "id": "17942fc0",
   "metadata": {},
   "outputs": [
    {
     "name": "stdout",
     "output_type": "stream",
     "text": [
      "a=10, b=12\n",
      "Args>>>(14, 15, 17, 18)\n",
      "x=10 and y=20\n",
      "kwargs >> {'K': 12, 'che': 20, 'eng': 90, 'sci': 60}\n"
     ]
    }
   ],
   "source": [
    "def get_testing(a,b,*args,x=10,y=20,**kwargs):\n",
    "    print(f\"a={a}, b={b}\")    # Positional arg >10,12\n",
    "    print(f\"Args>>>{args}\")   # arg pos arg  > 14,15,17,18\n",
    "    print(f\"x={x} and y={y}\") # Default arg > \n",
    "    print(f\"kwargs >> {kwargs}\") # Arb keyword arg  {}\n",
    "    \n",
    "get_testing(10,12,14,15,17,18,K=12,che=20,eng=90,sci=60)"
   ]
  },
  {
   "cell_type": "code",
   "execution_count": 10,
   "id": "9656498f",
   "metadata": {},
   "outputs": [
    {
     "name": "stdout",
     "output_type": "stream",
     "text": [
      "a=10, b=12\n",
      "Args>>>(14, 15, 17, 18)\n",
      "x=100 and y=20\n",
      "kwargs >> {'phy': 12, 'che': 20, 'eng': 90, 'sci': 60}\n"
     ]
    }
   ],
   "source": [
    "def get_testing(a,b,*args,x=10,y=20,**kwargs):\n",
    "    print(f\"a={a}, b={b}\")    # Positional arg >10,12\n",
    "    print(f\"Args>>>{args}\")   # Arb pos arg  > 14,15,17,18\n",
    "    print(f\"x={x} and y={y}\") # Default arg > \n",
    "    print(f\"kwargs >> {kwargs}\") # Arb keyword arg  {}\n",
    "    \n",
    "get_testing(10,12,14,15,17,18,phy=12,che=20,eng=90,sci=60,x=100)"
   ]
  },
  {
   "cell_type": "code",
   "execution_count": 6,
   "id": "e7a5df32",
   "metadata": {},
   "outputs": [
    {
     "name": "stdout",
     "output_type": "stream",
     "text": [
      "a=10, b=12\n",
      "Args>>>(14, 15, 17, 18)\n",
      "x=100 and y=20\n",
      "kwargs >> {'phy': 12, 'che': 20, 'eng': 90, 'sci': 60}\n"
     ]
    }
   ],
   "source": [
    "def get_testing(a,b,*args,x=10,y=20,**kwargs):\n",
    "    print(f\"a={a}, b={b}\")    # Positional arg >10,12\n",
    "    print(f\"Args>>>{args}\")   # Arb pos arg  > 14,15,17,18\n",
    "    print(f\"x={x} and y={y}\") # Default arg > \n",
    "    print(f\"kwargs >> {kwargs}\") # Arb keyword arg  {}\n",
    "    \n",
    "get_testing(10,12,14,15,17,18,phy=12,che=20,eng=90,sci=60,x=100)"
   ]
  },
  {
   "cell_type": "markdown",
   "id": "b2635512",
   "metadata": {},
   "source": [
    "## Recursive Function"
   ]
  },
  {
   "cell_type": "code",
   "execution_count": null,
   "id": "2a37b108",
   "metadata": {},
   "outputs": [],
   "source": [
    "when function calls itself called as Recursive function\n",
    "we can reduce length of the code"
   ]
  },
  {
   "cell_type": "code",
   "execution_count": 11,
   "id": "c9c23373",
   "metadata": {},
   "outputs": [
    {
     "name": "stdout",
     "output_type": "stream",
     "text": [
      "factorial of 5 is 120\n"
     ]
    }
   ],
   "source": [
    "n = 5\n",
    "fact = 1\n",
    "for i in range(1,n+1):\n",
    "    fact*=i\n",
    "    \n",
    "print(f\"factorial of {n} is {fact}\")"
   ]
  },
  {
   "cell_type": "code",
   "execution_count": 1,
   "id": "c6a84ce5",
   "metadata": {},
   "outputs": [
    {
     "name": "stdout",
     "output_type": "stream",
     "text": [
      "5\n",
      " factorial of is 120\n"
     ]
    }
   ],
   "source": [
    "def get_fact(a):\n",
    "    fact = 1\n",
    "    for i in range(1,a+1):\n",
    "        fact*=i\n",
    "#     print(f\" factorial of is {fact}\")\n",
    "    return fact\n",
    "n = int(input())\n",
    "fact = get_fact(n)\n",
    "print(f\" factorial of is {fact}\")\n"
   ]
  },
  {
   "cell_type": "code",
   "execution_count": 2,
   "id": "1085c085",
   "metadata": {},
   "outputs": [
    {
     "name": "stdout",
     "output_type": "stream",
     "text": [
      "4\n"
     ]
    },
    {
     "data": {
      "text/plain": [
       "24"
      ]
     },
     "execution_count": 2,
     "metadata": {},
     "output_type": "execute_result"
    }
   ],
   "source": [
    "def get_fact_rec(n):\n",
    "    if n == 1 or n == 0: # false\n",
    "        return 1\n",
    "    elif n<0: # false\n",
    "        return print(f\" Number is negative therfore factorial is not possible for {n}\")\n",
    "    else:        # True\n",
    "        return n*get_fact_rec(n-1)  # 5*4*3*2*1   \n",
    "    \n",
    "# n = int(input())\n",
    "# n=5\n",
    "get_fact_rec(int(input())) # n=5\n",
    "    "
   ]
  },
  {
   "cell_type": "raw",
   "id": "a7ecb142",
   "metadata": {},
   "source": [
    "0,1,1,2,3,5,8"
   ]
  },
  {
   "cell_type": "code",
   "execution_count": 5,
   "id": "88c7490a",
   "metadata": {},
   "outputs": [
    {
     "name": "stdout",
     "output_type": "stream",
     "text": [
      "0 1 1 2 3 "
     ]
    }
   ],
   "source": [
    "def get_fib(n):\n",
    "    if n<=1:# True,True,False\n",
    "        return n\n",
    "    else:   # True\n",
    "        return (get_fib(n-1)+get_fib(n-2)) # 1+0=1\n",
    "n = 5\n",
    "if n<0:\n",
    "    print(\"Enter positive number only\")\n",
    "else:\n",
    "    for i in range(n): #0,1,2,3,4\n",
    "            print(get_fib(i),end=\" \") # i=0,i=1,i=2"
   ]
  },
  {
   "cell_type": "code",
   "execution_count": null,
   "id": "08ab5a5f",
   "metadata": {},
   "outputs": [],
   "source": [
    "0,1,1"
   ]
  },
  {
   "cell_type": "markdown",
   "id": "d53418a6",
   "metadata": {},
   "source": [
    "## 1.lambda"
   ]
  },
  {
   "cell_type": "code",
   "execution_count": null,
   "id": "e61500ed",
   "metadata": {},
   "outputs": [],
   "source": [
    "> It is an annonymous function\n",
    "> Annonymopus > function without name\n",
    "syntax>\n",
    "lambda argument : expresion \n",
    "# arg > can be 1 or more\n",
    "# expresion > only 1\n",
    "example>\n",
    "lambda a   :a**2\n",
    "lambda x,y : x+y"
   ]
  },
  {
   "cell_type": "code",
   "execution_count": null,
   "id": "c428d207",
   "metadata": {},
   "outputs": [],
   "source": [
    "def get_"
   ]
  },
  {
   "cell_type": "code",
   "execution_count": 25,
   "id": "1501b46e",
   "metadata": {},
   "outputs": [
    {
     "data": {
      "text/plain": [
       "2912"
      ]
     },
     "execution_count": 25,
     "metadata": {},
     "output_type": "execute_result"
    }
   ],
   "source": [
    "# add = lambda x,y :x+y\n",
    "# add(10,12)\n",
    "ADD=lambda a,b :a*b\n",
    "ADD(52,56)"
   ]
  },
  {
   "cell_type": "code",
   "execution_count": 6,
   "id": "e4f58eb9",
   "metadata": {},
   "outputs": [
    {
     "data": {
      "text/plain": [
       "120"
      ]
     },
     "execution_count": 6,
     "metadata": {},
     "output_type": "execute_result"
    }
   ],
   "source": [
    "mul = lambda x,y :x*y\n",
    "mul(10,12)"
   ]
  },
  {
   "cell_type": "code",
   "execution_count": 7,
   "id": "9bc66962",
   "metadata": {},
   "outputs": [
    {
     "data": {
      "text/plain": [
       "2601"
      ]
     },
     "execution_count": 7,
     "metadata": {},
     "output_type": "execute_result"
    }
   ],
   "source": [
    "mul(51,51)"
   ]
  },
  {
   "cell_type": "code",
   "execution_count": null,
   "id": "3c398c47",
   "metadata": {},
   "outputs": [],
   "source": []
  },
  {
   "cell_type": "code",
   "execution_count": 17,
   "id": "a5d8420c",
   "metadata": {},
   "outputs": [
    {
     "data": {
      "text/plain": [
       "2"
      ]
     },
     "execution_count": 17,
     "metadata": {},
     "output_type": "execute_result"
    }
   ],
   "source": [
    "mul(1,2)"
   ]
  },
  {
   "cell_type": "code",
   "execution_count": 15,
   "id": "39ece817",
   "metadata": {},
   "outputs": [
    {
     "name": "stdout",
     "output_type": "stream",
     "text": [
      "110\n"
     ]
    }
   ],
   "source": [
    "# add(2,4)\n",
    "add= lambda a,b,c : a+b+c\n",
    "print(add(10,45,55))"
   ]
  },
  {
   "cell_type": "code",
   "execution_count": 13,
   "id": "8ec8d2f3",
   "metadata": {},
   "outputs": [
    {
     "data": {
      "text/plain": [
       "[2, 4, 6]"
      ]
     },
     "execution_count": 13,
     "metadata": {},
     "output_type": "execute_result"
    }
   ],
   "source": [
    "lst = [2,3,4,5,6]\n",
    "lst1 = lambda i:[i for i in lst if i%2 == 0]\n",
    "lst1(lst)"
   ]
  },
  {
   "cell_type": "code",
   "execution_count": 12,
   "id": "de5b2517",
   "metadata": {},
   "outputs": [
    {
     "data": {
      "text/plain": [
       "[2, 4, 6]"
      ]
     },
     "execution_count": 12,
     "metadata": {},
     "output_type": "execute_result"
    }
   ],
   "source": [
    "lst1(lst)"
   ]
  },
  {
   "cell_type": "markdown",
   "id": "2d27712e",
   "metadata": {},
   "source": [
    "## 2.filter()"
   ]
  },
  {
   "cell_type": "code",
   "execution_count": null,
   "id": "c45cc272",
   "metadata": {},
   "outputs": [],
   "source": [
    "it return only True value\n",
    "filter(function_name,iterable) # only one iterable\n",
    "filter is used only when we want elements which match certain condition"
   ]
  },
  {
   "cell_type": "code",
   "execution_count": null,
   "id": "b958d337",
   "metadata": {},
   "outputs": [],
   "source": [
    "n = 5\n",
    "if n == 5: # True\n",
    "    return n"
   ]
  },
  {
   "cell_type": "code",
   "execution_count": 22,
   "id": "de42a2ad",
   "metadata": {},
   "outputs": [],
   "source": [
    "lst = [2,3,4,5,6,15]\n",
    "def get_test_odd_number(a):\n",
    "    if a%2 !=0: # True\n",
    "        return a\n"
   ]
  },
  {
   "cell_type": "code",
   "execution_count": 23,
   "id": "b1dfc8bf",
   "metadata": {},
   "outputs": [
    {
     "data": {
      "text/plain": [
       "[3, 5, 15]"
      ]
     },
     "execution_count": 23,
     "metadata": {},
     "output_type": "execute_result"
    }
   ],
   "source": [
    "list(filter(get_test_odd_number,lst))"
   ]
  },
  {
   "cell_type": "code",
   "execution_count": 24,
   "id": "d94880e1",
   "metadata": {},
   "outputs": [
    {
     "data": {
      "text/plain": [
       "(3, 5, 15)"
      ]
     },
     "execution_count": 24,
     "metadata": {},
     "output_type": "execute_result"
    }
   ],
   "source": [
    "tuple(filter(get_test_odd_number,lst))"
   ]
  },
  {
   "cell_type": "code",
   "execution_count": 25,
   "id": "436ee2ac",
   "metadata": {},
   "outputs": [
    {
     "data": {
      "text/plain": [
       "[3, 5, 15]"
      ]
     },
     "execution_count": 25,
     "metadata": {},
     "output_type": "execute_result"
    }
   ],
   "source": [
    "lst = [2,3,4,5,6,15]\n",
    "list(filter(lambda x:x%2 !=0,lst))"
   ]
  },
  {
   "cell_type": "code",
   "execution_count": 26,
   "id": "4ab4c812",
   "metadata": {},
   "outputs": [
    {
     "data": {
      "text/plain": [
       "[2, 4, 6]"
      ]
     },
     "execution_count": 26,
     "metadata": {},
     "output_type": "execute_result"
    }
   ],
   "source": [
    "lst = [2,3,4,5,6,15]\n",
    "list(filter(lambda x:x%2 ==0,lst))"
   ]
  },
  {
   "cell_type": "code",
   "execution_count": 28,
   "id": "4eaf790b",
   "metadata": {},
   "outputs": [
    {
     "data": {
      "text/plain": [
       "['Sunday', 'Monday', 'Friday']"
      ]
     },
     "execution_count": 28,
     "metadata": {},
     "output_type": "execute_result"
    }
   ],
   "source": [
    "lst = [\"Sunday\",\"Monday\",\"Tuesday\",\"Wedensday\",\"Thursday\",\"Friday\",\"Saturday\"]\n",
    "list(filter(lambda x:len(x) == 6,lst))"
   ]
  },
  {
   "cell_type": "code",
   "execution_count": 29,
   "id": "061d7f69",
   "metadata": {},
   "outputs": [
    {
     "data": {
      "text/plain": [
       "['monday', 'wedensday']"
      ]
     },
     "execution_count": 29,
     "metadata": {},
     "output_type": "execute_result"
    }
   ],
   "source": [
    "lst = [\"Sunday\",\"monday\",\"Tuesday\",\"wedensday\",\"Thursday\",\"Friday\",\"Saturday\"]\n",
    "list(filter(lambda x:x.islower(),lst))"
   ]
  },
  {
   "cell_type": "markdown",
   "id": "abab0bff",
   "metadata": {},
   "source": [
    "### 3)map()"
   ]
  },
  {
   "cell_type": "raw",
   "id": "d5659153",
   "metadata": {},
   "source": [
    "map(function,iterable) # iterable one or more\n",
    "It is process and transform the iterable as per the expression in function given as parameter to map function"
   ]
  },
  {
   "cell_type": "code",
   "execution_count": 30,
   "id": "b3f8dd95",
   "metadata": {},
   "outputs": [
    {
     "data": {
      "text/plain": [
       "['SUNDAY', 'MONDAY', 'TUESDAY', 'WEDENSDAY', 'THURSDAY', 'FRIDAY', 'SATURDAY']"
      ]
     },
     "execution_count": 30,
     "metadata": {},
     "output_type": "execute_result"
    }
   ],
   "source": [
    "lst = [\"Sunday\",\"Monday\",\"Tuesday\",\"Wedensday\",\"Thursday\",\"Friday\",\"Saturday\"]\n",
    "list(map(lambda x:x.upper(),lst))"
   ]
  },
  {
   "cell_type": "code",
   "execution_count": 35,
   "id": "f491aed0",
   "metadata": {},
   "outputs": [
    {
     "data": {
      "text/plain": [
       "['Tuesday', 'Thursday']"
      ]
     },
     "execution_count": 35,
     "metadata": {},
     "output_type": "execute_result"
    }
   ],
   "source": [
    "lst = [\"Sunday\",\"Monday\",\"Tuesday\",\"Wedensday\",\"Thursday\",\"Friday\",\"Saturday\"]\n",
    "list(filter(lambda x:x.startswith(\"T\"),lst))"
   ]
  },
  {
   "cell_type": "code",
   "execution_count": 34,
   "id": "6c45e32f",
   "metadata": {},
   "outputs": [
    {
     "data": {
      "text/plain": [
       "True"
      ]
     },
     "execution_count": 34,
     "metadata": {},
     "output_type": "execute_result"
    }
   ],
   "source": [
    "\"Saturday\".startswith(\"S\")"
   ]
  },
  {
   "cell_type": "code",
   "execution_count": 36,
   "id": "67afa4e1",
   "metadata": {},
   "outputs": [
    {
     "data": {
      "text/plain": [
       "['Sunday', 'Monday', 'Tuesday', 'Friday', 'Saturday']"
      ]
     },
     "execution_count": 36,
     "metadata": {},
     "output_type": "execute_result"
    }
   ],
   "source": [
    "lst = [\"Sunday\",\"Monday\",\"Tuesday\",\"wedensday\",\"thursday\",\"Friday\",\"Saturday\"]\n",
    "list(filter(lambda x:x.istitle(),lst))"
   ]
  },
  {
   "cell_type": "code",
   "execution_count": 37,
   "id": "a6b452aa",
   "metadata": {},
   "outputs": [
    {
     "data": {
      "text/plain": [
       "['Monday', 'Tuesday', 'Friday', 'Saturday']"
      ]
     },
     "execution_count": 37,
     "metadata": {},
     "output_type": "execute_result"
    }
   ],
   "source": [
    "lst = [\"SundaY\",\"Monday\",\"Tuesday\",\"wedensday\",\"thursday\",\"Friday\",\"Saturday\"]\n",
    "list(filter(lambda x:x.istitle(),lst))"
   ]
  },
  {
   "cell_type": "code",
   "execution_count": null,
   "id": "865463d5",
   "metadata": {},
   "outputs": [],
   "source": []
  },
  {
   "cell_type": "code",
   "execution_count": null,
   "id": "bd064b30",
   "metadata": {},
   "outputs": [],
   "source": []
  }
 ],
 "metadata": {
  "kernelspec": {
   "display_name": "Python 3",
   "language": "python",
   "name": "python3"
  },
  "language_info": {
   "codemirror_mode": {
    "name": "ipython",
    "version": 3
   },
   "file_extension": ".py",
   "mimetype": "text/x-python",
   "name": "python",
   "nbconvert_exporter": "python",
   "pygments_lexer": "ipython3",
   "version": "3.8.8"
  }
 },
 "nbformat": 4,
 "nbformat_minor": 5
}
