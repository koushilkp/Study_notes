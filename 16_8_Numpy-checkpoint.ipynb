{
 "cells": [
  {
   "cell_type": "markdown",
   "id": "ada3951f",
   "metadata": {},
   "source": [
    "## Numpy "
   ]
  },
  {
   "cell_type": "code",
   "execution_count": null,
   "id": "fccd3daa",
   "metadata": {},
   "outputs": [],
   "source": [
    "numpy > Numerical Python"
   ]
  },
  {
   "cell_type": "markdown",
   "id": "475b10ae",
   "metadata": {},
   "source": [
    "## Application"
   ]
  },
  {
   "cell_type": "code",
   "execution_count": null,
   "id": "a81e72db",
   "metadata": {},
   "outputs": [],
   "source": [
    "1.Statistics (mean,mode,median,std,variance)\n",
    "2.Probability\n",
    "3.Trignomentry (tan,cos,sin)\n",
    "4.matrix\n",
    "5.Random number gerneration"
   ]
  },
  {
   "cell_type": "code",
   "execution_count": 1,
   "id": "6676f88e",
   "metadata": {},
   "outputs": [
    {
     "name": "stdout",
     "output_type": "stream",
     "text": [
      "608\n"
     ]
    }
   ],
   "source": [
    "import numpy as np\n",
    "print(len(dir(np)))"
   ]
  },
  {
   "cell_type": "code",
   "execution_count": null,
   "id": "53d73f86",
   "metadata": {},
   "outputs": [],
   "source": [
    "list > "
   ]
  },
  {
   "cell_type": "code",
   "execution_count": 2,
   "id": "b750d7c5",
   "metadata": {},
   "outputs": [
    {
     "data": {
      "text/plain": [
       "[2, 2.3, 'a', (2+3j)]"
      ]
     },
     "execution_count": 2,
     "metadata": {},
     "output_type": "execute_result"
    }
   ],
   "source": [
    "l = [2,2.3,\"a\",2+3j]\n",
    "l"
   ]
  },
  {
   "cell_type": "code",
   "execution_count": null,
   "id": "e1250e3c",
   "metadata": {},
   "outputs": [],
   "source": [
    "Array >> Array is a container which is use to hold number of items/elemnts and thse elements should be of the same data type\n",
    "(Homogeneous)\n",
    "int,complex,str"
   ]
  },
  {
   "cell_type": "markdown",
   "id": "0a565c72",
   "metadata": {},
   "source": [
    "## Properties"
   ]
  },
  {
   "cell_type": "code",
   "execution_count": null,
   "id": "919efa03",
   "metadata": {},
   "outputs": [],
   "source": [
    "1) It is collection of homogeneous datatype\n",
    "2) Numpy is faster than list (Hetrogeneouns)\n",
    "3) Numpy is written in c/c++ langauge and partially writen in python\n",
    "4) ndarray >> n dimensional array (0D,1D,2D,3D....nD)\n",
    "5) Array can be created using python data type i.e list /tuple"
   ]
  },
  {
   "cell_type": "code",
   "execution_count": 3,
   "id": "1cad1e05",
   "metadata": {},
   "outputs": [],
   "source": [
    "import numpy as np\n",
    "import pandas as pd"
   ]
  },
  {
   "cell_type": "code",
   "execution_count": 5,
   "id": "453291aa",
   "metadata": {},
   "outputs": [
    {
     "name": "stdout",
     "output_type": "stream",
     "text": [
      "[1, 2.3, 'd', 1234]\n",
      "<class 'list'>\n"
     ]
    }
   ],
   "source": [
    "lst = [1,2.3,\"d\",1234]\n",
    "print(lst)\n",
    "print(type(lst))"
   ]
  },
  {
   "cell_type": "code",
   "execution_count": 6,
   "id": "3ea4a466",
   "metadata": {},
   "outputs": [
    {
     "name": "stdout",
     "output_type": "stream",
     "text": [
      "[3 4 5 6]\n"
     ]
    },
    {
     "data": {
      "text/plain": [
       "numpy.ndarray"
      ]
     },
     "execution_count": 6,
     "metadata": {},
     "output_type": "execute_result"
    }
   ],
   "source": [
    "array = np.array([3,4,5,6])\n",
    "print(array)\n",
    "type(array)"
   ]
  },
  {
   "cell_type": "code",
   "execution_count": 8,
   "id": "8c747164",
   "metadata": {},
   "outputs": [
    {
     "data": {
      "text/plain": [
       "array([1.000e+00, 2.300e+00, 1.234e+03, 5.600e+01])"
      ]
     },
     "execution_count": 8,
     "metadata": {},
     "output_type": "execute_result"
    }
   ],
   "source": [
    "lst = [1,2.3,1234,56]\n",
    "array = np.array(lst) # if anyone is float then all become float\n",
    "array"
   ]
  },
  {
   "cell_type": "code",
   "execution_count": 9,
   "id": "2033c4f4",
   "metadata": {},
   "outputs": [
    {
     "data": {
      "text/plain": [
       "array([1. +0.j, 2.3+0.j, 1. +5.j, 5. +0.j])"
      ]
     },
     "execution_count": 9,
     "metadata": {},
     "output_type": "execute_result"
    }
   ],
   "source": [
    "lst = [1,2.3,1+5j,5]\n",
    "array = np.array(lst) # if there is complex then all become complex\n",
    "array"
   ]
  },
  {
   "cell_type": "code",
   "execution_count": 10,
   "id": "5935be68",
   "metadata": {},
   "outputs": [
    {
     "data": {
      "text/plain": [
       "array(['1', '2.3', '(1+5j)', '5'], dtype='<U64')"
      ]
     },
     "execution_count": 10,
     "metadata": {},
     "output_type": "execute_result"
    }
   ],
   "source": [
    "lst   = [1,2.3,1+5j,\"5\"]\n",
    "array = np.array(lst) # if there is str then all become str\n",
    "array"
   ]
  },
  {
   "cell_type": "code",
   "execution_count": null,
   "id": "e572cee7",
   "metadata": {},
   "outputs": [],
   "source": []
  },
  {
   "cell_type": "code",
   "execution_count": null,
   "id": "aba4ccd1",
   "metadata": {},
   "outputs": [],
   "source": [
    "# int >float >complex> str > it check "
   ]
  },
  {
   "cell_type": "code",
   "execution_count": 13,
   "id": "94a41b40",
   "metadata": {},
   "outputs": [
    {
     "name": "stdout",
     "output_type": "stream",
     "text": [
      "[0.5 1.  1.5 2.  2.5]\n"
     ]
    }
   ],
   "source": [
    "lst = [1,2,3,4,5]\n",
    "array = np.array(lst)\n",
    "print(array/2) # alwasy float"
   ]
  },
  {
   "cell_type": "code",
   "execution_count": 12,
   "id": "43da1e03",
   "metadata": {},
   "outputs": [
    {
     "ename": "TypeError",
     "evalue": "unsupported operand type(s) for /: 'list' and 'int'",
     "output_type": "error",
     "traceback": [
      "\u001b[1;31m---------------------------------------------------------------------------\u001b[0m",
      "\u001b[1;31mTypeError\u001b[0m                                 Traceback (most recent call last)",
      "\u001b[1;32m~\\AppData\\Local\\Temp/ipykernel_4460/3996636822.py\u001b[0m in \u001b[0;36m<module>\u001b[1;34m\u001b[0m\n\u001b[0;32m      1\u001b[0m \u001b[0mlst\u001b[0m \u001b[1;33m=\u001b[0m \u001b[1;33m[\u001b[0m\u001b[1;36m1\u001b[0m\u001b[1;33m,\u001b[0m\u001b[1;36m2\u001b[0m\u001b[1;33m,\u001b[0m\u001b[1;36m3\u001b[0m\u001b[1;33m,\u001b[0m\u001b[1;36m4\u001b[0m\u001b[1;33m,\u001b[0m\u001b[1;36m5\u001b[0m\u001b[1;33m]\u001b[0m\u001b[1;33m\u001b[0m\u001b[1;33m\u001b[0m\u001b[0m\n\u001b[1;32m----> 2\u001b[1;33m \u001b[0mlst\u001b[0m\u001b[1;33m/\u001b[0m\u001b[1;36m2\u001b[0m\u001b[1;33m\u001b[0m\u001b[1;33m\u001b[0m\u001b[0m\n\u001b[0m",
      "\u001b[1;31mTypeError\u001b[0m: unsupported operand type(s) for /: 'list' and 'int'"
     ]
    }
   ],
   "source": [
    "lst = [1,2,3,4,5]\n",
    "lst/2"
   ]
  },
  {
   "cell_type": "code",
   "execution_count": 14,
   "id": "d99e68a6",
   "metadata": {},
   "outputs": [
    {
     "name": "stdout",
     "output_type": "stream",
     "text": [
      "[0 1 1 2 2]\n"
     ]
    }
   ],
   "source": [
    "lst = [1,2,3,4,5]\n",
    "array = np.array(lst)\n",
    "print(array//2) # "
   ]
  },
  {
   "cell_type": "markdown",
   "id": "61e03a5c",
   "metadata": {},
   "source": [
    "## Create Numpy array"
   ]
  },
  {
   "cell_type": "code",
   "execution_count": 15,
   "id": "f7235b2b",
   "metadata": {},
   "outputs": [
    {
     "data": {
      "text/plain": [
       "array(12)"
      ]
     },
     "execution_count": 15,
     "metadata": {},
     "output_type": "execute_result"
    }
   ],
   "source": [
    "array = np.array(12)\n",
    "array"
   ]
  },
  {
   "cell_type": "code",
   "execution_count": 1,
   "id": "397b3eb4",
   "metadata": {},
   "outputs": [
    {
     "name": "stdout",
     "output_type": "stream",
     "text": [
      "[1 2 3 3]\n"
     ]
    }
   ],
   "source": [
    "import numpy as np\n",
    "array =np.array([1,2,3,3])\n",
    "print(array)"
   ]
  },
  {
   "cell_type": "raw",
   "id": "27d86e20",
   "metadata": {},
   "source": []
  },
  {
   "cell_type": "code",
   "execution_count": null,
   "id": "73169d1a",
   "metadata": {},
   "outputs": [],
   "source": []
  },
  {
   "cell_type": "code",
   "execution_count": 16,
   "id": "77713e19",
   "metadata": {},
   "outputs": [
    {
     "data": {
      "text/plain": [
       "array([12,  4, 12, 34])"
      ]
     },
     "execution_count": 16,
     "metadata": {},
     "output_type": "execute_result"
    }
   ],
   "source": [
    "array = np.array([12,4,12,34])\n",
    "array"
   ]
  },
  {
   "cell_type": "code",
   "execution_count": 3,
   "id": "36525ff1",
   "metadata": {},
   "outputs": [
    {
     "data": {
      "text/plain": [
       "array([12,  4, 12, 34])"
      ]
     },
     "execution_count": 3,
     "metadata": {},
     "output_type": "execute_result"
    }
   ],
   "source": [
    "array = np.array((12,4,12,34))\n",
    "array"
   ]
  },
  {
   "cell_type": "code",
   "execution_count": 18,
   "id": "757f39e2",
   "metadata": {},
   "outputs": [
    {
     "data": {
      "text/plain": [
       "array({'a': (12, 4, 12, 34)}, dtype=object)"
      ]
     },
     "execution_count": 18,
     "metadata": {},
     "output_type": "execute_result"
    }
   ],
   "source": [
    "array = np.array({\"a\":(12,4,12,34)})\n",
    "array # wrong way"
   ]
  },
  {
   "cell_type": "code",
   "execution_count": 19,
   "id": "e9adb466",
   "metadata": {},
   "outputs": [
    {
     "ename": "TypeError",
     "evalue": "array() takes from 1 to 2 positional arguments but 4 were given",
     "output_type": "error",
     "traceback": [
      "\u001b[1;31m---------------------------------------------------------------------------\u001b[0m",
      "\u001b[1;31mTypeError\u001b[0m                                 Traceback (most recent call last)",
      "\u001b[1;32m~\\AppData\\Local\\Temp/ipykernel_4460/1046170465.py\u001b[0m in \u001b[0;36m<module>\u001b[1;34m\u001b[0m\n\u001b[1;32m----> 1\u001b[1;33m \u001b[0marray\u001b[0m \u001b[1;33m=\u001b[0m \u001b[0mnp\u001b[0m\u001b[1;33m.\u001b[0m\u001b[0marray\u001b[0m\u001b[1;33m(\u001b[0m\u001b[1;36m12\u001b[0m\u001b[1;33m,\u001b[0m\u001b[1;36m4\u001b[0m\u001b[1;33m,\u001b[0m\u001b[1;36m12\u001b[0m\u001b[1;33m,\u001b[0m\u001b[1;36m34\u001b[0m\u001b[1;33m)\u001b[0m\u001b[1;33m\u001b[0m\u001b[1;33m\u001b[0m\u001b[0m\n\u001b[0m\u001b[0;32m      2\u001b[0m \u001b[0marray\u001b[0m\u001b[1;33m\u001b[0m\u001b[1;33m\u001b[0m\u001b[0m\n",
      "\u001b[1;31mTypeError\u001b[0m: array() takes from 1 to 2 positional arguments but 4 were given"
     ]
    }
   ],
   "source": [
    "array = np.array(12,4,12,34)\n",
    "array"
   ]
  },
  {
   "cell_type": "markdown",
   "id": "7b7a01af",
   "metadata": {},
   "source": [
    "## change Datatype"
   ]
  },
  {
   "cell_type": "code",
   "execution_count": null,
   "id": "bb78e36f",
   "metadata": {},
   "outputs": [],
   "source": [
    "int >float ,complex,str\n",
    "float >int"
   ]
  },
  {
   "cell_type": "code",
   "execution_count": 4,
   "id": "e7a2dab7",
   "metadata": {},
   "outputs": [
    {
     "data": {
      "text/plain": [
       "array([1, 2, 3, 4])"
      ]
     },
     "execution_count": 4,
     "metadata": {},
     "output_type": "execute_result"
    }
   ],
   "source": [
    "lst = [1,2,3,4.5]\n",
    "array = np.array(lst,dtype=int)\n",
    "array"
   ]
  },
  {
   "cell_type": "code",
   "execution_count": 22,
   "id": "d60d4040",
   "metadata": {},
   "outputs": [
    {
     "data": {
      "text/plain": [
       "array([1. , 2. , 3. , 4.5])"
      ]
     },
     "execution_count": 22,
     "metadata": {},
     "output_type": "execute_result"
    }
   ],
   "source": [
    "lst = [1,2,3,4.5]\n",
    "array = np.array(lst,dtype=float)\n",
    "array"
   ]
  },
  {
   "cell_type": "code",
   "execution_count": 5,
   "id": "22dfa74b",
   "metadata": {},
   "outputs": [
    {
     "data": {
      "text/plain": [
       "array([1. +0.j, 2. +0.j, 3. +0.j, 4.5+0.j])"
      ]
     },
     "execution_count": 5,
     "metadata": {},
     "output_type": "execute_result"
    }
   ],
   "source": [
    "lst = [1,2,3,4.5]\n",
    "array = np.array(lst,dtype=complex)       #note........\n",
    "array"
   ]
  },
  {
   "cell_type": "code",
   "execution_count": 24,
   "id": "2232b9c5",
   "metadata": {},
   "outputs": [
    {
     "data": {
      "text/plain": [
       "array(['1', '2', '3', '4.5'], dtype='<U3')"
      ]
     },
     "execution_count": 24,
     "metadata": {},
     "output_type": "execute_result"
    }
   ],
   "source": [
    "lst = [1,2,3,4.5]\n",
    "array = np.array(lst,dtype=str)\n",
    "array"
   ]
  },
  {
   "cell_type": "code",
   "execution_count": null,
   "id": "236c78c0",
   "metadata": {},
   "outputs": [],
   "source": []
  },
  {
   "cell_type": "code",
   "execution_count": 25,
   "id": "61e5debf",
   "metadata": {},
   "outputs": [
    {
     "ename": "TypeError",
     "evalue": "can't convert complex to int",
     "output_type": "error",
     "traceback": [
      "\u001b[1;31m---------------------------------------------------------------------------\u001b[0m",
      "\u001b[1;31mTypeError\u001b[0m                                 Traceback (most recent call last)",
      "\u001b[1;32m~\\AppData\\Local\\Temp/ipykernel_4460/89114595.py\u001b[0m in \u001b[0;36m<module>\u001b[1;34m\u001b[0m\n\u001b[0;32m      1\u001b[0m \u001b[0mlst\u001b[0m \u001b[1;33m=\u001b[0m \u001b[1;33m[\u001b[0m\u001b[1;36m1\u001b[0m\u001b[1;33m,\u001b[0m\u001b[1;36m2\u001b[0m\u001b[1;33m+\u001b[0m\u001b[1;36m3j\u001b[0m\u001b[1;33m,\u001b[0m\u001b[1;36m3\u001b[0m\u001b[1;33m,\u001b[0m\u001b[1;36m4.5\u001b[0m\u001b[1;33m]\u001b[0m\u001b[1;33m\u001b[0m\u001b[1;33m\u001b[0m\u001b[0m\n\u001b[1;32m----> 2\u001b[1;33m \u001b[0marray\u001b[0m \u001b[1;33m=\u001b[0m \u001b[0mnp\u001b[0m\u001b[1;33m.\u001b[0m\u001b[0marray\u001b[0m\u001b[1;33m(\u001b[0m\u001b[0mlst\u001b[0m\u001b[1;33m,\u001b[0m\u001b[0mdtype\u001b[0m\u001b[1;33m=\u001b[0m\u001b[0mint\u001b[0m\u001b[1;33m)\u001b[0m\u001b[1;33m\u001b[0m\u001b[1;33m\u001b[0m\u001b[0m\n\u001b[0m\u001b[0;32m      3\u001b[0m \u001b[0marray\u001b[0m\u001b[1;33m\u001b[0m\u001b[1;33m\u001b[0m\u001b[0m\n",
      "\u001b[1;31mTypeError\u001b[0m: can't convert complex to int"
     ]
    }
   ],
   "source": [
    "lst = [1,2+3j,3,4.5]\n",
    "array = np.array(lst,dtype=int)\n",
    "array"
   ]
  },
  {
   "cell_type": "code",
   "execution_count": 26,
   "id": "62ab1926",
   "metadata": {},
   "outputs": [
    {
     "ename": "TypeError",
     "evalue": "can't convert complex to float",
     "output_type": "error",
     "traceback": [
      "\u001b[1;31m---------------------------------------------------------------------------\u001b[0m",
      "\u001b[1;31mTypeError\u001b[0m                                 Traceback (most recent call last)",
      "\u001b[1;32m~\\AppData\\Local\\Temp/ipykernel_4460/551223573.py\u001b[0m in \u001b[0;36m<module>\u001b[1;34m\u001b[0m\n\u001b[0;32m      1\u001b[0m \u001b[0mlst\u001b[0m \u001b[1;33m=\u001b[0m \u001b[1;33m[\u001b[0m\u001b[1;36m1\u001b[0m\u001b[1;33m,\u001b[0m\u001b[1;36m2\u001b[0m\u001b[1;33m+\u001b[0m\u001b[1;36m3j\u001b[0m\u001b[1;33m,\u001b[0m\u001b[1;36m3\u001b[0m\u001b[1;33m,\u001b[0m\u001b[1;36m4.5\u001b[0m\u001b[1;33m]\u001b[0m\u001b[1;33m\u001b[0m\u001b[1;33m\u001b[0m\u001b[0m\n\u001b[1;32m----> 2\u001b[1;33m \u001b[0marray\u001b[0m \u001b[1;33m=\u001b[0m \u001b[0mnp\u001b[0m\u001b[1;33m.\u001b[0m\u001b[0marray\u001b[0m\u001b[1;33m(\u001b[0m\u001b[0mlst\u001b[0m\u001b[1;33m,\u001b[0m\u001b[0mdtype\u001b[0m\u001b[1;33m=\u001b[0m\u001b[0mfloat\u001b[0m\u001b[1;33m)\u001b[0m\u001b[1;33m\u001b[0m\u001b[1;33m\u001b[0m\u001b[0m\n\u001b[0m\u001b[0;32m      3\u001b[0m \u001b[0marray\u001b[0m\u001b[1;33m\u001b[0m\u001b[1;33m\u001b[0m\u001b[0m\n",
      "\u001b[1;31mTypeError\u001b[0m: can't convert complex to float"
     ]
    }
   ],
   "source": [
    "lst = [1,2+3j,3,4.5]\n",
    "array = np.array(lst,dtype=float)\n",
    "array"
   ]
  },
  {
   "cell_type": "code",
   "execution_count": null,
   "id": "0771359d",
   "metadata": {},
   "outputs": [],
   "source": [
    "int >float ,complex,str\n",
    "float >int ,complex,str\n",
    "complex > not int ,not float"
   ]
  },
  {
   "cell_type": "code",
   "execution_count": 27,
   "id": "d6516fc6",
   "metadata": {},
   "outputs": [
    {
     "name": "stdout",
     "output_type": "stream",
     "text": [
      "2\n"
     ]
    },
    {
     "data": {
      "text/plain": [
       "'2'"
      ]
     },
     "execution_count": 27,
     "metadata": {},
     "output_type": "execute_result"
    }
   ],
   "source": [
    "a = input()\n",
    "a"
   ]
  },
  {
   "cell_type": "markdown",
   "id": "608629aa",
   "metadata": {},
   "source": [
    "## Dimensions in Array"
   ]
  },
  {
   "cell_type": "markdown",
   "id": "0b9f7329",
   "metadata": {},
   "source": [
    "## 1) 0-D Array"
   ]
  },
  {
   "cell_type": "code",
   "execution_count": null,
   "id": "1dc62785",
   "metadata": {},
   "outputs": [],
   "source": [
    "only single value"
   ]
  },
  {
   "cell_type": "code",
   "execution_count": 28,
   "id": "383ce893",
   "metadata": {},
   "outputs": [
    {
     "name": "stdout",
     "output_type": "stream",
     "text": [
      "Number of dimension are \n",
      " 0\n"
     ]
    }
   ],
   "source": [
    "arr0 = np.array(12)\n",
    "print(\"Number of dimension are \\n\",arr0.ndim)\n"
   ]
  },
  {
   "cell_type": "code",
   "execution_count": 8,
   "id": "d114a8dd",
   "metadata": {},
   "outputs": [
    {
     "name": "stdout",
     "output_type": "stream",
     "text": [
      "0\n"
     ]
    }
   ],
   "source": [
    "lst = np.array(156)\n",
    "print(lst.ndim)"
   ]
  },
  {
   "cell_type": "markdown",
   "id": "0110b74d",
   "metadata": {},
   "source": [
    "## 2) 1-D Array"
   ]
  },
  {
   "cell_type": "code",
   "execution_count": null,
   "id": "7757db83",
   "metadata": {},
   "outputs": [],
   "source": [
    "it is collection of multiple 0-D Array > it means list"
   ]
  },
  {
   "cell_type": "code",
   "execution_count": 29,
   "id": "4c8451a4",
   "metadata": {},
   "outputs": [
    {
     "name": "stdout",
     "output_type": "stream",
     "text": [
      "Number of dimension are \n",
      " 1\n"
     ]
    }
   ],
   "source": [
    "arr1 = np.array([12,2,3,4,5])\n",
    "print(\"Number of dimension are \\n\",arr1.ndim)"
   ]
  },
  {
   "cell_type": "code",
   "execution_count": 14,
   "id": "0bbe21e0",
   "metadata": {},
   "outputs": [
    {
     "name": "stdout",
     "output_type": "stream",
     "text": [
      "Number of dimension are \n",
      " (5,) 1\n"
     ]
    }
   ],
   "source": [
    "arr1 = np.array([12,2,3,4,5])\n",
    "print(\"Number of dimension are \\n\",arr1.shape,arr1.ndim)"
   ]
  },
  {
   "cell_type": "code",
   "execution_count": 34,
   "id": "381d4f0f",
   "metadata": {},
   "outputs": [
    {
     "name": "stdout",
     "output_type": "stream",
     "text": [
      "Number of dimension are \n",
      " 1\n",
      "Shape of array\n",
      " (1,)\n"
     ]
    }
   ],
   "source": [
    "arr1 = np.array([12])\n",
    "print(\"Number of dimension are \\n\",arr1.ndim)\n",
    "print(\"Shape of array\\n\",arr1.shape)"
   ]
  },
  {
   "cell_type": "markdown",
   "id": "56a92a58",
   "metadata": {},
   "source": [
    "## 3) 2-D Array"
   ]
  },
  {
   "cell_type": "code",
   "execution_count": null,
   "id": "05c26809",
   "metadata": {},
   "outputs": [],
   "source": [
    "it is collection of multiple 1-D Array > it means matrix"
   ]
  },
  {
   "cell_type": "code",
   "execution_count": 33,
   "id": "216ab4cb",
   "metadata": {},
   "outputs": [
    {
     "name": "stdout",
     "output_type": "stream",
     "text": [
      "Array\n",
      " [[12  2  3  4  5]\n",
      " [12  2  3  4  5]]\n",
      "Number of dimension are \n",
      " 2\n",
      "Shape of array\n",
      " (2, 5)\n"
     ]
    }
   ],
   "source": [
    "arr2 = np.array([[12,2,3,4,5],[12,2,3,4,5]])\n",
    "print(\"Array\\n\",arr2)\n",
    "print(\"Number of dimension are \\n\",arr2.ndim)\n",
    "print(\"Shape of array\\n\",arr2.shape)"
   ]
  },
  {
   "cell_type": "markdown",
   "id": "77445080",
   "metadata": {},
   "source": [
    "## 4) 3-D Array"
   ]
  },
  {
   "cell_type": "code",
   "execution_count": null,
   "id": "fbc6c9d2",
   "metadata": {},
   "outputs": [],
   "source": [
    "it is collection 2-D Array "
   ]
  },
  {
   "cell_type": "code",
   "execution_count": 35,
   "id": "4dbf7cef",
   "metadata": {},
   "outputs": [
    {
     "name": "stdout",
     "output_type": "stream",
     "text": [
      "Array\n",
      " [[[12  2  3  4  5]\n",
      "  [12  2  3  4  5]]]\n",
      "Number of dimension are \n",
      " 3\n",
      "Shape of array\n",
      " (1, 2, 5)\n"
     ]
    }
   ],
   "source": [
    "arr3 = np.array([[[12,2,3,4,5],[12,2,3,4,5]]])\n",
    "print(\"Array\\n\",arr3)\n",
    "print(\"Number of dimension are \\n\",arr3.ndim)\n",
    "print(\"Shape of array\\n\",arr3.shape)"
   ]
  },
  {
   "attachments": {
    "image.png": {
     "image/png": "[encoded data removed]"
    }
   },
   "cell_type": "markdown",
   "id": "e8a26fed",
   "metadata": {},
   "source": [
    "![image.png](attachment:image.png)"
   ]
  },
  {
   "cell_type": "code",
   "execution_count": 36,
   "id": "b50942e0",
   "metadata": {},
   "outputs": [
    {
     "name": "stdout",
     "output_type": "stream",
     "text": [
      "Array\n",
      " [[[ 1  2]\n",
      "  [ 3  4]\n",
      "  [ 4  5]]\n",
      "\n",
      " [[10 11]\n",
      "  [ 5  6]\n",
      "  [ 7  8]]]\n",
      "Number of dimension are \n",
      " 3\n",
      "Shape of array\n",
      " (2, 3, 2)\n"
     ]
    }
   ],
   "source": [
    "arr3 = np.array([[[1,2],[3,4],[4,5]],[[10,11],[5,6],[7,8]]])\n",
    "print(\"Array\\n\",arr3)\n",
    "print(\"Number of dimension are \\n\",arr3.ndim)\n",
    "print(\"Shape of array\\n\",arr3.shape)"
   ]
  },
  {
   "cell_type": "markdown",
   "id": "cedd9d61",
   "metadata": {},
   "source": [
    "## Access items by using indexing and slicing"
   ]
  },
  {
   "cell_type": "code",
   "execution_count": null,
   "id": "563d59bf",
   "metadata": {},
   "outputs": [],
   "source": [
    "array   [4           5       7       6     9]\n",
    "+pos     0           1       2       3     4\n",
    "-neg     -5          -4      -3      -2    -1"
   ]
  },
  {
   "cell_type": "code",
   "execution_count": 38,
   "id": "fc15dcf1",
   "metadata": {},
   "outputs": [
    {
     "data": {
      "text/plain": [
       "[4.5, 'a', 'd']"
      ]
     },
     "execution_count": 38,
     "metadata": {},
     "output_type": "execute_result"
    }
   ],
   "source": [
    "lst = [2,3,4.5,\"a\",\"d\",5] # 4.5,\"a\",\"d\"\n",
    "lst[2:-1]\n",
    "lst[2:5]"
   ]
  },
  {
   "cell_type": "code",
   "execution_count": null,
   "id": "fff90ddd",
   "metadata": {},
   "outputs": [],
   "source": [
    "lst = [2,3,4.5,\"a\",\"d\",5] # 3,\"a\""
   ]
  },
  {
   "cell_type": "code",
   "execution_count": 40,
   "id": "ad1cb67f",
   "metadata": {},
   "outputs": [
    {
     "name": "stdout",
     "output_type": "stream",
     "text": [
      "Array\n",
      " [1 2 3 4]\n"
     ]
    },
    {
     "data": {
      "text/plain": [
       "3"
      ]
     },
     "execution_count": 40,
     "metadata": {},
     "output_type": "execute_result"
    }
   ],
   "source": [
    "array = np.array([1,2,3,4])\n",
    "print(\"Array\\n\",array)\n",
    "array[2]"
   ]
  },
  {
   "cell_type": "code",
   "execution_count": 41,
   "id": "29449933",
   "metadata": {},
   "outputs": [
    {
     "data": {
      "text/plain": [
       "3"
      ]
     },
     "execution_count": 41,
     "metadata": {},
     "output_type": "execute_result"
    }
   ],
   "source": [
    "array[-2]"
   ]
  },
  {
   "cell_type": "code",
   "execution_count": 45,
   "id": "0aa9f974",
   "metadata": {},
   "outputs": [
    {
     "name": "stdout",
     "output_type": "stream",
     "text": [
      "2\n"
     ]
    },
    {
     "data": {
      "text/plain": [
       "3"
      ]
     },
     "execution_count": 45,
     "metadata": {},
     "output_type": "execute_result"
    }
   ],
   "source": [
    "arr2 = np.array([[2,3,4],[5,6,7]])\n",
    "print(arr2.ndim)\n",
    "arr2[0][1]"
   ]
  },
  {
   "cell_type": "code",
   "execution_count": 46,
   "id": "02ceb763",
   "metadata": {},
   "outputs": [
    {
     "data": {
      "text/plain": [
       "3"
      ]
     },
     "execution_count": 46,
     "metadata": {},
     "output_type": "execute_result"
    }
   ],
   "source": [
    "lst = [[2,3,4],[5,6,7]]\n",
    "lst[0][1]"
   ]
  },
  {
   "cell_type": "code",
   "execution_count": 48,
   "id": "1b6f74bb",
   "metadata": {},
   "outputs": [
    {
     "ename": "TypeError",
     "evalue": "list indices must be integers or slices, not tuple",
     "output_type": "error",
     "traceback": [
      "\u001b[1;31m---------------------------------------------------------------------------\u001b[0m",
      "\u001b[1;31mTypeError\u001b[0m                                 Traceback (most recent call last)",
      "\u001b[1;32m~\\AppData\\Local\\Temp/ipykernel_4460/529108302.py\u001b[0m in \u001b[0;36m<module>\u001b[1;34m\u001b[0m\n\u001b[0;32m      1\u001b[0m \u001b[0mlst\u001b[0m \u001b[1;33m=\u001b[0m \u001b[1;33m[\u001b[0m\u001b[1;33m[\u001b[0m\u001b[1;36m2\u001b[0m\u001b[1;33m,\u001b[0m\u001b[1;36m3\u001b[0m\u001b[1;33m,\u001b[0m\u001b[1;36m4\u001b[0m\u001b[1;33m]\u001b[0m\u001b[1;33m,\u001b[0m\u001b[1;33m[\u001b[0m\u001b[1;36m5\u001b[0m\u001b[1;33m,\u001b[0m\u001b[1;36m6\u001b[0m\u001b[1;33m,\u001b[0m\u001b[1;36m7\u001b[0m\u001b[1;33m]\u001b[0m\u001b[1;33m]\u001b[0m\u001b[1;33m\u001b[0m\u001b[1;33m\u001b[0m\u001b[0m\n\u001b[1;32m----> 2\u001b[1;33m \u001b[0mlst\u001b[0m\u001b[1;33m[\u001b[0m\u001b[1;36m0\u001b[0m\u001b[1;33m,\u001b[0m\u001b[1;36m1\u001b[0m\u001b[1;33m]\u001b[0m\u001b[1;33m\u001b[0m\u001b[1;33m\u001b[0m\u001b[0m\n\u001b[0m",
      "\u001b[1;31mTypeError\u001b[0m: list indices must be integers or slices, not tuple"
     ]
    }
   ],
   "source": [
    "lst = [[2,3,4],[5,6,7]]\n",
    "lst[0,1]"
   ]
  },
  {
   "cell_type": "code",
   "execution_count": 49,
   "id": "d4dc4b3c",
   "metadata": {},
   "outputs": [
    {
     "name": "stdout",
     "output_type": "stream",
     "text": [
      "[[2 3 4]\n",
      " [5 6 7]]\n",
      "2\n"
     ]
    },
    {
     "data": {
      "text/plain": [
       "3"
      ]
     },
     "execution_count": 49,
     "metadata": {},
     "output_type": "execute_result"
    }
   ],
   "source": [
    "arr2 = np.array([[2,3,4],[5,6,7]])\n",
    "print(arr2)\n",
    "print(arr2.ndim)\n",
    "arr2[0,1] # 0 denotes row and 1 denotes col"
   ]
  },
  {
   "cell_type": "markdown",
   "id": "1b2805bc",
   "metadata": {},
   "source": [
    "## 2-D"
   ]
  },
  {
   "cell_type": "code",
   "execution_count": 19,
   "id": "4432d233",
   "metadata": {},
   "outputs": [
    {
     "name": "stdout",
     "output_type": "stream",
     "text": [
      "[[ 2  3  4]\n",
      " [ 5  6  7]\n",
      " [11 12 13]]\n"
     ]
    }
   ],
   "source": [
    "arr2 = np.array([[2,3,4],[5,6,7],[11,12,13]])\n",
    "print(arr2)"
   ]
  },
  {
   "cell_type": "code",
   "execution_count": 21,
   "id": "651227e5",
   "metadata": {},
   "outputs": [
    {
     "data": {
      "text/plain": [
       "array([3, 4])"
      ]
     },
     "execution_count": 21,
     "metadata": {},
     "output_type": "execute_result"
    }
   ],
   "source": [
    "arr2[0,1:3]"
   ]
  },
  {
   "cell_type": "code",
   "execution_count": 56,
   "id": "4dec4721",
   "metadata": {},
   "outputs": [
    {
     "data": {
      "text/plain": [
       "numpy.int32"
      ]
     },
     "execution_count": 56,
     "metadata": {},
     "output_type": "execute_result"
    }
   ],
   "source": [
    "type(arr2[0,1])"
   ]
  },
  {
   "cell_type": "code",
   "execution_count": 53,
   "id": "a54b5cba",
   "metadata": {},
   "outputs": [
    {
     "data": {
      "text/plain": [
       "3"
      ]
     },
     "execution_count": 53,
     "metadata": {},
     "output_type": "execute_result"
    }
   ],
   "source": [
    "arr2[0][1]"
   ]
  },
  {
   "cell_type": "code",
   "execution_count": null,
   "id": "83785c45",
   "metadata": {},
   "outputs": [],
   "source": [
    "arr2[0,1]  # array[start_i:end_i:step_i, start_j:end_j:step_j]"
   ]
  },
  {
   "cell_type": "code",
   "execution_count": 58,
   "id": "0fede999",
   "metadata": {},
   "outputs": [
    {
     "data": {
      "text/plain": [
       "array([[3]])"
      ]
     },
     "execution_count": 58,
     "metadata": {},
     "output_type": "execute_result"
    }
   ],
   "source": [
    "arr2[0:1,1:2]"
   ]
  },
  {
   "cell_type": "code",
   "execution_count": 22,
   "id": "9684ca3e",
   "metadata": {},
   "outputs": [
    {
     "data": {
      "text/plain": [
       "array([[ 2,  3,  4],\n",
       "       [ 5,  6,  7],\n",
       "       [11, 12, 13]])"
      ]
     },
     "execution_count": 22,
     "metadata": {},
     "output_type": "execute_result"
    }
   ],
   "source": [
    "arr2"
   ]
  },
  {
   "cell_type": "code",
   "execution_count": 24,
   "id": "fbb0f0d8",
   "metadata": {},
   "outputs": [
    {
     "data": {
      "text/plain": [
       "array([[ 5,  6],\n",
       "       [11, 12]])"
      ]
     },
     "execution_count": 24,
     "metadata": {},
     "output_type": "execute_result"
    }
   ],
   "source": [
    "arr2[1:3,0:2]"
   ]
  },
  {
   "cell_type": "code",
   "execution_count": null,
   "id": "136ba59c",
   "metadata": {},
   "outputs": [],
   "source": [
    "1col  2col\n",
    "3     4 > 0 row\n",
    "6     7 > 1 row"
   ]
  },
  {
   "cell_type": "code",
   "execution_count": 60,
   "id": "451b67db",
   "metadata": {},
   "outputs": [
    {
     "data": {
      "text/plain": [
       "array([[3, 4],\n",
       "       [6, 7]])"
      ]
     },
     "execution_count": 60,
     "metadata": {},
     "output_type": "execute_result"
    }
   ],
   "source": [
    "arr2[0:2,1:]"
   ]
  },
  {
   "cell_type": "code",
   "execution_count": 61,
   "id": "b755626a",
   "metadata": {},
   "outputs": [
    {
     "data": {
      "text/plain": [
       "array([[3, 4],\n",
       "       [6, 7]])"
      ]
     },
     "execution_count": 61,
     "metadata": {},
     "output_type": "execute_result"
    }
   ],
   "source": [
    "arr2[0:2,1:3]"
   ]
  },
  {
   "cell_type": "code",
   "execution_count": 62,
   "id": "ecc2c258",
   "metadata": {},
   "outputs": [
    {
     "data": {
      "text/plain": [
       "array([[ 2,  3,  4],\n",
       "       [ 5,  6,  7],\n",
       "       [11, 12, 13]])"
      ]
     },
     "execution_count": 62,
     "metadata": {},
     "output_type": "execute_result"
    }
   ],
   "source": [
    "arr2[:,:]"
   ]
  },
  {
   "cell_type": "code",
   "execution_count": null,
   "id": "06a13d8f",
   "metadata": {},
   "outputs": [],
   "source": []
  }
 ],
 "metadata": {
  "kernelspec": {
   "display_name": "Python 3",
   "language": "python",
   "name": "python3"
  },
  "language_info": {
   "codemirror_mode": {
    "name": "ipython",
    "version": 3
   },
   "file_extension": ".py",
   "mimetype": "text/x-python",
   "name": "python",
   "nbconvert_exporter": "python",
   "pygments_lexer": "ipython3",
   "version": "3.8.8"
  }
 },
 "nbformat": 4,
 "nbformat_minor": 5
}
