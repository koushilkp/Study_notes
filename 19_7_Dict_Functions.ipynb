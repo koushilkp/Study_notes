{
 "cells": [
  {
   "cell_type": "code",
   "execution_count": null,
   "id": "86beecd6",
   "metadata": {},
   "outputs": [],
   "source": []
  },
  {
   "cell_type": "markdown",
   "id": "c985ac6e",
   "metadata": {},
   "source": [
    "list   copy\n",
    "dict\n",
    "list copy.deepcopy\n",
    "dict copy.deepcopy"
   ]
  },
  {
   "cell_type": "code",
   "execution_count": 14,
   "id": "593d458e",
   "metadata": {},
   "outputs": [
    {
     "name": "stdout",
     "output_type": "stream",
     "text": [
      "{'AB00_1': {'Name': 'Virat', 'Age': 22, 'Salary': 80000}, 'AB00_2': {'Name': 'Sachin', 'Age': 25, 'Salary': 85000}}\n",
      "\n",
      "{'AB00_1': 'KP', 'AB00_2': {'Name': 'Sachin', 'Age': 25, 'Salary': 85000}}\n",
      "{'AB00_1': {'Name': 'Virat', 'Age': 22, 'Salary': 80000}, 'AB00_2': {'Name': 'Sachin', 'Age': 25, 'Salary': 85000}}\n"
     ]
    }
   ],
   "source": [
    "import copy\n",
    "employee_details = {\"AB00_1\":{\"Name\":\"Virat\",\"Age\":22,\"Salary\":80000},\n",
    "                   \"AB00_2\":{\"Name\":\"Sachin\",\"Age\":25,\"Salary\":85000}}\n",
    "employee_details\n",
    "new_employee_details=copy.deepcopy(employee_details)\n",
    "print(employee_details)\n",
    "print()\n",
    "new_employee_details[\"AB00_1\"]=\"KP\"\n",
    "print(new_employee_details)\n",
    "print(employee_details)\n"
   ]
  },
  {
   "cell_type": "code",
   "execution_count": 3,
   "id": "a286ad6b",
   "metadata": {},
   "outputs": [
    {
     "data": {
      "text/plain": [
       "{'Name': 'Virat', 'Age': 22, 'Salary': 80000}"
      ]
     },
     "execution_count": 3,
     "metadata": {},
     "output_type": "execute_result"
    }
   ],
   "source": [
    "employee_details[\"AB00_1\"]"
   ]
  },
  {
   "cell_type": "code",
   "execution_count": 4,
   "id": "2e4f5b01",
   "metadata": {},
   "outputs": [
    {
     "data": {
      "text/plain": [
       "'Virat'"
      ]
     },
     "execution_count": 4,
     "metadata": {},
     "output_type": "execute_result"
    }
   ],
   "source": [
    "employee_details[\"AB00_1\"][\"Name\"]"
   ]
  },
  {
   "cell_type": "code",
   "execution_count": 5,
   "id": "26f3764b",
   "metadata": {},
   "outputs": [],
   "source": [
    "employee_details[\"AB00_1\"][\"Name\"] = \"Velocity\""
   ]
  },
  {
   "cell_type": "code",
   "execution_count": 6,
   "id": "3c2448f8",
   "metadata": {},
   "outputs": [
    {
     "data": {
      "text/plain": [
       "{'AB00_1': {'Name': 'Velocity', 'Age': 22, 'Salary': 80000},\n",
       " 'AB00_2': {'Name': 'Sachin', 'Age': 25, 'Salary': 85000}}"
      ]
     },
     "execution_count": 6,
     "metadata": {},
     "output_type": "execute_result"
    }
   ],
   "source": [
    "employee_details"
   ]
  },
  {
   "cell_type": "code",
   "execution_count": 9,
   "id": "ebfeacb7",
   "metadata": {},
   "outputs": [
    {
     "name": "stdout",
     "output_type": "stream",
     "text": [
      "{'AB00_1': {'Name': 'ABABA', 'Age': 20, 'Salary': 180000}, 'AB00_2': {'Name': 'Sachin', 'Age': 25, 'Salary': 85000}}\n",
      "\n",
      "{'AB00_1': {'Name': 'ABABA', 'Age': 20, 'Salary': 180000}, 'AB00_2': {'Name': 'Sachin', 'Age': 25, 'Salary': 85000}}\n"
     ]
    }
   ],
   "source": [
    "employee_details = {'AB00_1': {'Name': 'Velocity', 'Age': 22, 'Salary': 80000},\n",
    " 'AB00_2': {'Name': 'Sachin', 'Age': 25, 'Salary': 85000}}\n",
    "employee_details_new = employee_details\n",
    "employee_details[\"AB00_1\"] = {'Name': 'ABABA', 'Age': 20, 'Salary': 180000}\n",
    "print(employee_details)\n",
    "print()\n",
    "print(employee_details_new)"
   ]
  },
  {
   "cell_type": "code",
   "execution_count": 11,
   "id": "2750915b",
   "metadata": {},
   "outputs": [
    {
     "name": "stdout",
     "output_type": "stream",
     "text": [
      "{'AB00_1': {'Name': 'Velocity', 'Age': 22, 'Salary': 80000}, 'AB00_2': {'Name': 'Sachin', 'Age': 25, 'Salary': 85000}}\n",
      "\n",
      "{'AB00_1': {'Name': 'ABABA', 'Age': 20, 'Salary': 180000}, 'AB00_2': {'Name': 'Sachin', 'Age': 25, 'Salary': 85000}}\n"
     ]
    }
   ],
   "source": [
    "employee_details = {'AB00_1': {'Name': 'Velocity', 'Age': 22, 'Salary': 80000},\n",
    " 'AB00_2': {'Name': 'Sachin', 'Age': 25, 'Salary': 85000}}\n",
    "employee_details_new = employee_details.copy()\n",
    "employee_details_new[\"AB00_1\"] = {'Name': 'ABABA', 'Age': 20, 'Salary': 180000}\n",
    "print(employee_details)\n",
    "print()\n",
    "print(employee_details_new)"
   ]
  },
  {
   "cell_type": "code",
   "execution_count": 12,
   "id": "bc816cec",
   "metadata": {},
   "outputs": [
    {
     "name": "stdout",
     "output_type": "stream",
     "text": [
      "{'AB00_1': {'Name': 'AAAA', 'Age': 22, 'Salary': 80000}, 'AB00_2': {'Name': 'Sachin', 'Age': 25, 'Salary': 85000}}\n",
      "\n",
      "{'AB00_1': {'Name': 'AAAA', 'Age': 22, 'Salary': 80000}, 'AB00_2': {'Name': 'Sachin', 'Age': 25, 'Salary': 85000}}\n"
     ]
    }
   ],
   "source": [
    "employee_details = {'AB00_1': {'Name': 'Velocity', 'Age': 22, 'Salary': 80000},\n",
    " 'AB00_2': {'Name': 'Sachin', 'Age': 25, 'Salary': 85000}}\n",
    "employee_details_new = employee_details.copy()\n",
    "employee_details[\"AB00_1\"][\"Name\"] = \"AAAA\"\n",
    "print(employee_details)\n",
    "print()\n",
    "print(employee_details_new)"
   ]
  },
  {
   "cell_type": "code",
   "execution_count": 14,
   "id": "b2379367",
   "metadata": {},
   "outputs": [
    {
     "name": "stdout",
     "output_type": "stream",
     "text": [
      "{'AB00_1': {'Name': 'AAAA', 'Age': 22, 'Salary': 80000}, 'AB00_2': {'Name': 'Sachin', 'Age': 25, 'Salary': 85000}}\n",
      "\n",
      "{'AB00_1': {'Name': 'Velocity', 'Age': 22, 'Salary': 80000}, 'AB00_2': {'Name': 'Sachin', 'Age': 25, 'Salary': 85000}}\n"
     ]
    }
   ],
   "source": [
    "import copy\n",
    "employee_details = {'AB00_1': {'Name': 'Velocity', 'Age': 22, 'Salary': 80000},\n",
    " 'AB00_2': {'Name': 'Sachin', 'Age': 25, 'Salary': 85000}}\n",
    "employee_details_new = copy.deepcopy(employee_details)\n",
    "employee_details[\"AB00_1\"][\"Name\"] = \"AAAA\"\n",
    "print(employee_details)\n",
    "print()\n",
    "print(employee_details_new)"
   ]
  },
  {
   "cell_type": "markdown",
   "id": "6226166c",
   "metadata": {},
   "source": [
    "## Functions"
   ]
  },
  {
   "cell_type": "code",
   "execution_count": 15,
   "id": "93456d58",
   "metadata": {},
   "outputs": [
    {
     "name": "stdout",
     "output_type": "stream",
     "text": [
      "[2, 4, 6]\n"
     ]
    }
   ],
   "source": [
    "lst = [2,3,4,5,6] # 2,4,6\n",
    "lst1 = []\n",
    "for i in lst:\n",
    "    if i%2 == 0:# even\n",
    "        lst1.append(i)\n",
    "print(lst1)\n",
    "\n",
    "        \n"
   ]
  },
  {
   "cell_type": "code",
   "execution_count": 16,
   "id": "6fd73dbf",
   "metadata": {},
   "outputs": [
    {
     "data": {
      "text/plain": [
       "[2, 4, 6]"
      ]
     },
     "execution_count": 16,
     "metadata": {},
     "output_type": "execute_result"
    }
   ],
   "source": [
    "lst = [2,3,4,5,6]\n",
    "lst1 = [i for i in lst if i%2==0]\n",
    "lst1"
   ]
  },
  {
   "cell_type": "code",
   "execution_count": null,
   "id": "e2fffdc0",
   "metadata": {},
   "outputs": [],
   "source": [
    "it is user define function\n",
    "Functions are organized block of reusable code\n",
    "it will execute only when we call it explicitly\n",
    "def >> define\n",
    "example :\n",
    "    def get_even():# define function\n",
    "        statement-1\n",
    "        \n",
    "    get_even() # calling the function\n",
    "        \n",
    "        "
   ]
  },
  {
   "cell_type": "code",
   "execution_count": 17,
   "id": "bffef397",
   "metadata": {},
   "outputs": [
    {
     "name": "stdout",
     "output_type": "stream",
     "text": [
      "odd\n"
     ]
    }
   ],
   "source": [
    "def get_odd_even(a): # define function\n",
    "    \n",
    "    if a%2 == 0:\n",
    "        print(\"Even\")\n",
    "    else:\n",
    "        print(\"odd\")\n",
    "\n",
    "get_odd_even(3)# calling the function"
   ]
  },
  {
   "cell_type": "code",
   "execution_count": 18,
   "id": "5a4a8418",
   "metadata": {},
   "outputs": [
    {
     "name": "stdout",
     "output_type": "stream",
     "text": [
      "Even\n"
     ]
    }
   ],
   "source": [
    "get_odd_even(8)"
   ]
  },
  {
   "cell_type": "code",
   "execution_count": null,
   "id": "8f4e993c",
   "metadata": {},
   "outputs": [],
   "source": [
    "a = 3 # odd\n",
    "a = 2 # even\n",
    "a%2 == 0\n",
    "print(\"even\")"
   ]
  },
  {
   "cell_type": "markdown",
   "id": "0a43394f",
   "metadata": {},
   "source": [
    "## arguments"
   ]
  },
  {
   "cell_type": "code",
   "execution_count": null,
   "id": "ff288dc8",
   "metadata": {},
   "outputs": [],
   "source": [
    "argument >> Variable or value which is pass to the function\n",
    "1) whenever we are defining function then a,b,c are called as parameters\n",
    "2) whenever we are calling function A,B,C are called as positional aruguments or arguments\n",
    "\n",
    "Note >\n",
    "   Number of arguments == Number of parameters"
   ]
  },
  {
   "cell_type": "code",
   "execution_count": 22,
   "id": "8285d167",
   "metadata": {},
   "outputs": [
    {
     "name": "stdout",
     "output_type": "stream",
     "text": [
      "Addition >> 6\n",
      "p=2 and q=4\n"
     ]
    }
   ],
   "source": [
    "def get_fun1(p,q):\n",
    "    addition = p + q\n",
    "    print(\"Addition >>\",addition)\n",
    "    print(f\"{p=} and {q=}\")\n",
    "    \n",
    "get_fun1(2,4)"
   ]
  },
  {
   "cell_type": "code",
   "execution_count": 23,
   "id": "6c65f16a",
   "metadata": {},
   "outputs": [
    {
     "name": "stdout",
     "output_type": "stream",
     "text": [
      "Addition >> 6\n",
      "p=4 and q=2\n"
     ]
    }
   ],
   "source": [
    "def get_fun1(p,q):\n",
    "    addition = p + q\n",
    "    print(\"Addition >>\",addition)\n",
    "    print(f\"{p=} and {q=}\")\n",
    "    \n",
    "get_fun1(4,2)"
   ]
  },
  {
   "cell_type": "code",
   "execution_count": 21,
   "id": "38218907",
   "metadata": {},
   "outputs": [
    {
     "ename": "TypeError",
     "evalue": "get_fun1() missing 1 required positional argument: 'q'",
     "output_type": "error",
     "traceback": [
      "\u001b[1;31m---------------------------------------------------------------------------\u001b[0m",
      "\u001b[1;31mTypeError\u001b[0m                                 Traceback (most recent call last)",
      "\u001b[1;32m~\\AppData\\Local\\Temp/ipykernel_2164/1756860671.py\u001b[0m in \u001b[0;36m<module>\u001b[1;34m\u001b[0m\n\u001b[0;32m      3\u001b[0m     \u001b[0mprint\u001b[0m\u001b[1;33m(\u001b[0m\u001b[1;34m\"Addition >>\"\u001b[0m\u001b[1;33m,\u001b[0m\u001b[0maddition\u001b[0m\u001b[1;33m)\u001b[0m\u001b[1;33m\u001b[0m\u001b[1;33m\u001b[0m\u001b[0m\n\u001b[0;32m      4\u001b[0m \u001b[1;33m\u001b[0m\u001b[0m\n\u001b[1;32m----> 5\u001b[1;33m \u001b[0mget_fun1\u001b[0m\u001b[1;33m(\u001b[0m\u001b[1;36m2\u001b[0m\u001b[1;33m)\u001b[0m\u001b[1;33m\u001b[0m\u001b[1;33m\u001b[0m\u001b[0m\n\u001b[0m",
      "\u001b[1;31mTypeError\u001b[0m: get_fun1() missing 1 required positional argument: 'q'"
     ]
    }
   ],
   "source": [
    "def get_fun1(p,q):\n",
    "    addition = p + q\n",
    "    print(\"Addition >>\",addition)\n",
    "    \n",
    "get_fun1(2)"
   ]
  },
  {
   "cell_type": "markdown",
   "id": "663375a7",
   "metadata": {},
   "source": [
    "## return"
   ]
  },
  {
   "cell_type": "raw",
   "id": "d9d89c25",
   "metadata": {},
   "source": [
    "It is  use at the end of the function\n",
    "if you want to continue to work with the results of your functions and want to try out some operations on it\n",
    "we can return multiple outputreturn\n",
    "get_fun1(2,4)"
   ]
  },
  {
   "cell_type": "code",
   "execution_count": 26,
   "id": "e65fbc27",
   "metadata": {},
   "outputs": [
    {
     "name": "stdout",
     "output_type": "stream",
     "text": [
      "Addition >> 6\n",
      "p=2 and q=4\n"
     ]
    }
   ],
   "source": [
    "def get_fun1(p,q):\n",
    "    addition = p + q\n",
    "    \n",
    "    print(\"Addition >>\",addition)\n",
    "    print(f\"{p=} and q={q}\")\n",
    "    return\n",
    "get_fun1(2,4)\n",
    "# print(addition)"
   ]
  },
  {
   "cell_type": "code",
   "execution_count": 25,
   "id": "960bc8a6",
   "metadata": {},
   "outputs": [
    {
     "ename": "NameError",
     "evalue": "name 'addition' is not defined",
     "output_type": "error",
     "traceback": [
      "\u001b[1;31m---------------------------------------------------------------------------\u001b[0m",
      "\u001b[1;31mNameError\u001b[0m                                 Traceback (most recent call last)",
      "\u001b[1;32m~\\AppData\\Local\\Temp/ipykernel_2164/1771619516.py\u001b[0m in \u001b[0;36m<module>\u001b[1;34m\u001b[0m\n\u001b[1;32m----> 1\u001b[1;33m \u001b[0maddition\u001b[0m\u001b[1;33m\u001b[0m\u001b[1;33m\u001b[0m\u001b[0m\n\u001b[0m",
      "\u001b[1;31mNameError\u001b[0m: name 'addition' is not defined"
     ]
    }
   ],
   "source": [
    "addition"
   ]
  },
  {
   "cell_type": "code",
   "execution_count": 5,
   "id": "b16b4398",
   "metadata": {},
   "outputs": [
    {
     "data": {
      "text/plain": [
       "('Success', 'Winner')"
      ]
     },
     "execution_count": 5,
     "metadata": {},
     "output_type": "execute_result"
    }
   ],
   "source": [
    "def get_return():\n",
    "    return \"Success\",\"Winner\"\n",
    "get_return()"
   ]
  },
  {
   "cell_type": "code",
   "execution_count": 28,
   "id": "cc473ea1",
   "metadata": {},
   "outputs": [
    {
     "name": "stdout",
     "output_type": "stream",
     "text": [
      " start == 5 and end== 20\n",
      "Program to find first five numbers and last five numbers square in a given range\n",
      "[25, 36, 49, 64, 81]\n",
      "[256, 289, 324, 361, 400]\n"
     ]
    }
   ],
   "source": [
    "def get_sqr(start,end):\n",
    "    print(f\" start == {start} and end== {end}\")\n",
    "    print(\"Program to find first five numbers and last five numbers square in a given range\")\n",
    "    \n",
    "    first = [i**2 for i in range(start,start+5)]\n",
    "    last  = [i**2 for i in range(end-4,end+1)]\n",
    "    print(first)\n",
    "    print(last)\n",
    "   \n",
    "get_sqr(5,20)\n",
    "    "
   ]
  },
  {
   "cell_type": "code",
   "execution_count": 29,
   "id": "ebab41fa",
   "metadata": {},
   "outputs": [
    {
     "ename": "NameError",
     "evalue": "name 'first' is not defined",
     "output_type": "error",
     "traceback": [
      "\u001b[1;31m---------------------------------------------------------------------------\u001b[0m",
      "\u001b[1;31mNameError\u001b[0m                                 Traceback (most recent call last)",
      "\u001b[1;32m~\\AppData\\Local\\Temp/ipykernel_2164/2164430671.py\u001b[0m in \u001b[0;36m<module>\u001b[1;34m\u001b[0m\n\u001b[1;32m----> 1\u001b[1;33m \u001b[0mprint\u001b[0m\u001b[1;33m(\u001b[0m\u001b[0mfirst\u001b[0m\u001b[1;33m)\u001b[0m\u001b[1;33m\u001b[0m\u001b[1;33m\u001b[0m\u001b[0m\n\u001b[0m\u001b[0;32m      2\u001b[0m \u001b[0mprint\u001b[0m\u001b[1;33m(\u001b[0m\u001b[0mlast\u001b[0m\u001b[1;33m)\u001b[0m\u001b[1;33m\u001b[0m\u001b[1;33m\u001b[0m\u001b[0m\n",
      "\u001b[1;31mNameError\u001b[0m: name 'first' is not defined"
     ]
    }
   ],
   "source": [
    "print(first)\n",
    "print(last)"
   ]
  },
  {
   "cell_type": "code",
   "execution_count": null,
   "id": "7f140676",
   "metadata": {},
   "outputs": [],
   "source": [
    "5,20\n",
    "5,6,7,8,9\n",
    "  16  17  18 19 20"
   ]
  },
  {
   "cell_type": "code",
   "execution_count": null,
   "id": "39663e32",
   "metadata": {},
   "outputs": [],
   "source": [
    "range(start,start+5) # 5,10  (5,6,7,8,9)\n",
    "range(end-4,end+1) # (16,17,18,19,20)"
   ]
  },
  {
   "cell_type": "code",
   "execution_count": 33,
   "id": "ea712b13",
   "metadata": {},
   "outputs": [
    {
     "name": "stdout",
     "output_type": "stream",
     "text": [
      " start == 5 and end== 20\n",
      "Program to find first five numbers and last five numbers square in a given range\n",
      "\n",
      "Val1 >>>>>> [25, 36, 49, 64, 81]\n",
      "\n",
      "Val2 >>>>>> [256, 289, 324, 361, 400]\n"
     ]
    }
   ],
   "source": [
    "def get_sqr(start,end):\n",
    "    print(f\" start == {start} and end== {end}\")\n",
    "    print(\"Program to find first five numbers and last five numbers square in a given range\")\n",
    "    print()\n",
    "    \n",
    "    value1 = [i**2 for i in range(start,start+5)] #56789\n",
    "    value2  = [i**2 for i in range(end-4,end+1)]    #50,49,48,47,46\n",
    "#     print(first)\n",
    "#     print()\n",
    "#     print(last)\n",
    "    return value1,value2\n",
    "value1,value2=get_sqr(5,20)\n",
    "print(\"Val1 >>>>>>\",value1)\n",
    "print()\n",
    "print(\"Val2 >>>>>>\",value2)\n",
    "    "
   ]
  },
  {
   "cell_type": "code",
   "execution_count": 10,
   "id": "a1fe70b8",
   "metadata": {},
   "outputs": [
    {
     "name": "stdout",
     "output_type": "stream",
     "text": [
      " start == 8 and end== 9\n",
      "Program to find first five numbers and last five numbers square in a given range\n",
      "\n"
     ]
    },
    {
     "data": {
      "text/plain": [
       "([64, 81, 100, 121, 144], [25, 36, 49, 64, 81], 100)"
      ]
     },
     "execution_count": 10,
     "metadata": {},
     "output_type": "execute_result"
    }
   ],
   "source": [
    "get_sqr(8,9)"
   ]
  },
  {
   "cell_type": "markdown",
   "id": "b95936f3",
   "metadata": {},
   "source": [
    "# Types of arguments"
   ]
  },
  {
   "cell_type": "raw",
   "id": "4d1bde18",
   "metadata": {},
   "source": [
    "1) Positional arg\n",
    "2) Default arg\n",
    "3) Arbitary arg /Arb Positional arg /Variable length arg /Variable arg\n",
    "4) Arb keyword arg"
   ]
  },
  {
   "cell_type": "markdown",
   "id": "b8461c5f",
   "metadata": {},
   "source": [
    "## 1) Positional Arg"
   ]
  },
  {
   "cell_type": "code",
   "execution_count": null,
   "id": "41ae87bf",
   "metadata": {},
   "outputs": [],
   "source": [
    "# Number of arg == Numb of parameters\n",
    "> arg that we pass to the function should be in correct order"
   ]
  },
  {
   "cell_type": "code",
   "execution_count": 11,
   "id": "4cdcb1e8",
   "metadata": {},
   "outputs": [
    {
     "name": "stdout",
     "output_type": "stream",
     "text": [
      " a=13 and b=12\n"
     ]
    }
   ],
   "source": [
    "def get_num(a,b):\n",
    "    print(f\" {a=} and b={b}\")\n",
    "    \n",
    "get_num(13,12)"
   ]
  },
  {
   "cell_type": "code",
   "execution_count": 13,
   "id": "a667158e",
   "metadata": {},
   "outputs": [
    {
     "name": "stdout",
     "output_type": "stream",
     "text": [
      " a=12 and b=13\n"
     ]
    }
   ],
   "source": [
    "def get_num(a,b,u):\n",
    "    print(f\" {a=} and b={b}\")\n",
    "    \n",
    "get_num(12,13,5)"
   ]
  },
  {
   "cell_type": "code",
   "execution_count": 33,
   "id": "0c513bfc",
   "metadata": {},
   "outputs": [
    {
     "name": "stdout",
     "output_type": "stream",
     "text": [
      " a=13 and b=12\n"
     ]
    }
   ],
   "source": [
    "get_num(13,12)"
   ]
  },
  {
   "cell_type": "markdown",
   "id": "b14d7380",
   "metadata": {},
   "source": [
    "## 2) Default arg"
   ]
  },
  {
   "cell_type": "code",
   "execution_count": 35,
   "id": "e0b25294",
   "metadata": {},
   "outputs": [
    {
     "name": "stdout",
     "output_type": "stream",
     "text": [
      "n1=2 and n2=4\n",
      "Multiplication of two number is mul=8\n"
     ]
    }
   ],
   "source": [
    "def get_mul(n1,n2):\n",
    "    \n",
    "    print(f\"{n1=} and {n2=}\")\n",
    "    mul = n1*n2\n",
    "\n",
    "    print(f\"Multiplication of two number is {mul=}\")\n",
    "get_mul(2,4)"
   ]
  },
  {
   "cell_type": "code",
   "execution_count": 36,
   "id": "726cc47f",
   "metadata": {},
   "outputs": [
    {
     "name": "stdout",
     "output_type": "stream",
     "text": [
      "n1=2 and n2=5\n",
      "Multiplication of two number is mul=10\n"
     ]
    }
   ],
   "source": [
    "def get_mul(n1,n2=5):\n",
    "    \n",
    "    print(f\"{n1=} and {n2=}\")\n",
    "    mul = n1*n2\n",
    "\n",
    "    print(f\"Multiplication of two number is {mul=}\")\n",
    "get_mul(2)"
   ]
  },
  {
   "cell_type": "code",
   "execution_count": 14,
   "id": "f23d0265",
   "metadata": {},
   "outputs": [
    {
     "name": "stdout",
     "output_type": "stream",
     "text": [
      "n1=2 and n2=15\n",
      "Multiplication of two number is mul=30\n"
     ]
    }
   ],
   "source": [
    "def get_mul(n1,n2=5): # n1 =2 and n2 = \n",
    "    \n",
    "    print(f\"{n1=} and {n2=}\")\n",
    "    mul = n1*n2\n",
    "\n",
    "    print(f\"Multiplication of two number is {mul=}\")\n",
    "get_mul(2,15)"
   ]
  },
  {
   "cell_type": "code",
   "execution_count": 18,
   "id": "4b972418",
   "metadata": {},
   "outputs": [
    {
     "name": "stdout",
     "output_type": "stream",
     "text": [
      "n1=3 and n2=5\n",
      "Multiplication of two number is mul=15\n"
     ]
    }
   ],
   "source": [
    "def get_mul(n1=20,n2=5): # n1 =2 and n2 = \n",
    "    \n",
    "    print(f\"{n1=} and {n2=}\")\n",
    "    mul = n1*n2\n",
    "\n",
    "    print(f\"Multiplication of two number is {mul=}\")\n",
    "get_mul(3,5)"
   ]
  },
  {
   "cell_type": "code",
   "execution_count": 40,
   "id": "f43cf9dc",
   "metadata": {},
   "outputs": [
    {
     "ename": "SyntaxError",
     "evalue": "non-default argument follows default argument (Temp/ipykernel_2164/1349801265.py, line 1)",
     "output_type": "error",
     "traceback": [
      "\u001b[1;36m  File \u001b[1;32m\"C:\\Users\\Admin\\AppData\\Local\\Temp/ipykernel_2164/1349801265.py\"\u001b[1;36m, line \u001b[1;32m1\u001b[0m\n\u001b[1;33m    def get_mul(n1=20,n2): # n1 =2 and n2 =\u001b[0m\n\u001b[1;37m                        ^\u001b[0m\n\u001b[1;31mSyntaxError\u001b[0m\u001b[1;31m:\u001b[0m non-default argument follows default argument\n"
     ]
    }
   ],
   "source": [
    "def get_mul(n1=20,n2): # n1 =2 and n2 = \n",
    "    \n",
    "    print(f\"{n1=} and {n2=}\")\n",
    "    mul = n1*n2\n",
    "\n",
    "    print(f\"Multiplication of two number is {mul=}\")\n",
    "get_mul(3,4)"
   ]
  },
  {
   "cell_type": "code",
   "execution_count": 41,
   "id": "6a56cb73",
   "metadata": {},
   "outputs": [
    {
     "name": "stdout",
     "output_type": "stream",
     "text": [
      "n1=3 and n2=20\n",
      "Multiplication of two number is mul=60\n"
     ]
    }
   ],
   "source": [
    "def get_mul(n1,n2=20): # n1 =2 and n2 = \n",
    "    \n",
    "    print(f\"{n1=} and {n2=}\")\n",
    "    mul = n1*n2\n",
    "\n",
    "    print(f\"Multiplication of two number is {mul=}\")\n",
    "get_mul(3)"
   ]
  },
  {
   "cell_type": "markdown",
   "id": "9f87d2f4",
   "metadata": {},
   "source": [
    "### 3) Arb Positional Arg"
   ]
  },
  {
   "cell_type": "code",
   "execution_count": 43,
   "id": "afc53562",
   "metadata": {},
   "outputs": [
    {
     "name": "stdout",
     "output_type": "stream",
     "text": [
      "22\n"
     ]
    }
   ],
   "source": [
    "a = 2\n",
    "b = 20\n",
    "add = a+b\n",
    "print(add)"
   ]
  },
  {
   "cell_type": "code",
   "execution_count": 44,
   "id": "44a29843",
   "metadata": {},
   "outputs": [
    {
     "name": "stdout",
     "output_type": "stream",
     "text": [
      "6\n"
     ]
    }
   ],
   "source": [
    "def get_add(a,b):\n",
    "    add = a + b\n",
    "    print(add)\n",
    "get_add(2,4)"
   ]
  },
  {
   "cell_type": "code",
   "execution_count": null,
   "id": "5316b9ed",
   "metadata": {},
   "outputs": [],
   "source": [
    "*args > *arguments\n",
    "is called as Variable length arg\n",
    ">> Data type of arg is tuple\n",
    "> When we dont know the number of argument to be passed function i.e length of argument"
   ]
  },
  {
   "cell_type": "code",
   "execution_count": 45,
   "id": "58fa76de",
   "metadata": {},
   "outputs": [
    {
     "ename": "TypeError",
     "evalue": "get_add() missing 1 required positional argument: 'b'",
     "output_type": "error",
     "traceback": [
      "\u001b[1;31m---------------------------------------------------------------------------\u001b[0m",
      "\u001b[1;31mTypeError\u001b[0m                                 Traceback (most recent call last)",
      "\u001b[1;32m~\\AppData\\Local\\Temp/ipykernel_2164/3049136329.py\u001b[0m in \u001b[0;36m<module>\u001b[1;34m\u001b[0m\n\u001b[0;32m      2\u001b[0m     \u001b[0madd\u001b[0m \u001b[1;33m=\u001b[0m \u001b[0ma\u001b[0m \u001b[1;33m+\u001b[0m \u001b[0mb\u001b[0m\u001b[1;33m\u001b[0m\u001b[1;33m\u001b[0m\u001b[0m\n\u001b[0;32m      3\u001b[0m     \u001b[0mprint\u001b[0m\u001b[1;33m(\u001b[0m\u001b[0madd\u001b[0m\u001b[1;33m)\u001b[0m\u001b[1;33m\u001b[0m\u001b[1;33m\u001b[0m\u001b[0m\n\u001b[1;32m----> 4\u001b[1;33m \u001b[0mget_add\u001b[0m\u001b[1;33m(\u001b[0m\u001b[1;36m2\u001b[0m\u001b[1;33m)\u001b[0m\u001b[1;33m\u001b[0m\u001b[1;33m\u001b[0m\u001b[0m\n\u001b[0m",
      "\u001b[1;31mTypeError\u001b[0m: get_add() missing 1 required positional argument: 'b'"
     ]
    }
   ],
   "source": [
    "def get_add(a,b):\n",
    "    add = a + b\n",
    "    print(add)\n",
    "get_add(2)"
   ]
  },
  {
   "cell_type": "code",
   "execution_count": 46,
   "id": "8b0343f6",
   "metadata": {},
   "outputs": [
    {
     "ename": "TypeError",
     "evalue": "get_add() takes 4 positional arguments but 5 were given",
     "output_type": "error",
     "traceback": [
      "\u001b[1;31m---------------------------------------------------------------------------\u001b[0m",
      "\u001b[1;31mTypeError\u001b[0m                                 Traceback (most recent call last)",
      "\u001b[1;32m~\\AppData\\Local\\Temp/ipykernel_2164/2706479401.py\u001b[0m in \u001b[0;36m<module>\u001b[1;34m\u001b[0m\n\u001b[0;32m      2\u001b[0m     \u001b[0madd\u001b[0m \u001b[1;33m=\u001b[0m \u001b[0ma\u001b[0m \u001b[1;33m+\u001b[0m \u001b[0mb\u001b[0m\u001b[1;33m\u001b[0m\u001b[1;33m\u001b[0m\u001b[0m\n\u001b[0;32m      3\u001b[0m     \u001b[0mprint\u001b[0m\u001b[1;33m(\u001b[0m\u001b[0madd\u001b[0m\u001b[1;33m)\u001b[0m\u001b[1;33m\u001b[0m\u001b[1;33m\u001b[0m\u001b[0m\n\u001b[1;32m----> 4\u001b[1;33m \u001b[0mget_add\u001b[0m\u001b[1;33m(\u001b[0m\u001b[1;36m2\u001b[0m\u001b[1;33m,\u001b[0m\u001b[1;36m4\u001b[0m\u001b[1;33m,\u001b[0m\u001b[1;36m5\u001b[0m\u001b[1;33m,\u001b[0m\u001b[1;36m6\u001b[0m\u001b[1;33m,\u001b[0m\u001b[1;36m7\u001b[0m\u001b[1;33m)\u001b[0m\u001b[1;33m\u001b[0m\u001b[1;33m\u001b[0m\u001b[0m\n\u001b[0m",
      "\u001b[1;31mTypeError\u001b[0m: get_add() takes 4 positional arguments but 5 were given"
     ]
    }
   ],
   "source": [
    "def get_add(a,b,c,d):\n",
    "    add = a + b\n",
    "    print(add)\n",
    "get_add(2,4,5,6,7)"
   ]
  },
  {
   "cell_type": "code",
   "execution_count": 20,
   "id": "ddd5f11d",
   "metadata": {},
   "outputs": [
    {
     "name": "stdout",
     "output_type": "stream",
     "text": [
      "Arg is >>>> (2, 4, 5, 6, 7)\n"
     ]
    }
   ],
   "source": [
    "def get_arg(*lait):\n",
    "    \n",
    "    print(f\"Arg is >>>> {lait}\")\n",
    "\n",
    "get_arg(2,4,5,6,7)"
   ]
  },
  {
   "cell_type": "code",
   "execution_count": 48,
   "id": "e16eacaf",
   "metadata": {},
   "outputs": [
    {
     "name": "stdout",
     "output_type": "stream",
     "text": [
      "Arg is >>>> (2, 4, 5, 6, 7)\n",
      "Data Type >> <class 'tuple'>\n"
     ]
    }
   ],
   "source": [
    "def get_arg(*args):\n",
    "    \n",
    "    print(f\"Arg is >>>> {args}\")\n",
    "    return args\n",
    "\n",
    "arg_type = get_arg(2,4,5,6,7)\n",
    "print(\"Data Type >>\",type(arg_type))"
   ]
  },
  {
   "cell_type": "code",
   "execution_count": 50,
   "id": "791cd9f2",
   "metadata": {},
   "outputs": [
    {
     "ename": "TypeError",
     "evalue": "get_arg_1() missing 1 required keyword-only argument: 'n1'",
     "output_type": "error",
     "traceback": [
      "\u001b[1;31m---------------------------------------------------------------------------\u001b[0m",
      "\u001b[1;31mTypeError\u001b[0m                                 Traceback (most recent call last)",
      "\u001b[1;32m~\\AppData\\Local\\Temp/ipykernel_2164/1116944917.py\u001b[0m in \u001b[0;36m<module>\u001b[1;34m\u001b[0m\n\u001b[0;32m      4\u001b[0m \u001b[1;33m\u001b[0m\u001b[0m\n\u001b[0;32m      5\u001b[0m \u001b[1;33m\u001b[0m\u001b[0m\n\u001b[1;32m----> 6\u001b[1;33m \u001b[0mget_arg_1\u001b[0m\u001b[1;33m(\u001b[0m\u001b[1;36m2\u001b[0m\u001b[1;33m,\u001b[0m\u001b[1;36m3\u001b[0m\u001b[1;33m,\u001b[0m\u001b[1;36m4\u001b[0m\u001b[1;33m,\u001b[0m\u001b[1;36m5\u001b[0m\u001b[1;33m,\u001b[0m\u001b[1;36m6\u001b[0m\u001b[1;33m,\u001b[0m\u001b[1;36m7\u001b[0m\u001b[1;33m,\u001b[0m\u001b[1;36m8\u001b[0m\u001b[1;33m,\u001b[0m\u001b[1;36m9\u001b[0m\u001b[1;33m)\u001b[0m\u001b[1;33m\u001b[0m\u001b[1;33m\u001b[0m\u001b[0m\n\u001b[0m\u001b[0;32m      7\u001b[0m \u001b[1;33m\u001b[0m\u001b[0m\n",
      "\u001b[1;31mTypeError\u001b[0m: get_arg_1() missing 1 required keyword-only argument: 'n1'"
     ]
    }
   ],
   "source": [
    "def get_arg_1(*args,n1):\n",
    "    print(f\"Arg >> {args}\")\n",
    "    print(f\"N1 >> {n1}\")\n",
    "\n",
    "          \n",
    "get_arg_1(2,3,4,5,6,7,8,9)\n",
    "    "
   ]
  },
  {
   "cell_type": "code",
   "execution_count": 52,
   "id": "68d6d8ed",
   "metadata": {},
   "outputs": [
    {
     "name": "stdout",
     "output_type": "stream",
     "text": [
      "Arg >> (3, 4, 5, 6, 7, 8, 9)\n",
      "N1 >> 2\n"
     ]
    }
   ],
   "source": [
    "def get_arg_1(n1,*args):\n",
    "    print(f\"Arg >> {args}\")\n",
    "    print(f\"N1 >> {n1}\")\n",
    "\n",
    "          \n",
    "get_arg_1(2,3,4,5,6,7,8,9)"
   ]
  },
  {
   "cell_type": "code",
   "execution_count": 22,
   "id": "7c175f48",
   "metadata": {},
   "outputs": [
    {
     "name": "stdout",
     "output_type": "stream",
     "text": [
      "Arg >> (3, 4, 5, 6, 7, 8, 9)\n",
      "N1 >> 2\n",
      "N2 >> 500\n"
     ]
    }
   ],
   "source": [
    "def get_arg_1(n1,*args,n2=500):\n",
    "    print(f\"Arg >> {args}\")\n",
    "    print(f\"N1 >> {n1}\") #2\n",
    "    print(f\"N2 >> {n2}\") # 3\n",
    "\n",
    "          \n",
    "get_arg_1(2,3,4,5,6,7,8,9)"
   ]
  },
  {
   "cell_type": "code",
   "execution_count": 55,
   "id": "23154fc7",
   "metadata": {},
   "outputs": [
    {
     "name": "stdout",
     "output_type": "stream",
     "text": [
      "Arg >> (3, 4, 5, 6, 7, 8, 9)\n",
      "N1 >> 2\n",
      "N2 >> Python\n"
     ]
    }
   ],
   "source": [
    "def get_arg_1(n1,*args,n2 = \"Python\"): #1\n",
    "    print(f\"Arg >> {args}\")#2,3,,4,5,6,7,8,9\n",
    "    print(f\"N1 >> {n1}\") #2\n",
    "    print(f\"N2 >> {n2}\") # \n",
    "\n",
    "          \n",
    "get_arg_1(2,3,4,5,6,7,8,9)"
   ]
  },
  {
   "cell_type": "code",
   "execution_count": null,
   "id": "733f83b8",
   "metadata": {},
   "outputs": [],
   "source": []
  }
 ],
 "metadata": {
  "kernelspec": {
   "display_name": "Python 3 (ipykernel)",
   "language": "python",
   "name": "python3"
  },
  "language_info": {
   "codemirror_mode": {
    "name": "ipython",
    "version": 3
   },
   "file_extension": ".py",
   "mimetype": "text/x-python",
   "name": "python",
   "nbconvert_exporter": "python",
   "pygments_lexer": "ipython3",
   "version": "3.10.5"
  }
 },
 "nbformat": 4,
 "nbformat_minor": 5
}
