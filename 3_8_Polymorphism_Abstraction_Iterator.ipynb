{
 "cells": [
  {
   "cell_type": "markdown",
   "id": "4101f1dd",
   "metadata": {},
   "source": [
    "## Polymorphism"
   ]
  },
  {
   "cell_type": "raw",
   "id": "6147fe66",
   "metadata": {},
   "source": [
    "Poly > Multiple / Many\n",
    "Morphism > Forms\n",
    "> It means multiple forms\n",
    ">when we use same method / function name in many classes then \n",
    "Functions/ Method with identical names"
   ]
  },
  {
   "cell_type": "code",
   "execution_count": 3,
   "id": "baf015b6",
   "metadata": {},
   "outputs": [
    {
     "name": "stdout",
     "output_type": "stream",
     "text": [
      "This is circle class\n",
      "This is square class\n",
      "This is Rectangle area\n"
     ]
    }
   ],
   "source": [
    "class Circle():  # Base/Parent\n",
    "    def get_area(self):\n",
    "        print(\"This is circle class\")\n",
    "class Square(): # Base/Parent\n",
    "    def get_area(self):\n",
    "        print(\"This is square class\")\n",
    "class Rectangle(): # Base/Parent\n",
    "    def get_area(self):\n",
    "        print(\"This is Rectangle area\")\n",
    "c1 = Circle() # object 1\n",
    "s1 = Square() # object 2\n",
    "r1 = Rectangle() # object 3\n",
    "\n",
    "c1.get_area()\n",
    "s1.get_area()\n",
    "r1.get_area()"
   ]
  },
  {
   "cell_type": "code",
   "execution_count": 4,
   "id": "777db77e",
   "metadata": {},
   "outputs": [
    {
     "name": "stdout",
     "output_type": "stream",
     "text": [
      "This is circle class\n",
      "This is square class\n",
      "This is Rectangle area\n"
     ]
    }
   ],
   "source": [
    "class Circle():  # Base/Parent\n",
    "    def get_area(self):\n",
    "        print(\"This is circle class\")\n",
    "class Square(): # Base/Parent\n",
    "    def get_area(self):\n",
    "        print(\"This is square class\")\n",
    "class Rectangle(): # Base/Parent\n",
    "    def get_area(self):\n",
    "        print(\"This is Rectangle area\")\n",
    "c1 = Circle() # object 1\n",
    "s1 = Square() # object 2\n",
    "r1 = Rectangle() # object 3\n",
    "for obj in (c1,s1,r1):\n",
    "    obj.get_area()"
   ]
  },
  {
   "cell_type": "code",
   "execution_count": 2,
   "id": "fcce4110",
   "metadata": {},
   "outputs": [
    {
     "name": "stdout",
     "output_type": "stream",
     "text": [
      "This is circle class\n",
      "This is square class\n",
      "This is Rectangle area\n"
     ]
    }
   ],
   "source": [
    "class Circle():  # Base/Parent\n",
    "    def get_area(self):\n",
    "        print(\"This is circle class\")\n",
    "class Square(): # Base/Parent\n",
    "    def get_area(self):\n",
    "        print(\"This is square class\")\n",
    "class Rectangle(): # Base/Parent\n",
    "    def get_area(self):\n",
    "        print(\"This is Rectangle area\")\n",
    "c1 = Circle() # object 1\n",
    "s1 = Square() # object 2\n",
    "r1 = Rectangle() # object 3\n",
    "for obj in (c1,s1,r1):\n",
    "    obj.get_area()"
   ]
  },
  {
   "cell_type": "code",
   "execution_count": 6,
   "id": "6970f2f0",
   "metadata": {},
   "outputs": [
    {
     "data": {
      "text/plain": [
       "'__main__'"
      ]
     },
     "execution_count": 6,
     "metadata": {},
     "output_type": "execute_result"
    }
   ],
   "source": [
    "__name__"
   ]
  },
  {
   "cell_type": "code",
   "execution_count": 7,
   "id": "1732f39c",
   "metadata": {},
   "outputs": [
    {
     "name": "stdout",
     "output_type": "stream",
     "text": [
      "This is circle class\n",
      "This is square class\n",
      "This is Rectangle area\n"
     ]
    }
   ],
   "source": [
    "class Circle():  # Base/Parent\n",
    "    def get_area(self):\n",
    "        print(\"This is circle class\")\n",
    "class Square(): # Base/Parent\n",
    "    def get_area(self):\n",
    "        print(\"This is square class\")\n",
    "class Rectangle(): # Base/Parent\n",
    "    def get_area(self):\n",
    "        print(\"This is Rectangle area\")\n",
    "def get_testing_area_method():\n",
    "    c1 = Circle() # object 1\n",
    "    s1 = Square() # object 2\n",
    "    r1 = Rectangle() # object 3\n",
    "    for obj in [c1,s1,r1]:\n",
    "        obj.get_area() # method calling\n",
    "if __name__ == \"__main__\": # True\n",
    "    get_testing_area_method()"
   ]
  },
  {
   "cell_type": "code",
   "execution_count": 9,
   "id": "20867eab",
   "metadata": {},
   "outputs": [
    {
     "name": "stdout",
     "output_type": "stream",
     "text": [
      "Area of circle is 78.54\n",
      "Area of square is> 25\n",
      "Area of Rectangle is 8\n"
     ]
    }
   ],
   "source": [
    "import math\n",
    "class Circle():  # Base/Parent\n",
    "    def __init__(self,radius):\n",
    "        self.radius = radius # instance var\n",
    "    def get_area(self):\n",
    "        area = math.pi * self.radius *self.radius\n",
    "        print(\"Area of circle is\",round(area,2))\n",
    "class Square(): # Base/Parent\n",
    "    def __init__(self,side):\n",
    "        self.side = side\n",
    "    def get_area(self):\n",
    "        area = self.side **2\n",
    "        print(\"Area of square is>\",area)\n",
    "class Rectangle(): # Base/Parent\n",
    "    def __init__(self,l,b):\n",
    "        self.l = l\n",
    "        self.b = b\n",
    "    def get_area(self):\n",
    "        area = self.l * self.b\n",
    "        print(\"Area of Rectangle is\",area)\n",
    "        \n",
    "def get_testing_area_method():\n",
    "    c1 = Circle(5) # object 1\n",
    "    s1 = Square(5) # object 2\n",
    "    r1 = Rectangle(2,4) # object 3\n",
    "    for obj in [c1,s1,r1]:\n",
    "        obj.get_area() # method calling\n",
    "if __name__ == \"__main__\": # True\n",
    "    get_testing_area_method()"
   ]
  },
  {
   "cell_type": "code",
   "execution_count": 4,
   "id": "bb5c0729",
   "metadata": {},
   "outputs": [
    {
     "name": "stdout",
     "output_type": "stream",
     "text": [
      "56\n",
      "45\n",
      "48\n",
      "48\n",
      "Area of circle is 9852.03\n",
      "Area of square is> 2025\n",
      "Area of Rectangle is 2304\n"
     ]
    }
   ],
   "source": [
    "import math\n",
    "class Circle():  # Base/Parent\n",
    "    def __init__(self,radius):\n",
    "        self.radius = radius # instance var\n",
    "    def get_area(self):\n",
    "        area = math.pi * self.radius *self.radius\n",
    "        print(\"Area of circle is\",round(area,2))\n",
    "class Square(): # Base/Parent\n",
    "    def __init__(self,side):\n",
    "        self.side = side\n",
    "    def get_area(self):\n",
    "        area = self.side **2\n",
    "        print(\"Area of square is>\",area)\n",
    "class Rectangle(): # Base/Parent\n",
    "    def __init__(self,l,b):\n",
    "        self.l = l\n",
    "        self.b = b\n",
    "    def get_area(self):\n",
    "        area = self.l * self.b\n",
    "        print(\"Area of Rectangle is\",area)\n",
    "        \n",
    "def get_testing_area_method(radius,side,l,b):\n",
    "    c1 = Circle(radius) # object 1\n",
    "    s1 = Square(side) # object 2\n",
    "    r1 = Rectangle(l,b) # object 3\n",
    "    for obj in [c1,s1,r1]:\n",
    "        obj.get_area() # method calling\n",
    "if __name__ == \"__main__\": # True\n",
    "    radius = int(input())\n",
    "    side   = int(input())\n",
    "    l      = int(input())\n",
    "    b      = int(input())\n",
    "    get_testing_area_method(radius,side,l,b)"
   ]
  },
  {
   "cell_type": "markdown",
   "id": "62082b1b",
   "metadata": {},
   "source": [
    "## Abstraction"
   ]
  },
  {
   "cell_type": "code",
   "execution_count": null,
   "id": "20918c94",
   "metadata": {},
   "outputs": [],
   "source": [
    "Blueprint of your project or Blueprint of other class\n",
    "> Abstract class is only used for declaration purpose only , not for implementation\n",
    "> we can not create object of abstract class\n",
    "\n",
    "it is used to hide irrelevent data/ unused data/ atribute in order to reduce complexcity and enhance efficiency\n",
    "by default python does not support abstract class ( we nee to import abc module)\n",
    "Note> \n",
    "To declare abstarctmethod  we require to use decorator concept  > @abstractmethod"
   ]
  },
  {
   "cell_type": "code",
   "execution_count": null,
   "id": "ba7ef40a",
   "metadata": {},
   "outputs": [],
   "source": [
    "1) Normal class"
   ]
  },
  {
   "cell_type": "code",
   "execution_count": null,
   "id": "cbc88bb4",
   "metadata": {},
   "outputs": [],
   "source": [
    "class ParentClass():\n",
    "    pass\n",
    "class ChildClass(ParentClass):\n",
    "    pass\n",
    "obj = Child()"
   ]
  },
  {
   "cell_type": "code",
   "execution_count": null,
   "id": "2c76cfee",
   "metadata": {},
   "outputs": [],
   "source": [
    "from abc import ABC, abstractmethod\n",
    "class Parent(ABC): # Abstract class\n",
    "    pass\n",
    "class Child(Parent):\n",
    "    pass\n",
    "obj = Child()"
   ]
  },
  {
   "cell_type": "code",
   "execution_count": 13,
   "id": "88b81a18",
   "metadata": {},
   "outputs": [
    {
     "name": "stdout",
     "output_type": "stream",
     "text": [
      "Registration method of child class\n",
      "We are in login method of child class\n",
      " we are in Registration method of parent class\n"
     ]
    }
   ],
   "source": [
    "class ProjectBlueprint():\n",
    "    def get_registration(self):\n",
    "        print(\" we are in Registration method of parent class\")\n",
    "    def get_login(self):\n",
    "        print(\"we are in logine method of parent class\")\n",
    "class ProjectFun(ProjectBlueprint): # child class\n",
    "    def get_registration(self):\n",
    "        print(\"Registration method of child class\")\n",
    "    def get_login(self):\n",
    "        print(\"We are in login method of child class\")\n",
    "        super().get_registration()\n",
    "obj = ProjectFun() # Obj created\n",
    "obj.get_registration()\n",
    "obj.get_login()"
   ]
  },
  {
   "cell_type": "code",
   "execution_count": 14,
   "id": "6d274c2b",
   "metadata": {},
   "outputs": [
    {
     "name": "stdout",
     "output_type": "stream",
     "text": [
      "Registration method of child class\n",
      "We are in login method of child class\n"
     ]
    }
   ],
   "source": [
    "from abc import ABC, abstractmethod\n",
    "class ProjectBlueprint(ABC): # abstract class\n",
    "    @abstractmethod\n",
    "    def get_registration(self): # abstract method\n",
    "        print(\" we are in Registration method of parent class\")\n",
    "    def get_login(self): # Public method/ normal method\n",
    "        print(\"we are in logine method of parent class\")\n",
    "class ProjectFun(ProjectBlueprint): # child class\n",
    "    def get_registration(self):\n",
    "        print(\"Registration method of child class\")\n",
    "    def get_login(self):\n",
    "        print(\"We are in login method of child class\")\n",
    "        \n",
    "obj = ProjectFun() # Obj created\n",
    "obj.get_registration()\n",
    "obj.get_login()"
   ]
  },
  {
   "cell_type": "code",
   "execution_count": 18,
   "id": "ba9f774b",
   "metadata": {},
   "outputs": [
    {
     "name": "stdout",
     "output_type": "stream",
     "text": [
      "Registration method of child class\n",
      "We are in login method of child class\n"
     ]
    }
   ],
   "source": [
    "from abc import ABC, abstractmethod\n",
    "class ProjectBlueprint(ABC): # abstract class\n",
    "    @abstractmethod\n",
    "    def get_registration(self): # abstract method\n",
    "        print(\" we are in Registration method of parent class\")\n",
    "    def get_login(self): # Public method/ normal method\n",
    "        print(\"we are in logine method of parent class\")\n",
    "class ProjectFun(ProjectBlueprint): # child class\n",
    "    def get_registration(self):\n",
    "        print(\"Registration method of child class\")\n",
    "    def get_login(self):\n",
    "        print(\"We are in login method of child class\")\n",
    "        \n",
    "obj = ProjectFun() # Obj created\n",
    "obj.get_registration()\n",
    "obj.get_login()"
   ]
  },
  {
   "cell_type": "code",
   "execution_count": 16,
   "id": "6ff0036f",
   "metadata": {},
   "outputs": [
    {
     "ename": "TypeError",
     "evalue": "Can't instantiate abstract class ProjectFun with abstract method get_registration",
     "output_type": "error",
     "traceback": [
      "\u001b[1;31m---------------------------------------------------------------------------\u001b[0m",
      "\u001b[1;31mTypeError\u001b[0m                                 Traceback (most recent call last)",
      "Input \u001b[1;32mIn [16]\u001b[0m, in \u001b[0;36m<cell line: 14>\u001b[1;34m()\u001b[0m\n\u001b[0;32m     11\u001b[0m     \u001b[38;5;28;01mdef\u001b[39;00m \u001b[38;5;21mget_login\u001b[39m(\u001b[38;5;28mself\u001b[39m):\n\u001b[0;32m     12\u001b[0m         \u001b[38;5;28mprint\u001b[39m(\u001b[38;5;124m\"\u001b[39m\u001b[38;5;124mWe are in login method of child class\u001b[39m\u001b[38;5;124m\"\u001b[39m)\n\u001b[1;32m---> 14\u001b[0m obj \u001b[38;5;241m=\u001b[39m \u001b[43mProjectFun\u001b[49m\u001b[43m(\u001b[49m\u001b[43m)\u001b[49m \u001b[38;5;66;03m# Obj created\u001b[39;00m\n\u001b[0;32m     15\u001b[0m obj\u001b[38;5;241m.\u001b[39mget_registration()\n\u001b[0;32m     16\u001b[0m obj\u001b[38;5;241m.\u001b[39mget_login()\n",
      "\u001b[1;31mTypeError\u001b[0m: Can't instantiate abstract class ProjectFun with abstract method get_registration"
     ]
    }
   ],
   "source": [
    "from abc import ABC, abstractmethod\n",
    "class ProjectBlueprint(ABC): # abstract class\n",
    "    @abstractmethod\n",
    "    def get_registration(self): # abstract method\n",
    "        print(\" we are in Registration method of parent class\")\n",
    "    def get_login(self): # Public method/ normal method\n",
    "        print(\"we are in logine method of parent class\")\n",
    "class ProjectFun(ProjectBlueprint): # child class\n",
    "#     def get_registration(self):\n",
    "#         print(\"Registration method of child class\")\n",
    "    def get_login(self):\n",
    "        print(\"We are in login method of child class\")\n",
    "        \n",
    "obj = ProjectFun() # Obj created\n",
    "obj.get_registration()\n",
    "obj.get_login()"
   ]
  },
  {
   "cell_type": "code",
   "execution_count": 6,
   "id": "64cbed58",
   "metadata": {},
   "outputs": [
    {
     "name": "stdout",
     "output_type": "stream",
     "text": [
      "Registration method of child class\n",
      "We are in login method of child class\n"
     ]
    }
   ],
   "source": [
    "from abc import ABC, abstractmethod\n",
    "class ProjectBlueprint(ABC): # abstract class\n",
    "    @abstractmethod\n",
    "    def get_registration(self): # abstract method\n",
    "        print(\" we are in Registration method of parent class\")\n",
    "    @abstractmethod\n",
    "    def get_login(self): # abstract method\n",
    "        print(\"we are in logine method of parent class\")\n",
    "class ProjectFun(ProjectBlueprint): # child class\n",
    "    def get_registration(self):\n",
    "        print(\"Registration method of child class\")\n",
    "    def get_login(self):\n",
    "        print(\"We are in login method of child class\")\n",
    "        \n",
    "obj = ProjectFun() # Obj created\n",
    "obj.get_registration()\n",
    "obj.get_login()"
   ]
  },
  {
   "cell_type": "code",
   "execution_count": 15,
   "id": "f0bef380",
   "metadata": {},
   "outputs": [
    {
     "name": "stdout",
     "output_type": "stream",
     "text": [
      "Registration method of child class\n",
      "We are in login method of child class\n"
     ]
    }
   ],
   "source": [
    "from abc import ABC, abstractmethod\n",
    "class ProjectBlueprint(ABC): # abstract class\n",
    "    @abstractmethod\n",
    "    def get_registration(self): # abstract method\n",
    "        print(\" we are in Registration method of parent class\")\n",
    "    @abstractmethod\n",
    "    def get_login(self): # abstract method\n",
    "        print(\"we are in logine method of parent class\")\n",
    "class ProjectFun(ProjectBlueprint): # child class\n",
    "    def get_registration(self):\n",
    "        print(\"Registration method of child class\")\n",
    "    def get_login(self):\n",
    "        print(\"We are in login method of child class\")\n",
    "        \n",
    "obj = ProjectFun() # Obj created\n",
    "obj.get_registration()\n",
    "obj.get_login()"
   ]
  },
  {
   "cell_type": "code",
   "execution_count": 20,
   "id": "c349b2e8",
   "metadata": {},
   "outputs": [
    {
     "name": "stdout",
     "output_type": "stream",
     "text": [
      "4\n"
     ]
    }
   ],
   "source": [
    "for i in range(4,9):\n",
    "    print(i)\n",
    "    break\n",
    "    print(i) # 5"
   ]
  },
  {
   "cell_type": "markdown",
   "id": "abe8e409",
   "metadata": {},
   "source": [
    "# Iterator"
   ]
  },
  {
   "cell_type": "raw",
   "id": "9bd76fc1",
   "metadata": {},
   "source": [
    "# Iterator > iterator is an object which implements the iterator protocol which consist of __iter__ and __next__ method\n",
    "\n",
    "iterators > for loop\n",
    "iterables  > str,tuple,list,set,frozenset.range, etc\n",
    "not iterables > int ,float,complex,bool\n",
    "\n",
    "def > Iterator is an object with state so that it remebers where it is during exection"
   ]
  },
  {
   "cell_type": "code",
   "execution_count": null,
   "id": "21c36777",
   "metadata": {},
   "outputs": [],
   "source": [
    "__method__ >> reserved built in method,special method,magic method,dunder method \n",
    "__method >> Private method\n",
    "method > Public method\n",
    "_ > Tempory use"
   ]
  },
  {
   "cell_type": "code",
   "execution_count": 22,
   "id": "d133c20a",
   "metadata": {},
   "outputs": [
    {
     "name": "stdout",
     "output_type": "stream",
     "text": [
      "1\n",
      "2\n",
      "3\n",
      "4\n",
      "5\n",
      "****************************************************************************************************\n",
      "1\n",
      "2\n",
      "3\n",
      "4\n",
      "5\n"
     ]
    }
   ],
   "source": [
    "for i in [1,2,3,4,5]:\n",
    "    print(i)\n",
    "print(\"*\"*100)\n",
    "for _ in [1,2,3,4,5]:\n",
    "    print(_)"
   ]
  },
  {
   "cell_type": "code",
   "execution_count": 25,
   "id": "e52e52c3",
   "metadata": {},
   "outputs": [
    {
     "name": "stdout",
     "output_type": "stream",
     "text": [
      "we are in fun\n",
      "122\n"
     ]
    }
   ],
   "source": [
    "def my_fun():\n",
    "    print(\"we are in fun\")\n",
    "    return 122,333,\"Python\"\n",
    "var,_,_=my_fun()\n",
    "print(var)"
   ]
  },
  {
   "cell_type": "code",
   "execution_count": 26,
   "id": "9acc3131",
   "metadata": {},
   "outputs": [
    {
     "name": "stdout",
     "output_type": "stream",
     "text": [
      "we are in fun\n"
     ]
    },
    {
     "data": {
      "text/plain": [
       "(122, 333, 'Python')"
      ]
     },
     "execution_count": 26,
     "metadata": {},
     "output_type": "execute_result"
    }
   ],
   "source": [
    "my_fun()"
   ]
  },
  {
   "cell_type": "raw",
   "id": "21c13cd9",
   "metadata": {},
   "source": [
    "How to check list is iterator or not"
   ]
  },
  {
   "cell_type": "code",
   "execution_count": 27,
   "id": "39e56f91",
   "metadata": {},
   "outputs": [
    {
     "name": "stdout",
     "output_type": "stream",
     "text": [
      "['__add__', '__class__', '__class_getitem__', '__contains__', '__delattr__', '__delitem__', '__dir__', '__doc__', '__eq__', '__format__', '__ge__', '__getattribute__', '__getitem__', '__gt__', '__hash__', '__iadd__', '__imul__', '__init__', '__init_subclass__', '__iter__', '__le__', '__len__', '__lt__', '__mul__', '__ne__', '__new__', '__reduce__', '__reduce_ex__', '__repr__', '__reversed__', '__rmul__', '__setattr__', '__setitem__', '__sizeof__', '__str__', '__subclasshook__', 'append', 'clear', 'copy', 'count', 'extend', 'index', 'insert', 'pop', 'remove', 'reverse', 'sort']\n"
     ]
    }
   ],
   "source": [
    "l1 = [2,3,34,5]\n",
    "print(dir(l1))"
   ]
  },
  {
   "cell_type": "code",
   "execution_count": 30,
   "id": "a7a040aa",
   "metadata": {},
   "outputs": [
    {
     "name": "stdout",
     "output_type": "stream",
     "text": [
      "<list_iterator object at 0x000001E044DD69A0>\n",
      "****************************************************************************************************\n",
      "['__class__', '__delattr__', '__dir__', '__doc__', '__eq__', '__format__', '__ge__', '__getattribute__', '__gt__', '__hash__', '__init__', '__init_subclass__', '__iter__', '__le__', '__length_hint__', '__lt__', '__ne__', '__new__', '__next__', '__reduce__', '__reduce_ex__', '__repr__', '__setattr__', '__setstate__', '__sizeof__', '__str__', '__subclasshook__']\n"
     ]
    }
   ],
   "source": [
    "l1 = [2,3,34,5]\n",
    "iter_obj = l1.__iter__() # we are calling and creating iterator object\n",
    "print(iter_obj)\n",
    "print(\"*\"*100)\n",
    "print(dir(iter_obj))"
   ]
  },
  {
   "cell_type": "code",
   "execution_count": 3,
   "id": "db6a3d25",
   "metadata": {},
   "outputs": [
    {
     "name": "stdout",
     "output_type": "stream",
     "text": [
      "2\n",
      "3\n",
      "34\n"
     ]
    }
   ],
   "source": [
    "l1 = [2,3,34,5]\n",
    "iter_obj = iter(tuple(l1))\n",
    "print(next(iter_obj)) # 2\n",
    "print(next(iter_obj)) # 3\n",
    "print(next(iter_obj)) # 34\n",
    "# print(next(iter_obj)) # 5\n",
    "# print(next(iter_obj)) # "
   ]
  },
  {
   "cell_type": "code",
   "execution_count": null,
   "id": "1d60728c",
   "metadata": {},
   "outputs": [],
   "source": [
    "2**0 > 1\n",
    "2**1 > 2\n",
    "2**2 >4\n",
    "2**3 >8\n",
    "2**4 >16\n",
    "2**5 >32"
   ]
  },
  {
   "cell_type": "markdown",
   "id": "dc370738",
   "metadata": {},
   "source": [
    "## Power / Exponent"
   ]
  },
  {
   "cell_type": "code",
   "execution_count": 42,
   "id": "f8077af4",
   "metadata": {},
   "outputs": [
    {
     "name": "stdout",
     "output_type": "stream",
     "text": [
      "1\n",
      "2\n",
      "4\n",
      "8\n",
      "16\n",
      "32\n",
      "None\n"
     ]
    }
   ],
   "source": [
    "class ExponentTwo():\n",
    "    def __init__(self,max1):\n",
    "        self.max1 = max1\n",
    "    def __iter__(self):\n",
    "        self.index = 0 # \n",
    "        return self\n",
    "    def __next__(self):\n",
    "        if self.index <= self.max1 : #True\n",
    "            result = 2 ** self.index\n",
    "            self.index +=1\n",
    "            return result\n",
    "        \n",
    "obj = ExponentTwo(5)\n",
    "iterator = iter(obj)\n",
    "print(next(iterator))\n",
    "print(next(iterator))\n",
    "print(next(iterator))\n",
    "print(next(iterator))\n",
    "print(next(iterator))\n",
    "print(next(iterator))\n",
    "print(next(iterator))"
   ]
  },
  {
   "cell_type": "code",
   "execution_count": 44,
   "id": "e80d836f",
   "metadata": {},
   "outputs": [
    {
     "name": "stdout",
     "output_type": "stream",
     "text": [
      "1\n",
      "2\n",
      "4\n",
      "8\n",
      "16\n",
      "32\n"
     ]
    },
    {
     "ename": "StopIteration",
     "evalue": "",
     "output_type": "error",
     "traceback": [
      "\u001b[1;31m---------------------------------------------------------------------------\u001b[0m",
      "\u001b[1;31mStopIteration\u001b[0m                             Traceback (most recent call last)",
      "\u001b[1;32m~\\AppData\\Local\\Temp/ipykernel_7088/1645243037.py\u001b[0m in \u001b[0;36m<module>\u001b[1;34m\u001b[0m\n\u001b[0;32m     20\u001b[0m \u001b[0mprint\u001b[0m\u001b[1;33m(\u001b[0m\u001b[0mnext\u001b[0m\u001b[1;33m(\u001b[0m\u001b[0miterator\u001b[0m\u001b[1;33m)\u001b[0m\u001b[1;33m)\u001b[0m\u001b[1;33m\u001b[0m\u001b[1;33m\u001b[0m\u001b[0m\n\u001b[0;32m     21\u001b[0m \u001b[0mprint\u001b[0m\u001b[1;33m(\u001b[0m\u001b[0mnext\u001b[0m\u001b[1;33m(\u001b[0m\u001b[0miterator\u001b[0m\u001b[1;33m)\u001b[0m\u001b[1;33m)\u001b[0m\u001b[1;33m\u001b[0m\u001b[1;33m\u001b[0m\u001b[0m\n\u001b[1;32m---> 22\u001b[1;33m \u001b[0mprint\u001b[0m\u001b[1;33m(\u001b[0m\u001b[0mnext\u001b[0m\u001b[1;33m(\u001b[0m\u001b[0miterator\u001b[0m\u001b[1;33m)\u001b[0m\u001b[1;33m)\u001b[0m \u001b[1;31m#raise StopIteration\u001b[0m\u001b[1;33m\u001b[0m\u001b[1;33m\u001b[0m\u001b[0m\n\u001b[0m",
      "\u001b[1;32m~\\AppData\\Local\\Temp/ipykernel_7088/1645243037.py\u001b[0m in \u001b[0;36m__next__\u001b[1;34m(self)\u001b[0m\n\u001b[0;32m     11\u001b[0m             \u001b[1;32mreturn\u001b[0m \u001b[0mresult\u001b[0m\u001b[1;33m\u001b[0m\u001b[1;33m\u001b[0m\u001b[0m\n\u001b[0;32m     12\u001b[0m         \u001b[1;32melse\u001b[0m\u001b[1;33m:\u001b[0m\u001b[1;33m\u001b[0m\u001b[1;33m\u001b[0m\u001b[0m\n\u001b[1;32m---> 13\u001b[1;33m             \u001b[1;32mraise\u001b[0m \u001b[0mStopIteration\u001b[0m\u001b[1;33m\u001b[0m\u001b[1;33m\u001b[0m\u001b[0m\n\u001b[0m\u001b[0;32m     14\u001b[0m \u001b[0mobj\u001b[0m \u001b[1;33m=\u001b[0m \u001b[0mExponentTwo\u001b[0m\u001b[1;33m(\u001b[0m\u001b[1;36m5\u001b[0m\u001b[1;33m)\u001b[0m\u001b[1;33m\u001b[0m\u001b[1;33m\u001b[0m\u001b[0m\n\u001b[0;32m     15\u001b[0m \u001b[0miterator\u001b[0m \u001b[1;33m=\u001b[0m \u001b[0miter\u001b[0m\u001b[1;33m(\u001b[0m\u001b[0mobj\u001b[0m\u001b[1;33m)\u001b[0m\u001b[1;33m\u001b[0m\u001b[1;33m\u001b[0m\u001b[0m\n",
      "\u001b[1;31mStopIteration\u001b[0m: "
     ]
    }
   ],
   "source": [
    "class ExponentTwo():\n",
    "    def __init__(self,max1):\n",
    "        self.max1 = max1\n",
    "    def __iter__(self):\n",
    "        self.index = 0 # \n",
    "        return self\n",
    "    def __next__(self):\n",
    "        if self.index <= self.max1 : #True\n",
    "            result = 2 ** self.index\n",
    "            self.index +=1\n",
    "            return result\n",
    "        else:\n",
    "            raise StopIteration \n",
    "obj = ExponentTwo(5)\n",
    "iterator = iter(obj)\n",
    "print(next(iterator))\n",
    "print(next(iterator))\n",
    "print(next(iterator))\n",
    "print(next(iterator))\n",
    "print(next(iterator))\n",
    "print(next(iterator))\n",
    "print(next(iterator)) #raise StopIteration "
   ]
  },
  {
   "cell_type": "code",
   "execution_count": null,
   "id": "7e1b5850",
   "metadata": {},
   "outputs": [],
   "source": [
    "Practical Example >Range"
   ]
  },
  {
   "cell_type": "code",
   "execution_count": 10,
   "id": "fb8599d0",
   "metadata": {},
   "outputs": [
    {
     "name": "stdout",
     "output_type": "stream",
     "text": [
      "1\n",
      "2\n",
      "3\n",
      "4\n",
      "5\n",
      "6\n",
      "7\n",
      "8\n",
      "9\n"
     ]
    },
    {
     "ename": "StopIteration",
     "evalue": "",
     "output_type": "error",
     "traceback": [
      "\u001b[1;31m---------------------------------------------------------------------------\u001b[0m",
      "\u001b[1;31mStopIteration\u001b[0m                             Traceback (most recent call last)",
      "Input \u001b[1;32mIn [10]\u001b[0m, in \u001b[0;36m<cell line: 23>\u001b[1;34m()\u001b[0m\n\u001b[0;32m     21\u001b[0m \u001b[38;5;28mprint\u001b[39m(\u001b[38;5;28mnext\u001b[39m(obj))\u001b[38;5;66;03m# 8\u001b[39;00m\n\u001b[0;32m     22\u001b[0m \u001b[38;5;28mprint\u001b[39m(\u001b[38;5;28mnext\u001b[39m(obj)) \u001b[38;5;66;03m#9\u001b[39;00m\n\u001b[1;32m---> 23\u001b[0m \u001b[38;5;28mprint\u001b[39m(\u001b[38;5;28;43mnext\u001b[39;49m\u001b[43m(\u001b[49m\u001b[43mobj\u001b[49m\u001b[43m)\u001b[49m)\n",
      "Input \u001b[1;32mIn [10]\u001b[0m, in \u001b[0;36mMyRange.__next__\u001b[1;34m(self)\u001b[0m\n\u001b[0;32m      7\u001b[0m \u001b[38;5;28;01mdef\u001b[39;00m \u001b[38;5;21m__next__\u001b[39m(\u001b[38;5;28mself\u001b[39m):\n\u001b[0;32m      8\u001b[0m     \u001b[38;5;28;01mif\u001b[39;00m \u001b[38;5;28mself\u001b[39m\u001b[38;5;241m.\u001b[39mstart \u001b[38;5;241m>\u001b[39m\u001b[38;5;241m=\u001b[39m \u001b[38;5;28mself\u001b[39m\u001b[38;5;241m.\u001b[39mend : \u001b[38;5;66;03m#  10>10 False 11>10 True >>  1>=10\u001b[39;00m\n\u001b[1;32m----> 9\u001b[0m         \u001b[38;5;28;01mraise\u001b[39;00m \u001b[38;5;167;01mStopIteration\u001b[39;00m\n\u001b[0;32m     10\u001b[0m     current \u001b[38;5;241m=\u001b[39m \u001b[38;5;28mself\u001b[39m\u001b[38;5;241m.\u001b[39mstart\n\u001b[0;32m     11\u001b[0m     \u001b[38;5;28mself\u001b[39m\u001b[38;5;241m.\u001b[39mstart \u001b[38;5;241m+\u001b[39m\u001b[38;5;241m=\u001b[39m\u001b[38;5;241m1\u001b[39m\n",
      "\u001b[1;31mStopIteration\u001b[0m: "
     ]
    }
   ],
   "source": [
    "class MyRange():\n",
    "    def __init__(self,start,end):\n",
    "        self.start = start\n",
    "        self.end = end\n",
    "    def __iter__(self):\n",
    "        return self\n",
    "    def __next__(self):\n",
    "        if self.start >= self.end : #  10>10 False 11>10 True >>  1>=10\n",
    "            raise StopIteration\n",
    "        current = self.start\n",
    "        self.start +=1\n",
    "        return current\n",
    "obj = MyRange(1,10)\n",
    "print(next(obj)) #1\n",
    "print(next(obj))# 2\n",
    "print(next(obj)) #3\n",
    "print(next(obj))# 4\n",
    "print(next(obj)) #5\n",
    "print(next(obj))# 6\n",
    "print(next(obj)) #7\n",
    "print(next(obj))# 8\n",
    "print(next(obj)) #9\n",
    "print(next(obj))# 10"
   ]
  },
  {
   "cell_type": "code",
   "execution_count": null,
   "id": "77fbb273",
   "metadata": {},
   "outputs": [],
   "source": [
    "project "
   ]
  }
 ],
 "metadata": {
  "kernelspec": {
   "display_name": "Python 3 (ipykernel)",
   "language": "python",
   "name": "python3"
  },
  "language_info": {
   "codemirror_mode": {
    "name": "ipython",
    "version": 3
   },
   "file_extension": ".py",
   "mimetype": "text/x-python",
   "name": "python",
   "nbconvert_exporter": "python",
   "pygments_lexer": "ipython3",
   "version": "3.10.5"
  }
 },
 "nbformat": 4,
 "nbformat_minor": 5
}
