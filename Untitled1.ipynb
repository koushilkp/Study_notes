{
 "cells": [
  {
   "cell_type": "code",
   "execution_count": 1,
   "id": "1bdbeb18",
   "metadata": {},
   "outputs": [
    {
     "name": "stdout",
     "output_type": "stream",
     "text": [
      " ha chagea1\n",
      " ha chagea3\n",
      " ha chagea6\n",
      " ha chagea10\n",
      " ha chagea15\n",
      " ha chagea21\n",
      " ha chagea28\n",
      " ha chagea36\n",
      " ha chagea45\n",
      " ha chagea55\n",
      " ha chagea66\n",
      " ha chagea78\n"
     ]
    }
   ],
   "source": [
    "num=12\n",
    "i=1\n",
    "sum=0\n",
    "while i<=num:\n",
    "    sum+=i\n",
    "    \n",
    "    print(f\" ha chagea{sum}\")\n",
    "    i+=1"
   ]
  },
  {
   "cell_type": "code",
   "execution_count": 12,
   "id": "618b4cd1",
   "metadata": {},
   "outputs": [
    {
     "ename": "SyntaxError",
     "evalue": "invalid syntax (468711012.py, line 2)",
     "output_type": "error",
     "traceback": [
      "\u001b[1;36m  Input \u001b[1;32mIn [12]\u001b[1;36m\u001b[0m\n\u001b[1;33m    count=\u001b[0m\n\u001b[1;37m          ^\u001b[0m\n\u001b[1;31mSyntaxError\u001b[0m\u001b[1;31m:\u001b[0m invalid syntax\n"
     ]
    }
   ],
   "source": [
    "a=[4,8,9,7,6]\n",
    "count=\n",
    "while i is a:\n",
    "    if i%2==0:\n",
    "        count=count+1\n",
    "    print(count)\n",
    "    "
   ]
  },
  {
   "cell_type": "code",
   "execution_count": null,
   "id": "c92ebbd8",
   "metadata": {},
   "outputs": [],
   "source": []
  }
 ],
 "metadata": {
  "kernelspec": {
   "display_name": "Python 3 (ipykernel)",
   "language": "python",
   "name": "python3"
  },
  "language_info": {
   "codemirror_mode": {
    "name": "ipython",
    "version": 3
   },
   "file_extension": ".py",
   "mimetype": "text/x-python",
   "name": "python",
   "nbconvert_exporter": "python",
   "pygments_lexer": "ipython3",
   "version": "3.10.5"
  }
 },
 "nbformat": 4,
 "nbformat_minor": 5
}
