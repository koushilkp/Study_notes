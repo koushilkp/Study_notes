{
 "cells": [
  {
   "cell_type": "raw",
   "id": "3c8f2cff",
   "metadata": {},
   "source": [
    "1) +\n",
    "2) *\n",
    "3) .\n",
    "4) ?"
   ]
  },
  {
   "cell_type": "markdown",
   "id": "8327463c",
   "metadata": {},
   "source": [
    "## 4) ? "
   ]
  },
  {
   "cell_type": "code",
   "execution_count": 1,
   "id": "947a5146",
   "metadata": {},
   "outputs": [],
   "source": [
    "import re"
   ]
  },
  {
   "cell_type": "raw",
   "id": "8e5af00c",
   "metadata": {},
   "source": [
    "It matches exactly zero or one occurence"
   ]
  },
  {
   "cell_type": "code",
   "execution_count": 2,
   "id": "195780ec",
   "metadata": {},
   "outputs": [
    {
     "name": "stdout",
     "output_type": "stream",
     "text": [
      "['pyt', 'pyt', 'pyt']\n"
     ]
    }
   ],
   "source": [
    "text = \"python and data science pythhhhon pyttthon\"\n",
    "result = re.findall(\"pyt\",text)\n",
    "print(result)"
   ]
  },
  {
   "cell_type": "code",
   "execution_count": 3,
   "id": "397fb460",
   "metadata": {},
   "outputs": [
    {
     "name": "stdout",
     "output_type": "stream",
     "text": [
      "['pyt', 'pyt', 'pyttt']\n"
     ]
    }
   ],
   "source": [
    "text = \"python and data science pythhhhon pyttthon\"\n",
    "result = re.findall(\"pyt+\",text)\n",
    "print(result) # pyt pyt pyttt"
   ]
  },
  {
   "cell_type": "code",
   "execution_count": 4,
   "id": "09c10ad9",
   "metadata": {},
   "outputs": [
    {
     "name": "stdout",
     "output_type": "stream",
     "text": [
      "['pyt', 'pyt', 'pyttt']\n"
     ]
    }
   ],
   "source": [
    "text = \"python and data science pythhhhon pyttthon\"\n",
    "result = re.findall(\"pyt*\",text)\n",
    "print(result) # pyt pyt pyttt"
   ]
  },
  {
   "cell_type": "code",
   "execution_count": 5,
   "id": "a0e9fff6",
   "metadata": {},
   "outputs": [
    {
     "name": "stdout",
     "output_type": "stream",
     "text": [
      "['pyth', 'pyth', 'pytt']\n"
     ]
    }
   ],
   "source": [
    "text = \"python and data science pythhhhon pyttthon\"\n",
    "result = re.findall(\"pyt.\",text)\n",
    "print(result) # pyth pyth pytt"
   ]
  },
  {
   "cell_type": "code",
   "execution_count": 3,
   "id": "3a2e59b4",
   "metadata": {},
   "outputs": [
    {
     "name": "stdout",
     "output_type": "stream",
     "text": [
      "['pry', 'pry', 'pry', 'pry', 'pry']\n"
     ]
    }
   ],
   "source": [
    "import re\n",
    "text = \"prython and data science prythhhhon pryhon prytttthon 545646adsgjgd pryhonnn\"\n",
    "result = re.findall(\"pry?\",text) # exactly matches zero or one occurence\n",
    "print(result) # pyt pyt py pyt py"
   ]
  },
  {
   "cell_type": "code",
   "execution_count": 4,
   "id": "884c2e48",
   "metadata": {},
   "outputs": [
    {
     "name": "stdout",
     "output_type": "stream",
     "text": [
      "['python', 'pyhon', 'pyhon']\n"
     ]
    }
   ],
   "source": [
    "import re\n",
    "text = \"python and data science pythhhhon pyhon pytttthon 545646adsgjgd pyhonnn\"\n",
    "result1 = re.findall(\"pyt?hon\",text) # exactly matches zero or one occurence   \n",
    "print(result1)  #python"
   ]
  },
  {
   "cell_type": "code",
   "execution_count": 5,
   "id": "46ec43fb",
   "metadata": {},
   "outputs": [
    {
     "name": "stdout",
     "output_type": "stream",
     "text": [
      "['python', 'pythhhhon', 'pyhon', 'pyhon']\n"
     ]
    }
   ],
   "source": [
    "text = \"python and data science pythhhhon pyhon pytttthon 545646adsgjgd pyhonnn\"\n",
    "result = re.findall(\"pyt?h+on\",text) # exactly matches zero or one occurence   *********\n",
    "print(result)  #python"
   ]
  },
  {
   "cell_type": "code",
   "execution_count": 7,
   "id": "5fb996b0",
   "metadata": {},
   "outputs": [
    {
     "name": "stdout",
     "output_type": "stream",
     "text": [
      "['python', 'pythhhhon', 'pyhon', 'pytttthon', 'pyhon']\n"
     ]
    }
   ],
   "source": [
    "text = \"python and data science pythhhhon pyhon pytttthon 545646adsgjgd pyhonnn\"\n",
    "result = re.findall(\"pyt*h+on\",text) # exactly matches zero or one occurence   *********\n",
    "print(result)  #python"
   ]
  },
  {
   "cell_type": "code",
   "execution_count": 8,
   "id": "596c928e",
   "metadata": {},
   "outputs": [
    {
     "name": "stdout",
     "output_type": "stream",
     "text": [
      "['python', 'python', 'pyhon', 'pyhon']\n"
     ]
    }
   ],
   "source": [
    "text = \"python and data science pythonnnnn pyhon pytttthon 545adsgjgd pyhonnn\"\n",
    "result = re.findall(\"pyt?h?on\",text) # exactly matches zero or one occurence\n",
    "print(result)  #python python pyhon pyhon"
   ]
  },
  {
   "cell_type": "code",
   "execution_count": 9,
   "id": "45d56130",
   "metadata": {},
   "outputs": [
    {
     "name": "stdout",
     "output_type": "stream",
     "text": [
      "['python', 'python', 'pytttthon']\n"
     ]
    }
   ],
   "source": [
    "text = \"python and data science pythonnnnn pyhon pytttthon 545adsgjgd pyhonnn\"\n",
    "result = re.findall(\"pyt+h?on\",text) # exactly matches zero or one occurence\n",
    "print(result)  #python python pytttthon"
   ]
  },
  {
   "cell_type": "code",
   "execution_count": 10,
   "id": "7d65bf4f",
   "metadata": {},
   "outputs": [
    {
     "name": "stdout",
     "output_type": "stream",
     "text": [
      "['python', 'python', 'pyhon', 'pytttthon', 'pyhon']\n"
     ]
    }
   ],
   "source": [
    "text = \"python and data science pythonnnnn pyhon pytttthon 545adsgjgd pyhonnn\"\n",
    "result = re.findall(\"pyt*h?on\",text) # exactly matches zero or one occurence\n",
    "print(result)  #python python pyhon pytttthon pyhon"
   ]
  },
  {
   "cell_type": "raw",
   "id": "f57b71c7",
   "metadata": {},
   "source": [
    "1) + > one or more occurences\n",
    "2) * > Zero or more occurences\n",
    "3) . > any char except new line (\\n)\n",
    "4) ? > exactly zero or one occurence"
   ]
  },
  {
   "cell_type": "markdown",
   "id": "f735b348",
   "metadata": {},
   "source": [
    "## 5) ^ Power /Exponent"
   ]
  },
  {
   "cell_type": "raw",
   "id": "0d140b99",
   "metadata": {},
   "source": [
    "^ >>> Startswith  (1st index / position)"
   ]
  },
  {
   "cell_type": "code",
   "execution_count": 12,
   "id": "aa72bba3",
   "metadata": {},
   "outputs": [
    {
     "data": {
      "text/plain": [
       "True"
      ]
     },
     "execution_count": 12,
     "metadata": {},
     "output_type": "execute_result"
    }
   ],
   "source": [
    "text = \"python and data science pythonnnnn pyhon pytttthon 545adsgjgd pyhonnn\"\n",
    "text.startswith(\"p\")"
   ]
  },
  {
   "cell_type": "code",
   "execution_count": 13,
   "id": "c052ce7c",
   "metadata": {},
   "outputs": [
    {
     "data": {
      "text/plain": [
       "False"
      ]
     },
     "execution_count": 13,
     "metadata": {},
     "output_type": "execute_result"
    }
   ],
   "source": [
    "text = \"python and data science pythonnnnn pyhon pytttthon 545adsgjgd pyhonnn\"\n",
    "text.startswith(\"P\")"
   ]
  },
  {
   "cell_type": "code",
   "execution_count": 15,
   "id": "46f89ee6",
   "metadata": {},
   "outputs": [
    {
     "name": "stdout",
     "output_type": "stream",
     "text": [
      "['p']\n"
     ]
    }
   ],
   "source": [
    "text = \"python and data science pythonnnnn pyhon pytttthon 545adsgjgd pyhonnn\"\n",
    "result = re.findall(\"^p\",text)\n",
    "print(result)"
   ]
  },
  {
   "cell_type": "code",
   "execution_count": 13,
   "id": "d20dfb3c",
   "metadata": {},
   "outputs": [
    {
     "name": "stdout",
     "output_type": "stream",
     "text": [
      "['Python']\n"
     ]
    }
   ],
   "source": [
    "text = \"Python and data science pythonnnnn pyhon pytttthon 545adsgjgd pyhonnn\"\n",
    "result = re.findall(\"^Python\",text)\n",
    "print(result)"
   ]
  },
  {
   "cell_type": "code",
   "execution_count": 9,
   "id": "7cf22eff",
   "metadata": {},
   "outputs": [
    {
     "name": "stdout",
     "output_type": "stream",
     "text": [
      "['Python and data science']\n"
     ]
    }
   ],
   "source": [
    "text = \"Python and data science pythonnnnn pyhon pytttthon 545adsgjgd pyhonnn\"\n",
    "result = re.findall(\"^Python and data science\",text)        #**********\n",
    "print(result)"
   ]
  },
  {
   "cell_type": "code",
   "execution_count": 10,
   "id": "5151f426",
   "metadata": {},
   "outputs": [
    {
     "name": "stdout",
     "output_type": "stream",
     "text": [
      "['python and data science']\n"
     ]
    }
   ],
   "source": [
    "text = \"python and data science pythonnnnn pyhon pytttthon 545adsgjgd pyhonnn\"\n",
    "result = re.findall(\"^python and data science\",text)        #**********\n",
    "print(result)"
   ]
  },
  {
   "cell_type": "code",
   "execution_count": 17,
   "id": "3ca1a3f8",
   "metadata": {},
   "outputs": [
    {
     "name": "stdout",
     "output_type": "stream",
     "text": [
      "[]\n"
     ]
    }
   ],
   "source": [
    "text = \"python and data science pythonnnnn pyhon pytttthon 545adsgjgd pyhonnn\"\n",
    "result = re.findall(\"^Python\",text)\n",
    "print(result)"
   ]
  },
  {
   "cell_type": "code",
   "execution_count": 19,
   "id": "688c899a",
   "metadata": {},
   "outputs": [
    {
     "name": "stdout",
     "output_type": "stream",
     "text": [
      "['pytho']\n"
     ]
    }
   ],
   "source": [
    "text = \"python and data science pythonnnnn pyhon pytttthon 545adsgjgd pyhonnn\"\n",
    "result = re.findall(\"^[a-z]{5}\",text)\n",
    "print(result)"
   ]
  },
  {
   "cell_type": "code",
   "execution_count": 20,
   "id": "30985434",
   "metadata": {},
   "outputs": [
    {
     "name": "stdout",
     "output_type": "stream",
     "text": [
      "['pytho', 'scien', 'pytho', 'nnnnn', 'pyhon', 'pyttt', 'adsgj', 'pyhon']\n"
     ]
    }
   ],
   "source": [
    "text = \"python and data science pythonnnnn pyhon pytttthon 545adsgjgd pyhonnn\"\n",
    "result = re.findall(\"[a-z]{5}\",text)\n",
    "print(result)"
   ]
  },
  {
   "cell_type": "code",
   "execution_count": 23,
   "id": "26fbbcf4",
   "metadata": {},
   "outputs": [
    {
     "name": "stdout",
     "output_type": "stream",
     "text": [
      "[' 545']\n"
     ]
    }
   ],
   "source": [
    "text = \"python and data science pythonnnnn pyhon pytttthon 545adsgjgd pyhonnn\"\n",
    "result = re.findall(\"[^a-z]{4}\",text) # it works as negation if we put inside the bracket\n",
    "print(result)"
   ]
  },
  {
   "cell_type": "code",
   "execution_count": 15,
   "id": "3bfa23e6",
   "metadata": {},
   "outputs": [
    {
     "name": "stdout",
     "output_type": "stream",
     "text": [
      "['4566']\n"
     ]
    }
   ],
   "source": [
    "adhhar = \"4566 7895 1133 nhns\"\n",
    "result = re.findall(\"^[0-9]+\",adhhar)\n",
    "print(result)"
   ]
  },
  {
   "cell_type": "code",
   "execution_count": 16,
   "id": "e5418303",
   "metadata": {},
   "outputs": [
    {
     "name": "stdout",
     "output_type": "stream",
     "text": [
      "['4']\n"
     ]
    }
   ],
   "source": [
    "adhhar = \"4566 7895 1133 nhns\"\n",
    "result = re.findall(\"^[0-9]\",adhhar)  #*******\n",
    "print(result)"
   ]
  },
  {
   "cell_type": "code",
   "execution_count": 21,
   "id": "7501552c",
   "metadata": {},
   "outputs": [
    {
     "name": "stdout",
     "output_type": "stream",
     "text": [
      "['4566_7859_1133_nhns']\n"
     ]
    }
   ],
   "source": [
    "adhhar = \"4566_7859_1133_nhns\"\n",
    "result = re.findall(\"^\\w+\",adhhar)    # *********\n",
    "print(result)"
   ]
  },
  {
   "cell_type": "code",
   "execution_count": 25,
   "id": "1fa1232c",
   "metadata": {},
   "outputs": [
    {
     "name": "stdout",
     "output_type": "stream",
     "text": [
      "['4566']\n"
     ]
    }
   ],
   "source": [
    "adhhar = \"4566 7895 1133 nhns\"\n",
    "result = re.findall(\"^\\d+\",adhhar)\n",
    "print(result)"
   ]
  },
  {
   "cell_type": "markdown",
   "id": "d5275a93",
   "metadata": {},
   "source": [
    "## 6) Endswith() >> $"
   ]
  },
  {
   "cell_type": "code",
   "execution_count": 28,
   "id": "c98dadc6",
   "metadata": {},
   "outputs": [
    {
     "name": "stdout",
     "output_type": "stream",
     "text": [
      "['s']\n",
      "String is ending with s\n"
     ]
    }
   ],
   "source": [
    "addhar = \"4566 7895 1133 nhns\"\n",
    "result = re.findall(\"s$\",addhar)\n",
    "print(result)\n",
    "if result:\n",
    "    print(\"String is ending with s\")\n",
    "else:\n",
    "    print(\"String is not ending with s\")\n",
    "    "
   ]
  },
  {
   "cell_type": "code",
   "execution_count": 28,
   "id": "848c6dc4",
   "metadata": {},
   "outputs": [
    {
     "name": "stdout",
     "output_type": "stream",
     "text": [
      "['s']\n",
      "String is ending with s\n"
     ]
    }
   ],
   "source": [
    "addhar = \"4566 7895 1133 nhns\"\n",
    "result = re.findall(\"s$\",addhar)\n",
    "print(result)\n",
    "if result:\n",
    "    print(\"String is ending with s\")\n",
    "else:\n",
    "    print(\"String is not ending with s\")\n",
    "    "
   ]
  },
  {
   "cell_type": "code",
   "execution_count": 32,
   "id": "b229d5ef",
   "metadata": {},
   "outputs": [
    {
     "name": "stdout",
     "output_type": "stream",
     "text": [
      "[]\n",
      "String is not ending with number\n"
     ]
    }
   ],
   "source": [
    "addhar = \"4566 7895 1133 nhns\"\n",
    "result = re.findall(\"\\d$\",addhar)\n",
    "print(result)\n",
    "if result:\n",
    "    print(\"String is ending with number\")\n",
    "else:\n",
    "    print(\"String is not ending with number\")"
   ]
  },
  {
   "cell_type": "code",
   "execution_count": 33,
   "id": "6d857f49",
   "metadata": {},
   "outputs": [
    {
     "name": "stdout",
     "output_type": "stream",
     "text": [
      "['4']\n",
      "String is ending with number\n"
     ]
    }
   ],
   "source": [
    "addhar = \"4566 7895 1133 nhns\"\n",
    "result = re.findall(\"^\\d\",addhar)\n",
    "print(result)\n",
    "if result:\n",
    "    print(\"String is ending with number\")\n",
    "else:\n",
    "    print(\"String is not ending with number\")"
   ]
  },
  {
   "cell_type": "code",
   "execution_count": 34,
   "id": "c238ba2c",
   "metadata": {},
   "outputs": [
    {
     "name": "stdout",
     "output_type": "stream",
     "text": [
      "['python and data science pythonnnnnnn pyhon pytttthon machine']\n"
     ]
    }
   ],
   "source": [
    "text = \"python and data science pythonnnnnnn pyhon pytttthon machine\"\n",
    "result = re.findall(\"^p.*\",text)\n",
    "print(result)"
   ]
  },
  {
   "cell_type": "code",
   "execution_count": 35,
   "id": "61ddf20f",
   "metadata": {},
   "outputs": [
    {
     "name": "stdout",
     "output_type": "stream",
     "text": [
      "['python and data science pythonnnnnnn pyhon pytttthon machine1']\n"
     ]
    }
   ],
   "source": [
    "text = \"python and data science pythonnnnnnn pyhon pytttthon machine1\"\n",
    "result = re.findall(\"^p.*1$\",text)\n",
    "print(result)"
   ]
  },
  {
   "cell_type": "code",
   "execution_count": 36,
   "id": "f1f567ec",
   "metadata": {},
   "outputs": [
    {
     "name": "stdout",
     "output_type": "stream",
     "text": [
      "[]\n"
     ]
    }
   ],
   "source": [
    "text = \"python and data science pythonnnnnnn pyhon pytttthon machine2\"\n",
    "result = re.findall(\"^p.*1$\",text)\n",
    "print(result)"
   ]
  },
  {
   "cell_type": "code",
   "execution_count": 38,
   "id": "05b5b97a",
   "metadata": {},
   "outputs": [
    {
     "name": "stdout",
     "output_type": "stream",
     "text": [
      "['4']\n"
     ]
    }
   ],
   "source": [
    "text = \"\"\"\n",
    "leaning1234\"\"\"\n",
    "result = re.findall(\"4$\",text)\n",
    "print(result)"
   ]
  },
  {
   "cell_type": "code",
   "execution_count": 39,
   "id": "6aa7cb72",
   "metadata": {},
   "outputs": [
    {
     "name": "stdout",
     "output_type": "stream",
     "text": [
      "['leaning1234']\n"
     ]
    }
   ],
   "source": [
    "text = \"\"\"\n",
    "leaning1234\"\"\"\n",
    "result = re.findall(\".*4$\",text)\n",
    "print(result)"
   ]
  },
  {
   "cell_type": "markdown",
   "id": "2ccb484b",
   "metadata": {},
   "source": [
    "## 7) or (|)"
   ]
  },
  {
   "cell_type": "raw",
   "id": "d75e35e8",
   "metadata": {},
   "source": [
    "used to find multiple string"
   ]
  },
  {
   "cell_type": "code",
   "execution_count": 40,
   "id": "3c8d8195",
   "metadata": {},
   "outputs": [
    {
     "name": "stdout",
     "output_type": "stream",
     "text": [
      "['python']\n"
     ]
    }
   ],
   "source": [
    "text = \"Python and data science python\"\n",
    "result = re.findall(\"python\",text)\n",
    "print(result)"
   ]
  },
  {
   "cell_type": "code",
   "execution_count": 41,
   "id": "9d7caef3",
   "metadata": {},
   "outputs": [
    {
     "name": "stdout",
     "output_type": "stream",
     "text": [
      "['Python', 'python']\n"
     ]
    }
   ],
   "source": [
    "text = \"Python and data science python\"\n",
    "result = re.findall(\"python|Python\",text)\n",
    "print(result)"
   ]
  },
  {
   "cell_type": "code",
   "execution_count": 42,
   "id": "58c9c305",
   "metadata": {},
   "outputs": [
    {
     "name": "stdout",
     "output_type": "stream",
     "text": [
      "['10-08-2022', '2/8/22']\n"
     ]
    }
   ],
   "source": [
    "text = \"\"\"10-08-2022\n",
    "          2/8/22\n",
    "          22 Aug 2022\n",
    "          05 MAY 2022\"\"\"\n",
    "data = re.findall(\"\\d{1,2}[-/]\\d{1,2}[-/]\\d{2,4}\",text)\n",
    "print(data)"
   ]
  },
  {
   "cell_type": "code",
   "execution_count": 43,
   "id": "8535a765",
   "metadata": {},
   "outputs": [
    {
     "name": "stdout",
     "output_type": "stream",
     "text": [
      "['22 Aug 2022', '05 MAY 2022']\n"
     ]
    }
   ],
   "source": [
    "text = \"\"\"10-08-2022\n",
    "          2/8/22\n",
    "          22 Aug 2022\n",
    "          05 MAY 2022\"\"\"\n",
    "data = re.findall(\"\\d{1,2}[\\s][A-z]{3}\\s\\d{2,4}\",text)\n",
    "print(data)"
   ]
  },
  {
   "cell_type": "code",
   "execution_count": 44,
   "id": "3a863874",
   "metadata": {},
   "outputs": [
    {
     "name": "stdout",
     "output_type": "stream",
     "text": [
      "['10-08-2022', '2/8/22', '22 Aug 2022', '05 MAY 2022']\n"
     ]
    }
   ],
   "source": [
    "text = \"\"\"10-08-2022\n",
    "          2/8/22\n",
    "          22 Aug 2022\n",
    "          05 MAY 2022\"\"\"\n",
    "data = re.findall(\"\\d{1,2}[\\s][A-z]{3}\\s\\d{2,4}|\\d{1,2}[-/]\\d{1,2}[-/]\\d{2,4}\",text)\n",
    "print(data)"
   ]
  },
  {
   "cell_type": "markdown",
   "id": "3b03ceb5",
   "metadata": {},
   "source": [
    "## 8) ( )"
   ]
  },
  {
   "cell_type": "raw",
   "id": "b4d80230",
   "metadata": {},
   "source": [
    "group of char > sequence"
   ]
  },
  {
   "cell_type": "code",
   "execution_count": 45,
   "id": "256107ae",
   "metadata": {},
   "outputs": [
    {
     "name": "stdout",
     "output_type": "stream",
     "text": [
      "['+91 9974855123', '+91 8523697410']\n"
     ]
    }
   ],
   "source": [
    "text = \"\"\"Mobile number is: +91 9974855123\n",
    "        +91 8523697410\n",
    "        9865664562\n",
    "        9845625458\"\"\"\n",
    "result = re.findall(\"[+]\\d{2}\\s\\d{10}\",text)\n",
    "print(result)\n"
   ]
  },
  {
   "cell_type": "code",
   "execution_count": 46,
   "id": "d7b055fd",
   "metadata": {},
   "outputs": [
    {
     "name": "stdout",
     "output_type": "stream",
     "text": [
      "['+91 9974855123', '+91 8523697410', '9865664562', '9845625458']\n"
     ]
    }
   ],
   "source": [
    "text = \"\"\"Mobile number is: +91 9974855123\n",
    "        +91 8523697410\n",
    "        9865664562\n",
    "        9845625458\"\"\"\n",
    "result = re.findall(\"[+]\\d{2}\\s\\d{10}|\\d{10}\",text)\n",
    "print(result)"
   ]
  },
  {
   "cell_type": "code",
   "execution_count": 47,
   "id": "110b5914",
   "metadata": {},
   "outputs": [
    {
     "name": "stdout",
     "output_type": "stream",
     "text": [
      "['+91', '+91']\n"
     ]
    }
   ],
   "source": [
    "text = \"\"\"Mobile number is: +91 9974855123\n",
    "        +91 8523697410\n",
    "        9865664562\n",
    "        9845625458\"\"\"\n",
    "result = re.findall(\"([+]\\d{2})\",text)\n",
    "print(result)"
   ]
  },
  {
   "cell_type": "code",
   "execution_count": 48,
   "id": "390d6990",
   "metadata": {},
   "outputs": [
    {
     "name": "stdout",
     "output_type": "stream",
     "text": [
      "['+91 9974855123', '+91 8523697410']\n"
     ]
    }
   ],
   "source": [
    "text = \"\"\"Mobile number is: +91 9974855123 \n",
    "        +91 8523697410\n",
    "        9865664562\n",
    "        9845625458\"\"\"\n",
    "result = re.findall(\"([+]\\d{2}.*)\",text)\n",
    "print(result)"
   ]
  },
  {
   "cell_type": "code",
   "execution_count": 4,
   "id": "ca964d3a",
   "metadata": {},
   "outputs": [
    {
     "name": "stdout",
     "output_type": "stream",
     "text": [
      "['+91) 9974855123', '+91) 8523697410']\n"
     ]
    }
   ],
   "source": [
    "text = \"\"\"Mobile number is: (+91) 9974855123\n",
    "        (+91) 8523697410\n",
    "        9865664562\n",
    "        9845625458\"\"\"\n",
    "result = re.findall(\"([+]\\d{2}.*)\",text)\n",
    "print(result)"
   ]
  },
  {
   "cell_type": "code",
   "execution_count": 50,
   "id": "e5180b6d",
   "metadata": {},
   "outputs": [
    {
     "name": "stdout",
     "output_type": "stream",
     "text": [
      "['(+91) 9974855123', '(+91) 8523697410']\n"
     ]
    }
   ],
   "source": [
    "text = \"\"\"Mobile number is: (+91) 9974855123\n",
    "        (+91) 8523697410\n",
    "        9865664562\n",
    "        9845625458\"\"\"\n",
    "result = re.findall(\"\\([+]\\d{2}\\)\\s\\d{10}\",text)\n",
    "print(result)"
   ]
  },
  {
   "cell_type": "markdown",
   "id": "e91c338d",
   "metadata": {},
   "source": [
    "## 5) Compile"
   ]
  },
  {
   "cell_type": "raw",
   "id": "843492e9",
   "metadata": {},
   "source": [
    "To convert pattern into object"
   ]
  },
  {
   "cell_type": "code",
   "execution_count": 7,
   "id": "c57c207b",
   "metadata": {},
   "outputs": [
    {
     "name": "stdout",
     "output_type": "stream",
     "text": [
      "['4567-2345-7895']\n"
     ]
    }
   ],
   "source": [
    "import re\n",
    "text = \"Addhar number is 4567-2345-7895\"\n",
    "result = re.findall(\"\\d{4}[-]\\d{4}[-]\\d{4}\",text)\n",
    "print(result)"
   ]
  },
  {
   "cell_type": "code",
   "execution_count": 8,
   "id": "ab9500d2",
   "metadata": {},
   "outputs": [
    {
     "name": "stdout",
     "output_type": "stream",
     "text": [
      "4567-2345-7895\n"
     ]
    }
   ],
   "source": [
    "text = \"Adhar number is 4567-2345-7895\"\n",
    "pattern = re.compile(\"\\d{4}[-]\\d{4}[-]\\d{4}\") # to create an object\n",
    "# print(pattern)\n",
    "result = pattern.search(text) \n",
    "print(result.group())"
   ]
  },
  {
   "cell_type": "code",
   "execution_count": 6,
   "id": "dc6010c4",
   "metadata": {},
   "outputs": [
    {
     "name": "stdout",
     "output_type": "stream",
     "text": [
      "4566-2345-7895\n"
     ]
    }
   ],
   "source": [
    "text = \"Addhar number is 4566-2345-7895\"\n",
    "\n",
    "result = pattern.search(text)\n",
    "\n",
    "print(result.group())"
   ]
  },
  {
   "cell_type": "code",
   "execution_count": null,
   "id": "fe7c5668",
   "metadata": {},
   "outputs": [],
   "source": []
  },
  {
   "cell_type": "code",
   "execution_count": null,
   "id": "e279f5f9",
   "metadata": {},
   "outputs": [],
   "source": []
  },
  {
   "cell_type": "code",
   "execution_count": null,
   "id": "abc9b1e9",
   "metadata": {},
   "outputs": [],
   "source": []
  }
 ],
 "metadata": {
  "kernelspec": {
   "display_name": "Python 3",
   "language": "python",
   "name": "python3"
  },
  "language_info": {
   "codemirror_mode": {
    "name": "ipython",
    "version": 3
   },
   "file_extension": ".py",
   "mimetype": "text/x-python",
   "name": "python",
   "nbconvert_exporter": "python",
   "pygments_lexer": "ipython3",
   "version": "3.8.8"
  }
 },
 "nbformat": 4,
 "nbformat_minor": 5
}
