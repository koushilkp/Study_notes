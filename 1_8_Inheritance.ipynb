{
 "cells": [
  {
   "cell_type": "code",
   "execution_count": 5,
   "id": "cbf5aec7",
   "metadata": {},
   "outputs": [
    {
     "data": {
      "text/plain": [
       "720"
      ]
     },
     "execution_count": 5,
     "metadata": {},
     "output_type": "execute_result"
    }
   ],
   "source": [
    "def  get_fact_rac(n):\n",
    "    if n==1:\n",
    "        return 1\n",
    "    elif n<1:\n",
    "        return print(\"Enter postive no.\")\n",
    "    elif n==0:\n",
    "        return 1\n",
    "    else:\n",
    "        return n* get_fact_rac(n-1)\n",
    "#     print(fact)\n",
    "n=6\n",
    "get_fact_rac(n)"
   ]
  },
  {
   "cell_type": "code",
   "execution_count": 16,
   "id": "19f5af73",
   "metadata": {},
   "outputs": [
    {
     "name": "stdout",
     "output_type": "stream",
     "text": [
      "Enter the postive number=5\n"
     ]
    },
    {
     "data": {
      "text/plain": [
       "120"
      ]
     },
     "execution_count": 16,
     "metadata": {},
     "output_type": "execute_result"
    }
   ],
   "source": [
    "def fact(i):\n",
    "    if i <0:\n",
    "        return \"Enter the Postive no\"\n",
    "    elif i==1:\n",
    "        return 1\n",
    "    elif i==0:\n",
    "        return 1\n",
    "    else:\n",
    "        return i* fact(i-1)\n",
    "        print(i)\n",
    "p=int(input(\"Enter the postive number=\"))\n",
    "fact(p)"
   ]
  },
  {
   "cell_type": "code",
   "execution_count": null,
   "id": "1e1eabc1",
   "metadata": {},
   "outputs": [],
   "source": []
  },
  {
   "cell_type": "markdown",
   "id": "32353f59",
   "metadata": {},
   "source": [
    "## Calling init method of parent class"
   ]
  },
  {
   "cell_type": "code",
   "execution_count": null,
   "id": "a057546a",
   "metadata": {},
   "outputs": [],
   "source": [
    "classname.__init__(self,arg1,arg2)\n",
    "super().__init__(arg1,arg2) # it is use to call init method of pernet class\n",
    " "
   ]
  },
  {
   "cell_type": "markdown",
   "id": "c91db9ab",
   "metadata": {},
   "source": [
    "## Types of Inheritance"
   ]
  },
  {
   "cell_type": "raw",
   "id": "8b5dd113",
   "metadata": {},
   "source": [
    "1) Single Inheritance\n",
    "2) Multi level Inheritance\n",
    "3) Multiple Inheritance\n",
    "4) Hierachical Inheritance\n",
    "5) Hybrid Inheritance"
   ]
  },
  {
   "cell_type": "markdown",
   "id": "607d6547",
   "metadata": {},
   "source": [
    "## 1) Single Inheritance"
   ]
  },
  {
   "cell_type": "code",
   "execution_count": 3,
   "id": "ca184165",
   "metadata": {},
   "outputs": [
    {
     "name": "stdout",
     "output_type": "stream",
     "text": [
      "Parent class method\n",
      "child class\n"
     ]
    }
   ],
   "source": [
    "class Parent():\n",
    "    def get_test(self):\n",
    "        print(\"Parent class method\")\n",
    "class ChildClass(Parent):\n",
    "    def get_test1(self):\n",
    "        print(\"child class\")\n",
    "obj=ChildClass()\n",
    "obj.get_test()\n",
    "obj.get_test1()"
   ]
  },
  {
   "cell_type": "markdown",
   "id": "702727d1",
   "metadata": {},
   "source": [
    "## 2) Multi level inheritance"
   ]
  },
  {
   "cell_type": "raw",
   "id": "fd52c513",
   "metadata": {},
   "source": [
    "# if we want to use class -1 properties in class -2 and \n",
    "                        class-2 properties in class-3 and \n",
    "                        class -3 properties in class -4 \n",
    "\n",
    "so on then we can use multi level inheritance concept"
   ]
  },
  {
   "cell_type": "code",
   "execution_count": null,
   "id": "0653e713",
   "metadata": {},
   "outputs": [],
   "source": [
    "class GrandFather(): # Parent class/Base class\n",
    "    pass\n",
    "class Father(GrandFather):# Derived class1/Child class-1\n",
    "    pass\n",
    "class Child(Father): # Derived class 2/ Child class 2\n",
    "    pass"
   ]
  },
  {
   "cell_type": "code",
   "execution_count": 11,
   "id": "89c6cb0e",
   "metadata": {},
   "outputs": [
    {
     "name": "stdout",
     "output_type": "stream",
     "text": [
      "We are in init method of child class\n",
      "This is addition method\n",
      " Addition of 44 and 12 is = 56\n"
     ]
    }
   ],
   "source": [
    "class GrandFather():\n",
    "    variable = \"Python\" # class variabel\n",
    "    def get_addition(self,x,y):\n",
    "        print(\"This is addition method\")\n",
    "        add  = x + y\n",
    "        print(f\" Addition of {x} and {y} is = {add}\")\n",
    "class FatherClass(GrandFather):\n",
    "    def get_multiplication(self,w,e):\n",
    "        multi=w*e\n",
    "        print(f\"Multiplication method {w} and {e} is {multi} ==\")\n",
    "class ChildClass(FatherClass):\n",
    "    def __init__(self,a,b):\n",
    "        self.a = a \n",
    "        self.b = b\n",
    "        print(\"We are in init method of child class\")\n",
    "obj = ChildClass(100,200)\n",
    "obj.get_addition(44,12)\n",
    "# obj.get_multiplication(1,2)\n",
    "# obj.variable\n",
    "# obj=FatherClass()\n",
    "# obj.get_multiplication()"
   ]
  },
  {
   "cell_type": "markdown",
   "id": "743ab9d0",
   "metadata": {},
   "source": [
    "## 3) Multiple inheritance"
   ]
  },
  {
   "cell_type": "code",
   "execution_count": null,
   "id": "ffc5cc51",
   "metadata": {},
   "outputs": [],
   "source": [
    "# we can call multiple classes in child class\n",
    "Syntax>\n",
    "class Father():# Parent\n",
    "    pass\n",
    "class Mother(): # Parent\n",
    "    pass\n",
    "class Child(Father,Mother):\n",
    "    pass\n",
    "obj = Child()"
   ]
  },
  {
   "cell_type": "code",
   "execution_count": 33,
   "id": "f7451961",
   "metadata": {},
   "outputs": [
    {
     "name": "stdout",
     "output_type": "stream",
     "text": [
      "We are in init method of child class\n",
      "Multiplication method\n"
     ]
    },
    {
     "data": {
      "text/plain": [
       "-4"
      ]
     },
     "execution_count": 33,
     "metadata": {},
     "output_type": "execute_result"
    }
   ],
   "source": [
    "class GrandFather(): # Parent -1\n",
    "    variable = \"koushil\" # class variabel\n",
    "    def get_addition(self,x,y):\n",
    "        print(\"This is addition method\")\n",
    "        add  = x + y\n",
    "        print(f\" Addition of {x} and {y} is {add}\")\n",
    "class FatherClass(): # Parent-2\n",
    "    def get_multiplication(self,m,n):\n",
    "        print(\"Multiplication method\")\n",
    "        return (m*n)\n",
    "class ChildClass(GrandFather,FatherClass):# Child class\n",
    "    def __init__(self,a,b):\n",
    "        self.a = a \n",
    "        self.b = b\n",
    "        print(\"We are in init method of child class\")\n",
    "        super().__init__()\n",
    "    def get_add(self):\n",
    "        subtraction=self.a - self.b\n",
    "        return subtraction\n",
    "obj = ChildClass(1,5)\n",
    "# obj.get_addition(4,8)\n",
    "obj.get_multiplication(12,10)\n",
    "# obj.variable\n",
    "obj.get_add()"
   ]
  },
  {
   "cell_type": "markdown",
   "id": "15aa19b0",
   "metadata": {},
   "source": [
    "## 4) Hierachical Inheritance"
   ]
  },
  {
   "cell_type": "code",
   "execution_count": null,
   "id": "728b2bac",
   "metadata": {},
   "outputs": [],
   "source": [
    "class Parent(): # Parent/Base/Super class\n",
    "    pass\n",
    "class Child1(Parent):# Child 1/Deriverd class-1\n",
    "    pass\n",
    "class Child2(Parent):\n",
    "    pass\n",
    "obj1 = Child1()\n",
    "\n",
    "obj2 = Child2()\n"
   ]
  },
  {
   "cell_type": "code",
   "execution_count": 28,
   "id": "45105d12",
   "metadata": {},
   "outputs": [
    {
     "name": "stdout",
     "output_type": "stream",
     "text": [
      "Child1 method\n",
      "\n",
      "Child2 method\n",
      "Parent class method\n"
     ]
    }
   ],
   "source": [
    "class Parent():\n",
    "    def get_parent_class(self):\n",
    "        print(\"Parent class method\")\n",
    "class Child1(Parent):\n",
    "    def get_child1(self):\n",
    "        print(\"Child1 method\")\n",
    "class Child2(Parent):\n",
    "    def get_child2(self):\n",
    "        print(\"Child2 method\")\n",
    "obj1=Child1()\n",
    "obj1.get_child1()\n",
    "\n",
    "print()\n",
    "obj2=Child2()\n",
    "obj2.get_child2()\n",
    "obj2.get_parent_class()"
   ]
  },
  {
   "cell_type": "markdown",
   "id": "56949235",
   "metadata": {},
   "source": [
    "## 5) Hybrid Inheritance"
   ]
  },
  {
   "cell_type": "code",
   "execution_count": 2,
   "id": "b586719c",
   "metadata": {},
   "outputs": [],
   "source": [
    "class Parent():\n",
    "    pass\n",
    "class Child1(Parent): # Derived class -1\n",
    "    pass\n",
    "class Child2(Parent): # Derived class-2\n",
    "    pass\n",
    "class GrandChildClass(Child1,Child2):\n",
    "    pass\n",
    "obj = GrandChildClass()\n"
   ]
  },
  {
   "cell_type": "code",
   "execution_count": 29,
   "id": "17682ff3",
   "metadata": {},
   "outputs": [
    {
     "name": "stdout",
     "output_type": "stream",
     "text": [
      "Child1 method\n",
      "Child2 method\n",
      "it is inheriting from child1 and child2 class\n",
      "Child1 method\n"
     ]
    }
   ],
   "source": [
    "class Parent():\n",
    "    variabl1 = \"Python\"\n",
    "    def get_parent_class(self):\n",
    "        print(\"Parent class method\")\n",
    "class Child1(Parent):\n",
    "    def get_child1(self):\n",
    "        print(\"Child1 method\")\n",
    "class Child2(Parent):\n",
    "    def get_child2(self):\n",
    "        print(\"Child2 method\")\n",
    "class GrandChildClass(Child1,Child2):\n",
    "    def get_grandmethod(self):\n",
    "        print(\"it is inheriting from child1 and child2 class\")\n",
    "obj = GrandChildClass()\n",
    "obj.get_child1()\n",
    "obj.get_child2()\n",
    "obj.get_grandmethod()\n",
    "obj.\n",
    "\n",
    "obj1=Child1()\n",
    "obj1.get_child1()"
   ]
  },
  {
   "cell_type": "markdown",
   "id": "97fa3e94",
   "metadata": {},
   "source": [
    "## Overriding method"
   ]
  },
  {
   "cell_type": "raw",
   "id": "a41c4dff",
   "metadata": {},
   "source": [
    "when there are same method / function name in both parent and child class it is called as Overrind method\n",
    "when this happens>>>>> Method / function in child class will get execute"
   ]
  },
  {
   "cell_type": "code",
   "execution_count": 32,
   "id": "fbb22644",
   "metadata": {},
   "outputs": [
    {
     "name": "stdout",
     "output_type": "stream",
     "text": [
      "we are in init method of child class\n",
      "This is init method of parent class\n",
      "self.name>>. Virat\n",
      "this is student roll number method>>>> where roll number is 100\n"
     ]
    }
   ],
   "source": [
    "class Name():# Parent class\n",
    "    def __init__(self,name):\n",
    "        self.name = name\n",
    "        print(\"This is init method of parent class\")\n",
    "        print(\"self.name>>.\",self.name)\n",
    "    def get_student_roll_number(self):\n",
    "        print(\"this is student roll number method>>>> where roll number is 100\")\n",
    "class StudentInfo(Name):# Child\n",
    "    def __init__(self,name,roll_number,age,marks):\n",
    "        print(\"we are in init method of child class\")\n",
    "        super().__init__(name)# calling init method of parent class\n",
    "        self.roll_number = roll_number\n",
    "        self.age         = age\n",
    "        self.marks       = marks\n",
    "    def get_student_roll_number(self):\n",
    "        print(\"this is student roll number method>>>> where roll number is 888\",)\n",
    "    def get_student_age(self):\n",
    "#         self.get_student_roll_number() # this is student roll number method>>>> where roll number is 100\n",
    "        super().get_student_roll_number()\n",
    "obj = StudentInfo(\"Virat\",555,45,\"85%\")\n",
    "# obj.get_student_roll_number()\n",
    "# print(\"*\"*100)\n",
    "obj.get_student_age()"
   ]
  },
  {
   "cell_type": "code",
   "execution_count": 7,
   "id": "e26f0005",
   "metadata": {},
   "outputs": [
    {
     "name": "stdout",
     "output_type": "stream",
     "text": [
      "Class variable is >>> Mumbai\n",
      "Location is>>>. Pune\n"
     ]
    }
   ],
   "source": [
    "class ClassName(): # Parent class\n",
    "    city = \"Mumbai\"\n",
    "    \n",
    "    def get_location(self):\n",
    "        print(\"Location is>>>.\",self.city)\n",
    "obj = ClassName()\n",
    "print(\"Class variable is >>>\",obj.city) # Mumbai\n",
    "obj.city = \"Pune\" # we are modifying data from outside of the class\n",
    "obj.get_location() # Pune > calling method\n"
   ]
  },
  {
   "cell_type": "markdown",
   "id": "5cc2bb8b",
   "metadata": {},
   "source": [
    "## Encapsulation"
   ]
  },
  {
   "cell_type": "raw",
   "id": "fd05e1db",
   "metadata": {},
   "source": [
    ">> Used to restrict the access of variables and methods from outside of the class\n",
    ">> Protecting data from Modification or to prevent accidental damages/ modfification"
   ]
  },
  {
   "cell_type": "code",
   "execution_count": 13,
   "id": "ab016cca",
   "metadata": {},
   "outputs": [
    {
     "name": "stdout",
     "output_type": "stream",
     "text": [
      "Class variable is >>> Mumbai\n",
      "Location is>>>. Delhi\n"
     ]
    }
   ],
   "source": [
    "class ClassName(): # Parent class\n",
    "    city = \"Mumbai\"\n",
    "    \n",
    "    def get_location(self):\n",
    "        print(\"Location is>>>.\",self.city)\n",
    "obj = ClassName()\n",
    "print(\"Class variable is >>>\",obj.city) # Mumbai\n",
    "obj.city = \"Delhi\" # we are modifying data from outside of the class\n",
    "obj.get_location() # Delhi > calling method"
   ]
  },
  {
   "cell_type": "code",
   "execution_count": 23,
   "id": "165247d7",
   "metadata": {},
   "outputs": [
    {
     "name": "stdout",
     "output_type": "stream",
     "text": [
      "We are in init method of parent class\n",
      "City>>>> Delhi_city\n",
      "State>>> Delhi\n"
     ]
    }
   ],
   "source": [
    "class TestClass():\n",
    "    var1 = 1000\n",
    "    def __init__(self):\n",
    "        print(\"We are in init method of parent class\")\n",
    "        self.city  = \"Mumbai\"\n",
    "        self.state = \"Maharashtra\"\n",
    "    def get_result(self):\n",
    "        print(\"City>>>>\",self.city)\n",
    "        print(\"State>>>\",self.state)\n",
    "obj = TestClass()\n",
    "obj.city = \"Delhi_city\" # update\n",
    "obj.state = \"Delhi\"  # update\n",
    "obj.get_result()"
   ]
  },
  {
   "cell_type": "code",
   "execution_count": 24,
   "id": "65da67ac",
   "metadata": {},
   "outputs": [
    {
     "name": "stdout",
     "output_type": "stream",
     "text": [
      "We are in init method of parent class\n",
      "City>>>> Delhi_city\n",
      "State>>> Delhi\n"
     ]
    }
   ],
   "source": [
    "class TestClass():\n",
    "    var1 = 1000\n",
    "    def __init__(self):\n",
    "        print(\"We are in init method of parent class\")\n",
    "        self.__city  = \"Mumbai\" # Private instance variable\n",
    "        self.__state = \"Maharashtra\" # Private instance variable\n",
    "    def get_result(self):\n",
    "        print(\"City>>>>\",self.city) # Public instance variable\n",
    "        print(\"State>>>\",self.state) # Public instance variable\n",
    "obj = TestClass()\n",
    "obj.city = \"Delhi_city\" # updating value of city\n",
    "obj.state = \"Delhi\"  # updating value of state\n",
    "obj.get_result()"
   ]
  },
  {
   "cell_type": "code",
   "execution_count": 26,
   "id": "baf069b5",
   "metadata": {},
   "outputs": [
    {
     "name": "stdout",
     "output_type": "stream",
     "text": [
      "We are in init method of parent class\n",
      "City>>>> Mumbai\n",
      "State>>> Maharashtra\n",
      "class variable>>>> 1000\n"
     ]
    }
   ],
   "source": [
    "class TestClass():\n",
    "    var1 = 1000\n",
    "    def __init__(self):\n",
    "        print(\"We are in init method of parent class\")\n",
    "        self.__city  = \"Mumbai\" # Private instance variable\n",
    "        self.__state = \"Maharashtra\" # Private instance variable\n",
    "    def get_result(self):\n",
    "        print(\"City>>>>\",self.__city) # Private instance variable\n",
    "        print(\"State>>>\",self.__state) # Private instance variable\n",
    "        print(\"class variable>>>>\",self.var1)\n",
    "obj = TestClass()\n",
    "obj.city = \"Delhi_city\" # not updating value of city\n",
    "obj.state = \"Delhi\"  # not updating value of state\n",
    "obj.get_result()"
   ]
  },
  {
   "cell_type": "code",
   "execution_count": 27,
   "id": "15fb3766",
   "metadata": {},
   "outputs": [
    {
     "name": "stdout",
     "output_type": "stream",
     "text": [
      "We are in init method of parent class\n",
      "City>>>> Mumbai\n",
      "State>>> Maharashtra\n",
      "class variable>>>> 1111\n"
     ]
    }
   ],
   "source": [
    "class TestClass():\n",
    "    var1 = 1000\n",
    "    def __init__(self):\n",
    "        print(\"We are in init method of parent class\")\n",
    "        self.__city  = \"Mumbai\" # Private instance variable\n",
    "        self.__state = \"Maharashtra\" # Private instance variable\n",
    "    def get_result(self):\n",
    "        print(\"City>>>>\",self.__city) # Private instance variable\n",
    "        print(\"State>>>\",self.__state) # Private instance variable\n",
    "        print(\"class variable>>>>\",self.var1)\n",
    "obj = TestClass()\n",
    "obj.city = \"Delhi_city\" # not updating value of city\n",
    "obj.state = \"Delhi\"  # not updating value of state\n",
    "obj.var1 = 1111 # updating\n",
    "obj.get_result()"
   ]
  },
  {
   "cell_type": "code",
   "execution_count": 28,
   "id": "52d440fb",
   "metadata": {},
   "outputs": [
    {
     "name": "stdout",
     "output_type": "stream",
     "text": [
      "We are in init method of parent class\n",
      "City>>>> Mumbai\n",
      "State>>> Maharashtra\n",
      "class variable>>>> 1000\n"
     ]
    }
   ],
   "source": [
    "class TestClass():\n",
    "    __var1 = 1000 # Private class variable\n",
    "    def __init__(self):\n",
    "        print(\"We are in init method of parent class\")\n",
    "        self.__city  = \"Mumbai\" # Private instance variable\n",
    "        self.__state = \"Maharashtra\" # Private instance variable\n",
    "    def get_result(self):\n",
    "        print(\"City>>>>\",self.__city) # Private instance variable\n",
    "        print(\"State>>>\",self.__state) # Private instance variable\n",
    "        print(\"class variable>>>>\",self.__var1)\n",
    "obj = TestClass()\n",
    "obj.city = \"Delhi_city\" # not updating value of city\n",
    "obj.state = \"Delhi\"  # not updating value of state\n",
    "obj.var1 = 1111 # not updating\n",
    "obj.get_result()"
   ]
  },
  {
   "cell_type": "code",
   "execution_count": null,
   "id": "3b649701",
   "metadata": {},
   "outputs": [],
   "source": []
  }
 ],
 "metadata": {
  "kernelspec": {
   "display_name": "Python 3",
   "language": "python",
   "name": "python3"
  },
  "language_info": {
   "codemirror_mode": {
    "name": "ipython",
    "version": 3
   },
   "file_extension": ".py",
   "mimetype": "text/x-python",
   "name": "python",
   "nbconvert_exporter": "python",
   "pygments_lexer": "ipython3",
   "version": "3.8.8"
  }
 },
 "nbformat": 4,
 "nbformat_minor": 5
}
