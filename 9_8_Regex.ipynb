{
 "cells": [
  {
   "cell_type": "markdown",
   "id": "be0cb1b0",
   "metadata": {},
   "source": [
    "## 2) re.sub()"
   ]
  },
  {
   "cell_type": "code",
   "execution_count": null,
   "id": "3d92da75",
   "metadata": {},
   "outputs": [],
   "source": [
    "re.sub(pattern,new_str,text)\n",
    "it is used replace occurences of particular text/substring with substring"
   ]
  },
  {
   "cell_type": "code",
   "execution_count": 3,
   "id": "02581d60",
   "metadata": {},
   "outputs": [
    {
     "name": "stdout",
     "output_type": "stream",
     "text": [
      "Machin learning  5678 and data sciecne \n"
     ]
    }
   ],
   "source": [
    "str1 = \"Machin learning 1234 5678 and data sciecne 5889\"\n",
    "str1 = str1.replace(\"1234\",\"\")\n",
    "str1 = str1.replace(\"5889\",\"\")\n",
    "print(str1)"
   ]
  },
  {
   "cell_type": "code",
   "execution_count": 2,
   "id": "a32da840",
   "metadata": {},
   "outputs": [
    {
     "name": "stdout",
     "output_type": "stream",
     "text": [
      "Machin learning   and data sciecne \n"
     ]
    }
   ],
   "source": [
    "import re\n",
    "str1 = \"Machin learning 1234 5678 and data sciecne 5889\"\n",
    "result = re.sub(\"\\d\",\"\",str1)\n",
    "print(result)"
   ]
  },
  {
   "cell_type": "code",
   "execution_count": 4,
   "id": "6f60947c",
   "metadata": {},
   "outputs": [
    {
     "name": "stdout",
     "output_type": "stream",
     "text": [
      "Machine learning ML is a type of artificial\n",
      "intelligence AI that allows software applications \n",
      "to become more accurate at predicting outcomes\n",
      "without being explicitly programmed to do so.\n"
     ]
    }
   ],
   "source": [
    "str1 = \"\"\"Machine learning (ML) is a type of artificial\n",
    "intelligence (AI) that allows software applications \n",
    "to become more accurate at predicting outcomes\n",
    "without being explicitly programmed to do so.\"\"\"\n",
    "result = re.sub(\"[()]\",\"\",str1)\n",
    "print(result)"
   ]
  },
  {
   "cell_type": "markdown",
   "id": "1feb573a",
   "metadata": {},
   "source": [
    "## 3) re.search()"
   ]
  },
  {
   "cell_type": "raw",
   "id": "37d86f34",
   "metadata": {},
   "source": [
    "it searches for a match / pattern and it returns an object of \"first\" occurence only"
   ]
  },
  {
   "cell_type": "code",
   "execution_count": 5,
   "id": "bb17113a",
   "metadata": {},
   "outputs": [
    {
     "name": "stdout",
     "output_type": "stream",
     "text": [
      "['9852647894', '7894561230']\n"
     ]
    }
   ],
   "source": [
    "text = \"\"\"Mobile number 9852647894\n",
    "            7894561230\n",
    "       \"\"\"\n",
    "result = re.findall(\"\\d{10}\",text)\n",
    "print(result)"
   ]
  },
  {
   "cell_type": "code",
   "execution_count": 10,
   "id": "aa5a94b2",
   "metadata": {},
   "outputs": [
    {
     "name": "stdout",
     "output_type": "stream",
     "text": [
      "<re.Match object; span=(14, 24), match='9852647894'>\n",
      "\n",
      "14\n",
      "\n",
      "24\n",
      "\n",
      "9852647894\n",
      "\n",
      "(14, 24)\n"
     ]
    }
   ],
   "source": [
    "text = \"\"\"Mobile number 9852647894\n",
    "            7894561230\n",
    "       \"\"\"\n",
    "result = re.search(\"\\d{10}\",text)\n",
    "print(result)\n",
    "print()\n",
    "print(result.start())\n",
    "print()\n",
    "print(result.end())\n",
    "print()\n",
    "print(result.group())\n",
    "print()\n",
    "print(result.span())"
   ]
  },
  {
   "cell_type": "markdown",
   "id": "322b33c2",
   "metadata": {},
   "source": [
    "## 4) re.match()"
   ]
  },
  {
   "cell_type": "raw",
   "id": "9419b215",
   "metadata": {},
   "source": [
    "check for 1st index of string / 1st position"
   ]
  },
  {
   "cell_type": "code",
   "execution_count": 16,
   "id": "60135187",
   "metadata": {},
   "outputs": [
    {
     "name": "stdout",
     "output_type": "stream",
     "text": [
      "None\n",
      "**********\n"
     ]
    }
   ],
   "source": [
    "text = \"\"\"Mobile number 9852647894\n",
    "            7894561230\n",
    "       \"\"\"\n",
    "result = re.match(\"\\d{10}\",text)\n",
    "print(result)\n",
    "print(\"*\"*10)"
   ]
  },
  {
   "cell_type": "code",
   "execution_count": 15,
   "id": "bf7494b7",
   "metadata": {},
   "outputs": [
    {
     "name": "stdout",
     "output_type": "stream",
     "text": [
      "<re.Match object; span=(0, 10), match='9852647894'>\n",
      "**********\n",
      "9852647894\n"
     ]
    }
   ],
   "source": [
    "text = \"\"\"9852647894\n",
    "            7894561230\n",
    "       \"\"\"\n",
    "result = re.match(\"\\d{10}\",text)\n",
    "print(result)\n",
    "print(\"*\"*10)\n",
    "print(result.group())"
   ]
  },
  {
   "cell_type": "code",
   "execution_count": 17,
   "id": "9dc9c845",
   "metadata": {},
   "outputs": [
    {
     "name": "stdout",
     "output_type": "stream",
     "text": [
      "Match found\n",
      "9852647894\n"
     ]
    }
   ],
   "source": [
    "text = \"\"\"9852647894\n",
    "            7894561230\n",
    "       \"\"\"\n",
    "result = re.match(\"\\d{10}\",text)\n",
    "if result:\n",
    "    print(\"Match found\")\n",
    "    print(result.group())\n",
    "else:\n",
    "    print(\"Match not found\")"
   ]
  },
  {
   "cell_type": "code",
   "execution_count": 18,
   "id": "2d4fe81b",
   "metadata": {},
   "outputs": [
    {
     "name": "stdout",
     "output_type": "stream",
     "text": [
      "Match not found\n"
     ]
    }
   ],
   "source": [
    "text = \"\"\" 9852647894\n",
    "            7894561230\n",
    "       \"\"\"\n",
    "result = re.match(\"\\d{10}\",text)\n",
    "if result:\n",
    "    print(\"Match found\")\n",
    "    print(result.group())\n",
    "else:\n",
    "    print(\"Match not found\")"
   ]
  },
  {
   "cell_type": "raw",
   "id": "7f821d5e",
   "metadata": {},
   "source": [
    "Note:\n",
    "    1) re.findall(): It will iterate over and all the lines of text/string file and it will return all occurences pf matches of pattern\n",
    "    in a single step\n",
    "    \n",
    "    2) re.search(): it will only return the 1st occurence of the match with specified pattern\n",
    "    > it search whole string or text if substring found any where in whole string and then it will return an object\n",
    "    \n",
    "    3) re.match():\n",
    "    it search only from beginning of string or 1st index and it will return an object of it."
   ]
  },
  {
   "cell_type": "code",
   "execution_count": null,
   "id": "64628ac9",
   "metadata": {},
   "outputs": [],
   "source": [
    "Special sequences > pre defined characters\n",
    "\\d\n",
    "\\D\n",
    "\\w\n",
    "\\W\n",
    "\\b\n",
    "\\S\n",
    "\\s"
   ]
  },
  {
   "cell_type": "markdown",
   "id": "b58f2e0b",
   "metadata": {},
   "source": [
    "## Metacharacters"
   ]
  },
  {
   "cell_type": "raw",
   "id": "0849fdba",
   "metadata": {},
   "source": [
    "Characters with special meaning >  Quantifiers "
   ]
  },
  {
   "cell_type": "code",
   "execution_count": 19,
   "id": "c80edd5b",
   "metadata": {},
   "outputs": [
    {
     "name": "stdout",
     "output_type": "stream",
     "text": [
      "['9856214785']\n"
     ]
    }
   ],
   "source": [
    "text = \"Python and Data Sciecne 9856214785\"\n",
    "result = re.findall(\"\\d{10}\",text)\n",
    "print(result)"
   ]
  },
  {
   "cell_type": "markdown",
   "id": "8c6f7bdb",
   "metadata": {},
   "source": [
    "## 1) + (Plus)"
   ]
  },
  {
   "cell_type": "raw",
   "id": "67c4f426",
   "metadata": {},
   "source": [
    "+ > One or more occurences"
   ]
  },
  {
   "cell_type": "code",
   "execution_count": 21,
   "id": "af3196cc",
   "metadata": {},
   "outputs": [
    {
     "name": "stdout",
     "output_type": "stream",
     "text": [
      "Machine learning (ML)           is a type of artificial\n",
      "intelligence (AI) that allows software applications \n",
      "to become more accurate                   at predicting outcomes\n",
      "without being explicitly        programmed to do so.\n"
     ]
    }
   ],
   "source": [
    "str1 = \"\"\"Machine learning (ML)           is a type of artificial\n",
    "intelligence (AI) that allows software applications \n",
    "to become more accurate                   at predicting outcomes\n",
    "without being explicitly        programmed to do so.\"\"\"\n",
    "result  = re.sub(\"[ ]\",\" \",str1)\n",
    "print(result)"
   ]
  },
  {
   "cell_type": "code",
   "execution_count": 24,
   "id": "d3530a09",
   "metadata": {},
   "outputs": [
    {
     "name": "stdout",
     "output_type": "stream",
     "text": [
      "Machine learning (ML)    is a type of artificial\n",
      "intelligence (AI) that allows software applications \n",
      "to become more accurate     at predicting outcomes\n",
      "without being explicitly programmed to do so.\n"
     ]
    }
   ],
   "source": [
    "str1 = \"\"\"Machine learning (ML)           is a type of artificial\n",
    "intelligence (AI) that allows software applications \n",
    "to become more accurate                   at predicting outcomes\n",
    "without being explicitly        programmed to do so.\"\"\"\n",
    "result  = re.sub(\"[ ]{8}\",\" \",str1)\n",
    "print(result)"
   ]
  },
  {
   "cell_type": "code",
   "execution_count": 25,
   "id": "51195923",
   "metadata": {},
   "outputs": [
    {
     "name": "stdout",
     "output_type": "stream",
     "text": [
      "Machine learning (ML) is a type of artificial\n",
      "intelligence (AI) that allows software applications \n",
      "to become more accurate at predicting outcomes\n",
      "without being explicitly programmed to do so.\n"
     ]
    }
   ],
   "source": [
    "str1 = \"\"\"Machine learning (ML)           is a type of artificial\n",
    "intelligence (AI) that allows software applications \n",
    "to become more accurate                   at predicting outcomes\n",
    "without being explicitly        programmed to do so.\"\"\"\n",
    "result  = re.sub(\"[ ]+\",\" \",str1)\n",
    "print(result)"
   ]
  },
  {
   "cell_type": "code",
   "execution_count": 26,
   "id": "5ed2a2a5",
   "metadata": {},
   "outputs": [
    {
     "name": "stdout",
     "output_type": "stream",
     "text": [
      "Machine learning (ML) is a type of artificial intelligence (AI) that allows software applications to become more accurate at predicting outcomes without being explicitly programmed to do so.\n"
     ]
    }
   ],
   "source": [
    "str1 = \"\"\"Machine learning (ML)           is a type of artificial\n",
    "intelligence (AI) that allows software applications \n",
    "to become more accurate                   at predicting outcomes\n",
    "without being explicitly        programmed to do so.\"\"\"\n",
    "result  = re.sub(\"\\s+\",\" \",str1)\n",
    "print(result)"
   ]
  },
  {
   "cell_type": "code",
   "execution_count": 27,
   "id": "24e0700d",
   "metadata": {},
   "outputs": [
    {
     "name": "stdout",
     "output_type": "stream",
     "text": [
      "['python', 'python']\n"
     ]
    }
   ],
   "source": [
    "text = \"python and data science pythhhon pytttthon python pythhon\"\n",
    "result = re.findall(\"python\",text)\n",
    "print(result)"
   ]
  },
  {
   "cell_type": "code",
   "execution_count": 28,
   "id": "45cf72df",
   "metadata": {},
   "outputs": [
    {
     "name": "stdout",
     "output_type": "stream",
     "text": [
      "['python', 'pythhhon', 'python', 'pythhon']\n"
     ]
    }
   ],
   "source": [
    "text = \"python and data science pythhhon pytttthon python pythhon\"\n",
    "result = re.findall(\"pyth+on\",text)\n",
    "print(result)  # python pythhhon"
   ]
  },
  {
   "cell_type": "code",
   "execution_count": 29,
   "id": "656da578",
   "metadata": {},
   "outputs": [
    {
     "name": "stdout",
     "output_type": "stream",
     "text": [
      "['python', 'pythhhon', 'pytttthon', 'python', 'pythhon']\n"
     ]
    }
   ],
   "source": [
    "text = \"python and data science pythhhon pytttthon python pythhon\"\n",
    "result = re.findall(\"pyt+h+on\",text)\n",
    "print(result)  # python pythhhon"
   ]
  },
  {
   "cell_type": "code",
   "execution_count": 30,
   "id": "40432ad3",
   "metadata": {},
   "outputs": [
    {
     "name": "stdout",
     "output_type": "stream",
     "text": [
      "                 (  )                                  \n",
      "             (  )                                   \n",
      "                                                                \n",
      "                                                   .\n"
     ]
    }
   ],
   "source": [
    "str1 = \"\"\"Machine learning (ML)           is a type of artificial\n",
    "intelligence (AI) that allows software applications \n",
    "to become more accurate                   at predicting outcomes\n",
    "without being explicitly        programmed to do so.\"\"\"\n",
    "result = re.sub(\"[\\w]\",\" \",str1)\n",
    "print(result)"
   ]
  },
  {
   "cell_type": "code",
   "execution_count": 31,
   "id": "cf2aee4f",
   "metadata": {},
   "outputs": [
    {
     "name": "stdout",
     "output_type": "stream",
     "text": [
      "Machine learning  ML            is a type of artificial intelligence  AI  that allows software applications  to become more accurate                   at predicting outcomes without being explicitly        programmed to do so \n"
     ]
    }
   ],
   "source": [
    "str1 = \"\"\"Machine learning (ML)           is a type of artificial\n",
    "intelligence (AI) that allows software applications \n",
    "to become more accurate                   at predicting outcomes\n",
    "without being explicitly        programmed to do so.\"\"\"\n",
    "result = re.sub(\"[^\\w]\",\" \",str1)\n",
    "print(result)"
   ]
  },
  {
   "cell_type": "code",
   "execution_count": 34,
   "id": "2afbab48",
   "metadata": {},
   "outputs": [
    {
     "name": "stdout",
     "output_type": "stream",
     "text": [
      "Machine learning ML is a type of artificial intelligence AI that allows software applications to become more accurate at predicting outcomes without being explicitly programmed to do so\n"
     ]
    }
   ],
   "source": [
    "str1 = \"\"\"Machine learning (ML)           is a type of artificial\n",
    "intelligence (AI) that allows software applications \n",
    "to become more accurate                   at predicting outcomes\n",
    "without being explicitly        programmed to do so.\"\"\"\n",
    "result = re.findall(\"[A-z]+\",str1)\n",
    "print(\" \".join(result))"
   ]
  },
  {
   "cell_type": "markdown",
   "id": "ac2edd15",
   "metadata": {},
   "source": [
    "## 2) *"
   ]
  },
  {
   "cell_type": "code",
   "execution_count": null,
   "id": "5d5ffdad",
   "metadata": {},
   "outputs": [],
   "source": [
    "* > Zero or more occurences  (til new line start)"
   ]
  },
  {
   "cell_type": "code",
   "execution_count": 35,
   "id": "1b1fb625",
   "metadata": {},
   "outputs": [
    {
     "name": "stdout",
     "output_type": "stream",
     "text": [
      "['pyt', 'pyt', 'pyt', 'pyt', 'pyt'] <>>>> 5\n"
     ]
    }
   ],
   "source": [
    "text = \"python and data science pythhhon pytttthon python pythhon\"\n",
    "result = re.findall(\"pyt\",text)\n",
    "print(result,\"<>>>>\",len(result))"
   ]
  },
  {
   "cell_type": "code",
   "execution_count": 36,
   "id": "8b521a66",
   "metadata": {},
   "outputs": [
    {
     "name": "stdout",
     "output_type": "stream",
     "text": [
      "['pyt', 'pyt', 'pyt', 'pyt', 'pyt'] <>>>> 5\n"
     ]
    }
   ],
   "source": [
    "text = \"\"\"python and data science pythhhon pytttthon python pyhhon \n",
    "pyhon pyttthon\"\"\"\n",
    "result = re.findall(\"pyt\",text)\n",
    "print(result,\"<>>>>\",len(result))"
   ]
  },
  {
   "cell_type": "code",
   "execution_count": 37,
   "id": "d87d766c",
   "metadata": {},
   "outputs": [
    {
     "name": "stdout",
     "output_type": "stream",
     "text": [
      "['pyt', 'pyt', 'pytttt', 'pyt', 'pyttt'] <>>>> 5\n"
     ]
    }
   ],
   "source": [
    "text = \"\"\"python and data science pythhhon pytttthon python pyhhon \n",
    "pyhon pyttthon\"\"\"\n",
    "result = re.findall(\"pyt+\",text)\n",
    "print(result,\"<>>>>\",len(result))"
   ]
  },
  {
   "cell_type": "code",
   "execution_count": 38,
   "id": "0a645e0f",
   "metadata": {},
   "outputs": [
    {
     "name": "stdout",
     "output_type": "stream",
     "text": [
      "['pyt', 'pyt', 'pytttt', 'pyt', 'py', 'py', 'pyttt'] <>>>> 7\n"
     ]
    }
   ],
   "source": [
    "text = \"\"\"python and data science pythhhon pytttthon python pyhhon \n",
    "pyhon pyttthon\"\"\"\n",
    "result = re.findall(\"pyt*\",text)\n",
    "print(result,\"<>>>>\",len(result))"
   ]
  },
  {
   "cell_type": "code",
   "execution_count": 39,
   "id": "62f549f4",
   "metadata": {},
   "outputs": [
    {
     "name": "stdout",
     "output_type": "stream",
     "text": [
      "['python', 'pytttthon', 'python', 'pyhon', 'pyttthon'] <>>>> 5\n"
     ]
    }
   ],
   "source": [
    "text = \"\"\"python and data science pythhhon pytttthon python pyhhon \n",
    "pyhon pyttthon\"\"\"\n",
    "result = re.findall(\"pyt*hon\",text)\n",
    "print(result,\"<>>>>\",len(result)) # python pytttthon pyhon"
   ]
  },
  {
   "cell_type": "code",
   "execution_count": 19,
   "id": "01bfeaa7",
   "metadata": {},
   "outputs": [
    {
     "name": "stdout",
     "output_type": "stream",
     "text": [
      "['man', 'man']\n"
     ]
    }
   ],
   "source": [
    "text = \"batman and batwoman\"\n",
    "result= re.findall(\"man\",text) # batman batwoman\n",
    "print(result)"
   ]
  },
  {
   "cell_type": "code",
   "execution_count": 8,
   "id": "cebc755f",
   "metadata": {},
   "outputs": [
    {
     "name": "stdout",
     "output_type": "stream",
     "text": [
      "['batman', 'batwoman']\n"
     ]
    }
   ],
   "source": [
    "text = \"batman and batwoman\"\n",
    "result= re.findall(\"batw*o*man\",text) # batman batwoman\n",
    "print(result)"
   ]
  },
  {
   "cell_type": "code",
   "execution_count": 2,
   "id": "1ef4009d",
   "metadata": {},
   "outputs": [],
   "source": [
    "import re"
   ]
  },
  {
   "cell_type": "code",
   "execution_count": 3,
   "id": "c9b805f8",
   "metadata": {},
   "outputs": [
    {
     "name": "stdout",
     "output_type": "stream",
     "text": [
      "['batman', 'batwoman']\n"
     ]
    }
   ],
   "source": [
    "text = \"batman and batwoman\"\n",
    "result= re.findall(\"batw*o*m[a|e]n\",text) # batman batwoman\n",
    "print(result)"
   ]
  },
  {
   "cell_type": "code",
   "execution_count": 42,
   "id": "a848588d",
   "metadata": {},
   "outputs": [
    {
     "name": "stdout",
     "output_type": "stream",
     "text": [
      "['batman', 'batwoman', 'batwooooooman']\n"
     ]
    }
   ],
   "source": [
    "text = \"batman and batwoman batwooooooman\"\n",
    "result= re.findall(\"batw*o*man\",text) # batman batwoman\n",
    "print(result)"
   ]
  },
  {
   "cell_type": "markdown",
   "id": "2a6113fe",
   "metadata": {},
   "source": [
    "## 3) dot >(.)"
   ]
  },
  {
   "cell_type": "raw",
   "id": "91973be1",
   "metadata": {},
   "source": [
    "dot (.) >any character except new line (\\n)"
   ]
  },
  {
   "cell_type": "code",
   "execution_count": 43,
   "id": "90399881",
   "metadata": {},
   "outputs": [
    {
     "name": "stdout",
     "output_type": "stream",
     "text": [
      "['p']\n"
     ]
    }
   ],
   "source": [
    "str1 = \"python and data science\"\n",
    "result = re.findall(\"p\",str1)\n",
    "print(result)"
   ]
  },
  {
   "cell_type": "code",
   "execution_count": 44,
   "id": "52f3dbaf",
   "metadata": {},
   "outputs": [
    {
     "name": "stdout",
     "output_type": "stream",
     "text": [
      "['py']\n"
     ]
    }
   ],
   "source": [
    "str1 = \"python and data science\"\n",
    "result = re.findall(\"p.\",str1)\n",
    "print(result)"
   ]
  },
  {
   "cell_type": "code",
   "execution_count": 46,
   "id": "771e4cb3",
   "metadata": {},
   "outputs": [
    {
     "name": "stdout",
     "output_type": "stream",
     "text": [
      "['python']\n"
     ]
    }
   ],
   "source": [
    "str1 = \"python and data science\"\n",
    "result = re.findall(\"p.....\",str1)\n",
    "print(result)"
   ]
  },
  {
   "cell_type": "code",
   "execution_count": 49,
   "id": "021e5c3c",
   "metadata": {},
   "outputs": [
    {
     "data": {
      "text/plain": [
       "['9855555520']"
      ]
     },
     "execution_count": 49,
     "metadata": {},
     "output_type": "execute_result"
    }
   ],
   "source": [
    "text = \"9855555520\"\n",
    "result = re.findall(\"98........\",text)\n",
    "result"
   ]
  },
  {
   "cell_type": "code",
   "execution_count": 51,
   "id": "e4d1587b",
   "metadata": {},
   "outputs": [
    {
     "name": "stdout",
     "output_type": "stream",
     "text": [
      "['python and data science pythhhon pyttthon']\n"
     ]
    }
   ],
   "source": [
    "text = \"\"\"python and data science pythhhon pyttthon\"\"\"\n",
    "result = re.findall(\"pyt.+\",text)\n",
    "print(result)"
   ]
  },
  {
   "cell_type": "code",
   "execution_count": 53,
   "id": "8a8fbead",
   "metadata": {},
   "outputs": [
    {
     "name": "stdout",
     "output_type": "stream",
     "text": [
      "['python', 'pythhhon']\n"
     ]
    }
   ],
   "source": [
    "text = \"\"\"python and data science pythhhon pyttthon\"\"\"\n",
    "result = re.findall(\"py.h+on\",text)\n",
    "print(result) #python pythhhon"
   ]
  },
  {
   "cell_type": "code",
   "execution_count": 5,
   "id": "45af1707",
   "metadata": {},
   "outputs": [
    {
     "name": "stdout",
     "output_type": "stream",
     "text": [
      "['9978564500', '9925896455', '9923654700']\n"
     ]
    }
   ],
   "source": [
    "text = \"\"\"\n",
    "        7894562312\n",
    "        9978564500\n",
    "        9925896455\n",
    "        9923654700\n",
    "       \"\"\"\n",
    "result = re.findall(\"99.*\",text)\n",
    "print(result)"
   ]
  },
  {
   "cell_type": "code",
   "execution_count": 4,
   "id": "fa6357f0",
   "metadata": {},
   "outputs": [
    {
     "name": "stdout",
     "output_type": "stream",
     "text": [
      "['9978564500', '9995896400', '9923654700']\n"
     ]
    }
   ],
   "source": [
    "import re\n",
    "text = \"\"\"\n",
    "        7894562312\n",
    "        9978564500\n",
    "        9995896400\n",
    "        9923654700\n",
    "       \"\"\"\n",
    "result = re.findall(\"9+.*00\",text)\n",
    "print(result)"
   ]
  },
  {
   "cell_type": "code",
   "execution_count": null,
   "id": "f4e54a3f",
   "metadata": {},
   "outputs": [],
   "source": []
  }
 ],
 "metadata": {
  "kernelspec": {
   "display_name": "Python 3",
   "language": "python",
   "name": "python3"
  },
  "language_info": {
   "codemirror_mode": {
    "name": "ipython",
    "version": 3
   },
   "file_extension": ".py",
   "mimetype": "text/x-python",
   "name": "python",
   "nbconvert_exporter": "python",
   "pygments_lexer": "ipython3",
   "version": "3.8.8"
  }
 },
 "nbformat": 4,
 "nbformat_minor": 5
}
